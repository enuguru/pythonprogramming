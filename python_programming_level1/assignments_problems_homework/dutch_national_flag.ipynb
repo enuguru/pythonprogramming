{
 "cells": [
  {
   "cell_type": "markdown",
   "id": "1a1b77de",
   "metadata": {},
   "source": [
    "# dutch national flag problem"
   ]
  },
  {
   "cell_type": "code",
   "execution_count": 7,
   "id": "233a1d52",
   "metadata": {},
   "outputs": [
    {
     "name": "stdout",
     "output_type": "stream",
     "text": [
      "0 0 0 0 0 1 1 1 1 1 2 2 "
     ]
    }
   ],
   "source": [
    "def sort012(a, arr_size):\n",
    "    lo = 0\n",
    "    hi = arr_size - 1\n",
    "    mid = 0\n",
    "    while mid <= hi:\n",
    "        if a[mid] == 0:\n",
    "            a[lo], a[mid] = a[mid], a[lo]\n",
    "            lo = lo + 1\n",
    "            mid = mid + 1\n",
    "        elif a[mid] == 1:\n",
    "            mid = mid + 1\n",
    "        else:\n",
    "            a[mid], a[hi] = a[hi], a[mid]\n",
    "            hi = hi - 1\n",
    "    return a\n",
    "\n",
    "\n",
    "def printArray(a):\n",
    "    for k in a:\n",
    "        print(k, end=' ')\n",
    "\n",
    "\n",
    "arr = [0, 1, 1, 0, 1, 2, 1, 2, 0, 0, 0, 1]\n",
    "arr_size = len(arr)\n",
    "arr = sort012(arr, arr_size)\n",
    "printArray(arr)\n"
   ]
  },
  {
   "cell_type": "code",
   "execution_count": null,
   "id": "d44ce4b0",
   "metadata": {},
   "outputs": [],
   "source": []
  }
 ],
 "metadata": {
  "kernelspec": {
   "display_name": "Python 3 (ipykernel)",
   "language": "python",
   "name": "python3"
  },
  "language_info": {
   "codemirror_mode": {
    "name": "ipython",
    "version": 3
   },
   "file_extension": ".py",
   "mimetype": "text/x-python",
   "name": "python",
   "nbconvert_exporter": "python",
   "pygments_lexer": "ipython3",
   "version": "3.9.7"
  }
 },
 "nbformat": 4,
 "nbformat_minor": 5
}
