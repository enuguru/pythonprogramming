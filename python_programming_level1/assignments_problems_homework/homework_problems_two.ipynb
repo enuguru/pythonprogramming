{
 "cells": [
  {
   "cell_type": "code",
   "execution_count": 3,
   "id": "afcad646",
   "metadata": {},
   "outputs": [
    {
     "name": "stdout",
     "output_type": "stream",
     "text": [
      "{'Digits': 4, 'Alphabets': 9}\n",
      "{'Digits': 3, 'Alphabets': 11}\n"
     ]
    }
   ],
   "source": [
    "\"\"\"\n",
    "Accept a string and calculate the number of alphabets and digits in it. \n",
    "Also, return the values as dictionary\n",
    "\"\"\"\n",
    "def count_alphabets_digits(s):\n",
    "    d = {'Digits':0, 'Alphabets':0}\n",
    "    for ch in s:\n",
    "        if ch.isalpha():\n",
    "            d['Alphabets'] += 1\n",
    "        elif ch.isdigit():\n",
    "            d['Digits'] +=1\n",
    "        else:\n",
    "            pass\n",
    "    return(d)\n",
    "\n",
    "d = count_alphabets_digits('James Bond 0007')\n",
    "print(d)\n",
    "\n",
    "d = count_alphabets_digits('Kholi number 420')\n",
    "print(d)"
   ]
  },
  {
   "cell_type": "code",
   "execution_count": 31,
   "id": "f4ebe492",
   "metadata": {},
   "outputs": [
    {
     "name": "stdout",
     "output_type": "stream",
     "text": [
      "['interesting', 'pretty', 'is', 'session', 'python', 'This']\n",
      "interesting pretty is session python This\n"
     ]
    }
   ],
   "source": [
    "string = \"This python session is pretty interesting\"\n",
    "s = string.split()[::-1]\n",
    "print(s)\n",
    "print(\" \".join(s))"
   ]
  },
  {
   "cell_type": "code",
   "execution_count": 32,
   "id": "0254e5ad",
   "metadata": {},
   "outputs": [
    {
     "name": "stdout",
     "output_type": "stream",
     "text": [
      "True\n"
     ]
    }
   ],
   "source": [
    "import string, sys\n",
    "def ispangram(str1, alphabet=string.ascii_lowercase):\n",
    "    alphaset = set(alphabet)\n",
    "    return alphaset <= set(str1.lower())\n",
    " \n",
    "print ( ispangram('The quick brown fox jumps over the lazy dog')) "
   ]
  },
  {
   "cell_type": "code",
   "execution_count": 34,
   "id": "d4d8245d",
   "metadata": {},
   "outputs": [
    {
     "name": "stdout",
     "output_type": "stream",
     "text": [
      "Yes\n"
     ]
    }
   ],
   "source": [
    "import string\n",
    "\n",
    "def ispangram(str):\n",
    "    alphabet = \"abcdefghijklmnopqrstuvwxyz\"\n",
    "    for char in alphabet:\n",
    "        if char not in str.lower():\n",
    "            return False\n",
    "\n",
    "    return True\n",
    "\n",
    "string = 'the quick brown fox jumps over the lazy dog'\n",
    "if(ispangram(string) == True):\n",
    "    print(\"Yes\")\n",
    "else:\n",
    "    print(\"No\")"
   ]
  },
  {
   "cell_type": "code",
   "execution_count": 36,
   "id": "3fa65952",
   "metadata": {},
   "outputs": [
    {
     "name": "stdout",
     "output_type": "stream",
     "text": [
      "Yes\n"
     ]
    }
   ],
   "source": [
    "import string\n",
    "\n",
    "alphabet = set(string.ascii_lowercase)\n",
    "\n",
    "def ispangram(str):\n",
    "    return not set(alphabet) - set(str)\n",
    "    \n",
    "string = 'the quick brown fox jumps over the lazy dog'\n",
    "if(ispangram(string) == True):\n",
    "    print(\"Yes\")\n",
    "else:\n",
    "    print(\"No\")"
   ]
  },
  {
   "cell_type": "code",
   "execution_count": 41,
   "id": "5f1021a0",
   "metadata": {},
   "outputs": [
    {
     "name": "stdout",
     "output_type": "stream",
     "text": [
      "The strings are anagrams\n"
     ]
    }
   ],
   "source": [
    "def check_if_anagram(str1, str2):\n",
    "    if(sorted(str1)== sorted(str2)):\n",
    "        print(\"The strings are anagrams\")\n",
    "    else:\n",
    "        print(\"The strings aren't anagrams\")\n",
    "\n",
    "s1 =\"listen\"\n",
    "s2 =\"silent\"\n",
    "check_if_anagram(s1, s2)"
   ]
  },
  {
   "cell_type": "code",
   "execution_count": 40,
   "id": "8294b8fc",
   "metadata": {},
   "outputs": [
    {
     "name": "stdout",
     "output_type": "stream",
     "text": [
      "The strings are anagrams.\n"
     ]
    }
   ],
   "source": [
    "from collections import Counter\n",
    "def check_if_anagram(str1, str2):\n",
    "\n",
    "    if(Counter(str1) == Counter(str2)):\n",
    "        print(\"The strings are anagrams.\")\n",
    "    else:\n",
    "        print(\"The strings aren't anagrams.\")\n",
    "\n",
    "s1 = \"listen\"\n",
    "s2 = \"silent\"\n",
    "check_if_anagram(s1, s2)"
   ]
  },
  {
   "cell_type": "code",
   "execution_count": null,
   "id": "f49fb266",
   "metadata": {},
   "outputs": [],
   "source": []
  }
 ],
 "metadata": {
  "kernelspec": {
   "display_name": "Python 3 (ipykernel)",
   "language": "python",
   "name": "python3"
  },
  "language_info": {
   "codemirror_mode": {
    "name": "ipython",
    "version": 3
   },
   "file_extension": ".py",
   "mimetype": "text/x-python",
   "name": "python",
   "nbconvert_exporter": "python",
   "pygments_lexer": "ipython3",
   "version": "3.9.7"
  }
 },
 "nbformat": 4,
 "nbformat_minor": 5
}
