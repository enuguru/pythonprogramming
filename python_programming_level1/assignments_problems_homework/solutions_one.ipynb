{
 "cells": [
  {
   "cell_type": "markdown",
   "id": "a78c65fc",
   "metadata": {},
   "source": [
    "# stock price"
   ]
  },
  {
   "cell_type": "code",
   "execution_count": null,
   "id": "775e02f4",
   "metadata": {},
   "outputs": [],
   "source": [
    "#Amazon $150\n",
    "#Google $99\n",
    "#Facebook $200\n",
    "#Microsoft $105\n",
    "#Apple $175"
   ]
  },
  {
   "cell_type": "code",
   "execution_count": 3,
   "id": "4648f1be",
   "metadata": {},
   "outputs": [
    {
     "data": {
      "text/plain": [
       "{'Amazon': 150, 'Google': 99, 'Facebook': 200, 'Microsoft': 105, 'Apple': 175}"
      ]
     },
     "execution_count": 3,
     "metadata": {},
     "output_type": "execute_result"
    }
   ],
   "source": [
    "stockprice = {\"Amazon\":150, \"Google\":99, \"Facebook\":200, \"Microsoft\":105, \"Apple\":175}\n",
    "stockprice"
   ]
  },
  {
   "cell_type": "code",
   "execution_count": 6,
   "id": "30e2de38",
   "metadata": {},
   "outputs": [
    {
     "data": {
      "text/plain": [
       "{'Google': 99, 'Microsoft': 105, 'Amazon': 150, 'Apple': 175, 'Facebook': 200}"
      ]
     },
     "execution_count": 6,
     "metadata": {},
     "output_type": "execute_result"
    }
   ],
   "source": [
    "newdict= dict(sorted(stockprice.items(), key=lambda item: item[1]))\n",
    "newdict"
   ]
  },
  {
   "cell_type": "code",
   "execution_count": 7,
   "id": "3faa9510",
   "metadata": {},
   "outputs": [
    {
     "data": {
      "text/plain": [
       "{'Amazon': 150, 'Google': 99, 'Facebook': 200, 'Microsoft': 105, 'Apple': 175}"
      ]
     },
     "execution_count": 7,
     "metadata": {},
     "output_type": "execute_result"
    }
   ],
   "source": [
    "stockprice"
   ]
  },
  {
   "cell_type": "code",
   "execution_count": 8,
   "id": "52d7d0f2",
   "metadata": {},
   "outputs": [
    {
     "data": {
      "text/plain": [
       "{'Amazon': 150, 'Apple': 175, 'Facebook': 200, 'Google': 99, 'Microsoft': 105}"
      ]
     },
     "execution_count": 8,
     "metadata": {},
     "output_type": "execute_result"
    }
   ],
   "source": [
    "newdict= dict(sorted(stockprice.items(), key=lambda item: item[0]))\n",
    "newdict"
   ]
  },
  {
   "cell_type": "code",
   "execution_count": 9,
   "id": "61860a5e",
   "metadata": {},
   "outputs": [
    {
     "data": {
      "text/plain": [
       "{'Amazon': 150,\n",
       " 'Google': 99,\n",
       " 'Facebook': 200,\n",
       " 'Microsoft': 105,\n",
       " 'Apple': 175,\n",
       " 'HP': 67}"
      ]
     },
     "execution_count": 9,
     "metadata": {},
     "output_type": "execute_result"
    }
   ],
   "source": [
    "stockprice[\"HP\"] = 67\n",
    "stockprice"
   ]
  },
  {
   "cell_type": "markdown",
   "id": "bef09ee9",
   "metadata": {},
   "source": [
    "# student marks"
   ]
  },
  {
   "cell_type": "code",
   "execution_count": 10,
   "id": "dfd436f5",
   "metadata": {},
   "outputs": [
    {
     "data": {
      "text/plain": [
       "{'Nitish': 0, 'Pallavi': 0, 'Sneha': 0, 'Srivani': 0, 'Kiran': 0}"
      ]
     },
     "execution_count": 10,
     "metadata": {},
     "output_type": "execute_result"
    }
   ],
   "source": [
    "newdict = dict.fromkeys([\"Nitish\", \"Pallavi\", \"Sneha\", \"Srivani\", \"Kiran\"],0)\n",
    "newdict"
   ]
  },
  {
   "cell_type": "code",
   "execution_count": 11,
   "id": "ce614747",
   "metadata": {},
   "outputs": [
    {
     "data": {
      "text/plain": [
       "{'Nitish': [{'BasicElectronics': 97, 'ElectronicsLab': 90, 'PSinC': 87}],\n",
       " 'Pallavi': 0,\n",
       " 'Sneha': 0,\n",
       " 'Srivani': 0,\n",
       " 'Kiran': 0}"
      ]
     },
     "execution_count": 11,
     "metadata": {},
     "output_type": "execute_result"
    }
   ],
   "source": [
    "newdict[\"Nitish\"] = [{\"BasicElectronics\":97, \"ElectronicsLab\":90, \"PSinC\":87}]\n",
    "newdict"
   ]
  },
  {
   "cell_type": "code",
   "execution_count": null,
   "id": "e2e00afd",
   "metadata": {},
   "outputs": [],
   "source": []
  },
  {
   "cell_type": "markdown",
   "id": "caaa6806",
   "metadata": {},
   "source": [
    "# reverse the words in a sentence"
   ]
  },
  {
   "cell_type": "code",
   "execution_count": 2,
   "id": "ab4480b9",
   "metadata": {},
   "outputs": [
    {
     "name": "stdout",
     "output_type": "stream",
     "text": [
      "['This', 'python', 'session', 'is', 'pretty', 'interesting']\n",
      "['interesting', 'pretty', 'is', 'session', 'python', 'This']\n",
      "interesting pretty is session python This\n"
     ]
    }
   ],
   "source": [
    "sentence = \"This python session is pretty interesting\"\n",
    "words = sentence.split()\n",
    "print(words)\n",
    "words_reversed = list(reversed(words))\n",
    "print(words_reversed)\n",
    "print(\" \".join(words_reversed))"
   ]
  },
  {
   "cell_type": "code",
   "execution_count": 3,
   "id": "69a41bf6",
   "metadata": {},
   "outputs": [
    {
     "name": "stdout",
     "output_type": "stream",
     "text": [
      "interesting pretty is session python This\n"
     ]
    }
   ],
   "source": [
    "words = sentence.split()\n",
    "words_reversed = list(reversed(words))\n",
    "print(\" \".join(words_reversed))"
   ]
  },
  {
   "cell_type": "markdown",
   "id": "56ecd504",
   "metadata": {},
   "source": [
    "# collatz conjecture"
   ]
  },
  {
   "cell_type": "code",
   "execution_count": 6,
   "id": "bad48f13",
   "metadata": {},
   "outputs": [
    {
     "name": "stdout",
     "output_type": "stream",
     "text": [
      "Give a number  76\n",
      "76 38 19 58 29 88 44 22 11 34 17 52 26 13 40 20 10 5 16 8 4 2 1 "
     ]
    }
   ],
   "source": [
    "num = int(input(\"Give a number  \"))\n",
    "print(num, end=\" \")\n",
    "while num != 1:\n",
    "    if num % 2 == 0:\n",
    "        num = int(num/2)\n",
    "        print(num,end=\" \")\n",
    "    else:\n",
    "        num = (num*3) + 1\n",
    "        print(num,end=\" \")"
   ]
  },
  {
   "cell_type": "code",
   "execution_count": null,
   "id": "a585f4e8",
   "metadata": {},
   "outputs": [],
   "source": []
  }
 ],
 "metadata": {
  "kernelspec": {
   "display_name": "Python 3 (ipykernel)",
   "language": "python",
   "name": "python3"
  },
  "language_info": {
   "codemirror_mode": {
    "name": "ipython",
    "version": 3
   },
   "file_extension": ".py",
   "mimetype": "text/x-python",
   "name": "python",
   "nbconvert_exporter": "python",
   "pygments_lexer": "ipython3",
   "version": "3.10.13"
  }
 },
 "nbformat": 4,
 "nbformat_minor": 5
}
