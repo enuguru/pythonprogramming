{
 "cells": [
  {
   "cell_type": "code",
   "execution_count": null,
   "id": "1d7b4d2a",
   "metadata": {},
   "outputs": [],
   "source": [
    "nsides = int(input(\"Give the number of sides of the polygon: \"))\n",
    "name = \"\"\n",
    "if nsides == 3:\n",
    "    name = \"Triangle\"\n",
    "elif nsides == 4:\n",
    "    name = \"Quadrilateral\"\n",
    "elif nsides == 5:\n",
    "    name = \"Pentagon\"\n",
    "elif nsides == 6:\n",
    "    name = \"Hexagon\"\n",
    "elif nsides == 7:\n",
    "    name = \"Septagon\"\n",
    "elif nsides == 8:\n",
    "    name = \"Octagon\"\n",
    "elif nsides == 9:\n",
    "    name = \"Nanagon\"\n",
    "elif nsides == 10:\n",
    "    name = \"Decagon\"\n",
    "\n",
    "print(name)"
   ]
  },
  {
   "cell_type": "code",
   "execution_count": null,
   "id": "b68e1a6e",
   "metadata": {},
   "outputs": [],
   "source": [
    "#This Python session is pretty interesting\n",
    "#interesting pretty is session Python This\n",
    "# reverse only words in the sentence as it is"
   ]
  },
  {
   "cell_type": "code",
   "execution_count": 6,
   "id": "82c411b8",
   "metadata": {},
   "outputs": [],
   "source": [
    "sentence = \"This Python session is pretty interesting\""
   ]
  },
  {
   "cell_type": "code",
   "execution_count": 8,
   "id": "ad5c0d90",
   "metadata": {},
   "outputs": [
    {
     "name": "stdout",
     "output_type": "stream",
     "text": [
      "['g', 'n', 'i', 't', 's', 'e', 'r', 'e', 't', 'n', 'i', ' ', 'y', 't', 't', 'e', 'r', 'p', ' ', 's', 'i', ' ', 'n', 'o', 'i', 's', 's', 'e', 's', ' ', 'n', 'o', 'h', 't', 'y', 'P', ' ', 's', 'i', 'h', 'T']\n"
     ]
    }
   ],
   "source": [
    "revr = list(reversed(sentence))\n",
    "print(revr)"
   ]
  },
  {
   "cell_type": "code",
   "execution_count": 21,
   "id": "3c0edd1d",
   "metadata": {},
   "outputs": [
    {
     "name": "stdout",
     "output_type": "stream",
     "text": [
      "Give a string This Python session is pretty interesting\n",
      "['interesting', 'pretty', 'is', 'session', 'Python', 'This']\n",
      "interesting pretty is session Python This\n"
     ]
    }
   ],
   "source": [
    "sentence = input(\"Give a string \").split()\n",
    "revr = list(reversed(sentence))\n",
    "revr = \" \".join(revr)\n",
    "print(revr)"
   ]
  },
  {
   "cell_type": "code",
   "execution_count": 22,
   "id": "bc65ccd5",
   "metadata": {},
   "outputs": [
    {
     "name": "stdout",
     "output_type": "stream",
     "text": [
      "Give a stringThis Python session is pretty interesting\n",
      "interesting pretty is session Python This\n"
     ]
    }
   ],
   "source": [
    "print(\" \".join(list(reversed(input(\"Give a string\").split()))))"
   ]
  },
  {
   "cell_type": "code",
   "execution_count": 28,
   "id": "d5c0e219",
   "metadata": {},
   "outputs": [
    {
     "name": "stdout",
     "output_type": "stream",
     "text": [
      "Give a string This Python session is pretty interesting\n",
      "['This', 'Python', 'session', 'is', 'pretty', 'interesting']\n",
      "['interesting', 'pretty', 'is', 'session', 'Python', 'This']\n"
     ]
    }
   ],
   "source": [
    "sentence = input(\"Give a string \").split()\n",
    "print(sentence)\n",
    "newlist = []\n",
    "for st in reversed(range(len(sentence))):\n",
    "    newlist.append(sentence[st])\n",
    "print(newlist)"
   ]
  },
  {
   "cell_type": "raw",
   "id": "43b30632",
   "metadata": {},
   "source": [
    "6  1,2,3  6\n",
    "28  1,2,4,7, 14   28"
   ]
  },
  {
   "cell_type": "code",
   "execution_count": 34,
   "id": "6b59b6fa",
   "metadata": {},
   "outputs": [
    {
     "name": "stdout",
     "output_type": "stream",
     "text": [
      "6 28 496 8128 "
     ]
    }
   ],
   "source": [
    "for num in range(1,10000):\n",
    "    sum = 0\n",
    "    for val in range(1,num):\n",
    "        if num % val == 0:\n",
    "            sum = sum + val\n",
    "    if num == sum:\n",
    "        print(num, end = \" \")"
   ]
  },
  {
   "cell_type": "code",
   "execution_count": 35,
   "id": "81f29726",
   "metadata": {},
   "outputs": [
    {
     "name": "stdout",
     "output_type": "stream",
     "text": [
      "11\n"
     ]
    }
   ],
   "source": [
    "mystr = \"This python session is very interesting\"\n",
    "count = 0\n",
    "for ch in mystr:\n",
    "    if ch in \"aeiou\":\n",
    "        count = count + 1\n",
    "print(count)"
   ]
  },
  {
   "cell_type": "code",
   "execution_count": 39,
   "id": "7319f1c7",
   "metadata": {},
   "outputs": [
    {
     "name": "stdout",
     "output_type": "stream",
     "text": [
      "{'a': 0, 'e': 4, 'i': 5, 'o': 2, 'u': 0}\n"
     ]
    }
   ],
   "source": [
    "mystr = \"This python session is very interesting\"\n",
    "mystr = mystr.lower()\n",
    "countdict = {\"a\":0, \"e\": 0, \"i\":0, \"o\":0, \"u\":0}\n",
    "for ch in mystr:\n",
    "    if ch in \"aeiou\":\n",
    "        countdict[ch] = countdict[ch] + 1\n",
    "print(countdict)"
   ]
  },
  {
   "cell_type": "code",
   "execution_count": 14,
   "id": "00e254cc",
   "metadata": {},
   "outputs": [
    {
     "name": "stdout",
     "output_type": "stream",
     "text": [
      "Give the month nameJanuary\n",
      "The number of days is 31\n"
     ]
    }
   ],
   "source": [
    "days = 31\n",
    "month = input(\"Give the month name\")\n",
    "if month == \"February\":\n",
    "    days = \"28 or 29\"\n",
    "elif month == \"June\" or month == \"November\" or month == \"April\" or \\\n",
    "     month == \"September\":\n",
    "    days = 30\n",
    "print(\"The number of days is\", days)"
   ]
  },
  {
   "cell_type": "code",
   "execution_count": null,
   "id": "77068145",
   "metadata": {},
   "outputs": [],
   "source": []
  }
 ],
 "metadata": {
  "kernelspec": {
   "display_name": "Python 3 (ipykernel)",
   "language": "python",
   "name": "python3"
  },
  "language_info": {
   "codemirror_mode": {
    "name": "ipython",
    "version": 3
   },
   "file_extension": ".py",
   "mimetype": "text/x-python",
   "name": "python",
   "nbconvert_exporter": "python",
   "pygments_lexer": "ipython3",
   "version": "3.9.13"
  }
 },
 "nbformat": 4,
 "nbformat_minor": 5
}
