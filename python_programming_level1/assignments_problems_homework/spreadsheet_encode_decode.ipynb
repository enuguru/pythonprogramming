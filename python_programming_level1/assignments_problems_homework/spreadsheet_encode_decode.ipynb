{
 "cells": [
  {
   "cell_type": "markdown",
   "id": "6b28a291",
   "metadata": {},
   "source": [
    "# spread sheet decode or excel column decode in simple python"
   ]
  },
  {
   "cell_type": "code",
   "execution_count": 2,
   "id": "eebc7798",
   "metadata": {},
   "outputs": [
    {
     "name": "stdout",
     "output_type": "stream",
     "text": [
      "enter a valid excel column id BC\n",
      "55\n"
     ]
    }
   ],
   "source": [
    "def decode(col): # cd\n",
    "    c=ord('A')\n",
    "    ret=0\n",
    "    for i in col:  # BC\n",
    "        i=ord(i)\n",
    "        ret=(ret * 26)+ i-c+1 # 0, 3, 82 \n",
    "    return ret\n",
    "\n",
    "col = input(\"enter a valid excel column id \")\n",
    "col = col.upper()\n",
    "print(decode(col))"
   ]
  },
  {
   "cell_type": "markdown",
   "id": "360d1d12",
   "metadata": {},
   "source": [
    "# spreadsheet decode or excel column decode - pythonic"
   ]
  },
  {
   "cell_type": "code",
   "execution_count": 3,
   "id": "58e39b7b",
   "metadata": {},
   "outputs": [
    {
     "name": "stdout",
     "output_type": "stream",
     "text": [
      "enter a valid excel column id 55\n",
      "-297\n"
     ]
    }
   ],
   "source": [
    "# this program converts an excel column id to an integer\n",
    "import functools\n",
    "\n",
    "col = input(\"enter a valid excel column id \").upper()\n",
    "# 0 goes to ret, col goes to c variable\n",
    "# it is reverse in reduce function  # abd\n",
    "\n",
    "print(functools.reduce(lambda result,p:result*26+ord(p)-ord('A')+1,col,0)) #bc"
   ]
  },
  {
   "cell_type": "code",
   "execution_count": 4,
   "id": "2b24cc0f",
   "metadata": {},
   "outputs": [
    {
     "name": "stdout",
     "output_type": "stream",
     "text": [
      "enter a valid excel column id AB\n",
      "28\n"
     ]
    }
   ],
   "source": [
    "print(functools.reduce(lambda result,p:result*26+ord(p)-ord('A')+1,input(\"enter a valid excel column id \").upper(),0)) #bc"
   ]
  },
  {
   "cell_type": "markdown",
   "id": "a9c34d73",
   "metadata": {},
   "source": [
    "# spreadsheet encoding or excel column encoding"
   ]
  },
  {
   "cell_type": "code",
   "execution_count": 1,
   "id": "44d2e9b1",
   "metadata": {},
   "outputs": [
    {
     "data": {
      "text/plain": [
       "'BC'"
      ]
     },
     "execution_count": 1,
     "metadata": {},
     "output_type": "execute_result"
    }
   ],
   "source": [
    "def spreadSheetEncoding(n):\n",
    "    alphabets = \"ABCDEFGHIJKLMNOPQRSTUVWXYZ\"\n",
    "    s = \"\"\n",
    "    while n > 0:\n",
    "        n = n-1\n",
    "        s = alphabets[n % 26] + s\n",
    "        n = n // 26\n",
    "    return s\n",
    "\n",
    "spreadSheetEncoding(55)"
   ]
  },
  {
   "cell_type": "code",
   "execution_count": null,
   "id": "224bbfe1",
   "metadata": {},
   "outputs": [],
   "source": []
  }
 ],
 "metadata": {
  "kernelspec": {
   "display_name": "Python 3 (ipykernel)",
   "language": "python",
   "name": "python3"
  },
  "language_info": {
   "codemirror_mode": {
    "name": "ipython",
    "version": 3
   },
   "file_extension": ".py",
   "mimetype": "text/x-python",
   "name": "python",
   "nbconvert_exporter": "python",
   "pygments_lexer": "ipython3",
   "version": "3.9.13"
  }
 },
 "nbformat": 4,
 "nbformat_minor": 5
}
