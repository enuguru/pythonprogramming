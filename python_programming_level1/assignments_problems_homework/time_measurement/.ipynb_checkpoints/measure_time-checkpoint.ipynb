{
 "cells": [
  {
   "cell_type": "code",
   "execution_count": null,
   "metadata": {},
   "outputs": [],
   "source": [
    "num = int(input())\n",
    "total = 0\n",
    "for val in range(1,num):\n",
    "    if num % val == 0:\n",
    "        total = total + val\n",
    "if total == num:\n",
    "    print(num)"
   ]
  },
  {
   "cell_type": "code",
   "execution_count": null,
   "metadata": {},
   "outputs": [],
   "source": [
    "for num in range(1,10000):\n",
    "    total = 0\n",
    "    for val in range(1,num):\n",
    "        if num % val == 0:\n",
    "            total = total + val\n",
    "    if total == num:\n",
    "        print(num)"
   ]
  },
  {
   "cell_type": "code",
   "execution_count": null,
   "metadata": {},
   "outputs": [],
   "source": [
    "names = [\"Ayush\",\"Ravi\",\"Bhageerath\",\"Lakshmi\",\"Prateek\",\"Soumya\",\"Prema\"]\n",
    "yourname = input()\n",
    "if yourname in names:\n",
    "    print(\"you are welcome\")"
   ]
  },
  {
   "cell_type": "code",
   "execution_count": null,
   "metadata": {},
   "outputs": [],
   "source": [
    "names = [\"Ayush\",\"Ravi\",\"Bhageerath\",\"Lakshmi\",\"Prateek\",\"Soumya\",\"Prema\"]\n",
    "yourname = input()\n",
    "if yourname == Ayush or yourname == :\n",
    "    print(\"you are welcome\")"
   ]
  },
  {
   "cell_type": "code",
   "execution_count": 1,
   "metadata": {},
   "outputs": [
    {
     "name": "stdout",
     "output_type": "stream",
     "text": [
      "2 3 5 7 11 13 17 19 23 29 31 37 41 43 47 53 59 61 67 71 73 79 83 89 97 101 103 107 109 113 127 131 137 139 149 151 157 163 167 173 179 181 191 193 197 199 211 223 227 229 233 239 241 251 257 263 269 271 277 281 283 293 307 311 313 317 331 337 347 349 353 359 367 373 379 383 389 397 401 409 419 421 431 433 439 443 449 457 461 463 467 479 487 491 499 503 509 521 523 541 547 557 563 569 571 577 587 593 599 601 607 613 617 619 631 641 643 647 653 659 661 673 677 683 691 701 709 719 727 733 739 743 751 757 761 769 773 787 797 809 811 821 823 827 829 839 853 857 859 863 877 881 883 887 907 911 919 929 937 941 947 953 967 971 977 983 991 997 0.018575668334960938\n"
     ]
    }
   ],
   "source": [
    "import time\n",
    "st = time.time()\n",
    "for num in range(2,1000):\n",
    "    flag = 0\n",
    "    for val in range(2,num):\n",
    "        if num % val == 0:\n",
    "            flag = 1\n",
    "            break\n",
    "    else:\n",
    "        print(num,end=\" \")\n",
    "et = time.time()\n",
    "print(et-st)"
   ]
  },
  {
   "cell_type": "code",
   "execution_count": 2,
   "metadata": {},
   "outputs": [
    {
     "name": "stdout",
     "output_type": "stream",
     "text": [
      "2 3 4 5 7 11 13 17 19 23 29 31 37 41 43 47 53 59 61 67 71 73 79 83 89 97 101 103 107 109 113 127 131 137 139 149 151 157 163 167 173 179 181 191 193 197 199 211 223 227 229 233 239 241 251 257 263 269 271 277 281 283 293 307 311 313 317 331 337 347 349 353 359 367 373 379 383 389 397 401 409 419 421 431 433 439 443 449 457 461 463 467 479 487 491 499 503 509 521 523 541 547 557 563 569 571 577 587 593 599 601 607 613 617 619 631 641 643 647 653 659 661 673 677 683 691 701 709 719 727 733 739 743 751 757 761 769 773 787 797 809 811 821 823 827 829 839 853 857 859 863 877 881 883 887 907 911 919 929 937 941 947 953 967 971 977 983 991 997 0.02098560333251953\n"
     ]
    }
   ],
   "source": [
    "import time\n",
    "st = time.time()\n",
    "for num in range(2,1000):\n",
    "    flag = 0\n",
    "    for val in range(2,int(num/2)):\n",
    "        if num % val == 0:\n",
    "            flag = 1\n",
    "            break\n",
    "    else:\n",
    "        print(num,end=\" \")\n",
    "et = time.time()\n",
    "print(et-st)"
   ]
  },
  {
   "cell_type": "code",
   "execution_count": 3,
   "metadata": {},
   "outputs": [
    {
     "name": "stdout",
     "output_type": "stream",
     "text": [
      "2 3 4 5 7 11 13 17 19 23 29 31 37 41 43 47 53 59 61 67 71 73 79 83 89 97 101 103 107 109 113 127 131 137 139 149 151 157 163 167 173 179 181 191 193 197 199 211 223 227 229 233 239 241 251 257 263 269 271 277 281 283 293 307 311 313 317 331 337 347 349 353 359 367 373 379 383 389 397 401 409 419 421 431 433 439 443 449 457 461 463 467 479 487 491 499 503 509 521 523 541 547 557 563 569 571 577 587 593 599 601 607 613 617 619 631 641 643 647 653 659 661 673 677 683 691 701 709 719 727 733 739 743 751 757 761 769 773 787 797 809 811 821 823 827 829 839 853 857 859 863 877 881 883 887 907 911 919 929 937 941 947 953 967 971 977 983 991 997 0.01998448371887207\n"
     ]
    }
   ],
   "source": [
    "import time\n",
    "st = time.time()\n",
    "for num in range(2,1000):\n",
    "    flag = 0\n",
    "    for val in range(2,num//2):\n",
    "        if num % val == 0:\n",
    "            flag = 1\n",
    "            break\n",
    "    else:\n",
    "        print(num,end=\" \")\n",
    "et = time.time()\n",
    "print(et-st)"
   ]
  },
  {
   "cell_type": "code",
   "execution_count": 4,
   "metadata": {},
   "outputs": [
    {
     "name": "stdout",
     "output_type": "stream",
     "text": [
      "2 3 4 5 6 7 8 9 11 13 15 17 19 23 25 29 31 35 37 41 43 47 49 53 59 61 67 71 73 79 83 89 97 101 103 107 109 113 121 127 131 137 139 143 149 151 157 163 167 169 173 179 181 191 193 197 199 211 223 227 229 233 239 241 251 257 263 269 271 277 281 283 289 293 307 311 313 317 323 331 337 347 349 353 359 361 367 373 379 383 389 397 401 409 419 421 431 433 439 443 449 457 461 463 467 479 487 491 499 503 509 521 523 529 541 547 557 563 569 571 577 587 593 599 601 607 613 617 619 631 641 643 647 653 659 661 673 677 683 691 701 709 719 727 733 739 743 751 757 761 769 773 787 797 809 811 821 823 827 829 839 841 853 857 859 863 877 881 883 887 899 907 911 919 929 937 941 947 953 961 967 971 977 983 991 997 0.005997657775878906\n"
     ]
    }
   ],
   "source": [
    "import time\n",
    "st = time.time()\n",
    "import math\n",
    "for num in range(2,1000):\n",
    "    flag = 0\n",
    "    for val in range(2,int(math.sqrt(num))):\n",
    "        if num % val == 0:\n",
    "            flag = 1\n",
    "            break\n",
    "    else:\n",
    "        print(num,end=\" \")\n",
    "et = time.time()\n",
    "print(et-st)"
   ]
  },
  {
   "cell_type": "code",
   "execution_count": null,
   "metadata": {},
   "outputs": [],
   "source": [
    "num = int(input(\"Give a number\"))\n",
    "print(num, end = \" \")\n",
    "while(1):\n",
    "    if(num%2 == 0):\n",
    "        num = num // 2\n",
    "        print(num, end = \" \")\n",
    "    else:\n",
    "        num = num*3+1\n",
    "        print(num, end = \" \")\n",
    "    if num==1:\n",
    "        break"
   ]
  },
  {
   "cell_type": "code",
   "execution_count": null,
   "metadata": {},
   "outputs": [],
   "source": [
    "def fib(n):\n",
    "    a, b = 0, 1\n",
    "    while a < n:\n",
    "        print(a, end=' ')\n",
    "        a, b = b, a+b\n",
    "    print()\n",
    "\n",
    "fib(2000)"
   ]
  },
  {
   "cell_type": "code",
   "execution_count": null,
   "metadata": {},
   "outputs": [],
   "source": [
    "newlist = [23,45]\n",
    "print(newlist)"
   ]
  },
  {
   "cell_type": "code",
   "execution_count": null,
   "metadata": {},
   "outputs": [],
   "source": [
    "names = [\"Ayush\",\"Ravi\",\"Bhageerath\",\"Lakshmi\",\"Prateek\",\"Soumya\",\"Prema\"]\n",
    "yourname = input()\n",
    "if yourname in names:\n",
    "    if yourname == (\"Bhageerath\" or \"Lakshmi\"):\n",
    "        print(\"You are welcome\")\n",
    "    else:\n",
    "        print(\"See you next time\")\n",
    "else:\n",
    "    print(\"You are not authorized\")"
   ]
  },
  {
   "cell_type": "code",
   "execution_count": null,
   "metadata": {},
   "outputs": [],
   "source": []
  }
 ],
 "metadata": {
  "kernelspec": {
   "display_name": "Python 3 (ipykernel)",
   "language": "python",
   "name": "python3"
  },
  "language_info": {
   "codemirror_mode": {
    "name": "ipython",
    "version": 3
   },
   "file_extension": ".py",
   "mimetype": "text/x-python",
   "name": "python",
   "nbconvert_exporter": "python",
   "pygments_lexer": "ipython3",
   "version": "3.10.9"
  }
 },
 "nbformat": 4,
 "nbformat_minor": 4
}
