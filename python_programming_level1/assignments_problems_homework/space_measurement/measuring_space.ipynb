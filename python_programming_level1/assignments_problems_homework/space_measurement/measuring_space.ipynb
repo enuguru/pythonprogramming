{
 "cells": [
  {
   "cell_type": "code",
   "execution_count": 10,
   "id": "4c775905",
   "metadata": {},
   "outputs": [
    {
     "name": "stdout",
     "output_type": "stream",
     "text": [
      "(296453, 3742763)\n"
     ]
    }
   ],
   "source": [
    "# importing the module\n",
    "import tracemalloc\n",
    "\n",
    "# code or function for which memory\n",
    "# has to be monitored\n",
    "def app():\n",
    "    lt = []\n",
    "    for i in range(0, 100000):\n",
    "        lt.append(i)\n",
    "\n",
    "# starting the monitoring\n",
    "tracemalloc.start()\n",
    "\n",
    "# function call\n",
    "app()\n",
    "\n",
    "# displaying the memory\n",
    "print(tracemalloc.get_traced_memory())\n",
    "\n",
    "# stopping the library\n",
    "tracemalloc.stop()"
   ]
  },
  {
   "cell_type": "code",
   "execution_count": 8,
   "id": "72fe8a51",
   "metadata": {},
   "outputs": [
    {
     "name": "stdout",
     "output_type": "stream",
     "text": [
      "ERROR: Could not find file C:\\Users\\karth\\AppData\\Local\\Temp\\ipykernel_17852\\601555372.py\n"
     ]
    }
   ],
   "source": [
    "# importing the library\n",
    "from memory_profiler import profile\n",
    "\n",
    "# instantiating the decorator\n",
    "@profile\n",
    "# code for which memory has to\n",
    "# be monitored\n",
    "def my_func():\n",
    "\tx = [x for x in range(0, 1000)]\n",
    "\ty = [y*100 for y in range(0, 1500)]\n",
    "\tdel x\n",
    "\treturn y\n",
    "\n",
    "if __name__ == '__main__':\n",
    "\tmy_func()"
   ]
  },
  {
   "cell_type": "code",
   "execution_count": null,
   "id": "9f00376d",
   "metadata": {},
   "outputs": [],
   "source": []
  }
 ],
 "metadata": {
  "kernelspec": {
   "display_name": "Python 3 (ipykernel)",
   "language": "python",
   "name": "python3"
  },
  "language_info": {
   "codemirror_mode": {
    "name": "ipython",
    "version": 3
   },
   "file_extension": ".py",
   "mimetype": "text/x-python",
   "name": "python",
   "nbconvert_exporter": "python",
   "pygments_lexer": "ipython3",
   "version": "3.10.9"
  }
 },
 "nbformat": 4,
 "nbformat_minor": 5
}
