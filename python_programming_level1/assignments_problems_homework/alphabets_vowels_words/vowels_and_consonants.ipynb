{
 "cells": [
  {
   "cell_type": "markdown",
   "id": "1672801c",
   "metadata": {},
   "source": [
    "# Vowels and Consonants"
   ]
  },
  {
   "cell_type": "code",
   "execution_count": 4,
   "id": "dd6b5579",
   "metadata": {},
   "outputs": [
    {
     "name": "stdout",
     "output_type": "stream",
     "text": [
      "Give a stringHope you are doing fine\n",
      "The number of vowels is 10\n",
      "The number of consonants is 9\n"
     ]
    }
   ],
   "source": [
    "newstring = input(\"Give a string\") # Hi How are you \n",
    "newstring = newstring.lower()  #HiHowareyou\n",
    "newstring = \"\".join(newstring.split())\n",
    "vowels = 0\n",
    "consonants = 0\n",
    "for ch in newstring:\n",
    "    if ch == \"a\" or ch == \"e\" or ch == \"i\" or ch == \"o\" or ch == \"u\":\n",
    "        vowels = vowels + 1\n",
    "    else:\n",
    "        consonants = consonants + 1\n",
    "print(\"The number of vowels is\", vowels)\n",
    "print(\"The number of consonants is\", consonants)"
   ]
  },
  {
   "cell_type": "code",
   "execution_count": null,
   "id": "3edeb0e6",
   "metadata": {},
   "outputs": [],
   "source": [
    "newstring.split()"
   ]
  },
  {
   "cell_type": "code",
   "execution_count": 4,
   "id": "0ffd8b07",
   "metadata": {},
   "outputs": [
    {
     "name": "stdout",
     "output_type": "stream",
     "text": [
      "Give a stringHi How are you\n",
      "The number of vowels is 6\n",
      "The number of consonants is 5\n"
     ]
    }
   ],
   "source": [
    "newstring = input(\"Give a string\")\n",
    "newstring = newstring.lower()\n",
    "vowels = 0\n",
    "consonants = 0\n",
    "for ch in newstring:\n",
    "    if ch == \" \":\n",
    "        continue\n",
    "    if ch == \"a\" or ch == \"e\" or ch == \"i\" or ch == \"o\" or ch == \"u\":\n",
    "        vowels = vowels + 1\n",
    "    else:\n",
    "        consonants = consonants + 1\n",
    "print(\"The number of vowels is\", vowels)\n",
    "print(\"The number of consonants is\", consonants)"
   ]
  },
  {
   "cell_type": "code",
   "execution_count": 3,
   "id": "75024d5b",
   "metadata": {},
   "outputs": [
    {
     "name": "stdout",
     "output_type": "stream",
     "text": [
      "Give a string    Hi how are you doing    \n",
      "hi-how-are-you-doing\n"
     ]
    }
   ],
   "source": [
    "newstring = input(\"Give a string\") # Hi How are you \n",
    "newstring = newstring.lower()  #HiHowareyou\n",
    "newstring = \"-\".join(newstring.strip().split())\n",
    "print(newstring)"
   ]
  },
  {
   "cell_type": "code",
   "execution_count": null,
   "id": "525c2285",
   "metadata": {},
   "outputs": [],
   "source": []
  }
 ],
 "metadata": {
  "kernelspec": {
   "display_name": "Python 3 (ipykernel)",
   "language": "python",
   "name": "python3"
  },
  "language_info": {
   "codemirror_mode": {
    "name": "ipython",
    "version": 3
   },
   "file_extension": ".py",
   "mimetype": "text/x-python",
   "name": "python",
   "nbconvert_exporter": "python",
   "pygments_lexer": "ipython3",
   "version": "3.9.13"
  }
 },
 "nbformat": 4,
 "nbformat_minor": 5
}
