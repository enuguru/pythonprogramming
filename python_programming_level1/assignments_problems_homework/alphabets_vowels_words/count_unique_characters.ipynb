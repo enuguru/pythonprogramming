{
 "cells": [
  {
   "cell_type": "markdown",
   "id": "6f2d7f9c",
   "metadata": {},
   "source": [
    "# number of unique characters in a string with a dictionary"
   ]
  },
  {
   "cell_type": "code",
   "execution_count": 1,
   "id": "01f2c538",
   "metadata": {},
   "outputs": [
    {
     "name": "stdout",
     "output_type": "stream",
     "text": [
      "The string contained 7 unique character(s).\n"
     ]
    }
   ],
   "source": [
    "strone = \"Universe\"\n",
    "newdict = {}\n",
    "for ch in strone:\n",
    "    newdict[ch] = True\n",
    "print(\"The string contained\", len(newdict), \"unique character(s).\")"
   ]
  },
  {
   "cell_type": "code",
   "execution_count": null,
   "id": "93f59c2b",
   "metadata": {},
   "outputs": [],
   "source": []
  }
 ],
 "metadata": {
  "kernelspec": {
   "display_name": "Python 3 (ipykernel)",
   "language": "python",
   "name": "python3"
  },
  "language_info": {
   "codemirror_mode": {
    "name": "ipython",
    "version": 3
   },
   "file_extension": ".py",
   "mimetype": "text/x-python",
   "name": "python",
   "nbconvert_exporter": "python",
   "pygments_lexer": "ipython3",
   "version": "3.10.9"
  }
 },
 "nbformat": 4,
 "nbformat_minor": 5
}
