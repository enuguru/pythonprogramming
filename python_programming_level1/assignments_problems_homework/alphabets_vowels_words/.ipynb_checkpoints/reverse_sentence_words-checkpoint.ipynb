{
 "cells": [
  {
   "cell_type": "markdown",
   "id": "a7daac3f",
   "metadata": {},
   "source": [
    "# reverse the words in a sentence"
   ]
  },
  {
   "cell_type": "code",
   "execution_count": 1,
   "id": "21a4ea8b",
   "metadata": {},
   "outputs": [
    {
     "name": "stdout",
     "output_type": "stream",
     "text": [
      "Give a sentence Hope all of you are doing fine\n",
      "fine doing are you of all Hope\n"
     ]
    }
   ],
   "source": [
    "print(\" \".join(list(reversed(input(\"Give a sentence \").split()))))"
   ]
  },
  {
   "cell_type": "code",
   "execution_count": 2,
   "id": "8aab387a",
   "metadata": {},
   "outputs": [
    {
     "name": "stdout",
     "output_type": "stream",
     "text": [
      "Give a sentence How are you\n",
      "<list_reverseiterator object at 0x000002A3D08FAC80>\n"
     ]
    }
   ],
   "source": [
    "print(reversed(input(\"Give a sentence \").split()))"
   ]
  },
  {
   "cell_type": "code",
   "execution_count": 2,
   "id": "1460e200",
   "metadata": {},
   "outputs": [
    {
     "name": "stdout",
     "output_type": "stream",
     "text": [
      "Give a sentence This python session is interesting\n",
      "['interesting', 'is', 'session', 'python', 'This']\n"
     ]
    }
   ],
   "source": [
    "print(list(reversed(input(\"Give a sentence \").split())))"
   ]
  },
  {
   "cell_type": "code",
   "execution_count": 1,
   "id": "66792318",
   "metadata": {},
   "outputs": [
    {
     "name": "stdout",
     "output_type": "stream",
     "text": [
      "Give a sentence This python session is interesting\n",
      "<list_reverseiterator object at 0x000001FBC306ED70>\n"
     ]
    }
   ],
   "source": [
    "print(reversed(input(\"Give a sentence \").split()))"
   ]
  },
  {
   "cell_type": "code",
   "execution_count": null,
   "id": "2a64bb89",
   "metadata": {},
   "outputs": [],
   "source": []
  }
 ],
 "metadata": {
  "kernelspec": {
   "display_name": "Python 3 (ipykernel)",
   "language": "python",
   "name": "python3"
  },
  "language_info": {
   "codemirror_mode": {
    "name": "ipython",
    "version": 3
   },
   "file_extension": ".py",
   "mimetype": "text/x-python",
   "name": "python",
   "nbconvert_exporter": "python",
   "pygments_lexer": "ipython3",
   "version": "3.10.9"
  }
 },
 "nbformat": 4,
 "nbformat_minor": 5
}
