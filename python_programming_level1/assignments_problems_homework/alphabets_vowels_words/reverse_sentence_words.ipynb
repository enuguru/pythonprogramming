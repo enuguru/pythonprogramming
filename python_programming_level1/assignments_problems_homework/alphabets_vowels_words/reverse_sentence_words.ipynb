{
 "cells": [
  {
   "cell_type": "markdown",
   "id": "a7daac3f",
   "metadata": {},
   "source": [
    "# reverse the words in a sentence"
   ]
  },
  {
   "cell_type": "code",
   "execution_count": 1,
   "id": "21a4ea8b",
   "metadata": {},
   "outputs": [
    {
     "name": "stdout",
     "output_type": "stream",
     "text": [
      "Give a sentence Hope all of you are doing fine\n",
      "fine doing are you of all Hope\n"
     ]
    }
   ],
   "source": [
    "print(\" \".join(list(reversed(input(\"Give a sentence \").split()))))"
   ]
  },
  {
   "cell_type": "code",
   "execution_count": 5,
   "id": "d0338b7d",
   "metadata": {},
   "outputs": [
    {
     "name": "stdout",
     "output_type": "stream",
     "text": [
      "Give a sentence Hi how are you doing\n",
      "doing you are how Hi\n"
     ]
    }
   ],
   "source": [
    "print(\" \".join(list(reversed(input(\"Give a sentence \").split()))))"
   ]
  },
  {
   "cell_type": "code",
   "execution_count": 4,
   "id": "e6cac4d4",
   "metadata": {},
   "outputs": [],
   "source": [
    "newstr = \" \""
   ]
  },
  {
   "cell_type": "code",
   "execution_count": null,
   "id": "2a828636",
   "metadata": {},
   "outputs": [],
   "source": [
    "newstr.join"
   ]
  },
  {
   "cell_type": "code",
   "execution_count": 2,
   "id": "1460e200",
   "metadata": {},
   "outputs": [
    {
     "name": "stdout",
     "output_type": "stream",
     "text": [
      "Give a sentence This python session is interesting\n",
      "['interesting', 'is', 'session', 'python', 'This']\n"
     ]
    }
   ],
   "source": [
    "print(list(reversed(input(\"Give a sentence \").split())))"
   ]
  },
  {
   "cell_type": "code",
   "execution_count": 1,
   "id": "66792318",
   "metadata": {},
   "outputs": [
    {
     "name": "stdout",
     "output_type": "stream",
     "text": [
      "Give a sentence This python session is interesting\n",
      "<list_reverseiterator object at 0x000001FBC306ED70>\n"
     ]
    }
   ],
   "source": [
    "print(reversed(input(\"Give a sentence \").split()))"
   ]
  },
  {
   "cell_type": "code",
   "execution_count": null,
   "id": "2a64bb89",
   "metadata": {},
   "outputs": [],
   "source": []
  }
 ],
 "metadata": {
  "kernelspec": {
   "display_name": "Python 3 (ipykernel)",
   "language": "python",
   "name": "python3"
  },
  "language_info": {
   "codemirror_mode": {
    "name": "ipython",
    "version": 3
   },
   "file_extension": ".py",
   "mimetype": "text/x-python",
   "name": "python",
   "nbconvert_exporter": "python",
   "pygments_lexer": "ipython3",
   "version": "3.10.9"
  }
 },
 "nbformat": 4,
 "nbformat_minor": 5
}
