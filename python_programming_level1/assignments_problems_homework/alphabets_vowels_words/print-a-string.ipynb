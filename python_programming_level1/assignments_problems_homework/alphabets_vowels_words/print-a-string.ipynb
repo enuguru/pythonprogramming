{
 "cells": [
  {
   "cell_type": "code",
   "execution_count": 10,
   "id": "8603c434",
   "metadata": {},
   "outputs": [
    {
     "name": "stdout",
     "output_type": "stream",
     "text": [
      "Give a wordmadam\n"
     ]
    }
   ],
   "source": [
    "word = input(\"Give a word\")"
   ]
  },
  {
   "cell_type": "code",
   "execution_count": 11,
   "id": "05d06c11",
   "metadata": {},
   "outputs": [
    {
     "name": "stdout",
     "output_type": "stream",
     "text": [
      "madam\n"
     ]
    }
   ],
   "source": [
    "print(word)"
   ]
  },
  {
   "cell_type": "code",
   "execution_count": 12,
   "id": "9f258517",
   "metadata": {},
   "outputs": [
    {
     "name": "stdout",
     "output_type": "stream",
     "text": [
      "<reversed object at 0x0000027E97E6ACB0>\n"
     ]
    }
   ],
   "source": [
    "print(reversed(word))"
   ]
  },
  {
   "cell_type": "code",
   "execution_count": 4,
   "id": "4a21a171",
   "metadata": {},
   "outputs": [
    {
     "name": "stdout",
     "output_type": "stream",
     "text": [
      "['m', 'a', 'd', 'a', 'm']\n"
     ]
    }
   ],
   "source": [
    "print(list(reversed(word)))"
   ]
  },
  {
   "cell_type": "code",
   "execution_count": 19,
   "id": "f6d4891b",
   "metadata": {},
   "outputs": [
    {
     "name": "stdout",
     "output_type": "stream",
     "text": [
      "madam\n"
     ]
    }
   ],
   "source": [
    "print(\"\".join(list(reversed(word))))"
   ]
  },
  {
   "cell_type": "code",
   "execution_count": 6,
   "id": "c0a802c2",
   "metadata": {},
   "outputs": [
    {
     "data": {
      "text/plain": [
       "'madam'"
      ]
     },
     "execution_count": 6,
     "metadata": {},
     "output_type": "execute_result"
    }
   ],
   "source": [
    "new = \"\".join(list(reversed(word)))\n",
    "new"
   ]
  },
  {
   "cell_type": "code",
   "execution_count": 7,
   "id": "3a4dd83c",
   "metadata": {},
   "outputs": [
    {
     "name": "stdout",
     "output_type": "stream",
     "text": [
      "<class 'str'>\n"
     ]
    }
   ],
   "source": [
    "print(type(new))"
   ]
  },
  {
   "cell_type": "code",
   "execution_count": 13,
   "id": "81e89115",
   "metadata": {},
   "outputs": [],
   "source": [
    "newstr = \"clarity\""
   ]
  },
  {
   "cell_type": "code",
   "execution_count": 14,
   "id": "b564599d",
   "metadata": {},
   "outputs": [
    {
     "data": {
      "text/plain": [
       "'Clarity'"
      ]
     },
     "execution_count": 14,
     "metadata": {},
     "output_type": "execute_result"
    }
   ],
   "source": [
    "newstr.capitalize()"
   ]
  },
  {
   "cell_type": "code",
   "execution_count": 15,
   "id": "c84bcf24",
   "metadata": {},
   "outputs": [
    {
     "data": {
      "text/plain": [
       "False"
      ]
     },
     "execution_count": 15,
     "metadata": {},
     "output_type": "execute_result"
    }
   ],
   "source": [
    "newstr.isupper()"
   ]
  },
  {
   "cell_type": "code",
   "execution_count": 16,
   "id": "e119e358",
   "metadata": {},
   "outputs": [
    {
     "data": {
      "text/plain": [
       "'CLARITY'"
      ]
     },
     "execution_count": 16,
     "metadata": {},
     "output_type": "execute_result"
    }
   ],
   "source": [
    "newstr.upper()"
   ]
  },
  {
   "cell_type": "code",
   "execution_count": 17,
   "id": "070d4f24",
   "metadata": {},
   "outputs": [],
   "source": [
    "newstr = \"clarity\""
   ]
  },
  {
   "cell_type": "code",
   "execution_count": null,
   "id": "184bd702",
   "metadata": {},
   "outputs": [],
   "source": [
    "newstr."
   ]
  }
 ],
 "metadata": {
  "kernelspec": {
   "display_name": "Python 3 (ipykernel)",
   "language": "python",
   "name": "python3"
  },
  "language_info": {
   "codemirror_mode": {
    "name": "ipython",
    "version": 3
   },
   "file_extension": ".py",
   "mimetype": "text/x-python",
   "name": "python",
   "nbconvert_exporter": "python",
   "pygments_lexer": "ipython3",
   "version": "3.10.9"
  }
 },
 "nbformat": 4,
 "nbformat_minor": 5
}
