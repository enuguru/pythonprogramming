{
 "cells": [
  {
   "cell_type": "code",
   "execution_count": 12,
   "id": "1fc1e376",
   "metadata": {},
   "outputs": [
    {
     "name": "stdout",
     "output_type": "stream",
     "text": [
      "Give a wordnature\n"
     ]
    }
   ],
   "source": [
    "word = input(\"Give a word\")"
   ]
  },
  {
   "cell_type": "code",
   "execution_count": 13,
   "id": "c67cc052",
   "metadata": {},
   "outputs": [
    {
     "name": "stdout",
     "output_type": "stream",
     "text": [
      "nature\n",
      "erutan\n"
     ]
    }
   ],
   "source": [
    "print(word)\n",
    "print(\"\".join(list(reversed(word))))"
   ]
  },
  {
   "cell_type": "code",
   "execution_count": 15,
   "id": "cfa1e17d",
   "metadata": {},
   "outputs": [
    {
     "name": "stdout",
     "output_type": "stream",
     "text": [
      "The given word is not a palindrome\n"
     ]
    }
   ],
   "source": [
    "if word == \"\".join(list(reversed(word))):\n",
    "    print(\"The given word is a palindrome\")\n",
    "else:\n",
    "    print(\"The given word is not a palindrome\")"
   ]
  },
  {
   "cell_type": "code",
   "execution_count": null,
   "id": "074821a9",
   "metadata": {},
   "outputs": [],
   "source": []
  }
 ],
 "metadata": {
  "kernelspec": {
   "display_name": "Python 3 (ipykernel)",
   "language": "python",
   "name": "python3"
  },
  "language_info": {
   "codemirror_mode": {
    "name": "ipython",
    "version": 3
   },
   "file_extension": ".py",
   "mimetype": "text/x-python",
   "name": "python",
   "nbconvert_exporter": "python",
   "pygments_lexer": "ipython3",
   "version": "3.10.9"
  }
 },
 "nbformat": 4,
 "nbformat_minor": 5
}
