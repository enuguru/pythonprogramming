{
 "cells": [
  {
   "cell_type": "code",
   "execution_count": null,
   "id": "754330e8",
   "metadata": {},
   "outputs": [],
   "source": [
    "mystr = \"This python session is very interesting\"\n",
    "count = 0\n",
    "for ch in mystr:\n",
    "    if ch in \"aeiou\":\n",
    "        count = count + 1\n",
    "print(count)"
   ]
  }
 ],
 "metadata": {
  "kernelspec": {
   "display_name": "Python 3 (ipykernel)",
   "language": "python",
   "name": "python3"
  },
  "language_info": {
   "codemirror_mode": {
    "name": "ipython",
    "version": 3
   },
   "file_extension": ".py",
   "mimetype": "text/x-python",
   "name": "python",
   "nbconvert_exporter": "python",
   "pygments_lexer": "ipython3",
   "version": "3.9.13"
  }
 },
 "nbformat": 4,
 "nbformat_minor": 5
}
