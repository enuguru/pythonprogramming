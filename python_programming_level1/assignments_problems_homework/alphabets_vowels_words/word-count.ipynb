{
 "cells": [
  {
   "cell_type": "code",
   "execution_count": null,
   "id": "6a09e873",
   "metadata": {},
   "outputs": [],
   "source": [
    "def count_words(list1):\n",
    "  count = {}\n",
    "  for word in list1:\n",
    "    if word in count:\n",
    "      count[word] += 1\n",
    "    else:\n",
    "      count[word] = 1\n",
    "  return count\n",
    "\n",
    "# Driver code\n",
    "list1 = ['red', 'green', 'blue', 'white', 'black', 'orange', 'red']\n",
    "print(count_words(list1))"
   ]
  }
 ],
 "metadata": {
  "kernelspec": {
   "display_name": "Python 3 (ipykernel)",
   "language": "python",
   "name": "python3"
  },
  "language_info": {
   "codemirror_mode": {
    "name": "ipython",
    "version": 3
   },
   "file_extension": ".py",
   "mimetype": "text/x-python",
   "name": "python",
   "nbconvert_exporter": "python",
   "pygments_lexer": "ipython3",
   "version": "3.10.13"
  }
 },
 "nbformat": 4,
 "nbformat_minor": 5
}
