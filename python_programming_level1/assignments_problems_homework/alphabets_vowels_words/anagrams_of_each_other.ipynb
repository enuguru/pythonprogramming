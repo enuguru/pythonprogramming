{
 "cells": [
  {
   "cell_type": "markdown",
   "id": "d5856394",
   "metadata": {},
   "source": [
    "# check if two strings are anagrams of each other "
   ]
  },
  {
   "cell_type": "code",
   "execution_count": 4,
   "id": "3ff2b97c",
   "metadata": {},
   "outputs": [
    {
     "name": "stdout",
     "output_type": "stream",
     "text": [
      "State\n",
      "taste\n"
     ]
    }
   ],
   "source": [
    "strone = input()\n",
    "strtwo = input()"
   ]
  },
  {
   "cell_type": "code",
   "execution_count": 5,
   "id": "8b4d6cdf",
   "metadata": {},
   "outputs": [
    {
     "name": "stdout",
     "output_type": "stream",
     "text": [
      "True\n"
     ]
    }
   ],
   "source": [
    "print(sorted(strone.lower()) == sorted(strtwo.lower()))"
   ]
  },
  {
   "cell_type": "code",
   "execution_count": 3,
   "id": "e59c0e42",
   "metadata": {},
   "outputs": [
    {
     "name": "stdout",
     "output_type": "stream",
     "text": [
      "The two strings are anagrams of each other\n"
     ]
    }
   ],
   "source": [
    "if sorted(strone.lower()) == sorted(strtwo.lower()):\n",
    "    print(\"The two strings are anagrams of each other\")\n",
    "else:\n",
    "    print(\"The two strings are not anagrams of each other\")"
   ]
  },
  {
   "cell_type": "code",
   "execution_count": 13,
   "id": "eeb35a16",
   "metadata": {},
   "outputs": [
    {
     "name": "stdout",
     "output_type": "stream",
     "text": [
      "Not anagrams of each other\n"
     ]
    }
   ],
   "source": [
    "flag = 0\n",
    "for ch in strone:\n",
    "    countone = strone.count(ch)\n",
    "    counttwo = strtwo.count(ch)\n",
    "    if countone == counttwo:\n",
    "        continue\n",
    "    else:\n",
    "        flag = 1\n",
    "        print(\"Not anagrams of each other\")\n",
    "        break\n",
    "if flag == 0:\n",
    "    print(\"Anagrams of each other\")"
   ]
  },
  {
   "cell_type": "code",
   "execution_count": null,
   "id": "732cdb8e",
   "metadata": {},
   "outputs": [],
   "source": []
  }
 ],
 "metadata": {
  "kernelspec": {
   "display_name": "Python 3 (ipykernel)",
   "language": "python",
   "name": "python3"
  },
  "language_info": {
   "codemirror_mode": {
    "name": "ipython",
    "version": 3
   },
   "file_extension": ".py",
   "mimetype": "text/x-python",
   "name": "python",
   "nbconvert_exporter": "python",
   "pygments_lexer": "ipython3",
   "version": "3.10.9"
  }
 },
 "nbformat": 4,
 "nbformat_minor": 5
}
