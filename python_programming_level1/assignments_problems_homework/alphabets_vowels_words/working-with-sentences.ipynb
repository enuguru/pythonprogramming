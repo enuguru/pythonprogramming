{
 "cells": [
  {
   "cell_type": "code",
   "execution_count": 14,
   "id": "bd670d9b",
   "metadata": {},
   "outputs": [
    {
     "name": "stdout",
     "output_type": "stream",
     "text": [
      "Enter sentences (separated by periods): Hi how are you doing.    .    \n",
      "['Hi how are you doing']\n",
      "Separate sentences:\n",
      "Sentence 0: Hi how are you doing\n"
     ]
    }
   ],
   "source": [
    "# Get input sentences from the user\n",
    "input_text = input(\"Enter sentences (separated by periods): \")\n",
    "\n",
    "# Split input_text into sentences\n",
    "sentences = input_text.split('.')\n",
    "\n",
    "# Remove empty sentences\n",
    "sentences = [sentence.strip() for sentence in sentences if sentence.strip()]\n",
    "print(sentences)\n",
    "\n",
    "# Output each sentence separately\n",
    "print(\"Separate sentences:\")\n",
    "for index, sentence in enumerate(sentences, start=0):\n",
    "    print(f\"Sentence {index}: {sentence}\")"
   ]
  },
  {
   "cell_type": "code",
   "execution_count": null,
   "id": "288be6ce",
   "metadata": {},
   "outputs": [],
   "source": []
  }
 ],
 "metadata": {
  "kernelspec": {
   "display_name": "Python 3 (ipykernel)",
   "language": "python",
   "name": "python3"
  },
  "language_info": {
   "codemirror_mode": {
    "name": "ipython",
    "version": 3
   },
   "file_extension": ".py",
   "mimetype": "text/x-python",
   "name": "python",
   "nbconvert_exporter": "python",
   "pygments_lexer": "ipython3",
   "version": "3.10.9"
  }
 },
 "nbformat": 4,
 "nbformat_minor": 5
}
