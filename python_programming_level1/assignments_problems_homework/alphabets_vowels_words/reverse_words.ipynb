{
 "cells": [
  {
   "cell_type": "markdown",
   "id": "c1fe4dc5",
   "metadata": {},
   "source": [
    "# reverse words in a sentence"
   ]
  },
  {
   "cell_type": "code",
   "execution_count": 4,
   "id": "75a08031",
   "metadata": {},
   "outputs": [
    {
     "name": "stdout",
     "output_type": "stream",
     "text": [
      "['This', 'python', 'session', 'is', 'pretty', 'interesting']\n",
      "['interesting', 'pretty', 'is', 'session', 'python', 'This']\n",
      "interesting pretty is session python This\n"
     ]
    }
   ],
   "source": [
    "string = \"This python session is pretty interesting\"\n",
    "words = string.split()\n",
    "print(words)\n",
    "words = list(reversed(words))\n",
    "print(words)\n",
    "print(\" \".join(words))"
   ]
  },
  {
   "cell_type": "markdown",
   "id": "ae167bd5",
   "metadata": {},
   "source": [
    "# super one liner"
   ]
  },
  {
   "cell_type": "code",
   "execution_count": 5,
   "id": "9a42a4c6",
   "metadata": {},
   "outputs": [
    {
     "name": "stdout",
     "output_type": "stream",
     "text": [
      "interesting pretty is session python This\n"
     ]
    }
   ],
   "source": [
    "string = \"This python session is pretty interesting\"\n",
    "print(\" \".join(list(reversed(string.split()))))"
   ]
  },
  {
   "cell_type": "markdown",
   "id": "048c94d1",
   "metadata": {},
   "source": [
    "# ultimate one liner"
   ]
  },
  {
   "cell_type": "code",
   "execution_count": 1,
   "id": "59b8b979",
   "metadata": {},
   "outputs": [
    {
     "name": "stdout",
     "output_type": "stream",
     "text": [
      "This python session is interesting\n",
      "interesting is session python This\n"
     ]
    }
   ],
   "source": [
    "print(\" \".join(list(reversed(input().split()))))"
   ]
  },
  {
   "cell_type": "code",
   "execution_count": null,
   "id": "625e44aa",
   "metadata": {},
   "outputs": [],
   "source": [
    "pythonic idioms"
   ]
  }
 ],
 "metadata": {
  "kernelspec": {
   "display_name": "Python 3 (ipykernel)",
   "language": "python",
   "name": "python3"
  },
  "language_info": {
   "codemirror_mode": {
    "name": "ipython",
    "version": 3
   },
   "file_extension": ".py",
   "mimetype": "text/x-python",
   "name": "python",
   "nbconvert_exporter": "python",
   "pygments_lexer": "ipython3",
   "version": "3.10.13"
  }
 },
 "nbformat": 4,
 "nbformat_minor": 5
}
