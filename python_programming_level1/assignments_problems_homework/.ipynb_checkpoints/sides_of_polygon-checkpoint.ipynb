{
 "cells": [
  {
   "cell_type": "code",
   "execution_count": 2,
   "id": "1d7b4d2a",
   "metadata": {},
   "outputs": [
    {
     "name": "stdout",
     "output_type": "stream",
     "text": [
      "Give the number of sides of the polygon: 6\n",
      "Hexagon\n"
     ]
    }
   ],
   "source": [
    "nsides = int(input(\"Give the number of sides of the polygon: \"))\n",
    "name = \"\"\n",
    "if nsides == 3:\n",
    "    name = \"Triangle\"\n",
    "elif nsides == 4:\n",
    "    name = \"Quadrilateral\"\n",
    "elif nsides == 5:\n",
    "    name = \"Pentagon\"\n",
    "elif nsides == 6:\n",
    "    name = \"Hexagon\"\n",
    "elif nsides == 7:\n",
    "    name = \"Septagon\"\n",
    "elif nsides == 8:\n",
    "    name = \"Octagon\"\n",
    "elif nsides == 9:\n",
    "    name = \"Nanagon\"\n",
    "elif nsides == 10:\n",
    "    name = \"Decagon\"\n",
    "\n",
    "print(name)"
   ]
  },
  {
   "cell_type": "code",
   "execution_count": null,
   "id": "b68e1a6e",
   "metadata": {},
   "outputs": [],
   "source": []
  }
 ],
 "metadata": {
  "kernelspec": {
   "display_name": "Python 3 (ipykernel)",
   "language": "python",
   "name": "python3"
  },
  "language_info": {
   "codemirror_mode": {
    "name": "ipython",
    "version": 3
   },
   "file_extension": ".py",
   "mimetype": "text/x-python",
   "name": "python",
   "nbconvert_exporter": "python",
   "pygments_lexer": "ipython3",
   "version": "3.9.13"
  }
 },
 "nbformat": 4,
 "nbformat_minor": 5
}
