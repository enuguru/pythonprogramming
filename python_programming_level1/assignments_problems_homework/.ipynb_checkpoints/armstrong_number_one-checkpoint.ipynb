{
 "cells": [
  {
   "cell_type": "code",
   "execution_count": 3,
   "id": "364d827c",
   "metadata": {},
   "outputs": [
    {
     "name": "stdout",
     "output_type": "stream",
     "text": [
      "Give a number 153\n",
      "The given number is armstrong\n"
     ]
    }
   ],
   "source": [
    "num = input(\"Give a number \")\n",
    "sum = 0\n",
    "for val in num:\n",
    "    val = int(val)\n",
    "    sum = sum + (val*val*val)\n",
    "if sum == int(num):\n",
    "    print(\"The given number is armstrong\")"
   ]
  },
  {
   "cell_type": "code",
   "execution_count": 5,
   "id": "dcb1f5a3",
   "metadata": {},
   "outputs": [
    {
     "name": "stdout",
     "output_type": "stream",
     "text": [
      "1\n",
      "153\n",
      "370\n",
      "371\n",
      "407\n"
     ]
    }
   ],
   "source": [
    "for num in range(1,10000):\n",
    "    num = str(num)\n",
    "    sum = 0\n",
    "    for val in num:\n",
    "        val = int(val)\n",
    "        sum = sum + (val*val*val)\n",
    "    if sum == int(num):\n",
    "        print(num)"
   ]
  },
  {
   "cell_type": "code",
   "execution_count": null,
   "id": "1222e5b6",
   "metadata": {},
   "outputs": [],
   "source": []
  }
 ],
 "metadata": {
  "kernelspec": {
   "display_name": "Python 3 (ipykernel)",
   "language": "python",
   "name": "python3"
  },
  "language_info": {
   "codemirror_mode": {
    "name": "ipython",
    "version": 3
   },
   "file_extension": ".py",
   "mimetype": "text/x-python",
   "name": "python",
   "nbconvert_exporter": "python",
   "pygments_lexer": "ipython3",
   "version": "3.9.13"
  }
 },
 "nbformat": 4,
 "nbformat_minor": 5
}
