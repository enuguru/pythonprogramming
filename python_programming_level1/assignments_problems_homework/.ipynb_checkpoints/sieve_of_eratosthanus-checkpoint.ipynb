{
 "cells": [
  {
   "cell_type": "code",
   "execution_count": 1,
   "id": "8ab3eb71",
   "metadata": {},
   "outputs": [],
   "source": [
    "def SieveOfEratosthenes(n):\n",
    "   # array of type boolean with True values in it\n",
    "   prime = [True for i in range(n + 1)]\n",
    "   p = 2\n",
    "   while (p * p <= n):\n",
    "      # If it remain unchanged it is prime\n",
    "      if (prime[p] == True):\n",
    "         # updating all the multiples\n",
    "         for i in range(p * 2, n + 1, p):\n",
    "            prime[i] = False\n",
    "      p += 1\n",
    "   prime[0]= False\n",
    "   prime[1]= False\n",
    "   # If the list is \"True\" then print the number\n",
    "   for p in range(n + 1):\n",
    "      if prime[p]:\n",
    "         print(p,end=\" \")"
   ]
  },
  {
   "cell_type": "code",
   "execution_count": 2,
   "id": "4ebb08e8",
   "metadata": {},
   "outputs": [
    {
     "name": "stdout",
     "output_type": "stream",
     "text": [
      "2 3 5 7 11 13 17 19 23 29 31 37 41 43 47 "
     ]
    }
   ],
   "source": [
    "SieveOfEratosthenes(50)"
   ]
  },
  {
   "cell_type": "code",
   "execution_count": null,
   "id": "99df57c3",
   "metadata": {},
   "outputs": [],
   "source": []
  }
 ],
 "metadata": {
  "kernelspec": {
   "display_name": "Python 3 (ipykernel)",
   "language": "python",
   "name": "python3"
  },
  "language_info": {
   "codemirror_mode": {
    "name": "ipython",
    "version": 3
   },
   "file_extension": ".py",
   "mimetype": "text/x-python",
   "name": "python",
   "nbconvert_exporter": "python",
   "pygments_lexer": "ipython3",
   "version": "3.9.7"
  }
 },
 "nbformat": 4,
 "nbformat_minor": 5
}
