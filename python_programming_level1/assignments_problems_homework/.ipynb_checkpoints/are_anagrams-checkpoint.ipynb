{
 "cells": [
  {
   "cell_type": "markdown",
   "id": "23630746",
   "metadata": {},
   "source": [
    "# Find if two strings are anagrams of each other"
   ]
  },
  {
   "cell_type": "code",
   "execution_count": 2,
   "id": "2686bc71",
   "metadata": {},
   "outputs": [
    {
     "name": "stdout",
     "output_type": "stream",
     "text": [
      "Give the first string listen\n",
      "Give the second string silent\n",
      "True\n",
      "The given strings are anagrams of each other\n"
     ]
    }
   ],
   "source": [
    "strone = input(\"Give the first string \")\n",
    "strtwo = input(\"Give the second string \")\n",
    "print(sorted(strone) == sorted(strtwo))\n",
    "if sorted(strone) == sorted(strtwo):\n",
    "    print(\"The given strings are anagrams of each other\")\n",
    "else:\n",
    "    print(\"The given strings are not anagrams of each other\")"
   ]
  },
  {
   "cell_type": "code",
   "execution_count": null,
   "id": "72ebea8f",
   "metadata": {},
   "outputs": [],
   "source": []
  }
 ],
 "metadata": {
  "kernelspec": {
   "display_name": "Python 3 (ipykernel)",
   "language": "python",
   "name": "python3"
  },
  "language_info": {
   "codemirror_mode": {
    "name": "ipython",
    "version": 3
   },
   "file_extension": ".py",
   "mimetype": "text/x-python",
   "name": "python",
   "nbconvert_exporter": "python",
   "pygments_lexer": "ipython3",
   "version": "3.9.7"
  }
 },
 "nbformat": 4,
 "nbformat_minor": 5
}
