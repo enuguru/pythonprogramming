{
 "cells": [
  {
   "cell_type": "code",
   "execution_count": 1,
   "id": "43b0c197",
   "metadata": {},
   "outputs": [],
   "source": [
    "# if you are given the name of the month you should print the number of \n",
    "# days in that month"
   ]
  },
  {
   "cell_type": "code",
   "execution_count": 6,
   "id": "19e6a94e",
   "metadata": {},
   "outputs": [
    {
     "name": "stdout",
     "output_type": "stream",
     "text": [
      "Enter the name of the month January\n",
      "January has 31 days in it\n"
     ]
    }
   ],
   "source": [
    "month = input(\"Enter the name of the month \")\n",
    "days = 31\n",
    "if month ==  \"April\" or month == \"June\" \\\n",
    "   or month ==  \"September\" or month == \"November\":\n",
    "    days = 30\n",
    "elif month == \"February\":\n",
    "    days = \"28 or 29\"\n",
    "print(month, \"has\", days, \"days in it\")"
   ]
  },
  {
   "cell_type": "code",
   "execution_count": null,
   "id": "36777e46",
   "metadata": {},
   "outputs": [],
   "source": []
  }
 ],
 "metadata": {
  "kernelspec": {
   "display_name": "Python 3 (ipykernel)",
   "language": "python",
   "name": "python3"
  },
  "language_info": {
   "codemirror_mode": {
    "name": "ipython",
    "version": 3
   },
   "file_extension": ".py",
   "mimetype": "text/x-python",
   "name": "python",
   "nbconvert_exporter": "python",
   "pygments_lexer": "ipython3",
   "version": "3.9.7"
  }
 },
 "nbformat": 4,
 "nbformat_minor": 5
}
