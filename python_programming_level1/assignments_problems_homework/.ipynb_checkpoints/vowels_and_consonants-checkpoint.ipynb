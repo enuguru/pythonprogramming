{
 "cells": [
  {
   "cell_type": "markdown",
   "id": "1672801c",
   "metadata": {},
   "source": [
    "# Vowels and Consonants"
   ]
  },
  {
   "cell_type": "code",
   "execution_count": 1,
   "id": "dd6b5579",
   "metadata": {},
   "outputs": [
    {
     "name": "stdout",
     "output_type": "stream",
     "text": [
      "Give a stringHow are you\n",
      "The number of vowels is 5\n",
      "The number of consonants is 4\n"
     ]
    }
   ],
   "source": [
    "newstring = input(\"Give a string\")\n",
    "newstring = newstring.lower()\n",
    "newstring = \"\".join(newstring.split())\n",
    "vowels = 0\n",
    "consonants = 0\n",
    "for ch in newstring:\n",
    "    if ch == \"a\" or ch == \"e\" or ch == \"i\" or ch == \"o\" or ch == \"u\":\n",
    "        vowels = vowels + 1\n",
    "    else:\n",
    "        consonants = consonants + 1\n",
    "print(\"The number of vowels is\", vowels)\n",
    "print(\"The number of consonants is\", consonants)"
   ]
  },
  {
   "cell_type": "code",
   "execution_count": 3,
   "id": "0ffd8b07",
   "metadata": {},
   "outputs": [
    {
     "name": "stdout",
     "output_type": "stream",
     "text": [
      "Give a stringHow are you doing\n",
      "The number of vowels is 7\n",
      "The number of consonants is 7\n"
     ]
    }
   ],
   "source": [
    "newstring = input(\"Give a string\")\n",
    "newstring = newstring.lower()\n",
    "vowels = 0\n",
    "consonants = 0\n",
    "for ch in newstring:\n",
    "    if ch == \" \":\n",
    "        continue\n",
    "    if ch == \"a\" or ch == \"e\" or ch == \"i\" or ch == \"o\" or ch == \"u\":\n",
    "        vowels = vowels + 1\n",
    "    else:\n",
    "        consonants = consonants + 1\n",
    "print(\"The number of vowels is\", vowels)\n",
    "print(\"The number of consonants is\", consonants)"
   ]
  },
  {
   "cell_type": "code",
   "execution_count": null,
   "id": "75024d5b",
   "metadata": {},
   "outputs": [],
   "source": []
  }
 ],
 "metadata": {
  "kernelspec": {
   "display_name": "Python 3 (ipykernel)",
   "language": "python",
   "name": "python3"
  },
  "language_info": {
   "codemirror_mode": {
    "name": "ipython",
    "version": 3
   },
   "file_extension": ".py",
   "mimetype": "text/x-python",
   "name": "python",
   "nbconvert_exporter": "python",
   "pygments_lexer": "ipython3",
   "version": "3.9.7"
  }
 },
 "nbformat": 4,
 "nbformat_minor": 5
}
