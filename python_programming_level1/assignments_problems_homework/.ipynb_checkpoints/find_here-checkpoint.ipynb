{
 "cells": [
  {
   "cell_type": "markdown",
   "id": "b722db5f",
   "metadata": {},
   "source": [
    "# prime numbers sieve of eratosthanus"
   ]
  },
  {
   "cell_type": "code",
   "execution_count": 2,
   "id": "81700022",
   "metadata": {},
   "outputs": [
    {
     "name": "stdout",
     "output_type": "stream",
     "text": [
      "The prime numbers smaller than or equal to 33 is\n",
      "[True, True, True, True, True, True, True, True, True, True, True, True, True, True, True, True, True, True, True, True, True, True, True, True, True, True, True, True, True, True, True, True, True, True]\n",
      "2 3 5 7 11 13 17 19 23 29 31 "
     ]
    }
   ],
   "source": [
    "def SieveOfEratosthenes(n):\n",
    "   # array of type boolean with True values in it\n",
    "   prime = [True for i in range(n + 1)]\n",
    "   print(prime)\n",
    "   p = 2\n",
    "   while (p * p <= n):\n",
    "      # If it remain unchanged it is prime\n",
    "      if (prime[p] == True):\n",
    "         # updating all the multiples\n",
    "         for i in range(p * 2, n + 1, p):\n",
    "            prime[i] = False\n",
    "      p += 1\n",
    "   prime[0]= False\n",
    "   prime[1]= False\n",
    "   # Print\n",
    "   for p in range(n + 1):\n",
    "      if prime[p]:\n",
    "         print (p,end=\" \")\n",
    "\n",
    "n = 33\n",
    "print (\"The prime numbers smaller than or equal to\", n,\"is\")\n",
    "SieveOfEratosthenes(n)"
   ]
  },
  {
   "cell_type": "markdown",
   "id": "fcf9a8c6",
   "metadata": {},
   "source": [
    "# look and say numbers in simple python"
   ]
  },
  {
   "cell_type": "code",
   "execution_count": 3,
   "id": "5fb2f8b9",
   "metadata": {},
   "outputs": [
    {
     "name": "stdout",
     "output_type": "stream",
     "text": [
      "1\n",
      "11\n",
      "21\n",
      "1211\n",
      "111221\n",
      "312211\n",
      "13112221\n",
      "1113213211\n",
      "31131211131221\n",
      "13211311123113112211\n"
     ]
    }
   ],
   "source": [
    "def lookandsay(n):\n",
    "    def nextnumber(s):\n",
    "        result, i = [], 0\n",
    "        while i < len(s):\n",
    "            count = 1\n",
    "            while ((i + 1) < len(s) and s[i] == s[i + 1]):\n",
    "                i = i + 1\n",
    "                count = count + 1\n",
    "            result.append(str(count) + s[i])\n",
    "            i = i + 1\n",
    "        return ''. join(result)\n",
    "    s = '1'\n",
    "    for _ in range(1, n):\n",
    "        s = nextnumber(s)\n",
    "    return s\n",
    "\n",
    "for val in range(1,11):\n",
    "    number = lookandsay(val)\n",
    "    print(number)"
   ]
  },
  {
   "cell_type": "markdown",
   "id": "0dce46f6",
   "metadata": {},
   "source": [
    "# look and say numbers pythonic"
   ]
  },
  {
   "cell_type": "code",
   "execution_count": 4,
   "id": "c0bee640",
   "metadata": {},
   "outputs": [
    {
     "name": "stdout",
     "output_type": "stream",
     "text": [
      "1\n",
      "11\n",
      "21\n",
      "1211\n",
      "111221\n",
      "312211\n",
      "13112221\n",
      "1113213211\n",
      "31131211131221\n",
      "13211311123113112211\n"
     ]
    }
   ],
   "source": [
    "# Pythonic solutjon uses the power of itertools.groupby\n",
    "\n",
    "import itertools\n",
    "# 31131211131221\n",
    "def lookandsaypythonic(n):\n",
    "    s = '1'\n",
    "    for _ in range(n - 1):\n",
    "        s = ''. join(str(len(list(group))) + key for key, group in itertools.groupby(s))\n",
    "    return s\n",
    "\n",
    "for val in range(1,11):\n",
    "    number = lookandsaypythonic(val)\n",
    "    print(number)"
   ]
  },
  {
   "cell_type": "markdown",
   "id": "6b28a291",
   "metadata": {},
   "source": [
    "# excel column decode in simple python"
   ]
  },
  {
   "cell_type": "code",
   "execution_count": 1,
   "id": "eebc7798",
   "metadata": {},
   "outputs": [
    {
     "name": "stdout",
     "output_type": "stream",
     "text": [
      "enter a valid excel column idaa\n",
      "27\n"
     ]
    }
   ],
   "source": [
    "def decode(col):\n",
    "    c=ord('A')\n",
    "    ret=0\n",
    "    for i in col:\n",
    "        i=ord(i)\n",
    "        ret=(ret*26)+i-c+1\n",
    "    return ret\n",
    "\n",
    "col = input(\"enter a valid excel column id\")\n",
    "col = col.upper()\n",
    "print(decode(col))"
   ]
  },
  {
   "cell_type": "markdown",
   "id": "360d1d12",
   "metadata": {},
   "source": [
    "# excel column decode - pythonic"
   ]
  },
  {
   "cell_type": "code",
   "execution_count": 6,
   "id": "58e39b7b",
   "metadata": {},
   "outputs": [
    {
     "name": "stdout",
     "output_type": "stream",
     "text": [
      "enter a valid excel column id ff\n",
      "162\n"
     ]
    }
   ],
   "source": [
    "# this program converts an excel column id to an integer\n",
    "import functools\n",
    "\n",
    "col = input(\"enter a valid excel column id \").upper()\n",
    "# 0 goes to ret, col goes to c variable\n",
    "# it is reverse in reduce function\n",
    "\n",
    "print(functools.reduce(lambda ret,c:ret*26+ord(c)-ord('A')+1,col,0))"
   ]
  },
  {
   "cell_type": "code",
   "execution_count": 8,
   "id": "20a7b912",
   "metadata": {},
   "outputs": [
    {
     "name": "stdout",
     "output_type": "stream",
     "text": [
      "fff\n",
      "26714\n"
     ]
    }
   ],
   "source": [
    "import functools\n",
    "character=input()#'Z'  #602\n",
    "result=functools.reduce(lambda x,c:x*26+ord(c)-ord('A')+1,character,0)\n",
    "print(result)"
   ]
  },
  {
   "cell_type": "markdown",
   "id": "d3bb5dfb",
   "metadata": {},
   "source": [
    "# "
   ]
  },
  {
   "cell_type": "code",
   "execution_count": 7,
   "id": "1a7180ed",
   "metadata": {},
   "outputs": [
    {
     "name": "stdout",
     "output_type": "stream",
     "text": [
      "Give a number5\n",
      "The number of set bits is 2\n"
     ]
    }
   ],
   "source": [
    "def count_bits(num):\n",
    "    count = 0\n",
    "    while num:\n",
    "        if((num & 1) == 1):\n",
    "            count = count + 1\n",
    "        num = num >> 1\n",
    "    return count\n",
    "\n",
    "var = int(input(\"Give a number\"))\n",
    "set_bits = count_bits(var)\n",
    "print(\"The number of set bits is %d\"%set_bits)"
   ]
  },
  {
   "cell_type": "code",
   "execution_count": 8,
   "id": "951a39b0",
   "metadata": {},
   "outputs": [
    {
     "name": "stdout",
     "output_type": "stream",
     "text": [
      "Give a number6\n",
      "The number of set bits is 2\n"
     ]
    }
   ],
   "source": [
    "\n",
    "def count_bits(num):\n",
    "    count = 0\n",
    "    while num:\n",
    "        count = count + (num & 1)\n",
    "        num = num >> 1\n",
    "    return count\n",
    "\n",
    "var = int(input(\"Give a number\"))\n",
    "set_bits = count_bits(var)\n",
    "print(\"The number of set bits is %d\"%set_bits)\n"
   ]
  },
  {
   "cell_type": "code",
   "execution_count": 9,
   "id": "0ff20e0e",
   "metadata": {},
   "outputs": [
    {
     "name": "stdout",
     "output_type": "stream",
     "text": [
      "Give a number6\n",
      "The number of set bits is 2\n"
     ]
    }
   ],
   "source": [
    "def count_bits(num):\n",
    "    count = 0\n",
    "    while num:\n",
    "        count = count +  1\n",
    "        num = num & (num-1)\n",
    "    return count\n",
    "\n",
    "var = int(input(\"Give a number\"))\n",
    "set_bits = count_bits(var)\n",
    "\n",
    "print(\"The number of set bits is %d\"%set_bits)\n"
   ]
  },
  {
   "cell_type": "code",
   "execution_count": 10,
   "id": "77993429",
   "metadata": {},
   "outputs": [
    {
     "name": "stdout",
     "output_type": "stream",
     "text": [
      "Give a number7\n",
      "It is odd parity\n"
     ]
    }
   ],
   "source": [
    "def find_parity(num):\n",
    "    parity = 0\n",
    "    while num:\n",
    "        if(num & 1 == 1):\n",
    "            parity = parity ^ 1\n",
    "        num = num >> 1\n",
    "    return parity\n",
    "\n",
    "var = int(input(\"Give a number\"))\n",
    "set_bits = find_parity(var)\n",
    "if set_bits:\n",
    "    print(\"It is odd parity\")\n",
    "else:\n",
    "    print(\"It is even parity\")"
   ]
  },
  {
   "cell_type": "markdown",
   "id": "115646e1",
   "metadata": {},
   "source": [
    "# roman to decimal - pythonic"
   ]
  },
  {
   "cell_type": "code",
   "execution_count": 13,
   "id": "cb2782f8",
   "metadata": {},
   "outputs": [
    {
     "name": "stdout",
     "output_type": "stream",
     "text": [
      "249\n"
     ]
    }
   ],
   "source": [
    "import functools\n",
    "def roman_to_decimal(s):\n",
    "    T={'I':1,'V':5,'X':10,'L':50,'C':100,'D':500,'M':1000}\n",
    "    return functools.reduce(lambda val,i:val+(-T[s[i]] if T[s[i]]<T[s[i+1]] else T[s[i]]),reversed(range(len(s)-1)),T[s[-1]])\n",
    "\n",
    "s='ICCL'\n",
    "#s = \"V\"\n",
    "\n",
    "print(roman_to_decimal(s))"
   ]
  },
  {
   "cell_type": "code",
   "execution_count": 2,
   "id": "8e3668ce",
   "metadata": {},
   "outputs": [
    {
     "name": "stdout",
     "output_type": "stream",
     "text": [
      "Enter a number: 345\n",
      "CCCXLV"
     ]
    }
   ],
   "source": [
    "intToroman = { 1: 'I', 4: 'IV', 5: 'V', 9: 'IX', 10: 'X', 40: 'XL',\n",
    "              50: 'L', 90: 'XC', 100: 'C', 400: 'XD', 500: 'D', 900: 'CM', 1000: 'M'}\n",
    "integer = int(input(\"Enter a number: \"))\n",
    "\n",
    "#Descending intger equivalent of seven roman numerals \n",
    "print_order = [1000, 900, 500, 400, 100, 90, 50, 40, 10, 9, 5, 4, 1]\n",
    "\n",
    "for x in print_order:\n",
    "    if integer != 0:\n",
    "        quotient= integer//x\n",
    "\n",
    "        #If quotient is not zero output the roman equivalent\n",
    "        if quotient != 0:\n",
    "            for y in range(quotient):\n",
    "                print(intToroman[x], end=\"\")\n",
    "\n",
    "        #update integer with remainder\n",
    "        integer = integer%x"
   ]
  },
  {
   "cell_type": "code",
   "execution_count": null,
   "id": "7e97e055",
   "metadata": {},
   "outputs": [],
   "source": []
  }
 ],
 "metadata": {
  "kernelspec": {
   "display_name": "Python 3 (ipykernel)",
   "language": "python",
   "name": "python3"
  },
  "language_info": {
   "codemirror_mode": {
    "name": "ipython",
    "version": 3
   },
   "file_extension": ".py",
   "mimetype": "text/x-python",
   "name": "python",
   "nbconvert_exporter": "python",
   "pygments_lexer": "ipython3",
   "version": "3.9.7"
  }
 },
 "nbformat": 4,
 "nbformat_minor": 5
}
