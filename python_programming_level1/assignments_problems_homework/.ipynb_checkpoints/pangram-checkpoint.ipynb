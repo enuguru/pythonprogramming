{
 "cells": [
  {
   "cell_type": "code",
   "execution_count": 26,
   "id": "9511280e",
   "metadata": {},
   "outputs": [
    {
     "name": "stdout",
     "output_type": "stream",
     "text": [
      "Give a string The quick brown Fox jumps Over the lazy dog\n",
      "It is a Pangram\n",
      "None\n"
     ]
    }
   ],
   "source": [
    "def ispangram(str1):\n",
    "    str1 = str1.lower()\n",
    "    newset = set()\n",
    "    for ch in str1:\n",
    "        if ch == \" \":\n",
    "            continue\n",
    "        newset.add(ch)\n",
    "    if len(newset) == 26:\n",
    "        print(\"It is a Pangram\")\n",
    "    else:\n",
    "        print(\"It is not a Pangram\")\n",
    "    \n",
    "print(ispangram(input(\"Give a string \"))) "
   ]
  },
  {
   "cell_type": "code",
   "execution_count": null,
   "id": "3d161212",
   "metadata": {},
   "outputs": [],
   "source": []
  }
 ],
 "metadata": {
  "kernelspec": {
   "display_name": "Python 3 (ipykernel)",
   "language": "python",
   "name": "python3"
  },
  "language_info": {
   "codemirror_mode": {
    "name": "ipython",
    "version": 3
   },
   "file_extension": ".py",
   "mimetype": "text/x-python",
   "name": "python",
   "nbconvert_exporter": "python",
   "pygments_lexer": "ipython3",
   "version": "3.9.7"
  }
 },
 "nbformat": 4,
 "nbformat_minor": 5
}
