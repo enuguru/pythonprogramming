{
 "cells": [
  {
   "cell_type": "markdown",
   "id": "d5856394",
   "metadata": {},
   "source": [
    "# check if two strings are anagrams of each other "
   ]
  },
  {
   "cell_type": "code",
   "execution_count": null,
   "id": "3ff2b97c",
   "metadata": {},
   "outputs": [],
   "source": [
    "strone = input()\n",
    "strtwo = input()\n",
    "if sorted(strone.lower()) == sorted(strtwo.lower()):\n",
    "    print(\"The two strings are anagrams of each other\")\n",
    "else:\n",
    "    print(\"The two strings are not anagrams of each other\")"
   ]
  },
  {
   "cell_type": "code",
   "execution_count": null,
   "id": "e59c0e42",
   "metadata": {},
   "outputs": [],
   "source": []
  }
 ],
 "metadata": {
  "kernelspec": {
   "display_name": "Python 3 (ipykernel)",
   "language": "python",
   "name": "python3"
  },
  "language_info": {
   "codemirror_mode": {
    "name": "ipython",
    "version": 3
   },
   "file_extension": ".py",
   "mimetype": "text/x-python",
   "name": "python",
   "nbconvert_exporter": "python",
   "pygments_lexer": "ipython3",
   "version": "3.9.7"
  }
 },
 "nbformat": 4,
 "nbformat_minor": 5
}
