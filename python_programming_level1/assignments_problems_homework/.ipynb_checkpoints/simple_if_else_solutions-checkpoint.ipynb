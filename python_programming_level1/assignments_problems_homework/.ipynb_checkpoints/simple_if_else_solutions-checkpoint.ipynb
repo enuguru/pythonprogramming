{
 "cells": [
  {
   "cell_type": "code",
   "execution_count": 1,
   "id": "50737c84",
   "metadata": {},
   "outputs": [
    {
     "name": "stdout",
     "output_type": "stream",
     "text": [
      "Give a number 45\n",
      "The given number is Odd\n"
     ]
    }
   ],
   "source": [
    "num = int(input(\"Give a number \"))\n",
    "if num % 2 == 1:\n",
    "    print(\"The given number is Odd\")\n",
    "else:\n",
    "    print(\"The given number is even\")"
   ]
  },
  {
   "cell_type": "code",
   "execution_count": null,
   "id": "9e0bb8df",
   "metadata": {},
   "outputs": [],
   "source": [
    "newstring = input(\"Give a Character\") \n",
    "newstring = newstring.lower()\n",
    "for ch in newstring:\n",
    "    if ch == \"a\" or ch == \"e\" or ch == \"i\" or ch == \"o\" or ch == \"u\":\n",
    "        print(\"The given character is a Vowel\")\n",
    "    else:\n",
    "        print(\"The given character is a Consonant\")"
   ]
  },
  {
   "cell_type": "code",
   "execution_count": null,
   "id": "2677b2b8",
   "metadata": {},
   "outputs": [],
   "source": [
    "nsides = int(input(\"Give the number of sides of the polygon: \"))\n",
    "name = \"\"\n",
    "if nsides == 3:\n",
    "    name = \"Triangle\"\n",
    "elif nsides == 4:\n",
    "    name = \"Quadrilateral\"\n",
    "elif nsides == 5:\n",
    "    name = \"Pentagon\"\n",
    "elif nsides == 6:\n",
    "    name = \"Hexagon\"\n",
    "elif nsides == 7:\n",
    "    name = \"Septagon\"\n",
    "elif nsides == 8:\n",
    "    name = \"Octagon\"\n",
    "elif nsides == 9:\n",
    "    name = \"Nanagon\"\n",
    "elif nsides == 10:\n",
    "    name = \"Decagon\"\n",
    "\n",
    "print(name)"
   ]
  },
  {
   "cell_type": "code",
   "execution_count": null,
   "id": "b6281c56",
   "metadata": {},
   "outputs": [],
   "source": [
    "mystr = \"This python session is very interesting\"\n",
    "mystr = mystr.lower()\n",
    "countdict = {\"a\":0, \"e\": 0, \"i\":0, \"o\":0, \"u\":0}\n",
    "for ch in mystr:\n",
    "    if ch in \"aeiou\":\n",
    "        countdict[ch] = countdict[ch] + 1\n",
    "print(countdict)"
   ]
  },
  {
   "cell_type": "code",
   "execution_count": null,
   "id": "24e04c59",
   "metadata": {},
   "outputs": [],
   "source": [
    "mystr = \"This python session is very interesting\"\n",
    "count = 0\n",
    "for ch in mystr:\n",
    "    if ch in \"aeiou\":\n",
    "        count = count + 1\n",
    "print(count)"
   ]
  },
  {
   "cell_type": "code",
   "execution_count": null,
   "id": "ca716480",
   "metadata": {},
   "outputs": [],
   "source": [
    "sideone = input(\"Give the length of the 1st side\")\n",
    "sidetwo = input(\"Give the length of the 2nd side\")\n",
    "sidethree = input(\"Give the length of the 3rd side\")\n",
    "\n",
    "if sideone == sidetwo == sidethree:\n",
    "    print(\"The given triangle is equilateral triangle\")\n",
    "elif sideone == sidetwo or sideone == sidethree or sidetwo == sidethree:\n",
    "    print(\"The given triangle is an isoceles triangle\")\n",
    "else:\n",
    "    print(\"The given triangle is a scalene triangle\")"
   ]
  },
  {
   "cell_type": "code",
   "execution_count": null,
   "id": "2eb00cb8",
   "metadata": {},
   "outputs": [],
   "source": []
  }
 ],
 "metadata": {
  "kernelspec": {
   "display_name": "Python 3 (ipykernel)",
   "language": "python",
   "name": "python3"
  },
  "language_info": {
   "codemirror_mode": {
    "name": "ipython",
    "version": 3
   },
   "file_extension": ".py",
   "mimetype": "text/x-python",
   "name": "python",
   "nbconvert_exporter": "python",
   "pygments_lexer": "ipython3",
   "version": "3.9.13"
  }
 },
 "nbformat": 4,
 "nbformat_minor": 5
}
