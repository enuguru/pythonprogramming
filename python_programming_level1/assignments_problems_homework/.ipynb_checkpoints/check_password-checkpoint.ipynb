{
 "cells": [
  {
   "cell_type": "code",
   "execution_count": 2,
   "id": "9157345c",
   "metadata": {},
   "outputs": [
    {
     "name": "stdout",
     "output_type": "stream",
     "text": [
      "Enter a passwordhellohow9\n",
      "This is not a good password\n"
     ]
    }
   ],
   "source": [
    "def checkPassword(password):\n",
    "    has_upper = False\n",
    "    has_lower = False\n",
    "    has_num   = False\n",
    "    \n",
    "    for ch in password:\n",
    "        if ch>= \"A\" and ch <= \"Z\":\n",
    "            has_upper = True\n",
    "        if ch>= \"a\" and ch <= \"z\":\n",
    "            has_lower = True\n",
    "        if ch>= \"0\" and ch <= \"9\":\n",
    "            has_num = True\n",
    "    \n",
    "    if len(password) >= 8 and has_upper and has_lower and has_num:\n",
    "        return True\n",
    "    \n",
    "    return False\n",
    "\n",
    "pswd = input(\"Enter a password\")\n",
    "if checkPassword(pswd):\n",
    "    print(\"This is a good password\")\n",
    "else:\n",
    "    print(\"This is not a good password\")"
   ]
  },
  {
   "cell_type": "code",
   "execution_count": null,
   "id": "8a76d6c3",
   "metadata": {},
   "outputs": [],
   "source": []
  }
 ],
 "metadata": {
  "kernelspec": {
   "display_name": "Python 3 (ipykernel)",
   "language": "python",
   "name": "python3"
  },
  "language_info": {
   "codemirror_mode": {
    "name": "ipython",
    "version": 3
   },
   "file_extension": ".py",
   "mimetype": "text/x-python",
   "name": "python",
   "nbconvert_exporter": "python",
   "pygments_lexer": "ipython3",
   "version": "3.9.7"
  }
 },
 "nbformat": 4,
 "nbformat_minor": 5
}
