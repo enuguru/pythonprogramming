{
 "cells": [
  {
   "cell_type": "code",
   "execution_count": null,
   "id": "8e3d8b6b",
   "metadata": {},
   "outputs": [],
   "source": [
    "import heapq\n",
    "def findMedianSortedArrays(nums1,nums2):\n",
    "        final = heapq.merge(nums1,nums2)\n",
    "        final = list(final)\n",
    "        if len(final)%2 != 0:\n",
    "            return final[len(final)//2]\n",
    "        else:\n",
    "            left = int(len(final)/2) - 1\n",
    "            right = int(len(final)/2)\n",
    "            return (final[left]+final[right])/2"
   ]
  },
  {
   "cell_type": "code",
   "execution_count": null,
   "id": "ddb65bdd",
   "metadata": {},
   "outputs": [],
   "source": [
    "listone = [34,67,88,99]\n",
    "listtwo = [3,7,9,11,17,19]\n",
    "newlist = findMedianSortedArrays(listone, listtwo)\n",
    "print(newlist)"
   ]
  },
  {
   "cell_type": "code",
   "execution_count": null,
   "id": "2095f3bf",
   "metadata": {},
   "outputs": [],
   "source": []
  }
 ],
 "metadata": {
  "kernelspec": {
   "display_name": "Python 3 (ipykernel)",
   "language": "python",
   "name": "python3"
  },
  "language_info": {
   "codemirror_mode": {
    "name": "ipython",
    "version": 3
   },
   "file_extension": ".py",
   "mimetype": "text/x-python",
   "name": "python",
   "nbconvert_exporter": "python",
   "pygments_lexer": "ipython3",
   "version": "3.9.7"
  }
 },
 "nbformat": 4,
 "nbformat_minor": 5
}
