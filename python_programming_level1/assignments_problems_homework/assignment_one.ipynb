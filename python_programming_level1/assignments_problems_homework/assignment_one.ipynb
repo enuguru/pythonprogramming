{
 "cells": [
  {
   "cell_type": "markdown",
   "id": "574a1c14",
   "metadata": {},
   "source": [
    "# prime number in conventional way"
   ]
  },
  {
   "cell_type": "code",
   "execution_count": null,
   "id": "8a4a73ac",
   "metadata": {},
   "outputs": [],
   "source": [
    "#Big(O) notation\n",
    "import math\n",
    "for val in range(2,1001):\n",
    "    flag = 0\n",
    "    for num in range(2,int(math.sqrt(val)+1)):\n",
    "        if val % num == 0:\n",
    "            flag = 1\n",
    "            break\n",
    "    else:\n",
    "        print(val,end = \" \")"
   ]
  },
  {
   "cell_type": "markdown",
   "id": "bf2daf72",
   "metadata": {},
   "source": [
    "# prime number pythonic - using list comprehension"
   ]
  },
  {
   "cell_type": "code",
   "execution_count": null,
   "id": "d0f4e9b9",
   "metadata": {},
   "outputs": [],
   "source": [
    "print([x for x in range(2, int(input())) if all(x % y != 0 for y in range(2, x))])"
   ]
  },
  {
   "cell_type": "markdown",
   "id": "d23deb3a",
   "metadata": {},
   "source": [
    "# prime number pythonic - using lambda expression"
   ]
  },
  {
   "cell_type": "code",
   "execution_count": null,
   "id": "cfcb7ec7",
   "metadata": {},
   "outputs": [],
   "source": [
    "print(list(filter(lambda x:all(x % y != 0 for y in range(2, x)), range(2, int(input())))))"
   ]
  },
  {
   "cell_type": "markdown",
   "id": "2d43e52b",
   "metadata": {},
   "source": [
    "# look and say in conventional way"
   ]
  },
  {
   "cell_type": "code",
   "execution_count": null,
   "id": "42b74904",
   "metadata": {},
   "outputs": [],
   "source": [
    "def lookandsay_sequence(num):\n",
    "    def nextnumber(sval):\n",
    "        result, lcn = [], 0 # result =  [\"31\", \"22\", \"11\"]\n",
    "        while lcn < len(sval): # 111221 - 6\n",
    "            count = 1\n",
    "            while ((lcn + 1) < len(sval) and sval[lcn] == sval[lcn + 1]):\n",
    "                lcn = lcn + 1\n",
    "                count = count + 1\n",
    "            result.append(str(count) + sval[lcn]) #[\"31\",\"22\",\"11\"]\n",
    "            lcn = lcn + 1\n",
    "        return ''. join(result) # '21' \"312211\"\n",
    "    seed = '1'\n",
    "    for _ in range(1, num):\n",
    "        seed = nextnumber(seed)\n",
    "    return seed\n",
    "\n",
    "for val in range(1,int(input(\"How many look and say numbers you want \"))+1):\n",
    "    number = lookandsay_sequence(val)\n",
    "    print(number)"
   ]
  },
  {
   "cell_type": "markdown",
   "id": "0e7f7981",
   "metadata": {},
   "source": [
    "# look and say pythonic using reduce function"
   ]
  },
  {
   "cell_type": "code",
   "execution_count": null,
   "id": "441b7afe",
   "metadata": {},
   "outputs": [],
   "source": [
    "# Pythonic solution uses the power of itertools.groupby\n",
    "\n",
    "import itertools\n",
    "def lookandsaypythonic(num):\n",
    "    seed = '1'\n",
    "    for _ in range(1,num):\n",
    "        seed = ''. join(str(len(list(group))) + key for key, group in itertools.groupby(seed))\n",
    "    return seed\n",
    "\n",
    "for val in range(1,int(input(\"How many look and say numbers you want \"))+1):\n",
    "    number = lookandsaypythonic(val)\n",
    "    print(number)"
   ]
  },
  {
   "cell_type": "markdown",
   "id": "14370666",
   "metadata": {},
   "source": [
    "# sieve of Eratosthenes using conventional way"
   ]
  },
  {
   "cell_type": "code",
   "execution_count": 8,
   "id": "f2e7bb2a",
   "metadata": {},
   "outputs": [
    {
     "name": "stdout",
     "output_type": "stream",
     "text": [
      "2 3 5 7 11 13 17 19 23 29 31 37 41 43 47 53 59 61 67 71 73 79 83 89 97 101 103 107 109 113 127 131 137 139 149 151 157 163 167 173 179 181 191 193 197 199 211 223 227 229 233 239 241 251 257 263 269 271 277 281 283 293 307 311 313 317 331 337 347 349 353 359 367 373 379 383 389 397 401 409 419 421 431 433 439 443 449 457 461 463 467 479 487 491 499 503 509 521 523 541 547 557 563 569 571 577 587 593 599 601 607 613 617 619 631 641 643 647 653 659 661 673 677 683 691 701 709 719 727 733 739 743 751 757 761 769 773 787 797 809 811 821 823 827 829 839 853 857 859 863 877 881 883 887 907 911 919 929 937 941 947 953 967 971 977 983 991 997 "
     ]
    }
   ],
   "source": [
    "def SieveOfEratosthenes(n):\n",
    "   # array of type boolean with True values in it\n",
    "   prime = [True for i in range(n + 1)]\n",
    "   #[True,False,False,True...]\n",
    "   p = 2\n",
    "   while (p * p <= n):\n",
    "      # If it remain unchanged it is prime\n",
    "      if (prime[p] == True):\n",
    "         # updating all the multiples\n",
    "         for i in range(p * 2, n + 1, p):\n",
    "            prime[i] = False\n",
    "      p += 1\n",
    "   prime[0]= False\n",
    "   prime[1]= False\n",
    "   # If the list is \"True\" then print the number\n",
    "   for p in range(n + 1):\n",
    "      if prime[p]:\n",
    "         print(p,end=\" \")\n",
    "            \n",
    "SieveOfEratosthenes(1000)"
   ]
  },
  {
   "cell_type": "markdown",
   "id": "de52e165",
   "metadata": {},
   "source": [
    "# sieve of Eratosthenes - pythonic code using lambda expression"
   ]
  },
  {
   "cell_type": "code",
   "execution_count": 7,
   "id": "f4f63412",
   "metadata": {},
   "outputs": [
    {
     "name": "stdout",
     "output_type": "stream",
     "text": [
      "{2, 3, 5, 7, 521, 11, 523, 13, 17, 19, 23, 541, 29, 31, 547, 37, 41, 43, 557, 47, 563, 53, 569, 59, 571, 61, 577, 67, 71, 73, 587, 79, 593, 83, 599, 89, 601, 607, 97, 101, 613, 103, 617, 107, 619, 109, 113, 631, 127, 641, 131, 643, 647, 137, 139, 653, 659, 149, 661, 151, 157, 673, 163, 677, 167, 683, 173, 179, 691, 181, 701, 191, 193, 197, 709, 199, 719, 211, 727, 733, 223, 227, 739, 229, 743, 233, 239, 751, 241, 757, 761, 251, 257, 769, 773, 263, 269, 271, 787, 277, 281, 283, 797, 293, 809, 811, 307, 821, 311, 823, 313, 827, 317, 829, 839, 331, 337, 853, 857, 347, 859, 349, 863, 353, 359, 877, 367, 881, 883, 373, 887, 379, 383, 389, 907, 397, 911, 401, 919, 409, 929, 419, 421, 937, 941, 431, 433, 947, 439, 953, 443, 449, 967, 457, 971, 461, 463, 977, 467, 983, 479, 991, 997, 487, 491, 499, 503, 509}\n"
     ]
    }
   ],
   "source": [
    "from functools import reduce\n",
    "n=1000\n",
    "primes = reduce(lambda r, x: r - set(range(x**2, n, x)) if x in r else r, range(2, int(n**0.5) + 1), set(range(2,n)))\n",
    "print(primes)"
   ]
  },
  {
   "cell_type": "markdown",
   "id": "0d3f09fa",
   "metadata": {},
   "source": [
    "# perfect number generation using conventional way"
   ]
  },
  {
   "cell_type": "code",
   "execution_count": null,
   "id": "a300b7f0",
   "metadata": {},
   "outputs": [],
   "source": [
    "for val in range(2,10000):\n",
    "    sum = 0\n",
    "    for num in range(1,val):\n",
    "        if val % num == 0:\n",
    "            sum = sum + num\n",
    "    if sum == val:\n",
    "        print(val,end=\" \")"
   ]
  },
  {
   "cell_type": "markdown",
   "id": "019243a9",
   "metadata": {},
   "source": [
    "# perfect number generation using pythonic way using list comprehenstion"
   ]
  },
  {
   "cell_type": "code",
   "execution_count": null,
   "id": "28470163",
   "metadata": {},
   "outputs": [],
   "source": [
    "print([x for x in range(1,10000) if sum(y for y in range(1,x) if x%y == 0)==x])"
   ]
  },
  {
   "cell_type": "markdown",
   "id": "599d4a8c",
   "metadata": {},
   "source": [
    "# fibonacci series using conventional method"
   ]
  },
  {
   "cell_type": "code",
   "execution_count": null,
   "id": "9be8d1d5",
   "metadata": {},
   "outputs": [],
   "source": [
    "a = 0; b = 1; count = 0\n",
    "print(a,end=\" \")\n",
    "print(b,end=\" \")\n",
    "while(count < 15):\n",
    "    c = a + b\n",
    "    print(c,end=\" \")\n",
    "    a = b; b = c;\n",
    "    count = count + 1"
   ]
  },
  {
   "cell_type": "markdown",
   "id": "6bab38a8",
   "metadata": {},
   "source": [
    "# fibonacci series pythonic code using lambda expression"
   ]
  },
  {
   "cell_type": "code",
   "execution_count": 4,
   "id": "c71379d3",
   "metadata": {},
   "outputs": [
    {
     "name": "stdout",
     "output_type": "stream",
     "text": [
      "0 1 1 2 3 5 8 13 21 34 55 89 144 233 377 610 987 1597 2584 4181 "
     ]
    }
   ],
   "source": [
    "fib = lambda n: n if n < 2 else fib(n-1) + fib(n-2)\n",
    "for val in range(0,20):\n",
    "    print(fib(val),end=\" \")"
   ]
  },
  {
   "cell_type": "code",
   "execution_count": null,
   "id": "8dfe103d",
   "metadata": {},
   "outputs": [],
   "source": []
  }
 ],
 "metadata": {
  "kernelspec": {
   "display_name": "Python 3 (ipykernel)",
   "language": "python",
   "name": "python3"
  },
  "language_info": {
   "codemirror_mode": {
    "name": "ipython",
    "version": 3
   },
   "file_extension": ".py",
   "mimetype": "text/x-python",
   "name": "python",
   "nbconvert_exporter": "python",
   "pygments_lexer": "ipython3",
   "version": "3.10.9"
  }
 },
 "nbformat": 4,
 "nbformat_minor": 5
}
