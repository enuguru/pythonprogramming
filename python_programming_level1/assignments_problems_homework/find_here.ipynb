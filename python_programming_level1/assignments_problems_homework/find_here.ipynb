{
 "cells": [
  {
   "cell_type": "markdown",
   "id": "b722db5f",
   "metadata": {},
   "source": [
    "# prime numbers generation through sieve of eratosthanus"
   ]
  },
  {
   "cell_type": "code",
   "execution_count": null,
   "id": "9d5503b7",
   "metadata": {},
   "outputs": [],
   "source": [
    "def SieveOfEratosthenes(n):\n",
    "   # array of type boolean with True values in it\n",
    "   prime = [True for i in range(n + 1)]\n",
    "   #print(prime)\n",
    "   p = 2\n",
    "   while (p * p <= n):\n",
    "      # If it remain unchanged it is prime\n",
    "      if (prime[p] == True):\n",
    "         # updating all the multiples\n",
    "         for i in range(p * 2, n + 1, p):\n",
    "            prime[i] = False\n",
    "      p += 1\n",
    "   prime[0]= False\n",
    "   prime[1]= False\n",
    "   # Print\n",
    "   for p in range(n + 1):\n",
    "      if prime[p]:\n",
    "         print (p,end=\" \")\n",
    "\n",
    "n = 100\n",
    "print (\"The prime numbers smaller than or equal to\", n,\"is\")\n",
    "SieveOfEratosthenes(n)"
   ]
  },
  {
   "cell_type": "markdown",
   "id": "67182d00",
   "metadata": {},
   "source": [
    "# look and say numbers in simple python"
   ]
  },
  {
   "cell_type": "code",
   "execution_count": null,
   "id": "5fb2f8b9",
   "metadata": {},
   "outputs": [],
   "source": [
    "def lookandsay_sequence(num):\n",
    "    def nextnumber(sval):\n",
    "        result, lcn = [], 0 # result =  [\"31\", \"22\", \"11\"]\n",
    "        while lcn < len(sval): # 111221 - 6\n",
    "            count = 1\n",
    "            while ((lcn + 1) < len(sval) and sval[lcn] == sval[lcn + 1]):\n",
    "                lcn = lcn + 1\n",
    "                count = count + 1\n",
    "            result.append(str(count) + sval[lcn]) #[\"31\",\"22\",\"11\"]\n",
    "            lcn = lcn + 1\n",
    "        return ''. join(result) # '21' \"312211\"\n",
    "    seed = '1'\n",
    "    for _ in range(1, num):\n",
    "        seed = nextnumber(seed)\n",
    "    return seed\n",
    "\n",
    "for val in range(1,int(input(\"How many look and say numbers you want \"))+1):\n",
    "    number = lookandsay_sequence(val)\n",
    "    print(number)"
   ]
  },
  {
   "cell_type": "markdown",
   "id": "0dce46f6",
   "metadata": {},
   "source": [
    "# look and say numbers pythonic"
   ]
  },
  {
   "cell_type": "code",
   "execution_count": null,
   "id": "c0bee640",
   "metadata": {},
   "outputs": [],
   "source": [
    "# Pythonic solutjon uses the power of itertools.groupby\n",
    "\n",
    "import itertools\n",
    "# 31131211131221   111221\n",
    "def lookandsaypythonic(num):\n",
    "    seed = '1'\n",
    "    for _ in range(num - 1):\n",
    "        seed = ''. join(str(len(list(group))) + key for key, group in itertools.groupby(seed))\n",
    "    return seed\n",
    "\n",
    "for val in range(1,int(input(\"How many look and say numbers you want \"))+1):\n",
    "    number = lookandsaypythonic(val)\n",
    "    print(number)"
   ]
  },
  {
   "cell_type": "code",
   "execution_count": null,
   "id": "95301c11",
   "metadata": {},
   "outputs": [],
   "source": [
    "itertools."
   ]
  },
  {
   "cell_type": "markdown",
   "id": "6b28a291",
   "metadata": {},
   "source": [
    "# spread sheet decode or excel column decode in simple python"
   ]
  },
  {
   "cell_type": "code",
   "execution_count": 5,
   "id": "eebc7798",
   "metadata": {},
   "outputs": [
    {
     "name": "stdout",
     "output_type": "stream",
     "text": [
      "enter a valid excel column id BC\n",
      "55\n"
     ]
    }
   ],
   "source": [
    "def decode(col): # cd\n",
    "    c=ord('A')\n",
    "    ret=0\n",
    "    for i in col:  # BC\n",
    "        i=ord(i)\n",
    "        ret=(ret * 26) + i-c+1 # 0, 3, 82 \n",
    "    return ret\n",
    "\n",
    "col = input(\"enter a valid excel column id \")\n",
    "col = col.upper()\n",
    "print(decode(col))"
   ]
  },
  {
   "cell_type": "markdown",
   "id": "360d1d12",
   "metadata": {},
   "source": [
    "# spreadsheet decode or excel column decode - pythonic"
   ]
  },
  {
   "cell_type": "code",
   "execution_count": 6,
   "id": "58e39b7b",
   "metadata": {},
   "outputs": [
    {
     "name": "stdout",
     "output_type": "stream",
     "text": [
      "enter a valid excel column id BC\n",
      "55\n"
     ]
    }
   ],
   "source": [
    "# this program converts an excel column id to an integer\n",
    "import functools\n",
    "\n",
    "col = input(\"enter a valid excel column id \").upper()\n",
    "# 0 goes to ret, col goes to c variable\n",
    "# it is reverse in reduce function  # abd\n",
    "\n",
    "print(functools.reduce(lambda result,p:result*26+ord(p)-ord('A')+1,col,0)) #bc"
   ]
  },
  {
   "cell_type": "code",
   "execution_count": null,
   "id": "2b24cc0f",
   "metadata": {},
   "outputs": [],
   "source": [
    "print(functools.reduce(lambda result,p:result*26+ord(p)-ord('A')+1,input(\"enter a valid excel column id \").upper(),0)) #bc"
   ]
  },
  {
   "cell_type": "markdown",
   "id": "a9c34d73",
   "metadata": {},
   "source": [
    "# spreadsheet encoding or excel column encoding"
   ]
  },
  {
   "cell_type": "code",
   "execution_count": 7,
   "id": "44d2e9b1",
   "metadata": {},
   "outputs": [
    {
     "name": "stdout",
     "output_type": "stream",
     "text": [
      "Give a number55\n"
     ]
    },
    {
     "data": {
      "text/plain": [
       "'BC'"
      ]
     },
     "execution_count": 7,
     "metadata": {},
     "output_type": "execute_result"
    }
   ],
   "source": [
    "def spreadSheetEncoding(n):\n",
    "    alphabets = \"ABCDEFGHIJKLMNOPQRSTUVWXYZ\"\n",
    "    s = \"\"\n",
    "    while n > 0:\n",
    "        n = n-1\n",
    "        s = alphabets[n % 26] + s\n",
    "        n = n // 26\n",
    "    return s\n",
    "\n",
    "spreadSheetEncoding(int(input(\"Give a number\")))"
   ]
  },
  {
   "cell_type": "code",
   "execution_count": null,
   "id": "36c800ce",
   "metadata": {},
   "outputs": [],
   "source": [
    "values = [1,2,3,4]\n",
    "result = itertools.permutations(values, 3)  # n! / (n-r)!\n",
    "for value in result:\n",
    "    print(value)"
   ]
  },
  {
   "cell_type": "code",
   "execution_count": null,
   "id": "20a7b912",
   "metadata": {},
   "outputs": [],
   "source": [
    "import functools\n",
    "character=input()#'Z'  #602\n",
    "result=functools.reduce(lambda x,c:x*26+ord(c)-ord('A')+1,character,0)\n",
    "print(result)"
   ]
  },
  {
   "cell_type": "code",
   "execution_count": null,
   "id": "56878580",
   "metadata": {},
   "outputs": [],
   "source": [
    "functools.namedtuple()"
   ]
  },
  {
   "cell_type": "markdown",
   "id": "d3bb5dfb",
   "metadata": {},
   "source": [
    "# "
   ]
  },
  {
   "cell_type": "code",
   "execution_count": 8,
   "id": "1a7180ed",
   "metadata": {},
   "outputs": [
    {
     "name": "stdout",
     "output_type": "stream",
     "text": [
      "Give a number55\n",
      "The number of set bits is 5\n"
     ]
    }
   ],
   "source": [
    "def count_bits(num):  # 0011 0111\n",
    "    count = 0\n",
    "    while num:\n",
    "        if((num & 1) == 1):\n",
    "            count = count + 1\n",
    "        num = num >> 1\n",
    "    return count\n",
    "\n",
    "var = int(input(\"Give a number\"))\n",
    "set_bits = count_bits(var)\n",
    "print(\"The number of set bits is %d\"%set_bits)"
   ]
  },
  {
   "cell_type": "code",
   "execution_count": null,
   "id": "951a39b0",
   "metadata": {},
   "outputs": [],
   "source": [
    "\n",
    "def count_bits(num):\n",
    "    count = 0\n",
    "    while num:\n",
    "        count = count + (num & 1)\n",
    "        num = num >> 1\n",
    "    return count\n",
    "\n",
    "var = int(input(\"Give a number\"))\n",
    "set_bits = count_bits(var)\n",
    "print(\"The number of set bits is %d\"%set_bits)\n"
   ]
  },
  {
   "cell_type": "code",
   "execution_count": null,
   "id": "0ff20e0e",
   "metadata": {},
   "outputs": [],
   "source": [
    "def count_bits(num):\n",
    "    count = 0\n",
    "    while num:\n",
    "        count = count +  1\n",
    "        num = num & (num-1)\n",
    "    return count\n",
    "\n",
    "var = int(input(\"Give a number\"))\n",
    "set_bits = count_bits(var)\n",
    "\n",
    "print(\"The number of set bits is %d\"%set_bits)\n"
   ]
  },
  {
   "cell_type": "code",
   "execution_count": 9,
   "id": "77993429",
   "metadata": {},
   "outputs": [
    {
     "name": "stdout",
     "output_type": "stream",
     "text": [
      "Give a number55\n",
      "It is odd parity\n"
     ]
    }
   ],
   "source": [
    "def find_parity(num):\n",
    "    parity = 0\n",
    "    while num:\n",
    "        if(num & 1 == 1):\n",
    "            parity = parity ^ 1\n",
    "        num = num >> 1\n",
    "    return parity\n",
    "\n",
    "var = int(input(\"Give a number\"))\n",
    "set_bits = find_parity(var)\n",
    "if set_bits:\n",
    "    print(\"It is odd parity\")\n",
    "else:\n",
    "    print(\"It is even parity\")"
   ]
  },
  {
   "cell_type": "markdown",
   "id": "115646e1",
   "metadata": {},
   "source": [
    "# roman to decimal - pythonic"
   ]
  },
  {
   "cell_type": "code",
   "execution_count": null,
   "id": "b113c1ec",
   "metadata": {},
   "outputs": [],
   "source": [
    "values = {\n",
    "    \"I\": 1,\n",
    "    \"V\": 5,\n",
    "    \"X\": 10,\n",
    "    \"L\": 50,\n",
    "    \"C\": 100,\n",
    "    \"D\": 500,\n",
    "    \"M\": 1000,\n",
    "}\n",
    "\n",
    "def romanToInt(s):\n",
    "    total = 0\n",
    "    i = 0\n",
    "    while i < len(s):\n",
    "        # If this is the subtractive case.\n",
    "        if i + 1 < len(s) and values[s[i]] < values[s[i + 1]]:\n",
    "            total += values[s[i + 1]] - values[s[i]]\n",
    "            i += 2\n",
    "        # Else this is NOT the subtractive case.\n",
    "        else:\n",
    "            total += values[s[i]]\n",
    "            i += 1\n",
    "    return total\n",
    "\n",
    "print(romanToInt(\"MXV\"))"
   ]
  },
  {
   "cell_type": "code",
   "execution_count": null,
   "id": "1e8afa9c",
   "metadata": {},
   "outputs": [],
   "source": [
    "values = {\n",
    "    \"I\": 1,\n",
    "    \"V\": 5,\n",
    "    \"X\": 10,\n",
    "    \"L\": 50,\n",
    "    \"C\": 100,\n",
    "    \"D\": 500,\n",
    "    \"M\": 1000,\n",
    "}\n",
    "\n",
    "def romanToInt(s):\n",
    "    total = values[s[-1]]\n",
    "    i = len(s)-2\n",
    "    while i >=0:\n",
    "        # If this is the subtractive case.\n",
    "        if values[s[i]] < values[s[i + 1]]:\n",
    "            total = total + (values[s[i + 1]] - values[s[i]])\n",
    "        # Else this is NOT the subtractive case.\n",
    "        else:\n",
    "            total = total + values[s[i]]\n",
    "        i -= 1\n",
    "    return total\n",
    "\n",
    "print(romanToInt(\"MLVV\"))"
   ]
  },
  {
   "cell_type": "markdown",
   "id": "e9409c7c",
   "metadata": {},
   "source": [
    "# Roman to Decimal Pythonic"
   ]
  },
  {
   "cell_type": "code",
   "execution_count": null,
   "id": "cb2782f8",
   "metadata": {},
   "outputs": [],
   "source": [
    "import functools\n",
    "def roman_to_decimal(s):\n",
    "    T={'I':1,'V':5,'X':10,'L':50,'C':100,'D':500,'M':1000}\n",
    "    return functools.reduce(lambda val,i:val+(-T[s[i]] if T[s[i]]<T[s[i+1]] else T[s[i]]),reversed(range(len(s)-1)),T[s[-1]])\n",
    "\n",
    "s= input(\"Give a Roman number \")\n",
    "#s = \"V\"\n",
    "\n",
    "print(roman_to_decimal(s))"
   ]
  },
  {
   "cell_type": "code",
   "execution_count": null,
   "id": "03d0b18c",
   "metadata": {},
   "outputs": [],
   "source": [
    "print(list(reversed(range(2))))"
   ]
  },
  {
   "cell_type": "code",
   "execution_count": null,
   "id": "8e3668ce",
   "metadata": {},
   "outputs": [],
   "source": [
    "intToroman = { 1: 'I', 4: 'IV', 5: 'V', 9: 'IX', 10: 'X', 40: 'XL',\n",
    "              50: 'L', 90: 'XC', 100: 'C', 400: 'XD', 500: 'D', 900: 'CM', 1000: 'M'}\n",
    "integer = int(input(\"Enter a number: \"))\n",
    "\n",
    "#Descending intger equivalent of seven roman numerals \n",
    "print_order = [1000, 900, 500, 400, 100, 90, 50, 40, 10, 9, 5, 4, 1]\n",
    "\n",
    "for x in print_order:\n",
    "    if integer != 0:\n",
    "        quotient= integer//x\n",
    "\n",
    "        #If quotient is not zero output the roman equivalent\n",
    "        if quotient != 0:\n",
    "            for y in range(quotient):\n",
    "                print(intToroman[x], end=\"\")\n",
    "\n",
    "        #update integer with remainder\n",
    "        integer = integer%x"
   ]
  },
  {
   "cell_type": "markdown",
   "id": "d54b8067",
   "metadata": {},
   "source": [
    "# collatz conjecture"
   ]
  },
  {
   "cell_type": "code",
   "execution_count": null,
   "id": "7e97e055",
   "metadata": {},
   "outputs": [],
   "source": [
    "num = int(input(\"Give a number\"))\n",
    "val = num\n",
    "print(val,end=\" \")\n",
    "while(1):\n",
    "    if val%2 == 0:\n",
    "        val = val // 2\n",
    "        print(val,end=\" \")\n",
    "    else:\n",
    "        val = val*3 + 1\n",
    "        print(val,end=\" \")\n",
    "    if val == 1:\n",
    "        break;"
   ]
  },
  {
   "cell_type": "code",
   "execution_count": null,
   "id": "7ff35d84",
   "metadata": {},
   "outputs": [],
   "source": [
    "for num in range(1,10001):\n",
    "    total = 0\n",
    "    for val in range(1,num):\n",
    "        if num % val == 0:\n",
    "            total = total + val\n",
    "    if total == num:        \n",
    "        print(num,end=\" \")"
   ]
  },
  {
   "cell_type": "code",
   "execution_count": null,
   "id": "224bbfe1",
   "metadata": {},
   "outputs": [],
   "source": [
    "convert the given decimal to binary bits\n",
    "convert the given decimal into hex values"
   ]
  }
 ],
 "metadata": {
  "kernelspec": {
   "display_name": "Python 3 (ipykernel)",
   "language": "python",
   "name": "python3"
  },
  "language_info": {
   "codemirror_mode": {
    "name": "ipython",
    "version": 3
   },
   "file_extension": ".py",
   "mimetype": "text/x-python",
   "name": "python",
   "nbconvert_exporter": "python",
   "pygments_lexer": "ipython3",
   "version": "3.10.9"
  }
 },
 "nbformat": 4,
 "nbformat_minor": 5
}
