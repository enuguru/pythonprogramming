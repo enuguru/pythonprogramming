{
 "cells": [
  {
   "cell_type": "code",
   "execution_count": 4,
   "id": "7a55b407",
   "metadata": {},
   "outputs": [
    {
     "name": "stdout",
     "output_type": "stream",
     "text": [
      "hiheelo\n",
      "{'e', 'h'}\n"
     ]
    }
   ],
   "source": [
    "str=input()\n",
    "li=[]\n",
    "for x in list(str):\n",
    "    if str.count(x)>1:\n",
    "        li.append(x)\n",
    "print(set(li))"
   ]
  },
  {
   "cell_type": "code",
   "execution_count": 7,
   "id": "521822ed",
   "metadata": {},
   "outputs": [
    {
     "name": "stdout",
     "output_type": "stream",
     "text": [
      "give a stringhihello\n",
      "['e', 'h', 'i', 'o', 'l']\n"
     ]
    }
   ],
   "source": [
    "mystr = input('give a string')\n",
    "mystr = set(mystr)\n",
    "print(list(mystr))"
   ]
  },
  {
   "cell_type": "code",
   "execution_count": 8,
   "id": "f52466c1",
   "metadata": {},
   "outputs": [],
   "source": [
    "newstring = \"this is a new string\""
   ]
  },
  {
   "cell_type": "code",
   "execution_count": null,
   "id": "4e5b40c3",
   "metadata": {},
   "outputs": [],
   "source": [
    "newstring."
   ]
  }
 ],
 "metadata": {
  "kernelspec": {
   "display_name": "Python 3 (ipykernel)",
   "language": "python",
   "name": "python3"
  },
  "language_info": {
   "codemirror_mode": {
    "name": "ipython",
    "version": 3
   },
   "file_extension": ".py",
   "mimetype": "text/x-python",
   "name": "python",
   "nbconvert_exporter": "python",
   "pygments_lexer": "ipython3",
   "version": "3.10.9"
  }
 },
 "nbformat": 4,
 "nbformat_minor": 5
}
