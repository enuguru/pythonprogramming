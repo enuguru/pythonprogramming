{
 "cells": [
  {
   "cell_type": "code",
   "execution_count": 4,
   "id": "8ab3eb71",
   "metadata": {},
   "outputs": [],
   "source": [
    "def SieveOfEratosthenes(n):\n",
    "   # array of type boolean with True values in it\n",
    "   prime = [True for i in range(n + 1)]\n",
    "   #[True,False,False,True...]\n",
    "   p = 2\n",
    "   while (p * p <= n):\n",
    "      # If it remain unchanged it is prime\n",
    "      if (prime[p] == True):\n",
    "         # updating all the multiples\n",
    "         for i in range(p * 2, n + 1, p):\n",
    "            prime[i] = False\n",
    "      p += 1\n",
    "   prime[0]= False\n",
    "   prime[1]= False\n",
    "   # If the list is \"True\" then print the number\n",
    "   for p in range(n + 1):\n",
    "      if prime[p]:\n",
    "         print(p,end=\" \")"
   ]
  },
  {
   "cell_type": "code",
   "execution_count": 3,
   "id": "4ebb08e8",
   "metadata": {},
   "outputs": [
    {
     "name": "stdout",
     "output_type": "stream",
     "text": [
      "2 3 5 7 11 13 17 19 23 29 31 37 41 43 47 53 59 61 67 71 73 79 83 89 97 "
     ]
    }
   ],
   "source": [
    "SieveOfEratosthenes(100)"
   ]
  },
  {
   "cell_type": "code",
   "execution_count": 3,
   "id": "99df57c3",
   "metadata": {},
   "outputs": [
    {
     "name": "stdout",
     "output_type": "stream",
     "text": [
      "[True, True, True, True, True, True, True, True, True, True, True]\n"
     ]
    }
   ],
   "source": [
    "prime = [True for i in range(10 + 1)]\n",
    "print(prime)"
   ]
  },
  {
   "cell_type": "code",
   "execution_count": null,
   "id": "b64e5f5f",
   "metadata": {},
   "outputs": [],
   "source": []
  }
 ],
 "metadata": {
  "kernelspec": {
   "display_name": "Python 3 (ipykernel)",
   "language": "python",
   "name": "python3"
  },
  "language_info": {
   "codemirror_mode": {
    "name": "ipython",
    "version": 3
   },
   "file_extension": ".py",
   "mimetype": "text/x-python",
   "name": "python",
   "nbconvert_exporter": "python",
   "pygments_lexer": "ipython3",
   "version": "3.10.9"
  }
 },
 "nbformat": 4,
 "nbformat_minor": 5
}
