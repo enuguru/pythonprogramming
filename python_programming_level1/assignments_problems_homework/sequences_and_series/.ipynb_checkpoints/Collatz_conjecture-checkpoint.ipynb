{
 "cells": [
  {
   "cell_type": "markdown",
   "id": "f68396b7",
   "metadata": {},
   "source": [
    "# Collatz Conjecture"
   ]
  },
  {
   "cell_type": "code",
   "execution_count": 2,
   "id": "83ec80aa",
   "metadata": {},
   "outputs": [
    {
     "name": "stdout",
     "output_type": "stream",
     "text": [
      "Give a number17\n",
      "17 52 26 13 40 20 10 5 16 8 4 2 1\n"
     ]
    }
   ],
   "source": [
    "# collatz conjecture\n",
    "#7 22 11 34 17 52 26 13 40 20 10 5 16 8 4 2 1\n",
    "\n",
    "num = int(input(\"Give a number\"))\n",
    "while num != 1:\n",
    "    print(num, end=\" \")\n",
    "    if num % 2 == 0:\n",
    "        num = num // 2\n",
    "    else:\n",
    "        num = num * 3 + 1\n",
    "print(num)"
   ]
  },
  {
   "cell_type": "code",
   "execution_count": null,
   "id": "a0536baf",
   "metadata": {},
   "outputs": [],
   "source": []
  }
 ],
 "metadata": {
  "kernelspec": {
   "display_name": "Python 3 (ipykernel)",
   "language": "python",
   "name": "python3"
  },
  "language_info": {
   "codemirror_mode": {
    "name": "ipython",
    "version": 3
   },
   "file_extension": ".py",
   "mimetype": "text/x-python",
   "name": "python",
   "nbconvert_exporter": "python",
   "pygments_lexer": "ipython3",
   "version": "3.10.9"
  }
 },
 "nbformat": 4,
 "nbformat_minor": 5
}
