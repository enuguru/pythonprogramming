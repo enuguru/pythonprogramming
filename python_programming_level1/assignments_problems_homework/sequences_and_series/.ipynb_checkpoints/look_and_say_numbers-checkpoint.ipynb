{
 "cells": [
  {
   "cell_type": "markdown",
   "id": "67182d00",
   "metadata": {},
   "source": [
    "# look and say numbers in simple python"
   ]
  },
  {
   "cell_type": "code",
   "execution_count": null,
   "id": "5fb2f8b9",
   "metadata": {},
   "outputs": [],
   "source": [
    "def lookandsay_sequence(num):\n",
    "    def nextnumber(sval):\n",
    "        result, lcn = [], 0 # result =  [\"31\", \"22\", \"11\"]\n",
    "        while lcn < len(sval): # 111221 - 6\n",
    "            count = 1\n",
    "            while ((lcn + 1) < len(sval) and sval[lcn] == sval[lcn + 1]):\n",
    "                lcn = lcn + 1\n",
    "                count = count + 1\n",
    "            result.append(str(count) + sval[lcn]) #[\"31\",\"22\",\"11\"]\n",
    "            lcn = lcn + 1\n",
    "        return ''. join(result) # '21' \"312211\"\n",
    "    seed = '1'\n",
    "    for _ in range(1, num):\n",
    "        seed = nextnumber(seed)\n",
    "    return seed\n",
    "\n",
    "for val in range(1,int(input(\"How many look and say numbers you want \"))+1):\n",
    "    number = lookandsay_sequence(val)\n",
    "    print(number)"
   ]
  },
  {
   "cell_type": "markdown",
   "id": "0dce46f6",
   "metadata": {},
   "source": [
    "# look and say numbers pythonic"
   ]
  },
  {
   "cell_type": "code",
   "execution_count": null,
   "id": "c0bee640",
   "metadata": {},
   "outputs": [],
   "source": [
    "# Pythonic solutjon uses the power of itertools.groupby\n",
    "\n",
    "import itertools\n",
    "# 31131211131221   111221\n",
    "def lookandsaypythonic(num):\n",
    "    seed = '1'\n",
    "    for _ in range(num - 1):\n",
    "        seed = ''. join(str(len(list(group))) + key for key, group in itertools.groupby(seed))\n",
    "    return seed\n",
    "\n",
    "for val in range(1,int(input(\"How many look and say numbers you want \"))+1):\n",
    "    number = lookandsaypythonic(val)\n",
    "    print(number)"
   ]
  },
  {
   "cell_type": "code",
   "execution_count": null,
   "id": "95301c11",
   "metadata": {},
   "outputs": [],
   "source": [
    "itertools."
   ]
  },
  {
   "cell_type": "code",
   "execution_count": null,
   "id": "224bbfe1",
   "metadata": {},
   "outputs": [],
   "source": []
  }
 ],
 "metadata": {
  "kernelspec": {
   "display_name": "Python 3 (ipykernel)",
   "language": "python",
   "name": "python3"
  },
  "language_info": {
   "codemirror_mode": {
    "name": "ipython",
    "version": 3
   },
   "file_extension": ".py",
   "mimetype": "text/x-python",
   "name": "python",
   "nbconvert_exporter": "python",
   "pygments_lexer": "ipython3",
   "version": "3.10.9"
  }
 },
 "nbformat": 4,
 "nbformat_minor": 5
}
