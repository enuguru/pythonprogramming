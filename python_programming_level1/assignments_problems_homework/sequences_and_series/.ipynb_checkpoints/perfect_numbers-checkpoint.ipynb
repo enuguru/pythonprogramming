{
 "cells": [
  {
   "cell_type": "markdown",
   "id": "ca56f42c",
   "metadata": {},
   "source": [
    "# generating perfect numbers in a range"
   ]
  },
  {
   "cell_type": "code",
   "execution_count": null,
   "id": "3e6eefdb",
   "metadata": {},
   "outputs": [],
   "source": [
    "# sum of factors\n",
    "# 6 = 1,2,3 = 6\n",
    "# 28 = 1,2,4,7,14 = 28\n",
    "for val in range(2,10000):\n",
    "    sum = 0\n",
    "    for num in range(1,val):\n",
    "        if val % num == 0:\n",
    "            sum = sum + num\n",
    "    if sum == val:\n",
    "        print(val,end=\" \")"
   ]
  },
  {
   "cell_type": "code",
   "execution_count": 1,
   "id": "b75008e9",
   "metadata": {},
   "outputs": [
    {
     "name": "stdout",
     "output_type": "stream",
     "text": [
      "6\n",
      "28\n",
      "496\n",
      "8128\n"
     ]
    }
   ],
   "source": [
    "for n in range(1, 10001):\n",
    "  factors = [i for i in range(1,n+1) if n % i == 0]\n",
    "  if sum(factors) == 2*n: print(n)"
   ]
  },
  {
   "cell_type": "code",
   "execution_count": null,
   "id": "a5e8e91e",
   "metadata": {},
   "outputs": [],
   "source": []
  }
 ],
 "metadata": {
  "kernelspec": {
   "display_name": "Python 3 (ipykernel)",
   "language": "python",
   "name": "python3"
  },
  "language_info": {
   "codemirror_mode": {
    "name": "ipython",
    "version": 3
   },
   "file_extension": ".py",
   "mimetype": "text/x-python",
   "name": "python",
   "nbconvert_exporter": "python",
   "pygments_lexer": "ipython3",
   "version": "3.10.9"
  }
 },
 "nbformat": 4,
 "nbformat_minor": 5
}
