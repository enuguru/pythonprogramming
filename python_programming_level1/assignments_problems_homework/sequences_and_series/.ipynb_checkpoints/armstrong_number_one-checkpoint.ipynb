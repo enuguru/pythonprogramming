{
 "cells": [
  {
   "cell_type": "markdown",
   "id": "d21768bd",
   "metadata": {},
   "source": [
    "# checking if the given number is an armstrong number"
   ]
  },
  {
   "cell_type": "code",
   "execution_count": 1,
   "id": "364d827c",
   "metadata": {},
   "outputs": [
    {
     "name": "stdout",
     "output_type": "stream",
     "text": [
      "Give a number 1000\n",
      "The given number is not an armstrong number\n"
     ]
    }
   ],
   "source": [
    "num = input(\"Give a number \")\n",
    "sum = 0\n",
    "for val in num:\n",
    "    val = int(val)\n",
    "    sum = sum + (val*val*val)\n",
    "if sum == int(num):\n",
    "    print(\"The given number is an armstrong number\")\n",
    "else:\n",
    "    print(\"The given number is not an armstrong number\")"
   ]
  },
  {
   "cell_type": "markdown",
   "id": "b2eec2d1",
   "metadata": {},
   "source": [
    "# printing armstrong numbers in the given range"
   ]
  },
  {
   "cell_type": "code",
   "execution_count": 2,
   "id": "dcb1f5a3",
   "metadata": {},
   "outputs": [
    {
     "name": "stdout",
     "output_type": "stream",
     "text": [
      "1\n",
      "153\n",
      "370\n",
      "371\n",
      "407\n"
     ]
    }
   ],
   "source": [
    "for num in range(1,10000):\n",
    "    num = str(num)\n",
    "    sum = 0\n",
    "    for val in num:\n",
    "        val = int(val)\n",
    "        sum = sum + (val*val*val)\n",
    "    if sum == int(num):\n",
    "        print(num)"
   ]
  },
  {
   "cell_type": "code",
   "execution_count": null,
   "id": "1222e5b6",
   "metadata": {},
   "outputs": [],
   "source": []
  }
 ],
 "metadata": {
  "kernelspec": {
   "display_name": "Python 3 (ipykernel)",
   "language": "python",
   "name": "python3"
  },
  "language_info": {
   "codemirror_mode": {
    "name": "ipython",
    "version": 3
   },
   "file_extension": ".py",
   "mimetype": "text/x-python",
   "name": "python",
   "nbconvert_exporter": "python",
   "pygments_lexer": "ipython3",
   "version": "3.10.9"
  }
 },
 "nbformat": 4,
 "nbformat_minor": 5
}
