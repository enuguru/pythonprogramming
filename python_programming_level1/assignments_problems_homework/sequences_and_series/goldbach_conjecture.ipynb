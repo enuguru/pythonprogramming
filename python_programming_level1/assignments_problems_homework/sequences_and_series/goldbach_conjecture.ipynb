{
 "cells": [
  {
   "cell_type": "markdown",
   "id": "34d3bea4",
   "metadata": {},
   "source": [
    "\"Every even integer greater than 2 can be expressed as the sum of two prime numbers.\"\n",
    "\n",
    "Proposed by the Prussian mathematician Christian Goldbach in a 1742 letter to Leonhard Euler, \n",
    "the conjecture has been tested extensively by computers for very large numbers and no counterexamples \n",
    "have been found, which provides numerical evidence for its truth. However, despite considerable effort, \n",
    "it has neither been proved nor disproved and remains one of the great open questions in mathematics"
   ]
  },
  {
   "cell_type": "code",
   "execution_count": 12,
   "id": "c30e31be",
   "metadata": {},
   "outputs": [],
   "source": [
    "def goldbach(N):\n",
    "    x, y = 0, 0\n",
    "    result = 0\n",
    "    if N % 2 == 0:\n",
    "        prime = odd_primes(N)\n",
    "        while result != N:\n",
    "            for i in range(len(prime)):\n",
    "                if result == N: break \n",
    "                x = prime[i]\n",
    "                for j in range(len(prime)):\n",
    "                    y = prime[j]\n",
    "                    result = x + y\n",
    "                    if result == N: break \n",
    "    return x, y "
   ]
  },
  {
   "cell_type": "code",
   "execution_count": 13,
   "id": "39884dab",
   "metadata": {},
   "outputs": [
    {
     "name": "stdout",
     "output_type": "stream",
     "text": [
      "Give an evev number200\n",
      "3 197\n"
     ]
    }
   ],
   "source": [
    "x, y = goldbach(int(input(\"Give an evev number\")))\n",
    "print(x,y)"
   ]
  },
  {
   "cell_type": "code",
   "execution_count": 15,
   "id": "46295242",
   "metadata": {},
   "outputs": [
    {
     "name": "stdout",
     "output_type": "stream",
     "text": [
      "No three prime sum found for 4\n",
      "No three prime sum found for 5\n",
      "6 = 2 + 2 + 2\n",
      "7 = 3 + 2 + 2\n",
      "8 = 2 + 3 + 3\n",
      "9 = 3 + 3 + 3\n",
      "10 = 2 + 3 + 5\n"
     ]
    }
   ],
   "source": [
    "def is_prime(num):\n",
    "    \"\"\"Check if a number is prime.\"\"\"\n",
    "    if num < 2:\n",
    "        return False\n",
    "    for i in range(2, int(num**0.5) + 1):\n",
    "        if num % i == 0:\n",
    "            return False\n",
    "    return True\n",
    "\n",
    "def find_three_primes(number):\n",
    "    \"\"\"Find and print three primes that sum up to 'number'.\"\"\"\n",
    "    # If the number is even, set one of the primes to 2 and make the number odd\n",
    "    if number % 2 == 0:\n",
    "        primes = [2]\n",
    "        number -= 2\n",
    "    else:\n",
    "        primes = [3]\n",
    "        number -= 3\n",
    "    \n",
    "    # Now look for two primes that sum up to the remaining number\n",
    "    for i in range(2, number):\n",
    "        if is_prime(i) and is_prime(number - i):\n",
    "            primes.extend([i, number - i])\n",
    "            return primes\n",
    "    return []\n",
    "\n",
    "def print_goldbachs_up_to_limit(limit):\n",
    "    \"\"\"Print the Goldbach's weak conjecture representation up to a limit.\"\"\"\n",
    "    for i in range(4, limit + 1):\n",
    "        primes = find_three_primes(i)\n",
    "        if primes:\n",
    "            print(f\"{i} = {primes[0]} + {primes[1]} + {primes[2]}\")\n",
    "        else:\n",
    "            print(f\"No three prime sum found for {i}\")\n",
    "\n",
    "print_goldbachs_up_to_limit(10)"
   ]
  },
  {
   "cell_type": "code",
   "execution_count": null,
   "id": "98ff025a",
   "metadata": {},
   "outputs": [],
   "source": []
  }
 ],
 "metadata": {
  "kernelspec": {
   "display_name": "Python 3 (ipykernel)",
   "language": "python",
   "name": "python3"
  },
  "language_info": {
   "codemirror_mode": {
    "name": "ipython",
    "version": 3
   },
   "file_extension": ".py",
   "mimetype": "text/x-python",
   "name": "python",
   "nbconvert_exporter": "python",
   "pygments_lexer": "ipython3",
   "version": "3.10.9"
  }
 },
 "nbformat": 4,
 "nbformat_minor": 5
}
