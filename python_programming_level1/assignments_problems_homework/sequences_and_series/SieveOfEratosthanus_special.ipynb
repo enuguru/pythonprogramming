{
 "cells": [
  {
   "cell_type": "code",
   "execution_count": 18,
   "id": "2e32572e",
   "metadata": {},
   "outputs": [
    {
     "name": "stdout",
     "output_type": "stream",
     "text": [
      "Enter a number 100\n",
      "2 3 5 7 11 13 17 19 23 29 31 37 41 43 47 53 59 61 67 71 73 79 83 89 97 "
     ]
    }
   ],
   "source": [
    "def yourSieveOfEratosthenes(q):\n",
    "    primelist = [True for i in range(q + 1)]\n",
    "    s = 2\n",
    "    while(s * s <= q):\n",
    "        if (primelist[s] == True):\n",
    "            for i in range(s * 2, q + 1, s):\n",
    "                primelist[i] = False\n",
    "        s = s + 1\n",
    "    primelist[0]= False\n",
    "    primelist[1]= False\n",
    "    for val in range(q + 1):\n",
    "        if primelist[val]:\n",
    "            print (val,end=\" \")\n",
    "\n",
    "p = int(input(\"Enter a number \"))\n",
    "yourSieveOfEratosthenes(p)"
   ]
  },
  {
   "cell_type": "code",
   "execution_count": null,
   "id": "7d3011e4",
   "metadata": {},
   "outputs": [],
   "source": []
  }
 ],
 "metadata": {
  "kernelspec": {
   "display_name": "Python 3 (ipykernel)",
   "language": "python",
   "name": "python3"
  },
  "language_info": {
   "codemirror_mode": {
    "name": "ipython",
    "version": 3
   },
   "file_extension": ".py",
   "mimetype": "text/x-python",
   "name": "python",
   "nbconvert_exporter": "python",
   "pygments_lexer": "ipython3",
   "version": "3.10.9"
  }
 },
 "nbformat": 4,
 "nbformat_minor": 5
}
