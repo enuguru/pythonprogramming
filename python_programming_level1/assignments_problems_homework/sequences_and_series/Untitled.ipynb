{
 "cells": [
  {
   "cell_type": "code",
   "execution_count": 2,
   "id": "5c19e0f7",
   "metadata": {},
   "outputs": [
    {
     "name": "stdout",
     "output_type": "stream",
     "text": [
      "[33, 67, 45, 78]\n"
     ]
    }
   ],
   "source": [
    "newlist = [45,45,67,78,33,33,33]\n",
    "print(list(set(newlist)))"
   ]
  },
  {
   "cell_type": "code",
   "execution_count": 3,
   "id": "f4e839da",
   "metadata": {},
   "outputs": [
    {
     "name": "stdout",
     "output_type": "stream",
     "text": [
      "The words are anagrams of each other\n"
     ]
    }
   ],
   "source": [
    "wordone = \"silent\"\n",
    "wordtwo = \"listen\"\n",
    "if sorted(wordone) == sorted(wordtwo):\n",
    "    print(\"The words are anagrams of each other\")\n",
    "else:\n",
    "    print(\"They are not anagrams\")"
   ]
  },
  {
   "cell_type": "code",
   "execution_count": null,
   "id": "a0a96ad5",
   "metadata": {},
   "outputs": [],
   "source": [
    "wordone."
   ]
  },
  {
   "cell_type": "code",
   "execution_count": null,
   "id": "2bb01c42",
   "metadata": {},
   "outputs": [],
   "source": [
    "pangram\n",
    "\n",
    "The quick brown fox jumps over the lazy dog"
   ]
  },
  {
   "cell_type": "code",
   "execution_count": 5,
   "id": "f7e39ccb",
   "metadata": {},
   "outputs": [
    {
     "name": "stdout",
     "output_type": "stream",
     "text": [
      "[1, 2, 3, 4, 5, 6, 7, 8, 9]\n"
     ]
    }
   ],
   "source": [
    "print([x for x in range(1,10)])"
   ]
  },
  {
   "cell_type": "code",
   "execution_count": null,
   "id": "6f7456a7",
   "metadata": {},
   "outputs": [],
   "source": []
  }
 ],
 "metadata": {
  "kernelspec": {
   "display_name": "Python 3 (ipykernel)",
   "language": "python",
   "name": "python3"
  },
  "language_info": {
   "codemirror_mode": {
    "name": "ipython",
    "version": 3
   },
   "file_extension": ".py",
   "mimetype": "text/x-python",
   "name": "python",
   "nbconvert_exporter": "python",
   "pygments_lexer": "ipython3",
   "version": "3.10.9"
  }
 },
 "nbformat": 4,
 "nbformat_minor": 5
}
