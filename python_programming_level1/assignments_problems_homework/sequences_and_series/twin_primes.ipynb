{
 "cells": [
  {
   "cell_type": "code",
   "execution_count": 1,
   "id": "19b15c76",
   "metadata": {},
   "outputs": [
    {
     "name": "stdout",
     "output_type": "stream",
     "text": [
      "(3, 5)\n",
      "(5, 7)\n",
      "(11, 13)\n",
      "(17, 19)\n",
      "(29, 31)\n",
      "(41, 43)\n",
      "(59, 61)\n",
      "(71, 73)\n"
     ]
    }
   ],
   "source": [
    "def is_prime(n):\n",
    "    \"\"\"Check if a number is a prime.\"\"\"\n",
    "    if n <= 1:\n",
    "        return False\n",
    "    for i in range(2, int(n**0.5) + 1):\n",
    "        if n % i == 0:\n",
    "            return False\n",
    "    return True\n",
    "\n",
    "def print_twin_primes(limit):\n",
    "    \"\"\"Print all twin primes up to a specified limit.\"\"\"\n",
    "    for i in range(2, limit):\n",
    "        j = i + 2\n",
    "        if is_prime(i) and is_prime(j):\n",
    "            print(f\"({i}, {j})\")\n",
    "\n",
    "# Now let's print the twin primes up to 100\n",
    "print_twin_primes(100)\n"
   ]
  },
  {
   "cell_type": "code",
   "execution_count": null,
   "id": "11c58c24",
   "metadata": {},
   "outputs": [],
   "source": []
  }
 ],
 "metadata": {
  "kernelspec": {
   "display_name": "Python 3 (ipykernel)",
   "language": "python",
   "name": "python3"
  },
  "language_info": {
   "codemirror_mode": {
    "name": "ipython",
    "version": 3
   },
   "file_extension": ".py",
   "mimetype": "text/x-python",
   "name": "python",
   "nbconvert_exporter": "python",
   "pygments_lexer": "ipython3",
   "version": "3.10.9"
  }
 },
 "nbformat": 4,
 "nbformat_minor": 5
}
