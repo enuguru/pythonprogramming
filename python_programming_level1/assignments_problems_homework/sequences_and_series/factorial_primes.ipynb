{
 "cells": [
  {
   "cell_type": "markdown",
   "id": "6a6344ad",
   "metadata": {},
   "source": [
    "A factorial prime is a prime number that is one less or one more \n",
    "than a factorial (all factorials greater than 1 are even)"
   ]
  },
  {
   "cell_type": "code",
   "execution_count": 3,
   "id": "67fe1390",
   "metadata": {},
   "outputs": [
    {
     "name": "stdout",
     "output_type": "stream",
     "text": [
      "2 3 5 7 23 719 5039 "
     ]
    }
   ],
   "source": [
    "import math\n",
    "\n",
    "def is_prime(num):\n",
    "    \"\"\"Check if a number is a prime.\"\"\"\n",
    "    if num < 2:\n",
    "        return False\n",
    "    for i in range(2, int(math.sqrt(num)) + 1):\n",
    "        if num % i == 0:\n",
    "            return False\n",
    "    return True\n",
    "\n",
    "def factorial_primes(limit):\n",
    "    \"\"\"Print all factorial primes up to a specified limit.\"\"\"\n",
    "    n = 1\n",
    "    factorial = math.factorial(n)\n",
    "    while factorial < limit:\n",
    "        for x in (-1, 1):\n",
    "            factorial_prime = factorial + x\n",
    "            if factorial_prime <= limit and is_prime(factorial_prime):\n",
    "                print(factorial_prime, end=\" \")\n",
    "        n += 1\n",
    "        factorial = math.factorial(n)\n",
    "\n",
    "# Print factorial primes up to 10,000\n",
    "factorial_primes(10000)"
   ]
  },
  {
   "cell_type": "code",
   "execution_count": null,
   "id": "2eced9c3",
   "metadata": {},
   "outputs": [],
   "source": []
  }
 ],
 "metadata": {
  "kernelspec": {
   "display_name": "Python 3 (ipykernel)",
   "language": "python",
   "name": "python3"
  },
  "language_info": {
   "codemirror_mode": {
    "name": "ipython",
    "version": 3
   },
   "file_extension": ".py",
   "mimetype": "text/x-python",
   "name": "python",
   "nbconvert_exporter": "python",
   "pygments_lexer": "ipython3",
   "version": "3.10.9"
  }
 },
 "nbformat": 4,
 "nbformat_minor": 5
}
