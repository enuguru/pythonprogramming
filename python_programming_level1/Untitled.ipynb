{
 "cells": [
  {
   "cell_type": "code",
   "execution_count": 1,
   "id": "e39fbd84",
   "metadata": {},
   "outputs": [
    {
     "name": "stdout",
     "output_type": "stream",
     "text": [
      "{66, 77, 45, 78}\n"
     ]
    }
   ],
   "source": [
    "print(set([45,45,66,66,77,78,77]))"
   ]
  },
  {
   "cell_type": "code",
   "execution_count": null,
   "id": "1e149002",
   "metadata": {},
   "outputs": [],
   "source": []
  }
 ],
 "metadata": {
  "kernelspec": {
   "display_name": "Python 3 (ipykernel)",
   "language": "python",
   "name": "python3"
  },
  "language_info": {
   "codemirror_mode": {
    "name": "ipython",
    "version": 3
   },
   "file_extension": ".py",
   "mimetype": "text/x-python",
   "name": "python",
   "nbconvert_exporter": "python",
   "pygments_lexer": "ipython3",
   "version": "3.10.13"
  }
 },
 "nbformat": 4,
 "nbformat_minor": 5
}
