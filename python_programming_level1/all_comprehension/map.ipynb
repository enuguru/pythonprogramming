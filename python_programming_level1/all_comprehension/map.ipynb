{
 "cells": [
  {
   "cell_type": "code",
   "execution_count": 3,
   "id": "c6548c6f",
   "metadata": {},
   "outputs": [
    {
     "name": "stdout",
     "output_type": "stream",
     "text": [
      "Give a number10\n"
     ]
    }
   ],
   "source": [
    "x = input(\"Give a number\")"
   ]
  },
  {
   "cell_type": "code",
   "execution_count": 4,
   "id": "1a8b1bb0",
   "metadata": {},
   "outputs": [
    {
     "data": {
      "text/plain": [
       "'10'"
      ]
     },
     "execution_count": 4,
     "metadata": {},
     "output_type": "execute_result"
    }
   ],
   "source": [
    "x"
   ]
  },
  {
   "cell_type": "code",
   "execution_count": 11,
   "id": "7d232244",
   "metadata": {},
   "outputs": [
    {
     "name": "stdout",
     "output_type": "stream",
     "text": [
      "Give a sequence of numbers34 56 67\n"
     ]
    }
   ],
   "source": [
    "newseq = list(map(float,input(\"Give a sequence of numbers\").split()))"
   ]
  },
  {
   "cell_type": "code",
   "execution_count": 12,
   "id": "5a985909",
   "metadata": {},
   "outputs": [
    {
     "data": {
      "text/plain": [
       "[34.0, 56.0, 67.0]"
      ]
     },
     "execution_count": 12,
     "metadata": {},
     "output_type": "execute_result"
    }
   ],
   "source": [
    "newseq"
   ]
  },
  {
   "cell_type": "code",
   "execution_count": 13,
   "id": "472b66c9",
   "metadata": {},
   "outputs": [
    {
     "name": "stdout",
     "output_type": "stream",
     "text": [
      "Give a sequence of numbers45 56 67\n"
     ]
    },
    {
     "data": {
      "text/plain": [
       "{45.0, 56.0, 67.0}"
      ]
     },
     "execution_count": 13,
     "metadata": {},
     "output_type": "execute_result"
    }
   ],
   "source": [
    "newseq = set(map(float,input(\"Give a sequence of numbers\").split()))\n",
    "newseq"
   ]
  },
  {
   "cell_type": "code",
   "execution_count": 14,
   "id": "177322cf",
   "metadata": {},
   "outputs": [
    {
     "name": "stdout",
     "output_type": "stream",
     "text": [
      "Give a sequence of numbers45 56 67\n",
      "{56.0, 67.0, 45.0}\n"
     ]
    }
   ],
   "source": [
    "print(set(map(float,input(\"Give a sequence of numbers\").split())))"
   ]
  },
  {
   "cell_type": "code",
   "execution_count": null,
   "id": "b3d94d2c",
   "metadata": {},
   "outputs": [],
   "source": []
  }
 ],
 "metadata": {
  "kernelspec": {
   "display_name": "Python 3 (ipykernel)",
   "language": "python",
   "name": "python3"
  },
  "language_info": {
   "codemirror_mode": {
    "name": "ipython",
    "version": 3
   },
   "file_extension": ".py",
   "mimetype": "text/x-python",
   "name": "python",
   "nbconvert_exporter": "python",
   "pygments_lexer": "ipython3",
   "version": "3.10.9"
  }
 },
 "nbformat": 4,
 "nbformat_minor": 5
}
