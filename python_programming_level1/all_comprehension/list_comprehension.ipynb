{
 "cells": [
  {
   "cell_type": "code",
   "execution_count": 1,
   "id": "9a4319f1",
   "metadata": {},
   "outputs": [
    {
     "data": {
      "text/plain": [
       "['Group', 45, 56, 7, 'c']"
      ]
     },
     "execution_count": 1,
     "metadata": {},
     "output_type": "execute_result"
    }
   ],
   "source": [
    "newlist = [\"Group\", 45, 56,7, 'c']\n",
    "newlist"
   ]
  },
  {
   "cell_type": "code",
   "execution_count": 2,
   "id": "e8f3c9c9",
   "metadata": {},
   "outputs": [
    {
     "data": {
      "text/plain": [
       "(445, 55, 77)"
      ]
     },
     "execution_count": 2,
     "metadata": {},
     "output_type": "execute_result"
    }
   ],
   "source": [
    "newtuple = (445, 55, 77)\n",
    "newtuple"
   ]
  },
  {
   "cell_type": "code",
   "execution_count": 3,
   "id": "3f4263a9",
   "metadata": {},
   "outputs": [
    {
     "data": {
      "text/plain": [
       "{45: 67, 'Aadhar': 234456557789, 'PAN': 'FFGGD4567B'}"
      ]
     },
     "execution_count": 3,
     "metadata": {},
     "output_type": "execute_result"
    }
   ],
   "source": [
    "newdict = {45:67, \"Aadhar\":234456557789, \"PAN\":\"FFGGD4567B\"}\n",
    "newdict"
   ]
  },
  {
   "cell_type": "code",
   "execution_count": 4,
   "id": "d8de5876",
   "metadata": {},
   "outputs": [
    {
     "data": {
      "text/plain": [
       "{45, 66, 77, 88, 99}"
      ]
     },
     "execution_count": 4,
     "metadata": {},
     "output_type": "execute_result"
    }
   ],
   "source": [
    "newlist = { 45, 66, 77, 88, 99}\n",
    "newlist"
   ]
  },
  {
   "cell_type": "code",
   "execution_count": 5,
   "id": "6d9b4c44",
   "metadata": {},
   "outputs": [
    {
     "name": "stdout",
     "output_type": "stream",
     "text": [
      "[6, 7, 8, 9]\n"
     ]
    }
   ],
   "source": [
    "numbers = [x for x in range(6,10)]\n",
    "print(numbers)"
   ]
  },
  {
   "cell_type": "code",
   "execution_count": 6,
   "id": "1d1b3e5d",
   "metadata": {},
   "outputs": [
    {
     "name": "stdout",
     "output_type": "stream",
     "text": [
      "[6, 7, 8, 9]\n"
     ]
    }
   ],
   "source": [
    "print([x for x in range(6,10)])"
   ]
  },
  {
   "cell_type": "code",
   "execution_count": 7,
   "id": "31285a71",
   "metadata": {},
   "outputs": [
    {
     "name": "stdout",
     "output_type": "stream",
     "text": [
      "[2, 4, 6, 8, 10, 12, 14, 16, 18, 20, 22, 24, 26, 28, 30, 32, 34, 36, 38, 40, 42, 44, 46, 48]\n"
     ]
    }
   ],
   "source": [
    "print([x for x in range(1,50) if x % 2 == 0])"
   ]
  },
  {
   "cell_type": "code",
   "execution_count": 17,
   "id": "87f4b586",
   "metadata": {},
   "outputs": [
    {
     "name": "stdout",
     "output_type": "stream",
     "text": [
      "[1, 4, 9, 16, 25, 36, 49, 64, 81, 100]\n"
     ]
    }
   ],
   "source": [
    "squares1 = [x**2 for x in range(1, 11)]\n",
    "print(squares1)"
   ]
  },
  {
   "cell_type": "code",
   "execution_count": 18,
   "id": "2da07a76",
   "metadata": {},
   "outputs": [
    {
     "name": "stdout",
     "output_type": "stream",
     "text": [
      "[1, 4, 9, 16, 25, 36, 49, 64, 81, 100]\n"
     ]
    }
   ],
   "source": [
    "squares2 = list(x**2 for x in range(1, 11))\n",
    "print(squares2)"
   ]
  },
  {
   "cell_type": "code",
   "execution_count": 8,
   "id": "38cd78e6",
   "metadata": {},
   "outputs": [
    {
     "name": "stdout",
     "output_type": "stream",
     "text": [
      "[1.4142135623730951, 2.0, 2.449489742783178, 2.8284271247461903, 3.1622776601683795]\n"
     ]
    }
   ],
   "source": [
    "import math\n",
    "print([math.sqrt(x) for x in range(1,11) if x % 2 == 0])"
   ]
  },
  {
   "cell_type": "code",
   "execution_count": 9,
   "id": "4878501f",
   "metadata": {},
   "outputs": [
    {
     "name": "stdout",
     "output_type": "stream",
     "text": [
      "{64, 100, 4, 36, 16}\n"
     ]
    }
   ],
   "source": [
    "print({x*x for x in range(1,11) if x % 2 == 0})"
   ]
  },
  {
   "cell_type": "code",
   "execution_count": 10,
   "id": "732d38a8",
   "metadata": {},
   "outputs": [
    {
     "name": "stdout",
     "output_type": "stream",
     "text": [
      "{1: 1, 3: 27, 5: 125, 7: 343, 9: 729}\n"
     ]
    }
   ],
   "source": [
    "print({x:x*x*x for x in range(1,11) if x % 2 != 0})"
   ]
  },
  {
   "cell_type": "code",
   "execution_count": 11,
   "id": "846f662c",
   "metadata": {},
   "outputs": [
    {
     "name": "stdout",
     "output_type": "stream",
     "text": [
      "{1: 1, 3: 27, 5: 125, 7: 343, 9: 729}\n"
     ]
    }
   ],
   "source": [
    "newdict = dict()\n",
    "for x in range(1,11):\n",
    "    if x%2 != 0:\n",
    "        newdict[x] = x*x*x\n",
    "print(newdict)"
   ]
  },
  {
   "cell_type": "code",
   "execution_count": 12,
   "id": "d9f59e8f",
   "metadata": {},
   "outputs": [
    {
     "name": "stdout",
     "output_type": "stream",
     "text": [
      "<generator object <genexpr> at 0x0000017A90EDEC00>\n"
     ]
    }
   ],
   "source": [
    "print((x*x for x in range(1,11) if x % 2 == 0))"
   ]
  },
  {
   "cell_type": "code",
   "execution_count": 13,
   "id": "65256c33",
   "metadata": {},
   "outputs": [
    {
     "name": "stdout",
     "output_type": "stream",
     "text": [
      "{1.4142135623730951, 2.0, 2.449489742783178, 2.8284271247461903}\n"
     ]
    }
   ],
   "source": [
    "import math\n",
    "print({math.sqrt(x) for x in range(1,10) if x % 2 == 0})"
   ]
  },
  {
   "cell_type": "code",
   "execution_count": 14,
   "id": "7011cd2a",
   "metadata": {},
   "outputs": [],
   "source": [
    "newlist = [4,1,9,23,34,45,81]"
   ]
  },
  {
   "cell_type": "code",
   "execution_count": 15,
   "id": "6d9230d8",
   "metadata": {},
   "outputs": [
    {
     "name": "stdout",
     "output_type": "stream",
     "text": [
      "[2, 3, 5, 7, 11, 13, 17, 19, 23, 29, 31, 37, 41, 43, 47, 53, 59, 61, 67, 71, 73, 79, 83, 89, 97]\n"
     ]
    }
   ],
   "source": [
    "print([x for x in range(2,100) if all(x % y != 0 for y in range(2,x))])"
   ]
  },
  {
   "cell_type": "code",
   "execution_count": 16,
   "id": "c1012b4e",
   "metadata": {},
   "outputs": [
    {
     "name": "stdout",
     "output_type": "stream",
     "text": [
      "[3, 4, 5, 6, 7, 8, 9, 10, 11, 12, 13, 14, 15, 16, 17, 18, 19, 20, 21, 22, 23, 24, 25, 26, 27, 28, 29, 30, 31, 32, 33, 34, 35, 36, 37, 38, 39, 40, 41, 42, 43, 44, 45, 46, 47, 48, 49, 50, 51, 52, 53, 54, 55, 56, 57, 58, 59, 60, 61, 62, 63, 64, 65, 66, 67, 68, 69, 70, 71, 72, 73, 74, 75, 76, 77, 78, 79, 80, 81, 82, 83, 84, 85, 86, 87, 88, 89, 90, 91, 92, 93, 94, 95, 96, 97, 98, 99]\n"
     ]
    }
   ],
   "source": [
    "print([x for x in range(2,100) if any(x % y != 0 for y in range(2,x))])"
   ]
  },
  {
   "cell_type": "code",
   "execution_count": null,
   "id": "37d9fa7d",
   "metadata": {},
   "outputs": [],
   "source": [
    "# use the power of list comprehension to generate perfect number series"
   ]
  },
  {
   "cell_type": "code",
   "execution_count": null,
   "id": "79ee022b",
   "metadata": {},
   "outputs": [],
   "source": [
    "# use any function in prime number generation and write the list comprehension"
   ]
  },
  {
   "cell_type": "code",
   "execution_count": 2,
   "id": "c5d877e3",
   "metadata": {},
   "outputs": [
    {
     "name": "stdout",
     "output_type": "stream",
     "text": [
      "[2, 3, 5, 7, 11, 13, 17, 19, 23, 29, 31, 37, 41, 43, 47, 53, 59, 61, 67, 71, 73, 79, 83, 89, 97]\n"
     ]
    }
   ],
   "source": [
    "print ([x for x in range (2,100)  if not any (x%y ==0 for y in range (2,x))])"
   ]
  },
  {
   "cell_type": "code",
   "execution_count": null,
   "id": "bd77252e",
   "metadata": {},
   "outputs": [],
   "source": []
  }
 ],
 "metadata": {
  "kernelspec": {
   "display_name": "Python 3 (ipykernel)",
   "language": "python",
   "name": "python3"
  },
  "language_info": {
   "codemirror_mode": {
    "name": "ipython",
    "version": 3
   },
   "file_extension": ".py",
   "mimetype": "text/x-python",
   "name": "python",
   "nbconvert_exporter": "python",
   "pygments_lexer": "ipython3",
   "version": "3.10.13"
  }
 },
 "nbformat": 4,
 "nbformat_minor": 5
}
