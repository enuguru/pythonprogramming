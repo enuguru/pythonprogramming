{
 "cells": [
  {
   "cell_type": "code",
   "execution_count": 3,
   "id": "2fc4fc88",
   "metadata": {},
   "outputs": [
    {
     "name": "stdout",
     "output_type": "stream",
     "text": [
      "[0, 1, 2, 3, 4, 5, 6, 7, 8, 9]\n"
     ]
    }
   ],
   "source": [
    "newlist = [0,1,2,3,4,5,6,7,8,9]\n",
    "print(newlist)"
   ]
  },
  {
   "cell_type": "code",
   "execution_count": 4,
   "id": "67c37fbc",
   "metadata": {},
   "outputs": [
    {
     "name": "stdout",
     "output_type": "stream",
     "text": [
      "1 2 3 4 5 6 7 8 9 "
     ]
    }
   ],
   "source": [
    "x = range(1,10)\n",
    "for val in x:\n",
    "    print(val,end=\" \")"
   ]
  },
  {
   "cell_type": "code",
   "execution_count": null,
   "id": "44123b88",
   "metadata": {},
   "outputs": [],
   "source": [
    "newlist = [x for x in range(0,11)] \n",
    "# append x to empty list - for set of all x, x greater than or equal to 0 and less than 11\n",
    "print(newlist)\n",
    "#y = {x: x>=0, x<11 xEN} - set builder form"
   ]
  },
  {
   "cell_type": "markdown",
   "id": "1111834b",
   "metadata": {},
   "source": [
    "# pythonic code"
   ]
  },
  {
   "cell_type": "code",
   "execution_count": null,
   "id": "0cbd377c",
   "metadata": {},
   "outputs": [],
   "source": [
    "x = [0,1,4,9,16,25.....]"
   ]
  },
  {
   "cell_type": "code",
   "execution_count": 5,
   "id": "c2df259b",
   "metadata": {},
   "outputs": [
    {
     "name": "stdout",
     "output_type": "stream",
     "text": [
      "[0, 1, 4, 9, 16, 25, 36, 49, 64, 81, 100]\n"
     ]
    }
   ],
   "source": [
    "print([x ** 2 for x in range(0,11)])"
   ]
  },
  {
   "cell_type": "code",
   "execution_count": 2,
   "id": "e15e38d2",
   "metadata": {},
   "outputs": [
    {
     "name": "stdout",
     "output_type": "stream",
     "text": [
      "0 4 16 36 64 100 "
     ]
    }
   ],
   "source": [
    "for x in range(0,11,2):\n",
    "    print(x*x,end=\" \")"
   ]
  },
  {
   "cell_type": "code",
   "execution_count": 10,
   "id": "982715cf",
   "metadata": {},
   "outputs": [
    {
     "name": "stdout",
     "output_type": "stream",
     "text": [
      "[1, 9, 25, 49, 81, 121, 169, 225, 289, 361, 441, 529, 625, 729, 841, 961, 1089, 1225, 1369, 1521, 1681, 1849, 2025, 2209, 2401, 2601, 2809, 3025, 3249, 3481, 3721, 3969, 4225, 4489, 4761, 5041, 5329, 5625, 5929, 6241, 6561, 6889, 7225, 7569, 7921, 8281, 8649, 9025, 9409, 9801]\n",
      "1 9 25 49 81 121 169 225 289 361 441 529 625 729 841 961 1089 1225 1369 1521 1681 1849 2025 2209 2401 2601 2809 3025 3249 3481 3721 3969 4225 4489 4761 5041 5329 5625 5929 6241 6561 6889 7225 7569 7921 8281 8649 9025 9409 9801 "
     ]
    }
   ],
   "source": [
    "print([x ** 2 for x in range(101) if x % 2 == 1])\n",
    "for num in range(0,101):\n",
    "    if num % 2 == 1:\n",
    "        print(num*num,end=\" \")"
   ]
  },
  {
   "cell_type": "code",
   "execution_count": 7,
   "id": "e4ea6191",
   "metadata": {},
   "outputs": [
    {
     "name": "stdout",
     "output_type": "stream",
     "text": [
      "{0: 0, 1: 1, 2: 4, 3: 9, 4: 16, 5: 25, 6: 36, 7: 49, 8: 64, 9: 81}\n"
     ]
    }
   ],
   "source": [
    "print({x:x*x for x in range(10)})"
   ]
  },
  {
   "cell_type": "code",
   "execution_count": 6,
   "id": "293c79c3",
   "metadata": {},
   "outputs": [
    {
     "name": "stdout",
     "output_type": "stream",
     "text": [
      "{0, 1, 64, 4, 36, 9, 16, 49, 81, 25}\n"
     ]
    }
   ],
   "source": [
    "print({x*x for x in range(10)})"
   ]
  },
  {
   "cell_type": "code",
   "execution_count": 10,
   "id": "df483cd9",
   "metadata": {},
   "outputs": [
    {
     "name": "stdout",
     "output_type": "stream",
     "text": [
      "<generator object <genexpr> at 0x000001E82E6172E0>\n"
     ]
    }
   ],
   "source": [
    "newtuple = (x*x for x in range(11))\n",
    "print(newtuple)"
   ]
  },
  {
   "cell_type": "code",
   "execution_count": 15,
   "id": "cadccda4",
   "metadata": {},
   "outputs": [
    {
     "name": "stdout",
     "output_type": "stream",
     "text": [
      "(0, 1, 4, 9, 16, 25, 36, 49, 64, 81, 100)\n"
     ]
    }
   ],
   "source": [
    "newtuple = *(x*x for x in range(11)),\n",
    "print(newtuple)"
   ]
  },
  {
   "cell_type": "code",
   "execution_count": null,
   "id": "78387191",
   "metadata": {},
   "outputs": [],
   "source": []
  }
 ],
 "metadata": {
  "kernelspec": {
   "display_name": "Python 3 (ipykernel)",
   "language": "python",
   "name": "python3"
  },
  "language_info": {
   "codemirror_mode": {
    "name": "ipython",
    "version": 3
   },
   "file_extension": ".py",
   "mimetype": "text/x-python",
   "name": "python",
   "nbconvert_exporter": "python",
   "pygments_lexer": "ipython3",
   "version": "3.10.9"
  }
 },
 "nbformat": 4,
 "nbformat_minor": 5
}
