{
 "cells": [
  {
   "cell_type": "code",
   "execution_count": null,
   "id": "2fc4fc88",
   "metadata": {},
   "outputs": [],
   "source": [
    "newlist = [0,1,2,3,4,5,6,7,8,9]\n",
    "print(newlist)"
   ]
  },
  {
   "cell_type": "code",
   "execution_count": null,
   "id": "67c37fbc",
   "metadata": {},
   "outputs": [],
   "source": [
    "x = range(1,10)\n",
    "for val in x:\n",
    "    print(val,end=\" \")"
   ]
  },
  {
   "cell_type": "code",
   "execution_count": null,
   "id": "00890696",
   "metadata": {},
   "outputs": [],
   "source": [
    "print([x for x in range(0,10)])"
   ]
  },
  {
   "cell_type": "code",
   "execution_count": null,
   "id": "44123b88",
   "metadata": {},
   "outputs": [],
   "source": [
    "newlist = [i for i in range(0,int(input(\"give a number\")))]\n",
    "# append x to empty list - for set of all x, x greater than or equal to 0 and less than 11\n",
    "print(newlist)\n",
    "#y = {x: x>=0, x<11 xEN} - set builder form"
   ]
  },
  {
   "cell_type": "markdown",
   "id": "1111834b",
   "metadata": {},
   "source": [
    "##### pythonic code"
   ]
  },
  {
   "cell_type": "code",
   "execution_count": null,
   "id": "0cbd377c",
   "metadata": {},
   "outputs": [],
   "source": [
    "x = [0,1,4,9,16,25.....]"
   ]
  },
  {
   "cell_type": "code",
   "execution_count": 36,
   "id": "c2df259b",
   "metadata": {},
   "outputs": [
    {
     "name": "stdout",
     "output_type": "stream",
     "text": [
      "[0, 1, 4, 9, 16, 25, 36, 49, 64, 81, 100]\n"
     ]
    }
   ],
   "source": [
    "print([x ** 2 for x in range(0,11)])"
   ]
  },
  {
   "cell_type": "code",
   "execution_count": 37,
   "id": "be21d10f",
   "metadata": {},
   "outputs": [
    {
     "name": "stdout",
     "output_type": "stream",
     "text": [
      "[0, 1, 4, 9, 16, 25, 36, 49, 64, 81, 100]\n"
     ]
    }
   ],
   "source": [
    "print(list(x ** 2 for x in range(0,11)))"
   ]
  },
  {
   "cell_type": "code",
   "execution_count": 39,
   "id": "c3286dcd",
   "metadata": {},
   "outputs": [
    {
     "name": "stdout",
     "output_type": "stream",
     "text": [
      "{0, 1, 64, 4, 36, 100, 9, 16, 49, 81, 25}\n"
     ]
    }
   ],
   "source": [
    "print({x ** 2 for x in range(0,11)})"
   ]
  },
  {
   "cell_type": "code",
   "execution_count": 40,
   "id": "c54f0555",
   "metadata": {},
   "outputs": [
    {
     "name": "stdout",
     "output_type": "stream",
     "text": [
      "{0, 1, 64, 4, 36, 100, 9, 16, 49, 81, 25}\n"
     ]
    }
   ],
   "source": [
    "print(set(x ** 2 for x in range(0,11)))"
   ]
  },
  {
   "cell_type": "code",
   "execution_count": 44,
   "id": "e15e38d2",
   "metadata": {},
   "outputs": [
    {
     "name": "stdout",
     "output_type": "stream",
     "text": [
      "1 9 25 49 81 "
     ]
    }
   ],
   "source": [
    "for x in range(1,11,2):\n",
    "    print(x*x,end=\" \")"
   ]
  },
  {
   "cell_type": "code",
   "execution_count": null,
   "id": "982715cf",
   "metadata": {},
   "outputs": [],
   "source": [
    "print([x ** 2 for x in range(101) if x % 2 == 1])\n",
    "for num in range(0,101):\n",
    "    if num % 2 == 1:\n",
    "        print(num*num,end=\" \")"
   ]
  },
  {
   "cell_type": "code",
   "execution_count": 41,
   "id": "e4ea6191",
   "metadata": {},
   "outputs": [
    {
     "name": "stdout",
     "output_type": "stream",
     "text": [
      "{0: 0, 1: 1, 2: 4, 3: 9, 4: 16, 5: 25, 6: 36, 7: 49, 8: 64, 9: 81, 10: 100}\n"
     ]
    }
   ],
   "source": [
    "print({x:x*x for x in range(11)})"
   ]
  },
  {
   "cell_type": "code",
   "execution_count": 42,
   "id": "219eddd6",
   "metadata": {},
   "outputs": [
    {
     "name": "stdout",
     "output_type": "stream",
     "text": [
      "{0: 0, 1: 1, 2: 4, 3: 9, 4: 16, 5: 25, 6: 36, 7: 49, 8: 64, 9: 81, 10: 100}\n"
     ]
    }
   ],
   "source": [
    "print(dict((x, x*x) for x in range(11)))"
   ]
  },
  {
   "cell_type": "code",
   "execution_count": null,
   "id": "293c79c3",
   "metadata": {},
   "outputs": [],
   "source": [
    "print({x*x for x in range(11)})   # S = {x: 0<x<10, xEN}"
   ]
  },
  {
   "cell_type": "code",
   "execution_count": null,
   "id": "6efa8122",
   "metadata": {},
   "outputs": [],
   "source": [
    "print(set(x*x for x in range(11)))   # S = {x: 0<x<10, xEN}"
   ]
  },
  {
   "cell_type": "code",
   "execution_count": null,
   "id": "df483cd9",
   "metadata": {},
   "outputs": [],
   "source": [
    "newtuple = (x*x for x in range(11))\n",
    "print(newtuple)"
   ]
  },
  {
   "cell_type": "code",
   "execution_count": null,
   "id": "cadccda4",
   "metadata": {},
   "outputs": [],
   "source": [
    "newtuple = *(x*x for x in range(11)),\n",
    "print(newtuple)"
   ]
  },
  {
   "cell_type": "code",
   "execution_count": null,
   "id": "78387191",
   "metadata": {},
   "outputs": [],
   "source": [
    "tuple_example = tuple(x for x in range(5))\n",
    "print(tuple_example)"
   ]
  },
  {
   "cell_type": "code",
   "execution_count": null,
   "id": "419b5e96",
   "metadata": {},
   "outputs": [],
   "source": []
  }
 ],
 "metadata": {
  "kernelspec": {
   "display_name": "Python 3 (ipykernel)",
   "language": "python",
   "name": "python3"
  },
  "language_info": {
   "codemirror_mode": {
    "name": "ipython",
    "version": 3
   },
   "file_extension": ".py",
   "mimetype": "text/x-python",
   "name": "python",
   "nbconvert_exporter": "python",
   "pygments_lexer": "ipython3",
   "version": "3.10.13"
  }
 },
 "nbformat": 4,
 "nbformat_minor": 5
}
