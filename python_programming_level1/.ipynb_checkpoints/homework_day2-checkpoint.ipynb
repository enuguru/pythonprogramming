{
 "cells": [
  {
   "cell_type": "code",
   "execution_count": 14,
   "metadata": {},
   "outputs": [
    {
     "name": "stdout",
     "output_type": "stream",
     "text": [
      "28\n",
      "28\n"
     ]
    }
   ],
   "source": [
    "num = int(input())\n",
    "total = 0\n",
    "for val in range(1,num):\n",
    "    if num % val == 0:\n",
    "        total = total + val\n",
    "if total == num:\n",
    "    print(num)"
   ]
  },
  {
   "cell_type": "code",
   "execution_count": 18,
   "metadata": {},
   "outputs": [
    {
     "name": "stdout",
     "output_type": "stream",
     "text": [
      "6\n",
      "28\n",
      "496\n",
      "8128\n"
     ]
    }
   ],
   "source": [
    "for num in range(1,10000):\n",
    "    total = 0\n",
    "    for val in range(1,num):\n",
    "        if num % val == 0:\n",
    "            total = total + val\n",
    "    if total == num:\n",
    "        print(num)"
   ]
  },
  {
   "cell_type": "code",
   "execution_count": 21,
   "metadata": {},
   "outputs": [
    {
     "name": "stdout",
     "output_type": "stream",
     "text": [
      "Ayush\n",
      "you are welcome\n"
     ]
    }
   ],
   "source": [
    "names = [\"Ayush\",\"Ravi\",\"Bhageerath\",\"Lakshmi\",\"Prateek\",\"Soumya\",\"Prema\"]\n",
    "yourname = input()\n",
    "if yourname in names:\n",
    "    print(\"you are welcome\")"
   ]
  },
  {
   "cell_type": "code",
   "execution_count": null,
   "metadata": {},
   "outputs": [],
   "source": [
    "names = [\"Ayush\",\"Ravi\",\"Bhageerath\",\"Lakshmi\",\"Prateek\",\"Soumya\",\"Prema\"]\n",
    "yourname = input()\n",
    "if yourname == Ayush or yourname == :\n",
    "    print(\"you are welcome\")"
   ]
  }
 ],
 "metadata": {
  "kernelspec": {
   "display_name": "Python 3",
   "language": "python",
   "name": "python3"
  },
  "language_info": {
   "codemirror_mode": {
    "name": "ipython",
    "version": 3
   },
   "file_extension": ".py",
   "mimetype": "text/x-python",
   "name": "python",
   "nbconvert_exporter": "python",
   "pygments_lexer": "ipython3",
   "version": "3.8.5"
  }
 },
 "nbformat": 4,
 "nbformat_minor": 4
}
