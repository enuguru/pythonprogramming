{
 "cells": [
  {
   "cell_type": "code",
   "execution_count": null,
   "metadata": {},
   "outputs": [],
   "source": [
    "# an example of simple packing\n",
    "a, b = 45, 34\n",
    "print(a, b)"
   ]
  },
  {
   "cell_type": "code",
   "execution_count": null,
   "metadata": {},
   "outputs": [],
   "source": [
    "# little more complexity\n",
    "x, y = 45, 55\n",
    "x, y = (45,55)\n",
    "(x, y) = 45, 55\n",
    "(x, y) = (45, 55)\n",
    "print(x, y)"
   ]
  },
  {
   "cell_type": "code",
   "execution_count": null,
   "metadata": {},
   "outputs": [],
   "source": [
    "x"
   ]
  },
  {
   "cell_type": "code",
   "execution_count": null,
   "metadata": {},
   "outputs": [],
   "source": [
    "y"
   ]
  },
  {
   "cell_type": "code",
   "execution_count": null,
   "metadata": {},
   "outputs": [],
   "source": [
    "# a variation of unpacking\n",
    "(point) = 25, 35, 45\n",
    "print(type(point))\n",
    "x, y, z = point\n",
    "print(point)\n",
    "print(x)"
   ]
  },
  {
   "cell_type": "code",
   "execution_count": null,
   "metadata": {},
   "outputs": [],
   "source": [
    "# unpacking variables with a star\n",
    "_test, head, *rest = [20, 30, 40, 50]\n",
    "print(_test, head, rest)  # 20 30, 40, 50\n",
    "_test, head, *rest = [20, 30, 40, 50]\n",
    "print(_test,head, rest)  # 20 [30, 40, 50]\n",
    "*head, tail = [20, 30, 40, 50]\n",
    "print(head, tail)  # [20, 30, 40] 50\n",
    "head, *middle, tail = [20, 30, 40, 50, 60]\n",
    "print(head,middle,tail)\n",
    "head, *middle, tail = [20,99]\n",
    "print(head, middle, tail)  # 20 [30] 40"
   ]
  },
  {
   "cell_type": "code",
   "execution_count": null,
   "metadata": {},
   "outputs": [],
   "source": [
    "x, y, z = z, x, y\n",
    "print(x, y, z)"
   ]
  },
  {
   "cell_type": "code",
   "execution_count": null,
   "metadata": {},
   "outputs": [],
   "source": [
    "# unpacking in a dictionary\n",
    "name_dictionary = {'name': \"Muthu\", 'Company': \"Treebow Tecnology Inc\", 'Jothi':'JohnDeer'}\n",
    "print(name_dictionary)"
   ]
  },
  {
   "cell_type": "code",
   "execution_count": null,
   "metadata": {},
   "outputs": [],
   "source": [
    "# unpacking in a for loop\n",
    "for item in name_dictionary.items():\n",
    "    print(f\"Key {item[0]} has value {item[1]}\")"
   ]
  },
  {
   "cell_type": "code",
   "execution_count": null,
   "metadata": {},
   "outputs": [],
   "source": [
    "# unpacking in a for loop\n",
    "x = [(1,2), (3,4), (5,6)]\n",
    "for item in x:\n",
    "    print(\"A tuple\", item)"
   ]
  },
  {
   "cell_type": "code",
   "execution_count": null,
   "metadata": {},
   "outputs": [],
   "source": [
    "# a variation of the for loop unpacking\n",
    "for a, b in x:\n",
    "    print(\"First\", a)\n",
    "    #print(\"First\", a, \"then\", b)"
   ]
  },
  {
   "cell_type": "code",
   "execution_count": null,
   "metadata": {},
   "outputs": [],
   "source": [
    "# enumerate basically gives you an index to work with in a for loop\n",
    "for i,a in enumerate([4, 5, 6, 7]):\n",
    "    print(i, \": \", a)"
   ]
  },
  {
   "cell_type": "code",
   "execution_count": null,
   "metadata": {},
   "outputs": [],
   "source": [
    "# Unpacking on RHS of assignments\n",
    "\n",
    "def dothis(a, b, c):\n",
    "  print(a, b, c)\n",
    "\n",
    "mylist = [10, 20, 40]\n",
    "dothis(*mylist)"
   ]
  },
  {
   "cell_type": "code",
   "execution_count": null,
   "metadata": {
    "ExecuteTime": {
     "end_time": "2020-08-03T14:28:26.971331Z",
     "start_time": "2020-08-03T14:28:26.959341Z"
    }
   },
   "outputs": [],
   "source": [
    "# Python program to illustrate   \n",
    "# *args for variable number of arguments\n",
    "def myFun(*argv):  \n",
    "    for arg in argv:  \n",
    "        print (arg) \n",
    "    \n",
    "myFun('Hello all', 'Welcome', 'to the', 'Python session')  "
   ]
  },
  {
   "cell_type": "code",
   "execution_count": null,
   "metadata": {
    "ExecuteTime": {
     "end_time": "2020-08-03T14:28:29.015205Z",
     "start_time": "2020-08-03T14:28:29.007210Z"
    }
   },
   "outputs": [],
   "source": [
    "# A sample function that takes 4 arguments \n",
    "# and prints the, \n",
    "def fun(a, b, c, d): \n",
    "    print(a, b, c, d) \n",
    "  \n",
    "# Driver Code \n",
    "my_list = [1, 2, 3, 4] \n",
    "  \n",
    "# Unpacking list into four arguments \n",
    "fun(*my_list) "
   ]
  },
  {
   "cell_type": "code",
   "execution_count": null,
   "metadata": {
    "ExecuteTime": {
     "end_time": "2020-08-03T14:28:47.052179Z",
     "start_time": "2020-08-03T14:28:47.041183Z"
    }
   },
   "outputs": [],
   "source": [
    "# A Python program to demonstrate use of packing \n",
    "  \n",
    "# This function uses packing to sum \n",
    "# unknown number of arguments \n",
    "def mySum(*args): \n",
    "    sum = 0\n",
    "    for i in range(0, len(args)): \n",
    "        sum = sum + args[i] \n",
    "    return sum \n",
    "  \n",
    "# Driver code \n",
    "print(mySum(1, 2, 3, 4, 5)) \n",
    "print(mySum(10, 20)) "
   ]
  },
  {
   "cell_type": "code",
   "execution_count": null,
   "metadata": {
    "ExecuteTime": {
     "end_time": "2020-08-03T14:28:56.359304Z",
     "start_time": "2020-08-03T14:28:56.351307Z"
    }
   },
   "outputs": [],
   "source": [
    "# A Python program to demonstrate both packing and \n",
    "# unpacking. \n",
    "  \n",
    "# A sample python function that takes three arguments \n",
    "# and prints them \n",
    "def fun1(a, b, c): \n",
    "    print(a, b, c) \n",
    "  \n",
    "# Another sample function. \n",
    "# This is an example of PACKING. All arguments passed \n",
    "# to fun2 are packed into tuple *args. \n",
    "def fun2(*args): \n",
    "  \n",
    "    # Convert args tuple to a list so we can modify it \n",
    "    args = list(args) \n",
    "  \n",
    "    # Modifying args \n",
    "    args[0] = 'python session'\n",
    "    args[1] = 'awesome'\n",
    "  \n",
    "    # UNPACKING args and calling fun1() \n",
    "    fun1(*args) \n",
    "  \n",
    "# Driver code \n",
    "fun2('Hello', 'beautiful', 'world!') "
   ]
  },
  {
   "cell_type": "code",
   "execution_count": null,
   "metadata": {
    "ExecuteTime": {
     "end_time": "2020-08-03T14:29:01.378566Z",
     "start_time": "2020-08-03T14:29:01.371591Z"
    }
   },
   "outputs": [],
   "source": [
    "# A sample program to demonstrate unpacking of \n",
    "# dictionary items using ** \n",
    "def fun(a, b, c): \n",
    "    print(a, b, c) \n",
    "  \n",
    "# A call with unpacking of dictionary \n",
    "d = {'a':2, 'b':4, 'c':10} \n",
    "fun(**d)"
   ]
  },
  {
   "cell_type": "code",
   "execution_count": null,
   "metadata": {},
   "outputs": [],
   "source": [
    "# Unpacking on LHS of assignments\n",
    "# The special syntax *args in function definitions in python is used to pass a \n",
    "# variable number of arguments to a function. It is used to pass a non-keyworded, variable-length argument list\n",
    "\n",
    "def dothis(*args, **kwargs):\n",
    "    print(args, kwargs)\n",
    "    \n",
    "dothis(34,45, 100, 45, 33)#a=1, b=2, c=3)"
   ]
  },
  {
   "cell_type": "code",
   "execution_count": null,
   "metadata": {},
   "outputs": [],
   "source": [
    "# Unpacking on LHS of assignments\n",
    "# The special syntax *args in function definitions in python is used to pass a \n",
    "# variable number of arguments to a function. It is used to pass a non-keyworded, variable-length argument list\n",
    "\n",
    "def dothis(*args, **kwargs):\n",
    "    print(args, kwargs)\n",
    "    \n",
    "dothis(a=1, b=2, c=3)"
   ]
  },
  {
   "cell_type": "code",
   "execution_count": null,
   "metadata": {},
   "outputs": [],
   "source": [
    "# Unpacking on LHS of assignments\n",
    "# The special syntax *args in function definitions in python is used to pass a \n",
    "# variable number of arguments to a function. It is used to pass a non-keyworded, variable-length argument list\n",
    "\n",
    "def dothis(*args, **kwargs):\n",
    "    print(args, kwargs)\n",
    "    \n",
    "dothis(34,56,a=10,g=89,c=89)"
   ]
  },
  {
   "cell_type": "code",
   "execution_count": null,
   "metadata": {
    "ExecuteTime": {
     "end_time": "2020-08-03T14:29:04.715655Z",
     "start_time": "2020-08-03T14:29:04.705660Z"
    }
   },
   "outputs": [],
   "source": [
    "# A Python program to demonstrate packing of dictionary items using ** \n",
    "def fun(**kwargs): \n",
    "    # kwargs is a dict \n",
    "    print(type(kwargs)) \n",
    "    # Printing dictionary items \n",
    "    for key in kwargs: \n",
    "        print(\"%s = %s\" % (key, kwargs[key])) \n",
    "  \n",
    "fun(name=\"german\", ID=\"101\", language=\"Python\")"
   ]
  },
  {
   "cell_type": "code",
   "execution_count": 2,
   "metadata": {},
   "outputs": [
    {
     "name": "stdout",
     "output_type": "stream",
     "text": [
      "The given number is prime 17\n"
     ]
    }
   ],
   "source": [
    "num = 17\n",
    "for val in range(2,num):\n",
    "    if (num % val) == 0:\n",
    "        break\n",
    "else:\n",
    "    print(\"The given number is prime\",num)"
   ]
  },
  {
   "cell_type": "code",
   "execution_count": 3,
   "metadata": {},
   "outputs": [
    {
     "name": "stdout",
     "output_type": "stream",
     "text": [
      "The given number is prime 17\n"
     ]
    }
   ],
   "source": [
    "num = 17\n",
    "flag = 0\n",
    "for val in range(2,num):\n",
    "    if (num % val) == 0:\n",
    "        flag = 1\n",
    "        break\n",
    "if flag == 0:\n",
    "    print(\"The given number is prime\",num)\n",
    "else:\n",
    "    print(\"The given number is not prime\",num)"
   ]
  },
  {
   "cell_type": "code",
   "execution_count": null,
   "metadata": {},
   "outputs": [],
   "source": []
  }
 ],
 "metadata": {
  "kernelspec": {
   "display_name": "Python 3",
   "language": "python",
   "name": "python3"
  },
  "language_info": {
   "codemirror_mode": {
    "name": "ipython",
    "version": 3
   },
   "file_extension": ".py",
   "mimetype": "text/x-python",
   "name": "python",
   "nbconvert_exporter": "python",
   "pygments_lexer": "ipython3",
   "version": "3.8.5"
  }
 },
 "nbformat": 4,
 "nbformat_minor": 2
}
