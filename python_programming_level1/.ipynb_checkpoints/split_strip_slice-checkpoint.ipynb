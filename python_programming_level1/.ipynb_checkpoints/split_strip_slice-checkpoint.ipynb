{
 "cells": [
  {
   "cell_type": "code",
   "execution_count": 6,
   "metadata": {},
   "outputs": [
    {
     "name": "stdout",
     "output_type": "stream",
     "text": [
      "[6, 7, 8, 9, 10]\n",
      "[6, 7, 8, 9]\n"
     ]
    }
   ],
   "source": [
    "#i// first number is starting number\n",
    "#// second number is ending\n",
    "#// third number is step\n",
    "\n",
    "numbers = [1, 2, 3, 4, 5, 6, 7, 8, 9, 10]\n",
    "#print(numbers)\n",
    "#print(numbers[::])\n",
    "#print(numbers[::-1])\n",
    "#print(numbers[3:10:2])\n",
    "#print(numbers[3:9])\n",
    "#print(numbers[3:9:2])\n",
    "#print(numbers[-3:-10:-1])\n",
    "#print(numbers[-7:-2:1])\n",
    "print(numbers[-5:10:1])\n",
    "print(numbers[5:9:1])\n",
    "#print(numbers[-7:9:2])\n",
    "#print(numbers[5::1])\n",
    "#print(numbers[0::])\n",
    "#print(numbers[-1::-1])"
   ]
  },
  {
   "cell_type": "code",
   "execution_count": 7,
   "metadata": {},
   "outputs": [
    {
     "name": "stdout",
     "output_type": "stream",
     "text": [
      "RaviKumar\n",
      "ramuKivaR\n"
     ]
    }
   ],
   "source": [
    "name = \"RaviKumar\"\n",
    "print(name)\n",
    "print(name[::-1])"
   ]
  },
  {
   "cell_type": "code",
   "execution_count": 8,
   "metadata": {},
   "outputs": [
    {
     "name": "stdout",
     "output_type": "stream",
     "text": [
      "['topeka', 'kansas', 'city', 'wichita', 'olathe']\n",
      "topeka\n",
      "kansas\n",
      "city\n",
      "wichita\n",
      "olathe\n"
     ]
    }
   ],
   "source": [
    "# Input string.\n",
    "s = \"topeka kansas city wichita olathe\"\n",
    "# Separate on comma.\n",
    "cities = s.split(\" \");\n",
    "# Loop and print each city name.\n",
    "print(cities)\n",
    "for city in cities:\n",
    "    print(city);"
   ]
  },
  {
   "cell_type": "code",
   "execution_count": 9,
   "metadata": {},
   "outputs": [
    {
     "name": "stdout",
     "output_type": "stream",
     "text": [
      "this is string example....wow!!!\n"
     ]
    }
   ],
   "source": [
    "str = \"0000000this is string example....wow!!!0000000\";\n",
    "print(str.strip( '0' ))"
   ]
  },
  {
   "cell_type": "code",
   "execution_count": 10,
   "metadata": {},
   "outputs": [
    {
     "name": "stdout",
     "output_type": "stream",
     "text": [
      "50342=Data,231\n"
     ]
    }
   ],
   "source": [
    "# Has numbers on left and right, and some syntax.\n",
    "value = \"50342=Data,231\"\n",
    "\n",
    "# Strip all digits.\n",
    "# ... Also remove equals sign and comma.\n",
    "#result = value.strip(\"0123456789=,\")\n",
    "result = value.strip(\"Data\")\n",
    "print(result)"
   ]
  },
  {
   "cell_type": "code",
   "execution_count": 11,
   "metadata": {},
   "outputs": [
    {
     "name": "stdout",
     "output_type": "stream",
     "text": [
      "34\n",
      "['This string', 'has many', 'characters and many', 'lines.']\n",
      "[This string]\n",
      "[has many]\n",
      "[characters and many]\n",
      "[lines.]\n"
     ]
    }
   ],
   "source": [
    "i = 34;\n",
    "print(i)\n",
    "\n",
    "# Data.\n",
    "s = \"\"\"This string\n",
    "has many\n",
    "characters and many\n",
    "lines.\"\"\"\n",
    "\n",
    "# Split on line breaks.\n",
    "lines = s.splitlines()\n",
    "print(lines)\n",
    "\n",
    "# Loop and display each line.\n",
    "for line in lines:\n",
    "    print(\"[\" +  line + \"]\")"
   ]
  },
  {
   "cell_type": "code",
   "execution_count": 12,
   "metadata": {},
   "outputs": [
    {
     "name": "stdout",
     "output_type": "stream",
     "text": [
      "['100', '200', '50']\n",
      "100 200 50 \n",
      "350\n"
     ]
    }
   ],
   "source": [
    "numbers = \"100.200.50\"\n",
    "\n",
    "# Split apart the numbers.\n",
    "myvalues = numbers.split(\".\")\n",
    "print(myvalues)\n",
    "# Loop over strings and convert them to integers.\n",
    "# ... Then sum them.\n",
    "total = 0\n",
    "for var in myvalues:\n",
    "    print(var,end=\" \")\n",
    "print()\n",
    "for var in myvalues:\n",
    "    total = total + int(var)\n",
    "print(total)"
   ]
  },
  {
   "cell_type": "code",
   "execution_count": null,
   "metadata": {},
   "outputs": [],
   "source": []
  }
 ],
 "metadata": {
  "kernelspec": {
   "display_name": "Python 3",
   "language": "python",
   "name": "python3"
  },
  "language_info": {
   "codemirror_mode": {
    "name": "ipython",
    "version": 3
   },
   "file_extension": ".py",
   "mimetype": "text/x-python",
   "name": "python",
   "nbconvert_exporter": "python",
   "pygments_lexer": "ipython3",
   "version": "3.8.5"
  }
 },
 "nbformat": 4,
 "nbformat_minor": 4
}
