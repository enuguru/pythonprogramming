{
 "cells": [
  {
   "cell_type": "code",
   "execution_count": 1,
   "metadata": {
    "ExecuteTime": {
     "end_time": "2020-08-14T06:32:37.907124Z",
     "start_time": "2020-08-14T06:32:37.893134Z"
    }
   },
   "outputs": [
    {
     "name": "stdout",
     "output_type": "stream",
     "text": [
      "<__main__.MyFirstClass object at 0x000002C7236C4040>\n",
      "<__main__.MyFirstClass object at 0x000002C7236C40A0>\n"
     ]
    }
   ],
   "source": [
    "class MyFirstClass:\n",
    "    pass\n",
    "\n",
    "obj1 = MyFirstClass()\n",
    "obj2 = MyFirstClass()\n",
    "\n",
    "print(obj1)\n",
    "print(obj2)\n"
   ]
  },
  {
   "cell_type": "code",
   "execution_count": 2,
   "metadata": {
    "ExecuteTime": {
     "end_time": "2020-08-14T06:34:10.434368Z",
     "start_time": "2020-08-14T06:34:10.422374Z"
    }
   },
   "outputs": [
    {
     "name": "stdout",
     "output_type": "stream",
     "text": [
      "5 4\n",
      "3 6\n"
     ]
    }
   ],
   "source": [
    "\n",
    "# what is the class here?  - Point\n",
    "# what is the object here? - p1, p2\n",
    "\n",
    "# what are the variables here? x,y\n",
    "\n",
    "# what is . dot notation? p1.x ? - x variable belonging to \n",
    "#                                  p1 class\n",
    "#                         p2.y ? - y variable belonging to \n",
    "#                                  p2 class\n",
    "\n",
    "class Point:\n",
    "    pass\n",
    "\n",
    "p1 = Point()\n",
    "p2 = Point()\n",
    "\n",
    "p1.x = 5\n",
    "p1.y = 4\n",
    "\n",
    "p2.x = 3\n",
    "p2.y = 6\n",
    "\n",
    "print(p1.x, p1.y)\n",
    "print(p2.x, p2.y)\n"
   ]
  },
  {
   "cell_type": "code",
   "execution_count": 4,
   "metadata": {
    "ExecuteTime": {
     "end_time": "2020-08-14T06:36:02.113266Z",
     "start_time": "2020-08-14T06:36:02.099276Z"
    }
   },
   "outputs": [
    {
     "name": "stdout",
     "output_type": "stream",
     "text": [
      "savings\n",
      "10000\n",
      "current\n",
      "200000\n"
     ]
    }
   ],
   "source": [
    "#dunder method - magic method  dunder methods - magic methods - double underscore\n",
    "class BankBalance:\n",
    "    def __init__(self, acctype, amount):    # Constructor of the class Double UNDERscore\n",
    "        self.acctype = acctype              # magic methods\n",
    "        self.amount = amount  #dunder methods magic methods\n",
    "\n",
    "a = BankBalance('savings', 10000)\n",
    "b = BankBalance('current',200000)\n",
    "\n",
    "print(a.acctype)\n",
    "print(a.amount)\n",
    "print(b.acctype)\n",
    "print(b.amount)"
   ]
  },
  {
   "cell_type": "code",
   "execution_count": 5,
   "metadata": {
    "ExecuteTime": {
     "end_time": "2020-08-14T06:41:39.334052Z",
     "start_time": "2020-08-14T06:41:39.310063Z"
    }
   },
   "outputs": [
    {
     "name": "stdout",
     "output_type": "stream",
     "text": [
      "Derived Class\n",
      "Marge Simpson\n",
      "Homer Simpson\n",
      "Homer Simpson, 1007\n"
     ]
    }
   ],
   "source": [
    "# this program demonstrates how the derived class and \n",
    "# the base class work with each other and the syntax\n",
    "# for inheritance in python, \"is a\" relationship\n",
    "\n",
    "class Person:\n",
    "\n",
    "    def __init__(self, first, last):\n",
    "        self.firstname = first\n",
    "        self.lastname = last\n",
    "\n",
    "    def Name(self):\n",
    "        return self.firstname + \" \" + self.lastname\n",
    "\n",
    "class Employee(Person):\n",
    "\n",
    "    def __init__(self, first, last, staffnum):\n",
    "        print(\"Derived Class\")\n",
    "        Person.__init__(self, first, last)\n",
    "        self.staffnumber = staffnum\n",
    "\n",
    "    def GetEmployee(self):\n",
    "        return self.Name() + \", \" +  self.staffnumber\n",
    "\n",
    "xobj = Person(\"Marge\", \"Simpson\")\n",
    "yobj = Employee(\"Homer\", \"Simpson\", \"1007\")\n",
    "\n",
    "print(xobj.Name())\n",
    "print(yobj.Name())\n",
    "print(yobj.GetEmployee())"
   ]
  },
  {
   "cell_type": "code",
   "execution_count": 8,
   "metadata": {
    "ExecuteTime": {
     "end_time": "2020-08-14T06:51:35.366078Z",
     "start_time": "2020-08-14T06:51:35.349087Z"
    }
   },
   "outputs": [
    {
     "name": "stdout",
     "output_type": "stream",
     "text": [
      "Length:  80\n",
      "Breadth:  50\n",
      "Area:  4000\n"
     ]
    }
   ],
   "source": [
    "# program to illustrate protected\n",
    "# data members in a class\n",
    "\n",
    "# super class\n",
    "class Shape:\n",
    "      \n",
    "    # constructor\n",
    "    def __init__(self, length, breadth):\n",
    "        self._length = length\n",
    "        self._breadth = breadth\n",
    "          \n",
    "    # public member function\n",
    "    def displaySides(self):\n",
    "  \n",
    "        # accessing protected data members\n",
    "        print(\"Length: \", self._length)\n",
    "        print(\"Breadth: \", self._breadth)\n",
    "        \n",
    "  \n",
    "  \n",
    "# derived class\n",
    "class Rectangle(Shape):\n",
    "  \n",
    "    # constructor\n",
    "    def __init__(self, length, breadth):\n",
    "  \n",
    "        # Calling the constructor of\n",
    "        # Super class\n",
    "        Shape.__init__(self, length, breadth)\n",
    "          \n",
    "    # public member function\n",
    "    def calculateArea(self):\n",
    "                      \n",
    "        # accessing protected data members of super class\n",
    "        print(\"Area: \", self._length * self._breadth)\n",
    "                      \n",
    "  \n",
    "# creating objects of the\n",
    "# derived class\n",
    "obj = Rectangle(80, 50)\n",
    "  \n",
    "# calling derived member\n",
    "# functions of the class\n",
    "obj.displaySides()\n",
    "  \n",
    "# calling public member\n",
    "# functions of the class\n",
    "obj.calculateArea()  \n"
   ]
  },
  {
   "cell_type": "code",
   "execution_count": 22,
   "metadata": {
    "ExecuteTime": {
     "end_time": "2020-08-14T07:00:58.304810Z",
     "start_time": "2020-08-14T07:00:58.290818Z"
    }
   },
   "outputs": [
    {
     "name": "stdout",
     "output_type": "stream",
     "text": [
      "Public method\n",
      "\n",
      "Inside derived class\n",
      "Private method\n",
      "10\n",
      "Private method\n"
     ]
    }
   ],
   "source": [
    "\n",
    "# Python program to\n",
    "# demonstrate private methods\n",
    "  \n",
    "# Creating a Base class\n",
    "class Base:\n",
    " \n",
    "    _myvar = 10\n",
    "    # Declaring public method\n",
    "    def fun(self):\n",
    "        print(\"Public method\")\n",
    "  \n",
    "    # Declaring protected method\n",
    "    def _fun(self):\n",
    "        print(\"Private method\")\n",
    "        \n",
    "\n",
    "# Creating a derived class\n",
    "\n",
    "class Derived(Base):\n",
    "    def __init__(self):\n",
    "          \n",
    "        # Calling constructor of\n",
    "        # Base class\n",
    "        Base.__init__(self)\n",
    "          \n",
    "    def call_public(self):\n",
    "          \n",
    "        # Calling public method of base class\n",
    "        print(\"\\nInside derived class\")\n",
    "        self._fun()\n",
    "          \n",
    "    def call_private(self):\n",
    "        print(self._myvar)  \n",
    "        # Calling private method of base class\n",
    "        self._fun()\n",
    "\n",
    "        \n",
    "# Driver code\n",
    "obj1 = Base()\n",
    "  \n",
    "# Calling public method\n",
    "obj1.fun()\n",
    "  \n",
    "obj2 = Derived()\n",
    "obj2.call_public()\n",
    "obj2.call_private()\n",
    "  \n",
    "# Uncommenting obj1.__fun() will\n",
    "# raise an AttributeError\n",
    "  \n",
    "# Uncommenting obj2.call_private()\n",
    "# will also raise an AttributeError\n"
   ]
  },
  {
   "cell_type": "code",
   "execution_count": 32,
   "metadata": {
    "ExecuteTime": {
     "end_time": "2020-08-14T07:06:15.730130Z",
     "start_time": "2020-08-14T07:06:15.716139Z"
    }
   },
   "outputs": [
    {
     "name": "stdout",
     "output_type": "stream",
     "text": [
      "cse\n",
      "cse\n",
      "Karthik\n",
      "MeghaDharshini\n",
      "1\n",
      "2\n",
      "cse\n"
     ]
    }
   ],
   "source": [
    "# Python program to show that the variables with a value\n",
    "# assigned in class declaration, are class variables\n",
    "  \n",
    "# Class for a Computer Science Student\n",
    "class CSStudent:\n",
    "    stream = 'cse'                  # Class Variable or static variable\n",
    "    def __init__(self,name,roll):\n",
    "        self.name = name            # Instance Variable\n",
    "        self.roll = roll            # Instance Variable\n",
    "  \n",
    "# Objects of CSStudent class\n",
    "a = CSStudent('Karthik', 1)\n",
    "b = CSStudent('MeghaDharshini', 2)\n",
    "  \n",
    "print(a.stream)  # prints \"cse\"\n",
    "print(b.stream)  # prints \"cse\"\n",
    "print(a.name)    # prints \"Karthik\"\n",
    "print(b.name)    # prints \"MeghaDharshini\"\n",
    "print(a.roll)    # prints \"1\"\n",
    "print(b.roll)    # prints \"2\"\n",
    "  \n",
    "# Class variables can be accessed using class\n",
    "# name also\n",
    "print(CSStudent.stream) # prints \"cse\" \n"
   ]
  },
  {
   "cell_type": "code",
   "execution_count": null,
   "metadata": {
    "ExecuteTime": {
     "end_time": "2020-08-14T07:07:22.950879Z",
     "start_time": "2020-08-14T07:07:22.934894Z"
    }
   },
   "outputs": [],
   "source": []
  },
  {
   "cell_type": "code",
   "execution_count": 14,
   "metadata": {
    "ExecuteTime": {
     "end_time": "2020-08-14T07:08:33.199881Z",
     "start_time": "2020-08-14T07:08:33.187889Z"
    }
   },
   "outputs": [
    {
     "name": "stdout",
     "output_type": "stream",
     "text": [
      "Equal\n"
     ]
    }
   ],
   "source": [
    "class Dates:\n",
    "    def __init__(self, date):\n",
    "        self.date = date\n",
    "        \n",
    "    def getDate(self):\n",
    "        return self.date\n",
    "\n",
    "    @staticmethod\n",
    "    def slash_to_dash(date):\n",
    "        return date.replace(\"/\", \"-\")\n",
    "\n",
    "\n",
    "date = Dates(\"15-12-2016\")\n",
    "dateFromDB = \"15/12/2016\"\n",
    "dateWithDash = Dates.slash_to_dash(dateFromDB)\n",
    "\n",
    "if(date.getDate() == dateWithDash):\n",
    "    print(\"Equal\")\n",
    "else:\n",
    "    print(\"Unequal\")\n"
   ]
  },
  {
   "cell_type": "code",
   "execution_count": null,
   "metadata": {},
   "outputs": [],
   "source": [
    "class Car:\n",
    "\n",
    "    wheels = 4\n",
    "    \n",
    "    def __init__(self, color, model, year):\n",
    "        self.color = color\n",
    "        self.model = model\n",
    "        self.year = year"
   ]
  },
  {
   "cell_type": "code",
   "execution_count": 11,
   "metadata": {},
   "outputs": [
    {
     "name": "stdout",
     "output_type": "stream",
     "text": [
      "Name: Vinita, Pay: 250000, Exp: 5\n"
     ]
    }
   ],
   "source": [
    "# Parent class 1\n",
    "class TeamMember():#object):                   \n",
    "   def __init__(self, name, uid): \n",
    "      self.name = name \n",
    "      self.uid = uid \n",
    "  \n",
    "# Parent class 2\n",
    "class Worker():#object):                 \n",
    "   def __init__(self, pay, jobtitle): \n",
    "      self.pay = pay \n",
    "      self.jobtitle = jobtitle \n",
    "  \n",
    "# Deriving a child class from the two parent classes\n",
    "class TeamLeader(TeamMember, Worker):         \n",
    "   def __init__(self, name, uid, pay, jobtitle, exp): \n",
    "      self.exp = exp \n",
    "      TeamMember.__init__(self, name, uid) \n",
    "      Worker.__init__(self, pay, jobtitle)\n",
    "      print(\"Name: {}, Pay: {}, Exp: {}\".format(self.name, self.pay, self.exp))\n",
    "\n",
    "TL = TeamLeader('Vinita', 10001, 250000, 'Scrum Master', 5)"
   ]
  },
  {
   "cell_type": "code",
   "execution_count": 15,
   "metadata": {},
   "outputs": [
    {
     "name": "stdout",
     "output_type": "stream",
     "text": [
      "Method of next_child class\n",
      "Method of child class\n",
      "Method of base class\n"
     ]
    }
   ],
   "source": [
    "\"\"\"\n",
    " Desc:\n",
    "  Multi level inheritance\n",
    "  Python program to demonstrate overriding\n",
    "  using the super() method\n",
    "\"\"\"\n",
    "\n",
    "class base(object): \n",
    "   def base_func(self): \n",
    "      print('Method of base class')\n",
    "        \n",
    "class child(base): \n",
    "   def base_func(self): \n",
    "      print('Method of child class')\n",
    "      super(child, self).base_func()\n",
    "    \n",
    "class next_child(child): \n",
    "   def base_func(self): \n",
    "      print('Method of next_child class')\n",
    "      super(next_child, self).base_func() \n",
    "\n",
    "obj = next_child() \n",
    "obj.base_func()"
   ]
  },
  {
   "cell_type": "code",
   "execution_count": 25,
   "metadata": {},
   "outputs": [
    {
     "name": "stdout",
     "output_type": "stream",
     "text": [
      "Welcome to  Stark Industries\n",
      "Here  Steve  is working on  Mark 4\n",
      "The salary of  Steve  is  9999999\n"
     ]
    }
   ],
   "source": [
    "class Company:\n",
    "    # constructor\n",
    "    def __init__(self, name, proj):\n",
    "        self.name = name      # name(name of company) is public\n",
    "        self._proj = proj     # proj(current project) is protected\n",
    "    \n",
    "    # public function to show the details\n",
    "    def show(self):\n",
    "        print(\"The code of the company is = \",self.ccode)\n",
    "\n",
    "# define child class Emp\n",
    "class Emp(Company):\n",
    "    # constructor\n",
    "    def __init__(self, eName, sal, cName, proj):\n",
    "        # calling parent class constructor\n",
    "        Company.__init__(self, cName, proj)\n",
    "        self.name = eName   # public member variable\n",
    "        self.__sal = sal    # private member variable\n",
    "    \n",
    "    # public function to show salary details\n",
    "    def show_sal(self):\n",
    "        print(\"The salary of \",self.name,\" is \",self.__sal,)\n",
    "\n",
    "# creating instance of Company class\n",
    "c = Company(\"Stark Industries\", \"Mark 4\")\n",
    "# creating instance of Employee class\n",
    "e = Emp(\"Steve\", 9999999, c.name, c._proj)\n",
    "\n",
    "print(\"Welcome to \", c.name)\n",
    "print(\"Here \", e.name,\" is working on \",e._proj)\n",
    "\n",
    "# only the instance itself can change the __sal variable\n",
    "# and to show the value we have created a public function show_sal()\n",
    "e.show_sal()"
   ]
  },
  {
   "cell_type": "code",
   "execution_count": 6,
   "metadata": {},
   "outputs": [
    {
     "name": "stdout",
     "output_type": "stream",
     "text": [
      "Constructor C\n",
      "(<class '__main__.C'>, <class '__main__.newA'>, <class '__main__.A'>, <class 'object'>)\n",
      "[<class '__main__.C'>, <class '__main__.newA'>, <class '__main__.A'>, <class 'object'>]\n"
     ]
    }
   ],
   "source": [
    "# Python program to show the order\n",
    "# in which methods are resolved\n",
    "\n",
    "class A:\n",
    "    def rk(self):\n",
    "        print(\" In class A\")\n",
    "        \n",
    "class newA(A):\n",
    "    def rk(self):\n",
    "        print(\" In class newA\")\n",
    "\n",
    "#class B:\n",
    "#    def rk(self):\n",
    "#        print(\" In class B\")\n",
    "\n",
    "# classes ordering\n",
    "class C(newA):\n",
    "    def __init__(self):\n",
    "        print(\"Constructor C\")\n",
    "\n",
    "robj = C()\n",
    "\n",
    "# it prints the lookup order\n",
    "print(C.__mro__)\n",
    "print(C.mro())\n"
   ]
  },
  {
   "cell_type": "code",
   "execution_count": 17,
   "metadata": {},
   "outputs": [
    {
     "name": "stdout",
     "output_type": "stream",
     "text": [
      "Constructor C\n",
      "(<class '__main__.C'>, <class '__main__.newA'>, <class '__main__.A'>, <class '__main__.B'>, <class 'object'>)\n",
      "[<class '__main__.C'>, <class '__main__.newA'>, <class '__main__.A'>, <class '__main__.B'>, <class 'object'>]\n"
     ]
    }
   ],
   "source": [
    "# Python program to show the order\n",
    "# in which methods are resolved\n",
    "\n",
    "class A:\n",
    "    def rk(self):\n",
    "        print(\" In class A\")\n",
    "        \n",
    "class newA(A):\n",
    "    def rk(self):\n",
    "        print(\" In class newA\")\n",
    "\n",
    "\n",
    "class B:\n",
    "    def rk(self):\n",
    "        print(\" In class B\")\n",
    "        \n",
    "\n",
    "# classes ordering\n",
    "class C(newA,B):\n",
    "    def __init__(self):\n",
    "        print(\"Constructor C\")\n",
    "\n",
    "\n",
    "r = C()\n",
    "\n",
    "# it prints the lookup order\n",
    "print(C.__mro__)\n",
    "print(C.mro())\n"
   ]
  },
  {
   "cell_type": "code",
   "execution_count": 12,
   "metadata": {},
   "outputs": [],
   "source": [
    "class _ProductivitySystem:\n",
    "    def __init__(self):\n",
    "        self._roles = {\n",
    "            'manager': ManagerRole,\n",
    "            'secretary': SecretaryRole,\n",
    "            'sales': SalesRole,\n",
    "            'factory': FactoryRole\n",
    "        }\n",
    "\n",
    "    def get_role(self, role_id):\n",
    "        role_type = self._roles.get(role_id)\n",
    "        if not role_type:\\\n",
    "            raise ValueError('invalid role_id')\n",
    "        return role_type()\n",
    "\n",
    "    def track(self, employees, hours):\n",
    "        print('Tracking Employee Productivity')\n",
    "        print('==============================')\n",
    "        for employee in employees:\n",
    "            employee.work(hours)\n",
    "        print('')\n",
    "\n",
    "class ManagerRole:\n",
    "    def work(self, hours):\n",
    "        return f'screams and yells for {hours} hours.'\n",
    "\n",
    "class SecretaryRole:\n",
    "    def work(self, hours):\n",
    "        return f'expends {hours} hours doing office paperwork.'\n",
    "\n",
    "class SalesRole:\n",
    "    def work(self, hours):\n",
    "        return f'expends {hours} hours on the phone.'\n",
    "\n"
   ]
  },
  {
   "cell_type": "code",
   "execution_count": null,
   "metadata": {},
   "outputs": [],
   "source": []
  }
 ],
 "metadata": {
  "kernelspec": {
   "display_name": "Python 3",
   "language": "python",
   "name": "python3"
  },
  "language_info": {
   "codemirror_mode": {
    "name": "ipython",
    "version": 3
   },
   "file_extension": ".py",
   "mimetype": "text/x-python",
   "name": "python",
   "nbconvert_exporter": "python",
   "pygments_lexer": "ipython3",
   "version": "3.8.5"
  }
 },
 "nbformat": 4,
 "nbformat_minor": 2
}
