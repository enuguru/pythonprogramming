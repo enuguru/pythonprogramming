{
 "cells": [
  {
   "cell_type": "code",
   "execution_count": 1,
   "metadata": {},
   "outputs": [
    {
     "name": "stdout",
     "output_type": "stream",
     "text": [
      "45 67 78 89 23\n",
      "[45, 67, 78, 89, 23]\n"
     ]
    }
   ],
   "source": [
    "mystring = list(map(int,input().strip().split()))\n",
    "print(mystring)"
   ]
  },
  {
   "cell_type": "code",
   "execution_count": 19,
   "metadata": {},
   "outputs": [
    {
     "name": "stdout",
     "output_type": "stream",
     "text": [
      "2 3 4 5 6\n",
      "['2', '3', '4', '5', '6']\n"
     ]
    }
   ],
   "source": [
    "mystring = list(input().split())\n",
    "print(mystring)"
   ]
  },
  {
   "cell_type": "code",
   "execution_count": 21,
   "metadata": {},
   "outputs": [
    {
     "name": "stdout",
     "output_type": "stream",
     "text": [
      "34 56 5 66 77\n",
      "{34, 66, 5, 77, 56}\n"
     ]
    }
   ],
   "source": [
    "mystring = set(map(int,input().split()))\n",
    "print(mystring)"
   ]
  },
  {
   "cell_type": "code",
   "execution_count": null,
   "metadata": {},
   "outputs": [],
   "source": [
    "mystring = set(map(int,input().split()))\n",
    "print(mystring)"
   ]
  },
  {
   "cell_type": "code",
   "execution_count": null,
   "metadata": {},
   "outputs": [],
   "source": [
    "x, y, z = 34, 56, 78\n",
    "print(x,)"
   ]
  },
  {
   "cell_type": "code",
   "execution_count": 23,
   "metadata": {},
   "outputs": [
    {
     "name": "stdout",
     "output_type": "stream",
     "text": [
      "22 3 4 5 6\n",
      "(22, 3, 4, 5, 6)\n"
     ]
    }
   ],
   "source": [
    "mystring = tuple(map(int,input().split()))\n",
    "print(mystring)"
   ]
  },
  {
   "cell_type": "code",
   "execution_count": 27,
   "metadata": {},
   "outputs": [
    {
     "name": "stdout",
     "output_type": "stream",
     "text": [
      "22  33   44 5 66\n",
      "(22, 33, 44, 5, 66)\n"
     ]
    }
   ],
   "source": [
    "print(tuple(map(int,input().split())))"
   ]
  },
  {
   "cell_type": "code",
   "execution_count": 28,
   "metadata": {},
   "outputs": [
    {
     "name": "stdout",
     "output_type": "stream",
     "text": [
      "3\n",
      "Ravi 8755645432\n",
      "Teja 9876544323\n",
      "Mishra 8787765432\n",
      "[['Ravi', '8755645432'], ['Teja', '9876544323'], ['Mishra', '8787765432']]\n",
      "{'Ravi': '8755645432', 'Teja': '9876544323', 'Mishra': '8787765432'}\n"
     ]
    }
   ],
   "source": [
    "# 2\n",
    "# Guru 78\n",
    "# Badri 34\n",
    "n = int(input())\n",
    "name_numbers = [input().split() for _ in range(n)]\n",
    "print(name_numbers)\n",
    "phone_book = {k: v for k,v in name_numbers}\n",
    "print(phone_book)"
   ]
  },
  {
   "cell_type": "code",
   "execution_count": 29,
   "metadata": {},
   "outputs": [
    {
     "name": "stdout",
     "output_type": "stream",
     "text": [
      "Enter number of elements in the list : 3\n",
      "Enter element No-1: \n",
      "66\n",
      "Enter element No-2: \n",
      "77\n",
      "Enter element No-3: \n",
      "99\n",
      "The entered list is: \n",
      " [66, 77, 99]\n"
     ]
    }
   ],
   "source": [
    "listA = []\n",
    "# Input number of elemetns\n",
    "n = int(input(\"Enter number of elements in the list : \"))\n",
    "# iterating till the range\n",
    "for i in range(0, n):\n",
    "   print(\"Enter element No-{}: \".format(i+1))\n",
    "   elm = int(input())\n",
    "   listA.append(elm) # adding the element\n",
    "print(\"The entered list is: \\n\",listA)"
   ]
  },
  {
   "cell_type": "code",
   "execution_count": 30,
   "metadata": {},
   "outputs": [
    {
     "name": "stdout",
     "output_type": "stream",
     "text": [
      "Enter number of elements in the list : 2\n",
      "Enter element No-1: \n",
      "23\n",
      "Enter element No-2: \n",
      "66\n",
      "The entered set is: \n",
      " {66, 23}\n"
     ]
    }
   ],
   "source": [
    "setA = set([])\n",
    "# Input number of elemetns\n",
    "n = int(input(\"Enter number of elements in the list : \"))\n",
    "# iterating till the range\n",
    "for i in range(0, n):\n",
    "   print(\"Enter element No-{}: \".format(i+1))\n",
    "   elm = int(input())\n",
    "   setA.add(elm) # adding the element\n",
    "print(\"The entered set is: \\n\",setA)"
   ]
  },
  {
   "cell_type": "code",
   "execution_count": null,
   "metadata": {},
   "outputs": [],
   "source": [
    "# 5\n",
    "# 10 40 30 50 20\n",
    "# 1 2 3 4 5\n",
    "# 32.0\n",
    "# Enter your code here. Read input from STDIN. Print output to STDOUT\n",
    "\n",
    "val = int(input())\n",
    "arraylist = list(map(int,input().split()))\n",
    "weightlist = list(map(int,input().split()))\n",
    "mysum = 0\n",
    "for i in range(val): \n",
    "    mysum = mysum + (arraylist[i] * weightlist[i])\n",
    "print(round(mysum/sum(weightlist),1))\n"
   ]
  },
  {
   "cell_type": "code",
   "execution_count": 3,
   "metadata": {},
   "outputs": [
    {
     "name": "stdout",
     "output_type": "stream",
     "text": [
      "hello how are you doing\n",
      "('hello', 'how', 'are', 'you', 'doing')\n"
     ]
    }
   ],
   "source": [
    "mystring = tuple(map(str,input().split()))\n",
    "print(mystring)"
   ]
  },
  {
   "cell_type": "code",
   "execution_count": null,
   "metadata": {},
   "outputs": [],
   "source": []
  }
 ],
 "metadata": {
  "kernelspec": {
   "display_name": "Python 3",
   "language": "python",
   "name": "python3"
  },
  "language_info": {
   "codemirror_mode": {
    "name": "ipython",
    "version": 3
   },
   "file_extension": ".py",
   "mimetype": "text/x-python",
   "name": "python",
   "nbconvert_exporter": "python",
   "pygments_lexer": "ipython3",
   "version": "3.8.5"
  }
 },
 "nbformat": 4,
 "nbformat_minor": 4
}
