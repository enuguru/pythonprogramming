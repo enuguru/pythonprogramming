{
 "cells": [
  {
   "cell_type": "markdown",
   "id": "2b645229",
   "metadata": {},
   "source": [
    "# python dynamic typing"
   ]
  },
  {
   "cell_type": "code",
   "execution_count": 5,
   "id": "bee95211",
   "metadata": {},
   "outputs": [
    {
     "name": "stdout",
     "output_type": "stream",
     "text": [
      "10\n"
     ]
    }
   ],
   "source": [
    "newint = 10\n",
    "print(newint)"
   ]
  },
  {
   "cell_type": "code",
   "execution_count": 6,
   "id": "7178dfca",
   "metadata": {},
   "outputs": [
    {
     "name": "stdout",
     "output_type": "stream",
     "text": [
      "34.45\n"
     ]
    }
   ],
   "source": [
    "newfloat = 34.45\n",
    "print(newfloat)"
   ]
  },
  {
   "cell_type": "code",
   "execution_count": 7,
   "id": "f867b2f7",
   "metadata": {},
   "outputs": [
    {
     "name": "stdout",
     "output_type": "stream",
     "text": [
      "p\n"
     ]
    }
   ],
   "source": [
    "newchar = 'p'\n",
    "print(newchar)"
   ]
  },
  {
   "cell_type": "code",
   "execution_count": 8,
   "id": "9a4912c7",
   "metadata": {},
   "outputs": [
    {
     "name": "stdout",
     "output_type": "stream",
     "text": [
      "Hello friends\n"
     ]
    }
   ],
   "source": [
    "newstring = 'Hello friends'\n",
    "print(newstring)"
   ]
  },
  {
   "cell_type": "markdown",
   "id": "f3d55ac8",
   "metadata": {},
   "source": [
    "# python collection data types"
   ]
  },
  {
   "cell_type": "markdown",
   "id": "1fa7fc5f",
   "metadata": {},
   "source": [
    "# list"
   ]
  },
  {
   "cell_type": "code",
   "execution_count": 25,
   "id": "f2c72dcb",
   "metadata": {},
   "outputs": [
    {
     "name": "stdout",
     "output_type": "stream",
     "text": [
      "[23, 45, 67, 78, 99, 99]\n"
     ]
    }
   ],
   "source": [
    "newlist = [23,45,67,78,99,99]\n",
    "print(newlist)"
   ]
  },
  {
   "cell_type": "code",
   "execution_count": 28,
   "id": "69cabdfa",
   "metadata": {},
   "outputs": [
    {
     "name": "stdout",
     "output_type": "stream",
     "text": [
      "Give a value  34\n",
      "34\n"
     ]
    }
   ],
   "source": [
    "val = input(\"Give a value  \")\n",
    "print(val)"
   ]
  },
  {
   "cell_type": "markdown",
   "id": "f05f2789",
   "metadata": {},
   "source": [
    "# dictionary"
   ]
  },
  {
   "cell_type": "code",
   "execution_count": 10,
   "id": "8e5c547b",
   "metadata": {},
   "outputs": [
    {
     "name": "stdout",
     "output_type": "stream",
     "text": [
      "{'Student': 'Karthik', 45: 'Ramesh', 67: 'Vandana', 78: 'Faisal', 'Andy': 99}\n"
     ]
    }
   ],
   "source": [
    "gooddict = {\"Student\":\"Karthik\",45:\"Ramesh\",67:\"Vandana\",78:\"Faisal\",\"Andy\": 99}\n",
    "print(gooddict)"
   ]
  },
  {
   "cell_type": "code",
   "execution_count": 15,
   "id": "6db85c18",
   "metadata": {},
   "outputs": [
    {
     "name": "stdout",
     "output_type": "stream",
     "text": [
      "Student 45 67 78 Andy "
     ]
    }
   ],
   "source": [
    "for key in gooddict:\n",
    "    print(key, end=\" \")"
   ]
  },
  {
   "cell_type": "code",
   "execution_count": 14,
   "id": "23283a91",
   "metadata": {},
   "outputs": [
    {
     "name": "stdout",
     "output_type": "stream",
     "text": [
      "Student Karthik   45 Ramesh   67 Vandana   78 Faisal   Andy 99   "
     ]
    }
   ],
   "source": [
    "for key, value in gooddict.items():\n",
    "    print(key,value,end=\"   \")"
   ]
  },
  {
   "cell_type": "markdown",
   "id": "39241d4d",
   "metadata": {},
   "source": [
    "# tuple"
   ]
  },
  {
   "cell_type": "code",
   "execution_count": 29,
   "id": "9c4e470b",
   "metadata": {},
   "outputs": [
    {
     "name": "stdout",
     "output_type": "stream",
     "text": [
      "(23, 45, 67, 78, 99, 99)\n"
     ]
    }
   ],
   "source": [
    "newtuple = (23,45,67,78,99,99)\n",
    "print(newtuple)"
   ]
  },
  {
   "cell_type": "code",
   "execution_count": 18,
   "id": "a2bd20c6",
   "metadata": {},
   "outputs": [
    {
     "name": "stdout",
     "output_type": "stream",
     "text": [
      "67\n"
     ]
    }
   ],
   "source": [
    "print(newtuple[2])"
   ]
  },
  {
   "cell_type": "markdown",
   "id": "402a359f",
   "metadata": {},
   "source": [
    "# set"
   ]
  },
  {
   "cell_type": "code",
   "execution_count": 22,
   "id": "ea5a58f8",
   "metadata": {},
   "outputs": [
    {
     "name": "stdout",
     "output_type": "stream",
     "text": [
      "{67, 99, 23, 45, 78}\n"
     ]
    }
   ],
   "source": [
    "goodset = {23, 45, 67, 78, 99, 78}\n",
    "print(goodset)"
   ]
  },
  {
   "cell_type": "code",
   "execution_count": 23,
   "id": "d70f9e17",
   "metadata": {},
   "outputs": [
    {
     "ename": "TypeError",
     "evalue": "'set' object is not subscriptable",
     "output_type": "error",
     "traceback": [
      "\u001b[1;31m---------------------------------------------------------------------------\u001b[0m",
      "\u001b[1;31mTypeError\u001b[0m                                 Traceback (most recent call last)",
      "\u001b[1;32m~\\AppData\\Local\\Temp/ipykernel_10372/4011522887.py\u001b[0m in \u001b[0;36m<module>\u001b[1;34m\u001b[0m\n\u001b[1;32m----> 1\u001b[1;33m \u001b[0mprint\u001b[0m\u001b[1;33m(\u001b[0m\u001b[0mgoodset\u001b[0m\u001b[1;33m[\u001b[0m\u001b[1;36m2\u001b[0m\u001b[1;33m]\u001b[0m\u001b[1;33m)\u001b[0m\u001b[1;33m\u001b[0m\u001b[1;33m\u001b[0m\u001b[0m\n\u001b[0m",
      "\u001b[1;31mTypeError\u001b[0m: 'set' object is not subscriptable"
     ]
    }
   ],
   "source": [
    "print(goodset[2])"
   ]
  },
  {
   "cell_type": "code",
   "execution_count": null,
   "id": "06eb9855",
   "metadata": {},
   "outputs": [],
   "source": []
  },
  {
   "cell_type": "code",
   "execution_count": null,
   "id": "de1d1890",
   "metadata": {},
   "outputs": [],
   "source": []
  },
  {
   "cell_type": "markdown",
   "id": "cd123a82",
   "metadata": {},
   "source": [
    "# conditional statement - if and else"
   ]
  },
  {
   "cell_type": "code",
   "execution_count": 1,
   "id": "d0c0b1a5",
   "metadata": {},
   "outputs": [
    {
     "name": "stdout",
     "output_type": "stream",
     "text": [
      "Success\n"
     ]
    }
   ],
   "source": [
    "newlist = [\"banana\", \"apple\", \"pear\", \"orange\", \"pomogranite\", \"muskmelon\", \"blackberry\"]\n",
    "\n",
    "if \"banana\" in newlist:\n",
    "    print(\"Success\")\n",
    "else:\n",
    "    print(\"Not Present\")"
   ]
  },
  {
   "cell_type": "code",
   "execution_count": 30,
   "id": "33b8b2c3",
   "metadata": {},
   "outputs": [
    {
     "name": "stdout",
     "output_type": "stream",
     "text": [
      "True\n"
     ]
    }
   ],
   "source": [
    "if (5>2):\n",
    "    print(\"True\")\n",
    "else:\n",
    "    print(\"False\")"
   ]
  },
  {
   "cell_type": "code",
   "execution_count": 2,
   "id": "a10f9a7c",
   "metadata": {},
   "outputs": [
    {
     "name": "stdout",
     "output_type": "stream",
     "text": [
      "0 1 2 3 4 5 "
     ]
    }
   ],
   "source": [
    "for var in range(0,6):\n",
    "    print(var,end=\" \")"
   ]
  },
  {
   "cell_type": "code",
   "execution_count": 3,
   "id": "6316cc13",
   "metadata": {},
   "outputs": [
    {
     "name": "stdout",
     "output_type": "stream",
     "text": [
      "23 67 44 2 15 66 "
     ]
    }
   ],
   "source": [
    "# Access every 2nd element in a list\n",
    "newlist = [23, 45, 67, 87, 44, 33, 2, 11, 15, 99, 66]\n",
    "index = 0\n",
    "while index < len(newlist):\n",
    "    print(newlist[index], end = \" \")\n",
    "    index = index + 2"
   ]
  },
  {
   "cell_type": "code",
   "execution_count": null,
   "id": "a38cb5c7",
   "metadata": {},
   "outputs": [],
   "source": []
  }
 ],
 "metadata": {
  "kernelspec": {
   "display_name": "Python 3 (ipykernel)",
   "language": "python",
   "name": "python3"
  },
  "language_info": {
   "codemirror_mode": {
    "name": "ipython",
    "version": 3
   },
   "file_extension": ".py",
   "mimetype": "text/x-python",
   "name": "python",
   "nbconvert_exporter": "python",
   "pygments_lexer": "ipython3",
   "version": "3.9.7"
  }
 },
 "nbformat": 4,
 "nbformat_minor": 5
}
