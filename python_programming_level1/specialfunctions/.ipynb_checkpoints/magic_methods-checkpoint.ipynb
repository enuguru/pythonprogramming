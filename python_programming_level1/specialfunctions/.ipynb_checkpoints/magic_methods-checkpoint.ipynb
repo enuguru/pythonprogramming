{
 "cells": [
  {
   "cell_type": "code",
   "execution_count": null,
   "id": "62e6ca29",
   "metadata": {},
   "outputs": [],
   "source": [
    "class MyList(list):\n",
    "    def __contains__(self, typ):\n",
    "        for val in self:\n",
    "            if isinstance(val, typ):\n",
    "                return True\n",
    "        return False\n",
    "\n",
    "x = MyList([1, 2, 'a', 3])\n",
    "\n",
    "print(float in x) # False\n",
    "print(str in x)   # True"
   ]
  }
 ],
 "metadata": {
  "kernelspec": {
   "display_name": "Python 3 (ipykernel)",
   "language": "python",
   "name": "python3"
  },
  "language_info": {
   "codemirror_mode": {
    "name": "ipython",
    "version": 3
   },
   "file_extension": ".py",
   "mimetype": "text/x-python",
   "name": "python",
   "nbconvert_exporter": "python",
   "pygments_lexer": "ipython3",
   "version": "3.9.7"
  }
 },
 "nbformat": 4,
 "nbformat_minor": 5
}
