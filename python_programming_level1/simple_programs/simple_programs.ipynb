{
 "cells": [
  {
   "cell_type": "code",
   "execution_count": 1,
   "id": "6ed4a3f1",
   "metadata": {},
   "outputs": [
    {
     "name": "stdout",
     "output_type": "stream",
     "text": [
      "Bhageerath\n",
      "you are welcome\n"
     ]
    }
   ],
   "source": [
    "names = [\"Ayush\",\"Ravi\",\"Bhageerath\",\"Lakshmi\",\"Prateek\",\"Soumya\",\"Prema\"]\n",
    "yourname = input()\n",
    "if yourname in names:\n",
    "    print(\"you are welcome\")"
   ]
  },
  {
   "cell_type": "code",
   "execution_count": 2,
   "id": "6ac6cf39",
   "metadata": {},
   "outputs": [
    {
     "name": "stdout",
     "output_type": "stream",
     "text": [
      "Lakshmi\n",
      "See you next time\n"
     ]
    }
   ],
   "source": [
    "names = [\"Ayush\",\"Ravi\",\"Bhageerath\",\"Lakshmi\",\"Prateek\",\"Soumya\",\"Prema\"]\n",
    "yourname = input()\n",
    "if yourname in names:\n",
    "    if yourname == (\"Bhageerath\" or \"Lakshmi\"):\n",
    "        print(\"You are welcome\")\n",
    "    else:\n",
    "        print(\"See you next time\")\n",
    "else:\n",
    "    print(\"You are not authorized\")"
   ]
  },
  {
   "cell_type": "code",
   "execution_count": null,
   "id": "6489aa58",
   "metadata": {},
   "outputs": [],
   "source": []
  }
 ],
 "metadata": {
  "kernelspec": {
   "display_name": "Python 3 (ipykernel)",
   "language": "python",
   "name": "python3"
  },
  "language_info": {
   "codemirror_mode": {
    "name": "ipython",
    "version": 3
   },
   "file_extension": ".py",
   "mimetype": "text/x-python",
   "name": "python",
   "nbconvert_exporter": "python",
   "pygments_lexer": "ipython3",
   "version": "3.10.9"
  }
 },
 "nbformat": 4,
 "nbformat_minor": 5
}
