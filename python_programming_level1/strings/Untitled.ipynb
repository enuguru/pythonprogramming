{
 "cells": [
  {
   "cell_type": "code",
   "execution_count": 19,
   "id": "8ae299cb",
   "metadata": {},
   "outputs": [],
   "source": [
    "newstring = \"universe\""
   ]
  },
  {
   "cell_type": "code",
   "execution_count": 20,
   "id": "d208b90b",
   "metadata": {},
   "outputs": [
    {
     "name": "stdout",
     "output_type": "stream",
     "text": [
      "<class 'str'>\n"
     ]
    }
   ],
   "source": [
    "print(type(newstring))"
   ]
  },
  {
   "cell_type": "code",
   "execution_count": 21,
   "id": "5adabbbb",
   "metadata": {},
   "outputs": [
    {
     "data": {
      "text/plain": [
       "2"
      ]
     },
     "execution_count": 21,
     "metadata": {},
     "output_type": "execute_result"
    }
   ],
   "source": [
    "newstring.count('e')"
   ]
  },
  {
   "cell_type": "code",
   "execution_count": 18,
   "id": "86e697a5",
   "metadata": {},
   "outputs": [
    {
     "data": {
      "text/plain": [
       "True"
      ]
     },
     "execution_count": 18,
     "metadata": {},
     "output_type": "execute_result"
    }
   ],
   "source": [
    "newstring.endswith('e')"
   ]
  },
  {
   "cell_type": "code",
   "execution_count": null,
   "id": "f3ced4b7",
   "metadata": {},
   "outputs": [],
   "source": [
    "newstring."
   ]
  }
 ],
 "metadata": {
  "kernelspec": {
   "display_name": "Python 3 (ipykernel)",
   "language": "python",
   "name": "python3"
  },
  "language_info": {
   "codemirror_mode": {
    "name": "ipython",
    "version": 3
   },
   "file_extension": ".py",
   "mimetype": "text/x-python",
   "name": "python",
   "nbconvert_exporter": "python",
   "pygments_lexer": "ipython3",
   "version": "3.9.7"
  }
 },
 "nbformat": 4,
 "nbformat_minor": 5
}
