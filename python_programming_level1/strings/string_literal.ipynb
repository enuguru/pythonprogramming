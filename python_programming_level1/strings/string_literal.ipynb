{
 "cells": [
  {
   "cell_type": "raw",
   "id": "bd27c2e9",
   "metadata": {},
   "source": [
    "Single & Double Quotes\n",
    "Enclose strings. Either single or double quotes are fine.\n",
    "Use single quotes as enclosing quotes to eliminate the need of escaping double quotes in a string, and vice versa.\n",
    "Triple Quotes\n",
    "Enclose strings containing both single and double quotes such that no escaping is needed.\n",
    "Enclose multi-line strings"
   ]
  },
  {
   "cell_type": "code",
   "execution_count": 1,
   "id": "880346d9",
   "metadata": {},
   "outputs": [
    {
     "name": "stdout",
     "output_type": "stream",
     "text": [
      "The quick brown fox jumps over the lazy dog\n",
      "e q\n",
      "qikbonfx\n"
     ]
    },
    {
     "ename": "TypeError",
     "evalue": "'str' object does not support item assignment",
     "output_type": "error",
     "traceback": [
      "\u001b[1;31m---------------------------------------------------------------------------\u001b[0m",
      "\u001b[1;31mTypeError\u001b[0m                                 Traceback (most recent call last)",
      "\u001b[1;32m~\\AppData\\Local\\Temp\\ipykernel_2808\\3126162037.py\u001b[0m in \u001b[0;36m<module>\u001b[1;34m\u001b[0m\n\u001b[0;32m      3\u001b[0m \u001b[0mprint\u001b[0m\u001b[1;33m(\u001b[0m\u001b[0mnewstr\u001b[0m\u001b[1;33m[\u001b[0m\u001b[1;36m2\u001b[0m\u001b[1;33m:\u001b[0m\u001b[1;36m5\u001b[0m\u001b[1;33m]\u001b[0m\u001b[1;33m)\u001b[0m\u001b[1;33m\u001b[0m\u001b[1;33m\u001b[0m\u001b[0m\n\u001b[0;32m      4\u001b[0m \u001b[0mprint\u001b[0m\u001b[1;33m(\u001b[0m\u001b[0mnewstr\u001b[0m\u001b[1;33m[\u001b[0m\u001b[1;36m4\u001b[0m\u001b[1;33m:\u001b[0m\u001b[1;36m20\u001b[0m\u001b[1;33m:\u001b[0m\u001b[1;36m2\u001b[0m\u001b[1;33m]\u001b[0m\u001b[1;33m)\u001b[0m\u001b[1;33m\u001b[0m\u001b[1;33m\u001b[0m\u001b[0m\n\u001b[1;32m----> 5\u001b[1;33m \u001b[0mnewstr\u001b[0m\u001b[1;33m[\u001b[0m\u001b[1;36m2\u001b[0m\u001b[1;33m]\u001b[0m \u001b[1;33m=\u001b[0m \u001b[1;34m'f'\u001b[0m\u001b[1;33m\u001b[0m\u001b[1;33m\u001b[0m\u001b[0m\n\u001b[0m",
      "\u001b[1;31mTypeError\u001b[0m: 'str' object does not support item assignment"
     ]
    }
   ],
   "source": [
    "newstr = \"The quick brown fox jumps over the lazy dog\"\n",
    "print(newstr)\n",
    "print(newstr[2:5])\n",
    "print(newstr[4:20:2])"
   ]
  },
  {
   "cell_type": "code",
   "execution_count": null,
   "id": "6061fa0d",
   "metadata": {},
   "outputs": [],
   "source": [
    "newstr[3] = 'f'"
   ]
  },
  {
   "cell_type": "code",
   "execution_count": null,
   "id": "32ea0f7d",
   "metadata": {},
   "outputs": [],
   "source": [
    "newstr = \"Mahesh\"\n",
    "newstr"
   ]
  },
  {
   "cell_type": "code",
   "execution_count": 11,
   "id": "b70efd5e",
   "metadata": {},
   "outputs": [],
   "source": [
    "newvar = 20\n",
    "new_var = 20\n",
    "Sew3var = 20"
   ]
  },
  {
   "cell_type": "code",
   "execution_count": 12,
   "id": "ea7a4adc",
   "metadata": {},
   "outputs": [
    {
     "name": "stdout",
     "output_type": "stream",
     "text": [
      "Hello World\n"
     ]
    }
   ],
   "source": [
    "print('Hello World')"
   ]
  },
  {
   "cell_type": "code",
   "execution_count": 13,
   "id": "202923e9",
   "metadata": {},
   "outputs": [
    {
     "name": "stdout",
     "output_type": "stream",
     "text": [
      "Hello World\n"
     ]
    }
   ],
   "source": [
    "print(\"Hello World\")"
   ]
  },
  {
   "cell_type": "code",
   "execution_count": 14,
   "id": "20e1a026",
   "metadata": {},
   "outputs": [
    {
     "name": "stdout",
     "output_type": "stream",
     "text": [
      "True\n"
     ]
    }
   ],
   "source": [
    "print(\"Hello World\" == 'Hello World')"
   ]
  },
  {
   "cell_type": "code",
   "execution_count": 15,
   "id": "f6926071",
   "metadata": {},
   "outputs": [
    {
     "name": "stdout",
     "output_type": "stream",
     "text": [
      "Hello\n",
      "World\n",
      "!\n"
     ]
    }
   ],
   "source": [
    "print('Hello\\nWorld\\n!')"
   ]
  },
  {
   "cell_type": "code",
   "execution_count": 16,
   "id": "fc086ca7",
   "metadata": {},
   "outputs": [
    {
     "name": "stdout",
     "output_type": "stream",
     "text": [
      "Hello\n",
      "World\n",
      "!\n"
     ]
    }
   ],
   "source": [
    "print(\"Hello\\nWorld\\n!\")"
   ]
  },
  {
   "cell_type": "code",
   "execution_count": 17,
   "id": "0dbaa2fa",
   "metadata": {},
   "outputs": [
    {
     "ename": "SyntaxError",
     "evalue": "EOL while scanning string literal (Temp/ipykernel_15392/3529077548.py, line 1)",
     "output_type": "error",
     "traceback": [
      "\u001b[1;36m  File \u001b[1;32m\"C:\\Users\\Gururaj\\AppData\\Local\\Temp/ipykernel_15392/3529077548.py\"\u001b[1;36m, line \u001b[1;32m1\u001b[0m\n\u001b[1;33m    print(\"Hello World')\u001b[0m\n\u001b[1;37m                        ^\u001b[0m\n\u001b[1;31mSyntaxError\u001b[0m\u001b[1;31m:\u001b[0m EOL while scanning string literal\n"
     ]
    }
   ],
   "source": [
    "print(\"Hello World')"
   ]
  },
  {
   "cell_type": "code",
   "execution_count": 18,
   "id": "0728606f",
   "metadata": {},
   "outputs": [
    {
     "name": "stdout",
     "output_type": "stream",
     "text": [
      "She said, \"Thank you!\"\n"
     ]
    }
   ],
   "source": [
    "print('She said, \"Thank you!\"')"
   ]
  },
  {
   "cell_type": "code",
   "execution_count": 20,
   "id": "2b936f84",
   "metadata": {},
   "outputs": [
    {
     "name": "stdout",
     "output_type": "stream",
     "text": [
      "She said, 'Thank you!'\n"
     ]
    }
   ],
   "source": [
    "print(\"She said, 'Thank you!'\")"
   ]
  },
  {
   "cell_type": "code",
   "execution_count": 23,
   "id": "2ca19d4a",
   "metadata": {},
   "outputs": [
    {
     "name": "stdout",
     "output_type": "stream",
     "text": [
      "She said, 'Thank you! It's mine.'\n"
     ]
    }
   ],
   "source": [
    "print(\"She said, 'Thank you! It's mine.'\")"
   ]
  },
  {
   "cell_type": "code",
   "execution_count": 22,
   "id": "77c460b3",
   "metadata": {},
   "outputs": [
    {
     "ename": "SyntaxError",
     "evalue": "invalid syntax (Temp/ipykernel_15392/507817546.py, line 1)",
     "output_type": "error",
     "traceback": [
      "\u001b[1;36m  File \u001b[1;32m\"C:\\Users\\Gururaj\\AppData\\Local\\Temp/ipykernel_15392/507817546.py\"\u001b[1;36m, line \u001b[1;32m1\u001b[0m\n\u001b[1;33m    print('She said, \"Thank you! It's mine.\"')\u001b[0m\n\u001b[1;37m                                    ^\u001b[0m\n\u001b[1;31mSyntaxError\u001b[0m\u001b[1;31m:\u001b[0m invalid syntax\n"
     ]
    }
   ],
   "source": [
    "print('She said, \"Thank you! It's mine.\"')"
   ]
  },
  {
   "cell_type": "code",
   "execution_count": 24,
   "id": "35c0703f",
   "metadata": {},
   "outputs": [
    {
     "name": "stdout",
     "output_type": "stream",
     "text": [
      "She said, \"Thank you! It's mine.\"\n"
     ]
    }
   ],
   "source": [
    "print('She said, \"Thank you! It\\'s mine.\"')"
   ]
  },
  {
   "cell_type": "code",
   "execution_count": 25,
   "id": "66134267",
   "metadata": {},
   "outputs": [
    {
     "name": "stdout",
     "output_type": "stream",
     "text": [
      "Hello\n",
      "World\n",
      "!\n"
     ]
    }
   ],
   "source": [
    "print(\"\"\"Hello\n",
    "... World\n",
    "... !\"\"\")"
   ]
  },
  {
   "cell_type": "code",
   "execution_count": 26,
   "id": "c7681f6c",
   "metadata": {},
   "outputs": [
    {
     "name": "stdout",
     "output_type": "stream",
     "text": [
      "Lorem ipsum dolor sit amet,\n",
      "consectetur adipiscing elit,\n",
      "sed do eiusmod tempor incididunt\n",
      "ut labore et dolore magna aliqua.\n"
     ]
    }
   ],
   "source": [
    "a = \"\"\"Lorem ipsum dolor sit amet,\n",
    "consectetur adipiscing elit,\n",
    "sed do eiusmod tempor incididunt\n",
    "ut labore et dolore magna aliqua.\"\"\"\n",
    "print(a)"
   ]
  },
  {
   "cell_type": "code",
   "execution_count": 28,
   "id": "e59487e5",
   "metadata": {},
   "outputs": [
    {
     "name": "stdout",
     "output_type": "stream",
     "text": [
      "Lorem ipsum dolor sit amet,\n",
      "consectetur adipiscing elit,\n",
      "sed do eiusmod tempor incididunt\n",
      "ut labore et dolore magna aliqua.\n"
     ]
    }
   ],
   "source": [
    "a = '''Lorem ipsum dolor sit amet,\n",
    "consectetur adipiscing elit,\n",
    "sed do eiusmod tempor incididunt\n",
    "ut labore et dolore magna aliqua.'''\n",
    "print(a)"
   ]
  },
  {
   "cell_type": "code",
   "execution_count": 32,
   "id": "b70e4f6e",
   "metadata": {},
   "outputs": [
    {
     "name": "stdout",
     "output_type": "stream",
     "text": [
      "She said, \"Thank you! It's mine.\"\n"
     ]
    }
   ],
   "source": [
    "print('''She said, \"Thank you! It's mine.\"''')"
   ]
  },
  {
   "cell_type": "code",
   "execution_count": 30,
   "id": "6b5a017d",
   "metadata": {},
   "outputs": [
    {
     "ename": "SyntaxError",
     "evalue": "EOL while scanning string literal (Temp/ipykernel_15392/2832362829.py, line 1)",
     "output_type": "error",
     "traceback": [
      "\u001b[1;36m  File \u001b[1;32m\"C:\\Users\\Gururaj\\AppData\\Local\\Temp/ipykernel_15392/2832362829.py\"\u001b[1;36m, line \u001b[1;32m1\u001b[0m\n\u001b[1;33m    print(\"\"\"She said, \"Thank you! It's mine.\"\"\"\")\u001b[0m\n\u001b[1;37m                                                  ^\u001b[0m\n\u001b[1;31mSyntaxError\u001b[0m\u001b[1;31m:\u001b[0m EOL while scanning string literal\n"
     ]
    }
   ],
   "source": [
    "print(\"\"\"She said, \"Thank you! It's mine.\"\"\"\")"
   ]
  },
  {
   "cell_type": "code",
   "execution_count": null,
   "id": "80a9b28a",
   "metadata": {},
   "outputs": [],
   "source": [
    "print(\"\"\"She said, \"Thank you! It\\'s mine.\"\"\"\")"
   ]
  },
  {
   "cell_type": "code",
   "execution_count": null,
   "id": "09ac03a1",
   "metadata": {},
   "outputs": [],
   "source": []
  }
 ],
 "metadata": {
  "kernelspec": {
   "display_name": "Python 3 (ipykernel)",
   "language": "python",
   "name": "python3"
  },
  "language_info": {
   "codemirror_mode": {
    "name": "ipython",
    "version": 3
   },
   "file_extension": ".py",
   "mimetype": "text/x-python",
   "name": "python",
   "nbconvert_exporter": "python",
   "pygments_lexer": "ipython3",
   "version": "3.9.13"
  }
 },
 "nbformat": 4,
 "nbformat_minor": 5
}
