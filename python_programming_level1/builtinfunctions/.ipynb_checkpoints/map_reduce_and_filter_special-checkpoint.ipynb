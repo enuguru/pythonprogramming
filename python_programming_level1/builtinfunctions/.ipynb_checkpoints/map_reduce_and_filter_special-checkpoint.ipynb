{
 "cells": [
  {
   "cell_type": "code",
   "execution_count": 2,
   "id": "7b41e313",
   "metadata": {},
   "outputs": [
    {
     "name": "stdout",
     "output_type": "stream",
     "text": [
      "[4, 16, 36, 64, 100, 144]\n"
     ]
    }
   ],
   "source": [
    "def newfunc(x):\n",
    "    return x*x\n",
    "\n",
    "expr = list(map(newfunc,[2,4,6,8,10,12]))\n",
    "print(expr)"
   ]
  },
  {
   "cell_type": "code",
   "execution_count": 13,
   "id": "7d02f11b",
   "metadata": {},
   "outputs": [
    {
     "name": "stdout",
     "output_type": "stream",
     "text": [
      "[4, 16, 36, 64, 100, 144]\n"
     ]
    }
   ],
   "source": [
    "expr = list(map(lambda x: x*x, [2,4,6,8,10,12]))\n",
    "print(expr)"
   ]
  },
  {
   "cell_type": "code",
   "execution_count": 28,
   "id": "871d19b9",
   "metadata": {},
   "outputs": [
    {
     "name": "stdout",
     "output_type": "stream",
     "text": [
      "3 4 5\n",
      "[3, 4, 5]\n"
     ]
    }
   ],
   "source": [
    "expr = list(map(int,input().strip().split()))\n",
    "print(expr)"
   ]
  },
  {
   "cell_type": "code",
   "execution_count": 16,
   "id": "d1eb8f1b",
   "metadata": {},
   "outputs": [
    {
     "name": "stdout",
     "output_type": "stream",
     "text": [
      "[3, 6, 9, 12, 15, 18, 21, 24, 27, 30, 33, 36, 39, 42, 45, 48]\n"
     ]
    }
   ],
   "source": [
    "def newfunc(x):\n",
    "    return x%3==0\n",
    "        \n",
    "expr = list(filter(newfunc,range(1,51)))\n",
    "print(expr)"
   ]
  },
  {
   "cell_type": "code",
   "execution_count": 15,
   "id": "6fee0e17",
   "metadata": {},
   "outputs": [
    {
     "name": "stdout",
     "output_type": "stream",
     "text": [
      "[3, 6, 9, 12, 15, 18, 21, 24, 27, 30, 33, 36, 39, 42, 45, 48]\n"
     ]
    }
   ],
   "source": [
    "mult3 = filter(lambda x: x % 3 == 0, range(1,51))\n",
    "print(list(mult3))"
   ]
  },
  {
   "cell_type": "code",
   "execution_count": 40,
   "id": "760a7ed8",
   "metadata": {},
   "outputs": [
    {
     "name": "stdout",
     "output_type": "stream",
     "text": [
      "[35, '0', True]\n"
     ]
    }
   ],
   "source": [
    "mult3 = filter(None,[35,False,0,\"0\",True])\n",
    "print(list(mult3))"
   ]
  },
  {
   "cell_type": "code",
   "execution_count": 43,
   "id": "98c73d5f",
   "metadata": {},
   "outputs": [
    {
     "name": "stdout",
     "output_type": "stream",
     "text": [
      "19\n"
     ]
    }
   ],
   "source": [
    "import functools\n",
    "newexpr = functools.reduce(lambda x, y: x+y, [5, 2, 3, 4, 5])\n",
    "print(newexpr)"
   ]
  },
  {
   "cell_type": "code",
   "execution_count": 45,
   "id": "f5b75c38",
   "metadata": {},
   "outputs": [
    {
     "name": "stdout",
     "output_type": "stream",
     "text": [
      "240\n"
     ]
    }
   ],
   "source": [
    "import functools\n",
    "newexpr = functools.reduce(lambda x, y: x*y, [2, 2, 3, 4, 5])\n",
    "print(newexpr)"
   ]
  },
  {
   "cell_type": "code",
   "execution_count": 39,
   "id": "6340e15b",
   "metadata": {},
   "outputs": [
    {
     "name": "stdout",
     "output_type": "stream",
     "text": [
      "12000\n"
     ]
    }
   ],
   "source": [
    "import functools\n",
    "newexpr = functools.reduce(lambda x, y: x+y, [1, 2, 3, 4, 5], 100)\n",
    "print(newexpr)"
   ]
  },
  {
   "cell_type": "code",
   "execution_count": 42,
   "id": "b7b7434f",
   "metadata": {},
   "outputs": [
    {
     "name": "stdout",
     "output_type": "stream",
     "text": [
      "15\n"
     ]
    }
   ],
   "source": [
    "import functools\n",
    "\n",
    "def newfunc(x,y):\n",
    "    return x+y\n",
    "\n",
    "newexpr = functools.reduce(newfunc, [1, 2, 3, 4, 5])\n",
    "print(newexpr)"
   ]
  },
  {
   "cell_type": "code",
   "execution_count": null,
   "id": "5fd609b3",
   "metadata": {},
   "outputs": [],
   "source": []
  }
 ],
 "metadata": {
  "kernelspec": {
   "display_name": "Python 3 (ipykernel)",
   "language": "python",
   "name": "python3"
  },
  "language_info": {
   "codemirror_mode": {
    "name": "ipython",
    "version": 3
   },
   "file_extension": ".py",
   "mimetype": "text/x-python",
   "name": "python",
   "nbconvert_exporter": "python",
   "pygments_lexer": "ipython3",
   "version": "3.9.7"
  }
 },
 "nbformat": 4,
 "nbformat_minor": 5
}
