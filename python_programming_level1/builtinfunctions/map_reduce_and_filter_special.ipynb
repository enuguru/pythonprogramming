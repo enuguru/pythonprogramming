{
 "cells": [
  {
   "cell_type": "code",
   "execution_count": 24,
   "id": "7b41e313",
   "metadata": {},
   "outputs": [
    {
     "name": "stdout",
     "output_type": "stream",
     "text": [
      "[8, 64, 216, 512, 1000, 1728]\n"
     ]
    }
   ],
   "source": [
    "def newfunc(x):\n",
    "    return x*x*x\n",
    "\n",
    "#print(map(newfunc,[2,4,6,8,10,12]))\n",
    "expr = list(map(newfunc,[2,4,6,8,10,12]))\n",
    "print(expr)"
   ]
  },
  {
   "cell_type": "code",
   "execution_count": 23,
   "id": "a4582ef1",
   "metadata": {},
   "outputs": [
    {
     "name": "stdout",
     "output_type": "stream",
     "text": [
      "4  16  36  64  100  144  "
     ]
    }
   ],
   "source": [
    "mynum = [2,4,6,8,10,12]\n",
    "for val in mynum:\n",
    "    print(val*val,end=\"  \")"
   ]
  },
  {
   "cell_type": "code",
   "execution_count": null,
   "id": "7d02f11b",
   "metadata": {},
   "outputs": [],
   "source": [
    "expr = list(map(lambda x: x*x, [2,4,6,8,10,12]))\n",
    "print(expr)"
   ]
  },
  {
   "cell_type": "code",
   "execution_count": null,
   "id": "36cc7169",
   "metadata": {},
   "outputs": [],
   "source": [
    "x = input(\"Give me a number \")\n",
    "print(type(x))"
   ]
  },
  {
   "cell_type": "code",
   "execution_count": 2,
   "id": "8402065e",
   "metadata": {},
   "outputs": [
    {
     "name": "stdout",
     "output_type": "stream",
     "text": [
      "Give an integer34\n",
      "<class 'str'>\n"
     ]
    }
   ],
   "source": [
    "myint = input(\"Give an integer \")\n",
    "print(type(myint))"
   ]
  },
  {
   "cell_type": "code",
   "execution_count": 5,
   "id": "871d19b9",
   "metadata": {},
   "outputs": [
    {
     "name": "stdout",
     "output_type": "stream",
     "text": [
      "23-45-99\n",
      "[23, 45, 99]\n"
     ]
    }
   ],
   "source": [
    "expr = list(map(int,input().strip().split()))\n",
    "print(expr)"
   ]
  },
  {
   "cell_type": "code",
   "execution_count": 8,
   "id": "9d8ca78e",
   "metadata": {},
   "outputs": [],
   "source": [
    "mystr = \"python session\""
   ]
  },
  {
   "cell_type": "code",
   "execution_count": 9,
   "id": "636f5633",
   "metadata": {},
   "outputs": [
    {
     "data": {
      "text/plain": [
       "'ipython sessionnpython sessiontpython sessionepython sessionrpython sessionepython sessionspython sessiontpython sessionipython sessionnpython sessiong'"
      ]
     },
     "execution_count": 9,
     "metadata": {},
     "output_type": "execute_result"
    }
   ],
   "source": [
    "expr = mystr.join(\"interesting\")\n",
    "expr"
   ]
  },
  {
   "cell_type": "code",
   "execution_count": 6,
   "id": "54af6cf2",
   "metadata": {},
   "outputs": [
    {
     "name": "stdout",
     "output_type": "stream",
     "text": [
      "This python session is interesting\n",
      "This python session is interesting\n"
     ]
    }
   ],
   "source": [
    "expr = \" \".join(input().strip().split())\n",
    "print(expr)"
   ]
  },
  {
   "cell_type": "code",
   "execution_count": null,
   "id": "d1eb8f1b",
   "metadata": {},
   "outputs": [],
   "source": [
    "def newfunc(x):\n",
    "    return x%2==0\n",
    "\n",
    "print(filter(newfunc,range(1,51)))\n",
    "expr = list(filter(newfunc,range(1,51)))\n",
    "print(expr)                 "
   ]
  },
  {
   "cell_type": "code",
   "execution_count": 16,
   "id": "c2eccb6e",
   "metadata": {},
   "outputs": [
    {
     "name": "stdout",
     "output_type": "stream",
     "text": [
      "<filter object at 0x00000238CCBB2800>\n",
      "[1, 3, 5, 7, 9, 11, 13, 15, 17, 19, 21, 23, 25, 27, 29, 31, 33, 35, 37, 39, 41, 43, 45, 47, 49, 51]\n"
     ]
    }
   ],
   "source": [
    "def newfunc(x):\n",
    "    return x%2==1\n",
    "\n",
    "print(filter(None,range(1,51)))\n",
    "expr = list(filter(newfunc,range(1,52)))\n",
    "print(expr)"
   ]
  },
  {
   "cell_type": "code",
   "execution_count": 14,
   "id": "6fee0e17",
   "metadata": {},
   "outputs": [
    {
     "name": "stdout",
     "output_type": "stream",
     "text": [
      "[9, 18, 27, 36, 45]\n"
     ]
    }
   ],
   "source": [
    "mult3 = filter(lambda x: x % 9 == 0, range(1,51))\n",
    "print(list(mult3)) "
   ]
  },
  {
   "cell_type": "code",
   "execution_count": null,
   "id": "760a7ed8",
   "metadata": {},
   "outputs": [],
   "source": [
    "mult3 = filter(None,[35,False,0,\"0\",True])\n",
    "print(list(mult3))"
   ]
  },
  {
   "cell_type": "code",
   "execution_count": null,
   "id": "1f11f075",
   "metadata": {},
   "outputs": [],
   "source": [
    "mult3 = filter(None,[1,2,3,4,5])\n",
    "print(list(mult3))"
   ]
  },
  {
   "cell_type": "code",
   "execution_count": null,
   "id": "98c73d5f",
   "metadata": {},
   "outputs": [],
   "source": [
    "import functools\n",
    "newexpr = functools.reduce(lambda x, y: x+y, [5, 2, 3, 4, 5])\n",
    "print(newexpr)"
   ]
  },
  {
   "cell_type": "code",
   "execution_count": 18,
   "id": "f5b75c38",
   "metadata": {},
   "outputs": [
    {
     "name": "stdout",
     "output_type": "stream",
     "text": [
      "120\n"
     ]
    }
   ],
   "source": [
    "import functools\n",
    "newexpr = functools.reduce(lambda x, y: x*y, [1, 2, 3, 4, 5])\n",
    "print(newexpr)"
   ]
  },
  {
   "cell_type": "code",
   "execution_count": 20,
   "id": "6340e15b",
   "metadata": {},
   "outputs": [
    {
     "name": "stdout",
     "output_type": "stream",
     "text": [
      "25\n"
     ]
    }
   ],
   "source": [
    "import functools\n",
    "newexpr = functools.reduce(lambda x, y: x+y, [1, 2, 3, 4, 5],10)\n",
    "print(newexpr)"
   ]
  },
  {
   "cell_type": "code",
   "execution_count": null,
   "id": "b7b7434f",
   "metadata": {},
   "outputs": [],
   "source": [
    "import functools\n",
    "\n",
    "def newfunc(x,y):\n",
    "    return x+y\n",
    "\n",
    "newexpr = functools.reduce(newfunc, [1, 2, 3, 4, 5])\n",
    "print(newexpr)"
   ]
  },
  {
   "cell_type": "code",
   "execution_count": 26,
   "id": "6266cc09",
   "metadata": {},
   "outputs": [
    {
     "name": "stdout",
     "output_type": "stream",
     "text": [
      "1\n"
     ]
    }
   ],
   "source": [
    "x = 9\n",
    "y = 5\n",
    "print(x//y)"
   ]
  },
  {
   "cell_type": "code",
   "execution_count": 28,
   "id": "431c8edd",
   "metadata": {},
   "outputs": [
    {
     "name": "stdout",
     "output_type": "stream",
     "text": [
      "3\n"
     ]
    }
   ],
   "source": [
    "x = 7         #0111   \n",
    "y = 3         #0011\n",
    "print(x&y)    #0011"
   ]
  },
  {
   "cell_type": "code",
   "execution_count": null,
   "id": "bd1c3b3a",
   "metadata": {},
   "outputs": [],
   "source": []
  },
  {
   "cell_type": "code",
   "execution_count": null,
   "id": "454102cf",
   "metadata": {},
   "outputs": [],
   "source": []
  }
 ],
 "metadata": {
  "kernelspec": {
   "display_name": "Python 3 (ipykernel)",
   "language": "python",
   "name": "python3"
  },
  "language_info": {
   "codemirror_mode": {
    "name": "ipython",
    "version": 3
   },
   "file_extension": ".py",
   "mimetype": "text/x-python",
   "name": "python",
   "nbconvert_exporter": "python",
   "pygments_lexer": "ipython3",
   "version": "3.10.13"
  }
 },
 "nbformat": 4,
 "nbformat_minor": 5
}
