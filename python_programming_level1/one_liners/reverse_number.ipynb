{
 "cells": [
  {
   "cell_type": "markdown",
   "id": "a5cc5725",
   "metadata": {},
   "source": [
    "# reverse the given number"
   ]
  },
  {
   "cell_type": "code",
   "execution_count": 1,
   "id": "25a54c79",
   "metadata": {},
   "outputs": [
    {
     "name": "stdout",
     "output_type": "stream",
     "text": [
      "3465\n",
      "5643\n"
     ]
    }
   ],
   "source": [
    "num = input()\n",
    "print(int(num[::-1]))"
   ]
  },
  {
   "cell_type": "code",
   "execution_count": 3,
   "id": "047adb92",
   "metadata": {},
   "outputs": [
    {
     "name": "stdout",
     "output_type": "stream",
     "text": [
      "Give a number765\n",
      "['5', '6', '7']\n"
     ]
    }
   ],
   "source": [
    "print(list(reversed(input(\"Give a number\"))))"
   ]
  },
  {
   "cell_type": "code",
   "execution_count": 4,
   "id": "10afa77a",
   "metadata": {},
   "outputs": [
    {
     "name": "stdout",
     "output_type": "stream",
     "text": [
      "Give a number564\n",
      "465\n"
     ]
    }
   ],
   "source": [
    "print(\"\".join(list(reversed(input(\"Give a number\")))))"
   ]
  },
  {
   "cell_type": "code",
   "execution_count": null,
   "id": "5485e3e4",
   "metadata": {},
   "outputs": [],
   "source": []
  }
 ],
 "metadata": {
  "kernelspec": {
   "display_name": "Python 3 (ipykernel)",
   "language": "python",
   "name": "python3"
  },
  "language_info": {
   "codemirror_mode": {
    "name": "ipython",
    "version": 3
   },
   "file_extension": ".py",
   "mimetype": "text/x-python",
   "name": "python",
   "nbconvert_exporter": "python",
   "pygments_lexer": "ipython3",
   "version": "3.10.9"
  }
 },
 "nbformat": 4,
 "nbformat_minor": 5
}
