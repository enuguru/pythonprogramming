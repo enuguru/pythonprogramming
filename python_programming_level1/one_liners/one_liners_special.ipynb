{
 "cells": [
  {
   "cell_type": "markdown",
   "id": "9e2cf391",
   "metadata": {},
   "source": [
    "# one liner - prime number generation with list comprehension"
   ]
  },
  {
   "cell_type": "code",
   "execution_count": 1,
   "id": "df844f43",
   "metadata": {},
   "outputs": [
    {
     "name": "stdout",
     "output_type": "stream",
     "text": [
      "[2, 3, 5, 7, 11, 13, 17, 19, 23, 29, 31, 37, 41, 43, 47, 53, 59, 61, 67, 71, 73, 79, 83, 89, 97]\n"
     ]
    }
   ],
   "source": [
    "print([x for x in range(2, 101) if all(x % y != 0 for y in range(2, x))])"
   ]
  },
  {
   "cell_type": "markdown",
   "id": "1979431e",
   "metadata": {},
   "source": [
    "# one liner - prime number generation with filter and lambda"
   ]
  },
  {
   "cell_type": "code",
   "execution_count": null,
   "id": "1256715f",
   "metadata": {},
   "outputs": [],
   "source": [
    "print(list(filter(lambda x:all(x % y != 0 for y in range(2, x)), range(2, int(input())))))"
   ]
  },
  {
   "cell_type": "markdown",
   "id": "b25b5670",
   "metadata": {},
   "source": [
    "# oneliner for printing perfect numbers from 1 to 10000"
   ]
  },
  {
   "cell_type": "code",
   "execution_count": 2,
   "id": "d1f7807a",
   "metadata": {},
   "outputs": [
    {
     "name": "stdout",
     "output_type": "stream",
     "text": [
      "[6, 28, 496, 8128]\n"
     ]
    }
   ],
   "source": [
    "print([x for x in range(1,10001) if sum(y for y in range(1,x) if x%y==0)==x])"
   ]
  },
  {
   "cell_type": "markdown",
   "id": "ab2676fc",
   "metadata": {},
   "source": [
    "# one liner for the fiboacci series sequence"
   ]
  },
  {
   "cell_type": "code",
   "execution_count": 7,
   "id": "c4e10c0d",
   "metadata": {},
   "outputs": [
    {
     "name": "stdout",
     "output_type": "stream",
     "text": [
      "0 1 1 2 3 5 8 13 21 34 "
     ]
    }
   ],
   "source": [
    "fib = lambda n: n if n < 2 else fib(n-1) + fib(n-2)\n",
    "for val in range(0,10):\n",
    "    print(fib(val),end=\" \")"
   ]
  },
  {
   "cell_type": "code",
   "execution_count": 11,
   "id": "93ef0ff4",
   "metadata": {},
   "outputs": [
    {
     "name": "stdout",
     "output_type": "stream",
     "text": [
      "0 1 1 2 3 5 8 13 21 34 "
     ]
    }
   ],
   "source": [
    "fib = lambda n: n if n < 2 else fib(n-1) + fib(n-2)\n",
    "for val in range(0,10):\n",
    "    print(fib(val),end=\" \")"
   ]
  },
  {
   "cell_type": "markdown",
   "id": "9dc75994",
   "metadata": {},
   "source": [
    "# one liner for the factorial of a given number"
   ]
  },
  {
   "cell_type": "code",
   "execution_count": 12,
   "id": "457135e6",
   "metadata": {},
   "outputs": [
    {
     "name": "stdout",
     "output_type": "stream",
     "text": [
      "6\n",
      "720\n"
     ]
    }
   ],
   "source": [
    "from functools import reduce\n",
    "print(reduce(lambda x, y: x * y, range(1, int(input())+1)))"
   ]
  },
  {
   "cell_type": "code",
   "execution_count": 1,
   "id": "9d1ac8ee",
   "metadata": {},
   "outputs": [
    {
     "name": "stdout",
     "output_type": "stream",
     "text": [
      "[[], [1], [2], [1, 2], [3], [1, 3], [2, 3], [1, 2, 3]]\n"
     ]
    }
   ],
   "source": [
    "from functools import reduce\n",
    "dataset = {1,2,3}\n",
    "f = lambda l: reduce(lambda z, x: z + [y + [x] for y in z], l, [[]])\n",
    "print(f(dataset))"
   ]
  },
  {
   "cell_type": "code",
   "execution_count": 2,
   "id": "daa36d26",
   "metadata": {},
   "outputs": [
    {
     "ename": "SyntaxError",
     "evalue": "invalid syntax (2533824963.py, line 2)",
     "output_type": "error",
     "traceback": [
      "\u001b[1;36m  File \u001b[1;32m\"C:\\Users\\Gururaj\\AppData\\Local\\Temp\\ipykernel_11096\\2533824963.py\"\u001b[1;36m, line \u001b[1;32m2\u001b[0m\n\u001b[1;33m    print '\\n'.join(line.split(\":\",1)[0] for line in open(\"/etc/passwd\"))\u001b[0m\n\u001b[1;37m          ^\u001b[0m\n\u001b[1;31mSyntaxError\u001b[0m\u001b[1;31m:\u001b[0m invalid syntax\n"
     ]
    }
   ],
   "source": [
    "#Display List of all users on Unix-like systems\n",
    "print '\\n'.join(line.split(\":\",1)[0] for line in open(\"/etc/passwd\"))"
   ]
  },
  {
   "cell_type": "code",
   "execution_count": 3,
   "id": "4d876db5",
   "metadata": {},
   "outputs": [
    {
     "name": "stdout",
     "output_type": "stream",
     "text": [
      "s='s=%r;print(s%%s,sep=\"\")';print(s%s,sep=\"\")\n"
     ]
    }
   ],
   "source": [
    "s='s=%r;print(s%%s,sep=\"\")';print(s%s,sep=\"\")"
   ]
  },
  {
   "cell_type": "code",
   "execution_count": 9,
   "id": "28e1f832",
   "metadata": {},
   "outputs": [
    {
     "name": "stdout",
     "output_type": "stream",
     "text": [
      "yy-o2+6+rg\n"
     ]
    }
   ],
   "source": [
    "import random as r; p = 'abcdefghijklmnopqrstuvwxyz0123456789%^*(-_=+)'; print(''.join(r.choices(p, k=10)))"
   ]
  },
  {
   "cell_type": "code",
   "execution_count": 8,
   "id": "f91bbe0e",
   "metadata": {},
   "outputs": [
    {
     "ename": "SyntaxError",
     "evalue": "invalid syntax (2209796784.py, line 1)",
     "output_type": "error",
     "traceback": [
      "\u001b[1;36m  File \u001b[1;32m\"C:\\Users\\Gururaj\\AppData\\Local\\Temp\\ipykernel_11096\\2209796784.py\"\u001b[1;36m, line \u001b[1;32m1\u001b[0m\n\u001b[1;33m    import datetime; print(datetime.datetime.now().strftime(&quot;%Y-%m-%d %H:%M:%S&quot;))\u001b[0m\n\u001b[1;37m                                                            ^\u001b[0m\n\u001b[1;31mSyntaxError\u001b[0m\u001b[1;31m:\u001b[0m invalid syntax\n"
     ]
    }
   ],
   "source": [
    "import datetime; print(datetime.datetime.now().strftime(&quot;%Y-%m-%d %H:%M:%S&quot;))"
   ]
  },
  {
   "cell_type": "code",
   "execution_count": 10,
   "id": "e7d183d3",
   "metadata": {},
   "outputs": [
    {
     "name": "stdout",
     "output_type": "stream",
     "text": [
      "Welcome 2 MUO\n"
     ]
    }
   ],
   "source": [
    "l = [\"Welcome\", 2, \"MUO\"]\n",
    "s = ' '.join([str(elem) for elem in l])\n",
    "print(s)"
   ]
  },
  {
   "cell_type": "code",
   "execution_count": 14,
   "id": "45ad02d6",
   "metadata": {},
   "outputs": [
    {
     "name": "stdout",
     "output_type": "stream",
     "text": [
      "3628800\n"
     ]
    }
   ],
   "source": [
    "fact = lambda n: n * fact(n-1) if n > 1 else 1\n",
    "print(fact(10))"
   ]
  },
  {
   "cell_type": "code",
   "execution_count": 17,
   "id": "f7c70917",
   "metadata": {},
   "outputs": [
    {
     "name": "stdout",
     "output_type": "stream",
     "text": [
      "5\n",
      "4\n",
      "3\n"
     ]
    }
   ],
   "source": [
    "## find the Levenshtein distance in one line\n",
    "## The Data\n",
    "a = \"cat\"\n",
    "b = \"chello\"\n",
    "c = \"chess\"\n",
    "## The One-Liner\n",
    "ls = lambda a, b: len(b) if not a else len(a) if not b else min(ls(a[1:],b[1:])+(a[0] != b[0]),\n",
    "ls(a[1:], b)+1,ls(a, b[1:])+1)\n",
    "## The Result\n",
    "print(ls(a,b))\n",
    "print(ls(a,c))\n",
    "print(ls(b,c))"
   ]
  },
  {
   "cell_type": "code",
   "execution_count": 19,
   "id": "d768b06c",
   "metadata": {},
   "outputs": [
    {
     "name": "stdout",
     "output_type": "stream",
     "text": [
      "[set(), {1}, {2}, {1, 2}, {3}, {1, 3}, {2, 3}, {1, 2, 3}]\n"
     ]
    }
   ],
   "source": [
    "# Dependencies\n",
    "from functools import reduce\n",
    "# The Data\n",
    "s = {1, 2, 3}\n",
    "# The One-Liner\n",
    "ps = lambda s: reduce(lambda P, x: P + [subset | {x} for subset in P], s, [set()])\n",
    "# The Result\n",
    "print(ps(s))"
   ]
  },
  {
   "cell_type": "code",
   "execution_count": 20,
   "id": "9981fed8",
   "metadata": {},
   "outputs": [
    {
     "name": "stdout",
     "output_type": "stream",
     "text": [
      "kgurkehffvnafknerkpbzvat\n",
      "xthexrussiansxarexcoming\n"
     ]
    }
   ],
   "source": [
    "# program to cipher and decipher the given data which is \"abc\"\n",
    "# the cipher code is in s\n",
    "## Data\n",
    "abc = \"abcdefghijklmnopqrstuvwxyz\"\n",
    "s = \"xthexrussiansxarexcoming\"\n",
    "## One-Liner\n",
    "rt13 = lambda x: \"\".join([abc[(abc.find(c) + 13) % 26] for c in x])\n",
    "## Result\n",
    "print(rt13(s))\n",
    "print(rt13(rt13(s)))"
   ]
  },
  {
   "cell_type": "code",
   "execution_count": 21,
   "id": "bf27cceb",
   "metadata": {},
   "outputs": [
    {
     "name": "stdout",
     "output_type": "stream",
     "text": [
      "4\n"
     ]
    }
   ],
   "source": [
    "# binary search\n",
    "## The Data\n",
    "l = [3, 6, 14, 16, 33, 55, 56, 89]\n",
    "x = 33\n",
    "## The One-Liner\n",
    "bs = lambda l, x, lo, hi: -1 if lo>hi else \\\n",
    "(lo+hi)//2 if l[(lo+hi)//2] == x else \\\n",
    "bs(l, x, lo, (lo+hi)//2-1) if l[(lo+hi)//2] > x else \\\n",
    "bs(l, x, (lo+hi)//2+1, hi)\n",
    "## The Results\n",
    "print(bs(l, x, 0, len(l)-1))"
   ]
  },
  {
   "cell_type": "code",
   "execution_count": 22,
   "id": "ed8ceb15",
   "metadata": {},
   "outputs": [
    {
     "name": "stdout",
     "output_type": "stream",
     "text": [
      "[2, 3, 6, 33, 33, 45, 54]\n"
     ]
    }
   ],
   "source": [
    "## recursive quick sort\n",
    "## The Data\n",
    "unsorted = [33, 2, 3, 45, 6, 54, 33]\n",
    "## The One-Liner\n",
    "q = lambda l: q([x for x in l[1:] if x <= l[0]]) + [l[0]] + q([x for x in l if x > l[0]]) if l else []\n",
    "## The Result\n",
    "print(q(unsorted))"
   ]
  },
  {
   "cell_type": "code",
   "execution_count": 23,
   "id": "2d62b808",
   "metadata": {},
   "outputs": [
    {
     "name": "stdout",
     "output_type": "stream",
     "text": [
      "[0, 1, 1, 2, 3, 5, 8, 13, 21, 34]\n"
     ]
    }
   ],
   "source": [
    "# print fibonacci series with reduce function\n",
    "# Dependencies\n",
    "from functools import reduce\n",
    "# The Data\n",
    "n = 10\n",
    "# The One-Liner\n",
    "fibs = reduce(lambda x, _: x + [x[-2] + x[-1]], [0] * (n-2), [0, 1])\n",
    "# The Result\n",
    "print(fibs)"
   ]
  },
  {
   "cell_type": "code",
   "execution_count": 24,
   "id": "9b3bf7e6",
   "metadata": {},
   "outputs": [
    {
     "name": "stdout",
     "output_type": "stream",
     "text": [
      "{2, 3, 5, 7, 11, 13, 17, 19, 23, 29, 31, 37, 41, 43, 47, 53, 59, 61, 67, 71, 73, 79, 83, 89, 97}\n"
     ]
    }
   ],
   "source": [
    "# Sieve of Erathothanus in one line\n",
    "## The Data\n",
    "n=100\n",
    "## The One-Liner\n",
    "primes = reduce(lambda r, x: r - set(range(x**2, n, x)) if x in r else r,\n",
    "range(2, int(n**0.5) + 1), set(range(2, n)))\n",
    "## The Result\n",
    "print(primes)\n",
    "# {2, 3, 5, 7, 11, 13, 17, 19, 23, 29, 31, 37, 41, 43,\n",
    "# 47, 53, 59, 61, 67, 71, 73, 79, 83, 89, 97}"
   ]
  },
  {
   "cell_type": "code",
   "execution_count": 25,
   "id": "51137cea",
   "metadata": {},
   "outputs": [
    {
     "name": "stdout",
     "output_type": "stream",
     "text": [
      "True\n",
      "True\n",
      "False\n"
     ]
    }
   ],
   "source": [
    "## One-Liner for anagrams\n",
    "is_anagram = lambda x1, x2: sorted(x1) == sorted(x2)\n",
    "## Results\n",
    "print(is_anagram(\"elvis\", \"lives\"))\n",
    "print(is_anagram(\"elvise\", \"livees\"))\n",
    "print(is_anagram(\"elvis\", \"dead\"))"
   ]
  },
  {
   "cell_type": "code",
   "execution_count": null,
   "id": "293298c1",
   "metadata": {},
   "outputs": [],
   "source": []
  }
 ],
 "metadata": {
  "kernelspec": {
   "display_name": "Python 3 (ipykernel)",
   "language": "python",
   "name": "python3"
  },
  "language_info": {
   "codemirror_mode": {
    "name": "ipython",
    "version": 3
   },
   "file_extension": ".py",
   "mimetype": "text/x-python",
   "name": "python",
   "nbconvert_exporter": "python",
   "pygments_lexer": "ipython3",
   "version": "3.9.13"
  }
 },
 "nbformat": 4,
 "nbformat_minor": 5
}
