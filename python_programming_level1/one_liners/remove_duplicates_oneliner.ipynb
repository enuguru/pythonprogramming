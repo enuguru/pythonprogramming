{
 "cells": [
  {
   "cell_type": "markdown",
   "id": "69ede370",
   "metadata": {},
   "source": [
    "# Remove duplicates in one line"
   ]
  },
  {
   "cell_type": "code",
   "execution_count": 2,
   "id": "cedf5ca3",
   "metadata": {},
   "outputs": [
    {
     "name": "stdout",
     "output_type": "stream",
     "text": [
      "Give the numbersSrikanth Selvan Abishek Sunil Sunil Srikanth Madhuri\n",
      "Selvan Srikanth Sunil Abishek Madhuri\n"
     ]
    }
   ],
   "source": [
    "# the numbes as a string\n",
    "print(\" \".join(list(set(input(\"Give the numbers\").split()))))"
   ]
  },
  {
   "cell_type": "code",
   "execution_count": 1,
   "id": "152ffa0d",
   "metadata": {},
   "outputs": [
    {
     "name": "stdout",
     "output_type": "stream",
     "text": [
      "Give the numbers  56 56 78 78 99\n",
      "{56, 99, 78}\n"
     ]
    }
   ],
   "source": [
    "# the numbers as int in a list\n",
    "print(set(map(int,input(\"Give the numbers  \").split())))"
   ]
  },
  {
   "cell_type": "code",
   "execution_count": null,
   "id": "615ce5a6",
   "metadata": {},
   "outputs": [],
   "source": []
  }
 ],
 "metadata": {
  "kernelspec": {
   "display_name": "Python 3 (ipykernel)",
   "language": "python",
   "name": "python3"
  },
  "language_info": {
   "codemirror_mode": {
    "name": "ipython",
    "version": 3
   },
   "file_extension": ".py",
   "mimetype": "text/x-python",
   "name": "python",
   "nbconvert_exporter": "python",
   "pygments_lexer": "ipython3",
   "version": "3.9.13"
  }
 },
 "nbformat": 4,
 "nbformat_minor": 5
}
