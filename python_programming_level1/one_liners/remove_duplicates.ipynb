{
 "cells": [
  {
   "cell_type": "code",
   "execution_count": 2,
   "id": "36e783f0",
   "metadata": {},
   "outputs": [
    {
     "name": "stdout",
     "output_type": "stream",
     "text": [
      "[34, 67, 56, 45, 34, 21, 56, 100, 21]\n",
      "[34, 67, 100, 45, 21, 56]\n"
     ]
    }
   ],
   "source": [
    "newlist = [34,67,56,45,34,21,56,100,21]\n",
    "print(newlist)\n",
    "print(list(set(newlist)))"
   ]
  },
  {
   "cell_type": "code",
   "execution_count": null,
   "id": "edcf6664",
   "metadata": {},
   "outputs": [],
   "source": []
  }
 ],
 "metadata": {
  "kernelspec": {
   "display_name": "Python 3 (ipykernel)",
   "language": "python",
   "name": "python3"
  },
  "language_info": {
   "codemirror_mode": {
    "name": "ipython",
    "version": 3
   },
   "file_extension": ".py",
   "mimetype": "text/x-python",
   "name": "python",
   "nbconvert_exporter": "python",
   "pygments_lexer": "ipython3",
   "version": "3.9.13"
  }
 },
 "nbformat": 4,
 "nbformat_minor": 5
}
