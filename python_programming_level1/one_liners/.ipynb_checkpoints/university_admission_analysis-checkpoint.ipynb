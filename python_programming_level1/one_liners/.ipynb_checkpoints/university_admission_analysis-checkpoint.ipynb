{
 "cells": [
  {
   "cell_type": "markdown",
   "metadata": {},
   "source": [
    "# import modules"
   ]
  },
  {
   "cell_type": "code",
   "execution_count": null,
   "metadata": {
    "ExecuteTime": {
     "end_time": "2021-02-01T10:14:13.323545Z",
     "start_time": "2021-02-01T10:14:13.307555Z"
    }
   },
   "outputs": [],
   "source": [
    "import pandas as pd\n",
    "import statsmodels.api as sm\n",
    "import pylab as pl\n",
    "import numpy as np\n",
    "pd.set_option('display.max_rows',None)"
   ]
  },
  {
   "cell_type": "markdown",
   "metadata": {},
   "source": [
    "# read csv"
   ]
  },
  {
   "cell_type": "code",
   "execution_count": null,
   "metadata": {
    "ExecuteTime": {
     "end_time": "2021-02-01T10:14:14.321813Z",
     "start_time": "2021-02-01T10:14:14.300825Z"
    }
   },
   "outputs": [],
   "source": [
    "filename = \"train_university_admission_data.csv\"\n",
    "names = ['admit','gre','gpa','prestige']\n",
    "dfTrain = pd.read_csv(filename, names=names)\n",
    "dfTest = pd.read_csv(filename, names=names)"
   ]
  },
  {
   "cell_type": "code",
   "execution_count": null,
   "metadata": {
    "ExecuteTime": {
     "end_time": "2021-02-01T10:14:14.808502Z",
     "start_time": "2021-02-01T10:14:14.792508Z"
    }
   },
   "outputs": [],
   "source": [
    "dfTrain = pd.read_csv(\"train_university_admission_data.csv\")"
   ]
  },
  {
   "cell_type": "markdown",
   "metadata": {},
   "source": [
    "# display data"
   ]
  },
  {
   "cell_type": "code",
   "execution_count": null,
   "metadata": {
    "ExecuteTime": {
     "end_time": "2021-02-01T10:14:16.487473Z",
     "start_time": "2021-02-01T10:14:16.403527Z"
    }
   },
   "outputs": [],
   "source": [
    "dfTrain"
   ]
  },
  {
   "cell_type": "code",
   "execution_count": null,
   "metadata": {
    "ExecuteTime": {
     "end_time": "2021-02-01T10:14:16.987579Z",
     "start_time": "2021-02-01T10:14:16.963593Z"
    }
   },
   "outputs": [],
   "source": [
    "dfTest.head()"
   ]
  },
  {
   "cell_type": "code",
   "execution_count": null,
   "metadata": {
    "ExecuteTime": {
     "end_time": "2021-02-01T10:14:17.610059Z",
     "start_time": "2021-02-01T10:14:17.571083Z"
    }
   },
   "outputs": [],
   "source": [
    "dfTrain.describe()"
   ]
  }
 ],
 "metadata": {
  "kernelspec": {
   "display_name": "Python 3 (ipykernel)",
   "language": "python",
   "name": "python3"
  },
  "language_info": {
   "codemirror_mode": {
    "name": "ipython",
    "version": 3
   },
   "file_extension": ".py",
   "mimetype": "text/x-python",
   "name": "python",
   "nbconvert_exporter": "python",
   "pygments_lexer": "ipython3",
   "version": "3.9.13"
  }
 },
 "nbformat": 4,
 "nbformat_minor": 2
}
