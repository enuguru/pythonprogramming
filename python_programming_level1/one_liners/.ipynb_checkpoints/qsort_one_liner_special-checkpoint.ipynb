{
 "cells": [
  {
   "cell_type": "markdown",
   "id": "4735383a",
   "metadata": {},
   "source": [
    "# Take input from the user in one line"
   ]
  },
  {
   "cell_type": "code",
   "execution_count": 1,
   "id": "8186bbce",
   "metadata": {},
   "outputs": [
    {
     "name": "stdout",
     "output_type": "stream",
     "text": [
      "2 3 4 7\n",
      "[2, 3, 4, 7]\n"
     ]
    }
   ],
   "source": [
    "print(sorted(list(map(int, input().strip().split()))))"
   ]
  },
  {
   "cell_type": "markdown",
   "id": "2243b9aa",
   "metadata": {},
   "source": [
    "# quick sort in one line"
   ]
  },
  {
   "cell_type": "code",
   "execution_count": 6,
   "id": "8f5b53e4",
   "metadata": {},
   "outputs": [
    {
     "name": "stdout",
     "output_type": "stream",
     "text": [
      "[2, 3, 6, 33, 33, 45, 54]\n"
     ]
    }
   ],
   "source": [
    "unsorted = [33, 2, 3, 45, 6, 54, 33]\n",
    "\n",
    "## The One-Liner\n",
    "newq = lambda l: newq([x for x in l[1:] if x <= l[0]]) + [l[0]] + newq([x for x in l if x > l[0]]) if l else []\n",
    "\n",
    "## The Result\n",
    "print(q(unsorted))"
   ]
  },
  {
   "cell_type": "markdown",
   "id": "1a49290c",
   "metadata": {},
   "source": [
    "# quick sort in one line"
   ]
  },
  {
   "cell_type": "code",
   "execution_count": 4,
   "id": "7ff21dd4",
   "metadata": {},
   "outputs": [
    {
     "name": "stdout",
     "output_type": "stream",
     "text": [
      "[2, 3, 6, 33, 33, 45, 54]\n"
     ]
    }
   ],
   "source": [
    "unsorted = [33, 2, 3, 45, 6, 54, 33]\n",
    "def qsortr(list): return [] if list==[]  else qsortr([x for x in list[1:] if x < list[0]]) + [list[0]] + qsortr([x for x in list[1:] if x >= list[0]])\n",
    "print(qsortr(unsorted))"
   ]
  },
  {
   "cell_type": "code",
   "execution_count": null,
   "id": "91bd87e3",
   "metadata": {},
   "outputs": [],
   "source": []
  }
 ],
 "metadata": {
  "kernelspec": {
   "display_name": "Python 3 (ipykernel)",
   "language": "python",
   "name": "python3"
  },
  "language_info": {
   "codemirror_mode": {
    "name": "ipython",
    "version": 3
   },
   "file_extension": ".py",
   "mimetype": "text/x-python",
   "name": "python",
   "nbconvert_exporter": "python",
   "pygments_lexer": "ipython3",
   "version": "3.9.7"
  }
 },
 "nbformat": 4,
 "nbformat_minor": 5
}
