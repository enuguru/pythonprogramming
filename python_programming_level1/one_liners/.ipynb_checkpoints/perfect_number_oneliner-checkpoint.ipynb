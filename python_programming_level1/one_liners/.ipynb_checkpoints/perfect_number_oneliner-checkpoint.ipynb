{
 "cells": [
  {
   "cell_type": "markdown",
   "id": "48631c96",
   "metadata": {},
   "source": [
    "# perfect number one liner"
   ]
  },
  {
   "cell_type": "code",
   "execution_count": 1,
   "id": "d76e2070",
   "metadata": {},
   "outputs": [
    {
     "name": "stdout",
     "output_type": "stream",
     "text": [
      "[6, 28, 496, 8128]\n"
     ]
    }
   ],
   "source": [
    "print([x for x in range(1,10001) if sum(y for y in range(1,x) if x%y==0)==x])"
   ]
  },
  {
   "cell_type": "code",
   "execution_count": null,
   "id": "e99f4519",
   "metadata": {},
   "outputs": [],
   "source": []
  }
 ],
 "metadata": {
  "kernelspec": {
   "display_name": "Python 3 (ipykernel)",
   "language": "python",
   "name": "python3"
  },
  "language_info": {
   "codemirror_mode": {
    "name": "ipython",
    "version": 3
   },
   "file_extension": ".py",
   "mimetype": "text/x-python",
   "name": "python",
   "nbconvert_exporter": "python",
   "pygments_lexer": "ipython3",
   "version": "3.9.7"
  }
 },
 "nbformat": 4,
 "nbformat_minor": 5
}
