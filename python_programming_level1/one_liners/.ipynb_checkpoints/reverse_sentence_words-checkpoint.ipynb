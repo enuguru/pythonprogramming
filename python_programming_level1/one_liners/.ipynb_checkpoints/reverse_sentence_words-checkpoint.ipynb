{
 "cells": [
  {
   "cell_type": "markdown",
   "id": "a7daac3f",
   "metadata": {},
   "source": [
    "# reverse the words in a sentence"
   ]
  },
  {
   "cell_type": "code",
   "execution_count": 1,
   "id": "21a4ea8b",
   "metadata": {},
   "outputs": [
    {
     "name": "stdout",
     "output_type": "stream",
     "text": [
      "Give a sentenceThis python session is pretty interesting\n",
      "interesting pretty is session python This\n"
     ]
    }
   ],
   "source": [
    "print(\" \".join(list(reversed(input(\"Give a sentence\").split()))))"
   ]
  },
  {
   "cell_type": "code",
   "execution_count": null,
   "id": "1460e200",
   "metadata": {},
   "outputs": [],
   "source": []
  }
 ],
 "metadata": {
  "kernelspec": {
   "display_name": "Python 3 (ipykernel)",
   "language": "python",
   "name": "python3"
  },
  "language_info": {
   "codemirror_mode": {
    "name": "ipython",
    "version": 3
   },
   "file_extension": ".py",
   "mimetype": "text/x-python",
   "name": "python",
   "nbconvert_exporter": "python",
   "pygments_lexer": "ipython3",
   "version": "3.9.13"
  }
 },
 "nbformat": 4,
 "nbformat_minor": 5
}
