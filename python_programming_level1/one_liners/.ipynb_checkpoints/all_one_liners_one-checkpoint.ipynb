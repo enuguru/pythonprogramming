{
 "cells": [
  {
   "cell_type": "markdown",
   "id": "a471f530",
   "metadata": {},
   "source": [
    "# one liner - prime number generation with list comprehension"
   ]
  },
  {
   "cell_type": "code",
   "execution_count": 1,
   "id": "089a18d0",
   "metadata": {},
   "outputs": [
    {
     "name": "stdout",
     "output_type": "stream",
     "text": [
      "[2, 3, 5, 7, 11, 13, 17, 19, 23, 29, 31, 37, 41, 43, 47, 53, 59, 61, 67, 71, 73, 79, 83, 89, 97]\n"
     ]
    }
   ],
   "source": [
    "print([x for x in range(2, 101) if all(x % y != 0 for y in range(2, x))])"
   ]
  },
  {
   "cell_type": "markdown",
   "id": "e6517c58",
   "metadata": {},
   "source": [
    "# one liner - prime number generation with filter and lambda"
   ]
  },
  {
   "cell_type": "code",
   "execution_count": null,
   "id": "e4f437c7",
   "metadata": {},
   "outputs": [],
   "source": [
    "print(list(filter(lambda x:all(x % y != 0 for y in range(2, x)), range(2, int(input())))))"
   ]
  },
  {
   "cell_type": "markdown",
   "id": "1c40d22c",
   "metadata": {},
   "source": [
    "# oneliner for printing perfect numbers from 1 to 10000"
   ]
  },
  {
   "cell_type": "code",
   "execution_count": 2,
   "id": "419c0829",
   "metadata": {},
   "outputs": [
    {
     "name": "stdout",
     "output_type": "stream",
     "text": [
      "[6, 28, 496, 8128]\n"
     ]
    }
   ],
   "source": [
    "print([x for x in range(1,10001) if sum(y for y in range(1,x) if x%y==0)==x])"
   ]
  },
  {
   "cell_type": "markdown",
   "id": "ef3555a6",
   "metadata": {},
   "source": [
    "# one liner for the fiboacci series sequence"
   ]
  },
  {
   "cell_type": "code",
   "execution_count": 7,
   "id": "4609967e",
   "metadata": {},
   "outputs": [
    {
     "name": "stdout",
     "output_type": "stream",
     "text": [
      "0 1 1 2 3 5 8 13 21 34 "
     ]
    }
   ],
   "source": [
    "fib = lambda n: n if n < 2 else fib(n-1) + fib(n-2)\n",
    "for val in range(0,10):\n",
    "    print(fib(val),end=\" \")"
   ]
  },
  {
   "cell_type": "code",
   "execution_count": 11,
   "id": "3153df5d",
   "metadata": {},
   "outputs": [
    {
     "name": "stdout",
     "output_type": "stream",
     "text": [
      "0 1 1 2 3 5 8 13 21 34 "
     ]
    }
   ],
   "source": [
    "fib = lambda n: n if n < 2 else fib(n-1) + fib(n-2)\n",
    "for val in range(0,10):\n",
    "    print(fib(val),end=\" \")"
   ]
  },
  {
   "cell_type": "markdown",
   "id": "4f381d22",
   "metadata": {},
   "source": [
    "# one liner for the factorial of a given number"
   ]
  },
  {
   "cell_type": "code",
   "execution_count": 12,
   "id": "d104fb90",
   "metadata": {},
   "outputs": [
    {
     "name": "stdout",
     "output_type": "stream",
     "text": [
      "6\n",
      "720\n"
     ]
    }
   ],
   "source": [
    "from functools import reduce\n",
    "print(reduce(lambda x, y: x * y, range(1, int(input())+1)))"
   ]
  },
  {
   "cell_type": "code",
   "execution_count": null,
   "id": "023fbb22",
   "metadata": {},
   "outputs": [],
   "source": []
  }
 ],
 "metadata": {
  "kernelspec": {
   "display_name": "Python 3 (ipykernel)",
   "language": "python",
   "name": "python3"
  },
  "language_info": {
   "codemirror_mode": {
    "name": "ipython",
    "version": 3
   },
   "file_extension": ".py",
   "mimetype": "text/x-python",
   "name": "python",
   "nbconvert_exporter": "python",
   "pygments_lexer": "ipython3",
   "version": "3.9.7"
  }
 },
 "nbformat": 4,
 "nbformat_minor": 5
}
