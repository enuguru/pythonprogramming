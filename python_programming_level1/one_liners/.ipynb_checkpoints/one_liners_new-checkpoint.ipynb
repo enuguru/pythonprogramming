{
 "cells": [
  {
   "cell_type": "markdown",
   "id": "90b0282d",
   "metadata": {},
   "source": [
    "# one liner assignment"
   ]
  },
  {
   "cell_type": "code",
   "execution_count": null,
   "id": "285e0dc2",
   "metadata": {},
   "outputs": [],
   "source": [
    "x = 10; y = 30\n",
    "x, y = y, x\n",
    "print(x,y)"
   ]
  },
  {
   "cell_type": "markdown",
   "id": "e47cb453",
   "metadata": {},
   "source": [
    "# slicing one liner"
   ]
  },
  {
   "cell_type": "code",
   "execution_count": null,
   "id": "72724169",
   "metadata": {},
   "outputs": [],
   "source": [
    "print([10,20,30,40,50,60,70,80,90,100][1:5:1])"
   ]
  },
  {
   "cell_type": "markdown",
   "id": "55c711cc",
   "metadata": {},
   "source": [
    "# one liner using list comprehension"
   ]
  },
  {
   "cell_type": "code",
   "execution_count": null,
   "id": "ff4c0839",
   "metadata": {},
   "outputs": [],
   "source": [
    "newlist = []\n",
    "for num in range(1,11):\n",
    "    newlist.append(num * num)\n",
    "print(newlist)"
   ]
  },
  {
   "cell_type": "markdown",
   "id": "514d1163",
   "metadata": {},
   "source": [
    "# one liner for removing the duplicates"
   ]
  },
  {
   "cell_type": "code",
   "execution_count": null,
   "id": "17391012",
   "metadata": {},
   "outputs": [],
   "source": [
    "print(\" \".join(list(set(input(\"Give the numbers\").split()))))"
   ]
  },
  {
   "cell_type": "markdown",
   "id": "4b7ec2a9",
   "metadata": {},
   "source": [
    "# displaying stocks data in one line"
   ]
  },
  {
   "cell_type": "code",
   "execution_count": null,
   "id": "598cd634",
   "metadata": {},
   "outputs": [],
   "source": [
    "stocks = {'HP' : 26, 'Microsoft' : 234, 'Accenture' : 263, 'Apple' : 126,\n",
    "             'Tesla' : 112, 'Google' : 86, 'Dell' : 38, 'Amazon' :81 }\n",
    "top_stocks = []\n",
    "for key, val in stocks.items():\n",
    "    if val >= 175:\n",
    "        top_stocks.append((key,val))\n",
    "print(top_stocks)"
   ]
  },
  {
   "cell_type": "code",
   "execution_count": null,
   "id": "0db7e6c6",
   "metadata": {},
   "outputs": [],
   "source": [
    "print([(k, v) for k, v in stocks.items() if v >= 175])"
   ]
  },
  {
   "cell_type": "code",
   "execution_count": null,
   "id": "8572d74f",
   "metadata": {},
   "outputs": [],
   "source": [
    "print([(k, v) for k, v in stocks.items() if v <= 175])"
   ]
  },
  {
   "cell_type": "markdown",
   "id": "db3d5450",
   "metadata": {},
   "source": [
    "# factorial of a number"
   ]
  },
  {
   "cell_type": "code",
   "execution_count": null,
   "id": "af70f664",
   "metadata": {},
   "outputs": [],
   "source": [
    "from functools import reduce\n",
    "print(reduce(lambda x, y: x * y, range(1, int(input())+1)))"
   ]
  },
  {
   "cell_type": "markdown",
   "id": "6b9f4603",
   "metadata": {},
   "source": [
    "# reverse the words in a sentence"
   ]
  },
  {
   "cell_type": "code",
   "execution_count": null,
   "id": "fcb4d3c5",
   "metadata": {},
   "outputs": [],
   "source": [
    "print(\" \".join(list(reversed(input(\"Give a sentence \").split()))))"
   ]
  },
  {
   "cell_type": "markdown",
   "id": "214357da",
   "metadata": {},
   "source": [
    "# print perfect numbers using list comprehension"
   ]
  },
  {
   "cell_type": "code",
   "execution_count": null,
   "id": "05f53021",
   "metadata": {},
   "outputs": [],
   "source": [
    "for val in range(2,10001):\n",
    "    sum = 0\n",
    "    for num in range(1,val):\n",
    "        if val % num == 0:\n",
    "            sum = sum + num\n",
    "    if sum == val:\n",
    "        print(val,end=\" \")"
   ]
  },
  {
   "cell_type": "code",
   "execution_count": null,
   "id": "1322a9e1",
   "metadata": {},
   "outputs": [],
   "source": [
    "print([p for p in range(1,10001) if sum(y for y in range(1,p) if x%y==0)==p])"
   ]
  },
  {
   "cell_type": "markdown",
   "id": "d0d5b5e4",
   "metadata": {},
   "source": [
    "# print all primes in the given range using list comprehension"
   ]
  },
  {
   "cell_type": "code",
   "execution_count": null,
   "id": "1bbae637",
   "metadata": {},
   "outputs": [],
   "source": [
    "# print all the primes from 1 to 200\n",
    "for num in range(2,100):\n",
    "    flag = 0\n",
    "    for val in range(2,num):\n",
    "        if num % val == 0:\n",
    "            flag = 1\n",
    "            break\n",
    "    if flag == 0:\n",
    "        print(num,end=\" \")"
   ]
  },
  {
   "cell_type": "code",
   "execution_count": null,
   "id": "672bbda9",
   "metadata": {},
   "outputs": [],
   "source": [
    "print([x for x in range(2, 101) if all(x % y != 0 for y in range(2, x))])"
   ]
  },
  {
   "cell_type": "code",
   "execution_count": null,
   "id": "1f720866",
   "metadata": {},
   "outputs": [],
   "source": [
    "print(list(filter(lambda x:all(x % y != 0 for y in range(2, x)), range(2, int(input())))))"
   ]
  },
  {
   "cell_type": "markdown",
   "id": "2f942ca8",
   "metadata": {},
   "source": [
    "# use of 'any' function in one liner"
   ]
  },
  {
   "cell_type": "code",
   "execution_count": null,
   "id": "644e25a0",
   "metadata": {},
   "outputs": [],
   "source": [
    "## Data\n",
    "companies = {\n",
    "'GreatIndustries' : {'Raj' : 37, 'Ranjith' : 28, 'Greeshma' : 27},\n",
    "'SportsUtilities' : {'Reshma' : 8, 'Greg' : 9, 'Daniel' : 7},\n",
    "'FrankfurtCements' : {'Samuel' : 38, 'Sanjay' : 7, 'Vasanthi' : 17}}\n",
    "## One-Liner\n",
    "illegal = [x for x in companies if any(y<9 for y in companies[x].values())]\n",
    "## Result\n",
    "print(illegal)"
   ]
  },
  {
   "cell_type": "code",
   "execution_count": null,
   "id": "40f9f5aa",
   "metadata": {},
   "outputs": [],
   "source": [
    "## Data\n",
    "txt = ['lambda functions are anonymous functions.',\n",
    "'anonymous functions dont have a name.',\n",
    "'functions are objects in Python.']\n",
    "## One-Liner\n",
    "print(list(map(lambda s: (True, s) if 'anonymous' in s else (False, s), txt)))"
   ]
  },
  {
   "cell_type": "code",
   "execution_count": null,
   "id": "68e491d7",
   "metadata": {},
   "outputs": [],
   "source": [
    "## Data\n",
    "txt = ['lambda functions are anonymous functions.',\n",
    "'anonymous functions dont have a name.',\n",
    "'functions are objects in Python.']\n",
    "## One-Liner\n",
    "print([(True, s) if 'anonymous'in s else (False,s) for s in txt])"
   ]
  },
  {
   "cell_type": "markdown",
   "id": "4f569508",
   "metadata": {},
   "source": [
    "# reading a file in one line"
   ]
  },
  {
   "cell_type": "code",
   "execution_count": null,
   "id": "96d093f7",
   "metadata": {},
   "outputs": [],
   "source": [
    "filename = \"newfile.txt\" # this code\n",
    "f = open(filename)\n",
    "lines = []\n",
    "for line in f:\n",
    "    lines.append(line.strip())\n",
    "print(lines)"
   ]
  },
  {
   "cell_type": "code",
   "execution_count": null,
   "id": "13e895cf",
   "metadata": {},
   "outputs": [],
   "source": [
    "print([line.strip() for line in open(\"newfile.txt\")])"
   ]
  },
  {
   "cell_type": "code",
   "execution_count": null,
   "id": "44235b27",
   "metadata": {},
   "outputs": [],
   "source": [
    "## Data\n",
    "letters_amazon = '''\n",
    "We spent several years building our own database engine,\n",
    "Amazon Aurora, a fully-managed MySQL and PostgreSQL-compatible\n",
    "service with the same or better durability and availability as\n",
    "the commercial engines, but at one-tenth of the cost. We were\n",
    "not surprised when this worked.\n",
    "'''\n",
    "## One-Liner\n",
    "find = lambda x, q: x[x.find(q)-18:x.find(q)+18] if q in x else -1\n",
    "print(find(letters_amazon, 'SQL'))"
   ]
  },
  {
   "cell_type": "markdown",
   "id": "568ea1a8",
   "metadata": {},
   "source": [
    "# one liner using matplotlib library"
   ]
  },
  {
   "cell_type": "code",
   "execution_count": null,
   "id": "881b71fe",
   "metadata": {},
   "outputs": [],
   "source": [
    "## Dependencies\n",
    "import matplotlib.pyplot as plt\n",
    "## Data\n",
    "cardiac_cycle = [62, 60, 62, 64, 68, 77, 80, 76, 71, 66, 61, 60, 62]\n",
    "## One-Liner\n",
    "expected_cycles = cardiac_cycle[1:-2] * 10\n",
    "## Result\n",
    "plt.plot(expected_cycles)\n",
    "plt.show()"
   ]
  },
  {
   "cell_type": "code",
   "execution_count": null,
   "id": "77619418",
   "metadata": {},
   "outputs": [],
   "source": [
    "plt.plot([62, 60, 62, 64, 68, 77, 80, 76, 71, 66, 61, 60, 62][1:-2] * 10)"
   ]
  },
  {
   "cell_type": "code",
   "execution_count": null,
   "id": "abdc745c",
   "metadata": {},
   "outputs": [],
   "source": []
  },
  {
   "cell_type": "code",
   "execution_count": 1,
   "id": "c7c14462",
   "metadata": {},
   "outputs": [
    {
     "data": {
      "text/html": [
       "<div>\n",
       "<style scoped>\n",
       "    .dataframe tbody tr th:only-of-type {\n",
       "        vertical-align: middle;\n",
       "    }\n",
       "\n",
       "    .dataframe tbody tr th {\n",
       "        vertical-align: top;\n",
       "    }\n",
       "\n",
       "    .dataframe thead th {\n",
       "        text-align: right;\n",
       "    }\n",
       "</style>\n",
       "<table border=\"1\" class=\"dataframe\">\n",
       "  <thead>\n",
       "    <tr style=\"text-align: right;\">\n",
       "      <th></th>\n",
       "      <th>admit</th>\n",
       "      <th>gre</th>\n",
       "      <th>gpa</th>\n",
       "      <th>prestige</th>\n",
       "    </tr>\n",
       "  </thead>\n",
       "  <tbody>\n",
       "    <tr>\n",
       "      <th>0</th>\n",
       "      <td>admit</td>\n",
       "      <td>gre</td>\n",
       "      <td>gpa</td>\n",
       "      <td>prestige</td>\n",
       "    </tr>\n",
       "    <tr>\n",
       "      <th>1</th>\n",
       "      <td>0</td>\n",
       "      <td>380</td>\n",
       "      <td>3.61</td>\n",
       "      <td>good</td>\n",
       "    </tr>\n",
       "    <tr>\n",
       "      <th>2</th>\n",
       "      <td>1</td>\n",
       "      <td>660</td>\n",
       "      <td>3.67</td>\n",
       "      <td>good</td>\n",
       "    </tr>\n",
       "    <tr>\n",
       "      <th>3</th>\n",
       "      <td>1</td>\n",
       "      <td>800</td>\n",
       "      <td>4</td>\n",
       "      <td>best</td>\n",
       "    </tr>\n",
       "    <tr>\n",
       "      <th>4</th>\n",
       "      <td>1</td>\n",
       "      <td>640</td>\n",
       "      <td>3.19</td>\n",
       "      <td>ok</td>\n",
       "    </tr>\n",
       "  </tbody>\n",
       "</table>\n",
       "</div>"
      ],
      "text/plain": [
       "   admit  gre   gpa  prestige\n",
       "0  admit  gre   gpa  prestige\n",
       "1      0  380  3.61      good\n",
       "2      1  660  3.67      good\n",
       "3      1  800     4      best\n",
       "4      1  640  3.19        ok"
      ]
     },
     "execution_count": 1,
     "metadata": {},
     "output_type": "execute_result"
    }
   ],
   "source": [
    "import pandas as pd\n",
    "filename = \"train_university_admission_data.csv\"\n",
    "names = ['admit','gre','gpa','prestige']\n",
    "dfTrain = pd.read_csv(filename, names=names)\n",
    "dfTrain.head()"
   ]
  },
  {
   "cell_type": "code",
   "execution_count": 2,
   "id": "221dc87d",
   "metadata": {},
   "outputs": [
    {
     "data": {
      "text/html": [
       "<div>\n",
       "<style scoped>\n",
       "    .dataframe tbody tr th:only-of-type {\n",
       "        vertical-align: middle;\n",
       "    }\n",
       "\n",
       "    .dataframe tbody tr th {\n",
       "        vertical-align: top;\n",
       "    }\n",
       "\n",
       "    .dataframe thead th {\n",
       "        text-align: right;\n",
       "    }\n",
       "</style>\n",
       "<table border=\"1\" class=\"dataframe\">\n",
       "  <thead>\n",
       "    <tr style=\"text-align: right;\">\n",
       "      <th></th>\n",
       "      <th>admit</th>\n",
       "      <th>gre</th>\n",
       "      <th>gpa</th>\n",
       "      <th>prestige</th>\n",
       "    </tr>\n",
       "  </thead>\n",
       "  <tbody>\n",
       "    <tr>\n",
       "      <th>count</th>\n",
       "      <td>301</td>\n",
       "      <td>301</td>\n",
       "      <td>301</td>\n",
       "      <td>301</td>\n",
       "    </tr>\n",
       "    <tr>\n",
       "      <th>unique</th>\n",
       "      <td>3</td>\n",
       "      <td>26</td>\n",
       "      <td>122</td>\n",
       "      <td>5</td>\n",
       "    </tr>\n",
       "    <tr>\n",
       "      <th>top</th>\n",
       "      <td>0</td>\n",
       "      <td>800</td>\n",
       "      <td>4</td>\n",
       "      <td>veryGood</td>\n",
       "    </tr>\n",
       "    <tr>\n",
       "      <th>freq</th>\n",
       "      <td>208</td>\n",
       "      <td>22</td>\n",
       "      <td>20</td>\n",
       "      <td>107</td>\n",
       "    </tr>\n",
       "  </tbody>\n",
       "</table>\n",
       "</div>"
      ],
      "text/plain": [
       "       admit  gre  gpa  prestige\n",
       "count    301  301  301       301\n",
       "unique     3   26  122         5\n",
       "top        0  800    4  veryGood\n",
       "freq     208   22   20       107"
      ]
     },
     "execution_count": 2,
     "metadata": {},
     "output_type": "execute_result"
    }
   ],
   "source": [
    "dfTrain.describe()"
   ]
  },
  {
   "cell_type": "code",
   "execution_count": 3,
   "id": "5dcacae8",
   "metadata": {},
   "outputs": [
    {
     "data": {
      "text/html": [
       "<div>\n",
       "<style scoped>\n",
       "    .dataframe tbody tr th:only-of-type {\n",
       "        vertical-align: middle;\n",
       "    }\n",
       "\n",
       "    .dataframe tbody tr th {\n",
       "        vertical-align: top;\n",
       "    }\n",
       "\n",
       "    .dataframe thead th {\n",
       "        text-align: right;\n",
       "    }\n",
       "</style>\n",
       "<table border=\"1\" class=\"dataframe\">\n",
       "  <thead>\n",
       "    <tr style=\"text-align: right;\">\n",
       "      <th></th>\n",
       "      <th>admit</th>\n",
       "      <th>gre</th>\n",
       "      <th>gpa</th>\n",
       "      <th>prestige</th>\n",
       "    </tr>\n",
       "  </thead>\n",
       "  <tbody>\n",
       "    <tr>\n",
       "      <th>0</th>\n",
       "      <td>admit</td>\n",
       "      <td>gre</td>\n",
       "      <td>gpa</td>\n",
       "      <td>prestige</td>\n",
       "    </tr>\n",
       "    <tr>\n",
       "      <th>1</th>\n",
       "      <td>0</td>\n",
       "      <td>380</td>\n",
       "      <td>3.61</td>\n",
       "      <td>good</td>\n",
       "    </tr>\n",
       "    <tr>\n",
       "      <th>2</th>\n",
       "      <td>1</td>\n",
       "      <td>660</td>\n",
       "      <td>3.67</td>\n",
       "      <td>good</td>\n",
       "    </tr>\n",
       "    <tr>\n",
       "      <th>3</th>\n",
       "      <td>1</td>\n",
       "      <td>800</td>\n",
       "      <td>4</td>\n",
       "      <td>best</td>\n",
       "    </tr>\n",
       "    <tr>\n",
       "      <th>4</th>\n",
       "      <td>1</td>\n",
       "      <td>640</td>\n",
       "      <td>3.19</td>\n",
       "      <td>ok</td>\n",
       "    </tr>\n",
       "    <tr>\n",
       "      <th>...</th>\n",
       "      <td>...</td>\n",
       "      <td>...</td>\n",
       "      <td>...</td>\n",
       "      <td>...</td>\n",
       "    </tr>\n",
       "    <tr>\n",
       "      <th>296</th>\n",
       "      <td>0</td>\n",
       "      <td>520</td>\n",
       "      <td>3.25</td>\n",
       "      <td>good</td>\n",
       "    </tr>\n",
       "    <tr>\n",
       "      <th>297</th>\n",
       "      <td>0</td>\n",
       "      <td>560</td>\n",
       "      <td>3.16</td>\n",
       "      <td>best</td>\n",
       "    </tr>\n",
       "    <tr>\n",
       "      <th>298</th>\n",
       "      <td>0</td>\n",
       "      <td>460</td>\n",
       "      <td>3.07</td>\n",
       "      <td>veryGood</td>\n",
       "    </tr>\n",
       "    <tr>\n",
       "      <th>299</th>\n",
       "      <td>0</td>\n",
       "      <td>540</td>\n",
       "      <td>3.5</td>\n",
       "      <td>veryGood</td>\n",
       "    </tr>\n",
       "    <tr>\n",
       "      <th>300</th>\n",
       "      <td>0</td>\n",
       "      <td>720</td>\n",
       "      <td>3.4</td>\n",
       "      <td>good</td>\n",
       "    </tr>\n",
       "  </tbody>\n",
       "</table>\n",
       "<p>301 rows × 4 columns</p>\n",
       "</div>"
      ],
      "text/plain": [
       "     admit  gre   gpa  prestige\n",
       "0    admit  gre   gpa  prestige\n",
       "1        0  380  3.61      good\n",
       "2        1  660  3.67      good\n",
       "3        1  800     4      best\n",
       "4        1  640  3.19        ok\n",
       "..     ...  ...   ...       ...\n",
       "296      0  520  3.25      good\n",
       "297      0  560  3.16      best\n",
       "298      0  460  3.07  veryGood\n",
       "299      0  540   3.5  veryGood\n",
       "300      0  720   3.4      good\n",
       "\n",
       "[301 rows x 4 columns]"
      ]
     },
     "execution_count": 3,
     "metadata": {},
     "output_type": "execute_result"
    }
   ],
   "source": [
    "dfTrain"
   ]
  },
  {
   "cell_type": "code",
   "execution_count": 4,
   "id": "54505046",
   "metadata": {},
   "outputs": [
    {
     "data": {
      "text/plain": [
       "count     301\n",
       "unique     26\n",
       "top       800\n",
       "freq       22\n",
       "Name: gre, dtype: object"
      ]
     },
     "execution_count": 4,
     "metadata": {},
     "output_type": "execute_result"
    }
   ],
   "source": [
    "dfTrain.gre.describe(include='all')"
   ]
  },
  {
   "cell_type": "code",
   "execution_count": 6,
   "id": "729b8f2d",
   "metadata": {},
   "outputs": [
    {
     "data": {
      "text/html": [
       "<div>\n",
       "<style scoped>\n",
       "    .dataframe tbody tr th:only-of-type {\n",
       "        vertical-align: middle;\n",
       "    }\n",
       "\n",
       "    .dataframe tbody tr th {\n",
       "        vertical-align: top;\n",
       "    }\n",
       "\n",
       "    .dataframe thead th {\n",
       "        text-align: right;\n",
       "    }\n",
       "</style>\n",
       "<table border=\"1\" class=\"dataframe\">\n",
       "  <thead>\n",
       "    <tr style=\"text-align: right;\">\n",
       "      <th></th>\n",
       "      <th>admit</th>\n",
       "      <th>gre</th>\n",
       "      <th>gpa</th>\n",
       "      <th>prestige</th>\n",
       "    </tr>\n",
       "  </thead>\n",
       "  <tbody>\n",
       "    <tr>\n",
       "      <th>count</th>\n",
       "      <td>301</td>\n",
       "      <td>301</td>\n",
       "      <td>301</td>\n",
       "      <td>301</td>\n",
       "    </tr>\n",
       "    <tr>\n",
       "      <th>unique</th>\n",
       "      <td>3</td>\n",
       "      <td>26</td>\n",
       "      <td>122</td>\n",
       "      <td>5</td>\n",
       "    </tr>\n",
       "    <tr>\n",
       "      <th>top</th>\n",
       "      <td>0</td>\n",
       "      <td>800</td>\n",
       "      <td>4</td>\n",
       "      <td>veryGood</td>\n",
       "    </tr>\n",
       "    <tr>\n",
       "      <th>freq</th>\n",
       "      <td>208</td>\n",
       "      <td>22</td>\n",
       "      <td>20</td>\n",
       "      <td>107</td>\n",
       "    </tr>\n",
       "  </tbody>\n",
       "</table>\n",
       "</div>"
      ],
      "text/plain": [
       "       admit  gre  gpa  prestige\n",
       "count    301  301  301       301\n",
       "unique     3   26  122         5\n",
       "top        0  800    4  veryGood\n",
       "freq     208   22   20       107"
      ]
     },
     "execution_count": 6,
     "metadata": {},
     "output_type": "execute_result"
    }
   ],
   "source": [
    "dfTrain.describe()"
   ]
  },
  {
   "cell_type": "code",
   "execution_count": null,
   "id": "7824cc2d",
   "metadata": {},
   "outputs": [],
   "source": []
  }
 ],
 "metadata": {
  "kernelspec": {
   "display_name": "Python 3 (ipykernel)",
   "language": "python",
   "name": "python3"
  },
  "language_info": {
   "codemirror_mode": {
    "name": "ipython",
    "version": 3
   },
   "file_extension": ".py",
   "mimetype": "text/x-python",
   "name": "python",
   "nbconvert_exporter": "python",
   "pygments_lexer": "ipython3",
   "version": "3.9.13"
  }
 },
 "nbformat": 4,
 "nbformat_minor": 5
}
