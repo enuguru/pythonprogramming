{
 "cells": [
  {
   "cell_type": "markdown",
   "id": "230193a6",
   "metadata": {},
   "source": [
    "# Take input from the user and sort in one line"
   ]
  },
  {
   "cell_type": "code",
   "execution_count": null,
   "id": "13eeea93",
   "metadata": {},
   "outputs": [],
   "source": [
    "print(sorted(list(map(int, input().strip().split()))))"
   ]
  },
  {
   "cell_type": "markdown",
   "id": "d24619f3",
   "metadata": {},
   "source": [
    "# Take matrix input in one line"
   ]
  },
  {
   "cell_type": "code",
   "execution_count": null,
   "id": "b01f02da",
   "metadata": {},
   "outputs": [],
   "source": [
    "# Take the input - number of rows and columns\n",
    "row = int(input())\n",
    "column = int(input())\n",
    "\n",
    "# Take the values of rows and columns\n",
    "matrix = [[int(input()) for x in range (column)] for y in range(row)]"
   ]
  },
  {
   "cell_type": "markdown",
   "id": "5f5df693",
   "metadata": {},
   "source": [
    "# print the matrix output in one line"
   ]
  },
  {
   "cell_type": "code",
   "execution_count": 46,
   "id": "9211b397",
   "metadata": {},
   "outputs": [
    {
     "name": "stdout",
     "output_type": "stream",
     "text": [
      "[[1, 2, 3], [2, 1, 4], [5, 6, 3], [4, 2, 1]]\n"
     ]
    }
   ],
   "source": [
    "print([[matrix[y][x] for x in range (column)] for y in range(row)])"
   ]
  },
  {
   "cell_type": "markdown",
   "id": "655b0859",
   "metadata": {},
   "source": [
    "# printing the matrix with line breaks"
   ]
  },
  {
   "cell_type": "code",
   "execution_count": 45,
   "id": "8ed31edb",
   "metadata": {},
   "outputs": [
    {
     "name": "stdout",
     "output_type": "stream",
     "text": [
      "1 2 3 \n",
      "2 1 4 \n",
      "5 6 3 \n",
      "4 2 1 \n"
     ]
    }
   ],
   "source": [
    "for val in range(row):         \n",
    "    for num in range(column):\n",
    "        print(matrix[val][num],end=\" \")\n",
    "    print()"
   ]
  },
  {
   "cell_type": "markdown",
   "id": "18597c0f",
   "metadata": {},
   "source": [
    "# output of the matrix in one line"
   ]
  },
  {
   "cell_type": "code",
   "execution_count": 44,
   "id": "b128544a",
   "metadata": {},
   "outputs": [
    {
     "name": "stdout",
     "output_type": "stream",
     "text": [
      "[[1, 2, 3], [2, 1, 4], [5, 6, 3], [4, 2, 1]]\n"
     ]
    }
   ],
   "source": [
    "print(matrix)"
   ]
  },
  {
   "cell_type": "code",
   "execution_count": null,
   "id": "b9e968ae",
   "metadata": {},
   "outputs": [],
   "source": []
  }
 ],
 "metadata": {
  "kernelspec": {
   "display_name": "Python 3 (ipykernel)",
   "language": "python",
   "name": "python3"
  },
  "language_info": {
   "codemirror_mode": {
    "name": "ipython",
    "version": 3
   },
   "file_extension": ".py",
   "mimetype": "text/x-python",
   "name": "python",
   "nbconvert_exporter": "python",
   "pygments_lexer": "ipython3",
   "version": "3.9.7"
  }
 },
 "nbformat": 4,
 "nbformat_minor": 5
}
