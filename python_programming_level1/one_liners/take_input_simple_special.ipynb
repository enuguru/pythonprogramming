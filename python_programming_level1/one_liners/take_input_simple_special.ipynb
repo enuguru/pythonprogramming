{
 "cells": [
  {
   "cell_type": "markdown",
   "id": "230193a6",
   "metadata": {},
   "source": [
    "# Take input from the user and sort in one line"
   ]
  },
  {
   "cell_type": "code",
   "execution_count": 1,
   "id": "13eeea93",
   "metadata": {},
   "outputs": [
    {
     "name": "stdout",
     "output_type": "stream",
     "text": [
      "45 23 12 3 9 7   \n",
      "[3, 7, 9, 12, 23, 45]\n"
     ]
    }
   ],
   "source": [
    "print(sorted(list(map(int, input().strip().split()))))"
   ]
  },
  {
   "cell_type": "code",
   "execution_count": null,
   "id": "e422c7fb",
   "metadata": {},
   "outputs": [],
   "source": []
  }
 ],
 "metadata": {
  "kernelspec": {
   "display_name": "Python 3 (ipykernel)",
   "language": "python",
   "name": "python3"
  },
  "language_info": {
   "codemirror_mode": {
    "name": "ipython",
    "version": 3
   },
   "file_extension": ".py",
   "mimetype": "text/x-python",
   "name": "python",
   "nbconvert_exporter": "python",
   "pygments_lexer": "ipython3",
   "version": "3.9.13"
  }
 },
 "nbformat": 4,
 "nbformat_minor": 5
}
