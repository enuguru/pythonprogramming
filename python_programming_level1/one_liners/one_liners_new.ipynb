{
 "cells": [
  {
   "cell_type": "markdown",
   "id": "90b0282d",
   "metadata": {},
   "source": [
    "# one liner assignment"
   ]
  },
  {
   "cell_type": "code",
   "execution_count": null,
   "id": "285e0dc2",
   "metadata": {},
   "outputs": [],
   "source": [
    "x = 10; y = 30\n",
    "x, y = y, x\n",
    "print(x,y)"
   ]
  },
  {
   "cell_type": "markdown",
   "id": "e47cb453",
   "metadata": {},
   "source": [
    "# slicing one liner"
   ]
  },
  {
   "cell_type": "code",
   "execution_count": null,
   "id": "72724169",
   "metadata": {},
   "outputs": [],
   "source": [
    "print([10,20,30,40,50,60,70,80,90,100][1:5:1])"
   ]
  },
  {
   "cell_type": "markdown",
   "id": "55c711cc",
   "metadata": {},
   "source": [
    "# one liner using list comprehension"
   ]
  },
  {
   "cell_type": "code",
   "execution_count": null,
   "id": "ff4c0839",
   "metadata": {},
   "outputs": [],
   "source": [
    "newlist = []\n",
    "for num in range(1,11):\n",
    "    newlist.append(num * num)\n",
    "print(newlist)"
   ]
  },
  {
   "cell_type": "markdown",
   "id": "514d1163",
   "metadata": {},
   "source": [
    "# one liner for removing the duplicates"
   ]
  },
  {
   "cell_type": "code",
   "execution_count": null,
   "id": "17391012",
   "metadata": {},
   "outputs": [],
   "source": [
    "print(\" \".join(list(set(input(\"Give the numbers\").split()))))"
   ]
  },
  {
   "cell_type": "markdown",
   "id": "4b7ec2a9",
   "metadata": {},
   "source": [
    "# displaying stocks data in one line"
   ]
  },
  {
   "cell_type": "code",
   "execution_count": null,
   "id": "598cd634",
   "metadata": {},
   "outputs": [],
   "source": [
    "stocks = {'HP' : 26, 'Microsoft' : 234, 'Accenture' : 263, 'Apple' : 126,\n",
    "             'Tesla' : 112, 'Google' : 86, 'Dell' : 38, 'Amazon' :81 }\n",
    "top_stocks = []\n",
    "for key, val in stocks.items():\n",
    "    if val >= 175:\n",
    "        top_stocks.append((key,val))\n",
    "print(top_stocks)"
   ]
  },
  {
   "cell_type": "code",
   "execution_count": null,
   "id": "0db7e6c6",
   "metadata": {},
   "outputs": [],
   "source": [
    "print([(k, v) for k, v in stocks.items() if v >= 175])"
   ]
  },
  {
   "cell_type": "code",
   "execution_count": null,
   "id": "8572d74f",
   "metadata": {},
   "outputs": [],
   "source": [
    "print([(k, v) for k, v in stocks.items() if v <= 175])"
   ]
  },
  {
   "cell_type": "markdown",
   "id": "db3d5450",
   "metadata": {},
   "source": [
    "# factorial of a number"
   ]
  },
  {
   "cell_type": "code",
   "execution_count": null,
   "id": "af70f664",
   "metadata": {},
   "outputs": [],
   "source": [
    "from functools import reduce\n",
    "print(reduce(lambda x, y: x * y, range(1, int(input())+1)))"
   ]
  },
  {
   "cell_type": "markdown",
   "id": "6b9f4603",
   "metadata": {},
   "source": [
    "# reverse the words in a sentence"
   ]
  },
  {
   "cell_type": "code",
   "execution_count": null,
   "id": "fcb4d3c5",
   "metadata": {},
   "outputs": [],
   "source": [
    "print(\" \".join(list(reversed(input(\"Give a sentence \").split()))))"
   ]
  },
  {
   "cell_type": "markdown",
   "id": "214357da",
   "metadata": {},
   "source": [
    "# print perfect numbers using list comprehension"
   ]
  },
  {
   "cell_type": "code",
   "execution_count": null,
   "id": "05f53021",
   "metadata": {},
   "outputs": [],
   "source": [
    "for val in range(2,10001):\n",
    "    sum = 0\n",
    "    for num in range(1,val):\n",
    "        if val % num == 0:\n",
    "            sum = sum + num\n",
    "    if sum == val:\n",
    "        print(val,end=\" \")"
   ]
  },
  {
   "cell_type": "code",
   "execution_count": null,
   "id": "1322a9e1",
   "metadata": {},
   "outputs": [],
   "source": [
    "print([p for p in range(1,10001) if sum(y for y in range(1,p) if x%y==0)==p])"
   ]
  },
  {
   "cell_type": "markdown",
   "id": "d0d5b5e4",
   "metadata": {},
   "source": [
    "# print all primes in the given range using list comprehension"
   ]
  },
  {
   "cell_type": "code",
   "execution_count": null,
   "id": "1bbae637",
   "metadata": {},
   "outputs": [],
   "source": [
    "# print all the primes from 1 to 200\n",
    "for num in range(2,100):\n",
    "    flag = 0\n",
    "    for val in range(2,num):\n",
    "        if num % val == 0:\n",
    "            flag = 1\n",
    "            break\n",
    "    if flag == 0:\n",
    "        print(num,end=\" \")"
   ]
  },
  {
   "cell_type": "code",
   "execution_count": null,
   "id": "672bbda9",
   "metadata": {},
   "outputs": [],
   "source": [
    "print([x for x in range(2, 101) if all(x % y != 0 for y in range(2, x))])"
   ]
  },
  {
   "cell_type": "code",
   "execution_count": null,
   "id": "1f720866",
   "metadata": {},
   "outputs": [],
   "source": [
    "print(list(filter(lambda x:all(x % y != 0 for y in range(2, x)), range(2, int(input())))))"
   ]
  },
  {
   "cell_type": "markdown",
   "id": "2f942ca8",
   "metadata": {},
   "source": [
    "# use of 'any' function in one liner"
   ]
  },
  {
   "cell_type": "code",
   "execution_count": null,
   "id": "644e25a0",
   "metadata": {},
   "outputs": [],
   "source": [
    "## Data\n",
    "companies = {\n",
    "'GreatIndustries' : {'Raj' : 37, 'Ranjith' : 28, 'Greeshma' : 27},\n",
    "'SportsUtilities' : {'Reshma' : 8, 'Greg' : 9, 'Daniel' : 7},\n",
    "'FrankfurtCements' : {'Samuel' : 38, 'Sanjay' : 7, 'Vasanthi' : 17}}\n",
    "## One-Liner\n",
    "illegal = [x for x in companies if any(y<9 for y in companies[x].values())]\n",
    "## Result\n",
    "print(illegal)"
   ]
  },
  {
   "cell_type": "code",
   "execution_count": null,
   "id": "40f9f5aa",
   "metadata": {},
   "outputs": [],
   "source": [
    "## Data\n",
    "txt = ['lambda functions are anonymous functions.',\n",
    "'anonymous functions dont have a name.',\n",
    "'functions are objects in Python.']\n",
    "## One-Liner\n",
    "print(list(map(lambda s: (True, s) if 'anonymous' in s else (False, s), txt)))"
   ]
  },
  {
   "cell_type": "code",
   "execution_count": null,
   "id": "68e491d7",
   "metadata": {},
   "outputs": [],
   "source": [
    "## Data\n",
    "txt = ['lambda functions are anonymous functions.',\n",
    "'anonymous functions dont have a name.',\n",
    "'functions are objects in Python.']\n",
    "## One-Liner\n",
    "print([(True, s) if 'anonymous'in s else (False,s) for s in txt])"
   ]
  },
  {
   "cell_type": "markdown",
   "id": "4f569508",
   "metadata": {},
   "source": [
    "# reading a file in one line"
   ]
  },
  {
   "cell_type": "code",
   "execution_count": null,
   "id": "96d093f7",
   "metadata": {},
   "outputs": [],
   "source": [
    "filename = \"newfile.txt\" # this code\n",
    "f = open(filename)\n",
    "lines = []\n",
    "for line in f:\n",
    "    lines.append(line.strip())\n",
    "print(lines)"
   ]
  },
  {
   "cell_type": "code",
   "execution_count": null,
   "id": "13e895cf",
   "metadata": {},
   "outputs": [],
   "source": [
    "print([line.strip() for line in open(\"newfile.txt\")])"
   ]
  },
  {
   "cell_type": "code",
   "execution_count": null,
   "id": "44235b27",
   "metadata": {},
   "outputs": [],
   "source": [
    "## Data\n",
    "letters_amazon = '''\n",
    "We spent several years building our own database engine,\n",
    "Amazon Aurora, a fully-managed MySQL and PostgreSQL-compatible\n",
    "service with the same or better durability and availability as\n",
    "the commercial engines, but at one-tenth of the cost. We were\n",
    "not surprised when this worked.\n",
    "'''\n",
    "## One-Liner\n",
    "find = lambda x, q: x[x.find(q)-18:x.find(q)+18] if q in x else -1\n",
    "print(find(letters_amazon, 'SQL'))"
   ]
  },
  {
   "cell_type": "markdown",
   "id": "568ea1a8",
   "metadata": {},
   "source": [
    "# one liner using matplotlib library"
   ]
  },
  {
   "cell_type": "code",
   "execution_count": null,
   "id": "881b71fe",
   "metadata": {},
   "outputs": [],
   "source": [
    "## Dependencies\n",
    "import matplotlib.pyplot as plt\n",
    "## Data\n",
    "cardiac_cycle = [62, 60, 62, 64, 68, 77, 80, 76, 71, 66, 61, 60, 62]\n",
    "## One-Liner\n",
    "expected_cycles = cardiac_cycle[1:-2] * 10\n",
    "## Result\n",
    "plt.plot(expected_cycles)\n",
    "plt.show()"
   ]
  },
  {
   "cell_type": "code",
   "execution_count": null,
   "id": "77619418",
   "metadata": {},
   "outputs": [],
   "source": [
    "plt.plot([62, 60, 62, 64, 68, 77, 80, 76, 71, 66, 61, 60, 62][1:-2] * 10)"
   ]
  },
  {
   "cell_type": "code",
   "execution_count": null,
   "id": "d40215d4",
   "metadata": {},
   "outputs": [],
   "source": []
  }
 ],
 "metadata": {
  "kernelspec": {
   "display_name": "Python 3 (ipykernel)",
   "language": "python",
   "name": "python3"
  },
  "language_info": {
   "codemirror_mode": {
    "name": "ipython",
    "version": 3
   },
   "file_extension": ".py",
   "mimetype": "text/x-python",
   "name": "python",
   "nbconvert_exporter": "python",
   "pygments_lexer": "ipython3",
   "version": "3.9.13"
  }
 },
 "nbformat": 4,
 "nbformat_minor": 5
}
