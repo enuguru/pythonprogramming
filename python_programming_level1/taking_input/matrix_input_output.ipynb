{
 "cells": [
  {
   "cell_type": "code",
   "execution_count": 1,
   "metadata": {},
   "outputs": [
    {
     "name": "stdout",
     "output_type": "stream",
     "text": [
      "3\n",
      "4\n",
      "23\n",
      "45\n",
      "44\n",
      "66\n",
      "33\n",
      "66\n",
      "1\n",
      "2\n",
      "3\n",
      "6\n",
      "33\n",
      "44\n",
      "[[23, 45, 44, 66], [33, 66, 1, 2], [3, 6, 33, 44]]\n"
     ]
    }
   ],
   "source": [
    "row = int(input())\n",
    "column = int(input())\n",
    "  \n",
    "# Using list comprehension for input\n",
    "matrix = [[int(input()) for x in range (column)] for y in range(row)] \n",
    "print(matrix)"
   ]
  },
  {
   "cell_type": "code",
   "execution_count": null,
   "metadata": {},
   "outputs": [],
   "source": []
  }
 ],
 "metadata": {
  "kernelspec": {
   "display_name": "Python 3 (ipykernel)",
   "language": "python",
   "name": "python3"
  },
  "language_info": {
   "codemirror_mode": {
    "name": "ipython",
    "version": 3
   },
   "file_extension": ".py",
   "mimetype": "text/x-python",
   "name": "python",
   "nbconvert_exporter": "python",
   "pygments_lexer": "ipython3",
   "version": "3.10.9"
  }
 },
 "nbformat": 4,
 "nbformat_minor": 4
}
