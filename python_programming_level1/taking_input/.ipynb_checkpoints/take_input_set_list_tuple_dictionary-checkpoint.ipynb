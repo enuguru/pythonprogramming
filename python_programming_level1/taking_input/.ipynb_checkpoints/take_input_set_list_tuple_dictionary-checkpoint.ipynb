{
 "cells": [
  {
   "cell_type": "code",
   "execution_count": 5,
   "metadata": {},
   "outputs": [
    {
     "name": "stdout",
     "output_type": "stream",
     "text": [
      "  12 3 4\n",
      "[12, 3, 4]\n"
     ]
    }
   ],
   "source": [
    "mystring = list(map(int,input().strip().split()))\n",
    "print(mystring)"
   ]
  },
  {
   "cell_type": "code",
   "execution_count": 3,
   "metadata": {},
   "outputs": [
    {
     "name": "stdout",
     "output_type": "stream",
     "text": [
      "34,56,77\n",
      "['34,56,77']\n"
     ]
    }
   ],
   "source": [
    "mystring = list(input().split())\n",
    "print(mystring)"
   ]
  },
  {
   "cell_type": "code",
   "execution_count": null,
   "metadata": {},
   "outputs": [],
   "source": [
    "mystring = set(map(int,input().split()))\n",
    "print(mystring)"
   ]
  },
  {
   "cell_type": "code",
   "execution_count": null,
   "metadata": {},
   "outputs": [],
   "source": [
    "mystring = set(map(int,input().split()))\n",
    "print(mystring)"
   ]
  },
  {
   "cell_type": "code",
   "execution_count": null,
   "metadata": {},
   "outputs": [],
   "source": [
    "x, y, z = 34, 56, 78\n",
    "print(x,y,z)"
   ]
  },
  {
   "cell_type": "code",
   "execution_count": null,
   "metadata": {},
   "outputs": [],
   "source": [
    "mystring = tuple(map(int,input().split()))\n",
    "print(mystring)"
   ]
  },
  {
   "cell_type": "code",
   "execution_count": null,
   "metadata": {},
   "outputs": [],
   "source": [
    "print(tuple(map(int,input().split())))"
   ]
  },
  {
   "cell_type": "code",
   "execution_count": null,
   "metadata": {},
   "outputs": [],
   "source": [
    "# 2\n",
    "# Guru 78\n",
    "# Badri 34\n",
    "n = int(input())\n",
    "name_numbers = [input().split() for _ in range(n)]\n",
    "print(name_numbers)\n",
    "phone_book = {k: v for k,v in name_numbers}\n",
    "print(phone_book)"
   ]
  },
  {
   "cell_type": "code",
   "execution_count": null,
   "metadata": {},
   "outputs": [],
   "source": [
    "listA = []\n",
    "# Input number of elemetns\n",
    "n = int(input(\"Enter number of elements in the list : \"))\n",
    "# iterating till the range\n",
    "for i in range(0, n):\n",
    "   print(\"Enter element No-{}: \".format(i+1))\n",
    "   elm = int(input())\n",
    "   listA.append(elm) # adding the element\n",
    "print(\"The entered list is: \\n\",listA)"
   ]
  },
  {
   "cell_type": "code",
   "execution_count": null,
   "metadata": {},
   "outputs": [],
   "source": [
    "setA = set([])\n",
    "# Input number of elemetns\n",
    "n = int(input(\"Enter number of elements in the list : \"))\n",
    "# iterating till the range\n",
    "for i in range(0, n):\n",
    "   print(\"Enter element No-{}: \".format(i+1))\n",
    "   elm = int(input())\n",
    "   setA.add(elm) # adding the element\n",
    "print(\"The entered set is: \\n\",setA)"
   ]
  },
  {
   "cell_type": "code",
   "execution_count": null,
   "metadata": {},
   "outputs": [],
   "source": [
    "# 5\n",
    "# 10 40 30 50 20\n",
    "# 1 2 3 4 5\n",
    "# 32.0\n",
    "# Enter your code here. Read input from STDIN. Print output to STDOUT\n",
    "\n",
    "val = int(input())\n",
    "arraylist = list(map(int,input().split()))\n",
    "weightlist = list(map(int,input().split()))\n",
    "mysum = 0\n",
    "for i in range(val): \n",
    "    mysum = mysum + (arraylist[i] * weightlist[i])\n",
    "print(round(mysum/sum(weightlist),1))\n"
   ]
  },
  {
   "cell_type": "code",
   "execution_count": null,
   "metadata": {},
   "outputs": [],
   "source": [
    "mystring = tuple(map(str,input().split()))\n",
    "print(mystring)"
   ]
  },
  {
   "cell_type": "code",
   "execution_count": null,
   "metadata": {},
   "outputs": [],
   "source": []
  }
 ],
 "metadata": {
  "kernelspec": {
   "display_name": "Python 3 (ipykernel)",
   "language": "python",
   "name": "python3"
  },
  "language_info": {
   "codemirror_mode": {
    "name": "ipython",
    "version": 3
   },
   "file_extension": ".py",
   "mimetype": "text/x-python",
   "name": "python",
   "nbconvert_exporter": "python",
   "pygments_lexer": "ipython3",
   "version": "3.9.7"
  }
 },
 "nbformat": 4,
 "nbformat_minor": 4
}
