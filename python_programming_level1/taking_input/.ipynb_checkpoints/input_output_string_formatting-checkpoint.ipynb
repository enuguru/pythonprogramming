{
 "cells": [
  {
   "cell_type": "code",
   "execution_count": 1,
   "metadata": {},
   "outputs": [],
   "source": [
    "# format of the print function below\n",
    "# print(*objects, sep=' ', end='\\n', file=sys.stdout, flush=False)"
   ]
  },
  {
   "cell_type": "code",
   "execution_count": 1,
   "metadata": {},
   "outputs": [
    {
     "name": "stdout",
     "output_type": "stream",
     "text": [
      "This sentence is output to the screen\n"
     ]
    }
   ],
   "source": [
    "print(\"This sentence is output to the screen\")"
   ]
  },
  {
   "cell_type": "code",
   "execution_count": 2,
   "metadata": {},
   "outputs": [
    {
     "name": "stdout",
     "output_type": "stream",
     "text": [
      "The value of a is 5\n"
     ]
    }
   ],
   "source": [
    "a = 5\n",
    "print('The value of a is', a)"
   ]
  },
  {
   "cell_type": "code",
   "execution_count": 3,
   "metadata": {},
   "outputs": [
    {
     "name": "stdout",
     "output_type": "stream",
     "text": [
      "1 2 3 4 1*2*3*4\n",
      "1#2#3#4&"
     ]
    }
   ],
   "source": [
    "print(1, 2, 3, 4, end=\" \")\n",
    "print(1, 2, 3, 4, sep='*')\n",
    "print(1, 2, 3, 4, sep='#', end='&')"
   ]
  },
  {
   "cell_type": "markdown",
   "metadata": {},
   "source": [
    "Sometimes we would like to format our output to make it look attractive. This can be done by using the str.format() method. This method is visible to any string object"
   ]
  },
  {
   "cell_type": "markdown",
   "metadata": {},
   "source": [
    "Here, the curly braces {} are used as placeholders. We can specify the order in which they are printed by using numbers (tuple index)"
   ]
  },
  {
   "cell_type": "code",
   "execution_count": 6,
   "metadata": {},
   "outputs": [
    {
     "name": "stdout",
     "output_type": "stream",
     "text": [
      "The value of x is 5 and y is 10\n"
     ]
    }
   ],
   "source": [
    "x = 5; y = 10\n",
    "print('The value of x is {} and y is {}'.format(x,y))"
   ]
  },
  {
   "cell_type": "code",
   "execution_count": 1,
   "metadata": {},
   "outputs": [
    {
     "name": "stdout",
     "output_type": "stream",
     "text": [
      "The value of x is Rajesh and y is Praveena\n"
     ]
    }
   ],
   "source": [
    "x = \"Rajesh\"; y = \"Praveena\"\n",
    "print('The value of x is {} and y is {}'.format(x,y))"
   ]
  },
  {
   "cell_type": "code",
   "execution_count": 6,
   "metadata": {},
   "outputs": [
    {
     "name": "stdout",
     "output_type": "stream",
     "text": [
      "The value of x is  5 and y is 10\n"
     ]
    }
   ],
   "source": [
    "print(\"The value of x is \", x, \"and y is\", y)"
   ]
  },
  {
   "cell_type": "code",
   "execution_count": 7,
   "metadata": {},
   "outputs": [
    {
     "name": "stdout",
     "output_type": "stream",
     "text": [
      "Karthik\n",
      "17\n",
      "Hi ! My name is Karthik and I am 17 years old\n",
      "This is one two three four\n"
     ]
    }
   ],
   "source": [
    "# different datatypes can be used in formatting\n",
    "name = input()\n",
    "age = int(input())\n",
    "stringone = \"Hi ! My name is {} and I am {} years old\"\n",
    "print (stringone.format(name, age))\n",
    "# The values passed as parameters\n",
    "# are replaced in order of their entry\n",
    "newstring = \"This is {} {} {} {}\"\n",
    "print(newstring.format(\"one\", \"two\", \"three\", \"four\"))"
   ]
  },
  {
   "cell_type": "code",
   "execution_count": 8,
   "metadata": {},
   "outputs": [
    {
     "name": "stdout",
     "output_type": "stream",
     "text": [
      "This site is 100.000000% securely encrypted!!\n",
      "My average of this semester was 78.23%\n",
      "My average of this semester was 78%\n",
      "The binary of 100 is 1100100\n",
      "The octal of 100 is 144\n"
     ]
    }
   ],
   "source": [
    "# Convert base-10 decimal integers  \n",
    "# to floating point numeric constants \n",
    "print (\"This site is {0:f}% securely {1}!!\". \n",
    "                    format(100, \"encrypted\")) \n",
    "  \n",
    "# To limit the precision \n",
    "print (\"My average of this {0} was {1:.2f}%\"\n",
    "            .format(\"semester\", 78.234876)) \n",
    "  \n",
    "# For no decimal places \n",
    "print (\"My average of this {0} was {1:.0f}%\"\n",
    "            .format(\"semester\", 78.234876)) \n",
    "  \n",
    "# Convert an integer to its binary or \n",
    "# with other different converted bases. \n",
    "print(\"The {0} of 100 is {1:b}\"\n",
    "        .format(\"binary\", 100)) \n",
    "          \n",
    "print(\"The {0} of 100 is {1:o}\"\n",
    "        .format(\"octal\", 100)) "
   ]
  },
  {
   "cell_type": "code",
   "execution_count": 9,
   "metadata": {},
   "outputs": [
    {
     "name": "stdout",
     "output_type": "stream",
     "text": [
      "I love bread and butter\n",
      "I love butter and bread\n"
     ]
    }
   ],
   "source": [
    "print('I love {0} and {1}'.format('bread','butter'))\n",
    "print('I love {1} and {0}'.format('bread','butter'))"
   ]
  },
  {
   "cell_type": "code",
   "execution_count": 10,
   "metadata": {},
   "outputs": [
    {
     "name": "stdout",
     "output_type": "stream",
     "text": [
      "Hello John, Goodmorning\n"
     ]
    }
   ],
   "source": [
    "print('Hello {name}, {greeting}'.format(greeting = 'Goodmorning', name = 'John'))"
   ]
  },
  {
   "cell_type": "code",
   "execution_count": 11,
   "metadata": {},
   "outputs": [
    {
     "name": "stdout",
     "output_type": "stream",
     "text": [
      "enter a number56\n"
     ]
    },
    {
     "data": {
      "text/plain": [
       "'56'"
      ]
     },
     "execution_count": 11,
     "metadata": {},
     "output_type": "execute_result"
    }
   ],
   "source": [
    "num = input(\"enter a number\")\n",
    "num"
   ]
  },
  {
   "cell_type": "code",
   "execution_count": 12,
   "metadata": {},
   "outputs": [
    {
     "name": "stdout",
     "output_type": "stream",
     "text": [
      "6 bananas cost $1.74\n"
     ]
    }
   ],
   "source": [
    "print('%d %s cost $%.2f' % (6, 'bananas', 1.74))"
   ]
  },
  {
   "cell_type": "code",
   "execution_count": 13,
   "metadata": {},
   "outputs": [
    {
     "name": "stdout",
     "output_type": "stream",
     "text": [
      "Hello, my name is Graham.\n"
     ]
    }
   ],
   "source": [
    "print('Hello, my name is %s.' % 'Graham')"
   ]
  },
  {
   "cell_type": "code",
   "execution_count": 9,
   "metadata": {},
   "outputs": [
    {
     "name": "stdout",
     "output_type": "stream",
     "text": [
      "3e8, 3E8\n"
     ]
    }
   ],
   "source": [
    "print('%x, %X' % (1000, 1000))"
   ]
  },
  {
   "cell_type": "code",
   "execution_count": 7,
   "metadata": {},
   "outputs": [
    {
     "name": "stdout",
     "output_type": "stream",
     "text": [
      "374, 252\n"
     ]
    }
   ],
   "source": [
    "print('%o, %d' % (252, 252))"
   ]
  },
  {
   "cell_type": "code",
   "execution_count": 56,
   "metadata": {},
   "outputs": [
    {
     "name": "stdout",
     "output_type": "stream",
     "text": [
      "3.141590, 3.140000\n"
     ]
    }
   ],
   "source": [
    "print('%f, %F' % (3.14159, 3.14)) # convert to string representation of a floating point number"
   ]
  },
  {
   "cell_type": "code",
   "execution_count": 12,
   "metadata": {},
   "outputs": [
    {
     "name": "stdout",
     "output_type": "stream",
     "text": [
      "5.500000e+04, 5.000000E+01\n"
     ]
    }
   ],
   "source": [
    "print('%e, %E' % (55000.0, 50)) # produce a string representing exponential (scientific) notation"
   ]
  },
  {
   "cell_type": "code",
   "execution_count": 10,
   "metadata": {},
   "outputs": [
    {
     "name": "stdout",
     "output_type": "stream",
     "text": [
      "100101\n"
     ]
    }
   ],
   "source": [
    "print(\"{0:b}\".format(37)) # how to produce a binary representation of a number"
   ]
  },
  {
   "cell_type": "code",
   "execution_count": 11,
   "metadata": {},
   "outputs": [
    {
     "name": "stdout",
     "output_type": "stream",
     "text": [
      "0b100101\n"
     ]
    }
   ],
   "source": [
    "print(bin(37)) # how to product a binary reprsentation of a number"
   ]
  },
  {
   "cell_type": "code",
   "execution_count": 60,
   "metadata": {},
   "outputs": [
    {
     "name": "stdout",
     "output_type": "stream",
     "text": [
      "34.5567\n",
      "67.99\n"
     ]
    }
   ],
   "source": [
    "i = 34.5567\n",
    "print(i)\n",
    "s = 67.99\n",
    "print(s)"
   ]
  },
  {
   "cell_type": "code",
   "execution_count": 61,
   "metadata": {},
   "outputs": [
    {
     "name": "stdout",
     "output_type": "stream",
     "text": [
      "34.55670 67.99000\n"
     ]
    }
   ],
   "source": [
    "print('%1.5f %.5f' % (i, s))"
   ]
  },
  {
   "cell_type": "code",
   "execution_count": 62,
   "metadata": {},
   "outputs": [
    {
     "name": "stdout",
     "output_type": "stream",
     "text": [
      "5\n",
      "9\n",
      "0.5555555555555556\n",
      "0\n"
     ]
    }
   ],
   "source": [
    "x = int(input())\n",
    "y = int(input())\n",
    "print(x/y)\n",
    "print(x//y)"
   ]
  },
  {
   "cell_type": "code",
   "execution_count": 63,
   "metadata": {},
   "outputs": [
    {
     "name": "stdout",
     "output_type": "stream",
     "text": [
      "5\n",
      "9\n",
      "0.5555555555555556\n",
      "0.0\n"
     ]
    }
   ],
   "source": [
    "x = float(input())\n",
    "y = float(input())\n",
    "print(x/y)\n",
    "print(x//y)"
   ]
  },
  {
   "cell_type": "code",
   "execution_count": 64,
   "metadata": {},
   "outputs": [
    {
     "name": "stdout",
     "output_type": "stream",
     "text": [
      "Hello KarthikHow are you doing\n",
      "How old are you17\n",
      "How are you doing and 17\n"
     ]
    }
   ],
   "source": [
    "mystrone = input(\"Hello Karthik\")\n",
    "mystrtwo = input(\"How old are you\")\n",
    "print('{0} and {1}'.format(mystrone, mystrtwo))"
   ]
  },
  {
   "cell_type": "code",
   "execution_count": 49,
   "metadata": {},
   "outputs": [
    {
     "name": "stdout",
     "output_type": "stream",
     "text": [
      "Hello Karthik and 56.779  How old are you\n"
     ]
    }
   ],
   "source": [
    "fl = 56.779\n",
    "print('{0} and {1}  {2}'.format(mystrone, fl, mystrtwo))"
   ]
  },
  {
   "cell_type": "code",
   "execution_count": 50,
   "metadata": {},
   "outputs": [
    {
     "name": "stdout",
     "output_type": "stream",
     "text": [
      "56.779000, Hello Karthik and How old are you\n"
     ]
    }
   ],
   "source": [
    "print('%f, %s and %s' % (fl, mystrone, mystrtwo)) # convert to string representation of a floating point number"
   ]
  },
  {
   "cell_type": "code",
   "execution_count": 51,
   "metadata": {},
   "outputs": [
    {
     "name": "stdout",
     "output_type": "stream",
     "text": [
      "Hello How old are you, Hello Karthik\n"
     ]
    }
   ],
   "source": [
    "print('Hello {name}, {greeting}'.format(greeting = mystrone, name = mystrtwo))"
   ]
  },
  {
   "cell_type": "code",
   "execution_count": 57,
   "metadata": {},
   "outputs": [
    {
     "name": "stdout",
     "output_type": "stream",
     "text": [
      "I love bread and butter\n",
      "I love butter and bread\n",
      "I love butter and bread\n"
     ]
    }
   ],
   "source": [
    "print('I love {0} and {1}'.format('bread','butter'))\n",
    "print('I love {1} and {0}'.format('bread','butter'))\n",
    "print('I love {0} and {1}'.format('butter','bread'))"
   ]
  },
  {
   "cell_type": "code",
   "execution_count": 56,
   "metadata": {},
   "outputs": [
    {
     "name": "stdout",
     "output_type": "stream",
     "text": [
      "I love Hello Karthik and How old are you\n",
      "I love How old are you and Hello Karthik\n",
      "I love How old are you and Hello Karthik\n"
     ]
    }
   ],
   "source": [
    "print('I love {0} and {1}'.format(mystrone,mystrtwo))\n",
    "print('I love {0} and {1}'.format(mystrtwo,mystrone))\n",
    "print('I love {1} and {0}'.format(mystrone,mystrtwo))"
   ]
  },
  {
   "cell_type": "code",
   "execution_count": 59,
   "metadata": {},
   "outputs": [
    {
     "name": "stdout",
     "output_type": "stream",
     "text": [
      "The value of a and new is 56.89 Kumar\n"
     ]
    }
   ],
   "source": [
    "fp = 56.89; new = \"Kumar\"\n",
    "print('The value of a and new is', fp,new)"
   ]
  },
  {
   "cell_type": "code",
   "execution_count": 60,
   "metadata": {},
   "outputs": [
    {
     "name": "stdout",
     "output_type": "stream",
     "text": [
      "The value of a and new is 56.89 Kumar\n"
     ]
    }
   ],
   "source": [
    "fp = 56.89; new = \"Kumar\"\n",
    "print(\"The value of a and new is\", fp,new)"
   ]
  },
  {
   "cell_type": "code",
   "execution_count": null,
   "metadata": {},
   "outputs": [],
   "source": []
  }
 ],
 "metadata": {
  "kernelspec": {
   "display_name": "Python 3 (ipykernel)",
   "language": "python",
   "name": "python3"
  },
  "language_info": {
   "codemirror_mode": {
    "name": "ipython",
    "version": 3
   },
   "file_extension": ".py",
   "mimetype": "text/x-python",
   "name": "python",
   "nbconvert_exporter": "python",
   "pygments_lexer": "ipython3",
   "version": "3.9.7"
  }
 },
 "nbformat": 4,
 "nbformat_minor": 2
}
