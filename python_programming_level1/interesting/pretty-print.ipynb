{
 "cells": [
  {
   "cell_type": "code",
   "execution_count": 35,
   "id": "5a021b8e",
   "metadata": {},
   "outputs": [
    {
     "name": "stdout",
     "output_type": "stream",
     "text": [
      "{'Name': 'Tuhsar Verma', 'Class': 'XII', 'Address': {'FLAT ': 1308, 'BLOCK ': 'A', 'LANE ': 2, 'CITY ': 'Lucknow'}}\n",
      "\n",
      "\n",
      "***With Pretty Print***\n",
      "-----------------------\n",
      "{'Address': {'BLOCK ': 'A',\n",
      "             'CITY ': 'Lucknow',\n",
      "             'FLAT ': 1308,\n",
      "             'LANE ': 2},\n",
      " 'Class': 'XII',\n",
      " 'Name': 'Tuhsar '\n",
      "         'Verma'}\n"
     ]
    }
   ],
   "source": [
    "import pprint\n",
    "\n",
    "student_dict = {'Name': 'Tuhsar Verma', 'Class': 'XII', \n",
    "     'Address': {'FLAT ':1308, 'BLOCK ':'A', 'LANE ':2, 'CITY ': 'Lucknow'}}\n",
    "\n",
    "print(student_dict)\n",
    "print(\"\\n\")\n",
    "print(\"***With Pretty Print***\")\n",
    "print(\"-----------------------\")\n",
    "pprint.pprint(student_dict,width=-1)"
   ]
  },
  {
   "cell_type": "code",
   "execution_count": 36,
   "id": "d3f9fd79",
   "metadata": {},
   "outputs": [
    {
     "name": "stdout",
     "output_type": "stream",
     "text": [
      "{ 'Dept': [ 'IT',\n",
      "            'Operations',\n",
      "            'IT',\n",
      "            'HR',\n",
      "            'Finance',\n",
      "            'IT',\n",
      "            'Operations',\n",
      "            'Finance'],\n",
      "  'Name': ['Rick', 'Dan', 'Michelle', 'Ryan', 'Gary', 'Nina', 'Simon', 'Guru'],\n",
      "  'Salary': ['623.3', '515.2', '611', '729', '843.25', '578', '632.8', '722.5'],\n",
      "  'StartDate': [ '1/1/2012',\n",
      "                 '9/23/2013',\n",
      "                 '11/15/2014',\n",
      "                 '5/11/2014',\n",
      "                 '3/27/2015',\n",
      "                 '5/21/2013',\n",
      "                 '7/30/2013',\n",
      "                 '6/17/2014']}\n"
     ]
    }
   ],
   "source": [
    "import pprint\n",
    "\n",
    "emp = {\"Name\":[\"Rick\",\"Dan\",\"Michelle\",\"Ryan\",\"Gary\",\"Nina\",\"Simon\",\"Guru\" ],\n",
    "   \"Salary\":[\"623.3\",\"515.2\",\"611\",\"729\",\"843.25\",\"578\",\"632.8\",\"722.5\" ],   \n",
    "   \"StartDate\":[ \"1/1/2012\",\"9/23/2013\",\"11/15/2014\",\"5/11/2014\",\"3/27/2015\",\"5/21/2013\",\n",
    "      \"7/30/2013\",\"6/17/2014\"],\n",
    "   \"Dept\":[ \"IT\",\"Operations\",\"IT\",\"HR\",\"Finance\",\"IT\",\"Operations\",\"Finance\"] }\n",
    "\n",
    "x= pprint.pformat(emp, indent=2)\n",
    "print(x)"
   ]
  },
  {
   "cell_type": "code",
   "execution_count": 37,
   "id": "e8cf8930",
   "metadata": {},
   "outputs": [],
   "source": [
    "import pprint\n",
    "\n",
    "new = [{'Name': 'Alice XXX', 'Age': 40, 'Points': [80, 20]}, \n",
    "     {'Name': 'Bob YYY', 'Age': 20, 'Points': [90, 10]},\n",
    "     {'Name': 'Charlie ZZZ', 'Age': 30, 'Points': [70, 30]}]"
   ]
  },
  {
   "cell_type": "code",
   "execution_count": 38,
   "id": "d1af7518",
   "metadata": {},
   "outputs": [
    {
     "name": "stdout",
     "output_type": "stream",
     "text": [
      "[{'Name': 'Alice XXX', 'Age': 40, 'Points': [80, 20]}, {'Name': 'Bob YYY', 'Age': 20, 'Points': [90, 10]}, {'Name': 'Charlie ZZZ', 'Age': 30, 'Points': [70, 30]}]\n"
     ]
    }
   ],
   "source": [
    "print(new)"
   ]
  },
  {
   "cell_type": "code",
   "execution_count": 39,
   "id": "2980dc54",
   "metadata": {},
   "outputs": [
    {
     "name": "stdout",
     "output_type": "stream",
     "text": [
      "[{'Age': 40, 'Name': 'Alice XXX', 'Points': [80, 20]},\n",
      " {'Age': 20, 'Name': 'Bob YYY', 'Points': [90, 10]},\n",
      " {'Age': 30, 'Name': 'Charlie ZZZ', 'Points': [70, 30]}]\n"
     ]
    }
   ],
   "source": [
    "pprint.pprint(new)"
   ]
  },
  {
   "cell_type": "code",
   "execution_count": 40,
   "id": "d9774373",
   "metadata": {},
   "outputs": [
    {
     "name": "stdout",
     "output_type": "stream",
     "text": [
      "[{'Age': 40,\n",
      "  'Name': 'Alice XXX',\n",
      "  'Points': [80, 20]},\n",
      " {'Age': 20,\n",
      "  'Name': 'Bob YYY',\n",
      "  'Points': [90, 10]},\n",
      " {'Age': 30,\n",
      "  'Name': 'Charlie ZZZ',\n",
      "  'Points': [70, 30]}]\n"
     ]
    }
   ],
   "source": [
    "pprint.pprint(new, width=40)"
   ]
  },
  {
   "cell_type": "code",
   "execution_count": null,
   "id": "7929685e",
   "metadata": {},
   "outputs": [],
   "source": [
    "pprint.pprint(new, width=200)"
   ]
  },
  {
   "cell_type": "code",
   "execution_count": 41,
   "id": "8217f125",
   "metadata": {},
   "outputs": [
    {
     "name": "stdout",
     "output_type": "stream",
     "text": [
      "[{'Age': 40, 'Name': 'Alice XXX', 'Points': [...]},\n",
      " {'Age': 20, 'Name': 'Bob YYY', 'Points': [...]},\n",
      " {'Age': 30, 'Name': 'Charlie ZZZ', 'Points': [...]}]\n"
     ]
    }
   ],
   "source": [
    "pprint.pprint(new, depth=2)"
   ]
  },
  {
   "cell_type": "code",
   "execution_count": 42,
   "id": "f84cba82",
   "metadata": {},
   "outputs": [
    {
     "name": "stdout",
     "output_type": "stream",
     "text": [
      "[{'Age': 40,\n",
      "  'Name': 'Alice XXX',\n",
      "  'Points': [...]},\n",
      " {'Age': 20,\n",
      "  'Name': 'Bob YYY',\n",
      "  'Points': [...]},\n",
      " {'Age': 30,\n",
      "  'Name': 'Charlie ZZZ',\n",
      "  'Points': [...]}]\n"
     ]
    }
   ],
   "source": [
    "pprint.pprint(new, depth=2, width=40)"
   ]
  },
  {
   "cell_type": "code",
   "execution_count": 43,
   "id": "683a73fb",
   "metadata": {},
   "outputs": [
    {
     "name": "stdout",
     "output_type": "stream",
     "text": [
      "[   {   'Age': 40,\n",
      "        'Name': 'Alice '\n",
      "                'XXX',\n",
      "        'Points': [   80,\n",
      "                      20]},\n",
      "    {   'Age': 20,\n",
      "        'Name': 'Bob '\n",
      "                'YYY',\n",
      "        'Points': [   90,\n",
      "                      10]},\n",
      "    {   'Age': 30,\n",
      "        'Name': 'Charlie '\n",
      "                'ZZZ',\n",
      "        'Points': [   70,\n",
      "                      30]}]\n"
     ]
    }
   ],
   "source": [
    "pprint.pprint(new, indent=4, width=4)"
   ]
  },
  {
   "cell_type": "code",
   "execution_count": null,
   "id": "823b146d",
   "metadata": {},
   "outputs": [],
   "source": [
    "l_long = [list(range(10)), list(range(100, 110))]\n",
    "\n",
    "print(l_long)\n",
    "\n",
    "pprint.pprint(l_long, width=40)"
   ]
  },
  {
   "cell_type": "code",
   "execution_count": null,
   "id": "62bc2bb7",
   "metadata": {},
   "outputs": [],
   "source": [
    "pprint.pprint(l_long, width=40, compact=True)"
   ]
  },
  {
   "cell_type": "code",
   "execution_count": 44,
   "id": "bc3082f2",
   "metadata": {},
   "outputs": [
    {
     "name": "stdout",
     "output_type": "stream",
     "text": [
      "[{'Name': 'Alice XXX', 'Age': 40, 'Points': [80, 20]}, {'Name': 'Bob YYY', 'Age': 20, 'Points': [90, 10]}, {'Name': 'Charlie ZZZ', 'Age': 30, 'Points': [70, 30]}]\n",
      "<class 'str'>\n"
     ]
    }
   ],
   "source": [
    "s_normal = str(new)\n",
    "print(s_normal)\n",
    "print(type(s_normal))"
   ]
  },
  {
   "cell_type": "code",
   "execution_count": 45,
   "id": "e4e76ef4",
   "metadata": {},
   "outputs": [
    {
     "name": "stdout",
     "output_type": "stream",
     "text": [
      "[{'Age': 40, 'Name': 'Alice XXX', 'Points': [80, 20]},\n",
      " {'Age': 20, 'Name': 'Bob YYY', 'Points': [90, 10]},\n",
      " {'Age': 30, 'Name': 'Charlie ZZZ', 'Points': [70, 30]}]\n"
     ]
    }
   ],
   "source": [
    "s_pp = pprint.pformat(new)\n",
    "print(s_pp)"
   ]
  },
  {
   "cell_type": "code",
   "execution_count": null,
   "id": "9b6e428b",
   "metadata": {},
   "outputs": [],
   "source": [
    "s_pp = pprint.pformat(new, depth=2, width=40, indent=2)\n",
    "print(s_pp)"
   ]
  },
  {
   "cell_type": "code",
   "execution_count": null,
   "id": "bf38fb34",
   "metadata": {},
   "outputs": [],
   "source": [
    "l_2d = [list(range(10)), list(range(10)), list(range(10))]\n",
    "print(l_2d)\n",
    "pprint.pprint(l_2d)"
   ]
  },
  {
   "cell_type": "code",
   "execution_count": null,
   "id": "6fb164ad",
   "metadata": {},
   "outputs": [],
   "source": [
    "l_2d = [[0, 1, 2], [3, 4, 5], [6, 7, 8]]\n",
    "print(l_2d)\n",
    "pprint.pprint(l_2d)"
   ]
  },
  {
   "cell_type": "code",
   "execution_count": null,
   "id": "a566078d",
   "metadata": {},
   "outputs": [],
   "source": [
    "pprint.pprint(l_2d, width=20)"
   ]
  },
  {
   "cell_type": "code",
   "execution_count": null,
   "id": "f0d8160c",
   "metadata": {},
   "outputs": [],
   "source": [
    "s = pprint.pformat(l_2d, width=20)\n",
    "print(s)"
   ]
  },
  {
   "cell_type": "code",
   "execution_count": null,
   "id": "89bc82ff",
   "metadata": {},
   "outputs": [],
   "source": []
  }
 ],
 "metadata": {
  "kernelspec": {
   "display_name": "Python 3 (ipykernel)",
   "language": "python",
   "name": "python3"
  },
  "language_info": {
   "codemirror_mode": {
    "name": "ipython",
    "version": 3
   },
   "file_extension": ".py",
   "mimetype": "text/x-python",
   "name": "python",
   "nbconvert_exporter": "python",
   "pygments_lexer": "ipython3",
   "version": "3.10.9"
  }
 },
 "nbformat": 4,
 "nbformat_minor": 5
}
