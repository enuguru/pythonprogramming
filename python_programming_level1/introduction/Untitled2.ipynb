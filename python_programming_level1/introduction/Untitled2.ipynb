{
 "cells": [
  {
   "cell_type": "code",
   "execution_count": null,
   "id": "e50dd967",
   "metadata": {},
   "outputs": [],
   "source": [
    "for num in range(20,31):\n",
    "    print(num,end=\" \")"
   ]
  },
  {
   "cell_type": "code",
   "execution_count": null,
   "id": "601e6dd8",
   "metadata": {},
   "outputs": [],
   "source": [
    "for num in range(20,31):\n",
    "    if num % 2 != 0:\n",
    "        print(num,end=\" \")"
   ]
  },
  {
   "cell_type": "code",
   "execution_count": null,
   "id": "d2044988",
   "metadata": {},
   "outputs": [],
   "source": [
    "for num in range(21,31,2):\n",
    "    print(num,end= \" \")"
   ]
  },
  {
   "cell_type": "code",
   "execution_count": null,
   "id": "88213c81",
   "metadata": {},
   "outputs": [],
   "source": [
    "for num in range(1,101):\n",
    "    if num % 7 == 0:\n",
    "        print(num,end= \" \")"
   ]
  },
  {
   "cell_type": "code",
   "execution_count": null,
   "id": "de07cd95",
   "metadata": {},
   "outputs": [],
   "source": [
    "for num in range(7,101,7):\n",
    "    print(num,end= \" \")"
   ]
  },
  {
   "cell_type": "code",
   "execution_count": null,
   "id": "7d18766f",
   "metadata": {},
   "outputs": [],
   "source": [
    "num = 1\n",
    "while(num < 101):\n",
    "    if num % 7 == 0:\n",
    "        print(num,end=\" \")\n",
    "    num = num + 1"
   ]
  },
  {
   "cell_type": "code",
   "execution_count": 23,
   "id": "3a2785d2",
   "metadata": {},
   "outputs": [
    {
     "name": "stdout",
     "output_type": "stream",
     "text": [
      "Give a number 101\n",
      "The given number is prime\n"
     ]
    }
   ],
   "source": [
    "#prime number\n",
    "val = int(input(\"Give a number \"))\n",
    "flag = 0\n",
    "for num in range(2,val):\n",
    "    if val % num == 0:\n",
    "        flag = 1\n",
    "        break\n",
    "if flag == 1:\n",
    "    print(\"The given number is not a prime\")\n",
    "else:\n",
    "    print(\"The given number is prime\")"
   ]
  },
  {
   "cell_type": "code",
   "execution_count": 26,
   "id": "4354871b",
   "metadata": {},
   "outputs": [
    {
     "name": "stdout",
     "output_type": "stream",
     "text": [
      "Give a number 100\n",
      "The given number is not a prime\n"
     ]
    }
   ],
   "source": [
    "#prime number\n",
    "val = int(input(\"Give a number \"))\n",
    "for num in range(2,val):\n",
    "    if val % num == 0:\n",
    "        print(\"The given number is not a prime\")\n",
    "        break\n",
    "else:\n",
    "    print(\"The given number is prime\")"
   ]
  },
  {
   "cell_type": "code",
   "execution_count": null,
   "id": "6ca8cdf2",
   "metadata": {},
   "outputs": [],
   "source": [
    "6 = 1+2+3 = 6\n",
    "28 = 1+2+4+7+14 = 28\n",
    "all perfect numbers from 1 to 10000\n"
   ]
  },
  {
   "cell_type": "code",
   "execution_count": 29,
   "id": "f922c368",
   "metadata": {},
   "outputs": [
    {
     "name": "stdout",
     "output_type": "stream",
     "text": [
      "6 28 496 8128 "
     ]
    }
   ],
   "source": [
    "for num in range(1,10001):\n",
    "    sum = 0\n",
    "    for val in range(1,num):\n",
    "        if num % val == 0:\n",
    "            sum = sum + val\n",
    "    if num == sum:\n",
    "        print(num, end=\" \")"
   ]
  },
  {
   "cell_type": "code",
   "execution_count": null,
   "id": "1904826c",
   "metadata": {},
   "outputs": [],
   "source": []
  }
 ],
 "metadata": {
  "kernelspec": {
   "display_name": "Python 3 (ipykernel)",
   "language": "python",
   "name": "python3"
  },
  "language_info": {
   "codemirror_mode": {
    "name": "ipython",
    "version": 3
   },
   "file_extension": ".py",
   "mimetype": "text/x-python",
   "name": "python",
   "nbconvert_exporter": "python",
   "pygments_lexer": "ipython3",
   "version": "3.9.7"
  }
 },
 "nbformat": 4,
 "nbformat_minor": 5
}
