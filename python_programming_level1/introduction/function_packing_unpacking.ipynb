{
 "cells": [
  {
   "cell_type": "markdown",
   "id": "ae274e1d",
   "metadata": {},
   "source": [
    "# variable argument lists"
   ]
  },
  {
   "cell_type": "markdown",
   "id": "934284bd",
   "metadata": {},
   "source": [
    "# tuple packing"
   ]
  },
  {
   "cell_type": "code",
   "execution_count": null,
   "id": "516b61f1",
   "metadata": {},
   "outputs": [],
   "source": [
    "# A Python program to show the application of packing \n",
    "# This function uses packing to find the sum of unknown number of arguments \n",
    "\n",
    "def findsum(*args):\n",
    "    #print(type(args))\n",
    "    xsum = 0\n",
    "    for index in range(0, len(args)):\n",
    "        xsum = xsum + args[index] \n",
    "    return xsum \n",
    "\n",
    "print(findsum(11, 12, 13, 14, 15)) \n",
    "print(findsum(100, 300))\n",
    "print(findsum(200, 300, 400))"
   ]
  },
  {
   "cell_type": "markdown",
   "id": "0799de29",
   "metadata": {},
   "source": [
    "# dictionary packing"
   ]
  },
  {
   "cell_type": "code",
   "execution_count": 2,
   "id": "648e62d8",
   "metadata": {},
   "outputs": [
    {
     "name": "stdout",
     "output_type": "stream",
     "text": [
      "<class 'dict'>\n",
      "The value of my_name is Karthik\n",
      "The value of your_name is Jatin\n",
      "The value of her_name is Vandana\n",
      "The value of other_name is Ashok Kumar\n",
      "{'my_name': 'Karthik', 'your_name': 'Jatin', 'her_name': 'Vandana', 'other_name': 'Ashok Kumar'}\n"
     ]
    }
   ],
   "source": [
    "def print_values(**dargs):\n",
    "    print(type(dargs))\n",
    "    for key, value in dargs.items():\n",
    "        print(\"The value of {} is {}\".format(key, value))\n",
    "    print(dargs)\n",
    "\n",
    "print_values(my_name=\"Karthik\", your_name=\"Jatin\", her_name=\"Vandana\", other_name=\"Ashok Kumar\")"
   ]
  },
  {
   "cell_type": "code",
   "execution_count": 3,
   "id": "99217360",
   "metadata": {},
   "outputs": [
    {
     "name": "stdout",
     "output_type": "stream",
     "text": [
      "<class 'dict'>\n",
      "HP = 134 Microsoft = 209 Apple = 220 <class 'dict'>\n",
      "HP = 134 Microsoft = 209 Apple = 220 Google = 170 Oracle = 110 "
     ]
    }
   ],
   "source": [
    "# A Python program to show packing of dictionary items using ** \n",
    "def fun(**dargs): \n",
    "    print(type(dargs),end=\"\\n\")\n",
    "    for key in dargs: \n",
    "        print(\"%s = %s\" % (key, dargs[key]), end=\" \")\n",
    "  \n",
    "fun(HP=134, Microsoft=209, Apple=220)\n",
    "fun(HP=134, Microsoft=209, Apple=220,Google=170,Oracle=110)"
   ]
  },
  {
   "cell_type": "code",
   "execution_count": null,
   "id": "242f06df",
   "metadata": {},
   "outputs": [],
   "source": [
    "# Unpacking on LHS of assignments\n",
    "# The special syntax *args in function definitions in python is used to pass a \n",
    "# variable number of arguments to a function. It is used to pass a non-keyworded, variable-length argument list\n",
    "\n",
    "def dothis(*args, **kwargs):\n",
    "    print(args,kwargs)\n",
    "    \n",
    "dothis(45, 45, 99, a=1, b=2, c=3)"
   ]
  },
  {
   "cell_type": "code",
   "execution_count": null,
   "id": "35a8183c",
   "metadata": {},
   "outputs": [],
   "source": [
    "def dothis(**kwargs, *args):\n",
    "    print(args,kwargs)\n",
    "    \n",
    "dothis(a=1, b=2, c=3, 45, 45, 99)"
   ]
  },
  {
   "cell_type": "code",
   "execution_count": null,
   "id": "632e47c1",
   "metadata": {},
   "outputs": [],
   "source": [
    "# Unpacking on LHS of assignments\n",
    "# The special syntax *args in function definitions in python is used to pass a \n",
    "# variable number of arguments to a function. It is used to pass a non-keyworded, variable-length argument list\n",
    "\n",
    "def dothis(*args, **kwargs):\n",
    "    print(args, kwargs)\n",
    "    \n",
    "dothis(a=1, b=2, c=3)"
   ]
  },
  {
   "cell_type": "code",
   "execution_count": null,
   "id": "8c3de5c1",
   "metadata": {},
   "outputs": [],
   "source": [
    "\n",
    "def dothis(*args, **kwargs):\n",
    "    print(args, kwargs)\n",
    "    \n",
    "dothis(a=1, b=2, c=3)"
   ]
  },
  {
   "cell_type": "code",
   "execution_count": null,
   "id": "a8dbcc46",
   "metadata": {},
   "outputs": [],
   "source": [
    "# Unpacking on LHS of assignments\n",
    "# The special syntax *args in function definitions in python is used to pass a \n",
    "# variable number of arguments to a function. It is used to pass a non-keyworded, variable-length argument list\n",
    "\n",
    "def dothis(*args, **kwargs):\n",
    "    print(args, kwargs)\n",
    "    \n",
    "dothis(45, 67, 99)"
   ]
  },
  {
   "cell_type": "markdown",
   "id": "976eeab3",
   "metadata": {},
   "source": [
    "# tuple unpacking"
   ]
  },
  {
   "cell_type": "code",
   "execution_count": 6,
   "id": "115de0c5",
   "metadata": {},
   "outputs": [
    {
     "name": "stdout",
     "output_type": "stream",
     "text": [
      "121 484 961 1600\n"
     ]
    }
   ],
   "source": [
    "# A  function to show tuple unpacking \n",
    "def newfun(a,b,c,d):\n",
    "    print(a*a, b*b, c*c, d*d) \n",
    "\n",
    "goodlist = [11, 22, 31, 40] \n",
    "  \n",
    "# Unpacking list into four arguments \n",
    "newfun(*goodlist) "
   ]
  },
  {
   "cell_type": "code",
   "execution_count": null,
   "id": "1cc0a171",
   "metadata": {},
   "outputs": [],
   "source": [
    "# A  function to show tuple unpacking \n",
    "def newfun(*args):\n",
    "    for x in range(0,len(args)):\n",
    "        print(args[x], end = \" \")\n",
    "    #print(a*a, b*b, c*c, d*d) \n",
    "\n",
    "goodlist = [11, 22, 31, 40] \n",
    "  \n",
    "# Unpacking list into four arguments \n",
    "newfun(*goodlist) "
   ]
  },
  {
   "cell_type": "code",
   "execution_count": null,
   "id": "eacb1ae1",
   "metadata": {},
   "outputs": [],
   "source": [
    "# A  function to show tuple unpacking \n",
    "def newfun(a, b, c, d):\n",
    "    print(a*a, b*b, c*c, d*d) \n",
    "\n",
    "goodlist = [1, 2, 3, 4] \n",
    "  \n",
    "# Unpacking list into four arguments \n",
    "newfun(*goodlist) "
   ]
  },
  {
   "cell_type": "markdown",
   "id": "04d4d37e",
   "metadata": {},
   "source": [
    "# dictionary unpacking"
   ]
  },
  {
   "cell_type": "code",
   "execution_count": 7,
   "id": "f5d6e74f",
   "metadata": {},
   "outputs": [
    {
     "name": "stdout",
     "output_type": "stream",
     "text": [
      "Kiran  is a  male  of year  2001\n"
     ]
    }
   ],
   "source": [
    "def newfun(name, gender, year):\n",
    "    print (name,\" is a \", gender, \" of year \", year)\n",
    "\n",
    "\n",
    "mydict = {'name': \"Kiran\", 'gender': \"male\", 'year': \"2001\"}\n",
    "\n",
    "newfun(**mydict)"
   ]
  },
  {
   "cell_type": "code",
   "execution_count": null,
   "id": "2add233f",
   "metadata": {},
   "outputs": [],
   "source": []
  }
 ],
 "metadata": {
  "kernelspec": {
   "display_name": "Python 3 (ipykernel)",
   "language": "python",
   "name": "python3"
  },
  "language_info": {
   "codemirror_mode": {
    "name": "ipython",
    "version": 3
   },
   "file_extension": ".py",
   "mimetype": "text/x-python",
   "name": "python",
   "nbconvert_exporter": "python",
   "pygments_lexer": "ipython3",
   "version": "3.9.13"
  }
 },
 "nbformat": 4,
 "nbformat_minor": 5
}
