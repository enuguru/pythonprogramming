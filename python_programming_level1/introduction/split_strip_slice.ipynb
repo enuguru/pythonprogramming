{
 "cells": [
  {
   "cell_type": "code",
   "execution_count": 9,
   "metadata": {},
   "outputs": [
    {
     "name": "stdout",
     "output_type": "stream",
     "text": [
      "[30, 29, 28, 27, 26, 25, 24, 23, 22, 21]\n"
     ]
    }
   ],
   "source": [
    "#i// first number is starting number\n",
    "#// second number is ending\n",
    "#// third number is step\n",
    "\n",
    "numbers = [21, 22, 23, 24, 25, 26, 27, 28, 29, 30]\n",
    "#print(numbers)\n",
    "#print(numbers[7:2:-1])\n",
    "#print(numbers[::-1])\n",
    "#print(numbers[3:10:2])\n",
    "#print(numbers[3:9])\n",
    "#print(numbers[3:9:2])\n",
    "#print(numbers[-5:-11:-1])\n",
    "#print(numbers[-7:-2:1])\n",
    "#print(numbers[-5:10:1])\n",
    "#print(numbers[5:9:1])\n",
    "#print(numbers[-7:9:2])\n",
    "#print(numbers[5::1])\n",
    "#print(numbers[0::])\n",
    "print(numbers[-1::-1])"
   ]
  },
  {
   "cell_type": "code",
   "execution_count": 11,
   "metadata": {},
   "outputs": [
    {
     "name": "stdout",
     "output_type": "stream",
     "text": [
      "RaviKumar\n",
      "ramuKivaR\n",
      "The given string is a palindrome\n"
     ]
    }
   ],
   "source": [
    "name = \"RaviKumar\"\n",
    "print(name)\n",
    "print(name[::-1])\n",
    "mystr = \"madam\"\n",
    "if mystr == mystr[::-1]:\n",
    "    print(\"The given string is a palindrome\")\n",
    "else:\n",
    "    print(\"The given string is not palindrome\")"
   ]
  },
  {
   "cell_type": "code",
   "execution_count": null,
   "metadata": {},
   "outputs": [],
   "source": [
    "# Input string.\n",
    "s = \"topeka kansas city wichita olathe\"\n",
    "# Separate on comma.\n",
    "cities = s.split();\n",
    "# Loop and print each city name.\n",
    "print(cities)\n",
    "for city in cities:\n",
    "    print(city, end = \" \");"
   ]
  },
  {
   "cell_type": "code",
   "execution_count": null,
   "metadata": {},
   "outputs": [],
   "source": [
    "str = \"0000000this is string example....wow!!!0000000\";\n",
    "print(str.strip( '0' ))"
   ]
  },
  {
   "cell_type": "code",
   "execution_count": null,
   "metadata": {},
   "outputs": [],
   "source": [
    "# Has numbers on left and right, and some syntax.\n",
    "value = \"50342=Data,231Data\"\n",
    "\n",
    "# Strip all digits.\n",
    "# ... Also remove equals sign and comma.\n",
    "#result = value.strip(\"0123456789=,\")\n",
    "result = value.strip(\"Data\")\n",
    "print(result)"
   ]
  },
  {
   "cell_type": "code",
   "execution_count": null,
   "metadata": {},
   "outputs": [],
   "source": [
    "i = 34;\n",
    "print(i)\n",
    "\n",
    "# Data.\n",
    "s = \"\"\"This string\n",
    "has many\n",
    "characters and many\n",
    "lines.\"\"\"\n",
    "\n",
    "# Split on line breaks.\n",
    "lines = s.splitlines()\n",
    "print(lines)\n",
    "\n",
    "# Loop and display each line.\n",
    "for line in lines:\n",
    "    print(\"[\" +  line + \"]\")"
   ]
  },
  {
   "cell_type": "code",
   "execution_count": null,
   "metadata": {},
   "outputs": [],
   "source": [
    "numbers = \"100.200.50\"\n",
    "\n",
    "# Split apart the numbers.\n",
    "myvalues = numbers.split(\".\")\n",
    "print(myvalues)\n",
    "# Loop over strings and convert them to integers.\n",
    "# ... Then sum them.\n",
    "total = 0\n",
    "for var in myvalues:\n",
    "    print(var,end=\" \")\n",
    "print()\n",
    "for var in myvalues:\n",
    "    total = total + int(var)\n",
    "print(total)"
   ]
  },
  {
   "cell_type": "code",
   "execution_count": null,
   "metadata": {},
   "outputs": [],
   "source": [
    "for num in range(10,21):\n",
    "    print(num * num, end = \" \")"
   ]
  },
  {
   "cell_type": "code",
   "execution_count": null,
   "metadata": {},
   "outputs": [],
   "source": [
    "#Write a program to print all the perfect squares\n",
    "#Write a program to find the roots of the quadratic equation with a = 10, b = 6 and c = 20\n",
    "#find the distance between two points whose coordinates are (10,5,7), (20,9,6) \n",
    "\n",
    "#square root of (x2-x1)^2 + (y2-y1)^2 + (z2-z1)^2"
   ]
  },
  {
   "cell_type": "code",
   "execution_count": null,
   "metadata": {},
   "outputs": [],
   "source": [
    "Rav567#.iTej343a\n",
    "RaviTeja"
   ]
  },
  {
   "cell_type": "code",
   "execution_count": null,
   "metadata": {},
   "outputs": [],
   "source": [
    "str = \"    0000000this is string example....wow!!!0000000  \";\n",
    "print(str.strip())"
   ]
  },
  {
   "cell_type": "code",
   "execution_count": null,
   "metadata": {},
   "outputs": [],
   "source": [
    "newstring = \"universe\"\n",
    "print(newstring[::-1])"
   ]
  },
  {
   "cell_type": "code",
   "execution_count": null,
   "metadata": {},
   "outputs": [],
   "source": []
  }
 ],
 "metadata": {
  "kernelspec": {
   "display_name": "Python 3 (ipykernel)",
   "language": "python",
   "name": "python3"
  },
  "language_info": {
   "codemirror_mode": {
    "name": "ipython",
    "version": 3
   },
   "file_extension": ".py",
   "mimetype": "text/x-python",
   "name": "python",
   "nbconvert_exporter": "python",
   "pygments_lexer": "ipython3",
   "version": "3.9.13"
  }
 },
 "nbformat": 4,
 "nbformat_minor": 4
}
