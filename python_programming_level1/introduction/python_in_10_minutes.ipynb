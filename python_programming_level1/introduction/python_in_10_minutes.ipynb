{
 "cells": [
  {
   "cell_type": "markdown",
   "id": "0f8408fb",
   "metadata": {},
   "source": [
    "# python in 10 minutes"
   ]
  },
  {
   "cell_type": "markdown",
   "id": "4e312bbc",
   "metadata": {},
   "source": [
    "# python dynamic typing"
   ]
  },
  {
   "cell_type": "code",
   "execution_count": 66,
   "id": "37173349",
   "metadata": {},
   "outputs": [
    {
     "name": "stdout",
     "output_type": "stream",
     "text": [
      "10\n",
      "<class 'int'>\n"
     ]
    }
   ],
   "source": [
    "newint = 10\n",
    "print(newint)\n",
    "print(type(newint))"
   ]
  },
  {
   "cell_type": "code",
   "execution_count": 67,
   "id": "443e3660",
   "metadata": {},
   "outputs": [
    {
     "name": "stdout",
     "output_type": "stream",
     "text": [
      "sunshine\n",
      "<class 'str'>\n"
     ]
    }
   ],
   "source": [
    "newint = \"sunshine\"\n",
    "print(newint)\n",
    "print(type(newint))"
   ]
  },
  {
   "cell_type": "code",
   "execution_count": 68,
   "id": "3e76411a",
   "metadata": {},
   "outputs": [
    {
     "name": "stdout",
     "output_type": "stream",
     "text": [
      "34.45\n"
     ]
    }
   ],
   "source": [
    "newfloat = 34.45\n",
    "print(newfloat)"
   ]
  },
  {
   "cell_type": "code",
   "execution_count": 69,
   "id": "e3d1a3c7",
   "metadata": {},
   "outputs": [
    {
     "name": "stdout",
     "output_type": "stream",
     "text": [
      "p\n"
     ]
    }
   ],
   "source": [
    "newchar = 'p'\n",
    "print(newchar)"
   ]
  },
  {
   "cell_type": "code",
   "execution_count": 72,
   "id": "f9887af2",
   "metadata": {},
   "outputs": [
    {
     "name": "stdout",
     "output_type": "stream",
     "text": [
      "The string is  Hello friends\n"
     ]
    }
   ],
   "source": [
    "newstring = 'Hello friends'\n",
    "print(\"The string is \", newstring)"
   ]
  },
  {
   "cell_type": "markdown",
   "id": "03df47e9",
   "metadata": {},
   "source": [
    "# input and output statement"
   ]
  },
  {
   "cell_type": "code",
   "execution_count": 73,
   "id": "3f271c8c",
   "metadata": {},
   "outputs": [
    {
     "name": "stdout",
     "output_type": "stream",
     "text": [
      "Give a value  45\n",
      "<class 'str'>\n",
      "45\n"
     ]
    }
   ],
   "source": [
    "val = input(\"Give a value  \")\n",
    "print(type(val))\n",
    "print(val)"
   ]
  },
  {
   "cell_type": "code",
   "execution_count": 74,
   "id": "f06b12cc",
   "metadata": {},
   "outputs": [
    {
     "name": "stdout",
     "output_type": "stream",
     "text": [
      "Give your name  Karthik\n",
      "Karthik\n"
     ]
    }
   ],
   "source": [
    "name = input(\"Give your name  \")\n",
    "print(name)"
   ]
  },
  {
   "cell_type": "markdown",
   "id": "0c678286",
   "metadata": {},
   "source": [
    "# python collection data types"
   ]
  },
  {
   "cell_type": "markdown",
   "id": "5dbc604f",
   "metadata": {},
   "source": [
    "# list"
   ]
  },
  {
   "cell_type": "code",
   "execution_count": 41,
   "id": "3f2f8c46",
   "metadata": {},
   "outputs": [
    {
     "name": "stdout",
     "output_type": "stream",
     "text": [
      "[23, 45, 67, 78, 99, 99]\n"
     ]
    }
   ],
   "source": [
    "newlist = [23,45,67,78,99,99]\n",
    "print(newlist)"
   ]
  },
  {
   "cell_type": "code",
   "execution_count": 75,
   "id": "972b3f77",
   "metadata": {},
   "outputs": [
    {
     "name": "stdout",
     "output_type": "stream",
     "text": [
      "[23, 45, 67, 78, 99, 99, 33]\n"
     ]
    }
   ],
   "source": [
    "newlist.append(33)\n",
    "print(newlist)"
   ]
  },
  {
   "cell_type": "code",
   "execution_count": null,
   "id": "8ef01557",
   "metadata": {},
   "outputs": [],
   "source": [
    "newlist."
   ]
  },
  {
   "cell_type": "code",
   "execution_count": 76,
   "id": "b63a4ebf",
   "metadata": {},
   "outputs": [
    {
     "name": "stdout",
     "output_type": "stream",
     "text": [
      "[23, 45, 67, 78, 99, 99, 33]\n",
      "[23, 67, 99]\n",
      "[33, 99, 99, 78, 67, 45, 23]\n"
     ]
    }
   ],
   "source": [
    "print(newlist[0:7])\n",
    "print(newlist[0:5:2])\n",
    "print(newlist[::-1])"
   ]
  },
  {
   "cell_type": "markdown",
   "id": "493b5ba5",
   "metadata": {},
   "source": [
    "# dictionary"
   ]
  },
  {
   "cell_type": "code",
   "execution_count": 78,
   "id": "1a6fd243",
   "metadata": {},
   "outputs": [
    {
     "name": "stdout",
     "output_type": "stream",
     "text": [
      "{'Student': 'Karthik', 45: 'Ramesh', 67: 'Vandana', 78: 'Faisal', 'Andy': 99}\n"
     ]
    }
   ],
   "source": [
    "gooddict = {\"Student\":\"Karthik\",45:\"Ramesh\",67:\"Vandana\",78:\"Faisal\",\"Andy\": 99}\n",
    "print(gooddict)"
   ]
  },
  {
   "cell_type": "code",
   "execution_count": null,
   "id": "ef9c32c6",
   "metadata": {},
   "outputs": [],
   "source": []
  },
  {
   "cell_type": "code",
   "execution_count": 80,
   "id": "e2e6fce3",
   "metadata": {},
   "outputs": [
    {
     "name": "stdout",
     "output_type": "stream",
     "text": [
      "Student 45 67 78 Andy "
     ]
    }
   ],
   "source": [
    "for key in gooddict:\n",
    "    print(key, end=\" \")"
   ]
  },
  {
   "cell_type": "code",
   "execution_count": 81,
   "id": "d944a96b",
   "metadata": {},
   "outputs": [
    {
     "name": "stdout",
     "output_type": "stream",
     "text": [
      "Student Karthik   45 Ramesh   67 Vandana   78 Faisal   Andy 99   "
     ]
    }
   ],
   "source": [
    "for key, value in gooddict.items():\n",
    "    print(key,value,end=\"   \")"
   ]
  },
  {
   "cell_type": "markdown",
   "id": "213c8cec",
   "metadata": {},
   "source": [
    "# tuple"
   ]
  },
  {
   "cell_type": "code",
   "execution_count": 82,
   "id": "8c441a92",
   "metadata": {},
   "outputs": [
    {
     "name": "stdout",
     "output_type": "stream",
     "text": [
      "(23, 45, 67, 78, 99, 99)\n"
     ]
    }
   ],
   "source": [
    "newtuple = (23,45,67,78,99,99)\n",
    "print(newtuple)"
   ]
  },
  {
   "cell_type": "code",
   "execution_count": 83,
   "id": "b7b12241",
   "metadata": {},
   "outputs": [
    {
     "data": {
      "text/plain": [
       "2"
      ]
     },
     "execution_count": 83,
     "metadata": {},
     "output_type": "execute_result"
    }
   ],
   "source": [
    "newtuple.count(99)"
   ]
  },
  {
   "cell_type": "code",
   "execution_count": 18,
   "id": "a41c7b38",
   "metadata": {},
   "outputs": [
    {
     "name": "stdout",
     "output_type": "stream",
     "text": [
      "67\n"
     ]
    }
   ],
   "source": [
    "print(newtuple[2])"
   ]
  },
  {
   "cell_type": "markdown",
   "id": "0d66b3b6",
   "metadata": {},
   "source": [
    "# set"
   ]
  },
  {
   "cell_type": "code",
   "execution_count": 84,
   "id": "bd342dcb",
   "metadata": {},
   "outputs": [
    {
     "name": "stdout",
     "output_type": "stream",
     "text": [
      "{67, 99, 23, 45, 78}\n"
     ]
    }
   ],
   "source": [
    "goodset = {23, 45, 67, 78, 99, 78}\n",
    "print(goodset)"
   ]
  },
  {
   "cell_type": "code",
   "execution_count": 86,
   "id": "17fe59e9",
   "metadata": {},
   "outputs": [
    {
     "data": {
      "text/plain": [
       "{23, 45, 67, 78, 99}"
      ]
     },
     "execution_count": 86,
     "metadata": {},
     "output_type": "execute_result"
    }
   ],
   "source": [
    "goodset"
   ]
  },
  {
   "cell_type": "code",
   "execution_count": 23,
   "id": "85e920e1",
   "metadata": {},
   "outputs": [
    {
     "ename": "TypeError",
     "evalue": "'set' object is not subscriptable",
     "output_type": "error",
     "traceback": [
      "\u001b[1;31m---------------------------------------------------------------------------\u001b[0m",
      "\u001b[1;31mTypeError\u001b[0m                                 Traceback (most recent call last)",
      "\u001b[1;32m~\\AppData\\Local\\Temp/ipykernel_10372/4011522887.py\u001b[0m in \u001b[0;36m<module>\u001b[1;34m\u001b[0m\n\u001b[1;32m----> 1\u001b[1;33m \u001b[0mprint\u001b[0m\u001b[1;33m(\u001b[0m\u001b[0mgoodset\u001b[0m\u001b[1;33m[\u001b[0m\u001b[1;36m2\u001b[0m\u001b[1;33m]\u001b[0m\u001b[1;33m)\u001b[0m\u001b[1;33m\u001b[0m\u001b[1;33m\u001b[0m\u001b[0m\n\u001b[0m",
      "\u001b[1;31mTypeError\u001b[0m: 'set' object is not subscriptable"
     ]
    }
   ],
   "source": [
    "print(goodset[2])"
   ]
  },
  {
   "cell_type": "markdown",
   "id": "48c1ad49",
   "metadata": {},
   "source": [
    "# conditional statement - if and else"
   ]
  },
  {
   "cell_type": "code",
   "execution_count": 87,
   "id": "8f3993e5",
   "metadata": {},
   "outputs": [
    {
     "name": "stdout",
     "output_type": "stream",
     "text": [
      "Success\n"
     ]
    }
   ],
   "source": [
    "newlist = [\"banana\", \"apple\", \"pear\", \"orange\", \"pomogranite\", \"muskmelon\", \"blackberry\"]\n",
    "\n",
    "if \"banana\" in newlist:\n",
    "    print(\"Success\")\n",
    "else:\n",
    "    print(\"Not Present\")"
   ]
  },
  {
   "cell_type": "code",
   "execution_count": 88,
   "id": "cb6934bf",
   "metadata": {},
   "outputs": [
    {
     "name": "stdout",
     "output_type": "stream",
     "text": [
      "True\n"
     ]
    }
   ],
   "source": [
    "if (5>2):\n",
    "    print(\"True\")\n",
    "else:\n",
    "    print(\"False\")"
   ]
  },
  {
   "cell_type": "markdown",
   "id": "605f2412",
   "metadata": {},
   "source": [
    "# for loop"
   ]
  },
  {
   "cell_type": "code",
   "execution_count": 89,
   "id": "828ce185",
   "metadata": {},
   "outputs": [
    {
     "name": "stdout",
     "output_type": "stream",
     "text": [
      "banana apple pear orange pomogranite muskmelon blackberry "
     ]
    }
   ],
   "source": [
    "newlist = [\"banana\", \"apple\", \"pear\", \"orange\", \"pomogranite\", \"muskmelon\", \"blackberry\"]\n",
    "for fruit in newlist:\n",
    "    print(fruit,end=\" \")"
   ]
  },
  {
   "cell_type": "code",
   "execution_count": 90,
   "id": "0b73f7ec",
   "metadata": {},
   "outputs": [
    {
     "name": "stdout",
     "output_type": "stream",
     "text": [
      "0 1 2 3 4 5 "
     ]
    }
   ],
   "source": [
    "for var in range(0,6):\n",
    "    print(var,end=\" \")"
   ]
  },
  {
   "cell_type": "markdown",
   "id": "bc0a159e",
   "metadata": {},
   "source": [
    "# while loop"
   ]
  },
  {
   "cell_type": "code",
   "execution_count": 91,
   "id": "d134d935",
   "metadata": {},
   "outputs": [
    {
     "name": "stdout",
     "output_type": "stream",
     "text": [
      "23 67 44 2 15 66 "
     ]
    }
   ],
   "source": [
    "# Access every 2nd element in a list\n",
    "newlist = [23, 45, 67, 87, 44, 33, 2, 11, 15, 99, 66]\n",
    "index = 0\n",
    "while index < len(newlist):\n",
    "    print(newlist[index], end = \" \")\n",
    "    index = index + 2"
   ]
  },
  {
   "cell_type": "markdown",
   "id": "fa0968e7",
   "metadata": {},
   "source": [
    "# functions in python"
   ]
  },
  {
   "cell_type": "code",
   "execution_count": 92,
   "id": "faf7e0ee",
   "metadata": {},
   "outputs": [
    {
     "name": "stdout",
     "output_type": "stream",
     "text": [
      "11 13 15 17 19 21 23 25 27 29 "
     ]
    }
   ],
   "source": [
    "def print_oddnumbers():\n",
    "    for val in range(11,31,2):\n",
    "        print(val, end = \" \")\n",
    "        \n",
    "print_oddnumbers()"
   ]
  },
  {
   "cell_type": "code",
   "execution_count": 93,
   "id": "7560cb76",
   "metadata": {},
   "outputs": [
    {
     "name": "stdout",
     "output_type": "stream",
     "text": [
      "45\n",
      "15\n",
      "75\n"
     ]
    }
   ],
   "source": [
    "# Python program showing the use of default arguments\n",
    "\n",
    "def findarea(width=15, height=3):\n",
    "    return width * height\n",
    "\n",
    "print(findarea()) # 15, 3: defaults used.\n",
    "print(findarea(5)) # 5, 3: default height.\n",
    "print(findarea(height=5)) # 15, 5: default width"
   ]
  },
  {
   "cell_type": "code",
   "execution_count": 94,
   "id": "688e7882",
   "metadata": {},
   "outputs": [
    {
     "name": "stdout",
     "output_type": "stream",
     "text": [
      "200\n"
     ]
    }
   ],
   "source": [
    "def findoddsum():\n",
    "    total = 0\n",
    "    for val in range(11,31,2):\n",
    "        total = total + val\n",
    "    return total\n",
    "        \n",
    "val = findoddsum()\n",
    "print(val)"
   ]
  },
  {
   "cell_type": "code",
   "execution_count": null,
   "id": "b65bcaae",
   "metadata": {},
   "outputs": [],
   "source": []
  }
 ],
 "metadata": {
  "kernelspec": {
   "display_name": "Python 3 (ipykernel)",
   "language": "python",
   "name": "python3"
  },
  "language_info": {
   "codemirror_mode": {
    "name": "ipython",
    "version": 3
   },
   "file_extension": ".py",
   "mimetype": "text/x-python",
   "name": "python",
   "nbconvert_exporter": "python",
   "pygments_lexer": "ipython3",
   "version": "3.9.7"
  }
 },
 "nbformat": 4,
 "nbformat_minor": 5
}
