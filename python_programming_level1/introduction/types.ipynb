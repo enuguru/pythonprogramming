{
 "cells": [
  {
   "cell_type": "code",
   "execution_count": 115,
   "id": "5a4fb905",
   "metadata": {},
   "outputs": [
    {
     "name": "stdout",
     "output_type": "stream",
     "text": [
      "True\n",
      "<class 'bool'>\n",
      "<class 'bool'>\n",
      "<class 'bool'>\n"
     ]
    }
   ],
   "source": [
    "x = True\n",
    "print(x)\n",
    "print(type(x))\n",
    "print(type(False))\n",
    "print(type(True))"
   ]
  },
  {
   "cell_type": "code",
   "execution_count": 31,
   "id": "7eb02bb7",
   "metadata": {},
   "outputs": [
    {
     "name": "stdout",
     "output_type": "stream",
     "text": [
      "<class 'int'>\n"
     ]
    }
   ],
   "source": [
    "print(type(10))"
   ]
  },
  {
   "cell_type": "code",
   "execution_count": 51,
   "id": "94caba6d",
   "metadata": {},
   "outputs": [
    {
     "name": "stdout",
     "output_type": "stream",
     "text": [
      "<class 'int'>\n",
      "<class 'float'>\n",
      "<class 'str'>\n",
      "<class 'str'>\n"
     ]
    }
   ],
   "source": [
    "x = 20\n",
    "print(type(x))\n",
    "y = 23.45\n",
    "print(type(y))\n",
    "z = \"nuanced\"\n",
    "print(type(z))\n",
    "k = 't'\n",
    "print(type(k))"
   ]
  },
  {
   "cell_type": "code",
   "execution_count": 39,
   "id": "95b579c8",
   "metadata": {},
   "outputs": [
    {
     "name": "stdout",
     "output_type": "stream",
     "text": [
      "<class 'list'>\n",
      "<class 'dict'>\n",
      "<class 'str'>\n",
      "<class 'tuple'>\n",
      "<class 'set'>\n"
     ]
    }
   ],
   "source": [
    "print(type([]))\n",
    "print(type({}))\n",
    "print(type(\"\"\"\"\"\"))\n",
    "print(type(()))\n",
    "x=set()\n",
    "print(type(x))"
   ]
  },
  {
   "cell_type": "code",
   "execution_count": 53,
   "id": "e1e150c7",
   "metadata": {},
   "outputs": [
    {
     "name": "stdout",
     "output_type": "stream",
     "text": [
      "range(0, 10)\n",
      "<class 'range'>\n",
      "0 1 2 3 4 5 6 7 8 9 "
     ]
    }
   ],
   "source": [
    "x = range(10)\n",
    "print(x)\n",
    "print(type(x))\n",
    "for num in x:\n",
    "    print(num, end=\" \")"
   ]
  },
  {
   "cell_type": "code",
   "execution_count": 122,
   "id": "3753c85f",
   "metadata": {},
   "outputs": [
    {
     "name": "stdout",
     "output_type": "stream",
     "text": [
      "<class 'builtin_function_or_method'>\n"
     ]
    }
   ],
   "source": [
    "x = [2,4]\n",
    "print(type(x.append))"
   ]
  },
  {
   "cell_type": "code",
   "execution_count": 56,
   "id": "b755d72e",
   "metadata": {},
   "outputs": [
    {
     "name": "stdout",
     "output_type": "stream",
     "text": [
      "<class 'str'>\n",
      "<class 'str'>\n",
      "<class 'str'>\n"
     ]
    }
   ],
   "source": [
    "print(type(\"\"))\n",
    "print(type(\"\"\" \"\"\"))\n",
    "print(type(' '))"
   ]
  },
  {
   "cell_type": "code",
   "execution_count": 65,
   "id": "371cb91f",
   "metadata": {},
   "outputs": [
    {
     "name": "stdout",
     "output_type": "stream",
     "text": [
      "<class 'type'>\n",
      "<class '__main__.Sample'>\n"
     ]
    }
   ],
   "source": [
    "class Sample:\n",
    "     @classmethod\n",
    "     def newfunc(self):\n",
    "            pass\n",
    "     @staticmethod   \n",
    "     def thisfunc(self):\n",
    "            pass\n",
    "    \n",
    "     def __next__(self):\n",
    "            pass\n",
    "\n",
    "ins = Sample()\n",
    "print(type(Sample))\n",
    "print(type(ins))\n",
    "#print(type(c.__next__))\n",
    "#print(type(newfunc))\n",
    "#print(type(c.thisfunc))"
   ]
  },
  {
   "cell_type": "code",
   "execution_count": 45,
   "id": "b79f3c1f",
   "metadata": {},
   "outputs": [
    {
     "name": "stdout",
     "output_type": "stream",
     "text": [
      "True\n",
      "True\n",
      "<class '__main__.Test1'>\n",
      "<class '__main__.Test2'>\n"
     ]
    }
   ],
   "source": [
    "class Test1 ():\n",
    "    pass\n",
    "class Test2 (Test1):\n",
    "    pass\n",
    "a = Test1()\n",
    "b = Test2()\n",
    "print(type(a) is Test1)\n",
    "print(type(b) is Test2)\n",
    "print(type(a))\n",
    "print(type(b))"
   ]
  },
  {
   "cell_type": "code",
   "execution_count": 48,
   "id": "df4ff904",
   "metadata": {},
   "outputs": [
    {
     "name": "stdout",
     "output_type": "stream",
     "text": [
      "True\n",
      "True\n",
      "True\n",
      "False\n",
      "True\n",
      "True\n",
      "True\n"
     ]
    }
   ],
   "source": [
    "print(isinstance(a, Test1))\n",
    "print(isinstance(b, Test1))\n",
    "print(isinstance(a, Test1))\n",
    "print(isinstance(a, Test2))\n",
    "print(isinstance(b, Test2))\n",
    "print(isinstance([], list))\n",
    "print(isinstance({}, dict))"
   ]
  },
  {
   "cell_type": "code",
   "execution_count": 58,
   "id": "7c86b8c2",
   "metadata": {},
   "outputs": [
    {
     "name": "stdout",
     "output_type": "stream",
     "text": [
      "<class 'type'>\n",
      "<class '__main__.Sample'>\n"
     ]
    }
   ],
   "source": [
    "class Sample:\n",
    "    pass\n",
    "print(type(Sample))\n",
    "\n",
    "ins = Sample()\n",
    "print(type(ins))"
   ]
  },
  {
   "cell_type": "code",
   "execution_count": 67,
   "id": "398b5b50",
   "metadata": {},
   "outputs": [
    {
     "name": "stdout",
     "output_type": "stream",
     "text": [
      "Equal\n",
      "<class 'function'>\n"
     ]
    }
   ],
   "source": [
    "class Dates:\n",
    "    def __init__(self, date):\n",
    "        self.date = date\n",
    "        \n",
    "    def getDate(self):\n",
    "        return self.date\n",
    "\n",
    "    @staticmethod\n",
    "    def toDashDate(date):\n",
    "        return date.replace(\"/\", \"-\")\n",
    "\n",
    "date = Dates(\"15-12-2016\")\n",
    "dateFromDB = \"15/12/2016\"\n",
    "dateWithDash = Dates.toDashDate(dateFromDB)\n",
    "\n",
    "if(date.getDate() == dateWithDash):\n",
    "    print(\"Equal\")\n",
    "else:\n",
    "    print(\"Unequal\")\n",
    "\n",
    "print(type(Dates.toDashDate))"
   ]
  },
  {
   "cell_type": "code",
   "execution_count": 68,
   "id": "02ff0e97",
   "metadata": {},
   "outputs": [
    {
     "name": "stdout",
     "output_type": "stream",
     "text": [
      "2\n"
     ]
    }
   ],
   "source": [
    "class MyClass(object):\n",
    "    @staticmethod\n",
    "    def the_static_method(x):\n",
    "        print(x)\n",
    "\n",
    "MyClass.the_static_method(2)  # outputs 2"
   ]
  },
  {
   "cell_type": "code",
   "execution_count": 69,
   "id": "c8c02327",
   "metadata": {},
   "outputs": [],
   "source": [
    "class Date(object):\n",
    "    \n",
    "    def __init__(self, day=0, month=0, year=0):\n",
    "        self.day = day\n",
    "        self.month = month\n",
    "        self.year = year\n",
    "\n",
    "    @classmethod\n",
    "    def from_string(cls, date_as_string):\n",
    "        day, month, year = map(int, date_as_string.split('-'))\n",
    "        date1 = cls(day, month, year)\n",
    "        return date1\n",
    "\n",
    "    @staticmethod\n",
    "    def is_date_valid(date_as_string):\n",
    "        day, month, year = map(int, date_as_string.split('-'))\n",
    "        return day <= 31 and month <= 12 and year <= 3999\n",
    "\n",
    "date2 = Date.from_string('11-09-2012')\n",
    "is_date = Date.is_date_valid('11-09-2012')"
   ]
  },
  {
   "cell_type": "code",
   "execution_count": 72,
   "id": "df5aba9b",
   "metadata": {},
   "outputs": [
    {
     "name": "stdout",
     "output_type": "stream",
     "text": [
      "11 9 2012\n",
      "True\n"
     ]
    }
   ],
   "source": [
    "print(date2.day, date2.month, date2.year)\n",
    "print(is_date)"
   ]
  },
  {
   "cell_type": "code",
   "execution_count": 129,
   "id": "3093bac3",
   "metadata": {},
   "outputs": [
    {
     "name": "stdout",
     "output_type": "stream",
     "text": [
      "<class 'function'>\n",
      "<class 'function'>\n",
      "<class 'method'>\n"
     ]
    }
   ],
   "source": [
    "print(type(Date.__init__))\n",
    "print(type(Date.is_date_valid))\n",
    "print(type(Date.from_string))"
   ]
  },
  {
   "cell_type": "code",
   "execution_count": 85,
   "id": "0ee35c6a",
   "metadata": {},
   "outputs": [
    {
     "name": "stdout",
     "output_type": "stream",
     "text": [
      "bytearray(b'\\x00\\x00\\x00\\x00')\n",
      "<class 'bytearray'>\n"
     ]
    }
   ],
   "source": [
    "x = bytearray(4)\n",
    "print(x)\n",
    "print(type(x))"
   ]
  },
  {
   "cell_type": "code",
   "execution_count": 89,
   "id": "ff26a45a",
   "metadata": {},
   "outputs": [
    {
     "name": "stdout",
     "output_type": "stream",
     "text": [
      "b'\\x00\\x00\\x00\\x00'\n",
      "<class 'bytes'>\n"
     ]
    }
   ],
   "source": [
    "x = bytes(4)\n",
    "print(x)\n",
    "print(type(x))"
   ]
  },
  {
   "cell_type": "raw",
   "id": "2414fae0",
   "metadata": {},
   "source": [
    "# The difference between bytes() and bytearray() is that bytes() returns an object that cannot be modified, and bytearray() returns an object that can be modified."
   ]
  },
  {
   "cell_type": "code",
   "execution_count": 102,
   "id": "a28dfb82",
   "metadata": {},
   "outputs": [
    {
     "name": "stdout",
     "output_type": "stream",
     "text": [
      "<memory at 0x000002B2EABA9A00>\n",
      "72\n",
      "105\n",
      "<class 'memoryview'>\n"
     ]
    }
   ],
   "source": [
    "x = memoryview(b\"Hi How are you doing\")\n",
    "print(x)\n",
    "#return the Unicode of the first character\n",
    "print(x[0])\n",
    "#return the Unicode of the second character\n",
    "print(x[1])\n",
    "#returns the type of x\n",
    "print(type(x))"
   ]
  },
  {
   "cell_type": "code",
   "execution_count": 76,
   "id": "25c33ecc",
   "metadata": {},
   "outputs": [
    {
     "name": "stdout",
     "output_type": "stream",
     "text": [
      "bytearray(b'\\n\\x02\\x03\\x04')\n",
      "<class 'bytearray'>\n",
      "BYTE: 10\n",
      "BYTE: 2\n",
      "BYTE: 3\n",
      "BYTE: 4\n",
      "b'0a020304'\n",
      "0a020304\n"
     ]
    }
   ],
   "source": [
    "elements = [10,2,3,4]\n",
    "\n",
    "# Create immutable bytes object.\n",
    "data = bytearray(elements)\n",
    "print(data)\n",
    "print(type(data))\n",
    "#data[1] = 20\n",
    "# Loop over bytes.\n",
    "for item in data:\n",
    "    print(\"BYTE:\", item)\n",
    "import binascii\n",
    "print(binascii.hexlify(data))\n",
    "print(data.hex())"
   ]
  },
  {
   "cell_type": "code",
   "execution_count": 77,
   "id": "e56cd0b5",
   "metadata": {},
   "outputs": [
    {
     "name": "stdout",
     "output_type": "stream",
     "text": [
      "b'0a020304'\n"
     ]
    }
   ],
   "source": [
    "import binascii\n",
    "print(binascii.hexlify(data))"
   ]
  },
  {
   "cell_type": "code",
   "execution_count": 73,
   "id": "3de8ceee",
   "metadata": {},
   "outputs": [
    {
     "name": "stdout",
     "output_type": "stream",
     "text": [
      "0102ff05\n"
     ]
    }
   ],
   "source": [
    "x = bytearray([0x01,0x02,0xff,5])\n",
    "print(x.hex())"
   ]
  },
  {
   "cell_type": "code",
   "execution_count": 101,
   "id": "3f31f246",
   "metadata": {},
   "outputs": [
    {
     "name": "stdout",
     "output_type": "stream",
     "text": [
      "<class 'bytes'>\n",
      "b'\\x1e\\nd'\n",
      "BYTE: 30\n",
      "BYTE: 10\n",
      "BYTE: 100\n",
      "100\n"
     ]
    }
   ],
   "source": [
    "elements = [30, 10, 100]\n",
    "\n",
    "# Create immutable bytes object.\n",
    "data = bytes(elements)\n",
    "print(type(data))\n",
    "print(data)\n",
    "#data[1] = 20\n",
    "# Loop over bytes.\n",
    "for item in data:\n",
    "    print(\"BYTE:\", item)\n",
    "x = memoryview(data)\n",
    "print(x[2])"
   ]
  },
  {
   "cell_type": "code",
   "execution_count": 105,
   "id": "63a43309",
   "metadata": {},
   "outputs": [
    {
     "name": "stdout",
     "output_type": "stream",
     "text": [
      "<class '__main__.Point'>\n",
      "<class 'type'>\n"
     ]
    }
   ],
   "source": [
    "from collections import namedtuple\n",
    "Point = namedtuple('Point', 'x y')\n",
    "pt1 = Point(1.0, 5.0)\n",
    "pt2 = Point(2.5, 1.5)\n",
    "print(type(pt1))\n",
    "print(type(Point))\n",
    "\n",
    "from math import sqrt\n",
    "line_length = sqrt((pt1.x-pt2.x)**2 + (pt1.y-pt2.y)**2)"
   ]
  },
  {
   "cell_type": "code",
   "execution_count": 110,
   "id": "ea1247c1",
   "metadata": {},
   "outputs": [
    {
     "name": "stdout",
     "output_type": "stream",
     "text": [
      "['apple', 'banana', 'cherry']\n",
      "<class 'list'>\n",
      "frozenset({'cherry', 'banana', 'apple'})\n",
      "<class 'frozenset'>\n"
     ]
    }
   ],
   "source": [
    "mylist = ['apple', 'banana', 'cherry']\n",
    "x = frozenset(mylist)\n",
    "print(mylist)\n",
    "print(type(mylist))\n",
    "print(x)\n",
    "print(type(x))"
   ]
  },
  {
   "cell_type": "code",
   "execution_count": 130,
   "id": "0c624dd1",
   "metadata": {},
   "outputs": [
    {
     "name": "stdout",
     "output_type": "stream",
     "text": [
      "<class 'mappingproxy'>\n"
     ]
    }
   ],
   "source": [
    "print(type(object.__dict__))"
   ]
  },
  {
   "cell_type": "code",
   "execution_count": 3,
   "id": "9ed7c41d",
   "metadata": {},
   "outputs": [
    {
     "name": "stdout",
     "output_type": "stream",
     "text": [
      "<generator object <genexpr> at 0x0000028184CA82E0>\n",
      "<class 'generator'>\n"
     ]
    }
   ],
   "source": [
    "genexpr = (x for x in range(10))\n",
    "print(genexpr)\n",
    "print(type(genexpr))"
   ]
  },
  {
   "cell_type": "code",
   "execution_count": 12,
   "id": "c4825f28",
   "metadata": {},
   "outputs": [
    {
     "name": "stdout",
     "output_type": "stream",
     "text": [
      "0 1 8 27 64 125 216 343 512 729 "
     ]
    }
   ],
   "source": [
    "def cubes(length):\n",
    "    for n in range(length):\n",
    "        yield n**3\n",
    "\n",
    "# call the generator function like this\n",
    "gen = cubes(10)\n",
    "for cube in gen:\n",
    "    print(cube, end=\" \")"
   ]
  },
  {
   "cell_type": "code",
   "execution_count": 13,
   "id": "f56062b7",
   "metadata": {},
   "outputs": [
    {
     "name": "stdout",
     "output_type": "stream",
     "text": [
      "<class 'generator'>\n"
     ]
    }
   ],
   "source": [
    "print(type(gen))"
   ]
  },
  {
   "cell_type": "code",
   "execution_count": 17,
   "id": "14285a6b",
   "metadata": {},
   "outputs": [
    {
     "name": "stdout",
     "output_type": "stream",
     "text": [
      "1 2 3 \n",
      "1\n",
      "2\n",
      "3\n",
      "<class 'set_iterator'>\n"
     ]
    }
   ],
   "source": [
    "a = [1, 2, 3]\n",
    "for x in a:\n",
    "    print(x,end=\" \")\n",
    "print()\n",
    "    \n",
    "a = {1, 2, 3}\n",
    "it = iter(a) # calls a.__iter__\n",
    "while True:\n",
    "    try:\n",
    "        x = next(it)\n",
    "    except StopIteration:\n",
    "        break\n",
    "    print(x)\n",
    "print(type(it))"
   ]
  },
  {
   "cell_type": "code",
   "execution_count": 26,
   "id": "94623b2e",
   "metadata": {},
   "outputs": [
    {
     "name": "stdout",
     "output_type": "stream",
     "text": [
      "<class 'builtin_function_or_method'>\n",
      "<class 'builtin_function_or_method'>\n",
      "<class 'builtin_function_or_method'>\n",
      "<class 'method'>\n"
     ]
    }
   ],
   "source": [
    "print(type(any))\n",
    "print(type(all))\n",
    "print(type(print))\n",
    "print(type(input))"
   ]
  },
  {
   "cell_type": "code",
   "execution_count": 34,
   "id": "4b803dc1",
   "metadata": {},
   "outputs": [
    {
     "name": "stdout",
     "output_type": "stream",
     "text": [
      "Setting __class__...\n",
      "<class 'module'>\n",
      "<class 'module'>\n",
      "<class 'module'>\n"
     ]
    }
   ],
   "source": [
    "import sys\n",
    "import pandas as pd\n",
    "import matplotlib as mat\n",
    "from types import ModuleType\n",
    "\n",
    "class VerboseModule(ModuleType):\n",
    "    def __repr__(self):\n",
    "        return f'Verbose {self.__name__}'\n",
    "\n",
    "    def __setattr__(self, attr, value):\n",
    "        print(f'Setting {attr}...')\n",
    "        super().__setattr__(attr, value)\n",
    "\n",
    "sys.modules[__name__].__class__ = VerboseModule\n",
    "print(type(sys))\n",
    "print(type(pd))\n",
    "print(type(mat))"
   ]
  },
  {
   "cell_type": "code",
   "execution_count": 42,
   "id": "4ba012c4",
   "metadata": {},
   "outputs": [
    {
     "name": "stdout",
     "output_type": "stream",
     "text": [
      "<function __getattr__ at 0x0000028184C7B670>\n"
     ]
    }
   ],
   "source": [
    "print(pd.__getattr__)"
   ]
  },
  {
   "cell_type": "code",
   "execution_count": 43,
   "id": "14dfc886",
   "metadata": {},
   "outputs": [
    {
     "name": "stdout",
     "output_type": "stream",
     "text": [
      "<method-wrapper '__setattr__' of module object at 0x0000028184D5E4A0>\n"
     ]
    }
   ],
   "source": [
    "print(pd.__setattr__)"
   ]
  },
  {
   "cell_type": "code",
   "execution_count": 46,
   "id": "f859fb4c",
   "metadata": {},
   "outputs": [
    {
     "name": "stdout",
     "output_type": "stream",
     "text": [
      "<class '__main__.Meta'>\n"
     ]
    }
   ],
   "source": [
    "class Meta(type):\n",
    "    pass\n",
    "\n",
    "class MyClass(metaclass=Meta):\n",
    "    pass\n",
    "\n",
    "class MySubclass(MyClass):\n",
    "    pass\n",
    "\n",
    "print(type(MySubclass))"
   ]
  },
  {
   "cell_type": "code",
   "execution_count": 48,
   "id": "e3901875",
   "metadata": {},
   "outputs": [
    {
     "name": "stdout",
     "output_type": "stream",
     "text": [
      "<object object at 0x0000028184AF9E80>\n"
     ]
    }
   ],
   "source": [
    "print(object.__call__())"
   ]
  },
  {
   "cell_type": "code",
   "execution_count": 93,
   "id": "4027c09e",
   "metadata": {},
   "outputs": [
    {
     "name": "stdout",
     "output_type": "stream",
     "text": [
      "<memory at 0x0000028187522880>\n",
      "72\n",
      "105\n",
      "<class 'memoryview'>\n",
      "49\n",
      "97\n",
      "98\n"
     ]
    }
   ],
   "source": [
    "x = memoryview(b\"Hi How are you doing\")\n",
    "print(x)\n",
    "#return the Unicode of the first character\n",
    "print(x[0])\n",
    "#return the Unicode of the second character\n",
    "print(x[1])\n",
    "#returns the type of x\n",
    "print(type(x))\n",
    "print(memoryview(b\"1\")[0])\n",
    "print(memoryview(b\"ab\")[0])\n",
    "print(memoryview(b\"ab\")[1])"
   ]
  },
  {
   "cell_type": "code",
   "execution_count": null,
   "id": "8214ccd1",
   "metadata": {},
   "outputs": [],
   "source": []
  }
 ],
 "metadata": {
  "kernelspec": {
   "display_name": "Python 3 (ipykernel)",
   "language": "python",
   "name": "python3"
  },
  "language_info": {
   "codemirror_mode": {
    "name": "ipython",
    "version": 3
   },
   "file_extension": ".py",
   "mimetype": "text/x-python",
   "name": "python",
   "nbconvert_exporter": "python",
   "pygments_lexer": "ipython3",
   "version": "3.9.13"
  }
 },
 "nbformat": 4,
 "nbformat_minor": 5
}
