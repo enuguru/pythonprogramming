{
 "cells": [
  {
   "cell_type": "code",
   "execution_count": 6,
   "id": "a3219fbc",
   "metadata": {},
   "outputs": [
    {
     "name": "stdout",
     "output_type": "stream",
     "text": [
      "Give an input  45 67 32 44 89\n",
      "<class 'str'>\n",
      "45 67 32 44 89\n"
     ]
    }
   ],
   "source": [
    "new = input(\"Give an input  \")\n",
    "print(type(new))\n",
    "print(new)"
   ]
  },
  {
   "cell_type": "code",
   "execution_count": 4,
   "id": "a4a80079",
   "metadata": {},
   "outputs": [
    {
     "name": "stdout",
     "output_type": "stream",
     "text": [
      "Give an input  45\n",
      "<class 'int'>\n"
     ]
    }
   ],
   "source": [
    "new = int(input(\"Give an input  \"))\n",
    "print(type(new))"
   ]
  },
  {
   "cell_type": "code",
   "execution_count": null,
   "id": "03875b78",
   "metadata": {},
   "outputs": [],
   "source": []
  }
 ],
 "metadata": {
  "kernelspec": {
   "display_name": "Python 3 (ipykernel)",
   "language": "python",
   "name": "python3"
  },
  "language_info": {
   "codemirror_mode": {
    "name": "ipython",
    "version": 3
   },
   "file_extension": ".py",
   "mimetype": "text/x-python",
   "name": "python",
   "nbconvert_exporter": "python",
   "pygments_lexer": "ipython3",
   "version": "3.9.13"
  }
 },
 "nbformat": 4,
 "nbformat_minor": 5
}
