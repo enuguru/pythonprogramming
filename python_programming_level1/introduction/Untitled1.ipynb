{
 "cells": [
  {
   "cell_type": "markdown",
   "id": "fb8de949",
   "metadata": {},
   "source": [
    "# variable argument lists"
   ]
  },
  {
   "cell_type": "markdown",
   "id": "ebf0cfb8",
   "metadata": {},
   "source": [
    "# tuple packing"
   ]
  },
  {
   "cell_type": "code",
   "execution_count": 3,
   "id": "c6289390",
   "metadata": {},
   "outputs": [
    {
     "name": "stdout",
     "output_type": "stream",
     "text": [
      "65\n",
      "400\n",
      "900\n"
     ]
    }
   ],
   "source": [
    "# A Python program to show the application of packing \n",
    "  \n",
    "# This function uses packing to find the sum of unknown number of arguments \n",
    "\n",
    "def findsum(*args): \n",
    "    xsum = 0\n",
    "    for index in range(0, len(args)): \n",
    "        xsum = xsum + args[index] \n",
    "    return xsum \n",
    "  \n",
    "print(findsum(11, 12, 13, 14, 15)) \n",
    "print(findsum(100, 300)) \n",
    "print(findsum(200, 300, 400)) "
   ]
  },
  {
   "cell_type": "markdown",
   "id": "cfdb8a00",
   "metadata": {},
   "source": [
    "# dictionary packing"
   ]
  },
  {
   "cell_type": "code",
   "execution_count": 5,
   "id": "3350faf9",
   "metadata": {},
   "outputs": [
    {
     "name": "stdout",
     "output_type": "stream",
     "text": [
      "The value of my_name is Karthik\n",
      "The value of your_name is Jatin\n",
      "The value of her_name is Vandana\n",
      "{'my_name': 'Karthik', 'your_name': 'Jatin', 'her_name': 'Vandana'}\n"
     ]
    }
   ],
   "source": [
    "def print_values(**dargs):\n",
    "    for key, value in dargs.items():\n",
    "        print(\"The value of {} is {}\".format(key, value))\n",
    "    print(dargs)\n",
    "\n",
    "print_values(my_name=\"Karthik\", your_name=\"Jatin\", her_name=\"Vandana\")"
   ]
  },
  {
   "cell_type": "code",
   "execution_count": 17,
   "id": "eee8ad67",
   "metadata": {},
   "outputs": [
    {
     "name": "stdout",
     "output_type": "stream",
     "text": [
      "<class 'dict'>\n",
      "HP = 134 Microsoft = 209 Apple = 220 <class 'dict'>\n",
      "HP = 134 Microsoft = 209 Apple = 220 Google = 170 Oracle = 110 "
     ]
    }
   ],
   "source": [
    "# A Python program to show packing of dictionary items using ** \n",
    "def fun(**dargs): \n",
    "    print(type(dargs),end=\"\\n\")\n",
    "    for key in dargs: \n",
    "        print(\"%s = %s\" % (key, dargs[key]), end=\" \")\n",
    "  \n",
    "fun(HP=134, Microsoft=209, Apple=220)\n",
    "fun(HP=134, Microsoft=209, Apple=220,Google=170,Oracle=110)"
   ]
  },
  {
   "cell_type": "markdown",
   "id": "ce74a6a0",
   "metadata": {},
   "source": [
    "# tuple unpacking"
   ]
  },
  {
   "cell_type": "code",
   "execution_count": 20,
   "id": "b591be75",
   "metadata": {},
   "outputs": [
    {
     "name": "stdout",
     "output_type": "stream",
     "text": [
      "1 4 9 16\n"
     ]
    }
   ],
   "source": [
    "# A  function to show tuple unpacking \n",
    "def newfun(a, b, c, d):\n",
    "    print(a*a, b*b, c*c, d*d) \n",
    "  \n",
    "goodlist = [1, 2, 3, 4] \n",
    "  \n",
    "# Unpacking list into four arguments \n",
    "newfun(*goodlist) "
   ]
  },
  {
   "cell_type": "code",
   "execution_count": null,
   "id": "2ad05446",
   "metadata": {},
   "outputs": [],
   "source": [
    "# Python3 code to study about\n",
    "# unpacking python tuple using function\n",
    " \n",
    "# function takes normal arguments\n",
    "# and multiply them\n",
    "def result(x, y):\n",
    "    return x * y\n",
    "# function with normal variables\n",
    "print (result(10, 100))\n",
    " \n",
    "# A tuple is created\n",
    "z = (10, 100)\n",
    " \n",
    "# Tuple is passed\n",
    "# function unpacked them\n",
    " \n",
    "print (result(*z))"
   ]
  },
  {
   "cell_type": "markdown",
   "id": "3c8093ba",
   "metadata": {},
   "source": [
    "# dictionary unpacking"
   ]
  },
  {
   "cell_type": "code",
   "execution_count": 18,
   "id": "df4ade22",
   "metadata": {},
   "outputs": [
    {
     "name": "stdout",
     "output_type": "stream",
     "text": [
      "2 4 10\n"
     ]
    }
   ],
   "source": [
    "# A sample program to demonstrate unpacking of \n",
    "# dictionary items using ** \n",
    "def fun(a, b, c): \n",
    "    print(a, b, c) \n",
    "  \n",
    "# A call with unpacking of dictionary \n",
    "d = {'a':2, 'b':4, 'c':10} \n",
    "fun(**d)"
   ]
  },
  {
   "cell_type": "code",
   "execution_count": null,
   "id": "a1f08d6d",
   "metadata": {},
   "outputs": [],
   "source": []
  }
 ],
 "metadata": {
  "kernelspec": {
   "display_name": "Python 3 (ipykernel)",
   "language": "python",
   "name": "python3"
  },
  "language_info": {
   "codemirror_mode": {
    "name": "ipython",
    "version": 3
   },
   "file_extension": ".py",
   "mimetype": "text/x-python",
   "name": "python",
   "nbconvert_exporter": "python",
   "pygments_lexer": "ipython3",
   "version": "3.9.7"
  }
 },
 "nbformat": 4,
 "nbformat_minor": 5
}
