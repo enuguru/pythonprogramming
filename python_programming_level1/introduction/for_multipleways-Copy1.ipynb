{
 "cells": [
  {
   "cell_type": "code",
   "execution_count": 7,
   "metadata": {},
   "outputs": [
    {
     "name": "stdout",
     "output_type": "stream",
     "text": [
      "banana\n",
      "apple\n",
      "mango\n",
      "['banana', 'apple', 'mango']\n"
     ]
    }
   ],
   "source": [
    "fruits = ['banana', 'apple',  'mango']\n",
    "for val in fruits:\n",
    "   print(val)\n",
    "print(fruits)"
   ]
  },
  {
   "cell_type": "code",
   "execution_count": 2,
   "metadata": {},
   "outputs": [
    {
     "name": "stdout",
     "output_type": "stream",
     "text": [
      "Current fruit : banana\n",
      "Current fruit : apple\n",
      "Current fruit : mango\n"
     ]
    }
   ],
   "source": [
    "for fruits in ['banana', 'apple',  'mango']:\n",
    "   print('Current fruit :', fruits)"
   ]
  },
  {
   "cell_type": "code",
   "execution_count": 15,
   "metadata": {},
   "outputs": [
    {
     "name": "stdout",
     "output_type": "stream",
     "text": [
      "10 12 14 16 18 20 22 24 26 28 30 "
     ]
    }
   ],
   "source": [
    "for num in range(10,32,2):\n",
    "    print(num, end = \" \")"
   ]
  },
  {
   "cell_type": "code",
   "execution_count": 7,
   "metadata": {},
   "outputs": [
    {
     "name": "stdout",
     "output_type": "stream",
     "text": [
      "banana\n",
      "apple\n",
      "mango\n",
      "['banana', 'apple', 'mango']\n"
     ]
    }
   ],
   "source": [
    "fruits = ['banana', 'apple',  'mango']\n",
    "for val in range(len(fruits)): # range(0,3)\n",
    "   print(fruits[val]);\n",
    "print(fruits)"
   ]
  },
  {
   "cell_type": "code",
   "execution_count": 8,
   "metadata": {},
   "outputs": [
    {
     "name": "stdout",
     "output_type": "stream",
     "text": [
      "Current fruit : banana\n",
      "Current fruit : apple\n",
      "Current fruit : mango\n"
     ]
    }
   ],
   "source": [
    "fruits = ['banana', 'apple',  'mango']\n",
    "for index in range(len(fruits)): # range(0,3,1)\n",
    "   print('Current fruit :', fruits[index])"
   ]
  },
  {
   "cell_type": "code",
   "execution_count": 9,
   "metadata": {},
   "outputs": [
    {
     "name": "stdout",
     "output_type": "stream",
     "text": [
      "Current fruit : banana\n",
      "Current fruit : apple\n",
      "Current fruit : mango\n",
      "Current fruit : 2\n",
      "Current fruit : 45.5\n",
      "Current fruit : c\n"
     ]
    }
   ],
   "source": [
    "for fruits in ['banana', 'apple',  'mango', 2, 45.5, 'c']:\n",
    "   print('Current fruit :', fruits)"
   ]
  },
  {
   "cell_type": "code",
   "execution_count": 16,
   "metadata": {},
   "outputs": [
    {
     "name": "stdout",
     "output_type": "stream",
     "text": [
      "Current Letter : 4\n",
      "Current Letter : 5\n",
      "Current Letter : 3\n",
      "Current Letter : 2\n",
      "Current Letter : 9\n"
     ]
    }
   ],
   "source": [
    "for letter in \"45329\":     # First Example\n",
    "   print('Current Letter :', letter)"
   ]
  },
  {
   "cell_type": "code",
   "execution_count": 11,
   "metadata": {},
   "outputs": [
    {
     "name": "stdout",
     "output_type": "stream",
     "text": [
      "10 12 14 16 18 20 "
     ]
    }
   ],
   "source": [
    "for num in range(10,21):\n",
    "    if num % 2 == 0:\n",
    "        print(num,end=\" \")"
   ]
  },
  {
   "cell_type": "code",
   "execution_count": 18,
   "metadata": {},
   "outputs": [
    {
     "name": "stdout",
     "output_type": "stream",
     "text": [
      "this is the one of the\n",
      "\n",
      "toughest programs\n",
      "\n",
      "to understand just joking\n",
      "\n",
      "python is so easy and colorful and super\n",
      "\n"
     ]
    }
   ],
   "source": [
    "with open('words.txt','r') as f:\n",
    "    for line in f:\n",
    "       print(line)  "
   ]
  },
  {
   "cell_type": "code",
   "execution_count": 14,
   "metadata": {},
   "outputs": [
    {
     "name": "stdout",
     "output_type": "stream",
     "text": [
      "['this', 'is', 'the', 'one', 'of', 'the', 'toughest', 'programs', 'to', 'understand', 'just', 'joking', 'python', 'is', 'so', 'easy', 'and', 'colorful', 'and', 'super']\n"
     ]
    }
   ],
   "source": [
    "ourlist = []\n",
    "with open(\"words.txt\") as f:\n",
    "   for line in f:\n",
    "      for word in line.split():\n",
    "          ourlist.append(word) # add only first word\n",
    "print(ourlist)"
   ]
  },
  {
   "cell_type": "code",
   "execution_count": 15,
   "metadata": {},
   "outputs": [
    {
     "name": "stdout",
     "output_type": "stream",
     "text": [
      "0 boat\n",
      "1 car\n",
      "2 plane\n"
     ]
    }
   ],
   "source": [
    "list = [\"boat\", \"car\", \"plane\"]\n",
    "for i, v in enumerate(list):\n",
    "    print(i, v)"
   ]
  },
  {
   "cell_type": "code",
   "execution_count": 16,
   "metadata": {},
   "outputs": [
    {
     "name": "stdout",
     "output_type": "stream",
     "text": [
      "12 11 10 9 8 7 6 5 4 3 2 1 "
     ]
    }
   ],
   "source": [
    "for val in range(12,0,-1):\n",
    "    print(val,end=\" \")"
   ]
  },
  {
   "cell_type": "code",
   "execution_count": 34,
   "metadata": {},
   "outputs": [
    {
     "name": "stdout",
     "output_type": "stream",
     "text": [
      "Please give a number102\n",
      "3 5 7 11 13 17 19 23 29 31 37 41 43 47 53 59 61 67 71 73 79 83 89 97 101 "
     ]
    }
   ],
   "source": [
    "val = int(input(\"Please give a number\"))\n",
    "for newint in range(3,val):\n",
    "    flag = 0\n",
    "    for num in range(2,newint):\n",
    "        if newint % num == 0:\n",
    "            flag = 1\n",
    "            break;\n",
    "    else:\n",
    "        print(newint,end=\" \")"
   ]
  },
  {
   "cell_type": "code",
   "execution_count": 37,
   "metadata": {},
   "outputs": [
    {
     "name": "stdout",
     "output_type": "stream",
     "text": [
      "success\n",
      "success\n"
     ]
    }
   ],
   "source": [
    "fruits = ['banana', 'apple',  'mango']\n",
    "for index in range(len(fruits)):\n",
    "    if \"banana\" == fruits[index]:\n",
    "        print(\"success\")\n",
    "if \"banana\" in fruits:\n",
    "    print(\"success\")"
   ]
  },
  {
   "cell_type": "code",
   "execution_count": null,
   "metadata": {},
   "outputs": [],
   "source": []
  }
 ],
 "metadata": {
  "kernelspec": {
   "display_name": "Python 3 (ipykernel)",
   "language": "python",
   "name": "python3"
  },
  "language_info": {
   "codemirror_mode": {
    "name": "ipython",
    "version": 3
   },
   "file_extension": ".py",
   "mimetype": "text/x-python",
   "name": "python",
   "nbconvert_exporter": "python",
   "pygments_lexer": "ipython3",
   "version": "3.9.7"
  }
 },
 "nbformat": 4,
 "nbformat_minor": 4
}
