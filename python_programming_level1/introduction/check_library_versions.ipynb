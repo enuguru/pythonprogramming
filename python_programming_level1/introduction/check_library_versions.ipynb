{
 "cells": [
  {
   "cell_type": "code",
   "execution_count": 1,
   "id": "691aefba",
   "metadata": {},
   "outputs": [
    {
     "name": "stdout",
     "output_type": "stream",
     "text": [
      "pytest version:  7.1.2\n",
      "numpy version:  1.23.5\n",
      "scipy version:  1.10.0\n",
      "sklearn version:  1.2.1\n",
      "matplotlib version:  3.7.0\n"
     ]
    }
   ],
   "source": [
    "import numpy\n",
    "import pytest\n",
    "import scipy\n",
    "import matplotlib\n",
    "import sklearn\n",
    "\n",
    "print(\"pytest version: \", pytest.__version__)\n",
    "print(\"numpy version: \", numpy.__version__)\n",
    "print(\"scipy version: \", scipy.__version__)\n",
    "print(\"sklearn version: \", sklearn.__version__)\n",
    "print(\"matplotlib version: \", matplotlib.__version__)"
   ]
  },
  {
   "cell_type": "code",
   "execution_count": null,
   "id": "212d9e1a",
   "metadata": {},
   "outputs": [],
   "source": []
  }
 ],
 "metadata": {
  "kernelspec": {
   "display_name": "Python 3 (ipykernel)",
   "language": "python",
   "name": "python3"
  },
  "language_info": {
   "codemirror_mode": {
    "name": "ipython",
    "version": 3
   },
   "file_extension": ".py",
   "mimetype": "text/x-python",
   "name": "python",
   "nbconvert_exporter": "python",
   "pygments_lexer": "ipython3",
   "version": "3.10.9"
  }
 },
 "nbformat": 4,
 "nbformat_minor": 5
}
