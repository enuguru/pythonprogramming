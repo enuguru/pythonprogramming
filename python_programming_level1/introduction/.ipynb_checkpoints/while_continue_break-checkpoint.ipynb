{
 "cells": [
  {
   "cell_type": "code",
   "execution_count": 1,
   "metadata": {},
   "outputs": [
    {
     "name": "stdout",
     "output_type": "stream",
     "text": [
      "0\n",
      "2\n",
      "4\n",
      "6\n",
      "8\n",
      "10\n"
     ]
    }
   ],
   "source": [
    "i = 0\n",
    "while i <= 10:\n",
    "    print(i)\n",
    "    i = i + 2"
   ]
  },
  {
   "cell_type": "code",
   "execution_count": 2,
   "metadata": {},
   "outputs": [
    {
     "name": "stdout",
     "output_type": "stream",
     "text": [
      "10\n",
      "8\n",
      "6\n",
      "4\n",
      "2\n",
      "0\n"
     ]
    }
   ],
   "source": [
    "i = 10\n",
    "while i >= 0:\n",
    "    print(i)\n",
    "    i = i - 2"
   ]
  },
  {
   "cell_type": "code",
   "execution_count": 3,
   "metadata": {},
   "outputs": [
    {
     "name": "stdout",
     "output_type": "stream",
     "text": [
      "10\n",
      "9\n",
      "8\n",
      "7\n"
     ]
    }
   ],
   "source": [
    "i = 10\n",
    "# While greater than zero.\n",
    "while i >= 0:\n",
    "    print(i)\n",
    "    # End loop if evenly divisible by seven.\n",
    "    if i % 7 == 0:\n",
    "        break\n",
    "    i = i - 1"
   ]
  },
  {
   "cell_type": "code",
   "execution_count": 4,
   "metadata": {},
   "outputs": [
    {
     "name": "stdout",
     "output_type": "stream",
     "text": [
      "10\n",
      "9\n",
      "8\n",
      "6\n",
      "5\n",
      "4\n",
      "3\n",
      "2\n",
      "1\n"
     ]
    }
   ],
   "source": [
    "i = 10\n",
    "# While greater than zero.\n",
    "while i >= 0:\n",
    "    if i % 7 == 0:\n",
    "        i = i - 1\n",
    "        continue\n",
    "    print(i)\n",
    "    # End loop if evenly divisible by seven.\n",
    "    i = i - 1"
   ]
  },
  {
   "cell_type": "code",
   "execution_count": 5,
   "metadata": {},
   "outputs": [
    {
     "name": "stdout",
     "output_type": "stream",
     "text": [
      "Enter Numbers to add to the sum.\n",
      "Enter 0 to quit.\n",
      "Current Sum: 0\n",
      "Number? 5\n",
      "Current Sum: 5.0\n",
      "Number? 7\n",
      "Current Sum: 12.0\n",
      "Number? 0\n",
      "Total Sum = 12.0\n"
     ]
    }
   ],
   "source": [
    "a = 1; s = 0\n",
    "print('Enter Numbers to add to the sum.')\n",
    "print('Enter 0 to quit.')\n",
    "while a != 0:                           \n",
    "    print('Current Sum:', s)            \n",
    "    a = float(input('Number? '))        \n",
    "    s = s + a                            \n",
    "print('Total Sum =', s)"
   ]
  },
  {
   "cell_type": "code",
   "execution_count": null,
   "metadata": {},
   "outputs": [],
   "source": []
  }
 ],
 "metadata": {
  "kernelspec": {
   "display_name": "Python 3 (ipykernel)",
   "language": "python",
   "name": "python3"
  },
  "language_info": {
   "codemirror_mode": {
    "name": "ipython",
    "version": 3
   },
   "file_extension": ".py",
   "mimetype": "text/x-python",
   "name": "python",
   "nbconvert_exporter": "python",
   "pygments_lexer": "ipython3",
   "version": "3.9.7"
  }
 },
 "nbformat": 4,
 "nbformat_minor": 4
}
