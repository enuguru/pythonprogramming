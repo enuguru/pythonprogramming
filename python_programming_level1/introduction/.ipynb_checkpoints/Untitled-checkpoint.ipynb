{
 "cells": [
  {
   "cell_type": "markdown",
   "id": "86ddc770",
   "metadata": {},
   "source": [
    "# reverse the words in a sentence"
   ]
  },
  {
   "cell_type": "code",
   "execution_count": 4,
   "id": "1167066e",
   "metadata": {},
   "outputs": [
    {
     "name": "stdout",
     "output_type": "stream",
     "text": [
      "['This', 'python', 'session', 'is', 'pretty', 'interesting']\n",
      "['interesting', 'pretty', 'is', 'session', 'python', 'This']\n",
      "interesting pretty is session python This\n"
     ]
    }
   ],
   "source": [
    "sentence = \"This python session is pretty interesting\"\n",
    "words = sentence.split()\n",
    "print(words)\n",
    "words_reversed = list(reversed(words))\n",
    "print(words_reversed)\n",
    "print(\" \".join(words_reversed))"
   ]
  },
  {
   "cell_type": "markdown",
   "id": "1260a8ec",
   "metadata": {},
   "source": [
    "# collatz conjecture"
   ]
  },
  {
   "cell_type": "code",
   "execution_count": 6,
   "id": "1fe4449a",
   "metadata": {},
   "outputs": [
    {
     "name": "stdout",
     "output_type": "stream",
     "text": [
      "Give a number16\n",
      "16 8 4 2 1 "
     ]
    }
   ],
   "source": [
    "num = int(input(\"Give a number  \"))\n",
    "print(num, end=\" \")\n",
    "while num != 1:\n",
    "    if num % 2 == 0:\n",
    "        num = num // 2\n",
    "        print(num,end=\" \")\n",
    "    else:\n",
    "        num = num*3 + 1\n",
    "        print(num,end=\" \")"
   ]
  },
  {
   "cell_type": "code",
   "execution_count": null,
   "id": "de1bde6a",
   "metadata": {},
   "outputs": [],
   "source": []
  }
 ],
 "metadata": {
  "kernelspec": {
   "display_name": "Python 3 (ipykernel)",
   "language": "python",
   "name": "python3"
  },
  "language_info": {
   "codemirror_mode": {
    "name": "ipython",
    "version": 3
   },
   "file_extension": ".py",
   "mimetype": "text/x-python",
   "name": "python",
   "nbconvert_exporter": "python",
   "pygments_lexer": "ipython3",
   "version": "3.9.7"
  }
 },
 "nbformat": 4,
 "nbformat_minor": 5
}
