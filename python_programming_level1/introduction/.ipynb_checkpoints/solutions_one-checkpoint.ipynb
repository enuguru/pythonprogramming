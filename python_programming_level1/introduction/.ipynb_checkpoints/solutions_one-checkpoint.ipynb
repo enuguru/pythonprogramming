{
 "cells": [
  {
   "cell_type": "markdown",
   "id": "caaa6806",
   "metadata": {},
   "source": [
    "# reverse the words in a sentence"
   ]
  },
  {
   "cell_type": "code",
   "execution_count": 4,
   "id": "ab4480b9",
   "metadata": {},
   "outputs": [
    {
     "name": "stdout",
     "output_type": "stream",
     "text": [
      "['This', 'python', 'session', 'is', 'pretty', 'interesting']\n",
      "['interesting', 'pretty', 'is', 'session', 'python', 'This']\n",
      "interesting pretty is session python This\n"
     ]
    }
   ],
   "source": [
    "sentence = \"This python session is pretty interesting\"\n",
    "words = sentence.split()\n",
    "print(words)\n",
    "words_reversed = list(reversed(words))\n",
    "print(words_reversed)\n",
    "print(\" \".join(words_reversed))"
   ]
  },
  {
   "cell_type": "markdown",
   "id": "56ecd504",
   "metadata": {},
   "source": [
    "# collatz conjecture"
   ]
  },
  {
   "cell_type": "code",
   "execution_count": 8,
   "id": "bad48f13",
   "metadata": {},
   "outputs": [
    {
     "name": "stdout",
     "output_type": "stream",
     "text": [
      "Give a number  67\n",
      "67 202 101 304 152 76 38 19 58 29 88 44 22 11 34 17 52 26 13 40 20 10 5 16 8 4 2 1 "
     ]
    }
   ],
   "source": [
    "num = int(input(\"Give a number  \"))\n",
    "print(num, end=\" \")\n",
    "while num != 1:\n",
    "    if num % 2 == 0:\n",
    "        num = num // 2\n",
    "        print(num,end=\" \")\n",
    "    else:\n",
    "        num = num*3 + 1\n",
    "        print(num,end=\" \")"
   ]
  },
  {
   "cell_type": "code",
   "execution_count": null,
   "id": "a585f4e8",
   "metadata": {},
   "outputs": [],
   "source": []
  }
 ],
 "metadata": {
  "kernelspec": {
   "display_name": "Python 3 (ipykernel)",
   "language": "python",
   "name": "python3"
  },
  "language_info": {
   "codemirror_mode": {
    "name": "ipython",
    "version": 3
   },
   "file_extension": ".py",
   "mimetype": "text/x-python",
   "name": "python",
   "nbconvert_exporter": "python",
   "pygments_lexer": "ipython3",
   "version": "3.9.7"
  }
 },
 "nbformat": 4,
 "nbformat_minor": 5
}
