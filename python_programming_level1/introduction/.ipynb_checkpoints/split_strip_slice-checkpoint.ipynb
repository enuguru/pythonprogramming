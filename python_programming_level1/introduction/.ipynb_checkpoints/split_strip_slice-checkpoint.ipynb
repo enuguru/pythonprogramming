{
 "cells": [
  {
   "cell_type": "code",
   "execution_count": 10,
   "metadata": {},
   "outputs": [
    {
     "name": "stdout",
     "output_type": "stream",
     "text": [
      "[24, 25, 26, 27, 28]\n"
     ]
    }
   ],
   "source": [
    "#i// first number is starting number\n",
    "#// second number is ending\n",
    "#// third number is step\n",
    "\n",
    "numbers = [21, 22, 23, 24, 25, 26, 27, 28, 29, 30]\n",
    "#print(numbers)\n",
    "#print(numbers[2:6:3])\n",
    "#print(numbers[::-1])\n",
    "#print(numbers[3:10:2])\n",
    "#print(numbers[3:9])\n",
    "#print(numbers[3:9:2])\n",
    "#print(numbers[-3:-10:-2])\n",
    "print(numbers[-7:-2:1])\n",
    "#print(numbers[-5:10:1])\n",
    "#print(numbers[5:9:1])\n",
    "#print(numbers[-7:9:2])\n",
    "#print(numbers[5::1])\n",
    "#print(numbers[0::])\n",
    "#print(numbers[-1::-1])"
   ]
  },
  {
   "cell_type": "code",
   "execution_count": 11,
   "metadata": {},
   "outputs": [
    {
     "name": "stdout",
     "output_type": "stream",
     "text": [
      "RaviKumar\n",
      "ramuKivaR\n"
     ]
    }
   ],
   "source": [
    "name = \"RaviKumar\"\n",
    "print(name)\n",
    "print(name[::-1])"
   ]
  },
  {
   "cell_type": "code",
   "execution_count": 15,
   "metadata": {},
   "outputs": [
    {
     "name": "stdout",
     "output_type": "stream",
     "text": [
      "['topeka', 'kansas', 'city', 'wichita', 'olathe']\n",
      "topeka\n",
      "kansas\n",
      "city\n",
      "wichita\n",
      "olathe\n"
     ]
    }
   ],
   "source": [
    "# Input string.\n",
    "s = \"topeka,kansas,city,wichita,olathe\"\n",
    "# Separate on comma.\n",
    "cities = s.split(',');\n",
    "# Loop and print each city name.\n",
    "print(cities)\n",
    "for city in cities:\n",
    "    print(city);"
   ]
  },
  {
   "cell_type": "code",
   "execution_count": 18,
   "metadata": {},
   "outputs": [
    {
     "name": "stdout",
     "output_type": "stream",
     "text": [
      "this is string example....wow!!!\n"
     ]
    }
   ],
   "source": [
    "str = \"0000000this is string example....wow!!!0000000\";\n",
    "print(str.strip( '0' ))"
   ]
  },
  {
   "cell_type": "code",
   "execution_count": 22,
   "metadata": {},
   "outputs": [
    {
     "name": "stdout",
     "output_type": "stream",
     "text": [
      "50342=Data,231\n"
     ]
    }
   ],
   "source": [
    "# Has numbers on left and right, and some syntax.\n",
    "value = \"50342=Data,231Data\"\n",
    "\n",
    "# Strip all digits.\n",
    "# ... Also remove equals sign and comma.\n",
    "#result = value.strip(\"0123456789=,\")\n",
    "result = value.strip(\"Data\")\n",
    "print(result)"
   ]
  },
  {
   "cell_type": "code",
   "execution_count": 11,
   "metadata": {},
   "outputs": [
    {
     "name": "stdout",
     "output_type": "stream",
     "text": [
      "34\n",
      "['This string', 'has many', 'characters and many', 'lines.']\n",
      "[This string]\n",
      "[has many]\n",
      "[characters and many]\n",
      "[lines.]\n"
     ]
    }
   ],
   "source": [
    "i = 34;\n",
    "print(i)\n",
    "\n",
    "# Data.\n",
    "s = \"\"\"This string\n",
    "has many\n",
    "characters and many\n",
    "lines.\"\"\"\n",
    "\n",
    "# Split on line breaks.\n",
    "lines = s.splitlines()\n",
    "print(lines)\n",
    "\n",
    "# Loop and display each line.\n",
    "for line in lines:\n",
    "    print(\"[\" +  line + \"]\")"
   ]
  },
  {
   "cell_type": "code",
   "execution_count": 23,
   "metadata": {},
   "outputs": [
    {
     "name": "stdout",
     "output_type": "stream",
     "text": [
      "['100', '200', '50']\n",
      "100 200 50 \n",
      "350\n"
     ]
    }
   ],
   "source": [
    "numbers = \"100.200.50\"\n",
    "\n",
    "# Split apart the numbers.\n",
    "myvalues = numbers.split(\".\")\n",
    "print(myvalues)\n",
    "# Loop over strings and convert them to integers.\n",
    "# ... Then sum them.\n",
    "total = 0\n",
    "for var in myvalues:\n",
    "    print(var,end=\" \")\n",
    "print()\n",
    "for var in myvalues:\n",
    "    total = total + int(var)\n",
    "print(total)"
   ]
  },
  {
   "cell_type": "code",
   "execution_count": 1,
   "metadata": {},
   "outputs": [
    {
     "name": "stdout",
     "output_type": "stream",
     "text": [
      "100 121 144 169 196 225 256 289 324 361 400 "
     ]
    }
   ],
   "source": [
    "for num in range(10,21):\n",
    "    print(num * num, end = \" \")"
   ]
  },
  {
   "cell_type": "code",
   "execution_count": null,
   "metadata": {},
   "outputs": [],
   "source": [
    "#Write a program to print all the perfect squares\n",
    "#Write a program to find the roots of the quadratic equation with a = 10, b = 6 and c = 20\n",
    "#find the distance between two points whose coordinates are (10,5,7), (20,9,6) \n",
    "\n",
    "#square root of (x2-x1)^2 + (y2-y1)^2 + (z2-z1)^2"
   ]
  },
  {
   "cell_type": "code",
   "execution_count": null,
   "metadata": {},
   "outputs": [],
   "source": [
    "Rav567#.iTej343a\n",
    "RaviTeja"
   ]
  }
 ],
 "metadata": {
  "kernelspec": {
   "display_name": "Python 3 (ipykernel)",
   "language": "python",
   "name": "python3"
  },
  "language_info": {
   "codemirror_mode": {
    "name": "ipython",
    "version": 3
   },
   "file_extension": ".py",
   "mimetype": "text/x-python",
   "name": "python",
   "nbconvert_exporter": "python",
   "pygments_lexer": "ipython3",
   "version": "3.9.7"
  }
 },
 "nbformat": 4,
 "nbformat_minor": 4
}
