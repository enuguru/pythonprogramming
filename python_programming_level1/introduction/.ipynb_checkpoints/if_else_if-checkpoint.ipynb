{
 "cells": [
  {
   "cell_type": "code",
   "execution_count": 1,
   "id": "223a8042",
   "metadata": {},
   "outputs": [
    {
     "name": "stdout",
     "output_type": "stream",
     "text": [
      "1 - Got a true expression value\n",
      "100\n",
      "2 - Got a false expression value\n",
      "0\n",
      "Good bye!\n"
     ]
    }
   ],
   "source": [
    "var1 = 100\n",
    "if var1:\n",
    "   print(\"1 - Got a true expression value\")\n",
    "   print(var1)\n",
    "else:\n",
    "   print(\"1 - Got a false expression value\")\n",
    "   print(var1)\n",
    "\n",
    "var2 = 0\n",
    "if var2:\n",
    "   print(\"2 - Got a true expression value\")\n",
    "   print(var2)\n",
    "else:\n",
    "   print(\"2 - Got a false expression value\")\n",
    "   print(var2)\n",
    "\n",
    "print(\"Good bye!\")"
   ]
  },
  {
   "cell_type": "code",
   "execution_count": 6,
   "id": "510fc923",
   "metadata": {},
   "outputs": [
    {
     "name": "stdout",
     "output_type": "stream",
     "text": [
      "It's true!\n",
      "If is awesome!\n"
     ]
    }
   ],
   "source": [
    "if (5 ** 2 >= 25):\n",
    "\tprint(\"It's true!\")\n",
    "\tprint(\"If is awesome!\")"
   ]
  },
  {
   "cell_type": "code",
   "execution_count": 7,
   "id": "bde2118c",
   "metadata": {},
   "outputs": [
    {
     "name": "stdout",
     "output_type": "stream",
     "text": [
      "Booleans make If more powerful!\n"
     ]
    }
   ],
   "source": [
    "if( (5 ** 2 >= 25) and (4 * 2 < 8) or (35 / 7 > 4) ):\n",
    "\tprint(\"Booleans make If more powerful!\")"
   ]
  },
  {
   "cell_type": "code",
   "execution_count": 8,
   "id": "a66c2bb3",
   "metadata": {},
   "outputs": [
    {
     "name": "stdout",
     "output_type": "stream",
     "text": [
      "This is isn't part of if, so it will\n"
     ]
    }
   ],
   "source": [
    "if (4 * 2 < 8):\n",
    "\tprint(\"This won't run\")\n",
    "\n",
    "print(\"This is isn't part of if, so it will\")"
   ]
  },
  {
   "cell_type": "code",
   "execution_count": 9,
   "id": "34cbb4c1",
   "metadata": {},
   "outputs": [],
   "source": [
    "if (not (5 ** 2 >= 25)):\n",
    "\tprint(\"Bizarro!\")"
   ]
  },
  {
   "cell_type": "code",
   "execution_count": 10,
   "id": "703a45e1",
   "metadata": {},
   "outputs": [
    {
     "name": "stdout",
     "output_type": "stream",
     "text": [
      "That makes sense.\n"
     ]
    }
   ],
   "source": [
    "if (5 ** 2 > 25):\n",
    "\tprint(\"Your math looks a bit off...\")\n",
    "else:\n",
    "\tprint(\"That makes sense.\")"
   ]
  },
  {
   "cell_type": "code",
   "execution_count": 12,
   "id": "2d329d0d",
   "metadata": {},
   "outputs": [
    {
     "name": "stdout",
     "output_type": "stream",
     "text": [
      "25\n"
     ]
    }
   ],
   "source": [
    "a = 10\n",
    "b = 15\n",
    "c = 20\n",
    "d = 25\n",
    "\n",
    "if (a > b):\n",
    "\tif (a + b >= d):\n",
    "\t\td -= c\n",
    "\telif (a + b >= c):\n",
    "\t\tc -=b\n",
    "\telse:\n",
    "\t\tb -= a\n",
    "elif (b > c):\n",
    "\tprint(b - c) \n",
    "else:\n",
    "\tprint(d)"
   ]
  },
  {
   "cell_type": "code",
   "execution_count": 13,
   "id": "b1baecff",
   "metadata": {},
   "outputs": [
    {
     "name": "stdout",
     "output_type": "stream",
     "text": [
      "3 - Got a true expression value\n",
      "100\n",
      "Good bye!\n"
     ]
    }
   ],
   "source": [
    "#!/usr/bin/python\n",
    "\n",
    "var = 100\n",
    "if var == 200:\n",
    "   print(\"1 - Got a true expression value\")\n",
    "   print(var)\n",
    "elif var == 150:\n",
    "   print(\"2 - Got a true expression value\")\n",
    "   print(var)\n",
    "elif var == 100:\n",
    "   print(\"3 - Got a true expression value\")\n",
    "   print(var)\n",
    "else:\n",
    "   print(\"4 - Got a false expression value\")\n",
    "   print(var)\n",
    "\n",
    "print(\"Good bye!\")"
   ]
  },
  {
   "cell_type": "code",
   "execution_count": null,
   "id": "e4ef27e7",
   "metadata": {},
   "outputs": [],
   "source": []
  }
 ],
 "metadata": {
  "kernelspec": {
   "display_name": "Python 3 (ipykernel)",
   "language": "python",
   "name": "python3"
  },
  "language_info": {
   "codemirror_mode": {
    "name": "ipython",
    "version": 3
   },
   "file_extension": ".py",
   "mimetype": "text/x-python",
   "name": "python",
   "nbconvert_exporter": "python",
   "pygments_lexer": "ipython3",
   "version": "3.9.7"
  }
 },
 "nbformat": 4,
 "nbformat_minor": 5
}
