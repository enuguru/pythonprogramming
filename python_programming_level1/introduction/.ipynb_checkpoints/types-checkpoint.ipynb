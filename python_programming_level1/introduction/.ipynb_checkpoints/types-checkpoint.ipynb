{
 "cells": [
  {
   "cell_type": "code",
   "execution_count": 115,
   "id": "5a4fb905",
   "metadata": {},
   "outputs": [
    {
     "name": "stdout",
     "output_type": "stream",
     "text": [
      "True\n",
      "<class 'bool'>\n",
      "<class 'bool'>\n",
      "<class 'bool'>\n"
     ]
    }
   ],
   "source": [
    "x = True\n",
    "print(x)\n",
    "print(type(x))\n",
    "print(type(False))\n",
    "print(type(True))"
   ]
  },
  {
   "cell_type": "code",
   "execution_count": 118,
   "id": "d06fa942",
   "metadata": {},
   "outputs": [
    {
     "name": "stdout",
     "output_type": "stream",
     "text": [
      "range(0, 10)\n",
      "<class 'range'>\n",
      "0 1 2 3 4 5 6 7 8 9 "
     ]
    }
   ],
   "source": [
    "x = range(10)\n",
    "print(x)\n",
    "print(type(x))\n",
    "for num in x:\n",
    "    print(num, end=\" \")"
   ]
  },
  {
   "cell_type": "code",
   "execution_count": 31,
   "id": "7eb02bb7",
   "metadata": {},
   "outputs": [
    {
     "name": "stdout",
     "output_type": "stream",
     "text": [
      "<class 'int'>\n"
     ]
    }
   ],
   "source": [
    "print(type(10))"
   ]
  },
  {
   "cell_type": "code",
   "execution_count": 51,
   "id": "94caba6d",
   "metadata": {},
   "outputs": [
    {
     "name": "stdout",
     "output_type": "stream",
     "text": [
      "<class 'int'>\n",
      "<class 'float'>\n",
      "<class 'str'>\n",
      "<class 'str'>\n"
     ]
    }
   ],
   "source": [
    "x = 20\n",
    "print(type(x))\n",
    "y = 23.45\n",
    "print(type(y))\n",
    "z = \"nuanced\"\n",
    "print(type(z))\n",
    "k = 't'\n",
    "print(type(k))"
   ]
  },
  {
   "cell_type": "code",
   "execution_count": 39,
   "id": "95b579c8",
   "metadata": {},
   "outputs": [
    {
     "name": "stdout",
     "output_type": "stream",
     "text": [
      "<class 'list'>\n",
      "<class 'dict'>\n",
      "<class 'str'>\n",
      "<class 'tuple'>\n",
      "<class 'set'>\n"
     ]
    }
   ],
   "source": [
    "print(type([]))\n",
    "print(type({}))\n",
    "print(type(\"\"\"\"\"\"))\n",
    "print(type(()))\n",
    "x=set()\n",
    "print(type(x))"
   ]
  },
  {
   "cell_type": "code",
   "execution_count": 122,
   "id": "3753c85f",
   "metadata": {},
   "outputs": [
    {
     "name": "stdout",
     "output_type": "stream",
     "text": [
      "<class 'builtin_function_or_method'>\n"
     ]
    }
   ],
   "source": [
    "x = [2,4]\n",
    "print(type(x.append))"
   ]
  },
  {
   "cell_type": "code",
   "execution_count": 56,
   "id": "b755d72e",
   "metadata": {},
   "outputs": [
    {
     "name": "stdout",
     "output_type": "stream",
     "text": [
      "<class 'str'>\n",
      "<class 'str'>\n",
      "<class 'str'>\n"
     ]
    }
   ],
   "source": [
    "print(type(\"\"))\n",
    "print(type(\"\"\" \"\"\"))\n",
    "print(type(' '))"
   ]
  },
  {
   "cell_type": "code",
   "execution_count": 65,
   "id": "371cb91f",
   "metadata": {},
   "outputs": [
    {
     "name": "stdout",
     "output_type": "stream",
     "text": [
      "<class 'type'>\n",
      "<class '__main__.Sample'>\n"
     ]
    }
   ],
   "source": [
    "class Sample:\n",
    "     @classmethod\n",
    "     def newfunc(self):\n",
    "            pass\n",
    "     @staticmethod   \n",
    "     def thisfunc(self):\n",
    "            pass\n",
    "    \n",
    "     def __next__(self):\n",
    "            pass\n",
    "\n",
    "ins = Sample()\n",
    "print(type(Sample))\n",
    "print(type(ins))\n",
    "#print(type(c.__next__))\n",
    "#print(type(newfunc))\n",
    "#print(type(c.thisfunc))"
   ]
  },
  {
   "cell_type": "code",
   "execution_count": 45,
   "id": "b79f3c1f",
   "metadata": {},
   "outputs": [
    {
     "name": "stdout",
     "output_type": "stream",
     "text": [
      "True\n",
      "True\n",
      "<class '__main__.Test1'>\n",
      "<class '__main__.Test2'>\n"
     ]
    }
   ],
   "source": [
    "class Test1 ():\n",
    "    pass\n",
    "class Test2 (Test1):\n",
    "    pass\n",
    "a = Test1()\n",
    "b = Test2()\n",
    "print(type(a) is Test1)\n",
    "print(type(b) is Test2)\n",
    "print(type(a))\n",
    "print(type(b))"
   ]
  },
  {
   "cell_type": "code",
   "execution_count": 48,
   "id": "df4ff904",
   "metadata": {},
   "outputs": [
    {
     "name": "stdout",
     "output_type": "stream",
     "text": [
      "True\n",
      "True\n",
      "True\n",
      "False\n",
      "True\n",
      "True\n",
      "True\n"
     ]
    }
   ],
   "source": [
    "print(isinstance(a, Test1))\n",
    "print(isinstance(b, Test1))\n",
    "print(isinstance(a, Test1))\n",
    "print(isinstance(a, Test2))\n",
    "print(isinstance(b, Test2))\n",
    "print(isinstance([], list))\n",
    "print(isinstance({}, dict))"
   ]
  },
  {
   "cell_type": "code",
   "execution_count": 58,
   "id": "7c86b8c2",
   "metadata": {},
   "outputs": [
    {
     "name": "stdout",
     "output_type": "stream",
     "text": [
      "<class 'type'>\n",
      "<class '__main__.Sample'>\n"
     ]
    }
   ],
   "source": [
    "class Sample:\n",
    "    pass\n",
    "print(type(Sample))\n",
    "\n",
    "ins = Sample()\n",
    "print(type(ins))"
   ]
  },
  {
   "cell_type": "code",
   "execution_count": 67,
   "id": "398b5b50",
   "metadata": {},
   "outputs": [
    {
     "name": "stdout",
     "output_type": "stream",
     "text": [
      "Equal\n",
      "<class 'function'>\n"
     ]
    }
   ],
   "source": [
    "class Dates:\n",
    "    def __init__(self, date):\n",
    "        self.date = date\n",
    "        \n",
    "    def getDate(self):\n",
    "        return self.date\n",
    "\n",
    "    @staticmethod\n",
    "    def toDashDate(date):\n",
    "        return date.replace(\"/\", \"-\")\n",
    "\n",
    "date = Dates(\"15-12-2016\")\n",
    "dateFromDB = \"15/12/2016\"\n",
    "dateWithDash = Dates.toDashDate(dateFromDB)\n",
    "\n",
    "if(date.getDate() == dateWithDash):\n",
    "    print(\"Equal\")\n",
    "else:\n",
    "    print(\"Unequal\")\n",
    "\n",
    "print(type(Dates.toDashDate))"
   ]
  },
  {
   "cell_type": "code",
   "execution_count": 68,
   "id": "02ff0e97",
   "metadata": {},
   "outputs": [
    {
     "name": "stdout",
     "output_type": "stream",
     "text": [
      "2\n"
     ]
    }
   ],
   "source": [
    "class MyClass(object):\n",
    "    @staticmethod\n",
    "    def the_static_method(x):\n",
    "        print(x)\n",
    "\n",
    "MyClass.the_static_method(2)  # outputs 2"
   ]
  },
  {
   "cell_type": "code",
   "execution_count": 69,
   "id": "c8c02327",
   "metadata": {},
   "outputs": [],
   "source": [
    "class Date(object):\n",
    "    \n",
    "    def __init__(self, day=0, month=0, year=0):\n",
    "        self.day = day\n",
    "        self.month = month\n",
    "        self.year = year\n",
    "\n",
    "    @classmethod\n",
    "    def from_string(cls, date_as_string):\n",
    "        day, month, year = map(int, date_as_string.split('-'))\n",
    "        date1 = cls(day, month, year)\n",
    "        return date1\n",
    "\n",
    "    @staticmethod\n",
    "    def is_date_valid(date_as_string):\n",
    "        day, month, year = map(int, date_as_string.split('-'))\n",
    "        return day <= 31 and month <= 12 and year <= 3999\n",
    "\n",
    "date2 = Date.from_string('11-09-2012')\n",
    "is_date = Date.is_date_valid('11-09-2012')"
   ]
  },
  {
   "cell_type": "code",
   "execution_count": 72,
   "id": "df5aba9b",
   "metadata": {},
   "outputs": [
    {
     "name": "stdout",
     "output_type": "stream",
     "text": [
      "11 9 2012\n",
      "True\n"
     ]
    }
   ],
   "source": [
    "print(date2.day, date2.month, date2.year)\n",
    "print(is_date)"
   ]
  },
  {
   "cell_type": "code",
   "execution_count": 129,
   "id": "3093bac3",
   "metadata": {},
   "outputs": [
    {
     "name": "stdout",
     "output_type": "stream",
     "text": [
      "<class 'function'>\n",
      "<class 'function'>\n",
      "<class 'method'>\n"
     ]
    }
   ],
   "source": [
    "print(type(Date.__init__))\n",
    "print(type(Date.is_date_valid))\n",
    "print(type(Date.from_string))"
   ]
  },
  {
   "cell_type": "code",
   "execution_count": 85,
   "id": "0ee35c6a",
   "metadata": {},
   "outputs": [
    {
     "name": "stdout",
     "output_type": "stream",
     "text": [
      "bytearray(b'\\x00\\x00\\x00\\x00')\n",
      "<class 'bytearray'>\n"
     ]
    }
   ],
   "source": [
    "x = bytearray(4)\n",
    "print(x)\n",
    "print(type(x))"
   ]
  },
  {
   "cell_type": "code",
   "execution_count": 89,
   "id": "ff26a45a",
   "metadata": {},
   "outputs": [
    {
     "name": "stdout",
     "output_type": "stream",
     "text": [
      "b'\\x00\\x00\\x00\\x00'\n",
      "<class 'bytes'>\n"
     ]
    }
   ],
   "source": [
    "x = bytes(4)\n",
    "print(x)\n",
    "print(type(x))"
   ]
  },
  {
   "cell_type": "raw",
   "id": "2414fae0",
   "metadata": {},
   "source": [
    "# The difference between bytes() and bytearray() is that bytes() returns an object that cannot be modified, and bytearray() returns an object that can be modified."
   ]
  },
  {
   "cell_type": "code",
   "execution_count": 102,
   "id": "a28dfb82",
   "metadata": {},
   "outputs": [
    {
     "name": "stdout",
     "output_type": "stream",
     "text": [
      "<memory at 0x000002B2EABA9A00>\n",
      "72\n",
      "105\n",
      "<class 'memoryview'>\n"
     ]
    }
   ],
   "source": [
    "x = memoryview(b\"Hi How are you doing\")\n",
    "print(x)\n",
    "#return the Unicode of the first character\n",
    "print(x[0])\n",
    "#return the Unicode of the second character\n",
    "print(x[1])\n",
    "#returns the type of x\n",
    "print(type(x))"
   ]
  },
  {
   "cell_type": "code",
   "execution_count": 100,
   "id": "25c33ecc",
   "metadata": {},
   "outputs": [
    {
     "name": "stdout",
     "output_type": "stream",
     "text": [
      "bytearray(b'\\x1e\\nd')\n",
      "<class 'bytearray'>\n",
      "BYTE: 30\n",
      "BYTE: 20\n",
      "BYTE: 100\n"
     ]
    }
   ],
   "source": [
    "elements = [30, 10, 100]\n",
    "\n",
    "# Create immutable bytes object.\n",
    "data = bytearray(elements)\n",
    "print(data)\n",
    "print(type(data))\n",
    "data[1] = 20\n",
    "# Loop over bytes.\n",
    "for item in data:\n",
    "    print(\"BYTE:\", item)"
   ]
  },
  {
   "cell_type": "code",
   "execution_count": 101,
   "id": "3f31f246",
   "metadata": {},
   "outputs": [
    {
     "name": "stdout",
     "output_type": "stream",
     "text": [
      "<class 'bytes'>\n",
      "b'\\x1e\\nd'\n",
      "BYTE: 30\n",
      "BYTE: 10\n",
      "BYTE: 100\n",
      "100\n"
     ]
    }
   ],
   "source": [
    "elements = [30, 10, 100]\n",
    "\n",
    "# Create immutable bytes object.\n",
    "data = bytes(elements)\n",
    "print(type(data))\n",
    "print(data)\n",
    "#data[1] = 20\n",
    "# Loop over bytes.\n",
    "for item in data:\n",
    "    print(\"BYTE:\", item)\n",
    "x = memoryview(data)\n",
    "print(x[2])"
   ]
  },
  {
   "cell_type": "code",
   "execution_count": 105,
   "id": "63a43309",
   "metadata": {},
   "outputs": [
    {
     "name": "stdout",
     "output_type": "stream",
     "text": [
      "<class '__main__.Point'>\n",
      "<class 'type'>\n"
     ]
    }
   ],
   "source": [
    "from collections import namedtuple\n",
    "Point = namedtuple('Point', 'x y')\n",
    "pt1 = Point(1.0, 5.0)\n",
    "pt2 = Point(2.5, 1.5)\n",
    "print(type(pt1))\n",
    "print(type(Point))\n",
    "\n",
    "from math import sqrt\n",
    "line_length = sqrt((pt1.x-pt2.x)**2 + (pt1.y-pt2.y)**2)"
   ]
  },
  {
   "cell_type": "code",
   "execution_count": 110,
   "id": "ea1247c1",
   "metadata": {},
   "outputs": [
    {
     "name": "stdout",
     "output_type": "stream",
     "text": [
      "['apple', 'banana', 'cherry']\n",
      "<class 'list'>\n",
      "frozenset({'cherry', 'banana', 'apple'})\n",
      "<class 'frozenset'>\n"
     ]
    }
   ],
   "source": [
    "mylist = ['apple', 'banana', 'cherry']\n",
    "x = frozenset(mylist)\n",
    "print(mylist)\n",
    "print(type(mylist))\n",
    "print(x)\n",
    "print(type(x))"
   ]
  },
  {
   "cell_type": "code",
   "execution_count": 130,
   "id": "0c624dd1",
   "metadata": {},
   "outputs": [
    {
     "name": "stdout",
     "output_type": "stream",
     "text": [
      "<class 'mappingproxy'>\n"
     ]
    }
   ],
   "source": [
    "print(type(object.__dict__))"
   ]
  },
  {
   "cell_type": "code",
   "execution_count": 3,
   "id": "9ed7c41d",
   "metadata": {},
   "outputs": [
    {
     "name": "stdout",
     "output_type": "stream",
     "text": [
      "<generator object <genexpr> at 0x0000028184CA82E0>\n",
      "<class 'generator'>\n"
     ]
    }
   ],
   "source": [
    "genexpr = (x for x in range(10))\n",
    "print(genexpr)\n",
    "print(type(genexpr))"
   ]
  },
  {
   "cell_type": "code",
   "execution_count": 5,
   "id": "6388125b",
   "metadata": {},
   "outputs": [
    {
     "name": "stdout",
     "output_type": "stream",
     "text": [
      "<function newfunc at 0x0000028184C7B9D0>\n"
     ]
    }
   ],
   "source": [
    "def newfunc():\n",
    "    x = 10\n",
    "    yield x\n",
    "    x = x + 1\n",
    "print(newfunc)"
   ]
  },
  {
   "cell_type": "code",
   "execution_count": null,
   "id": "d1b8effb",
   "metadata": {},
   "outputs": [],
   "source": []
  }
 ],
 "metadata": {
  "kernelspec": {
   "display_name": "Python 3 (ipykernel)",
   "language": "python",
   "name": "python3"
  },
  "language_info": {
   "codemirror_mode": {
    "name": "ipython",
    "version": 3
   },
   "file_extension": ".py",
   "mimetype": "text/x-python",
   "name": "python",
   "nbconvert_exporter": "python",
   "pygments_lexer": "ipython3",
   "version": "3.9.7"
  }
 },
 "nbformat": 4,
 "nbformat_minor": 5
}
