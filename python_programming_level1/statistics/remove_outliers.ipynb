{
 "cells": [
  {
   "cell_type": "code",
   "execution_count": 3,
   "id": "c47212f8",
   "metadata": {},
   "outputs": [],
   "source": [
    "def removeOutliers(data, num_outliers):\n",
    "    retval = sorted(data)  #  2 3 6 12 67 88 900\n",
    "    \n",
    "    for i in range(num_outliers):\n",
    "        retval.pop()\n",
    "        \n",
    "    for i in range(num_outliers):\n",
    "        retval.pop(0)\n",
    "        \n",
    "    return retval"
   ]
  },
  {
   "cell_type": "code",
   "execution_count": 4,
   "id": "23410c4f",
   "metadata": {},
   "outputs": [
    {
     "name": "stdout",
     "output_type": "stream",
     "text": [
      "Enter a value (blank line to quit): 34 56 77 88 99 1\n"
     ]
    },
    {
     "ename": "ValueError",
     "evalue": "could not convert string to float: '34 56 77 88 99 1'",
     "output_type": "error",
     "traceback": [
      "\u001b[1;31m---------------------------------------------------------------------------\u001b[0m",
      "\u001b[1;31mValueError\u001b[0m                                Traceback (most recent call last)",
      "Cell \u001b[1;32mIn[4], line 15\u001b[0m\n\u001b[0;32m     12\u001b[0m         \u001b[38;5;28mprint\u001b[39m(\u001b[38;5;124m\"\u001b[39m\u001b[38;5;124mWith the outliers removed: \u001b[39m\u001b[38;5;124m\"\u001b[39m, removeOutliers(values,\u001b[38;5;241m1\u001b[39m))\n\u001b[0;32m     13\u001b[0m         \u001b[38;5;28mprint\u001b[39m(\u001b[38;5;124m\"\u001b[39m\u001b[38;5;124mThe original data: \u001b[39m\u001b[38;5;124m\"\u001b[39m, values)\n\u001b[1;32m---> 15\u001b[0m \u001b[43mmain\u001b[49m\u001b[43m(\u001b[49m\u001b[43m)\u001b[49m\n",
      "Cell \u001b[1;32mIn[4], line 5\u001b[0m, in \u001b[0;36mmain\u001b[1;34m()\u001b[0m\n\u001b[0;32m      3\u001b[0m s \u001b[38;5;241m=\u001b[39m \u001b[38;5;28minput\u001b[39m(\u001b[38;5;124m\"\u001b[39m\u001b[38;5;124mEnter a value (blank line to quit): \u001b[39m\u001b[38;5;124m\"\u001b[39m)\n\u001b[0;32m      4\u001b[0m \u001b[38;5;28;01mwhile\u001b[39;00m s\u001b[38;5;241m!=\u001b[39m \u001b[38;5;124m\"\u001b[39m\u001b[38;5;124m\"\u001b[39m:\n\u001b[1;32m----> 5\u001b[0m     num \u001b[38;5;241m=\u001b[39m \u001b[38;5;28;43mfloat\u001b[39;49m\u001b[43m(\u001b[49m\u001b[43ms\u001b[49m\u001b[43m)\u001b[49m\n\u001b[0;32m      6\u001b[0m     values\u001b[38;5;241m.\u001b[39mappend(num)\n\u001b[0;32m      7\u001b[0m     s \u001b[38;5;241m=\u001b[39m \u001b[38;5;28minput\u001b[39m(\u001b[38;5;124m\"\u001b[39m\u001b[38;5;124mEnter a value (blank line to quit): \u001b[39m\u001b[38;5;124m\"\u001b[39m)\n",
      "\u001b[1;31mValueError\u001b[0m: could not convert string to float: '34 56 77 88 99 1'"
     ]
    }
   ],
   "source": [
    "def main():\n",
    "    values = []\n",
    "    s = input(\"Enter a value (blank line to quit): \")\n",
    "    while s!= \"\":\n",
    "        num = float(s)\n",
    "        values.append(num)\n",
    "        s = input(\"Enter a value (blank line to quit): \")\n",
    "        \n",
    "    if len(values) < 4:\n",
    "        print(\"You did not enter enough values\")\n",
    "    else:\n",
    "        print(\"With the outliers removed: \", removeOutliers(values,1))\n",
    "        print(\"The original data: \", values)\n",
    "        \n",
    "main()"
   ]
  },
  {
   "cell_type": "code",
   "execution_count": null,
   "id": "6feed1e3",
   "metadata": {},
   "outputs": [],
   "source": []
  }
 ],
 "metadata": {
  "kernelspec": {
   "display_name": "Python 3 (ipykernel)",
   "language": "python",
   "name": "python3"
  },
  "language_info": {
   "codemirror_mode": {
    "name": "ipython",
    "version": 3
   },
   "file_extension": ".py",
   "mimetype": "text/x-python",
   "name": "python",
   "nbconvert_exporter": "python",
   "pygments_lexer": "ipython3",
   "version": "3.10.9"
  }
 },
 "nbformat": 4,
 "nbformat_minor": 5
}
