{
 "cells": [
  {
   "cell_type": "code",
   "execution_count": 1,
   "id": "c47212f8",
   "metadata": {},
   "outputs": [],
   "source": [
    "def removeOutliers(data, num_outliers):\n",
    "    retval = sorted(data)\n",
    "    \n",
    "    for i in range(num_outliers):\n",
    "        retval.pop()\n",
    "        \n",
    "    for i in range(num_outliers):\n",
    "        retval.pop(0)\n",
    "        \n",
    "    return retval"
   ]
  },
  {
   "cell_type": "code",
   "execution_count": 8,
   "id": "23410c4f",
   "metadata": {},
   "outputs": [
    {
     "name": "stdout",
     "output_type": "stream",
     "text": [
      "Enter a value (blank line to quit): 45\n",
      "Enter a value (blank line to quit): 78\n",
      "Enter a value (blank line to quit): 990\n",
      "Enter a value (blank line to quit): 107\n",
      "Enter a value (blank line to quit): 1009\n",
      "Enter a value (blank line to quit): 2009\n",
      "Enter a value (blank line to quit): \n",
      "With the outliers removed:  [78.0, 107.0, 990.0, 1009.0]\n",
      "The original data:  [45.0, 78.0, 990.0, 107.0, 1009.0, 2009.0]\n"
     ]
    }
   ],
   "source": [
    "def main():\n",
    "    values = []\n",
    "    s = input(\"Enter a value (blank line to quit): \")\n",
    "    while s!= \"\":\n",
    "        num = float(s)\n",
    "        values.append(num)\n",
    "        s = input(\"Enter a value (blank line to quit): \")\n",
    "        \n",
    "    if len(values) < 4:\n",
    "        print(\"You did not enter enough values\")\n",
    "    else:\n",
    "        print(\"With the outliers removed: \", removeOutliers(values,1))\n",
    "        print(\"The original data: \", values)\n",
    "        \n",
    "main()"
   ]
  },
  {
   "cell_type": "code",
   "execution_count": null,
   "id": "6feed1e3",
   "metadata": {},
   "outputs": [],
   "source": []
  }
 ],
 "metadata": {
  "kernelspec": {
   "display_name": "Python 3 (ipykernel)",
   "language": "python",
   "name": "python3"
  },
  "language_info": {
   "codemirror_mode": {
    "name": "ipython",
    "version": 3
   },
   "file_extension": ".py",
   "mimetype": "text/x-python",
   "name": "python",
   "nbconvert_exporter": "python",
   "pygments_lexer": "ipython3",
   "version": "3.10.9"
  }
 },
 "nbformat": 4,
 "nbformat_minor": 5
}
