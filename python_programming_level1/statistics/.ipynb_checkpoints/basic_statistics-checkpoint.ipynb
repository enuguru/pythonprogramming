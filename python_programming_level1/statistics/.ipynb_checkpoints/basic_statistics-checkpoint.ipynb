{
 "cells": [
  {
   "cell_type": "markdown",
   "id": "821b61e5",
   "metadata": {},
   "source": [
    "# finding average"
   ]
  },
  {
   "cell_type": "code",
   "execution_count": 2,
   "id": "75548c84",
   "metadata": {},
   "outputs": [
    {
     "name": "stdout",
     "output_type": "stream",
     "text": [
      "3\n",
      "1 2 3\n",
      "2.0\n",
      "2\n",
      "1\n"
     ]
    }
   ],
   "source": [
    "val = int(input())\n",
    "arraylist = sorted(list(map(int,input().split())))\n",
    "\n",
    "print(sum(arraylist) / len(arraylist))\n",
    "\n",
    "if val%2 == 0:\n",
    "    median = (arraylist[(val//2)-1] + arraylist[(val//2)])/2\n",
    "else:\n",
    "    median = arraylist[((val-1)//2)]\n",
    "print(median)\n",
    "\n",
    "mode = max(sorted(arraylist), key=arraylist.count)\n",
    "print(mode)"
   ]
  },
  {
   "cell_type": "markdown",
   "id": "86d63f65",
   "metadata": {},
   "source": [
    "# weighted average"
   ]
  },
  {
   "cell_type": "code",
   "execution_count": null,
   "id": "35a315cc",
   "metadata": {},
   "outputs": [],
   "source": [
    "val = int(input())\n",
    "arraylist = list(map(int,input().split()))\n",
    "weightlist = list(map(int,input().split()))\n",
    "mysum = 0\n",
    "for i in range(val): \n",
    "    mysum = mysum + (arraylist[i] * weightlist[i])\n",
    "print(round(mysum/sum(weightlist),1))"
   ]
  },
  {
   "cell_type": "markdown",
   "id": "3910616f",
   "metadata": {},
   "source": [
    "# variance and standard deviation"
   ]
  },
  {
   "cell_type": "code",
   "execution_count": 4,
   "id": "9f00cad9",
   "metadata": {},
   "outputs": [
    {
     "name": "stdout",
     "output_type": "stream",
     "text": [
      "3\n",
      "45 67 89\n",
      "17.962924780409974\n",
      "322.6666666666667\n"
     ]
    }
   ],
   "source": [
    "import math\n",
    "\n",
    "val = int(input())\n",
    "numbers = list(map(int,input().split()))\n",
    "squares = 0; stad = 0\n",
    "mean = sum(numbers) / val\n",
    "for num in numbers:\n",
    "    squares = squares + ((num-mean) * (num-mean))\n",
    "stad = math.sqrt(squares/val)\n",
    "print(stad)\n",
    "print(squares/val)"
   ]
  },
  {
   "cell_type": "code",
   "execution_count": null,
   "id": "bdac34a8",
   "metadata": {},
   "outputs": [],
   "source": []
  }
 ],
 "metadata": {
  "kernelspec": {
   "display_name": "Python 3 (ipykernel)",
   "language": "python",
   "name": "python3"
  },
  "language_info": {
   "codemirror_mode": {
    "name": "ipython",
    "version": 3
   },
   "file_extension": ".py",
   "mimetype": "text/x-python",
   "name": "python",
   "nbconvert_exporter": "python",
   "pygments_lexer": "ipython3",
   "version": "3.9.7"
  }
 },
 "nbformat": 4,
 "nbformat_minor": 5
}
