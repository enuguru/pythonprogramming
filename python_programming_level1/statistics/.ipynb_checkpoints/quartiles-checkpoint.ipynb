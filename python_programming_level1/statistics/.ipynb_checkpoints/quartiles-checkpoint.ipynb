{
 "cells": [
  {
   "cell_type": "code",
   "execution_count": 3,
   "metadata": {},
   "outputs": [
    {
     "data": {
      "text/plain": [
       "[1, 2, 3, 4, 5, 6, 7, 8, 9, 10]"
      ]
     },
     "execution_count": 3,
     "metadata": {},
     "output_type": "execute_result"
    }
   ],
   "source": [
    "sorted_listed_data = [1,2,3,4,5,6,7,8,9,10]\n",
    "sorted_listed_data.sort()\n",
    "sorted_listed_data"
   ]
  },
  {
   "cell_type": "code",
   "execution_count": 6,
   "metadata": {},
   "outputs": [],
   "source": [
    "def find_median(List): # finds the median of a sorted_list\n",
    "    number_of_data = len(List)\n",
    "    if number_of_data % 2 == 0:\n",
    "        median = (List[(number_of_data//2)]+List[(number_of_data//2-1)])/2\n",
    "    else:\n",
    "        median = List[(number_of_data//2)]\n",
    "    return median\n",
    "\n",
    "middle = len(sorted_listed_data)//2\n",
    "\n",
    "# lower quartile\n",
    "first_quartile = find_median(sorted_listed_data[:middle])\n",
    "\n",
    "# median\n",
    "second_quartile = find_median(sorted_listed_data)\n",
    "\n",
    "# upper quartile\n",
    "third_quartile = find_median(sorted_listed_data[middle:])\n",
    "\n"
   ]
  },
  {
   "cell_type": "code",
   "execution_count": 7,
   "metadata": {},
   "outputs": [
    {
     "name": "stdout",
     "output_type": "stream",
     "text": [
      "3\n",
      "5.5\n",
      "8\n"
     ]
    }
   ],
   "source": [
    "print(first_quartile)\n",
    "print(second_quartile)\n",
    "print(third_quartile)"
   ]
  },
  {
   "cell_type": "code",
   "execution_count": null,
   "metadata": {},
   "outputs": [],
   "source": []
  }
 ],
 "metadata": {
  "kernelspec": {
   "display_name": "Python 3 (ipykernel)",
   "language": "python",
   "name": "python3"
  },
  "language_info": {
   "codemirror_mode": {
    "name": "ipython",
    "version": 3
   },
   "file_extension": ".py",
   "mimetype": "text/x-python",
   "name": "python",
   "nbconvert_exporter": "python",
   "pygments_lexer": "ipython3",
   "version": "3.9.13"
  }
 },
 "nbformat": 4,
 "nbformat_minor": 4
}
