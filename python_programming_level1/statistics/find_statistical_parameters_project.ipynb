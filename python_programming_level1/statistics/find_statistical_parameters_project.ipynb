{
 "cells": [
  {
   "cell_type": "code",
   "execution_count": 24,
   "metadata": {},
   "outputs": [],
   "source": [
    "import matplotlib.pyplot as plt\n",
    "import numpy as np"
   ]
  },
  {
   "cell_type": "code",
   "execution_count": 25,
   "metadata": {},
   "outputs": [
    {
     "name": "stdout",
     "output_type": "stream",
     "text": [
      "[76.63173008 64.30557949 19.09199416 49.832323   62.42671948 35.59828879\n",
      " 55.31023171 52.17097051 50.08582862 46.50799579 58.6605238  74.06074748\n",
      " 30.69868659 70.56548156 54.5726026  58.90275226 27.26795576 52.70273757\n",
      " 79.69074004 28.40390228 10.44543439 15.13255408 55.32140328 97.69934661\n",
      " 72.47382507 83.45244427 51.98298432 77.95992754 44.57504024 62.2640837\n",
      " 44.65365623 39.01381972 52.65416592 40.4771597  76.16946162 53.90026558\n",
      " 58.00419977 43.24735326 75.12944528 35.36060996 63.20463102 42.98256217\n",
      " 31.2113328  40.21325566 33.90817715 45.74604723 43.21719508 56.24339873\n",
      " 61.30305339 47.05159485 49.48189326 55.78188408 39.20241857 64.1632004\n",
      " 66.84449477 54.07161595 97.8940733  68.34917875 47.75455058 42.75639106\n",
      " 45.35635488 39.96542201 72.57570306 36.04379939 48.37755632 39.41407838\n",
      " 70.92365714 21.62887942 42.75001634 47.56188618 56.38712842 59.21805803\n",
      " 45.68420215 69.78144915 56.29507558 99.35302113 19.83357026 62.41201326\n",
      " 29.09734925 34.03982365 89.70169183 84.89628297 12.87629039 45.54452602\n",
      " 48.68304305  7.36575783 49.02338977 57.86682434 54.3453029  10.11212461\n",
      " 72.1541647  54.89087953 48.76175941 34.92214079 64.23918033 68.36538303\n",
      " 40.35813722 51.79175225 66.53997245 10.9097576  52.34951322 11.85086224\n",
      " 31.5418147  59.39502868 47.11266474 41.99723296 44.08032294 66.96417218\n",
      " 64.1366091  34.25462148 55.8588145  40.58385497 98.08651212 35.21286523\n",
      " 43.74342485 43.02236164 41.21947528 52.82208336 55.4609864  17.62858504\n",
      " 38.53773277 23.59104908 74.72410652 99.30650164 77.66464459 56.92466231\n",
      " 70.45032214 53.33620534 83.13433249 63.35779218 45.40106712 27.40897611\n",
      " 37.20074792 56.27661043 25.48328039 45.56413727 76.7985262  50.58619422\n",
      " 89.70771492 78.94331201 44.24741173 22.81378854 49.0391735  40.3842532\n",
      " 57.55506172 82.28815948 27.5379193  42.22544106 56.64699899 72.69946346\n",
      " 60.21428823 58.28595282 76.89098847 59.87030634 45.25991631 51.145703\n",
      " 35.85857106 60.93329675 68.85000818 -9.59193542 74.36297701 48.86958554\n",
      " 59.21776905 63.24748023  4.09793342 26.08141377 43.33797676 34.17218458\n",
      " 55.48345562 39.70180155 15.77857606 62.24594625 72.00258748 61.28705053\n",
      " 35.74401126 44.78281043 60.96856133 62.063981   70.13722277 44.11147985\n",
      " 21.5823897  36.42106451 60.67769619 64.87948808 94.50099278 52.3436284\n",
      " 54.89229041 46.45402355 41.88540945 65.63550381 57.06955228 45.85441029\n",
      " 28.40605232 47.53860343 42.18035629 75.10347463 68.94252156 29.55378615\n",
      " 73.34336737 38.56046373]\n"
     ]
    }
   ],
   "source": [
    "np.random.seed(10)\n",
    "arraylist = np.random.normal(50, 20, 200)\n",
    "print(arraylist)"
   ]
  },
  {
   "cell_type": "code",
   "execution_count": 33,
   "metadata": {},
   "outputs": [
    {
     "name": "stdout",
     "output_type": "stream",
     "text": [
      "200\n",
      "51.48613846633367\n",
      "51.8873682842476\n",
      "-9.59193542122268\n"
     ]
    }
   ],
   "source": [
    "arraylist  = sorted(arraylist)\n",
    "val  = len(arraylist)\n",
    "print(val)\n",
    "print(sum(arraylist) / val )\n",
    "if val%2 == 0:\n",
    "    median = (arraylist[(val//2)-1] + arraylist[(val//2)])/2\n",
    "else:\n",
    "    median = arraylist[((val-1)//2)]\n",
    "print(median)\n",
    "arraylist = list(arraylist)\n",
    "mode = max(sorted(arraylist), key=arraylist.count)\n",
    "print(mode)"
   ]
  },
  {
   "cell_type": "code",
   "execution_count": 34,
   "metadata": {},
   "outputs": [
    {
     "name": "stdout",
     "output_type": "stream",
     "text": [
      "100\n",
      "40.285696442798695\n",
      "51.8873682842476\n"
     ]
    }
   ],
   "source": [
    "def find_median(arraylist): # finds the median of a sorted_list\n",
    "    number_of_data = len(arraylist)\n",
    "    if number_of_data % 2 == 0:\n",
    "        median = (arraylist[(number_of_data//2)]+arraylist[(number_of_data//2-1)])/2\n",
    "    else:\n",
    "        median = arraylist[(number_of_data//2)]\n",
    "    return median\n",
    "\n",
    "middle = len(arraylist)//2\n",
    "\n",
    "# lower quartile\n",
    "first_quartile = find_median(arraylist[:middle])\n",
    "\n",
    "# median\n",
    "second_quartile = find_median(arraylist[:])\n",
    "\n",
    "# upper quartile\n",
    "third_quartile = find_median(arraylist[middle:])\n"
   ]
  },
  {
   "cell_type": "code",
   "execution_count": 35,
   "metadata": {},
   "outputs": [
    {
     "name": "stdout",
     "output_type": "stream",
     "text": [
      "40.285696442798695\n",
      "51.8873682842476\n",
      "63.302636205580754\n"
     ]
    }
   ],
   "source": [
    "print(first_quartile)\n",
    "print(second_quartile)\n",
    "print(third_quartile)"
   ]
  },
  {
   "cell_type": "code",
   "execution_count": 31,
   "metadata": {},
   "outputs": [
    {
     "data": {
      "image/png": "[encoded data removed]",
      "text/plain": [
       "<Figure size 720x504 with 1 Axes>"
      ]
     },
     "metadata": {
      "needs_background": "light"
     },
     "output_type": "display_data"
    }
   ],
   "source": [
    "fig = plt.figure(figsize =(10, 7))\n",
    "plt.boxplot(data)\n",
    "plt.show()"
   ]
  },
  {
   "cell_type": "code",
   "execution_count": null,
   "metadata": {},
   "outputs": [],
   "source": []
  }
 ],
 "metadata": {
  "kernelspec": {
   "display_name": "Python 3",
   "language": "python",
   "name": "python3"
  },
  "language_info": {
   "codemirror_mode": {
    "name": "ipython",
    "version": 3
   },
   "file_extension": ".py",
   "mimetype": "text/x-python",
   "name": "python",
   "nbconvert_exporter": "python",
   "pygments_lexer": "ipython3",
   "version": "3.8.5"
  }
 },
 "nbformat": 4,
 "nbformat_minor": 4
}
