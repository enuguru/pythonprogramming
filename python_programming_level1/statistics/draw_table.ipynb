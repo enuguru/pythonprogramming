{
 "cells": [
  {
   "cell_type": "code",
   "execution_count": 10,
   "metadata": {},
   "outputs": [
    {
     "name": "stdout",
     "output_type": "stream",
     "text": [
      "-------  ------  -----------  ----\n",
      "Name     Gender  Course       CGPA\n",
      "Karthik  Male    Engineering  8.93\n",
      "Hansika  Female  Medicine     9.14\n",
      "Paula    Female  Journalism   7.95\n",
      "-------  ------  -----------  ----\n"
     ]
    }
   ],
   "source": [
    "from tabulate import tabulate\n",
    "data = [[\"Name\", \"Gender\", \"Course\", \"CGPA\"], [\"Karthik\", \"Male\", \"Engineering\", \"8.93\"], [\"Hansika\", \"Female\", \"Medicine\", \"9.14\"], [\"Paula\", \"Female\", \"Journalism\", \"7.95\"]]\n",
    "print(tabulate(data))"
   ]
  },
  {
   "cell_type": "code",
   "execution_count": 11,
   "metadata": {},
   "outputs": [
    {
     "name": "stdout",
     "output_type": "stream",
     "text": [
      "Name     Gender    Course         CGPA\n",
      "-------  --------  -----------  ------\n",
      "Karthik  Male      Engineering    8.93\n",
      "Hansika  Female    Medicine       9.14\n",
      "Paula    Female    Journalism     7.95\n"
     ]
    }
   ],
   "source": [
    "print(tabulate(data, headers='firstrow'))"
   ]
  },
  {
   "cell_type": "code",
   "execution_count": 12,
   "metadata": {},
   "outputs": [
    {
     "name": "stdout",
     "output_type": "stream",
     "text": [
      "+---------+----------+-------------+--------+\n",
      "| Name    | Gender   | Course      |   CGPA |\n",
      "+=========+==========+=============+========+\n",
      "| Karthik | Male     | Engineering |   8.93 |\n",
      "+---------+----------+-------------+--------+\n",
      "| Hansika | Female   | Medicine    |   9.14 |\n",
      "+---------+----------+-------------+--------+\n",
      "| Paula   | Female   | Journalism  |   7.95 |\n",
      "+---------+----------+-------------+--------+\n"
     ]
    }
   ],
   "source": [
    "print(tabulate(data, headers='firstrow', tablefmt='grid'))"
   ]
  },
  {
   "cell_type": "code",
   "execution_count": 13,
   "metadata": {},
   "outputs": [
    {
     "name": "stdout",
     "output_type": "stream",
     "text": [
      "╒═════════╤══════════╤═════════════╤════════╕\n",
      "│ Name    │ Gender   │ Course      │   CGPA │\n",
      "╞═════════╪══════════╪═════════════╪════════╡\n",
      "│ Karthik │ Male     │ Engineering │   8.93 │\n",
      "├─────────┼──────────┼─────────────┼────────┤\n",
      "│ Hansika │ Female   │ Medicine    │   9.14 │\n",
      "├─────────┼──────────┼─────────────┼────────┤\n",
      "│ Paula   │ Female   │ Journalism  │   7.95 │\n",
      "╘═════════╧══════════╧═════════════╧════════╛\n"
     ]
    }
   ],
   "source": [
    "print(tabulate(data, headers='firstrow', tablefmt='fancy_grid'))"
   ]
  },
  {
   "cell_type": "code",
   "execution_count": null,
   "metadata": {},
   "outputs": [],
   "source": []
  }
 ],
 "metadata": {
  "kernelspec": {
   "display_name": "Python 3",
   "language": "python",
   "name": "python3"
  },
  "language_info": {
   "codemirror_mode": {
    "name": "ipython",
    "version": 3
   },
   "file_extension": ".py",
   "mimetype": "text/x-python",
   "name": "python",
   "nbconvert_exporter": "python",
   "pygments_lexer": "ipython3",
   "version": "3.8.5"
  }
 },
 "nbformat": 4,
 "nbformat_minor": 4
}
