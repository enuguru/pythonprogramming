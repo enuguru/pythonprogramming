{
 "cells": [
  {
   "cell_type": "code",
   "execution_count": 11,
   "id": "c2a1f9fe",
   "metadata": {},
   "outputs": [],
   "source": [
    "import math"
   ]
  },
  {
   "cell_type": "code",
   "execution_count": 14,
   "id": "ed736b8d",
   "metadata": {},
   "outputs": [
    {
     "name": "stdout",
     "output_type": "stream",
     "text": [
      "10 10 20 20 30 30\n",
      "[10.0, 10.0, 20.0, 20.0, 30.0, 30.0]\n",
      "6\n",
      "20.0\n",
      "20.0\n",
      "10.0\n"
     ]
    }
   ],
   "source": [
    "arraylist = sorted(list(map(float,input().split())))\n",
    "val  = len(arraylist)\n",
    "print(arraylist)\n",
    "print(val)\n",
    "print(sum(arraylist) / val )\n",
    "if val%2 == 0:\n",
    "    median = (arraylist[(val//2)-1] + arraylist[(val//2)])/2\n",
    "else:\n",
    "    median = arraylist[((val-1)//2)]\n",
    "print(median)\n",
    "mode = max(sorted(arraylist), key=arraylist.count)\n",
    "print(mode)"
   ]
  },
  {
   "cell_type": "code",
   "execution_count": 15,
   "id": "e4bb2254",
   "metadata": {},
   "outputs": [
    {
     "name": "stdout",
     "output_type": "stream",
     "text": [
      "30.0\n"
     ]
    }
   ],
   "source": [
    "maxvalue = max(arraylist)\n",
    "print(maxvalue)"
   ]
  },
  {
   "cell_type": "code",
   "execution_count": 16,
   "id": "c1a9b7de",
   "metadata": {},
   "outputs": [
    {
     "name": "stdout",
     "output_type": "stream",
     "text": [
      "10.0\n"
     ]
    }
   ],
   "source": [
    "minvalue = min(arraylist)\n",
    "print(minvalue)"
   ]
  },
  {
   "cell_type": "code",
   "execution_count": 17,
   "id": "87ed7960",
   "metadata": {},
   "outputs": [
    {
     "name": "stdout",
     "output_type": "stream",
     "text": [
      "20.0\n"
     ]
    }
   ],
   "source": [
    "rangeval = maxvalue - minvalue\n",
    "print(rangeval)"
   ]
  },
  {
   "cell_type": "code",
   "execution_count": 19,
   "id": "459943be",
   "metadata": {},
   "outputs": [
    {
     "name": "stdout",
     "output_type": "stream",
     "text": [
      "20.0\n",
      "400.0\n",
      "8.16496580927726\n",
      "66.66666666666667\n"
     ]
    }
   ],
   "source": [
    "squares = 0; stad = 0\n",
    "mean = sum(arraylist) / val\n",
    "print(mean)\n",
    "for num in arraylist:\n",
    "    squares = squares + ((num-mean) * (num-mean))\n",
    "print(squares)\n",
    "stad = math.sqrt(squares/val)\n",
    "print(stad)\n",
    "print(squares/val)"
   ]
  },
  {
   "cell_type": "code",
   "execution_count": 20,
   "id": "58f78424",
   "metadata": {},
   "outputs": [
    {
     "name": "stdout",
     "output_type": "stream",
     "text": [
      "5\n",
      "1 2 3 4 5\n",
      "1 1 1 1 1\n",
      "15\n",
      "[1, 1, 1, 1, 1]\n",
      "3.0\n"
     ]
    }
   ],
   "source": [
    "val = int(input())\n",
    "arraylist = list(map(int,input().split()))\n",
    "weightlist = list(map(int,input().split()))\n",
    "mysum = 0\n",
    "for i in range(val): \n",
    "    mysum = mysum + (arraylist[i] * weightlist[i])\n",
    "print(mysum)\n",
    "print(weightlist)\n",
    "print(round(mysum/sum(weightlist),1))"
   ]
  },
  {
   "cell_type": "code",
   "execution_count": null,
   "id": "e7930642",
   "metadata": {},
   "outputs": [],
   "source": [
    "import math \n",
    "   \n",
    "def corr_Coeff(X,Y) :  \n",
    " squareSumX = 0; squareSumY = 0\n",
    " sumX = sumY = sumXY = squrSumX = squrSumY = i = 0 \n",
    " \n",
    " while i < len(X):  \n",
    "   sumX+=X[i]  \n",
    "   sumY+=Y[i]  \n",
    "   sumXY+=X[i]*Y[i]  \n",
    " \n",
    "   squareSumX+=X[i]*X[i]  \n",
    "   squareSumY+=Y[i]*Y[i]  \n",
    "   i+=1 \n",
    " \n",
    " corr = (float)(len(X)* sumXY - sumX * sumY)/ (float)(math.sqrt((len(X)* squareSumX - sumX * sumX)* (len(X)* squareSumY -  sumY * sumY)))  \n",
    " return f'The Correlation Ceofficient is--> {corr}' \n",
    "  \n",
    "X = [20, 21, 36, 19, 23]  \n",
    "Y = [22, 27, 31, 56, 32]  \n",
    " \n",
    "print(corr_Coeff(X,Y)) "
   ]
  },
  {
   "cell_type": "code",
   "execution_count": null,
   "id": "982ecdd3",
   "metadata": {},
   "outputs": [],
   "source": []
  }
 ],
 "metadata": {
  "kernelspec": {
   "display_name": "Python 3 (ipykernel)",
   "language": "python",
   "name": "python3"
  },
  "language_info": {
   "codemirror_mode": {
    "name": "ipython",
    "version": 3
   },
   "file_extension": ".py",
   "mimetype": "text/x-python",
   "name": "python",
   "nbconvert_exporter": "python",
   "pygments_lexer": "ipython3",
   "version": "3.10.9"
  }
 },
 "nbformat": 4,
 "nbformat_minor": 5
}
