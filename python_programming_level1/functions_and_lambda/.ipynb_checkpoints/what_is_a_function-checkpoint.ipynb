{
 "cells": [
  {
   "cell_type": "code",
   "execution_count": null,
   "id": "9bd3705b",
   "metadata": {},
   "outputs": [],
   "source": [
    "# -> Functions are a piece of code that performs a specific well defined task\n",
    "\n",
    "# -> A function is used to perform a seperate task \n",
    "# -> Functions separate the entire code in to blocks of code and hence\n",
    "#    they provide modularity in the code\n",
    "# -> Functions provide reuse"
   ]
  },
  {
   "cell_type": "code",
   "execution_count": 1,
   "id": "16b915e2",
   "metadata": {},
   "outputs": [
    {
     "name": "stdout",
     "output_type": "stream",
     "text": [
      "This is function definition\n"
     ]
    }
   ],
   "source": [
    "def yourfunc():\n",
    "    print(\"This is function definition\")\n",
    "\n",
    "yourfunc() # This is a function call"
   ]
  },
  {
   "cell_type": "code",
   "execution_count": null,
   "id": "8afc8224",
   "metadata": {},
   "outputs": [],
   "source": [
    "p = 40\n",
    "p = p ** 2\n",
    "print(p)"
   ]
  },
  {
   "cell_type": "code",
   "execution_count": 2,
   "id": "80346be7",
   "metadata": {},
   "outputs": [
    {
     "name": "stdout",
     "output_type": "stream",
     "text": [
      "1600\n"
     ]
    }
   ],
   "source": [
    "def yourfunc(b): \n",
    "    b = b ** 2\n",
    "    print(b)\n",
    "\n",
    "p = 40\n",
    "yourfunc(p)"
   ]
  },
  {
   "cell_type": "code",
   "execution_count": 3,
   "id": "9a7a00c1",
   "metadata": {},
   "outputs": [
    {
     "name": "stdout",
     "output_type": "stream",
     "text": [
      "1600\n"
     ]
    }
   ],
   "source": [
    "def yourfunc(b): \n",
    "    b = b ** 2\n",
    "    return b\n",
    "\n",
    "p = 40\n",
    "print(yourfunc(p))"
   ]
  }
 ],
 "metadata": {
  "kernelspec": {
   "display_name": "Python 3 (ipykernel)",
   "language": "python",
   "name": "python3"
  },
  "language_info": {
   "codemirror_mode": {
    "name": "ipython",
    "version": 3
   },
   "file_extension": ".py",
   "mimetype": "text/x-python",
   "name": "python",
   "nbconvert_exporter": "python",
   "pygments_lexer": "ipython3",
   "version": "3.9.7"
  }
 },
 "nbformat": 4,
 "nbformat_minor": 5
}
