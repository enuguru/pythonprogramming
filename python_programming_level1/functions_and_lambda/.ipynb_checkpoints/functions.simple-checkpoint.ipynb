{
 "cells": [
  {
   "cell_type": "code",
   "execution_count": 17,
   "id": "f31ecb9f",
   "metadata": {},
   "outputs": [
    {
     "name": "stdout",
     "output_type": "stream",
     "text": [
      "This is function definition\n"
     ]
    }
   ],
   "source": [
    "def yourfunc(): \n",
    "    print(\"This is function definition\")\n",
    "\n",
    "yourfunc()"
   ]
  },
  {
   "cell_type": "code",
   "execution_count": 18,
   "id": "f120f257",
   "metadata": {},
   "outputs": [
    {
     "name": "stdout",
     "output_type": "stream",
     "text": [
      "Give a number56\n",
      "3136\n"
     ]
    }
   ],
   "source": [
    "def yourfunc(b): \n",
    "    b = b ** 2\n",
    "    return b\n",
    "\n",
    "p = int(input(\"Give a number\"))\n",
    "print(yourfunc(p))"
   ]
  },
  {
   "cell_type": "code",
   "execution_count": 20,
   "id": "6bb774e4",
   "metadata": {},
   "outputs": [
    {
     "name": "stdout",
     "output_type": "stream",
     "text": [
      "10 20 30\n",
      "6000\n"
     ]
    }
   ],
   "source": [
    "def yourfunc(b,c,d): \n",
    "    print(b,c,d)\n",
    "    return b*c*d\n",
    "\n",
    "p = 10\n",
    "q = 20\n",
    "r = 30\n",
    "print(yourfunc(p,q,r))"
   ]
  },
  {
   "cell_type": "code",
   "execution_count": 3,
   "id": "723ec743",
   "metadata": {},
   "outputs": [
    {
     "name": "stdout",
     "output_type": "stream",
     "text": [
      "[3, 4, 67]\n"
     ]
    }
   ],
   "source": [
    "def yourfunc(b): \n",
    "    print(b)\n",
    "\n",
    "p = [3,4,67]\n",
    "yourfunc(p)"
   ]
  },
  {
   "cell_type": "code",
   "execution_count": 5,
   "id": "1775d900",
   "metadata": {},
   "outputs": [
    {
     "name": "stdout",
     "output_type": "stream",
     "text": [
      "(3, 4, 67)\n",
      "(34, 56, 78)\n",
      "{3: 56, 6: 78, 12: 33}\n"
     ]
    }
   ],
   "source": [
    "def yourfunc(b,c,d): \n",
    "    print(b)\n",
    "    print(c)\n",
    "    print(d)\n",
    "\n",
    "p = (3,4,67)\n",
    "q = (34,56,78)\n",
    "r = {3:56,6:78,12:33}\n",
    "yourfunc(p,q,r)"
   ]
  },
  {
   "cell_type": "code",
   "execution_count": 11,
   "id": "e5ec17f8",
   "metadata": {},
   "outputs": [
    {
     "name": "stdout",
     "output_type": "stream",
     "text": [
      "[23, 45, 79]\n"
     ]
    }
   ],
   "source": [
    "def yourfunc(b): \n",
    "    b = [23,45,79]\n",
    "    return b\n",
    "\n",
    "print(yourfunc(p))"
   ]
  },
  {
   "cell_type": "code",
   "execution_count": 12,
   "id": "94250321",
   "metadata": {},
   "outputs": [
    {
     "name": "stdout",
     "output_type": "stream",
     "text": [
      "(23, 45, 79)\n"
     ]
    }
   ],
   "source": [
    "def yourfunc(b): \n",
    "    b = (23,45,79)\n",
    "    return b\n",
    "\n",
    "print(yourfunc(p))"
   ]
  },
  {
   "cell_type": "code",
   "execution_count": 13,
   "id": "fbb7de2a",
   "metadata": {},
   "outputs": [
    {
     "name": "stdout",
     "output_type": "stream",
     "text": [
      "{23, 45, 79}\n"
     ]
    }
   ],
   "source": [
    "def yourfunc(b): \n",
    "    b = {23,45,79}\n",
    "    return b\n",
    "\n",
    "print(yourfunc(p))"
   ]
  },
  {
   "cell_type": "code",
   "execution_count": 14,
   "id": "2b14ed01",
   "metadata": {},
   "outputs": [
    {
     "name": "stdout",
     "output_type": "stream",
     "text": [
      "{23: 1, 45: 12, 79: 'John'}\n"
     ]
    }
   ],
   "source": [
    "def yourfunc(b): \n",
    "    b = {23:1,45:12,79:\"John\"}\n",
    "    return b\n",
    "\n",
    "print(yourfunc(p))"
   ]
  },
  {
   "cell_type": "code",
   "execution_count": null,
   "id": "f4c95374",
   "metadata": {},
   "outputs": [],
   "source": []
  }
 ],
 "metadata": {
  "kernelspec": {
   "display_name": "Python 3 (ipykernel)",
   "language": "python",
   "name": "python3"
  },
  "language_info": {
   "codemirror_mode": {
    "name": "ipython",
    "version": 3
   },
   "file_extension": ".py",
   "mimetype": "text/x-python",
   "name": "python",
   "nbconvert_exporter": "python",
   "pygments_lexer": "ipython3",
   "version": "3.9.7"
  }
 },
 "nbformat": 4,
 "nbformat_minor": 5
}
