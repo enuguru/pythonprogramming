{
 "cells": [
  {
   "cell_type": "code",
   "execution_count": 1,
   "metadata": {},
   "outputs": [
    {
     "name": "stdout",
     "output_type": "stream",
     "text": [
      "16\n"
     ]
    }
   ],
   "source": [
    "def yourfunc(b):\n",
    "    b = b ** 2\n",
    "    return b\n",
    "\n",
    "p = 4\n",
    "number = yourfunc(p)\n",
    "print(number)"
   ]
  },
  {
   "cell_type": "code",
   "execution_count": 2,
   "metadata": {},
   "outputs": [
    {
     "name": "stdout",
     "output_type": "stream",
     "text": [
      "I am inside the function :  30\n",
      "I am ouside the function : 30\n"
     ]
    }
   ],
   "source": [
    "#!/usr/bin/python\n",
    "\n",
    "# Function definition is here\n",
    "def sum( arg1, arg2 ):\n",
    "   # Add both the parameters and return them.\"\n",
    "   insidevar = arg1 + arg2\n",
    "   print(\"I am inside the function : \", insidevar)\n",
    "   return insidevar;\n",
    "\n",
    "# Now you can call sum function\n",
    "outsidevar = sum( 10, 20 )\n",
    "print(\"I am ouside the function :\", outsidevar) "
   ]
  },
  {
   "cell_type": "code",
   "execution_count": 3,
   "metadata": {},
   "outputs": [
    {
     "name": "stdout",
     "output_type": "stream",
     "text": [
      "('San Francisco', 'Los Angeles', 'Sacramento')\n",
      "San Francisco\n",
      "Los Angeles\n",
      "Sacramento\n"
     ]
    }
   ],
   "source": [
    "#Tuple argument. A method in Python can receive any number of arguments stored in a \n",
    "#tuple. This requires the single-star syntax. A formal parameter of name *t can be \n",
    "#used as a tuple.\n",
    "\n",
    "#Tip: The tuple in this program, of identifier t, can be used in the same way as any tuple.\n",
    "\n",
    "#Python that receives tuple argument\n",
    "\n",
    "def display(*t):\n",
    "    # Print tuple.\n",
    "    print(t)\n",
    "\n",
    "    # Loop over tuple items.\n",
    "    for item in t:\n",
    "        print(item)\n",
    "\n",
    "# Pass parameters.\n",
    "\n",
    "display(\"San Francisco\", \"Los Angeles\", \"Sacramento\")"
   ]
  },
  {
   "cell_type": "code",
   "execution_count": 4,
   "metadata": {},
   "outputs": [
    {
     "name": "stdout",
     "output_type": "stream",
     "text": [
      "first = Sigmund\n",
      "last = Freud\n",
      "year = 1899\n",
      "()\n",
      "one = 1\n",
      "two = 2\n",
      "()\n"
     ]
    }
   ],
   "source": [
    "#Python that receives dictionary argument\n",
    "\n",
    "def display(**values):\n",
    "    # Loop over dictionary.\n",
    "    for key in values:\n",
    "        print(key, \"=\", values[key])\n",
    "    #Newline.\n",
    "    print(())\n",
    "\n",
    "\n",
    "# Pass named parameters.\n",
    "\n",
    "display(first = \"Sigmund\", last = \"Freud\", year = 1899)\n",
    "display(one = 1, two = 2)"
   ]
  },
  {
   "cell_type": "code",
   "execution_count": 5,
   "metadata": {},
   "outputs": [
    {
     "name": "stdout",
     "output_type": "stream",
     "text": [
      "20\n",
      "10\n",
      "30\n"
     ]
    }
   ],
   "source": [
    "#Python program that uses default arguments\n",
    "\n",
    "def computesize(width=10, height=2):\n",
    "    return width * height\n",
    "\n",
    "print(computesize()) # 10, 2: defaults used.\n",
    "print(computesize(5)) # 5, 2: default height.\n",
    "print(computesize(height=3)) # 10, 3: default width"
   ]
  },
  {
   "cell_type": "code",
   "execution_count": null,
   "metadata": {},
   "outputs": [],
   "source": []
  },
  {
   "cell_type": "code",
   "execution_count": 3,
   "metadata": {},
   "outputs": [
    {
     "name": "stdout",
     "output_type": "stream",
     "text": [
      "0 1 1 2 3 5 8 13 21 34 55 89 144 233 377 610 987 1597 \n"
     ]
    }
   ],
   "source": [
    "def fib(n):    # write Fibonacci series up to n\n",
    "    \"\"\"Print a Fibonacci series up to n.\"\"\"\n",
    "    a, b = 0, 1\n",
    "    while a < n:\n",
    "        print(a, end=' ')\n",
    "        a, b = b, a+b\n",
    "    print()\n",
    "\n",
    "# Now call the function we just defined:\n",
    "fib(2000)"
   ]
  },
  {
   "cell_type": "code",
   "execution_count": null,
   "metadata": {},
   "outputs": [],
   "source": [
    "def perfect_number():\n",
    "    pf = []\n",
    "    for num in range(1,10000):\n",
    "        total = 0\n",
    "        for val in range(1,num):\n",
    "            if num % val == 0:\n",
    "                total = total + val\n",
    "        if total == num:\n",
    "            pf.append(num)\n",
    "    return pf\n",
    "        \n",
    "pf = perfect_number()\n",
    "print(pf)"
   ]
  },
  {
   "cell_type": "code",
   "execution_count": null,
   "metadata": {},
   "outputs": [],
   "source": []
  }
 ],
 "metadata": {
  "kernelspec": {
   "display_name": "Python 3 (ipykernel)",
   "language": "python",
   "name": "python3"
  },
  "language_info": {
   "codemirror_mode": {
    "name": "ipython",
    "version": 3
   },
   "file_extension": ".py",
   "mimetype": "text/x-python",
   "name": "python",
   "nbconvert_exporter": "python",
   "pygments_lexer": "ipython3",
   "version": "3.9.7"
  }
 },
 "nbformat": 4,
 "nbformat_minor": 4
}
