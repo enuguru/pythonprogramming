{
 "cells": [
  {
   "cell_type": "code",
   "execution_count": 1,
   "metadata": {},
   "outputs": [
    {
     "name": "stdout",
     "output_type": "stream",
     "text": [
      "Hello Karthik, Good morning!\n",
      "Hello Hrishikesh, Good morning!\n",
      "Hello Shalini, How do you do?\n",
      "Hello Karthik, How do you do\n",
      "Hello How do you do, Good morning!\n"
     ]
    }
   ],
   "source": [
    "def greetings(name=\"Karthik\", msg=\"Good morning!\"):\n",
    "    \"\"\"\n",
    "    This function takes two arguments                                        \n",
    "    and greets the person with the \n",
    "    provided message\n",
    "\n",
    "    If the message is not provided,\n",
    "    it defaults to \"Good\n",
    "    morning!\"\n",
    "    \"\"\"\n",
    "    print(\"Hello\", name + ', ' + msg)\n",
    "\n",
    "greetings()\n",
    "greetings(\"Hrishikesh\")\n",
    "greetings(\"Shalini\", \"How do you do?\")\n",
    "greetings(msg=\"How do you do\")\n",
    "greetings(\"How do you do\")"
   ]
  },
  {
   "cell_type": "code",
   "execution_count": null,
   "metadata": {},
   "outputs": [],
   "source": [
    "help(greetings)"
   ]
  },
  {
   "cell_type": "code",
   "execution_count": null,
   "metadata": {},
   "outputs": [],
   "source": [
    "#Python program that uses default arguments\n",
    "\n",
    "def calculatearea(length=20, breadth=5):\n",
    "    return length * breadth\n",
    "\n",
    "print(calculatearea()) \n",
    "print(calculatearea(10)) \n",
    "print(calculatearea(breadth=15))"
   ]
  },
  {
   "cell_type": "code",
   "execution_count": null,
   "metadata": {},
   "outputs": [],
   "source": [
    "def greet(*names):\n",
    "    \"\"\"This function greets all\n",
    "    the person in the names tuple.\"\"\"\n",
    "\n",
    "    # names is a tuple with arguments\n",
    "    for name in names:\n",
    "        print(\"Hello\", name)\n",
    "\n",
    "\n",
    "greet(\"Monica\", \"Shalini\", \"Steve\", \"Faisal\")"
   ]
  },
  {
   "cell_type": "code",
   "execution_count": null,
   "metadata": {},
   "outputs": [],
   "source": []
  }
 ],
 "metadata": {
  "kernelspec": {
   "display_name": "Python 3 (ipykernel)",
   "language": "python",
   "name": "python3"
  },
  "language_info": {
   "codemirror_mode": {
    "name": "ipython",
    "version": 3
   },
   "file_extension": ".py",
   "mimetype": "text/x-python",
   "name": "python",
   "nbconvert_exporter": "python",
   "pygments_lexer": "ipython3",
   "version": "3.9.7"
  }
 },
 "nbformat": 4,
 "nbformat_minor": 4
}
