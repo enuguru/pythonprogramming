{
 "cells": [
  {
   "cell_type": "code",
   "execution_count": null,
   "id": "01645902",
   "metadata": {},
   "outputs": [],
   "source": [
    "def funcone():\n",
    "    print(\"This is function one\")\n",
    "    \n",
    "def funcfour():\n",
    "    print(\"This is function four\")\n",
    "    \n",
    "def functwo():\n",
    "    print(\"This is function two\")\n",
    "    funcone()\n",
    "    \n",
    "def funthree():\n",
    "    print(\"This is function three\")\n",
    "    functwo()\n",
    "    \n",
    "funthree()"
   ]
  },
  {
   "cell_type": "code",
   "execution_count": null,
   "id": "2a270762",
   "metadata": {},
   "outputs": [],
   "source": [
    "def funcone():\n",
    "    print(\"This is function one\")\n",
    "    \n",
    "def funcfour():\n",
    "    print(\"This is function four\")\n",
    "    \n",
    "def functwo(funcvar):\n",
    "    print(\"This is function two\")\n",
    "    funcvar()\n",
    "    \n",
    "def funthree():\n",
    "    print(\"This is function three\")\n",
    "    functwo(funcfour)\n",
    "    \n",
    "funthree()"
   ]
  },
  {
   "cell_type": "code",
   "execution_count": 7,
   "id": "61761433",
   "metadata": {},
   "outputs": [
    {
     "name": "stdout",
     "output_type": "stream",
     "text": [
      "This is function three\n",
      "This is function two\n",
      "This is function four\n"
     ]
    }
   ],
   "source": [
    "def functwo(funcvar):\n",
    "    print(\"This is function two\")\n",
    "    funcvar()\n",
    "    \n",
    "def funthree():\n",
    "    \n",
    "    def funcone():\n",
    "        print(\"This is function one\")\n",
    "    \n",
    "    def funcfour():\n",
    "        print(\"This is function four\")\n",
    "        \n",
    "    print(\"This is function three\")\n",
    "    functwo(funcfour)\n",
    "    \n",
    "funthree()"
   ]
  },
  {
   "cell_type": "code",
   "execution_count": 8,
   "id": "b9ba2c65",
   "metadata": {},
   "outputs": [
    {
     "name": "stdout",
     "output_type": "stream",
     "text": [
      "This is function three\n",
      "This is function two\n",
      "<function functwo.<locals>.funcone at 0x000001F8660F4550>\n",
      "This is function two\n",
      "This is function one\n"
     ]
    }
   ],
   "source": [
    "def functwo():\n",
    "        \n",
    "    def funcone():\n",
    "        print(\"This is function one\")\n",
    "    \n",
    "    def funcfour():\n",
    "        print(\"This is function four\")\n",
    "        \n",
    "    print(\"This is function two\")\n",
    "    return funcone\n",
    "    \n",
    "def functhree():\n",
    "    print(\"This is function three\")\n",
    "    print(functwo())\n",
    "    functwo()()\n",
    "    \n",
    "functhree()"
   ]
  },
  {
   "cell_type": "code",
   "execution_count": 10,
   "id": "7d7ab865",
   "metadata": {},
   "outputs": [
    {
     "name": "stdout",
     "output_type": "stream",
     "text": [
      "This is function three\n",
      "This is function two\n",
      "This is function one\n"
     ]
    }
   ],
   "source": [
    "def functwo():\n",
    "        \n",
    "    def funcone():\n",
    "        print(\"This is function one\")\n",
    "    \n",
    "    def funcfour():\n",
    "        print(\"This is function four\")\n",
    "        \n",
    "    print(\"This is function two\")\n",
    "    return funcone\n",
    "    \n",
    "def functhree():\n",
    "    print(\"This is function three\")\n",
    "    funcvar = functwo()\n",
    "    funcvar()\n",
    "    \n",
    "functhree()"
   ]
  },
  {
   "cell_type": "code",
   "execution_count": 11,
   "id": "ff809a82",
   "metadata": {},
   "outputs": [
    {
     "name": "stdout",
     "output_type": "stream",
     "text": [
      "1+1\n",
      "The result of 1+1 is 2\n"
     ]
    }
   ],
   "source": [
    "def another_function(func):\n",
    "    \n",
    "    def other_func():\n",
    "        val = \"The result of %s is %s\" % (func(), eval(func()))\n",
    "        return val\n",
    "    \n",
    "    return other_func\n",
    "\n",
    "def a_function():\n",
    "    return \"1+1\"\n",
    "\n",
    "value = a_function()\n",
    "print(value)\n",
    "decorator = another_function(a_function)\n",
    "print(decorator())"
   ]
  },
  {
   "cell_type": "code",
   "execution_count": null,
   "id": "11421de5",
   "metadata": {},
   "outputs": [],
   "source": []
  }
 ],
 "metadata": {
  "kernelspec": {
   "display_name": "Python 3 (ipykernel)",
   "language": "python",
   "name": "python3"
  },
  "language_info": {
   "codemirror_mode": {
    "name": "ipython",
    "version": 3
   },
   "file_extension": ".py",
   "mimetype": "text/x-python",
   "name": "python",
   "nbconvert_exporter": "python",
   "pygments_lexer": "ipython3",
   "version": "3.9.13"
  }
 },
 "nbformat": 4,
 "nbformat_minor": 5
}
