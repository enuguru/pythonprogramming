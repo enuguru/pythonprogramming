{
 "cells": [
  {
   "cell_type": "code",
   "execution_count": 1,
   "id": "993d3687",
   "metadata": {},
   "outputs": [
    {
     "name": "stdout",
     "output_type": "stream",
     "text": [
      "Give a valid excel column idBC\n"
     ]
    },
    {
     "data": {
      "text/plain": [
       "55"
      ]
     },
     "execution_count": 1,
     "metadata": {},
     "output_type": "execute_result"
    }
   ],
   "source": [
    "def decode(col): #BC\n",
    "    c = ord('A')\n",
    "    ret = 0\n",
    "    for i in col:\n",
    "        i = ord(i)\n",
    "        ret = (ret * 26) + i-c+1 #BC\n",
    "    return ret\n",
    "\n",
    "col = input(\"Give a valid excel column id\")\n",
    "col = col.upper()\n",
    "decode(col) #BC"
   ]
  },
  {
   "cell_type": "code",
   "execution_count": 6,
   "id": "1d22562b",
   "metadata": {},
   "outputs": [
    {
     "name": "stdout",
     "output_type": "stream",
     "text": [
      "Give a number60\n",
      "BH\n"
     ]
    }
   ],
   "source": [
    "def spreadsheetencoding(n):\n",
    "    englishalphabets = \"ABCDEFGHIJKLMNOPQRSTUVWXYZ\"\n",
    "    s = \"\"\n",
    "    while n > 0:\n",
    "        n = n - 1\n",
    "        s = englishalphabets[n % 26] + s\n",
    "        n = n // 26\n",
    "    return s\n",
    "\n",
    "print(spreadsheetencoding(int(input(\"Give a number\"))))"
   ]
  },
  {
   "cell_type": "code",
   "execution_count": null,
   "id": "41efcc88",
   "metadata": {},
   "outputs": [],
   "source": []
  }
 ],
 "metadata": {
  "kernelspec": {
   "display_name": "Python 3 (ipykernel)",
   "language": "python",
   "name": "python3"
  },
  "language_info": {
   "codemirror_mode": {
    "name": "ipython",
    "version": 3
   },
   "file_extension": ".py",
   "mimetype": "text/x-python",
   "name": "python",
   "nbconvert_exporter": "python",
   "pygments_lexer": "ipython3",
   "version": "3.10.9"
  }
 },
 "nbformat": 4,
 "nbformat_minor": 5
}
