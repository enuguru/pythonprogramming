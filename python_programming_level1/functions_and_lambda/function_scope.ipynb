{
 "cells": [
  {
   "cell_type": "code",
   "execution_count": 5,
   "id": "1081a38e",
   "metadata": {},
   "outputs": [
    {
     "name": "stdout",
     "output_type": "stream",
     "text": [
      "300\n"
     ]
    }
   ],
   "source": [
    "# x is a local variable, printed inside function as a local variable\n",
    "def newfunc():\n",
    "  x = 300\n",
    "  print(x)\n",
    "\n",
    "newfunc()"
   ]
  },
  {
   "cell_type": "code",
   "execution_count": 2,
   "id": "f9f6228f",
   "metadata": {},
   "outputs": [
    {
     "name": "stdout",
     "output_type": "stream",
     "text": [
      "300\n"
     ]
    }
   ],
   "source": [
    "# x is a local variable but it is returned to caller\n",
    "def newfunc():\n",
    "  x = 300\n",
    "  return x\n",
    "\n",
    "print(newfunc())"
   ]
  },
  {
   "cell_type": "code",
   "execution_count": 7,
   "id": "bc217556",
   "metadata": {},
   "outputs": [
    {
     "name": "stdout",
     "output_type": "stream",
     "text": [
      "300\n"
     ]
    }
   ],
   "source": [
    "# here x is seen both by the outerfunc and innerfunc\n",
    "def outerfunc():\n",
    "  x = 300\n",
    "  def innerfunc():\n",
    "    print(x)\n",
    "  innerfunc()\n",
    "\n",
    "outerfunc()"
   ]
  },
  {
   "cell_type": "code",
   "execution_count": 8,
   "id": "871ec69f",
   "metadata": {},
   "outputs": [
    {
     "name": "stdout",
     "output_type": "stream",
     "text": [
      "300\n",
      "300\n"
     ]
    }
   ],
   "source": [
    "# x is a global variable so the same x is printed inside and outside\n",
    "\n",
    "x = 300\n",
    "def newfunc():\n",
    "  print(x)\n",
    "\n",
    "newfunc()\n",
    "print(x)"
   ]
  },
  {
   "cell_type": "code",
   "execution_count": 9,
   "id": "69f5ef16",
   "metadata": {},
   "outputs": [
    {
     "name": "stdout",
     "output_type": "stream",
     "text": [
      "400\n",
      "300\n"
     ]
    }
   ],
   "source": [
    "# here the two 'x' variables are different\n",
    "x = 300\n",
    "\n",
    "def newfunc():\n",
    "  x = 400\n",
    "  print(x)\n",
    "\n",
    "newfunc()\n",
    "print(x)"
   ]
  },
  {
   "cell_type": "code",
   "execution_count": null,
   "id": "f9006cea",
   "metadata": {},
   "outputs": [],
   "source": [
    "# here also the two x variables are different\n",
    "x = 300   \n",
    "\n",
    "def newfunc():\n",
    "  x = 1000\n",
    "  print(x)\n",
    "\n",
    "newfunc()\n",
    "print(x)"
   ]
  },
  {
   "cell_type": "code",
   "execution_count": 10,
   "id": "0587f323",
   "metadata": {},
   "outputs": [
    {
     "name": "stdout",
     "output_type": "stream",
     "text": [
      "660\n"
     ]
    }
   ],
   "source": [
    "# here x inside the function is a global varible, because of keywork global\n",
    "def newfunc():\n",
    "    global x\n",
    "    x = 660\n",
    "\n",
    "newfunc()\n",
    "print(x)"
   ]
  },
  {
   "cell_type": "code",
   "execution_count": 14,
   "id": "0b33d25b",
   "metadata": {},
   "outputs": [
    {
     "name": "stdout",
     "output_type": "stream",
     "text": [
      "hello\n"
     ]
    }
   ],
   "source": [
    "# here x variable is nonlocal and belongs to outerfunc, available to innerfunc\n",
    "def outerfunc():\n",
    "  x = \"John\"\n",
    "  def innerfunc():\n",
    "    nonlocal x\n",
    "    x = \"hello\"\n",
    "  innerfunc()\n",
    "  return x\n",
    "\n",
    "print(outerfunc())"
   ]
  },
  {
   "cell_type": "code",
   "execution_count": 15,
   "id": "48b103c9",
   "metadata": {},
   "outputs": [
    {
     "name": "stdout",
     "output_type": "stream",
     "text": [
      "John\n"
     ]
    }
   ],
   "source": [
    "def outerfunc():\n",
    "  x = \"John\"\n",
    "  def innerfunc():\n",
    "    x = \"hello\"\n",
    "  innerfunc()\n",
    "  return x\n",
    "\n",
    "print(outerfunc())"
   ]
  },
  {
   "cell_type": "code",
   "execution_count": 16,
   "id": "c6980635",
   "metadata": {},
   "outputs": [
    {
     "name": "stdout",
     "output_type": "stream",
     "text": [
      "John\n"
     ]
    }
   ],
   "source": [
    "x = \"John\"\n",
    "def outerfunc():\n",
    "  x = \"Ravikiran\"\n",
    "  def innerfunc():\n",
    "    x = \"hello\"\n",
    "  innerfunc()\n",
    "\n",
    "outerfunc()\n",
    "print(x)"
   ]
  },
  {
   "cell_type": "code",
   "execution_count": null,
   "id": "02dfaa77",
   "metadata": {},
   "outputs": [],
   "source": [
    "# use the concept of function and argument passing\n",
    "# to write a program to display perfect numbers"
   ]
  },
  {
   "cell_type": "code",
   "execution_count": null,
   "id": "fb337bc1",
   "metadata": {},
   "outputs": [],
   "source": [
    "newlist = []\n",
    "def perfectnumbers():\n",
    "    for num in range(1,10000):\n",
    "        sum = 0\n",
    "        for val in range(1,num):\n",
    "            if num % val == 0:\n",
    "                sum = sum + val\n",
    "        if num == sum:\n",
    "            newlist.append(num)\n",
    "    return newlist\n",
    "            \n",
    "x = perfectnumbers()\n",
    "print(x)"
   ]
  },
  {
   "cell_type": "code",
   "execution_count": null,
   "id": "7ab20ed4",
   "metadata": {},
   "outputs": [],
   "source": [
    "def perfectnumbers(b):\n",
    "    for num in range(1,b):\n",
    "        sum = 0\n",
    "        for val in range(1,num):\n",
    "            if num % val == 0:\n",
    "                sum = sum + val\n",
    "        if num == sum:\n",
    "            print(num,end=\" \")\n",
    "            \n",
    "perfectnumbers(10000)"
   ]
  },
  {
   "cell_type": "code",
   "execution_count": null,
   "id": "76a78dc5",
   "metadata": {},
   "outputs": [],
   "source": [
    "# 0, 1, 1, 2, 3, 5, 8, 13, 21, 34 ......\n",
    "a = 0; b = 1\n",
    "count = 0\n",
    "print(a,end=\" \"); print(b,end=\" \")\n",
    "while(count<15):\n",
    "    c = a + b\n",
    "    print(c,end=\" \")\n",
    "    a = b; b = c\n",
    "    count = count + 1"
   ]
  },
  {
   "cell_type": "code",
   "execution_count": null,
   "id": "d3fa4c5d",
   "metadata": {},
   "outputs": [],
   "source": []
  }
 ],
 "metadata": {
  "kernelspec": {
   "display_name": "Python 3 (ipykernel)",
   "language": "python",
   "name": "python3"
  },
  "language_info": {
   "codemirror_mode": {
    "name": "ipython",
    "version": 3
   },
   "file_extension": ".py",
   "mimetype": "text/x-python",
   "name": "python",
   "nbconvert_exporter": "python",
   "pygments_lexer": "ipython3",
   "version": "3.10.9"
  }
 },
 "nbformat": 4,
 "nbformat_minor": 5
}
