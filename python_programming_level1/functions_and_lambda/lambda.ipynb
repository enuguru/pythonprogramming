{
 "cells": [
  {
   "cell_type": "markdown",
   "metadata": {},
   "source": [
    "# what is a lambda function"
   ]
  },
  {
   "cell_type": "code",
   "execution_count": null,
   "metadata": {},
   "outputs": [],
   "source": [
    "# Lambdas are one line functions. \n",
    "\n",
    "# They are better known as unknown functions or anonymous functions\n",
    "\n",
    "# lambdas are used when you just want to use a function only once in a program \n",
    "\n",
    "# They are just like normal functions and they behave just like that"
   ]
  },
  {
   "cell_type": "code",
   "execution_count": 2,
   "metadata": {},
   "outputs": [
    {
     "name": "stdout",
     "output_type": "stream",
     "text": [
      "12\n"
     ]
    }
   ],
   "source": [
    "# map, reduce and filter\n",
    "mysum = lambda a, b, c: a + b + c\n",
    "print(mysum(3, 5, 4))"
   ]
  },
  {
   "cell_type": "code",
   "execution_count": 1,
   "metadata": {},
   "outputs": [
    {
     "name": "stdout",
     "output_type": "stream",
     "text": [
      "[3, 6, 9]\n",
      "[3, 6, 9]\n"
     ]
    }
   ],
   "source": [
    "#def newfunc(x):\n",
    "#    return x % 3 == 0\n",
    "\n",
    "def yourfunc(x):\n",
    "    return x % 3 == 0\n",
    "\n",
    "mult3 = filter(yourfunc, [1, 2, 3, 4, 5, 6, 7, 8, 9])\n",
    "print(list(mult3))\n",
    "\n",
    "mult3 = filter(lambda x: x % 3 ==0, [1, 2, 3, 4, 5, 6, 7, 8, 9])\n",
    "print(list(mult3))"
   ]
  },
  {
   "cell_type": "code",
   "execution_count": null,
   "metadata": {},
   "outputs": [],
   "source": [
    "p = [(1, 2), (4, 1), (9, 10), (13, -3)]\n",
    "p.sort(key=lambda r: r[0])\n",
    "print(p)\n",
    "p.sort(key=lambda r: r[1])\n",
    "print(p)"
   ]
  },
  {
   "cell_type": "code",
   "execution_count": null,
   "metadata": {},
   "outputs": [],
   "source": [
    "print(sorted([1, 2, 3, 4, 5, 6, 7, 8, 9], key=lambda x: abs(3-x)))\n",
    "print(sorted([1, 2, 3, 4, 5, 6, 7, 8, 9], key=lambda x: (3-x)))\n",
    "\n",
    "# [2, 1, 0, 1, 2, 3, 4, 5, 6]\n",
    "# [2, 2, 0, -1, -2, -3, -4, -5, -6]"
   ]
  },
  {
   "cell_type": "code",
   "execution_count": null,
   "metadata": {},
   "outputs": [],
   "source": [
    "# lambda as  a return value from a function\n",
    "def transform(n):\n",
    "    return lambda x=6: x ** n\n",
    "\n",
    "retval = transform(3)\n",
    "print(retval)\n",
    "print(retval())\n",
    "print(retval())"
   ]
  },
  {
   "cell_type": "code",
   "execution_count": null,
   "metadata": {},
   "outputs": [],
   "source": [
    "newlist = []"
   ]
  },
  {
   "cell_type": "code",
   "execution_count": null,
   "metadata": {},
   "outputs": [],
   "source": [
    "newlist."
   ]
  }
 ],
 "metadata": {
  "kernelspec": {
   "display_name": "Python 3 (ipykernel)",
   "language": "python",
   "name": "python3"
  },
  "language_info": {
   "codemirror_mode": {
    "name": "ipython",
    "version": 3
   },
   "file_extension": ".py",
   "mimetype": "text/x-python",
   "name": "python",
   "nbconvert_exporter": "python",
   "pygments_lexer": "ipython3",
   "version": "3.10.13"
  }
 },
 "nbformat": 4,
 "nbformat_minor": 4
}
