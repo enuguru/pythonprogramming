{
 "cells": [
  {
   "cell_type": "code",
   "execution_count": 2,
   "id": "32eb4307",
   "metadata": {},
   "outputs": [
    {
     "name": "stdout",
     "output_type": "stream",
     "text": [
      "(45, 45, 33, 101, 300, 45, 67)\n"
     ]
    }
   ],
   "source": [
    "newtuple = (45,45,33,101,300,45,67)\n",
    "print(newtuple)"
   ]
  },
  {
   "cell_type": "code",
   "execution_count": null,
   "id": "85904339",
   "metadata": {},
   "outputs": [],
   "source": [
    "newtuple."
   ]
  },
  {
   "cell_type": "code",
   "execution_count": 3,
   "id": "8ea8841a",
   "metadata": {},
   "outputs": [
    {
     "name": "stdout",
     "output_type": "stream",
     "text": [
      "3\n"
     ]
    }
   ],
   "source": [
    "print(newtuple.count(45))"
   ]
  },
  {
   "cell_type": "code",
   "execution_count": 4,
   "id": "b3452581",
   "metadata": {},
   "outputs": [
    {
     "name": "stdout",
     "output_type": "stream",
     "text": [
      "2\n"
     ]
    }
   ],
   "source": [
    "print(newtuple.index(33))"
   ]
  },
  {
   "cell_type": "code",
   "execution_count": null,
   "id": "a98e9cca",
   "metadata": {},
   "outputs": [],
   "source": []
  }
 ],
 "metadata": {
  "kernelspec": {
   "display_name": "Python 3 (ipykernel)",
   "language": "python",
   "name": "python3"
  },
  "language_info": {
   "codemirror_mode": {
    "name": "ipython",
    "version": 3
   },
   "file_extension": ".py",
   "mimetype": "text/x-python",
   "name": "python",
   "nbconvert_exporter": "python",
   "pygments_lexer": "ipython3",
   "version": "3.10.13"
  }
 },
 "nbformat": 4,
 "nbformat_minor": 5
}
