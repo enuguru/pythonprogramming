{
 "cells": [
  {
   "cell_type": "markdown",
   "id": "2e9b20e0",
   "metadata": {},
   "source": [
    "# set collection data type mainpulation functions"
   ]
  },
  {
   "cell_type": "code",
   "execution_count": 99,
   "id": "e5ccf81b",
   "metadata": {},
   "outputs": [
    {
     "name": "stdout",
     "output_type": "stream",
     "text": [
      "{67, 99, 4, 5, 23, 45, 78}\n"
     ]
    }
   ],
   "source": [
    "goodset = {23, 45, 67, 78, 99, 78, 4, 5}\n",
    "print(goodset)"
   ]
  },
  {
   "cell_type": "code",
   "execution_count": null,
   "id": "349bd5a7",
   "metadata": {},
   "outputs": [],
   "source": [
    "goodset."
   ]
  },
  {
   "cell_type": "code",
   "execution_count": 100,
   "id": "163f7902",
   "metadata": {},
   "outputs": [
    {
     "name": "stdout",
     "output_type": "stream",
     "text": [
      "{67, 99, 4, 5, 23, 25, 45, 78}\n"
     ]
    }
   ],
   "source": [
    "goodset.add(25)\n",
    "print(goodset)"
   ]
  },
  {
   "cell_type": "code",
   "execution_count": 101,
   "id": "367a1873",
   "metadata": {},
   "outputs": [
    {
     "name": "stdout",
     "output_type": "stream",
     "text": [
      "{67, 99, 4, 5, 45, 78, 23, 25}\n"
     ]
    }
   ],
   "source": [
    "newset = goodset.copy()\n",
    "print(newset)"
   ]
  },
  {
   "cell_type": "code",
   "execution_count": 103,
   "id": "aea8d9ee",
   "metadata": {},
   "outputs": [
    {
     "name": "stdout",
     "output_type": "stream",
     "text": [
      "set()\n",
      "{67, 99, 4, 5, 45, 78, 23, 25}\n"
     ]
    }
   ],
   "source": [
    "goodset.clear()\n",
    "print(goodset)\n",
    "goodset = newset.copy()\n",
    "print(goodset)"
   ]
  },
  {
   "cell_type": "raw",
   "id": "b9cc2686",
   "metadata": {},
   "source": [
    "A particular item can be removed from a set using the \n",
    "methods discard() and remove(). The only difference \n",
    "between the two is that the discard() function leaves \n",
    "a set unchanged if the element is not present in the set. \n",
    "On the other hand, the remove() function will raise an \n",
    "error in such a condition (if element is not present in the set)"
   ]
  },
  {
   "cell_type": "code",
   "execution_count": 77,
   "id": "46f23995",
   "metadata": {},
   "outputs": [
    {
     "name": "stdout",
     "output_type": "stream",
     "text": [
      "None\n",
      "{67, 99, 4, 5, 45, 78, 23, 25}\n"
     ]
    }
   ],
   "source": [
    "print(goodset.discard(29))\n",
    "print(goodset)"
   ]
  },
  {
   "cell_type": "code",
   "execution_count": 104,
   "id": "1130807d",
   "metadata": {},
   "outputs": [
    {
     "ename": "KeyError",
     "evalue": "29",
     "output_type": "error",
     "traceback": [
      "\u001b[1;31m---------------------------------------------------------------------------\u001b[0m",
      "\u001b[1;31mKeyError\u001b[0m                                  Traceback (most recent call last)",
      "Cell \u001b[1;32mIn[104], line 1\u001b[0m\n\u001b[1;32m----> 1\u001b[0m \u001b[38;5;28mprint\u001b[39m(\u001b[43mgoodset\u001b[49m\u001b[38;5;241;43m.\u001b[39;49m\u001b[43mremove\u001b[49m\u001b[43m(\u001b[49m\u001b[38;5;241;43m29\u001b[39;49m\u001b[43m)\u001b[49m)\n\u001b[0;32m      2\u001b[0m \u001b[38;5;28mprint\u001b[39m(remove)\n",
      "\u001b[1;31mKeyError\u001b[0m: 29"
     ]
    }
   ],
   "source": [
    "print(goodset.remove(29))\n",
    "print(remove)"
   ]
  },
  {
   "cell_type": "code",
   "execution_count": 79,
   "id": "5d1e6bbc",
   "metadata": {},
   "outputs": [
    {
     "name": "stdout",
     "output_type": "stream",
     "text": [
      "{2, 67, 99, 4, 5, 3, 45, 78, 23, 25}\n"
     ]
    }
   ],
   "source": [
    "goodset.update([2, 3, 4])\n",
    "print(goodset)"
   ]
  },
  {
   "cell_type": "code",
   "execution_count": 106,
   "id": "1fd3ee35",
   "metadata": {},
   "outputs": [
    {
     "name": "stdout",
     "output_type": "stream",
     "text": [
      "{1, 67, 99, 4, 5, 6, 8, 45, 78, 23, 56, 25}\n"
     ]
    }
   ],
   "source": [
    "goodset.update([4, 5], {1, 6, 8},(45,56))\n",
    "print(goodset)"
   ]
  },
  {
   "cell_type": "code",
   "execution_count": 107,
   "id": "c7d436c8",
   "metadata": {},
   "outputs": [
    {
     "name": "stdout",
     "output_type": "stream",
     "text": [
      "1\n",
      "{67, 99, 4, 5, 6, 8, 45, 78, 23, 56, 25}\n"
     ]
    }
   ],
   "source": [
    "print(goodset.pop())\n",
    "print(goodset)"
   ]
  },
  {
   "cell_type": "code",
   "execution_count": 105,
   "id": "d2f54d49",
   "metadata": {},
   "outputs": [
    {
     "name": "stdout",
     "output_type": "stream",
     "text": [
      "{2, 67, 99, 4, 5, 3, 45, 78, (45, 67), 23, 25}\n"
     ]
    }
   ],
   "source": [
    "setone = {2, 67, 99, 4, 5, 3, 45, 78, 23, 25, (45,67)}\n",
    "print(setone)"
   ]
  },
  {
   "cell_type": "markdown",
   "id": "f068beb0",
   "metadata": {},
   "source": [
    "# Set objects support mathematical operations"
   ]
  },
  {
   "cell_type": "code",
   "execution_count": 23,
   "id": "aa491096",
   "metadata": {},
   "outputs": [
    {
     "name": "stdout",
     "output_type": "stream",
     "text": [
      "{1, 2, 67, 4, 5, 3, 6, 8, 78, 23, 25, 99, 45}\n",
      "{1, 2, 67, 3, 4, 5, 6, 8, 78, 23, 25, 99, 45}\n",
      "{99, 67, 4, 5, 45, 23}\n",
      "{99, 67, 4, 5, 45, 23}\n"
     ]
    }
   ],
   "source": [
    "goodset = {67, 99, 4, 5, 23, 25, 45}\n",
    "newset = {1, 2, 67, 3, 4, 5, 6, 8, 99, 45, 78, 23}\n",
    "\n",
    "y = goodset.union(newset)\n",
    "print(y)\n",
    "y = newset.union(goodset)\n",
    "print(y)\n",
    "\n",
    "x = goodset.intersection(newset)\n",
    "print(x)\n",
    "x = newset.intersection(goodset)\n",
    "print(x)\n"
   ]
  },
  {
   "cell_type": "raw",
   "id": "231ed83f",
   "metadata": {},
   "source": [
    "The difference of the sets A and B in this order is the set of elements which \n",
    "belong to A but not to B. "
   ]
  },
  {
   "cell_type": "code",
   "execution_count": 27,
   "id": "e8b1ed41",
   "metadata": {},
   "outputs": [
    {
     "name": "stdout",
     "output_type": "stream",
     "text": [
      "{25}\n",
      "{1, 2, 3, 6, 8, 78}\n"
     ]
    }
   ],
   "source": [
    "goodset = {67, 99, 4, 5, 23, 25, 45}\n",
    "newset = {1, 2, 67, 3, 4, 5, 6, 8, 99, 45, 78, 23}\n",
    "\n",
    "x = goodset.difference(newset)\n",
    "print(x)\n",
    "\n",
    "y = newset.difference(goodset)\n",
    "print(y)"
   ]
  },
  {
   "cell_type": "raw",
   "id": "1ee4ddbe",
   "metadata": {},
   "source": [
    "The difference_update() method removes the items that exist in both sets from the original set"
   ]
  },
  {
   "cell_type": "code",
   "execution_count": 25,
   "id": "e710ed28",
   "metadata": {},
   "outputs": [
    {
     "name": "stdout",
     "output_type": "stream",
     "text": [
      "{25}\n",
      "{1, 2, 67, 3, 4, 5, 6, 8, 99, 45, 78, 23}\n",
      "{67, 99, 4, 5, 23, 25, 45}\n",
      "{1, 2, 3, 6, 8, 78}\n"
     ]
    }
   ],
   "source": [
    "goodset = {67, 99, 4, 5, 23, 25, 45}\n",
    "newset = {1, 2, 67, 3, 4, 5, 6, 8, 99, 45, 78, 23}\n",
    "\n",
    "goodset.difference_update(newset)\n",
    "print(goodset)\n",
    "print(newset)\n",
    "\n",
    "goodset = {67, 99, 4, 5, 23, 25, 45}\n",
    "newset = {1, 2, 67, 3, 4, 5, 6, 8, 99, 45, 78, 23}\n",
    "\n",
    "newset.difference_update(goodset)\n",
    "print(goodset)\n",
    "print(newset)"
   ]
  },
  {
   "cell_type": "raw",
   "id": "fc33d56b",
   "metadata": {},
   "source": [
    "The symmetric difference between the two sets is the set of elements that are in either of the sets but not in both of them"
   ]
  },
  {
   "cell_type": "code",
   "execution_count": 9,
   "id": "1fcbf5fb",
   "metadata": {},
   "outputs": [
    {
     "name": "stdout",
     "output_type": "stream",
     "text": [
      "{1, 2, 3, 6, 8, 78, 25}\n",
      "{1, 2, 3, 6, 8, 78, 25}\n"
     ]
    }
   ],
   "source": [
    "\n",
    "goodset = {67, 99, 4, 5, 23, 25, 45}\n",
    "newset = {1, 2, 67, 3, 4, 5, 6, 8, 78, 23, 99, 45}\n",
    "\n",
    "x = goodset.symmetric_difference(newset)\n",
    "print(x)\n",
    "\n",
    "goodset = {67, 99, 4, 5, 23, 25, 45}\n",
    "newset = {1, 2, 67, 3, 4, 5, 6, 8, 78, 23, 99, 45}\n",
    "\n",
    "x = newset.symmetric_difference(goodset)\n",
    "print(x)\n"
   ]
  },
  {
   "cell_type": "code",
   "execution_count": 26,
   "id": "d5fb6eb6",
   "metadata": {},
   "outputs": [
    {
     "name": "stdout",
     "output_type": "stream",
     "text": [
      "{1, 2, 3, 6, 8, 78, 25}\n",
      "{1, 2, 67, 3, 4, 5, 6, 8, 99, 45, 78, 23}\n",
      "{67, 99, 4, 5, 23, 25, 45}\n",
      "{1, 2, 3, 6, 8, 78, 25}\n"
     ]
    }
   ],
   "source": [
    "goodset = {67, 99, 4, 5, 23, 25, 45}\n",
    "newset = {1, 2, 67, 3, 4, 5, 6, 8, 78, 23, 99, 45}\n",
    "\n",
    "goodset.symmetric_difference_update(newset)\n",
    "print(goodset)\n",
    "print(newset)\n",
    "\n",
    "goodset = {67, 99, 4, 5, 23, 25, 45}\n",
    "newset = {1, 2, 67, 3, 4, 5, 6, 8, 78, 23, 99, 45}\n",
    "\n",
    "newset.symmetric_difference_update(goodset)\n",
    "print(goodset)\n",
    "print(newset)\n"
   ]
  },
  {
   "cell_type": "code",
   "execution_count": 14,
   "id": "36338ce8",
   "metadata": {},
   "outputs": [
    {
     "name": "stdout",
     "output_type": "stream",
     "text": [
      "{99, 67, 4, 5, 45, 23}\n",
      "{99, 67, 4, 5, 45, 23}\n"
     ]
    }
   ],
   "source": [
    "goodset = {67, 99, 4, 5, 23, 25, 45}\n",
    "newset = {1, 2, 67, 3, 4, 5, 6, 8, 78, 23, 99, 45}\n",
    "\n",
    "x = goodset.intersection(newset)\n",
    "print(x)\n",
    "\n",
    "x = newset.intersection(goodset)\n",
    "print(x)\n"
   ]
  },
  {
   "cell_type": "code",
   "execution_count": 18,
   "id": "8615d1ab",
   "metadata": {},
   "outputs": [
    {
     "name": "stdout",
     "output_type": "stream",
     "text": [
      "{99, 67, 4, 5, 45, 23}\n",
      "{1, 2, 67, 3, 4, 5, 6, 8, 99, 45, 78, 23}\n",
      "{67, 99, 4, 5, 23, 25, 45}\n",
      "{99, 67, 4, 5, 45, 23}\n"
     ]
    }
   ],
   "source": [
    "goodset = {67, 99, 4, 5, 23, 25, 45}\n",
    "newset = {1, 2, 67, 3, 4, 5, 6, 8, 78, 23, 99, 45}\n",
    "\n",
    "goodset.intersection_update(newset)\n",
    "print(goodset)\n",
    "print(newset)\n",
    "\n",
    "goodset = {67, 99, 4, 5, 23, 25, 45}\n",
    "newset = {1, 2, 67, 3, 4, 5, 6, 8, 78, 23, 99, 45}\n",
    "\n",
    "newset.intersection_update(goodset)\n",
    "print(goodset)\n",
    "print(newset)\n"
   ]
  },
  {
   "cell_type": "code",
   "execution_count": 93,
   "id": "0623221c",
   "metadata": {},
   "outputs": [
    {
     "name": "stdout",
     "output_type": "stream",
     "text": [
      "True\n"
     ]
    }
   ],
   "source": [
    "p = {3,4,5}\n",
    "q = {67,45,22,3,4,5}\n",
    "x = p.issubset(q)\n",
    "print(x)"
   ]
  },
  {
   "cell_type": "code",
   "execution_count": 94,
   "id": "730ad718",
   "metadata": {},
   "outputs": [
    {
     "name": "stdout",
     "output_type": "stream",
     "text": [
      "True\n"
     ]
    }
   ],
   "source": [
    "p = {3,4,5}\n",
    "q = {67,45,22,3,4,5}\n",
    "x = q.issuperset(p)\n",
    "print(x)"
   ]
  },
  {
   "cell_type": "code",
   "execution_count": 92,
   "id": "cf574bb5",
   "metadata": {},
   "outputs": [
    {
     "name": "stdout",
     "output_type": "stream",
     "text": [
      "False\n"
     ]
    }
   ],
   "source": [
    "p = {3,4,5}\n",
    "q = {67,45,22,3,4,5}\n",
    "x = p.isdisjoint(q)\n",
    "print(x)"
   ]
  },
  {
   "cell_type": "code",
   "execution_count": null,
   "id": "7470a617",
   "metadata": {},
   "outputs": [],
   "source": [
    "goodset."
   ]
  }
 ],
 "metadata": {
  "kernelspec": {
   "display_name": "Python 3 (ipykernel)",
   "language": "python",
   "name": "python3"
  },
  "language_info": {
   "codemirror_mode": {
    "name": "ipython",
    "version": 3
   },
   "file_extension": ".py",
   "mimetype": "text/x-python",
   "name": "python",
   "nbconvert_exporter": "python",
   "pygments_lexer": "ipython3",
   "version": "3.10.13"
  }
 },
 "nbformat": 4,
 "nbformat_minor": 5
}
