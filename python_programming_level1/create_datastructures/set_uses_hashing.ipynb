{
  "nbformat": 4,
  "nbformat_minor": 0,
  "metadata": {
    "colab": {
      "provenance": []
    },
    "kernelspec": {
      "name": "python3",
      "display_name": "Python 3"
    },
    "language_info": {
      "name": "python"
    }
  },
  "cells": [
    {
      "cell_type": "markdown",
      "source": [
        "set data structure uses hashing to store its elements."
      ],
      "metadata": {
        "id": "V5sSt8uZH7vn"
      }
    },
    {
      "cell_type": "code",
      "source": [
        "# Example elements\n",
        "elements = [1, 2, 3, \"hello\", (4, 5)]\n",
        "\n",
        "# Create a set and add elements\n",
        "my_set = set(elements)\n",
        "\n",
        "# Print the hash values of the elements\n",
        "for elem in elements:\n",
        "    print(f\"Element: {elem}, Hash: {hash(elem)}\")"
      ],
      "metadata": {
        "colab": {
          "base_uri": "https://localhost:8080/"
        },
        "id": "irbvcnP4HGuF",
        "outputId": "1a497264-4ceb-4e02-ddab-d05768552166"
      },
      "execution_count": null,
      "outputs": [
        {
          "output_type": "stream",
          "name": "stdout",
          "text": [
            "Element: 1, Hash: 1\n",
            "Element: 2, Hash: 2\n",
            "Element: 3, Hash: 3\n",
            "Element: hello, Hash: -5834244168098192583\n",
            "Element: (4, 5), Hash: -1009709641759730766\n"
          ]
        }
      ]
    }
  ]
}