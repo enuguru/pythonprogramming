{
 "cells": [
  {
   "cell_type": "markdown",
   "id": "1797a58b",
   "metadata": {},
   "source": [
    "# How to print a dictionary"
   ]
  },
  {
   "cell_type": "code",
   "execution_count": 1,
   "id": "a9cbea18",
   "metadata": {},
   "outputs": [
    {
     "name": "stdout",
     "output_type": "stream",
     "text": [
      "{23: 'Karthik', 45: 'Ramesh', 67: 'Vandana', 78: 'Faisal', 99: 'Andy'}\n"
     ]
    }
   ],
   "source": [
    "gooddict = dict({23:\"Karthik\",45:\"Ramesh\",67:\"Vandana\",78:\"Faisal\",99:\"Andy\"})\n",
    "print(gooddict)"
   ]
  },
  {
   "cell_type": "markdown",
   "id": "571744b8",
   "metadata": {},
   "source": [
    "# print only the keys of a dictionary"
   ]
  },
  {
   "cell_type": "code",
   "execution_count": 19,
   "id": "c7fd24ec",
   "metadata": {},
   "outputs": [
    {
     "name": "stdout",
     "output_type": "stream",
     "text": [
      "23 45 67 78 99 "
     ]
    }
   ],
   "source": [
    "for key in gooddict:\n",
    "    print(key, end = \" \")"
   ]
  },
  {
   "cell_type": "markdown",
   "id": "27487d04",
   "metadata": {},
   "source": [
    "# print only the values of a dictionary"
   ]
  },
  {
   "cell_type": "code",
   "execution_count": 5,
   "id": "1a95c26b",
   "metadata": {},
   "outputs": [
    {
     "name": "stdout",
     "output_type": "stream",
     "text": [
      "dict_values(['Karthik', 'Ramesh', 'Vandana', 'Faisal', 'Andy'])\n"
     ]
    }
   ],
   "source": [
    "print(gooddict.values())"
   ]
  },
  {
   "cell_type": "markdown",
   "id": "2ec1f984",
   "metadata": {},
   "source": [
    "# print only the values of a dictionary as values"
   ]
  },
  {
   "cell_type": "code",
   "execution_count": 20,
   "id": "6cd0b671",
   "metadata": {},
   "outputs": [
    {
     "name": "stdout",
     "output_type": "stream",
     "text": [
      "['Karthik', 'Ramesh', 'Vandana', 'Faisal', 'Andy']\n"
     ]
    }
   ],
   "source": [
    "print(list(gooddict.values()))"
   ]
  },
  {
   "cell_type": "markdown",
   "id": "13749d08",
   "metadata": {},
   "source": [
    "# print both the keys and values - classical method"
   ]
  },
  {
   "cell_type": "code",
   "execution_count": 21,
   "id": "d0eb39d5",
   "metadata": {},
   "outputs": [
    {
     "name": "stdout",
     "output_type": "stream",
     "text": [
      "23 Karthik\n",
      "45 Ramesh\n",
      "67 Vandana\n",
      "78 Faisal\n",
      "99 Andy\n"
     ]
    }
   ],
   "source": [
    "for i in gooddict:\n",
    "     print(i, gooddict[i])"
   ]
  },
  {
   "cell_type": "markdown",
   "id": "5e342600",
   "metadata": {},
   "source": [
    "# print both the keys and values - normal method"
   ]
  },
  {
   "cell_type": "code",
   "execution_count": 22,
   "id": "9507ae4f",
   "metadata": {},
   "outputs": [
    {
     "name": "stdout",
     "output_type": "stream",
     "text": [
      "23 Karthik\n",
      "45 Ramesh\n",
      "67 Vandana\n",
      "78 Faisal\n",
      "99 Andy\n"
     ]
    }
   ],
   "source": [
    "for k, v in gooddict.items():\n",
    "    print(k, v)"
   ]
  },
  {
   "cell_type": "markdown",
   "id": "a84daa48",
   "metadata": {},
   "source": [
    "# print the keys, values, both"
   ]
  },
  {
   "cell_type": "code",
   "execution_count": 23,
   "id": "bf936502",
   "metadata": {},
   "outputs": [
    {
     "name": "stdout",
     "output_type": "stream",
     "text": [
      "dict_keys(['a', 'b'])\n",
      "dict_values(['apple', 'ball'])\n",
      "dict_items([('a', 'apple'), ('b', 'ball')])\n"
     ]
    }
   ],
   "source": [
    "d={'a':'apple','b':'ball'}\n",
    "print(d.keys())  # displays all keys in list\n",
    "print(d.values()) # displays your values in list\n",
    "print(d.items()) # displays your pair tuple of key and value"
   ]
  },
  {
   "cell_type": "markdown",
   "id": "5c73137e",
   "metadata": {},
   "source": [
    "# sort dictionary by values - method 1"
   ]
  },
  {
   "cell_type": "code",
   "execution_count": 25,
   "id": "8dfcedc8",
   "metadata": {},
   "outputs": [
    {
     "name": "stdout",
     "output_type": "stream",
     "text": [
      "{0: 0, 2: 1, 1: 2, 4: 3, 3: 4}\n"
     ]
    }
   ],
   "source": [
    "x = {1: 2, 3: 4, 4: 3, 2: 1, 0: 0}\n",
    "print({k: v for k, v in sorted(x.items(), key=lambda item: item[1])})"
   ]
  },
  {
   "cell_type": "markdown",
   "id": "e3615c23",
   "metadata": {},
   "source": [
    "# sort dictionary by values - method 2"
   ]
  },
  {
   "cell_type": "code",
   "execution_count": 27,
   "id": "3bf6f728",
   "metadata": {},
   "outputs": [
    {
     "data": {
      "text/plain": [
       "{0: 0, 2: 1, 1: 2, 4: 3, 3: 4}"
      ]
     },
     "execution_count": 27,
     "metadata": {},
     "output_type": "execute_result"
    }
   ],
   "source": [
    "x = {1: 2, 3: 4, 4: 3, 2: 1, 0: 0}\n",
    "dict(sorted(x.items(), key=lambda item: item[1]))"
   ]
  },
  {
   "cell_type": "markdown",
   "id": "712b9e0c",
   "metadata": {},
   "source": [
    "# sort dictionary by values - method 3"
   ]
  },
  {
   "cell_type": "code",
   "execution_count": 28,
   "id": "28033c7b",
   "metadata": {},
   "outputs": [
    {
     "data": {
      "text/plain": [
       "[(0, 0), (2, 1), (1, 2), (4, 3), (3, 4)]"
      ]
     },
     "execution_count": 28,
     "metadata": {},
     "output_type": "execute_result"
    }
   ],
   "source": [
    "x = {1: 2, 3: 4, 4: 3, 2: 1, 0: 0}\n",
    "sorted(x.items(), key=lambda x: x[1])"
   ]
  },
  {
   "cell_type": "markdown",
   "id": "028e6de9",
   "metadata": {},
   "source": [
    "# sort dictionary by key"
   ]
  },
  {
   "cell_type": "code",
   "execution_count": 18,
   "id": "20f05153",
   "metadata": {},
   "outputs": [
    {
     "data": {
      "text/plain": [
       "[(0, 0), (1, 2), (2, 1), (3, 4), (4, 3)]"
      ]
     },
     "execution_count": 18,
     "metadata": {},
     "output_type": "execute_result"
    }
   ],
   "source": [
    "x = {1: 2, 3: 4, 4: 3, 2: 1, 0: 0}\n",
    "sorted(x.items(), key=lambda x: x[0])"
   ]
  }
 ],
 "metadata": {
  "kernelspec": {
   "display_name": "Python 3 (ipykernel)",
   "language": "python",
   "name": "python3"
  },
  "language_info": {
   "codemirror_mode": {
    "name": "ipython",
    "version": 3
   },
   "file_extension": ".py",
   "mimetype": "text/x-python",
   "name": "python",
   "nbconvert_exporter": "python",
   "pygments_lexer": "ipython3",
   "version": "3.10.13"
  }
 },
 "nbformat": 4,
 "nbformat_minor": 5
}
