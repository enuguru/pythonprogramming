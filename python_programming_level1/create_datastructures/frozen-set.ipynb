{
 "cells": [
  {
   "cell_type": "markdown",
   "id": "d4315814",
   "metadata": {},
   "source": [
    "# frozen set"
   ]
  },
  {
   "cell_type": "raw",
   "id": "f4a8eabf",
   "metadata": {},
   "source": [
    "An immutable version of a Python set object is a frozen set. While parts of a set can be changed at any moment, elements of a frozen set don't change after they've been created. As a result, frozen sets can be used as Dictionary keys or as elements of other sets."
   ]
  },
  {
   "cell_type": "code",
   "execution_count": 10,
   "id": "274b78a3",
   "metadata": {},
   "outputs": [
    {
     "name": "stdout",
     "output_type": "stream",
     "text": [
      "frozenset({'chikoo', 'banana', 'pomegranate'})\n"
     ]
    }
   ],
   "source": [
    "mylist = ['pomegranate', 'banana', 'chikoo']\n",
    "x = frozenset(mylist)\n",
    "print(x)"
   ]
  },
  {
   "cell_type": "code",
   "execution_count": 11,
   "id": "3f4426c8",
   "metadata": {},
   "outputs": [
    {
     "name": "stdout",
     "output_type": "stream",
     "text": [
      "{'apple', 'chikoo', 'banana'}\n",
      "frozenset({'apple', 'chikoo', 'banana'})\n"
     ]
    }
   ],
   "source": [
    "myset = {'apple', 'banana', 'chikoo'}\n",
    "x = frozenset(myset)\n",
    "print(myset)\n",
    "print(x)"
   ]
  },
  {
   "cell_type": "code",
   "execution_count": 13,
   "id": "40a5a5a4",
   "metadata": {},
   "outputs": [
    {
     "name": "stdout",
     "output_type": "stream",
     "text": [
      "{67, 45, frozenset({'apple', 'chikoo', 'banana'})}\n"
     ]
    }
   ],
   "source": [
    "newset = {45,67,x}\n",
    "print(newset)"
   ]
  },
  {
   "cell_type": "code",
   "execution_count": 14,
   "id": "7f3e717d",
   "metadata": {},
   "outputs": [
    {
     "name": "stdout",
     "output_type": "stream",
     "text": [
      "{45: 67, frozenset({'apple', 'chikoo', 'banana'}): 100}\n"
     ]
    }
   ],
   "source": [
    "newdict = {45:67,x:100}\n",
    "print(newdict)"
   ]
  },
  {
   "cell_type": "code",
   "execution_count": null,
   "id": "d1c20362",
   "metadata": {},
   "outputs": [],
   "source": [
    "myset."
   ]
  },
  {
   "cell_type": "code",
   "execution_count": null,
   "id": "046a1b99",
   "metadata": {},
   "outputs": [],
   "source": [
    "x."
   ]
  },
  {
   "cell_type": "code",
   "execution_count": null,
   "id": "13251a58",
   "metadata": {},
   "outputs": [],
   "source": []
  }
 ],
 "metadata": {
  "kernelspec": {
   "display_name": "Python 3 (ipykernel)",
   "language": "python",
   "name": "python3"
  },
  "language_info": {
   "codemirror_mode": {
    "name": "ipython",
    "version": 3
   },
   "file_extension": ".py",
   "mimetype": "text/x-python",
   "name": "python",
   "nbconvert_exporter": "python",
   "pygments_lexer": "ipython3",
   "version": "3.10.13"
  }
 },
 "nbformat": 4,
 "nbformat_minor": 5
}
