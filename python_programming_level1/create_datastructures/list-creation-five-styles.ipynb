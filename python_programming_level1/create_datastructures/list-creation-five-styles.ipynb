{
 "cells": [
  {
   "cell_type": "code",
   "execution_count": 1,
   "id": "b4662c88",
   "metadata": {},
   "outputs": [
    {
     "name": "stdout",
     "output_type": "stream",
     "text": [
      "[34, 56, 77, 99, 87, 100]\n"
     ]
    }
   ],
   "source": [
    "newlist = [34,56,77,99,87,100]\n",
    "print(newlist)"
   ]
  },
  {
   "cell_type": "code",
   "execution_count": 4,
   "id": "9baa5926",
   "metadata": {},
   "outputs": [
    {
     "name": "stdout",
     "output_type": "stream",
     "text": [
      "[34, 56, 77, 99, 87, 100]\n"
     ]
    }
   ],
   "source": [
    "listone = list([34,56,77,99,87,100])\n",
    "print(listone)"
   ]
  },
  {
   "cell_type": "code",
   "execution_count": 5,
   "id": "53f0ea01",
   "metadata": {},
   "outputs": [
    {
     "name": "stdout",
     "output_type": "stream",
     "text": [
      "[]\n"
     ]
    }
   ],
   "source": [
    "listtwo = list()\n",
    "print(listtwo)"
   ]
  },
  {
   "cell_type": "code",
   "execution_count": 6,
   "id": "f0fec251",
   "metadata": {},
   "outputs": [
    {
     "name": "stdout",
     "output_type": "stream",
     "text": [
      "[34, 56, 77, 99, 87, 100]\n"
     ]
    }
   ],
   "source": [
    "listtwo.append(34)\n",
    "listtwo.append(56)\n",
    "listtwo.append(77)\n",
    "listtwo.append(99)\n",
    "listtwo.append(87)\n",
    "listtwo.append(100)\n",
    "print(listtwo)"
   ]
  },
  {
   "cell_type": "raw",
   "id": "67997884",
   "metadata": {},
   "source": [
    "What is the difference between list creation using [] and using list() ?\n",
    "\n",
    "new = [1.2.3]\n",
    "Here new is the variable that points to the [1,2,3], new itself is not the list\n",
    "while list([1,2,3]) is function in python which returns a list\n",
    "\n",
    "[] is faster than list()\n",
    "\n",
    "list() requires a global lookup and a function call but [] compiles to a single instruction\n",
    "list() converts string into a list object while [] creates a list "
   ]
  },
  {
   "cell_type": "code",
   "execution_count": 16,
   "id": "c302742e",
   "metadata": {},
   "outputs": [
    {
     "name": "stdout",
     "output_type": "stream",
     "text": [
      "[]\n"
     ]
    }
   ],
   "source": [
    "listthree = []\n",
    "print(listthree)"
   ]
  },
  {
   "cell_type": "code",
   "execution_count": 17,
   "id": "f8d4e376",
   "metadata": {},
   "outputs": [
    {
     "name": "stdout",
     "output_type": "stream",
     "text": [
      "[45, 66, 77, 91, 29]\n"
     ]
    }
   ],
   "source": [
    "listthree.extend([45,66,77,91,29])\n",
    "print(listthree)"
   ]
  },
  {
   "cell_type": "code",
   "execution_count": 18,
   "id": "f307f16b",
   "metadata": {},
   "outputs": [
    {
     "name": "stdout",
     "output_type": "stream",
     "text": [
      "[45, 66, 77, 91, 29]\n"
     ]
    }
   ],
   "source": [
    "listfour = []\n",
    "listfour = listthree.copy()\n",
    "print(listfour)"
   ]
  },
  {
   "cell_type": "code",
   "execution_count": null,
   "id": "18e9e854",
   "metadata": {},
   "outputs": [],
   "source": []
  }
 ],
 "metadata": {
  "kernelspec": {
   "display_name": "Python 3 (ipykernel)",
   "language": "python",
   "name": "python3"
  },
  "language_info": {
   "codemirror_mode": {
    "name": "ipython",
    "version": 3
   },
   "file_extension": ".py",
   "mimetype": "text/x-python",
   "name": "python",
   "nbconvert_exporter": "python",
   "pygments_lexer": "ipython3",
   "version": "3.10.13"
  }
 },
 "nbformat": 4,
 "nbformat_minor": 5
}
