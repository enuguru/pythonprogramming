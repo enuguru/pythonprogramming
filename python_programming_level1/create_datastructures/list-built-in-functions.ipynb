{
 "cells": [
  {
   "cell_type": "code",
   "execution_count": 1,
   "id": "99f9ebc8",
   "metadata": {},
   "outputs": [
    {
     "name": "stdout",
     "output_type": "stream",
     "text": [
      "[34, 55, 67, 34, 45, 101, 200, 300]\n"
     ]
    }
   ],
   "source": [
    "newlist = [34,55,67,34,45,101,200,300]\n",
    "print(newlist)"
   ]
  },
  {
   "cell_type": "code",
   "execution_count": null,
   "id": "ef733a4b",
   "metadata": {},
   "outputs": [],
   "source": [
    "newlist."
   ]
  },
  {
   "cell_type": "code",
   "execution_count": 9,
   "id": "6012e103",
   "metadata": {},
   "outputs": [
    {
     "name": "stdout",
     "output_type": "stream",
     "text": [
      "[34, 55, 67, 34, 45, 101, 200, 300, 34]\n"
     ]
    }
   ],
   "source": [
    "newlist.append(34)\n",
    "print(newlist)"
   ]
  },
  {
   "cell_type": "code",
   "execution_count": 10,
   "id": "94f81d47",
   "metadata": {},
   "outputs": [
    {
     "name": "stdout",
     "output_type": "stream",
     "text": [
      "3\n"
     ]
    }
   ],
   "source": [
    "print(newlist.count(34))"
   ]
  },
  {
   "cell_type": "code",
   "execution_count": 11,
   "id": "c2004326",
   "metadata": {},
   "outputs": [
    {
     "name": "stdout",
     "output_type": "stream",
     "text": [
      "[34, 300, 200, 101, 45, 34, 67, 55, 34]\n"
     ]
    }
   ],
   "source": [
    "newlist.reverse()\n",
    "print(newlist)"
   ]
  },
  {
   "cell_type": "code",
   "execution_count": 12,
   "id": "691b2502",
   "metadata": {},
   "outputs": [
    {
     "name": "stdout",
     "output_type": "stream",
     "text": [
      "[34, 55, 67, 34, 45, 101, 200, 300, 34]\n"
     ]
    }
   ],
   "source": [
    "newlist.reverse()\n",
    "print(newlist)"
   ]
  },
  {
   "cell_type": "code",
   "execution_count": 14,
   "id": "0e30c001",
   "metadata": {},
   "outputs": [
    {
     "name": "stdout",
     "output_type": "stream",
     "text": [
      "[34, 34, 34, 45, 55, 67, 101, 200, 300]\n"
     ]
    }
   ],
   "source": [
    "newlist.sort()\n",
    "print(newlist)"
   ]
  },
  {
   "cell_type": "code",
   "execution_count": 15,
   "id": "5f4eab8b",
   "metadata": {},
   "outputs": [
    {
     "name": "stdout",
     "output_type": "stream",
     "text": [
      "[34, 34, 34, 45, 55, 67, 101, 200, 300]\n"
     ]
    }
   ],
   "source": [
    "print(newlist)"
   ]
  },
  {
   "cell_type": "code",
   "execution_count": 18,
   "id": "a4a94ebd",
   "metadata": {},
   "outputs": [
    {
     "name": "stdout",
     "output_type": "stream",
     "text": [
      "[34, 55, 67, 34, 45, 101, 200, 300, 34]\n"
     ]
    }
   ],
   "source": [
    "newlist = [34, 55, 67, 34, 45, 101, 200, 300, 34]\n",
    "print(newlist)"
   ]
  },
  {
   "cell_type": "code",
   "execution_count": 20,
   "id": "361ef3b7",
   "metadata": {},
   "outputs": [
    {
     "name": "stdout",
     "output_type": "stream",
     "text": [
      "4\n",
      "0\n"
     ]
    }
   ],
   "source": [
    "print(newlist.index(45))\n",
    "print(newlist.index(34))"
   ]
  },
  {
   "cell_type": "code",
   "execution_count": 21,
   "id": "3910062b",
   "metadata": {},
   "outputs": [
    {
     "name": "stdout",
     "output_type": "stream",
     "text": [
      "[34, 55, 67, 34, 45, 101, 200, 300]\n"
     ]
    }
   ],
   "source": [
    "newlist.pop()\n",
    "print(newlist)"
   ]
  },
  {
   "cell_type": "code",
   "execution_count": 22,
   "id": "9c9375dd",
   "metadata": {},
   "outputs": [
    {
     "name": "stdout",
     "output_type": "stream",
     "text": [
      "[34, 55, 67, 34, 45, 101, 200, 300, 34]\n"
     ]
    }
   ],
   "source": [
    "newlist = [34, 55, 67, 34, 45, 101, 200, 300, 34]\n",
    "print(newlist)"
   ]
  },
  {
   "cell_type": "code",
   "execution_count": 3,
   "id": "67c099ca",
   "metadata": {},
   "outputs": [
    {
     "name": "stdout",
     "output_type": "stream",
     "text": [
      "[34, 55, 67, 34, 45, 101, 200, 300]\n"
     ]
    }
   ],
   "source": [
    "listone = newlist.copy()\n",
    "print(listone)"
   ]
  },
  {
   "cell_type": "code",
   "execution_count": 4,
   "id": "f3bf4edc",
   "metadata": {},
   "outputs": [
    {
     "name": "stdout",
     "output_type": "stream",
     "text": [
      "[]\n"
     ]
    }
   ],
   "source": [
    "newlist.clear()\n",
    "print(newlist)"
   ]
  },
  {
   "cell_type": "code",
   "execution_count": 5,
   "id": "0a21eeea",
   "metadata": {},
   "outputs": [
    {
     "name": "stdout",
     "output_type": "stream",
     "text": [
      "[34, 55, 67, 34, 45, 101, 200, 300]\n"
     ]
    }
   ],
   "source": [
    "newlist = listone.copy()\n",
    "print(newlist)"
   ]
  },
  {
   "cell_type": "code",
   "execution_count": 6,
   "id": "660a059a",
   "metadata": {},
   "outputs": [
    {
     "name": "stdout",
     "output_type": "stream",
     "text": [
      "[34, 55, 67, 34, 45, 101, 200, 300]\n"
     ]
    }
   ],
   "source": [
    "listfive = [41,88]\n",
    "listfive = listone.copy()\n",
    "print(listfive)"
   ]
  },
  {
   "cell_type": "code",
   "execution_count": 26,
   "id": "80d99cfc",
   "metadata": {},
   "outputs": [
    {
     "name": "stdout",
     "output_type": "stream",
     "text": [
      "[34, 55, 67, 34, 39, 45, 101, 200, 300, 34]\n"
     ]
    }
   ],
   "source": [
    "newlist.insert(4,39)\n",
    "print(newlist)"
   ]
  },
  {
   "cell_type": "code",
   "execution_count": 28,
   "id": "92350562",
   "metadata": {},
   "outputs": [
    {
     "name": "stdout",
     "output_type": "stream",
     "text": [
      "[34, 55, 67, 34, 39, 45, 101, 200, 300, 34, 112, 114, 221]\n"
     ]
    }
   ],
   "source": [
    "newlist.extend([112,114,221])\n",
    "print(newlist)"
   ]
  },
  {
   "cell_type": "code",
   "execution_count": 29,
   "id": "104bb2e6",
   "metadata": {},
   "outputs": [
    {
     "name": "stdout",
     "output_type": "stream",
     "text": [
      "[34, 55, 67, 34, 39, 45, 101, 200, 300, 34, 114, 221]\n"
     ]
    }
   ],
   "source": [
    "newlist.remove(112)\n",
    "print(newlist)"
   ]
  },
  {
   "cell_type": "code",
   "execution_count": null,
   "id": "469a6aeb",
   "metadata": {},
   "outputs": [],
   "source": []
  }
 ],
 "metadata": {
  "kernelspec": {
   "display_name": "Python 3 (ipykernel)",
   "language": "python",
   "name": "python3"
  },
  "language_info": {
   "codemirror_mode": {
    "name": "ipython",
    "version": 3
   },
   "file_extension": ".py",
   "mimetype": "text/x-python",
   "name": "python",
   "nbconvert_exporter": "python",
   "pygments_lexer": "ipython3",
   "version": "3.10.13"
  }
 },
 "nbformat": 4,
 "nbformat_minor": 5
}
