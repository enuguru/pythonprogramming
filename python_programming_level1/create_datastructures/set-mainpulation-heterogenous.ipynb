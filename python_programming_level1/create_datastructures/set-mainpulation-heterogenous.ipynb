{
 "cells": [
  {
   "cell_type": "raw",
   "metadata": {},
   "source": [
    "a set is unordered\n",
    "list cannot have duplicates\n",
    "list values are not mutable, you can change any value\n",
    "you can add and delete a value, but you cannot insert a value at a position\n",
    "set cannot be indexed\n",
    "a set can have single heterogenous values it but cannot have a collection data type inside it except tuples and frozen sets\n",
    "a set cannot have recursive elements inside it\n",
    "a set cannot be directly sliced but we can write some additional python code to accopmplish it"
   ]
  },
  {
   "cell_type": "markdown",
   "metadata": {},
   "source": [
    "# Different ways of working with a set"
   ]
  },
  {
   "cell_type": "code",
   "execution_count": 91,
   "metadata": {},
   "outputs": [
    {
     "name": "stdout",
     "output_type": "stream",
     "text": [
      "{67, 99, 4, 5, 23, 45, 78}\n"
     ]
    }
   ],
   "source": [
    "goodset = {23, 45, 67, 78, 99, 78, 4, 5, 67}\n",
    "print(goodset)"
   ]
  },
  {
   "cell_type": "code",
   "execution_count": 92,
   "metadata": {},
   "outputs": [
    {
     "name": "stdout",
     "output_type": "stream",
     "text": [
      "{67, 4, 5, 78, 23, 99, 100, 300, 45}\n"
     ]
    }
   ],
   "source": [
    "goodset.add(100)\n",
    "goodset.add(300)\n",
    "print(goodset)"
   ]
  },
  {
   "cell_type": "raw",
   "metadata": {},
   "source": [
    "we can use frozen sets and tuples as elements of a set or as a key in a dictionary\n",
    "\n",
    "As a general rule, only immutable objects (strings, integers, floats, bool, frozensets, tuples of immutables) are hashable (though exceptions are possible) and can be used as elements of a set"
   ]
  },
  {
   "cell_type": "code",
   "execution_count": 93,
   "metadata": {},
   "outputs": [
    {
     "name": "stdout",
     "output_type": "stream",
     "text": [
      "{67, 99, 4, 5, (446, 348), 45, 78, 23}\n"
     ]
    }
   ],
   "source": [
    "goodset = {23, 45, 67, 78, 99, 78, 4, 5, 67, (446,348)}\n",
    "print(goodset)"
   ]
  },
  {
   "cell_type": "code",
   "execution_count": 94,
   "metadata": {},
   "outputs": [
    {
     "name": "stdout",
     "output_type": "stream",
     "text": [
      "frozenset({'apple', 'banana', 'cherry'})\n"
     ]
    }
   ],
   "source": [
    "mylist = ['apple', 'banana', 'cherry']\n",
    "x = frozenset(mylist)\n",
    "print(x)"
   ]
  },
  {
   "cell_type": "code",
   "execution_count": 95,
   "metadata": {},
   "outputs": [
    {
     "name": "stdout",
     "output_type": "stream",
     "text": [
      "{34, 67, 45, 89, frozenset({'apple', 'banana', 'cherry'})}\n"
     ]
    }
   ],
   "source": [
    "mylist = ['apple', 'banana', 'cherry']\n",
    "goodlist = [ 34, 45, 45, 34, 67, 89, 89, frozenset(mylist) ]\n",
    "goodset = set(goodlist)\n",
    "print(goodset)"
   ]
  },
  {
   "cell_type": "code",
   "execution_count": 96,
   "metadata": {},
   "outputs": [
    {
     "name": "stdout",
     "output_type": "stream",
     "text": [
      "{99, 67, 4, 5, (446, 348, (565, 37, frozenset({10, 19}))), 45, 78, 23, frozenset({frozenset({11, 77}), 442, 349})}\n"
     ]
    }
   ],
   "source": [
    "goodset = {23, 45, 67, 78, 99, 78, 4, 5, 67, (446,348,(565,37,frozenset([19,10]))), frozenset([442,349,frozenset([11,77])])}\n",
    "print(goodset)"
   ]
  },
  {
   "cell_type": "code",
   "execution_count": 97,
   "metadata": {},
   "outputs": [
    {
     "name": "stdout",
     "output_type": "stream",
     "text": [
      "{99, 67, 4, 5, (446, 348, (565, 37, frozenset({10, 19}))), (305, 549), frozenset[45, 29], 45, 78, 23, frozenset({frozenset({11, 77}), 442, 349})}\n"
     ]
    }
   ],
   "source": [
    "goodset.add((305,549))\n",
    "goodset.add(frozenset[45,29])\n",
    "print(goodset)"
   ]
  },
  {
   "cell_type": "code",
   "execution_count": null,
   "metadata": {},
   "outputs": [],
   "source": [
    "goodset.update([45,66], {114,66})\n",
    "print(goodset)"
   ]
  },
  {
   "cell_type": "raw",
   "metadata": {},
   "source": [
    "we can use integer,float,string and bool as elements of the set"
   ]
  },
  {
   "cell_type": "code",
   "execution_count": null,
   "metadata": {},
   "outputs": [],
   "source": [
    "goodset = {23, 45, 67, 78, 99, 78, 4, 5}\n",
    "print(goodset)\n",
    "goodset.add(56.78)\n",
    "goodset.add(\"wonderful\")\n",
    "goodset.add('Q')\n",
    "goodset.add(True)\n",
    "print(goodset)"
   ]
  },
  {
   "cell_type": "code",
   "execution_count": null,
   "metadata": {},
   "outputs": [],
   "source": [
    "print(goodset)\n",
    "goodset.pop()"
   ]
  },
  {
   "cell_type": "code",
   "execution_count": null,
   "metadata": {},
   "outputs": [],
   "source": [
    "goodset.discard(900)\n",
    "print(goodset)"
   ]
  },
  {
   "cell_type": "code",
   "execution_count": null,
   "metadata": {},
   "outputs": [],
   "source": [
    "goodset.remove(900)\n",
    "print(goodset)"
   ]
  },
  {
   "cell_type": "code",
   "execution_count": null,
   "metadata": {},
   "outputs": [],
   "source": [
    "goodset."
   ]
  },
  {
   "cell_type": "markdown",
   "metadata": {},
   "source": [
    "# operations that are not allowed in a set"
   ]
  },
  {
   "cell_type": "code",
   "execution_count": null,
   "metadata": {},
   "outputs": [],
   "source": [
    "goodset[1]"
   ]
  },
  {
   "cell_type": "code",
   "execution_count": null,
   "metadata": {},
   "outputs": [],
   "source": [
    "goodset[2] = 56"
   ]
  },
  {
   "cell_type": "code",
   "execution_count": null,
   "metadata": {},
   "outputs": [],
   "source": [
    "print(goodset[2:5:2])"
   ]
  },
  {
   "cell_type": "code",
   "execution_count": null,
   "metadata": {},
   "outputs": [],
   "source": [
    "import itertools\n",
    "\n",
    "some_data = [1, 2, 4, 9, 1, 6, 23, 3, 56, 6, 2, 3, 5, 6, 32, 2, 12, 5, 3, 2]\n",
    "big_set = set(some_data)\n",
    "small_set = set(itertools.islice(big_set, 5))\n",
    "print(set(itertools.islice(big_set, 5)))"
   ]
  },
  {
   "cell_type": "code",
   "execution_count": null,
   "metadata": {},
   "outputs": [],
   "source": [
    "newset = {23, 45, 67, 78, 99, 78, 4, 5, [67,55]}"
   ]
  },
  {
   "cell_type": "code",
   "execution_count": null,
   "metadata": {},
   "outputs": [],
   "source": []
  },
  {
   "cell_type": "code",
   "execution_count": null,
   "metadata": {},
   "outputs": [],
   "source": [
    "goodlist = [ 34, 45, 45, 34, 67, 89, 89, {67,91} ]\n",
    "goodset = set(goodlist)\n",
    "goodset"
   ]
  },
  {
   "cell_type": "raw",
   "metadata": {},
   "source": [
    "The individual items that you put into a set can't be mutable, \n",
    "because if they changed, the effective hash would change and \n",
    "thus the ability to check for inclusion would break down\n"
   ]
  },
  {
   "cell_type": "code",
   "execution_count": null,
   "metadata": {},
   "outputs": [],
   "source": [
    "goodlist = [ 34, 45, 45, 34, 67, 89, 89, {67:67,91:90} ]\n",
    "goodset = set(goodlist)\n",
    "goodset"
   ]
  },
  {
   "cell_type": "raw",
   "metadata": {},
   "source": [
    "If we use a dict, list or set as a key to another dict or in a set, that does not work because the keys have to be hashable. As a general rule, only immutable objects (strings, integers, floats, frozensets, tuples of immutables) are hashable (though exceptions are possible). So this does not work"
   ]
  },
  {
   "cell_type": "code",
   "execution_count": null,
   "metadata": {},
   "outputs": [],
   "source": []
  }
 ],
 "metadata": {
  "kernelspec": {
   "display_name": "Python 3 (ipykernel)",
   "language": "python",
   "name": "python3"
  },
  "language_info": {
   "codemirror_mode": {
    "name": "ipython",
    "version": 3
   },
   "file_extension": ".py",
   "mimetype": "text/x-python",
   "name": "python",
   "nbconvert_exporter": "python",
   "pygments_lexer": "ipython3",
   "version": "3.10.13"
  }
 },
 "nbformat": 4,
 "nbformat_minor": 4
}
