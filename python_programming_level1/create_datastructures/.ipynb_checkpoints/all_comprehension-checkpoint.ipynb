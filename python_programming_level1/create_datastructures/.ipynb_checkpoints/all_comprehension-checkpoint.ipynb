{
 "cells": [
  {
   "cell_type": "code",
   "execution_count": 1,
   "id": "10e6676d",
   "metadata": {},
   "outputs": [
    {
     "name": "stdout",
     "output_type": "stream",
     "text": [
      "[0, 3, 6, 9, 12, 15, 18, 21, 24, 27, 30, 33, 36, 39, 42, 45, 48, 51, 54, 57, 60, 63, 66, 69, 72, 75, 78, 81, 84, 87, 90, 93, 96, 99]\n"
     ]
    }
   ],
   "source": [
    "fact3 = [x for x in range(100) if x%3 == 0]\n",
    "print(fact3)"
   ]
  },
  {
   "cell_type": "code",
   "execution_count": 3,
   "id": "cc56429d",
   "metadata": {},
   "outputs": [
    {
     "name": "stdout",
     "output_type": "stream",
     "text": [
      "{0, 3, 6, 9, 12, 15, 18, 21, 24, 27, 30, 33, 36, 39, 42, 45, 48, 51, 54, 57, 60, 63, 66, 69, 72, 75, 78, 81, 84, 87, 90, 93, 96, 99}\n"
     ]
    }
   ],
   "source": [
    "fact3 = {x for x in range(100) if x%3 == 0}\n",
    "print(fact3)"
   ]
  },
  {
   "cell_type": "code",
   "execution_count": 4,
   "id": "63e77c60",
   "metadata": {},
   "outputs": [
    {
     "name": "stdout",
     "output_type": "stream",
     "text": [
      "{0: 1, 3: 4, 6: 7, 9: 10, 12: 13, 15: 16, 18: 19, 21: 22, 24: 25, 27: 28, 30: 31, 33: 34, 36: 37, 39: 40, 42: 43, 45: 46, 48: 49, 51: 52, 54: 55, 57: 58, 60: 61, 63: 64, 66: 67, 69: 70, 72: 73, 75: 76, 78: 79, 81: 82, 84: 85, 87: 88, 90: 91, 93: 94, 96: 97, 99: 100}\n"
     ]
    }
   ],
   "source": [
    "fact3 = {x:x+1 for x in range(100) if x%3 == 0}\n",
    "print(fact3)"
   ]
  },
  {
   "cell_type": "code",
   "execution_count": 9,
   "id": "35a41c36",
   "metadata": {},
   "outputs": [
    {
     "name": "stdout",
     "output_type": "stream",
     "text": [
      "(0, 3, 6, 9, 12, 15, 18, 21, 24, 27, 30, 33, 36, 39, 42, 45, 48, 51, 54, 57, 60, 63, 66, 69, 72, 75, 78, 81, 84, 87, 90, 93, 96, 99)\n"
     ]
    }
   ],
   "source": [
    "fact3 = *(x for x in range(100) if x%3 == 0),\n",
    "print(fact3)"
   ]
  },
  {
   "cell_type": "code",
   "execution_count": 10,
   "id": "b3770250",
   "metadata": {},
   "outputs": [
    {
     "name": "stdout",
     "output_type": "stream",
     "text": [
      "[0, 10, 20, 30, 40, 50, 60, 70, 80, 90]\n"
     ]
    }
   ],
   "source": [
    "num_list = [y for y in range(100) if y % 2 == 0 if y % 5 == 0]\n",
    "print(num_list)"
   ]
  },
  {
   "cell_type": "code",
   "execution_count": 11,
   "id": "d4902b46",
   "metadata": {},
   "outputs": [
    {
     "name": "stdout",
     "output_type": "stream",
     "text": [
      "['Even', 'Odd', 'Even', 'Odd', 'Even', 'Odd', 'Even', 'Odd', 'Even', 'Odd']\n"
     ]
    }
   ],
   "source": [
    "obj = [\"Even\" if i%2==0 else \"Odd\" for i in range(10)]\n",
    "print(obj)"
   ]
  },
  {
   "cell_type": "raw",
   "id": "8f4c5c67",
   "metadata": {},
   "source": [
    "List comprehension is an elegant way to define and create lists based on existing lists.\n",
    "List comprehension is generally more compact and faster than normal functions and loops \n",
    "for creating list.\n",
    "However, we should avoid writing very long list comprehensions in one line to ensure that \n",
    "code is user-friendly.\n",
    "Remember, every list comprehension can be rewritten in for loop, but every for loop can’t be \n",
    "rewritten in the form of list comprehension."
   ]
  },
  {
   "cell_type": "code",
   "execution_count": 12,
   "id": "28cc65c1",
   "metadata": {},
   "outputs": [
    {
     "name": "stdout",
     "output_type": "stream",
     "text": [
      "{1, 9, 81, 49, 25}\n"
     ]
    }
   ],
   "source": [
    "print({x*x for x in range(1,10) if x % 2 != 0})"
   ]
  },
  {
   "cell_type": "code",
   "execution_count": 13,
   "id": "ff981b22",
   "metadata": {},
   "outputs": [
    {
     "name": "stdout",
     "output_type": "stream",
     "text": [
      "{1: 1, 3: 9, 5: 25, 7: 49, 9: 81}\n"
     ]
    }
   ],
   "source": [
    "print({x:x ** 2 for x in range(1,10) if x % 2 != 0})"
   ]
  },
  {
   "cell_type": "code",
   "execution_count": 15,
   "id": "4a1b327a",
   "metadata": {},
   "outputs": [
    {
     "name": "stdout",
     "output_type": "stream",
     "text": [
      "[1, 3, 5, 7, 9, 11, 13, 15, 17, 19, 21, 23, 25, 27, 29]\n"
     ]
    }
   ],
   "source": [
    "print([x for x in range(1,30,2)])"
   ]
  },
  {
   "cell_type": "code",
   "execution_count": null,
   "id": "acfbe724",
   "metadata": {},
   "outputs": [],
   "source": []
  }
 ],
 "metadata": {
  "kernelspec": {
   "display_name": "Python 3 (ipykernel)",
   "language": "python",
   "name": "python3"
  },
  "language_info": {
   "codemirror_mode": {
    "name": "ipython",
    "version": 3
   },
   "file_extension": ".py",
   "mimetype": "text/x-python",
   "name": "python",
   "nbconvert_exporter": "python",
   "pygments_lexer": "ipython3",
   "version": "3.9.7"
  }
 },
 "nbformat": 4,
 "nbformat_minor": 5
}
