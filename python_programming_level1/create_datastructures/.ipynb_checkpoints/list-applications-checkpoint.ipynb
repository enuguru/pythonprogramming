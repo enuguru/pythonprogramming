{
 "cells": [
  {
   "cell_type": "markdown",
   "metadata": {},
   "source": [
    "# list and its applications"
   ]
  },
  {
   "cell_type": "code",
   "execution_count": 10,
   "metadata": {},
   "outputs": [
    {
     "name": "stdout",
     "output_type": "stream",
     "text": [
      "banana apple pear orange pomogranite muskmelon blackberry "
     ]
    }
   ],
   "source": [
    "newlist = [\"banana\", \"apple\", \"pear\", \"orange\", \"pomogranite\", \"muskmelon\", \"blackberry\"]\n",
    "for fruit in newlist:\n",
    "    print(fruit,end=\" \")"
   ]
  },
  {
   "cell_type": "code",
   "execution_count": 2,
   "metadata": {},
   "outputs": [
    {
     "name": "stdout",
     "output_type": "stream",
     "text": [
      "banana apple pear orange pomogranite muskmelon blackberry "
     ]
    }
   ],
   "source": [
    "for fruit in [\"banana\", \"apple\", \"pear\", \"orange\", \"pomogranite\", \"muskmelon\", \"blackberry\"]:\n",
    "    print(fruit,end=\" \")"
   ]
  },
  {
   "cell_type": "code",
   "execution_count": 3,
   "metadata": {},
   "outputs": [
    {
     "name": "stdout",
     "output_type": "stream",
     "text": [
      "Success\n"
     ]
    }
   ],
   "source": [
    "newlist = [\"banana\", \"apple\", \"pear\", \"orange\", \"pomogranite\", \"muskmelon\", \"blackberry\"]\n",
    "\n",
    "if \"banana\" in newlist:\n",
    "    print(\"Success\")\n",
    "else:\n",
    "    print(\"Not Present\")"
   ]
  },
  {
   "cell_type": "code",
   "execution_count": 4,
   "metadata": {},
   "outputs": [
    {
     "name": "stdout",
     "output_type": "stream",
     "text": [
      "23 67 44 2 15 66 "
     ]
    }
   ],
   "source": [
    "# Access every 2nd element in a list\n",
    "newlist = [23, 45, 67, 87, 44, 33, 2, 11, 15, 99, 66]\n",
    "index = 0\n",
    "while index < len(newlist):\n",
    "    print(newlist[index], end = \" \")\n",
    "    index = index + 2"
   ]
  },
  {
   "cell_type": "code",
   "execution_count": 5,
   "metadata": {},
   "outputs": [
    {
     "name": "stdout",
     "output_type": "stream",
     "text": [
      "[45, 67, 87, 44]\n"
     ]
    }
   ],
   "source": [
    "print(newlist[1:5])"
   ]
  },
  {
   "cell_type": "code",
   "execution_count": 8,
   "metadata": {},
   "outputs": [
    {
     "name": "stdout",
     "output_type": "stream",
     "text": [
      "[23, 67, 44, 2]\n"
     ]
    }
   ],
   "source": [
    "print(newlist[0:7:2])"
   ]
  },
  {
   "cell_type": "code",
   "execution_count": 9,
   "metadata": {},
   "outputs": [
    {
     "name": "stdout",
     "output_type": "stream",
     "text": [
      "[66, 99, 15, 11, 2, 33, 44, 87, 67, 45, 23]\n"
     ]
    }
   ],
   "source": [
    "print(newlist[::-1])"
   ]
  },
  {
   "cell_type": "code",
   "execution_count": null,
   "metadata": {},
   "outputs": [],
   "source": []
  }
 ],
 "metadata": {
  "kernelspec": {
   "display_name": "Python 3 (ipykernel)",
   "language": "python",
   "name": "python3"
  },
  "language_info": {
   "codemirror_mode": {
    "name": "ipython",
    "version": 3
   },
   "file_extension": ".py",
   "mimetype": "text/x-python",
   "name": "python",
   "nbconvert_exporter": "python",
   "pygments_lexer": "ipython3",
   "version": "3.9.7"
  }
 },
 "nbformat": 4,
 "nbformat_minor": 4
}
