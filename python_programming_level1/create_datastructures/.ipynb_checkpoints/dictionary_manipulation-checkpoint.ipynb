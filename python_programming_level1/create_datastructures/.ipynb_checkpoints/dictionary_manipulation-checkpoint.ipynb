{
 "cells": [
  {
   "cell_type": "markdown",
   "id": "1797a58b",
   "metadata": {},
   "source": [
    "# How to print a dictionary"
   ]
  },
  {
   "cell_type": "code",
   "execution_count": 1,
   "id": "a9cbea18",
   "metadata": {},
   "outputs": [
    {
     "name": "stdout",
     "output_type": "stream",
     "text": [
      "{23: 'Karthik', 45: 'Ramesh', 67: 'Vandana', 78: 'Faisal', 99: 'Andy'}\n"
     ]
    }
   ],
   "source": [
    "gooddict = dict({23:\"Karthik\",45:\"Ramesh\",67:\"Vandana\",78:\"Faisal\",99:\"Andy\"})\n",
    "print(gooddict)"
   ]
  },
  {
   "cell_type": "markdown",
   "id": "571744b8",
   "metadata": {},
   "source": [
    "# print only the keys of a dictionary"
   ]
  },
  {
   "cell_type": "code",
   "execution_count": 19,
   "id": "c7fd24ec",
   "metadata": {},
   "outputs": [
    {
     "name": "stdout",
     "output_type": "stream",
     "text": [
      "23 45 67 78 99 "
     ]
    }
   ],
   "source": [
    "for key in gooddict:\n",
    "    print(key, end = \" \")"
   ]
  },
  {
   "cell_type": "markdown",
   "id": "27487d04",
   "metadata": {},
   "source": [
    "# print only the values of a dictionary"
   ]
  },
  {
   "cell_type": "code",
   "execution_count": 5,
   "id": "1a95c26b",
   "metadata": {},
   "outputs": [
    {
     "name": "stdout",
     "output_type": "stream",
     "text": [
      "dict_values(['Karthik', 'Ramesh', 'Vandana', 'Faisal', 'Andy'])\n"
     ]
    }
   ],
   "source": [
    "print(gooddict.values())"
   ]
  },
  {
   "cell_type": "markdown",
   "id": "2ec1f984",
   "metadata": {},
   "source": [
    "# print only the values of a dictionary as values"
   ]
  },
  {
   "cell_type": "code",
   "execution_count": 20,
   "id": "6cd0b671",
   "metadata": {},
   "outputs": [
    {
     "name": "stdout",
     "output_type": "stream",
     "text": [
      "['Karthik', 'Ramesh', 'Vandana', 'Faisal', 'Andy']\n"
     ]
    }
   ],
   "source": [
    "print(list(gooddict.values()))"
   ]
  },
  {
   "cell_type": "markdown",
   "id": "13749d08",
   "metadata": {},
   "source": [
    "# print both the keys and values - classical method"
   ]
  },
  {
   "cell_type": "code",
   "execution_count": 21,
   "id": "d0eb39d5",
   "metadata": {},
   "outputs": [
    {
     "name": "stdout",
     "output_type": "stream",
     "text": [
      "23 Karthik\n",
      "45 Ramesh\n",
      "67 Vandana\n",
      "78 Faisal\n",
      "99 Andy\n"
     ]
    }
   ],
   "source": [
    "for i in gooddict:\n",
    "     print(i, gooddict[i])"
   ]
  },
  {
   "cell_type": "markdown",
   "id": "5e342600",
   "metadata": {},
   "source": [
    "# print both the keys and values - normal method"
   ]
  },
  {
   "cell_type": "code",
   "execution_count": 22,
   "id": "9507ae4f",
   "metadata": {},
   "outputs": [
    {
     "name": "stdout",
     "output_type": "stream",
     "text": [
      "23 Karthik\n",
      "45 Ramesh\n",
      "67 Vandana\n",
      "78 Faisal\n",
      "99 Andy\n"
     ]
    }
   ],
   "source": [
    "for k, v in gooddict.items():\n",
    "    print(k, v)"
   ]
  },
  {
   "cell_type": "markdown",
   "id": "a84daa48",
   "metadata": {},
   "source": [
    "# print the keys, values, both"
   ]
  },
  {
   "cell_type": "code",
   "execution_count": 23,
   "id": "bf936502",
   "metadata": {},
   "outputs": [
    {
     "name": "stdout",
     "output_type": "stream",
     "text": [
      "dict_keys(['a', 'b'])\n",
      "dict_values(['apple', 'ball'])\n",
      "dict_items([('a', 'apple'), ('b', 'ball')])\n"
     ]
    }
   ],
   "source": [
    "d={'a':'apple','b':'ball'}\n",
    "print(d.keys())  # displays all keys in list\n",
    "print(d.values()) # displays your values in list\n",
    "print(d.items()) # displays your pair tuple of key and value"
   ]
  },
  {
   "cell_type": "markdown",
   "id": "5c73137e",
   "metadata": {},
   "source": [
    "# sort dictionary by values - method 1"
   ]
  },
  {
   "cell_type": "code",
   "execution_count": 25,
   "id": "8dfcedc8",
   "metadata": {},
   "outputs": [
    {
     "name": "stdout",
     "output_type": "stream",
     "text": [
      "{0: 0, 2: 1, 1: 2, 4: 3, 3: 4}\n"
     ]
    }
   ],
   "source": [
    "x = {1: 2, 3: 4, 4: 3, 2: 1, 0: 0}\n",
    "print({k: v for k, v in sorted(x.items(), key=lambda item: item[1])})"
   ]
  },
  {
   "cell_type": "markdown",
   "id": "e3615c23",
   "metadata": {},
   "source": [
    "# sort dictionary by values - method 2"
   ]
  },
  {
   "cell_type": "code",
   "execution_count": 27,
   "id": "3bf6f728",
   "metadata": {},
   "outputs": [
    {
     "data": {
      "text/plain": [
       "{0: 0, 2: 1, 1: 2, 4: 3, 3: 4}"
      ]
     },
     "execution_count": 27,
     "metadata": {},
     "output_type": "execute_result"
    }
   ],
   "source": [
    "x = {1: 2, 3: 4, 4: 3, 2: 1, 0: 0}\n",
    "dict(sorted(x.items(), key=lambda item: item[1]))"
   ]
  },
  {
   "cell_type": "markdown",
   "id": "712b9e0c",
   "metadata": {},
   "source": [
    "# sort dictionary by values - method 3"
   ]
  },
  {
   "cell_type": "code",
   "execution_count": 28,
   "id": "28033c7b",
   "metadata": {},
   "outputs": [
    {
     "data": {
      "text/plain": [
       "[(0, 0), (2, 1), (1, 2), (4, 3), (3, 4)]"
      ]
     },
     "execution_count": 28,
     "metadata": {},
     "output_type": "execute_result"
    }
   ],
   "source": [
    "x = {1: 2, 3: 4, 4: 3, 2: 1, 0: 0}\n",
    "sorted(x.items(), key=lambda x: x[1])"
   ]
  },
  {
   "cell_type": "markdown",
   "id": "028e6de9",
   "metadata": {},
   "source": [
    "# sort dictionary by key"
   ]
  },
  {
   "cell_type": "code",
   "execution_count": 18,
   "id": "20f05153",
   "metadata": {},
   "outputs": [
    {
     "data": {
      "text/plain": [
       "[(0, 0), (1, 2), (2, 1), (3, 4), (4, 3)]"
      ]
     },
     "execution_count": 18,
     "metadata": {},
     "output_type": "execute_result"
    }
   ],
   "source": [
    "x = {1: 2, 3: 4, 4: 3, 2: 1, 0: 0}\n",
    "sorted(x.items(), key=lambda x: x[0])"
   ]
  },
  {
   "cell_type": "markdown",
   "id": "70bd4bbc",
   "metadata": {},
   "source": [
    "# five types of dictionaries -\n",
    "# normal dictionary\n",
    "# ordered dictionary\n",
    "# default dictionary\n",
    "# chain map\n",
    "# counter"
   ]
  },
  {
   "cell_type": "markdown",
   "id": "54b211b4",
   "metadata": {},
   "source": [
    "# OrderedDict"
   ]
  },
  {
   "cell_type": "code",
   "execution_count": 30,
   "id": "7311a3e8",
   "metadata": {},
   "outputs": [
    {
     "name": "stdout",
     "output_type": "stream",
     "text": [
      "a apple\n",
      "b banana\n",
      "c carrot\n"
     ]
    }
   ],
   "source": [
    "from collections import OrderedDict\n",
    "new_dic=OrderedDict()\n",
    "new_dic['a']=\"apple\"\n",
    "new_dic['b']=\"banana\"\n",
    "new_dic['c']=\"carrot\"\n",
    "\n",
    "for key,value in new_dic.items():\n",
    "    print(key,value)"
   ]
  },
  {
   "cell_type": "code",
   "execution_count": 32,
   "id": "4040f8ce",
   "metadata": {},
   "outputs": [
    {
     "name": "stdout",
     "output_type": "stream",
     "text": [
      "a banana\n",
      "b apple\n",
      "c carrot\n"
     ]
    }
   ],
   "source": [
    "new_dic=OrderedDict()\n",
    "new_dic['a']=\"banana\"\n",
    "new_dic['b']=\"apple\"\n",
    "new_dic['c']=\"carrot\"\n",
    "\n",
    "for key,value in new_dic.items():\n",
    "    print(key,value)"
   ]
  },
  {
   "cell_type": "markdown",
   "id": "e7899b11",
   "metadata": {},
   "source": [
    "# chain map"
   ]
  },
  {
   "cell_type": "code",
   "execution_count": 34,
   "id": "bf5fd64a",
   "metadata": {},
   "outputs": [
    {
     "name": "stdout",
     "output_type": "stream",
     "text": [
      "ChainMap({1: 'Hi', 2: 'WiproTechnologies'}, {'g': 'my', 'h': 'first blog'})\n"
     ]
    }
   ],
   "source": [
    "from collections import ChainMap\n",
    "a={1:\"Hi\",2:\"WiproTechnologies\"}\n",
    "b={'g':\"my\",'h':\"first blog\"}\n",
    "c=ChainMap(a,b)\n",
    "print(c)"
   ]
  },
  {
   "cell_type": "markdown",
   "id": "5ea84a72",
   "metadata": {},
   "source": [
    "# It is a container which combines multiple dictionaries into single unit.It is present in collections library."
   ]
  },
  {
   "cell_type": "code",
   "execution_count": 35,
   "id": "7f1e2b10",
   "metadata": {},
   "outputs": [
    {
     "name": "stdout",
     "output_type": "stream",
     "text": [
      "ChainMap({'t': 'Hello user'}, {1: 'Hi', 2: 'WiproTechnologies'}, {'g': 'my', 'h': 'first blog'})\n"
     ]
    }
   ],
   "source": [
    "from collections import ChainMap\n",
    "a={1:\"Hi\",2:\"WiproTechnologies\"}\n",
    "b={'g':\"my\",'h':\"first blog\"}\n",
    "c=ChainMap(a,b)\n",
    "c=c.new_child({'t':'Hello user'})\n",
    "print(c)"
   ]
  },
  {
   "cell_type": "markdown",
   "id": "b22b906b",
   "metadata": {},
   "source": [
    "# counter"
   ]
  },
  {
   "cell_type": "markdown",
   "id": "1003568e",
   "metadata": {},
   "source": [
    "# Counter is a subclass of the dictionary class. It stores the count of each element present along with the element"
   ]
  },
  {
   "cell_type": "code",
   "execution_count": 36,
   "id": "c132ff94",
   "metadata": {},
   "outputs": [
    {
     "name": "stdout",
     "output_type": "stream",
     "text": [
      "Counter({'a': 2, 'b': 1, 'c': 1})\n"
     ]
    }
   ],
   "source": [
    "from collections import Counter\n",
    "l=['a','b','a','c']\n",
    "c=Counter(l)\n",
    "print(c)"
   ]
  },
  {
   "cell_type": "markdown",
   "id": "8b9b7033",
   "metadata": {},
   "source": [
    "# Normal dictionary produces a key value error for key not present"
   ]
  },
  {
   "cell_type": "code",
   "execution_count": 42,
   "id": "51a80fcd",
   "metadata": {},
   "outputs": [
    {
     "name": "stdout",
     "output_type": "stream",
     "text": [
      "1\n",
      "2\n"
     ]
    },
    {
     "ename": "KeyError",
     "evalue": "'c'",
     "output_type": "error",
     "traceback": [
      "\u001b[1;31m---------------------------------------------------------------------------\u001b[0m",
      "\u001b[1;31mKeyError\u001b[0m                                  Traceback (most recent call last)",
      "\u001b[1;32m~\\AppData\\Local\\Temp/ipykernel_4276/2835295153.py\u001b[0m in \u001b[0;36m<module>\u001b[1;34m\u001b[0m\n\u001b[0;32m      9\u001b[0m \u001b[0mprint\u001b[0m\u001b[1;33m(\u001b[0m\u001b[0md\u001b[0m\u001b[1;33m[\u001b[0m\u001b[1;34m\"a\"\u001b[0m\u001b[1;33m]\u001b[0m\u001b[1;33m)\u001b[0m\u001b[1;33m\u001b[0m\u001b[1;33m\u001b[0m\u001b[0m\n\u001b[0;32m     10\u001b[0m \u001b[0mprint\u001b[0m\u001b[1;33m(\u001b[0m\u001b[0md\u001b[0m\u001b[1;33m[\u001b[0m\u001b[1;34m\"b\"\u001b[0m\u001b[1;33m]\u001b[0m\u001b[1;33m)\u001b[0m\u001b[1;33m\u001b[0m\u001b[1;33m\u001b[0m\u001b[0m\n\u001b[1;32m---> 11\u001b[1;33m \u001b[0mprint\u001b[0m\u001b[1;33m(\u001b[0m\u001b[0md\u001b[0m\u001b[1;33m[\u001b[0m\u001b[1;34m\"c\"\u001b[0m\u001b[1;33m]\u001b[0m\u001b[1;33m)\u001b[0m\u001b[1;33m\u001b[0m\u001b[1;33m\u001b[0m\u001b[0m\n\u001b[0m",
      "\u001b[1;31mKeyError\u001b[0m: 'c'"
     ]
    }
   ],
   "source": [
    "def def_value():\n",
    "    return \"Not Present\"\n",
    "\n",
    "# Defining the dict\n",
    "d = dict()\n",
    "d[\"a\"] = 1\n",
    "d[\"b\"] = 2\n",
    "\n",
    "print(d[\"a\"])\n",
    "print(d[\"b\"])\n",
    "print(d[\"c\"])"
   ]
  },
  {
   "cell_type": "markdown",
   "id": "048a2ddc",
   "metadata": {},
   "source": [
    "# # Defaultdict is a container like dictionaries present in the module collections. Defaultdict is a sub-class of the dictionary class that returns a dictionary-like object. "
   ]
  },
  {
   "cell_type": "code",
   "execution_count": 43,
   "id": "cd78bff5",
   "metadata": {},
   "outputs": [
    {
     "name": "stdout",
     "output_type": "stream",
     "text": [
      "1\n",
      "2\n",
      "Not Present\n"
     ]
    }
   ],
   "source": [
    "# Python program to demonstrate\n",
    "# defaultdict\n",
    "\n",
    "\n",
    "from collections import defaultdict\n",
    "\n",
    "\n",
    "# Function to return a default\n",
    "# values for keys that is not\n",
    "# present\n",
    "def def_value():\n",
    "\treturn \"Not Present\"\n",
    "\t\n",
    "# Defining the dict\n",
    "d = defaultdict(def_value)\n",
    "d[\"a\"] = 1\n",
    "d[\"b\"] = 2\n",
    "\n",
    "print(d[\"a\"])\n",
    "print(d[\"b\"])\n",
    "print(d[\"c\"])\n"
   ]
  },
  {
   "cell_type": "code",
   "execution_count": null,
   "id": "ee15c11b",
   "metadata": {},
   "outputs": [],
   "source": []
  }
 ],
 "metadata": {
  "kernelspec": {
   "display_name": "Python 3 (ipykernel)",
   "language": "python",
   "name": "python3"
  },
  "language_info": {
   "codemirror_mode": {
    "name": "ipython",
    "version": 3
   },
   "file_extension": ".py",
   "mimetype": "text/x-python",
   "name": "python",
   "nbconvert_exporter": "python",
   "pygments_lexer": "ipython3",
   "version": "3.9.7"
  }
 },
 "nbformat": 4,
 "nbformat_minor": 5
}
