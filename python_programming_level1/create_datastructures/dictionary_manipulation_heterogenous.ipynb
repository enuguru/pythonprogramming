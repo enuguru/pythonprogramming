{
 "cells": [
  {
   "cell_type": "markdown",
   "metadata": {},
   "source": [
    "# Different ways of creating a dictionary"
   ]
  },
  {
   "cell_type": "raw",
   "metadata": {},
   "source": [
    "a dictionary is ordered, before version 3.5 it was not ordered\n",
    "dictionary keys have to unique and if you use the same key it will overwrite the previous value\n",
    "but dictionary values can be duplicate\n",
    "dictionary values are mutable but keys are immutable\n",
    "you can add a new key,value pair to dictionary, you can delete a key,value pair by using pop and popitem, but you cannot insert a key,value pair\n",
    "dictionary cannot be sliced\n",
    "you can append or insert or delete any value in a list\n",
    "dictionary cannot be indexed with a number but dictionary can be indexed with a key \n",
    "a key of dictionary can be a tuple, or frozen set, or integer, float, character, string and bool any one of the above\n",
    "a dictionary key cannot be list or dictionary or a set\n",
    "a dictionary value can have recursive elements inside it\n"
   ]
  },
  {
   "cell_type": "code",
   "execution_count": 18,
   "metadata": {},
   "outputs": [
    {
     "data": {
      "text/plain": [
       "{'Karthik': 23, 45: 'Ramesh', 'g': 'Vandana', 78: 'Faisal', 99: 'Andy'}"
      ]
     },
     "execution_count": 18,
     "metadata": {},
     "output_type": "execute_result"
    }
   ],
   "source": [
    "gooddict = {\"Karthik\":23, 45:\"Ramesh\", 'g':\"Vandana\", 78:\"Faisal\", 99:\"Andy\"}\n",
    "gooddict"
   ]
  },
  {
   "cell_type": "code",
   "execution_count": 19,
   "metadata": {},
   "outputs": [
    {
     "name": "stdout",
     "output_type": "stream",
     "text": [
      "{'Karthik': 23, 45: 'Ramesh', 'g': 'Vandana', 78: 'Faisal', 99: 'Andy', 'author': 'John D Carmack'}\n"
     ]
    }
   ],
   "source": [
    "gooddict[\"author\"] = \"John D Carmack\"\n",
    "print(gooddict)"
   ]
  },
  {
   "cell_type": "code",
   "execution_count": 20,
   "metadata": {},
   "outputs": [
    {
     "name": "stdout",
     "output_type": "stream",
     "text": [
      "{'Karthik': 23, 45: 'Ramesh', 'g': 'Vandana', 78: 'Faisal', 99: 'Andy', 'author': 'John D Carmack', 'Games': 'pubg'}\n"
     ]
    }
   ],
   "source": [
    "gooddict.update({\"Games\":\"pubg\"})\n",
    "print(gooddict)"
   ]
  },
  {
   "cell_type": "code",
   "execution_count": null,
   "metadata": {},
   "outputs": [],
   "source": []
  },
  {
   "cell_type": "code",
   "execution_count": null,
   "metadata": {},
   "outputs": [],
   "source": [
    "gooddict[2]"
   ]
  },
  {
   "cell_type": "code",
   "execution_count": 3,
   "metadata": {},
   "outputs": [
    {
     "ename": "TypeError",
     "evalue": "unhashable type: 'slice'",
     "output_type": "error",
     "traceback": [
      "\u001b[1;31m---------------------------------------------------------------------------\u001b[0m",
      "\u001b[1;31mTypeError\u001b[0m                                 Traceback (most recent call last)",
      "Cell \u001b[1;32mIn[3], line 1\u001b[0m\n\u001b[1;32m----> 1\u001b[0m \u001b[43mgooddict\u001b[49m\u001b[43m[\u001b[49m\u001b[38;5;241;43m2\u001b[39;49m\u001b[43m:\u001b[49m\u001b[38;5;241;43m5\u001b[39;49m\u001b[43m]\u001b[49m\n",
      "\u001b[1;31mTypeError\u001b[0m: unhashable type: 'slice'"
     ]
    }
   ],
   "source": [
    "gooddict[2:5]"
   ]
  },
  {
   "cell_type": "code",
   "execution_count": 4,
   "metadata": {},
   "outputs": [
    {
     "data": {
      "text/plain": [
       "{'Karthik': 23,\n",
       " 45: 'Ramesh',\n",
       " 'g': 'Vandana',\n",
       " 78: 'Faisal',\n",
       " 99: 'Andy',\n",
       " 'Shreya': 23}"
      ]
     },
     "execution_count": 4,
     "metadata": {},
     "output_type": "execute_result"
    }
   ],
   "source": [
    "gooddict[\"Shreya\"] = 23\n",
    "gooddict"
   ]
  },
  {
   "cell_type": "code",
   "execution_count": 5,
   "metadata": {},
   "outputs": [
    {
     "data": {
      "text/plain": [
       "{'Karthik': 27,\n",
       " 45: 'Ramesh',\n",
       " 'g': 'Vandana',\n",
       " 78: 'Faisal',\n",
       " 99: 'Andy',\n",
       " 'Shreya': 23}"
      ]
     },
     "execution_count": 5,
     "metadata": {},
     "output_type": "execute_result"
    }
   ],
   "source": [
    "gooddict[\"Karthik\"] = 27\n",
    "gooddict"
   ]
  },
  {
   "cell_type": "code",
   "execution_count": null,
   "metadata": {},
   "outputs": [],
   "source": [
    "gooddict[99]"
   ]
  },
  {
   "cell_type": "code",
   "execution_count": null,
   "metadata": {},
   "outputs": [],
   "source": [
    "gooddict."
   ]
  },
  {
   "cell_type": "code",
   "execution_count": null,
   "metadata": {},
   "outputs": [],
   "source": [
    "temp = gooddict.copy()\n",
    "temp"
   ]
  },
  {
   "cell_type": "code",
   "execution_count": 24,
   "metadata": {},
   "outputs": [
    {
     "name": "stdout",
     "output_type": "stream",
     "text": [
      "dict_keys(['Karthik', 'g', 78, 'Tapas', (934, 56)])\n"
     ]
    }
   ],
   "source": [
    "r = gooddict.keys()\n",
    "print(r)"
   ]
  },
  {
   "cell_type": "code",
   "execution_count": 7,
   "metadata": {},
   "outputs": [
    {
     "data": {
      "text/plain": [
       "dict_values([27, 'Ramesh', 'Vandana', 'Faisal', 'Andy', 23])"
      ]
     },
     "execution_count": 7,
     "metadata": {},
     "output_type": "execute_result"
    }
   ],
   "source": [
    "gooddict.values()"
   ]
  },
  {
   "cell_type": "code",
   "execution_count": 8,
   "metadata": {},
   "outputs": [
    {
     "data": {
      "text/plain": [
       "dict_items([('Karthik', 27), (45, 'Ramesh'), ('g', 'Vandana'), (78, 'Faisal'), (99, 'Andy'), ('Shreya', 23)])"
      ]
     },
     "execution_count": 8,
     "metadata": {},
     "output_type": "execute_result"
    }
   ],
   "source": [
    "gooddict.items()"
   ]
  },
  {
   "cell_type": "code",
   "execution_count": 9,
   "metadata": {},
   "outputs": [
    {
     "name": "stdout",
     "output_type": "stream",
     "text": [
      "27\n",
      "Ramesh\n",
      "Andy\n"
     ]
    }
   ],
   "source": [
    "print(gooddict.get(\"Karthik\"))\n",
    "print(gooddict.get(45))\n",
    "print(gooddict.get(99))"
   ]
  },
  {
   "cell_type": "code",
   "execution_count": null,
   "metadata": {},
   "outputs": [],
   "source": [
    "temp.clear()\n",
    "temp"
   ]
  },
  {
   "cell_type": "code",
   "execution_count": 10,
   "metadata": {},
   "outputs": [
    {
     "data": {
      "text/plain": [
       "{'Karthik': 23, 45: 'Ramesh', 'g': 'Vandana', 78: 'Faisal', 99: 'Andy'}"
      ]
     },
     "execution_count": 10,
     "metadata": {},
     "output_type": "execute_result"
    }
   ],
   "source": [
    "gooddict = {\"Karthik\":23, 45:\"Ramesh\", 'g':\"Vandana\", 78:\"Faisal\", 99:\"Andy\"}\n",
    "temp = gooddict.copy()\n",
    "temp"
   ]
  },
  {
   "cell_type": "code",
   "execution_count": 11,
   "metadata": {},
   "outputs": [
    {
     "name": "stdout",
     "output_type": "stream",
     "text": [
      "{'Karthik': 23, 'g': 'Vandana', 78: 'Faisal', 99: 'Andy'}\n"
     ]
    }
   ],
   "source": [
    "gooddict.pop(45)\n",
    "print(gooddict)"
   ]
  },
  {
   "cell_type": "code",
   "execution_count": null,
   "metadata": {},
   "outputs": [],
   "source": [
    "gooddict[45]"
   ]
  },
  {
   "cell_type": "code",
   "execution_count": 12,
   "metadata": {},
   "outputs": [
    {
     "data": {
      "text/plain": [
       "{'Karthik': 23, 'g': 'Vandana', 78: 'Faisal'}"
      ]
     },
     "execution_count": 12,
     "metadata": {},
     "output_type": "execute_result"
    }
   ],
   "source": [
    "gooddict.popitem()\n",
    "gooddict"
   ]
  },
  {
   "cell_type": "code",
   "execution_count": null,
   "metadata": {},
   "outputs": [],
   "source": [
    "print(gooddict.pop(99))\n",
    "print(gooddict)"
   ]
  },
  {
   "cell_type": "code",
   "execution_count": null,
   "metadata": {},
   "outputs": [],
   "source": [
    "gooddict.popitem()"
   ]
  },
  {
   "cell_type": "code",
   "execution_count": null,
   "metadata": {},
   "outputs": [],
   "source": []
  },
  {
   "cell_type": "code",
   "execution_count": null,
   "metadata": {},
   "outputs": [],
   "source": [
    "gooddict."
   ]
  },
  {
   "cell_type": "code",
   "execution_count": 15,
   "metadata": {},
   "outputs": [
    {
     "name": "stdout",
     "output_type": "stream",
     "text": [
      "{'Raghu': [45, 34, 2]}\n"
     ]
    }
   ],
   "source": [
    "gooddict = {'Raghu':[45,34,2]}\n",
    "print(gooddict)"
   ]
  },
  {
   "cell_type": "code",
   "execution_count": null,
   "metadata": {},
   "outputs": [],
   "source": [
    "print(gooddict['Raghu'])"
   ]
  },
  {
   "cell_type": "code",
   "execution_count": null,
   "metadata": {},
   "outputs": [],
   "source": [
    "gooddict = {(34,45):[45,34,2]}\n",
    "print(gooddict)"
   ]
  },
  {
   "cell_type": "code",
   "execution_count": null,
   "metadata": {},
   "outputs": [],
   "source": [
    "gooddict."
   ]
  },
  {
   "cell_type": "code",
   "execution_count": null,
   "metadata": {},
   "outputs": [],
   "source": [
    "gooddict['raghu'] = [34,56,9]"
   ]
  },
  {
   "cell_type": "code",
   "execution_count": null,
   "metadata": {},
   "outputs": [],
   "source": [
    "gooddict."
   ]
  },
  {
   "cell_type": "code",
   "execution_count": null,
   "metadata": {},
   "outputs": [],
   "source": [
    "print(gooddict)"
   ]
  },
  {
   "cell_type": "code",
   "execution_count": 1,
   "metadata": {},
   "outputs": [
    {
     "name": "stdout",
     "output_type": "stream",
     "text": [
      "{(34, 45): 'Karthik', 45: 'Ramesh', 67: 'Vandana', 78: 'Faisal', 99: 'Andy'}\n"
     ]
    }
   ],
   "source": [
    "gooddict = {(34,45):\"Karthik\",45:\"Ramesh\",67:\"Vandana\",78:\"Faisal\",99:\"Andy\"}\n",
    "print(gooddict)"
   ]
  },
  {
   "cell_type": "code",
   "execution_count": 2,
   "metadata": {},
   "outputs": [
    {
     "data": {
      "text/plain": [
       "{(34, 45): 'Ram', 45: 'Ramesh', 67: 'Vandana', 78: 'Faisal', 99: 'Andy'}"
      ]
     },
     "execution_count": 2,
     "metadata": {},
     "output_type": "execute_result"
    }
   ],
   "source": [
    "gooddict[(34,45)] = \"Ram\"\n",
    "gooddict"
   ]
  },
  {
   "cell_type": "code",
   "execution_count": 3,
   "metadata": {},
   "outputs": [
    {
     "data": {
      "text/plain": [
       "{(34, 45): 'Ram', 45: 'Ramesh', 67: 'Ram', 78: 'Faisal', 99: 'Andy'}"
      ]
     },
     "execution_count": 3,
     "metadata": {},
     "output_type": "execute_result"
    }
   ],
   "source": [
    "gooddict[67] = \"Ram\"\n",
    "gooddict"
   ]
  },
  {
   "cell_type": "code",
   "execution_count": null,
   "metadata": {},
   "outputs": [],
   "source": [
    "dir(dict)"
   ]
  },
  {
   "cell_type": "code",
   "execution_count": null,
   "metadata": {},
   "outputs": [],
   "source": [
    "gooddict = dict({23:\"Karthik\",45:\"Ramesh\",67:\"Vandana\",78:\"Faisal\",99:\"Andy\"})\n",
    "print(gooddict)"
   ]
  },
  {
   "cell_type": "code",
   "execution_count": null,
   "metadata": {},
   "outputs": [],
   "source": [
    "gooddict = dict({\"Karthik\":23,45:\"Ramesh\",67:\"Vandana\",78:\"Faisal\",99:\"Andy\"})\n",
    "print(gooddict)"
   ]
  },
  {
   "cell_type": "code",
   "execution_count": null,
   "metadata": {},
   "outputs": [],
   "source": [
    "print(gooddict)"
   ]
  },
  {
   "cell_type": "code",
   "execution_count": null,
   "metadata": {},
   "outputs": [],
   "source": [
    "gooddict[23]"
   ]
  },
  {
   "cell_type": "code",
   "execution_count": null,
   "metadata": {},
   "outputs": [],
   "source": [
    "gooddict[0]"
   ]
  },
  {
   "cell_type": "code",
   "execution_count": 19,
   "metadata": {},
   "outputs": [
    {
     "name": "stdout",
     "output_type": "stream",
     "text": [
      "{'Badri': 47, 99: 'Andy', 23.45: 'Karthik', 45: 'Kishor', 67: {45: 67}, 78: 55}\n"
     ]
    },
    {
     "ename": "KeyError",
     "evalue": "1",
     "output_type": "error",
     "traceback": [
      "\u001b[1;31m---------------------------------------------------------------------------\u001b[0m",
      "\u001b[1;31mKeyError\u001b[0m                                  Traceback (most recent call last)",
      "\u001b[1;32m~\\AppData\\Local\\Temp\\ipykernel_7408\\3586237048.py\u001b[0m in \u001b[0;36m<module>\u001b[1;34m\u001b[0m\n\u001b[0;32m      5\u001b[0m \u001b[0mgooddict\u001b[0m\u001b[1;33m[\u001b[0m\u001b[1;36m45\u001b[0m\u001b[1;33m]\u001b[0m \u001b[1;33m=\u001b[0m \u001b[1;34m\"Kishor\"\u001b[0m\u001b[1;33m\u001b[0m\u001b[1;33m\u001b[0m\u001b[0m\n\u001b[0;32m      6\u001b[0m \u001b[0mprint\u001b[0m\u001b[1;33m(\u001b[0m\u001b[0mgooddict\u001b[0m\u001b[1;33m)\u001b[0m\u001b[1;33m\u001b[0m\u001b[1;33m\u001b[0m\u001b[0m\n\u001b[1;32m----> 7\u001b[1;33m \u001b[0mprint\u001b[0m\u001b[1;33m(\u001b[0m\u001b[0mgooddict\u001b[0m\u001b[1;33m[\u001b[0m\u001b[1;36m1\u001b[0m\u001b[1;33m]\u001b[0m\u001b[1;33m)\u001b[0m\u001b[1;33m\u001b[0m\u001b[1;33m\u001b[0m\u001b[0m\n\u001b[0m",
      "\u001b[1;31mKeyError\u001b[0m: 1"
     ]
    }
   ],
   "source": [
    "gooddict = {\"Badri\":47, 99:\"Karthik\"}\n",
    "\n",
    "newdict = {23.45:\"Karthik\",45:\"Guru\",67:{45:67},78:55,99:\"Andy\"}\n",
    "gooddict.update(newdict)\n",
    "gooddict[45] = \"Kishor\"\n",
    "print(gooddict)"
   ]
  },
  {
   "cell_type": "code",
   "execution_count": 4,
   "metadata": {},
   "outputs": [
    {
     "name": "stdout",
     "output_type": "stream",
     "text": [
      "{23: 'Karthik', 45: 'Ramesh', 67: 'Vandana', 78: 'Faisal', 99: 'Andy'}\n"
     ]
    }
   ],
   "source": [
    "gooddict = {}\n",
    "\n",
    "gooddict.update({23:\"Karthik\",45:\"Ramesh\",67:\"Vandana\",78:\"Faisal\",99:\"Andy\"})\n",
    "print(gooddict)"
   ]
  },
  {
   "cell_type": "code",
   "execution_count": 5,
   "metadata": {},
   "outputs": [
    {
     "name": "stdout",
     "output_type": "stream",
     "text": [
      "{23: 'Karthik', 45: 'Ramesh', 67: 'Vandana', 78: 'Faisal', 99: 'Andy', 25: 'Shalini'}\n"
     ]
    }
   ],
   "source": [
    "gooddict.update({25:\"Shalini\"})\n",
    "print(gooddict)"
   ]
  },
  {
   "cell_type": "code",
   "execution_count": 6,
   "metadata": {},
   "outputs": [
    {
     "name": "stdout",
     "output_type": "stream",
     "text": [
      "{23: 'Karthik', 45: 'Ramesh', 67: 'Vandana', 78: 'Faisal', 99: 'Andy', 25: 'Shalini', 27: 'Judy'}\n",
      "{23: 'Karthik', 45: 'Ramesh', 67: 'Vandana', 78: 'Faisal', 99: 'Andy', 25: 'Shalini', 27: 'Mrinalini'}\n"
     ]
    }
   ],
   "source": [
    "gooddict[27] = \"Judy\"\n",
    "print(gooddict)\n",
    "gooddict[27] = \"Mrinalini\"\n",
    "print(gooddict)"
   ]
  },
  {
   "cell_type": "code",
   "execution_count": 7,
   "metadata": {},
   "outputs": [
    {
     "data": {
      "text/plain": [
       "{23: 'Karthik',\n",
       " 45: 'Ramesh',\n",
       " 67: 'Vandana',\n",
       " 78: 'Faisal',\n",
       " 99: 'Andy',\n",
       " 25: 'Shalini',\n",
       " 27: 'Mrinalini',\n",
       " 'Tapas': [45, 67, 1000000, 235]}"
      ]
     },
     "execution_count": 7,
     "metadata": {},
     "output_type": "execute_result"
    }
   ],
   "source": [
    "gooddict[\"Tapas\"] = [45,67,1000000, 235]\n",
    "gooddict"
   ]
  },
  {
   "cell_type": "code",
   "execution_count": 8,
   "metadata": {},
   "outputs": [],
   "source": [
    "gooddict[(934,56)] = \"Defrietas\""
   ]
  },
  {
   "cell_type": "code",
   "execution_count": 9,
   "metadata": {},
   "outputs": [
    {
     "data": {
      "text/plain": [
       "{23: 'Karthik',\n",
       " 45: 'Ramesh',\n",
       " 67: 'Vandana',\n",
       " 78: 'Faisal',\n",
       " 99: 'Andy',\n",
       " 25: 'Shalini',\n",
       " 27: 'Mrinalini',\n",
       " 'Tapas': [45, 67, 1000000, 235],\n",
       " (934, 56): 'Defrietas'}"
      ]
     },
     "execution_count": 9,
     "metadata": {},
     "output_type": "execute_result"
    }
   ],
   "source": [
    "gooddict"
   ]
  },
  {
   "cell_type": "code",
   "execution_count": 11,
   "metadata": {},
   "outputs": [
    {
     "name": "stdout",
     "output_type": "stream",
     "text": [
      "{23: 'Karthik', 45: 'Ramesh', 67: 'Vandana', 78: 'Faisal', 99: 'Andy', 25: 'Shalini', 27: 'Mrinalini', 'Tapas': [45, 67, 1000000, 235], (934, 56): 'Defrietas', 'Badri': {56: [78, 97]}}\n"
     ]
    }
   ],
   "source": [
    "gooddict[\"Badri\"] = {56:[78,97]}\n",
    "print(gooddict)"
   ]
  },
  {
   "cell_type": "code",
   "execution_count": null,
   "metadata": {},
   "outputs": [],
   "source": []
  }
 ],
 "metadata": {
  "kernelspec": {
   "display_name": "Python 3 (ipykernel)",
   "language": "python",
   "name": "python3"
  },
  "language_info": {
   "codemirror_mode": {
    "name": "ipython",
    "version": 3
   },
   "file_extension": ".py",
   "mimetype": "text/x-python",
   "name": "python",
   "nbconvert_exporter": "python",
   "pygments_lexer": "ipython3",
   "version": "3.10.13"
  }
 },
 "nbformat": 4,
 "nbformat_minor": 4
}
