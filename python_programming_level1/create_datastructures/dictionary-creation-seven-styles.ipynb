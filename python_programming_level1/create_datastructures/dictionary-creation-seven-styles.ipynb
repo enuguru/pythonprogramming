{
 "cells": [
  {
   "cell_type": "markdown",
   "metadata": {},
   "source": [
    "# Different ways of creating a dictionary"
   ]
  },
  {
   "cell_type": "code",
   "execution_count": 14,
   "metadata": {},
   "outputs": [
    {
     "data": {
      "text/plain": [
       "{'Karthik': 23, 45: 'Ramesh', 'g': 'Vandana', 78: 'Faisal', 99: 'Andy'}"
      ]
     },
     "execution_count": 14,
     "metadata": {},
     "output_type": "execute_result"
    }
   ],
   "source": [
    "gooddict = {\"Karthik\":23, 45:\"Ramesh\", 'g':\"Vandana\", 78:\"Faisal\", 99:\"Andy\"}\n",
    "gooddict"
   ]
  },
  {
   "cell_type": "code",
   "execution_count": null,
   "metadata": {},
   "outputs": [],
   "source": [
    "gooddict."
   ]
  },
  {
   "cell_type": "code",
   "execution_count": null,
   "metadata": {},
   "outputs": [],
   "source": []
  },
  {
   "cell_type": "code",
   "execution_count": 1,
   "metadata": {},
   "outputs": [
    {
     "name": "stdout",
     "output_type": "stream",
     "text": [
      "{'Karthik': 23, 45: 'Ramesh', 67: 'Vandana', 78: 'Faisal', 99: 'Andy'}\n"
     ]
    }
   ],
   "source": [
    "newdict = dict({\"Karthik\":23,45:\"Ramesh\",67:\"Vandana\",78:\"Faisal\",99:\"Andy\"})\n",
    "print(newdict)"
   ]
  },
  {
   "cell_type": "code",
   "execution_count": 4,
   "metadata": {},
   "outputs": [
    {
     "name": "stdout",
     "output_type": "stream",
     "text": [
      "{}\n"
     ]
    }
   ],
   "source": [
    "dictone = dict()\n",
    "print(dictone)\n",
    "#{\"Karthik\":23,45:\"Ramesh\",67:\"Vandana\",78:\"Faisal\",99:\"Andy\"}"
   ]
  },
  {
   "cell_type": "code",
   "execution_count": 6,
   "metadata": {},
   "outputs": [
    {
     "name": "stdout",
     "output_type": "stream",
     "text": [
      "{'Karthik': 23, 'Ramesh': 67, 'Vandana': 78, 'Sakshi': 100, 99: 'Andy'}\n"
     ]
    }
   ],
   "source": [
    "dictone[\"Karthik\"] = 23\n",
    "dictone[\"Ramesh\"] = 67\n",
    "dictone[\"Vandana\"] = 78\n",
    "dictone[\"Sakshi\"] = 100\n",
    "dictone[99] = \"Andy\"\n",
    "print(dictone)"
   ]
  },
  {
   "cell_type": "code",
   "execution_count": 7,
   "metadata": {},
   "outputs": [
    {
     "name": "stdout",
     "output_type": "stream",
     "text": [
      "{'key1': 100, 'key2': 100, 'key3': 100}\n"
     ]
    }
   ],
   "source": [
    "a = ('key1', 'key2', 'key3')\n",
    "b = 100\n",
    "\n",
    "dicttwo = dict.fromkeys(a, b)\n",
    "\n",
    "print(dicttwo)"
   ]
  },
  {
   "cell_type": "code",
   "execution_count": 8,
   "metadata": {},
   "outputs": [
    {
     "name": "stdout",
     "output_type": "stream",
     "text": [
      "{'key1': 100, 'key2': 100, 'key3': 100}\n"
     ]
    }
   ],
   "source": [
    "dictthree = dicttwo.copy()\n",
    "print(dictthree)"
   ]
  },
  {
   "cell_type": "code",
   "execution_count": 12,
   "metadata": {},
   "outputs": [
    {
     "name": "stdout",
     "output_type": "stream",
     "text": [
      "{'model': 'Bronco', 'brand': 'Ford', 'Year': '1964'}\n"
     ]
    }
   ],
   "source": [
    "car = {}\n",
    "\n",
    "car.setdefault(\"model\", \"Bronco\")\n",
    "car.setdefault(\"brand\", \"Ford\")\n",
    "car.setdefault(\"Year\",\"1964\")\n",
    "\n",
    "print(car)"
   ]
  },
  {
   "cell_type": "code",
   "execution_count": 13,
   "metadata": {},
   "outputs": [
    {
     "name": "stdout",
     "output_type": "stream",
     "text": [
      "{'Physics': 67, 'Maths': 87, 'Practical': 48}\n"
     ]
    }
   ],
   "source": [
    "dictfour = {}\n",
    "\n",
    "internal_marks = {'Physics':67, 'Maths':87, 'Practical':48}\n",
    "\n",
    "dictfour.update(internal_marks)\n",
    "print(dictfour)"
   ]
  }
 ],
 "metadata": {
  "kernelspec": {
   "display_name": "Python 3 (ipykernel)",
   "language": "python",
   "name": "python3"
  },
  "language_info": {
   "codemirror_mode": {
    "name": "ipython",
    "version": 3
   },
   "file_extension": ".py",
   "mimetype": "text/x-python",
   "name": "python",
   "nbconvert_exporter": "python",
   "pygments_lexer": "ipython3",
   "version": "3.10.13"
  }
 },
 "nbformat": 4,
 "nbformat_minor": 4
}
