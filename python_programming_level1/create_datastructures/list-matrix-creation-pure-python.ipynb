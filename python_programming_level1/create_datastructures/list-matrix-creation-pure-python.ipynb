{
 "cells": [
  {
   "cell_type": "code",
   "execution_count": 1,
   "id": "a1d1d8d2",
   "metadata": {},
   "outputs": [
    {
     "name": "stdout",
     "output_type": "stream",
     "text": [
      "Matrix = [[1, 2, 3, 4], [5, 6, 7, 8], [9, 10, 11, 12]]\n"
     ]
    }
   ],
   "source": [
    "matrix = [[1, 2, 3, 4], \n",
    "    [5, 6, 7, 8],\n",
    "    [9, 10, 11, 12]]\n",
    "\n",
    "print(\"Matrix =\", matrix)"
   ]
  },
  {
   "cell_type": "code",
   "execution_count": 2,
   "id": "c4a8665a",
   "metadata": {},
   "outputs": [
    {
     "name": "stdout",
     "output_type": "stream",
     "text": [
      "Enter the number of rows:3\n",
      "Enter the number of columns:4\n",
      "Enter the entries row wise:\n",
      "23\n",
      "44\n",
      "67\n",
      "61\n",
      "22\n",
      "33\n",
      "44\n",
      "55\n",
      "90\n",
      "70\n",
      "45\n",
      "69\n",
      "23 44 67 61 \n",
      "22 33 44 55 \n",
      "90 70 45 69 \n"
     ]
    }
   ],
   "source": [
    "Row = int(input(\"Enter the number of rows:\"))\n",
    "Column = int(input(\"Enter the number of columns:\"))\n",
    "\n",
    "# Initialize matrix\n",
    "matrix = []\n",
    "print(\"Enter the entries row wise:\")\n",
    "\n",
    "# For user input\n",
    "# A for loop for row entries\n",
    "for row in range(Row): \n",
    "    a = []\n",
    "    # A for loop for column entries\n",
    "    for column in range(Column): \n",
    "        a.append(int(input()))\n",
    "    matrix.append(a)\n",
    "\n",
    "# For printing the matrix\n",
    "for row in range(Row):\n",
    "    for column in range(Column):\n",
    "        print(matrix[row][column], end=\" \")\n",
    "    print()"
   ]
  },
  {
   "cell_type": "code",
   "execution_count": 3,
   "id": "8af72335",
   "metadata": {},
   "outputs": [
    {
     "name": "stdout",
     "output_type": "stream",
     "text": [
      "[[0, 1, 2, 3], [0, 1, 2, 3], [0, 1, 2, 3], [0, 1, 2, 3]]\n"
     ]
    }
   ],
   "source": [
    "matrix = [[column for column in range(4)] for row in range(4)]\n",
    "\n",
    "print(matrix)"
   ]
  },
  {
   "cell_type": "code",
   "execution_count": 4,
   "id": "921a7f0e",
   "metadata": {},
   "outputs": [
    {
     "name": "stdout",
     "output_type": "stream",
     "text": [
      "[[1, 2, 3], [4, 11, 6], [7, 8, 9]]\n"
     ]
    }
   ],
   "source": [
    "X = [[1, 2, 3], [4, 5, 6], [7, 8, 9]]\n",
    "\n",
    "row = column = 1\n",
    "X[row][column] = 11\n",
    "\n",
    "print(X)"
   ]
  },
  {
   "cell_type": "code",
   "execution_count": 6,
   "id": "9e547a62",
   "metadata": {},
   "outputs": [
    {
     "name": "stdout",
     "output_type": "stream",
     "text": [
      "8\n"
     ]
    }
   ],
   "source": [
    "X = [[1, 2, 3], [4, 5, 6], [7, 8, 9]]\n",
    "\n",
    "print(X[-1][-2])"
   ]
  },
  {
   "cell_type": "code",
   "execution_count": 7,
   "id": "649219f8",
   "metadata": {},
   "outputs": [
    {
     "name": "stdout",
     "output_type": "stream",
     "text": [
      "[10, 10, 10]\n",
      "[10, 10, 10]\n",
      "[10, 10, 10]\n"
     ]
    }
   ],
   "source": [
    "# Program to add two matrices using nested loop\n",
    "X = [[1, 2, 3],[4, 5, 6], [7, 8, 9]]\n",
    "Y = [[9, 8, 7], [6, 5, 4], [3, 2, 1]]\n",
    "\n",
    "result = [[0, 0, 0], [0, 0, 0], [0, 0, 0]]\n",
    "\n",
    "# iterate through rows\n",
    "for row in range(len(X)):\n",
    "\n",
    "    # iterate through columns\n",
    "    for column in range(len(X[0])):\n",
    "        result[row][column] = X[row][column]+ Y[row][column]\n",
    "\n",
    "for r in result:\n",
    "    print(r)"
   ]
  },
  {
   "cell_type": "code",
   "execution_count": 8,
   "id": "c4b9675b",
   "metadata": {},
   "outputs": [
    {
     "name": "stdout",
     "output_type": "stream",
     "text": [
      "Matrix Addition\n",
      "[10, 10, 10]\n",
      "[10, 10, 10]\n",
      "[10, 10, 10]\n",
      "\n",
      "Matrix Subtraction\n",
      "[-8, -6, -4]\n",
      "[-2, 0, 2]\n",
      "[4, 6, 8]\n"
     ]
    }
   ],
   "source": [
    "Add_result = [[X[row][column] + Y[row][column]\n",
    "            for column in range(len(X[0]))] \n",
    "            for row in range(len(X))]\n",
    "Sub_result = [[X[row][column] - Y[row][column]\n",
    "            for column in range(len(X[0]))] \n",
    "            for row in range(len(X))]\n",
    "\n",
    "print(\"Matrix Addition\")\n",
    "for r in Add_result:\n",
    "    print(r)\n",
    "\n",
    "print(\"\\nMatrix Subtraction\")\n",
    "for r in Sub_result:\n",
    "    print(r)"
   ]
  },
  {
   "cell_type": "code",
   "execution_count": 9,
   "id": "33a76810",
   "metadata": {},
   "outputs": [
    {
     "name": "stdout",
     "output_type": "stream",
     "text": [
      "Matrix Multiplication\n",
      "[9, 16, 21]\n",
      "[24, 25, 24]\n",
      "[21, 16, 9]\n",
      "\n",
      "Matrix Division\n",
      "[9, 16, 21]\n",
      "[24, 25, 24]\n",
      "[21, 16, 9]\n"
     ]
    }
   ],
   "source": [
    "rmatrix = [[0, 0, 0], [0, 0, 0], [0, 0, 0]]\n",
    "\n",
    "for row in range(len(X)):\n",
    "    for column in range(len(X[0])):\n",
    "        rmatrix[row][column] = X[row][column] * Y[row][column]\n",
    "\n",
    "print(\"Matrix Multiplication\",)\n",
    "for r in rmatrix:\n",
    "    print(r)\n",
    "\n",
    "for i in range(len(X)):\n",
    "    for j in range(len(X[0])):\n",
    "        rmatrix[row][column] = X[row][column] // Y[row][column]\n",
    "\n",
    "print(\"\\nMatrix Division\",) \n",
    "for r in rmatrix:\n",
    "    print(r)"
   ]
  },
  {
   "cell_type": "code",
   "execution_count": 10,
   "id": "39891b97",
   "metadata": {},
   "outputs": [
    {
     "name": "stdout",
     "output_type": "stream",
     "text": [
      "[9, 6, 3]\n",
      "[8, 5, 2]\n",
      "[7, 4, 1]\n",
      "[9, 6, 3]\n",
      "[8, 5, 2]\n",
      "[7, 4, 1]\n"
     ]
    }
   ],
   "source": [
    "X = [[9, 8, 7], [6, 5, 4], [3, 2, 1]]\n",
    "\n",
    "result = [[0, 0, 0], [0, 0, 0], [0, 0, 0]]\n",
    "\n",
    "# iterate through rows\n",
    "for row in range(len(X)):\n",
    "    # iterate through columns\n",
    "    for column in range(len(X[0])):\n",
    "        result[column][row] = X[row][column]\n",
    "\n",
    "for r in result:\n",
    "    print(r)\n",
    "    \n",
    "#Python Program to Transpose a Matrix using the list comprehension\n",
    "\n",
    "rez = [[X[column][row] for column in range(len(X))] for row in range(len(X[0]))]\n",
    "\n",
    "for row in rez:\n",
    "    print(row)"
   ]
  },
  {
   "cell_type": "code",
   "execution_count": null,
   "id": "aa488f61",
   "metadata": {},
   "outputs": [],
   "source": []
  }
 ],
 "metadata": {
  "kernelspec": {
   "display_name": "Python 3 (ipykernel)",
   "language": "python",
   "name": "python3"
  },
  "language_info": {
   "codemirror_mode": {
    "name": "ipython",
    "version": 3
   },
   "file_extension": ".py",
   "mimetype": "text/x-python",
   "name": "python",
   "nbconvert_exporter": "python",
   "pygments_lexer": "ipython3",
   "version": "3.10.13"
  }
 },
 "nbformat": 4,
 "nbformat_minor": 5
}
