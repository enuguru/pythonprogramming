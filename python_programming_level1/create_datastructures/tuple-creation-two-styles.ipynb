{
 "cells": [
  {
   "cell_type": "code",
   "execution_count": 3,
   "id": "e0dba0c4",
   "metadata": {},
   "outputs": [
    {
     "name": "stdout",
     "output_type": "stream",
     "text": [
      "(89, 67, 99)\n"
     ]
    }
   ],
   "source": [
    "newtuple = (89,67,99)\n",
    "print(newtuple)"
   ]
  },
  {
   "cell_type": "code",
   "execution_count": 4,
   "id": "0c6eccde",
   "metadata": {},
   "outputs": [
    {
     "name": "stdout",
     "output_type": "stream",
     "text": [
      "(34, 55, 92)\n"
     ]
    }
   ],
   "source": [
    "newtuple = tuple([34,55,92])\n",
    "print(newtuple)"
   ]
  },
  {
   "cell_type": "code",
   "execution_count": null,
   "id": "19f57895",
   "metadata": {},
   "outputs": [],
   "source": []
  }
 ],
 "metadata": {
  "kernelspec": {
   "display_name": "Python 3 (ipykernel)",
   "language": "python",
   "name": "python3"
  },
  "language_info": {
   "codemirror_mode": {
    "name": "ipython",
    "version": 3
   },
   "file_extension": ".py",
   "mimetype": "text/x-python",
   "name": "python",
   "nbconvert_exporter": "python",
   "pygments_lexer": "ipython3",
   "version": "3.10.13"
  }
 },
 "nbformat": 4,
 "nbformat_minor": 5
}
