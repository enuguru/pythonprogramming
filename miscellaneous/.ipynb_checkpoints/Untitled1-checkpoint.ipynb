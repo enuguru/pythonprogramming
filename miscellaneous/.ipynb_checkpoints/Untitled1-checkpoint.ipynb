{
 "cells": [
  {
   "cell_type": "code",
   "execution_count": 1,
   "metadata": {},
   "outputs": [
    {
     "name": "stdout",
     "output_type": "stream",
     "text": [
      "this session is pretty interesting\n",
      "interesting pretty is session this\n"
     ]
    }
   ],
   "source": [
    "# how to give the input ?\n",
    "# give a single sentence like \"hello how are you doing\" ? as input\n",
    "\n",
    "newstring = input()\n",
    "\n",
    "## splitting the string on space\n",
    "words = newstring.split()\n",
    "\n",
    "## reversing the words using reversed() function\n",
    "words = list(reversed(words))\n",
    "\n",
    "## joining the words and printing\n",
    "print(\" \".join(words))\n"
   ]
  },
  {
   "cell_type": "code",
   "execution_count": 2,
   "metadata": {},
   "outputs": [
    {
     "name": "stdout",
     "output_type": "stream",
     "text": [
      "3\n",
      "10 20 30\n",
      "20.0\n",
      "30\n",
      "10\n"
     ]
    }
   ],
   "source": [
    "\n",
    "val = int(input())\n",
    "\n",
    "numbers = sorted(list(map(int,input().split())))\n",
    "\n",
    "mean = sum(numbers)/val\n",
    "print(mean)\n",
    "\n",
    "if val%2 == 0:\n",
    "    median = numbers[(val//2)-1] + numbers[(val//2)] / 2\n",
    "else:\n",
    "    median = numbers[(val//2)+1]\n",
    "print(median)\n",
    "\n",
    "mode = max(numbers,key=numbers.count)\n",
    "print(mode)\n"
   ]
  },
  {
   "cell_type": "markdown",
   "metadata": {},
   "source": [
    "### "
   ]
  }
 ],
 "metadata": {
  "kernelspec": {
   "display_name": "Python 3",
   "language": "python",
   "name": "python3"
  },
  "language_info": {
   "codemirror_mode": {
    "name": "ipython",
    "version": 3
   },
   "file_extension": ".py",
   "mimetype": "text/x-python",
   "name": "python",
   "nbconvert_exporter": "python",
   "pygments_lexer": "ipython3",
   "version": "3.8.5"
  }
 },
 "nbformat": 4,
 "nbformat_minor": 4
}
