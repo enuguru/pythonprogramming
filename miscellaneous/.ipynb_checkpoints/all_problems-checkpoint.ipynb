{
 "cells": [
  {
   "cell_type": "code",
   "execution_count": null,
   "metadata": {},
   "outputs": [],
   "source": []
  },
  {
   "cell_type": "code",
   "execution_count": 1,
   "metadata": {},
   "outputs": [
    {
     "name": "stdout",
     "output_type": "stream",
     "text": [
      "The original list is : [1, 3, 5, 6, 3, 5, 6, 1]\n",
      "The list after removing duplicates : [1, 3, 5, 6]\n"
     ]
    }
   ],
   "source": [
    "# removing duplicated from list\n",
    "\n",
    "# mylist\n",
    "test_list = [1, 3, 5, 6, 3, 5, 6, 1]\n",
    "print (\"The original list is : \" + str(test_list))\n",
    "#print (\"The original list is : \" + test_list)\n",
    "res = []\n",
    "for i in test_list:\n",
    "    if i not in res:\n",
    "        res.append(i)\n",
    "\n",
    "# printing list after removal\n",
    "print (\"The list after removing duplicates : \" + str(res))"
   ]
  },
  {
   "cell_type": "code",
   "execution_count": 2,
   "metadata": {},
   "outputs": [
    {
     "name": "stdout",
     "output_type": "stream",
     "text": [
      "The original list is : [1, 5, 3, 6, 3, 5, 6, 1]\n",
      "The list after removing duplicates : [1, 3, 5, 6]\n"
     ]
    }
   ],
   "source": [
    "# using set()\n",
    "\n",
    "# initializing list\n",
    "test_list = [1, 5, 3, 6, 3, 5, 6, 1]\n",
    "print (\"The original list is : \" + str(test_list))\n",
    "\n",
    "test_list = list(set(test_list))\n",
    "\n",
    "print (\"The list after removing duplicates : \" + str(test_list))"
   ]
  },
  {
   "cell_type": "code",
   "execution_count": 16,
   "metadata": {},
   "outputs": [
    {
     "name": "stdout",
     "output_type": "stream",
     "text": [
      "The original list is : [1, 3, 5, 6, 3, 5, 6, 1]\n",
      "The list after removing duplicates : [1, 3, 5, 6]\n"
     ]
    }
   ],
   "source": [
    "\n",
    "# using list comprehension\n",
    "\n",
    "# initializing list\n",
    "test_list = [1, 3, 5, 6, 3, 5, 6, 1]\n",
    "print (\"The original list is : \" + str(test_list))\n",
    "\n",
    "res = []\n",
    "[res.append(x) for x in test_list if x not in res]\n",
    "\n",
    "# printing list after removal\n",
    "print (\"The list after removing duplicates : \" + str(res))\n"
   ]
  },
  {
   "cell_type": "code",
   "execution_count": 17,
   "metadata": {},
   "outputs": [
    {
     "name": "stdout",
     "output_type": "stream",
     "text": [
      "The original list is : [1, 5, 3, 6, 3, 5, 6, 1]\n",
      "The list after removing duplicates : [1, 5, 3, 6]\n"
     ]
    }
   ],
   "source": [
    "\n",
    "# using list comprehension + enumerate()\n",
    "\n",
    "# initializing list\n",
    "test_list = [1, 5, 3, 6, 3, 5, 6, 1]\n",
    "print (\"The original list is : \" + str(test_list))\n",
    "\n",
    "res = [i for n, i in enumerate(test_list) if i not in test_list[:n]]\n",
    "\n",
    "# printing list after removal\n",
    "print (\"The list after removing duplicates : \" + str(res))\n"
   ]
  },
  {
   "cell_type": "code",
   "execution_count": 18,
   "metadata": {},
   "outputs": [
    {
     "name": "stdout",
     "output_type": "stream",
     "text": [
      "The original list is : [1, 5, 3, 6, 3, 5, 6, 1]\n",
      "The list after removing duplicates : [1, 5, 3, 6]\n"
     ]
    }
   ],
   "source": [
    "\n",
    "# using collections.OrderedDict.fromkeys()\n",
    "from collections import OrderedDict\n",
    "\n",
    "# initializing list\n",
    "test_list = [1, 5, 3, 6, 3, 5, 6, 1]\n",
    "print (\"The original list is : \" + str(test_list))\n",
    "\n",
    "res = list(OrderedDict.fromkeys(test_list))\n",
    "\n",
    "# printing list after removal\n",
    "print (\"The list after removing duplicates : \" + str(res))\n"
   ]
  },
  {
   "cell_type": "markdown",
   "metadata": {},
   "source": [
    "# look and say "
   ]
  },
  {
   "cell_type": "code",
   "execution_count": 1,
   "metadata": {},
   "outputs": [],
   "source": [
    "# 1\n",
    "# 11\n",
    "# 21\n",
    "# 1211\n",
    "# 111221\n",
    "# 312211"
   ]
  },
  {
   "cell_type": "code",
   "execution_count": 2,
   "metadata": {},
   "outputs": [
    {
     "name": "stdout",
     "output_type": "stream",
     "text": [
      "1\n",
      "11\n",
      "21\n",
      "1211\n",
      "111221\n",
      "312211\n",
      "13112221\n",
      "1113213211\n",
      "31131211131221\n",
      "13211311123113112211\n"
     ]
    }
   ],
   "source": [
    "def lookandsay(n):\n",
    "    def nextnumber(s):\n",
    "        result, i = [], 0\n",
    "        while i < len(s):\n",
    "            count = 1\n",
    "            while ((i + 1) < len(s) and s[i] == s[i + 1]):\n",
    "                i = i + 1\n",
    "                count = count + 1\n",
    "            result.append(str(count) + s[i])\n",
    "            i = i + 1\n",
    "        return ''. join(result)\n",
    "    s = '1'\n",
    "    for _ in range(1, n):\n",
    "        s = nextnumber(s)\n",
    "    return s\n",
    "\n",
    "for val in range(1,11):\n",
    "    number = lookandsay(val)\n",
    "    print(number)"
   ]
  },
  {
   "cell_type": "code",
   "execution_count": 3,
   "metadata": {},
   "outputs": [
    {
     "name": "stdout",
     "output_type": "stream",
     "text": [
      "1\n",
      "11\n",
      "21\n",
      "1211\n",
      "111221\n",
      "312211\n",
      "13112221\n",
      "1113213211\n",
      "31131211131221\n",
      "13211311123113112211\n"
     ]
    }
   ],
   "source": [
    "# Pythonic solutjon uses the power of itertools.groupby\n",
    "\n",
    "import itertools\n",
    "\n",
    "def lookandsaypythonic(n):\n",
    "    s = '1'\n",
    "    for _ in range(n - 1):\n",
    "        s = ''. join(str(len(list(group))) + key for key, group in itertools.groupby(s))\n",
    "    return s\n",
    "\n",
    "for val in range(1,11):\n",
    "    number = lookandsaypythonic(val)\n",
    "    print(number)"
   ]
  },
  {
   "cell_type": "code",
   "execution_count": 4,
   "metadata": {},
   "outputs": [
    {
     "name": "stdout",
     "output_type": "stream",
     "text": [
      "Give a number45\n",
      "The number of set bits is 4\n"
     ]
    }
   ],
   "source": [
    "def count_bits(num):\n",
    "    count = 0\n",
    "    while num:\n",
    "        if((num & 1) == 1):\n",
    "            count = count + 1\n",
    "        num = num >> 1\n",
    "    return count\n",
    "\n",
    "var = int(input(\"Give a number\"))\n",
    "set_bits = count_bits(var)\n",
    "print(\"The number of set bits is %d\"%set_bits)\n"
   ]
  },
  {
   "cell_type": "code",
   "execution_count": 5,
   "metadata": {},
   "outputs": [
    {
     "name": "stdout",
     "output_type": "stream",
     "text": [
      "Give a number45\n",
      "The number of set bits is 4\n"
     ]
    }
   ],
   "source": [
    "\n",
    "def count_bits(num):\n",
    "    count = 0\n",
    "    while num:\n",
    "        count = count + (num & 1)\n",
    "        num = num >> 1\n",
    "    return count\n",
    "\n",
    "var = int(input(\"Give a number\"))\n",
    "set_bits = count_bits(var)\n",
    "print(\"The number of set bits is %d\"%set_bits)\n"
   ]
  },
  {
   "cell_type": "code",
   "execution_count": 6,
   "metadata": {},
   "outputs": [
    {
     "name": "stdout",
     "output_type": "stream",
     "text": [
      "Give a number45\n",
      "The number of set bits is 4\n"
     ]
    }
   ],
   "source": [
    "\n",
    "def count_bits(num):\n",
    "    count = 0\n",
    "    while num:\n",
    "        count = count +  1\n",
    "        num = num & (num-1)\n",
    "    return count\n",
    "\n",
    "var = int(input(\"Give a number\"))\n",
    "set_bits = count_bits(var)\n",
    "\n",
    "print(\"The number of set bits is %d\"%set_bits)\n"
   ]
  },
  {
   "cell_type": "code",
   "execution_count": 7,
   "metadata": {},
   "outputs": [
    {
     "name": "stdout",
     "output_type": "stream",
     "text": [
      "Give a number45\n",
      "It is even parity\n"
     ]
    }
   ],
   "source": [
    "\n",
    "def find_parity(num):\n",
    "    parity = 0\n",
    "    while num:\n",
    "        if(num & 1 == 1):\n",
    "            parity = parity ^ 1\n",
    "        num = num >> 1\n",
    "    return parity\n",
    "\n",
    "var = int(input(\"Give a number\"))\n",
    "set_bits = find_parity(var)\n",
    "if set_bits:\n",
    "    print(\"It is odd parity\")\n",
    "else:\n",
    "    print(\"It is even parity\")\n"
   ]
  },
  {
   "cell_type": "code",
   "execution_count": 8,
   "metadata": {},
   "outputs": [
    {
     "name": "stdout",
     "output_type": "stream",
     "text": [
      "Give a number45\n",
      "It is even parity\n"
     ]
    }
   ],
   "source": [
    "\n",
    "def count_bits(num):\n",
    "    count = 0\n",
    "    while num:\n",
    "        count = count ^ (num & 1)\n",
    "        num = num >> 1\n",
    "    return count\n",
    "\n",
    "var = int(input(\"Give a number\"))\n",
    "set_bits = count_bits(var)\n",
    "if set_bits:\n",
    "    print(\"It is odd parity\")\n",
    "else:\n",
    "    print(\"It is even parity\")\n"
   ]
  },
  {
   "cell_type": "code",
   "execution_count": 9,
   "metadata": {},
   "outputs": [
    {
     "name": "stdout",
     "output_type": "stream",
     "text": [
      "Give a number45\n",
      "It is even parity\n"
     ]
    }
   ],
   "source": [
    "\n",
    "def count_bits(num):\n",
    "    count = 0\n",
    "    while num:\n",
    "        count = count ^ 1\n",
    "        num = num & (num-1)\n",
    "    return count\n",
    "\n",
    "var = int(input(\"Give a number\"))\n",
    "set_bits = count_bits(var)\n",
    "if set_bits:\n",
    "    print(\"It is odd parity\")\n",
    "else:\n",
    "    print(\"It is even parity\")\n"
   ]
  },
  {
   "cell_type": "code",
   "execution_count": null,
   "metadata": {},
   "outputs": [],
   "source": []
  }
 ],
 "metadata": {
  "kernelspec": {
   "display_name": "Python 3",
   "language": "python",
   "name": "python3"
  },
  "language_info": {
   "codemirror_mode": {
    "name": "ipython",
    "version": 3
   },
   "file_extension": ".py",
   "mimetype": "text/x-python",
   "name": "python",
   "nbconvert_exporter": "python",
   "pygments_lexer": "ipython3",
   "version": "3.8.5"
  }
 },
 "nbformat": 4,
 "nbformat_minor": 4
}
