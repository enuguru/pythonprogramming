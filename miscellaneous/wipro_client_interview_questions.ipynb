{
 "cells": [
  {
   "cell_type": "code",
   "execution_count": 2,
   "id": "f5c08b4e",
   "metadata": {},
   "outputs": [
    {
     "name": "stdout",
     "output_type": "stream",
     "text": [
      "good very is session python This\n"
     ]
    }
   ],
   "source": [
    "sentence = \"This python session is very good\"\n",
    "words = sentence.split(' ')\n",
    "reverse_sentence = ' '.join(reversed(words))\n",
    "print(reverse_sentence)"
   ]
  },
  {
   "cell_type": "code",
   "execution_count": 5,
   "id": "7bd0c2f3",
   "metadata": {},
   "outputs": [
    {
     "name": "stdout",
     "output_type": "stream",
     "text": [
      "144115188075855872\n"
     ]
    },
    {
     "ename": "TypeError",
     "evalue": "'NoneType' object cannot be interpreted as an integer",
     "output_type": "error",
     "traceback": [
      "\u001b[1;31m---------------------------------------------------------------------------\u001b[0m",
      "\u001b[1;31mTypeError\u001b[0m                                 Traceback (most recent call last)",
      "\u001b[1;32m~\\AppData\\Local\\Temp/ipykernel_8984/583099686.py\u001b[0m in \u001b[0;36m<module>\u001b[1;34m\u001b[0m\n\u001b[0;32m      8\u001b[0m \u001b[0mnum\u001b[0m \u001b[1;33m=\u001b[0m \u001b[1;36m64\u001b[0m\u001b[1;33m\u001b[0m\u001b[1;33m\u001b[0m\u001b[0m\n\u001b[0;32m      9\u001b[0m \u001b[0mbitSize\u001b[0m \u001b[1;33m=\u001b[0m \u001b[1;36m64\u001b[0m\u001b[1;33m\u001b[0m\u001b[1;33m\u001b[0m\u001b[0m\n\u001b[1;32m---> 10\u001b[1;33m \u001b[0mbin\u001b[0m\u001b[1;33m(\u001b[0m\u001b[0mbitsreverse\u001b[0m\u001b[1;33m(\u001b[0m\u001b[0mnum\u001b[0m\u001b[1;33m,\u001b[0m\u001b[0mbitSize\u001b[0m\u001b[1;33m)\u001b[0m\u001b[1;33m)\u001b[0m\u001b[1;33m\u001b[0m\u001b[1;33m\u001b[0m\u001b[0m\n\u001b[0m",
      "\u001b[1;31mTypeError\u001b[0m: 'NoneType' object cannot be interpreted as an integer"
     ]
    }
   ],
   "source": [
    "def bitsreverse(num,bitSize): \n",
    "     binary = bin(num) \n",
    "     reverse = binary[-1:1:-1] \n",
    "     reverse = reverse + (bitSize - len(reverse))*'0'\n",
    "     print(int(reverse,2)) \n",
    "    \n",
    "#num = 9223372036854775808\n",
    "num = 64\n",
    "bitSize = 64\n",
    "bin(bitsreverse(num,bitSize))"
   ]
  },
  {
   "cell_type": "code",
   "execution_count": 9,
   "id": "c8efae39",
   "metadata": {},
   "outputs": [
    {
     "data": {
      "text/plain": [
       "64"
      ]
     },
     "execution_count": 9,
     "metadata": {},
     "output_type": "execute_result"
    }
   ],
   "source": [
    "int('{:08b}'.format(2)[::-1], 2)"
   ]
  },
  {
   "cell_type": "code",
   "execution_count": 11,
   "id": "030851fc",
   "metadata": {},
   "outputs": [
    {
     "data": {
      "text/plain": [
       "1"
      ]
     },
     "execution_count": 11,
     "metadata": {},
     "output_type": "execute_result"
    }
   ],
   "source": [
    "\n",
    "def reverse_mask(x):\n",
    "    x = ((x & 0x55555555) << 1) | ((x & 0xAAAAAAAA) >> 1)\n",
    "    x = ((x & 0x33333333) << 2) | ((x & 0xCCCCCCCC) >> 2)\n",
    "    x = ((x & 0x0F0F0F0F) << 4) | ((x & 0xF0F0F0F0) >> 4)\n",
    "    x = ((x & 0x00FF00FF) << 8) | ((x & 0xFF00FF00) >> 8)\n",
    "    x = ((x & 0x0000FFFF) << 16) | ((x & 0xFFFF0000) >> 16)\n",
    "    return x\n",
    "\n",
    "reverse_mask(2147483648)"
   ]
  },
  {
   "cell_type": "code",
   "execution_count": 12,
   "id": "7c0510f8",
   "metadata": {},
   "outputs": [
    {
     "name": "stdout",
     "output_type": "stream",
     "text": [
      "3\n"
     ]
    }
   ],
   "source": [
    "def reverse_Bits(n, no_of_bits):\n",
    "    result = 0\n",
    "    for i in range(no_of_bits):\n",
    "        result <<= 1\n",
    "        result |= n & 1\n",
    "        n >>= 1\n",
    "    return result\n",
    "# for example we reverse 12 i.e 1100 which is 4 bits long\n",
    "print(reverse_Bits(12,4))"
   ]
  },
  {
   "cell_type": "code",
   "execution_count": 22,
   "id": "226fa41f",
   "metadata": {},
   "outputs": [
    {
     "name": "stdout",
     "output_type": "stream",
     "text": [
      "2 3 5 7 11 13 17 19 23 29 31 37 41 43 47 53 59 61 67 71 73 79 83 89 97 101 None\n"
     ]
    }
   ],
   "source": [
    "def prime_eratosthenes(n):\n",
    "    prime_list = []\n",
    "    for i in range(2, n+1):\n",
    "        if i not in prime_list:\n",
    "            print(i,end=\" \")\n",
    "            for j in range(i*i, n+1, i):\n",
    "                prime_list.append(j)\n",
    "\n",
    "print(prime_eratosthenes(102))"
   ]
  },
  {
   "cell_type": "code",
   "execution_count": 19,
   "id": "f89c61df",
   "metadata": {},
   "outputs": [
    {
     "name": "stdout",
     "output_type": "stream",
     "text": [
      "The prime numbers smaller than or equal to 33 is\n",
      "2 3 5 7 11 13 17 19 23 29 31 "
     ]
    }
   ],
   "source": [
    "def SieveOfEratosthenes(n):\n",
    "   # array of type boolean with True values in it\n",
    "   prime = [True for i in range(n + 1)]\n",
    "   p = 2\n",
    "   while (p * p <= n):\n",
    "      # If it remain unchanged it is prime\n",
    "      if (prime[p] == True):\n",
    "         # updating all the multiples\n",
    "         for i in range(p * 2, n + 1, p):\n",
    "            prime[i] = False\n",
    "      p += 1\n",
    "   prime[0]= False\n",
    "   prime[1]= False\n",
    "   # Print\n",
    "   for p in range(n + 1):\n",
    "      if prime[p]:\n",
    "         print (p,end=\" \")\n",
    "\n",
    "n = 33\n",
    "print (\"The prime numbers smaller than or equal to\", n,\"is\")\n",
    "SieveOfEratosthenes(n)"
   ]
  },
  {
   "cell_type": "code",
   "execution_count": 23,
   "id": "935c5f38",
   "metadata": {},
   "outputs": [
    {
     "name": "stdout",
     "output_type": "stream",
     "text": [
      "{2, 3, 5, 7, 11, 13, 17, 19, 23, 29, 31, 37, 41, 43, 47, 53, 59, 61, 67, 71, 73, 79, 83, 89, 97}\n"
     ]
    }
   ],
   "source": [
    "from functools import reduce\n",
    "n=100\n",
    "primes = reduce(lambda r, x: r - set(range(x**2, n, x)) if x in r else r, range(2, int(n**0.5) + 1), set(range(2,n)))\n",
    "print(primes)"
   ]
  },
  {
   "cell_type": "code",
   "execution_count": 24,
   "id": "7e90e4fb",
   "metadata": {},
   "outputs": [
    {
     "name": "stdout",
     "output_type": "stream",
     "text": [
      "{2, 3, 5, 7, 11, 13, 17, 19, 23, 29, 31, 37, 41, 43, 47, 53, 59, 61, 67, 71, 73, 79, 83, 89, 97}\n"
     ]
    }
   ],
   "source": [
    "print(reduce(lambda r, x: r - set(range(x**2, 100, x)) if x in r else r, range(2, int(n**0.5) + 1), set(range(2,n))))"
   ]
  },
  {
   "cell_type": "code",
   "execution_count": 30,
   "id": "8bb7027c",
   "metadata": {},
   "outputs": [
    {
     "name": "stdout",
     "output_type": "stream",
     "text": [
      "VII\n",
      "7\n"
     ]
    }
   ],
   "source": [
    "import functools\n",
    "T={'I':1,'V':5,'X':10,'L':50,'C':100,'D':500,'M':1000}\n",
    "s=input()\n",
    "print(functools.reduce(lambda val,i:val+(-T[s[i]] if T[s[i]]<T[s[i+1]] else T[s[i]]),reversed(range(len(s)-1)),T[s[-1]]))"
   ]
  },
  {
   "cell_type": "code",
   "execution_count": null,
   "id": "3a836b90",
   "metadata": {},
   "outputs": [],
   "source": []
  }
 ],
 "metadata": {
  "kernelspec": {
   "display_name": "Python 3 (ipykernel)",
   "language": "python",
   "name": "python3"
  },
  "language_info": {
   "codemirror_mode": {
    "name": "ipython",
    "version": 3
   },
   "file_extension": ".py",
   "mimetype": "text/x-python",
   "name": "python",
   "nbconvert_exporter": "python",
   "pygments_lexer": "ipython3",
   "version": "3.9.7"
  }
 },
 "nbformat": 4,
 "nbformat_minor": 5
}
