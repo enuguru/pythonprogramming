{
 "cells": [
  {
   "cell_type": "markdown",
   "id": "302455bf",
   "metadata": {},
   "source": [
    "# iterators using iter and next function"
   ]
  },
  {
   "cell_type": "code",
   "execution_count": 2,
   "id": "2450950a",
   "metadata": {},
   "outputs": [
    {
     "name": "stdout",
     "output_type": "stream",
     "text": [
      "<list_iterator object at 0x0000021A0D4BB3A0>\n",
      "apple\n",
      "banana\n",
      "cherry\n",
      "J\n",
      "o\n"
     ]
    }
   ],
   "source": [
    "newlist = ['apple','banana','cherry']\n",
    "newiter = iter(newlist)\n",
    "print(newiter)\n",
    "\n",
    "print(next(newiter))\n",
    "print(next(newiter))\n",
    "print(next(newiter))\n",
    "\n",
    "newstring = \"John Reynolds\"\n",
    "newiter = iter(newstring)\n",
    "print(next(newiter))\n",
    "print(next(newiter))"
   ]
  },
  {
   "cell_type": "markdown",
   "id": "a209b20e",
   "metadata": {},
   "source": [
    "# iterables - lists, tuples, sets, dictinoaries and strings"
   ]
  },
  {
   "cell_type": "code",
   "execution_count": null,
   "id": "675bf382",
   "metadata": {},
   "outputs": [],
   "source": [
    "newlist = [45, 67, 89, 99, 23]\n",
    "print(newlist)\n",
    "\n",
    "newset = {\"Ravi\", \"Rakesh\", \"Reshma\"}\n",
    "print(newset)\n",
    "\n",
    "newtuple = (45, 67, 77)\n",
    "print(newtuple)\n",
    "\n",
    "newdictionary = {45:\"Ravi\", 23:\"Rakesh\", 21:\"Reshma\"}\n",
    "print(newdictionary)\n",
    "\n",
    "newstring = \"John Reynolds\"\n",
    "print(newstring)\n",
    "if 'J' in newstring:\n",
    "    print(True)"
   ]
  },
  {
   "cell_type": "markdown",
   "id": "3c07f83a",
   "metadata": {},
   "source": [
    "# iterators using customized class iterators"
   ]
  },
  {
   "cell_type": "code",
   "execution_count": null,
   "id": "4ae57401",
   "metadata": {},
   "outputs": [],
   "source": [
    "# customized iterator\n",
    "class PowTwo:\n",
    "    \n",
    "    \"\"\"Class to implement an iterator\n",
    "    of powers of two\"\"\"\n",
    "\n",
    "    def __init__(self, max=0):\n",
    "        self.max = max\n",
    "        #print(self.max)\n",
    "        \n",
    "    def __getitem__(self, index):\n",
    "            return self.n\n",
    "\n",
    "    def __iter__(self):\n",
    "        self.n = 0\n",
    "        return self\n",
    "\n",
    "    def __next__(self):\n",
    "        if self.n <= self.max:\n",
    "            result = 2 ** self.n\n",
    "            self.n = self.n + 1\n",
    "            return result\n",
    "        else:\n",
    "            raise StopIteration\n",
    "\n",
    "\n",
    "# create an object\n",
    "numbers = PowTwo(7)\n",
    "\n",
    "# create an iterable from the object\n",
    "newiter = iter(numbers)\n",
    "\n",
    "# Using next to get to the next iterator element\n",
    "print(next(newiter))\n",
    "print(next(newiter))\n",
    "print(next(newiter))\n",
    "print(next(newiter))\n",
    "print(next(newiter))\n",
    "print(next(newiter))\n",
    "print(next(newiter))\n",
    "print(next(newiter))\n",
    "print(next(newiter))"
   ]
  },
  {
   "cell_type": "markdown",
   "id": "66cc5040",
   "metadata": {},
   "source": [
    "# for loop using the iterator"
   ]
  },
  {
   "cell_type": "code",
   "execution_count": null,
   "id": "13e00e1b",
   "metadata": {},
   "outputs": [],
   "source": [
    "for city in [\"Berlin\", \"Vienna\", \"Zurich\"]: \n",
    "    print(city,end=\" \") \n",
    "  \n",
    "print(\"\\n\") \n",
    "      \n",
    "for city in (\"Python\", \"Perl\", \"Ruby\"): \n",
    "    print(city,end=\" \") \n",
    "  \n",
    "print(\"\\n\") \n",
    "      \n",
    "for char in \"Iteration is easy\": \n",
    "    print(char, end = \" \") "
   ]
  },
  {
   "cell_type": "markdown",
   "id": "2fd66919",
   "metadata": {},
   "source": [
    "# iterator in place of for loop"
   ]
  },
  {
   "cell_type": "code",
   "execution_count": null,
   "id": "50bed680",
   "metadata": {},
   "outputs": [],
   "source": [
    "a = [1, 2, 3]\n",
    "for x in a:\n",
    "    print(x,end=\" \")\n",
    "print()\n",
    "    \n",
    "a = [1, 2, 3]\n",
    "it = iter(a) # calls a.__iter__\n",
    "while True:\n",
    "    try:\n",
    "        x = next(it)\n",
    "    except StopIteration:\n",
    "        break\n",
    "    print(x)"
   ]
  },
  {
   "cell_type": "markdown",
   "id": "7b901ae0",
   "metadata": {},
   "source": [
    "# proof that for loop uses an iterator beneath"
   ]
  },
  {
   "cell_type": "code",
   "execution_count": null,
   "id": "aade4f72",
   "metadata": {},
   "outputs": [],
   "source": [
    "import random\n",
    "\n",
    "class iterableDemo(object):\n",
    "    def __iter__(self):\n",
    "        print('__iter__ function is called')\n",
    "        return iteratorDemo()\n",
    "\n",
    "class iteratorDemo(object):\n",
    "    def __iter__(self):\n",
    "        return self\n",
    "\n",
    "    def __next__(self):\n",
    "        print('__next__ function is called')\n",
    "        r = random.randint(1, 10)\n",
    "        if r == 5:\n",
    "            print('raising StopIteration exception')\n",
    "            raise StopIteration\n",
    "        return r"
   ]
  },
  {
   "cell_type": "code",
   "execution_count": null,
   "id": "94f98302",
   "metadata": {},
   "outputs": [],
   "source": [
    "di = iterableDemo()\n",
    "for x in di:\n",
    "    print(x)"
   ]
  },
  {
   "cell_type": "markdown",
   "id": "84940590",
   "metadata": {},
   "source": [
    "# every iterator is a iterable"
   ]
  },
  {
   "cell_type": "code",
   "execution_count": null,
   "id": "0c9fe5eb",
   "metadata": {},
   "outputs": [],
   "source": [
    "iterator1 = iter('hi')\n",
    "iterator2 = iter(iterator1)\n",
    "print(iterator1 is iterator2)"
   ]
  },
  {
   "cell_type": "markdown",
   "id": "19e58b15",
   "metadata": {},
   "source": [
    "# generator function"
   ]
  },
  {
   "cell_type": "code",
   "execution_count": null,
   "id": "89d05de7",
   "metadata": {},
   "outputs": [],
   "source": [
    "def cubes(length):\n",
    "    for n in range(length):\n",
    "        yield n**3\n",
    "\n",
    "# call the generator function like this\n",
    "genvar = cubes(10)\n",
    "for cube in generator:\n",
    "    print(cube, end=\" \")"
   ]
  },
  {
   "cell_type": "markdown",
   "id": "6fefe25a",
   "metadata": {},
   "source": [
    "# generator expression"
   ]
  },
  {
   "cell_type": "code",
   "execution_count": null,
   "id": "26781818",
   "metadata": {},
   "outputs": [],
   "source": [
    "cubes = (n**3 for n in range(10))\n",
    "\n",
    "# you can use both the above generators by using a for loop\n",
    "for cube in cubes:\n",
    "    print(cube, end=\" \")"
   ]
  },
  {
   "cell_type": "code",
   "execution_count": null,
   "id": "0479a792",
   "metadata": {},
   "outputs": [],
   "source": [
    "cubes = *(n**3 for n in range(10)),\n",
    "print(cubes)"
   ]
  },
  {
   "cell_type": "code",
   "execution_count": null,
   "id": "8ae29366",
   "metadata": {},
   "outputs": [],
   "source": []
  }
 ],
 "metadata": {
  "kernelspec": {
   "display_name": "Python 3 (ipykernel)",
   "language": "python",
   "name": "python3"
  },
  "language_info": {
   "codemirror_mode": {
    "name": "ipython",
    "version": 3
   },
   "file_extension": ".py",
   "mimetype": "text/x-python",
   "name": "python",
   "nbconvert_exporter": "python",
   "pygments_lexer": "ipython3",
   "version": "3.9.7"
  }
 },
 "nbformat": 4,
 "nbformat_minor": 5
}
