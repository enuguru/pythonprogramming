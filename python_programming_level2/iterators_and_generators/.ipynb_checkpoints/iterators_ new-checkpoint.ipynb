{
 "cells": [
  {
   "cell_type": "code",
   "execution_count": null,
   "metadata": {
    "ExecuteTime": {
     "end_time": "2020-09-07T02:27:35.090095Z",
     "start_time": "2020-09-07T02:27:35.058112Z"
    }
   },
   "outputs": [],
   "source": [
    "for element in [1, 2, 3]:  #[1,2,4,16,32,64,128] # sequence datatype\n",
    "    print(element,end=\" \")                       # collection datatype\n",
    "print()\n",
    "for element in (1, 2, 3):\n",
    "    print(element, end = \" \")\n",
    "print()\n",
    "for key in {'one':1, 'two':2}:\n",
    "    print(key, end = \" \")\n",
    "print()\n",
    "for item in {23,45,\"Guru\",22}:\n",
    "    print(item, end=\" \")\n",
    "print()\n",
    "for char in \"123\":\n",
    "    print(char,end=\" \")\n",
    "print()\n",
    "#for line in open(\"myfile.txt\"):\n",
    "#    print(line, end='')"
   ]
  },
  {
   "cell_type": "markdown",
   "metadata": {},
   "source": [
    "what is the difference between an iterable, iterator and iteration ?\n",
    "\n",
    "Iterable is an object, which one can iterate over. It generates an Iterator when passed to iter() method. Iterator is an object, which is used to iterate over an iterable object using __next__() method. Iterators have __next__() method, which returns the next item of the object. This whole process of iterating over is called as an iteration\n",
    "\n",
    "Note that every iterator is also an iterable, but not every iterable is an iterator. For example, a list is iterable but a list is not an iterator. An iterator can be created from an iterable by using the function iter(). To make this possible, the class of an object needs either a method __iter__, which returns an iterator, or a __getitem__ method with sequential indexes starting with 0."
   ]
  },
  {
   "cell_type": "code",
   "execution_count": null,
   "metadata": {
    "ExecuteTime": {
     "end_time": "2020-09-07T02:28:20.416020Z",
     "start_time": "2020-09-07T02:28:20.395012Z"
    }
   },
   "outputs": [],
   "source": [
    "for city in [\"Berlin\", \"Vienna\", \"Zurich\"]: \n",
    "    print(city) \n",
    "  \n",
    "print(\"\\n\") \n",
    "      \n",
    "for city in (\"Python\", \"Perl\", \"Ruby\"): \n",
    "    print(city) \n",
    "  \n",
    "print(\"\\n\") \n",
    "      \n",
    "for char in \"Iteration is easy\": \n",
    "    print(char, end = \" \") "
   ]
  },
  {
   "cell_type": "code",
   "execution_count": null,
   "metadata": {
    "ExecuteTime": {
     "end_time": "2020-09-07T02:28:31.786328Z",
     "start_time": "2020-09-07T02:28:31.757324Z"
    }
   },
   "outputs": [],
   "source": [
    "#create a simple iterator\n",
    "# iterable, iter function, iterator, iterating, iteration, iter protocol\n",
    "items = [41, 772, 333, 67]\n",
    "# Get the iterator\n",
    "it = iter(items) # Invokes items.__iter__()\n",
    "#print(it)\n",
    "# Run the iterator\n",
    "print(next(it)) # Invokes it.__next__()\n",
    "print(next(it))\n",
    "print(next(it))\n",
    "print(next(it))\n",
    "print(next(it))\n",
    "\n",
    "#for i in items:\n",
    "#print(i)"
   ]
  },
  {
   "cell_type": "code",
   "execution_count": null,
   "metadata": {},
   "outputs": [],
   "source": [
    "# list of cities \n",
    "cities = [\"Berlin\", \"Vienna\", \"Zurich\"] \n",
    "  \n",
    "# initialize the object \n",
    "iterator_obj = iter(cities) \n",
    "  \n",
    "print(next(iterator_obj)) \n",
    "print(next(iterator_obj)) \n",
    "print(next(iterator_obj)) "
   ]
  },
  {
   "cell_type": "markdown",
   "metadata": {},
   "source": [
    "# Infinite series"
   ]
  },
  {
   "cell_type": "code",
   "execution_count": null,
   "metadata": {
    "ExecuteTime": {
     "end_time": "2020-09-07T02:37:37.636677Z",
     "start_time": "2020-09-07T02:37:37.619686Z"
    }
   },
   "outputs": [],
   "source": [
    "# customized iterator\n",
    "class PowFour:\n",
    "    \"\"\"Class to implement an iterator\n",
    "    of powers of two\"\"\"\n",
    "\n",
    "    def __init__(self, max=0):\n",
    "        self.max = max\n",
    "        #print(self.max)\n",
    "\n",
    "    def __iter__(self):\n",
    "        self.n = 0\n",
    "        return self\n",
    "\n",
    "    def __next__(self):\n",
    "        if self.n <= self.max:\n",
    "            result = 2 ** self.n\n",
    "            self.n = self.n + 1\n",
    "            return result\n",
    "        else:\n",
    "            raise StopIteration\n",
    "\n",
    "\n",
    "# create an object\n",
    "numbers = PowFour(7)\n",
    "\n",
    "# create an iterable from the object\n",
    "i = iter(numbers)\n",
    "\n",
    "# Using next to get to the next iterator element\n",
    "print(next(i),end=\" \")\n",
    "print(next(i),end=\" \")\n",
    "print(next(i),end=\" \")\n",
    "print(next(i),end=\" \")\n",
    "print(next(i),end=\" \")\n",
    "print(next(i),end=\" \")\n",
    "print(next(i),end=\" \")\n",
    "print(next(i))\n",
    "#print(next(i))"
   ]
  },
  {
   "cell_type": "markdown",
   "metadata": {},
   "source": [
    "6\n",
    "insert 0 5\n",
    "insert 1 10\n",
    "insert 1 31\n",
    "print\n",
    "pop\n",
    "print"
   ]
  },
  {
   "cell_type": "markdown",
   "metadata": {},
   "source": [
    "6\n",
    "insert 0 5\n",
    "insert 1 10\n",
    "insert 1 31\n",
    "print\n",
    "pop\n",
    "print"
   ]
  },
  {
   "cell_type": "code",
   "execution_count": null,
   "metadata": {
    "ExecuteTime": {
     "end_time": "2020-09-07T02:25:28.129103Z",
     "start_time": "2020-09-07T02:25:19.262621Z"
    }
   },
   "outputs": [],
   "source": [
    "num = int(input())\n",
    "newlist = []\n",
    "\n",
    "for _ in range(num):\n",
    "    args = input().split()\n",
    "    if args[0] == \"insert\":\n",
    "        newlist.insert(int(args[1]),int(args[2]))\n",
    "    elif args[0] == \"print\":\n",
    "        print(newlist)\n",
    "    elif args[0] == \"pop\":\n",
    "        newlist.pop()"
   ]
  },
  {
   "cell_type": "code",
   "execution_count": null,
   "metadata": {
    "ExecuteTime": {
     "end_time": "2020-08-17T05:50:13.249338Z",
     "start_time": "2020-08-17T05:50:09.953067Z"
    }
   },
   "outputs": [],
   "source": [
    "st = input()\n",
    "print(st[:2] + 's' + st[3:])"
   ]
  },
  {
   "cell_type": "code",
   "execution_count": null,
   "metadata": {
    "ExecuteTime": {
     "end_time": "2020-08-17T05:53:12.380030Z",
     "start_time": "2020-08-17T05:53:06.641983Z"
    }
   },
   "outputs": [],
   "source": [
    "mystring = input()\n",
    "index, ch = input().split()\n",
    "print(mystring[:int(index)] + ch + mystring[int(index) + 1:])"
   ]
  },
  {
   "cell_type": "code",
   "execution_count": null,
   "metadata": {
    "ExecuteTime": {
     "end_time": "2020-08-17T06:01:30.484120Z",
     "start_time": "2020-08-17T06:01:25.191177Z"
    }
   },
   "outputs": [],
   "source": [
    "mystring = input()\n",
    "index, ch = input().split()\n",
    "newlist = list(mystring)\n",
    "newlist[int(index)] = ch\n",
    "lstr = ''.join(newlist)\n",
    "print(lstr)"
   ]
  },
  {
   "cell_type": "code",
   "execution_count": null,
   "metadata": {
    "ExecuteTime": {
     "end_time": "2020-08-17T06:14:51.106864Z",
     "start_time": "2020-08-17T06:14:51.097876Z"
    }
   },
   "outputs": [],
   "source": [
    "print([[x,y,z] for x in range(7) for y in range(7) for z in range(7) if (x+y+z == 11)])"
   ]
  },
  {
   "cell_type": "code",
   "execution_count": null,
   "metadata": {
    "ExecuteTime": {
     "end_time": "2020-08-17T06:36:22.235131Z",
     "start_time": "2020-08-17T06:36:19.103786Z"
    }
   },
   "outputs": [],
   "source": [
    "line = input()\n",
    "newlist = []\n",
    "for i in range(len(line)):\n",
    "    if line[i].isupper():\n",
    "        newlist.append(line[i].lower())\n",
    "    else:\n",
    "        newlist.append(line[i].upper())\n",
    "print(''.join(newlist))"
   ]
  },
  {
   "cell_type": "code",
   "execution_count": null,
   "metadata": {
    "ExecuteTime": {
     "end_time": "2020-08-17T06:39:08.426238Z",
     "start_time": "2020-08-17T06:39:03.342965Z"
    }
   },
   "outputs": [],
   "source": [
    "print(''.join([i.lower() if i.isupper() else i.upper() for i in input()]))"
   ]
  },
  {
   "cell_type": "code",
   "execution_count": null,
   "metadata": {
    "ExecuteTime": {
     "end_time": "2020-08-17T06:55:22.606413Z",
     "start_time": "2020-08-17T06:55:16.750967Z"
    }
   },
   "outputs": [],
   "source": [
    "num = int(input())\n",
    "values = map(int,input().split())\n",
    "newtuple = tuple(values)\n",
    "print(hash(newtuple))"
   ]
  },
  {
   "cell_type": "code",
   "execution_count": null,
   "metadata": {
    "ExecuteTime": {
     "end_time": "2020-08-17T06:47:49.652970Z",
     "start_time": "2020-08-17T06:47:45.908045Z"
    }
   },
   "outputs": [],
   "source": [
    "num = int(input())\n",
    "values = map(int,input().split())\n",
    "print(values)\n",
    "print(hash(values))"
   ]
  },
  {
   "cell_type": "code",
   "execution_count": null,
   "metadata": {
    "ExecuteTime": {
     "end_time": "2020-08-17T07:04:13.645657Z",
     "start_time": "2020-08-17T07:04:09.932838Z"
    }
   },
   "outputs": [],
   "source": [
    "st = input()\n",
    "print(any(map(str.isalnum,st)))\n",
    "print(any(map(str.isalpha,st)))\n",
    "print(all(map(str.isdigit,st)))\n",
    "print(any(map(str.isupper,st)))\n",
    "print(any(map(str.islower,st)))"
   ]
  },
  {
   "cell_type": "code",
   "execution_count": null,
   "metadata": {},
   "outputs": [],
   "source": [
    "namelist = [\"SaiPallavi\", \"Ravikiran\", \"Santosh\", \"Sheikh\"]\n",
    "yourname = input(\"Give your name\")\n",
    "if yourname in namelist:\n",
    "    print(\"You are Welcome\")\n",
    "else:\n",
    "    print(\"We will meet next time\")"
   ]
  },
  {
   "cell_type": "markdown",
   "metadata": {},
   "source": [
    "# arithmetic progression"
   ]
  },
  {
   "cell_type": "code",
   "execution_count": null,
   "metadata": {},
   "outputs": [],
   "source": [
    "# customized iterator\n",
    "class PowFour:\n",
    "    \"\"\"Class to implement an iterator\n",
    "    of powers of two\"\"\"\n",
    "\n",
    "    def __init__(self, max=0):\n",
    "        self.max = max\n",
    "        self.initial_value = 5\n",
    "        #print(self.max)\n",
    "\n",
    "    def __iter__(self):\n",
    "        self.difference = 5\n",
    "        self.result = self.initial_value\n",
    "        self.count = 1\n",
    "        print(self.result,end=\" \")\n",
    "        return self\n",
    "\n",
    "    def __next__(self):\n",
    "        if self.count < self.max:\n",
    "            self.result = self.difference + self.result\n",
    "            self.count = self.count + 1\n",
    "            return self.result\n",
    "        else:\n",
    "            raise StopIteration\n",
    "\n",
    "\n",
    "# create an object\n",
    "numbers = PowFour(7)\n",
    "\n",
    "# create an iterable from the object\n",
    "i = iter(numbers)\n",
    "\n",
    "# Using next to get to the next iterator element\n",
    "print(next(i),end=\" \")\n",
    "print(next(i),end=\" \")\n",
    "print(next(i),end=\" \")\n",
    "print(next(i),end=\" \")\n",
    "print(next(i),end=\" \")\n",
    "print(next(i),end=\" \")\n",
    "#print(next(i),end=\" \")\n",
    "#print(next(i))\n",
    "#print(next(i))"
   ]
  },
  {
   "cell_type": "markdown",
   "metadata": {},
   "source": [
    "# geometric progression"
   ]
  },
  {
   "cell_type": "code",
   "execution_count": null,
   "metadata": {},
   "outputs": [],
   "source": [
    "# customized iterator\n",
    "class PowFour:\n",
    "    \"\"\"Class to implement an iterator\n",
    "    of powers of two\"\"\"\n",
    "\n",
    "    def __init__(self, max=0):\n",
    "        self.max = max\n",
    "        self.initial_value = 1\n",
    "        #print(self.max)\n",
    "\n",
    "    def __iter__(self):\n",
    "        self.common_ratio = 5\n",
    "        self.result = self.initial_value\n",
    "        self.count = 1\n",
    "        print(self.initial_value,end=\" \")\n",
    "        return self\n",
    "\n",
    "    def __next__(self):\n",
    "        #count = 1\n",
    "        if self.count < self.max:\n",
    "            self.result = self.common_ratio * self.result\n",
    "            self.count = self.count + 1\n",
    "            #print(self.count)\n",
    "            return self.result\n",
    "        else:\n",
    "            raise StopIteration\n",
    "\n",
    "\n",
    "# create an object\n",
    "numbers = PowFour(7)\n",
    "\n",
    "# create an iterable from the object\n",
    "i = iter(numbers)\n",
    "\n",
    "# Using next to get to the next iterator element\n",
    "print(next(i),end=\" \")\n",
    "print(next(i),end=\" \")\n",
    "print(next(i),end=\" \")\n",
    "print(next(i),end=\" \")\n",
    "print(next(i),end=\" \")\n",
    "print(next(i),end=\" \")\n",
    "#print(next(i),end=\" \")\n",
    "#print(next(i))\n",
    "#print(next(i))"
   ]
  },
  {
   "cell_type": "code",
   "execution_count": null,
   "metadata": {},
   "outputs": [],
   "source": []
  }
 ],
 "metadata": {
  "kernelspec": {
   "display_name": "Python 3 (ipykernel)",
   "language": "python",
   "name": "python3"
  },
  "language_info": {
   "codemirror_mode": {
    "name": "ipython",
    "version": 3
   },
   "file_extension": ".py",
   "mimetype": "text/x-python",
   "name": "python",
   "nbconvert_exporter": "python",
   "pygments_lexer": "ipython3",
   "version": "3.10.9"
  }
 },
 "nbformat": 4,
 "nbformat_minor": 2
}
