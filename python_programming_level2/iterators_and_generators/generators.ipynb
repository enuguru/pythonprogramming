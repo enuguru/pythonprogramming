{
 "cells": [
  {
   "cell_type": "code",
   "execution_count": null,
   "id": "fade7079",
   "metadata": {},
   "outputs": [],
   "source": [
    "# A simple generator function\n",
    "def my_gen():\n",
    "    n = 1\n",
    "    print('This is printed first')\n",
    "    # Generator function contains yield statements\n",
    "    yield n\n",
    "\n",
    "    n += 1\n",
    "    print('This is printed second')\n",
    "    yield n\n",
    "\n",
    "    n += 1\n",
    "    print('This is printed at last')\n",
    "    yield n"
   ]
  },
  {
   "cell_type": "code",
   "execution_count": null,
   "id": "9c26a76f",
   "metadata": {},
   "outputs": [],
   "source": [
    "x = my_gen()\n",
    "print(x)\n",
    "print(next(x))\n",
    "print(next(x))\n",
    "print(next(x))\n",
    "print(next(x))"
   ]
  },
  {
   "cell_type": "code",
   "execution_count": null,
   "id": "6627cd9f",
   "metadata": {},
   "outputs": [],
   "source": [
    "def newfunc():\n",
    "    x = 10\n",
    "    return x\n",
    "\n",
    "print(newfunc())"
   ]
  },
  {
   "cell_type": "code",
   "execution_count": null,
   "id": "c8211ccd",
   "metadata": {},
   "outputs": [],
   "source": [
    "#gen = my_gen()\n",
    "print(my_gen())\n",
    "#print(next(gen))\n",
    "#print(next(gen))\n",
    "#print(next(gen))"
   ]
  },
  {
   "cell_type": "code",
   "execution_count": null,
   "id": "07970fef",
   "metadata": {},
   "outputs": [],
   "source": [
    "next(gen)"
   ]
  },
  {
   "cell_type": "code",
   "execution_count": null,
   "id": "840d3741",
   "metadata": {},
   "outputs": [],
   "source": [
    "next(gen)"
   ]
  },
  {
   "cell_type": "code",
   "execution_count": null,
   "id": "5a72e9bb",
   "metadata": {},
   "outputs": [],
   "source": [
    "# A simple generator function\n",
    "def my_gen():\n",
    "    n = 1\n",
    "    print('This is printed first')\n",
    "    # Generator function contains yield statements\n",
    "    yield n\n",
    "\n",
    "    n += 1\n",
    "    print('This is printed second')\n",
    "    yield n\n",
    "\n",
    "    n += 1\n",
    "    print('This is printed at last')\n",
    "    yield n\n",
    "\n",
    "\n",
    "# Using for loop\n",
    "for item in my_gen():\n",
    "    print(item)"
   ]
  },
  {
   "cell_type": "code",
   "execution_count": 1,
   "id": "99561f5c",
   "metadata": {},
   "outputs": [
    {
     "name": "stdout",
     "output_type": "stream",
     "text": [
      "0 1 8 27 64 125 216 343 512 729 1000 "
     ]
    }
   ],
   "source": [
    "# Initialize the list\n",
    "#my_list = [1, 3, 6, 10]\n",
    "\n",
    "# square each term using list comprehension\n",
    "#list_ = [x**2 for x in my_list]\n",
    "\n",
    "# same thing can be done using a generator expression\n",
    "# generator expressions are surrounded by parenthesis ()\n",
    "generator = (x**3 for x in range(0,11))  # S = {x^3:  0<x<11, xEN } # SCALA, Clojure - modern day LISP # Rick Hickey\n",
    "for item in generator:\n",
    "    print(item,end=\" \")\n",
    "\n",
    "#print(list_)\n",
    "#print(generator)\n",
    "#for item in list_:\n",
    "#    print(item,end=\" \")"
   ]
  },
  {
   "cell_type": "code",
   "execution_count": null,
   "id": "24e6715c",
   "metadata": {},
   "outputs": [],
   "source": [
    "print([x**3 for x in range(0,10)])"
   ]
  },
  {
   "cell_type": "code",
   "execution_count": null,
   "id": "82645549",
   "metadata": {},
   "outputs": [],
   "source": [
    "# Initialize the list\n",
    "my_list = [1, 3, 6, 10]\n",
    "\n",
    "a = (x**2 for x in my_list)\n",
    "print(a)\n",
    "print(next(a),end=\" \")\n",
    "\n",
    "print(next(a),end=\" \")\n",
    "\n",
    "print(next(a),end = \" \")\n",
    "\n",
    "print(next(a), end= \" \")\n",
    "\n",
    "#print(next(a), end= \" \")\n",
    "\n",
    "#next(a)"
   ]
  },
  {
   "cell_type": "code",
   "execution_count": null,
   "id": "4d585370",
   "metadata": {},
   "outputs": [],
   "source": [
    "even = (x for x in range(2,9) if x%2==0)\n",
    "print(even)\n",
    "for i in even:\n",
    "    print(i)\n",
    "    \n",
    "#print([x for x in range(5,18) if x%2==0])"
   ]
  },
  {
   "cell_type": "code",
   "execution_count": null,
   "id": "851ddeaa",
   "metadata": {},
   "outputs": [],
   "source": [
    "even = (x for x in range(2,19) if x%2==0)\n",
    "print(even)\n",
    "print(next(even))\n",
    "print(next(even))\n",
    "print(next(even))\n",
    "print(next(even))\n",
    "for val in even:\n",
    "    print(val)"
   ]
  },
  {
   "cell_type": "code",
   "execution_count": null,
   "id": "2f6f0051",
   "metadata": {},
   "outputs": [],
   "source": [
    "comp = [x for x in range(25) if x % 3 == 0]\n",
    "print(comp)"
   ]
  },
  {
   "cell_type": "code",
   "execution_count": null,
   "id": "e00fe15f",
   "metadata": {},
   "outputs": [],
   "source": [
    "comp = {x for x in range(25) if x % 3 == 0}\n",
    "print(comp)"
   ]
  },
  {
   "cell_type": "code",
   "execution_count": null,
   "id": "df1952c4",
   "metadata": {},
   "outputs": [],
   "source": [
    "comp = {x:x for x in range(25) if x % 3 == 0}\n",
    "print(comp)"
   ]
  },
  {
   "cell_type": "code",
   "execution_count": null,
   "id": "9b23f5b3",
   "metadata": {},
   "outputs": [],
   "source": [
    "comp = (x for x in range(25) if x % 3 == 0)\n",
    "print(comp)"
   ]
  },
  {
   "cell_type": "code",
   "execution_count": null,
   "id": "14403b35",
   "metadata": {},
   "outputs": [],
   "source": [
    "comp = *(x for x in range(25) if x % 3 == 0),\n",
    "print(comp)"
   ]
  },
  {
   "cell_type": "code",
   "execution_count": null,
   "id": "4e98fbdd",
   "metadata": {},
   "outputs": [],
   "source": [
    "def cubes(length):\n",
    "    for n in range(length):\n",
    "        yield n**3\n",
    "        \n",
    "# call the generator function like this\n",
    "generator = cubes(11)\n",
    "print(generator)\n",
    "for cube in generator:\n",
    "    print(cube,end=\" \")"
   ]
  },
  {
   "cell_type": "code",
   "execution_count": 8,
   "id": "bc8c9f7e",
   "metadata": {},
   "outputs": [
    {
     "name": "stdout",
     "output_type": "stream",
     "text": [
      "<generator object cubes at 0x0000029CF4829A80>\n",
      "0\n",
      "1\n",
      "8\n",
      "27\n",
      "64\n",
      "There is a break\n",
      "125  216  343  512  729  1000  "
     ]
    },
    {
     "ename": "StopIteration",
     "evalue": "",
     "output_type": "error",
     "traceback": [
      "\u001b[1;31m---------------------------------------------------------------------------\u001b[0m",
      "\u001b[1;31mStopIteration\u001b[0m                             Traceback (most recent call last)",
      "Cell \u001b[1;32mIn[8], line 22\u001b[0m\n\u001b[0;32m     20\u001b[0m \u001b[38;5;28;01mfor\u001b[39;00m val \u001b[38;5;129;01min\u001b[39;00m generator:\n\u001b[0;32m     21\u001b[0m     \u001b[38;5;28mprint\u001b[39m(val,end\u001b[38;5;241m=\u001b[39m\u001b[38;5;124m\"\u001b[39m\u001b[38;5;124m  \u001b[39m\u001b[38;5;124m\"\u001b[39m)\n\u001b[1;32m---> 22\u001b[0m \u001b[38;5;28mprint\u001b[39m(\u001b[38;5;28;43mnext\u001b[39;49m\u001b[43m(\u001b[49m\u001b[43mgenerator\u001b[49m\u001b[43m)\u001b[49m)\n",
      "\u001b[1;31mStopIteration\u001b[0m: "
     ]
    }
   ],
   "source": [
    "def cubes(length):\n",
    "    for n in range(0,length):\n",
    "        yield n**3\n",
    "        \n",
    "# call the generator function like this\n",
    "generator = cubes(11)\n",
    "print(generator)\n",
    "print(next(generator))\n",
    "print(next(generator))\n",
    "print(next(generator))\n",
    "print(next(generator))\n",
    "print(next(generator))\n",
    "#print(next(generator))\n",
    "#print(next(generator))\n",
    "#print(next(generator))\n",
    "#print(next(generator))\n",
    "#print(next(generator))\n",
    "#print(next(generator))\n",
    "print(\"There is a break\")\n",
    "for val in generator:\n",
    "    print(val,end=\"  \")\n",
    "print(next(generator))"
   ]
  },
  {
   "cell_type": "code",
   "execution_count": null,
   "id": "bf88cde9",
   "metadata": {},
   "outputs": [],
   "source": []
  }
 ],
 "metadata": {
  "kernelspec": {
   "display_name": "Python 3 (ipykernel)",
   "language": "python",
   "name": "python3"
  },
  "language_info": {
   "codemirror_mode": {
    "name": "ipython",
    "version": 3
   },
   "file_extension": ".py",
   "mimetype": "text/x-python",
   "name": "python",
   "nbconvert_exporter": "python",
   "pygments_lexer": "ipython3",
   "version": "3.10.9"
  }
 },
 "nbformat": 4,
 "nbformat_minor": 5
}
