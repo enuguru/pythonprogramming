{
 "cells": [
  {
   "cell_type": "markdown",
   "id": "b63091c0",
   "metadata": {},
   "source": [
    "# iterators using iter and next function"
   ]
  },
  {
   "cell_type": "code",
   "execution_count": 55,
   "id": "de9a869f",
   "metadata": {},
   "outputs": [
    {
     "name": "stdout",
     "output_type": "stream",
     "text": [
      "apple\n",
      "banana\n",
      "cherry\n"
     ]
    }
   ],
   "source": [
    "newlist = ['apple','banana','cherry']\n",
    "newit = iter(newlist)\n",
    "\n",
    "print(next(newit))\n",
    "print(next(newit))\n",
    "print(next(newit))"
   ]
  },
  {
   "cell_type": "markdown",
   "id": "e85e3d2e",
   "metadata": {},
   "source": [
    "# iterators using customized class iterators"
   ]
  },
  {
   "cell_type": "code",
   "execution_count": 3,
   "id": "0226727e",
   "metadata": {},
   "outputs": [
    {
     "name": "stdout",
     "output_type": "stream",
     "text": [
      "<class '__main__.PowTwo'>\n",
      "<class 'type'>\n",
      "1\n",
      "3\n",
      "9\n",
      "27\n",
      "81\n",
      "243\n",
      "729\n",
      "2187\n",
      "None\n"
     ]
    }
   ],
   "source": [
    "# customized iterator\n",
    "class PowTwo:\n",
    "    \n",
    "    \"\"\"Class to implement an iterator\n",
    "    of powers of two\"\"\"\n",
    "\n",
    "    def __init__(self, max=0):\n",
    "        self.max = max\n",
    "        #print(self.max)\n",
    "\n",
    "    def __iter__(self):\n",
    "        self.n = 0\n",
    "        return self\n",
    "\n",
    "    def __next__(self):\n",
    "        if self.n <= self.max:\n",
    "            result = 3 ** self.n\n",
    "            self.n += 1\n",
    "            return result\n",
    "        #else:\n",
    "            #raise StopIteration\n",
    "\n",
    "\n",
    "# create an object\n",
    "numbers = PowTwo(7)\n",
    "print(type(numbers))\n",
    "print(type(PowTwo))\n",
    "# create an iterable from the object\n",
    "i = iter(numbers)\n",
    "\n",
    "# Using next to get to the next iterator element\n",
    "print(next(i))\n",
    "print(next(i))\n",
    "print(next(i))\n",
    "print(next(i))\n",
    "print(next(i))\n",
    "print(next(i))\n",
    "print(next(i))\n",
    "print(next(i))\n",
    "print(next(i))"
   ]
  },
  {
   "cell_type": "markdown",
   "id": "c3ee13a6",
   "metadata": {},
   "source": [
    "# for loop using the iterator"
   ]
  },
  {
   "cell_type": "code",
   "execution_count": 57,
   "id": "3c68d113",
   "metadata": {},
   "outputs": [
    {
     "name": "stdout",
     "output_type": "stream",
     "text": [
      "Berlin Vienna Zurich \n",
      "\n",
      "Python Perl Ruby \n",
      "\n",
      "I t e r a t i o n   i s   e a s y "
     ]
    }
   ],
   "source": [
    "for city in [\"Berlin\", \"Vienna\", \"Zurich\"]: \n",
    "    print(city,end=\" \") \n",
    "  \n",
    "print(\"\\n\") \n",
    "      \n",
    "for city in (\"Python\", \"Perl\", \"Ruby\"): \n",
    "    print(city,end=\" \") \n",
    "  \n",
    "print(\"\\n\") \n",
    "      \n",
    "for char in \"Iteration is easy\": \n",
    "    print(char, end = \" \") "
   ]
  },
  {
   "cell_type": "markdown",
   "id": "bf683260",
   "metadata": {},
   "source": [
    "# iterator in place of for loop"
   ]
  },
  {
   "cell_type": "code",
   "execution_count": 58,
   "id": "aa3e7f72",
   "metadata": {},
   "outputs": [
    {
     "name": "stdout",
     "output_type": "stream",
     "text": [
      "1 2 3 \n",
      "1\n",
      "2\n",
      "3\n"
     ]
    }
   ],
   "source": [
    "a = [1, 2, 3]\n",
    "for x in a:\n",
    "    print(x,end=\" \")\n",
    "print()\n",
    "    \n",
    "a = [1, 2, 3]\n",
    "it = iter(a) # calls a.__iter__\n",
    "while True:\n",
    "    try:\n",
    "        x = next(it)\n",
    "    except StopIteration:\n",
    "        break\n",
    "    print(x)"
   ]
  },
  {
   "cell_type": "markdown",
   "id": "c490bd87",
   "metadata": {},
   "source": [
    "# proof that for loop uses an iterator"
   ]
  },
  {
   "cell_type": "code",
   "execution_count": 1,
   "id": "df57a7a3",
   "metadata": {},
   "outputs": [],
   "source": [
    "import random\n",
    "\n",
    "class iterableDemo(object):\n",
    "    def __iter__(self):\n",
    "        print('__iter__ function is called')\n",
    "        return iteratorDemo()\n",
    "\n",
    "class iteratorDemo(object):\n",
    "    def __iter__(self):\n",
    "        return self\n",
    "\n",
    "    def __next__(self):\n",
    "        print('__next__ function is called')\n",
    "        r = random.randint(1, 10)\n",
    "        if r == 5:\n",
    "            print('raising StopIteration exception')\n",
    "            raise StopIteration\n",
    "        return r"
   ]
  },
  {
   "cell_type": "code",
   "execution_count": 61,
   "id": "b2dad352",
   "metadata": {},
   "outputs": [
    {
     "name": "stdout",
     "output_type": "stream",
     "text": [
      "__iter__ function is called\n",
      "__next__ function is called\n",
      "8\n",
      "__next__ function is called\n",
      "7\n",
      "__next__ function is called\n",
      "10\n",
      "__next__ function is called\n",
      "2\n",
      "__next__ function is called\n",
      "9\n",
      "__next__ function is called\n",
      "8\n",
      "__next__ function is called\n",
      "1\n",
      "__next__ function is called\n",
      "9\n",
      "__next__ function is called\n",
      "1\n",
      "__next__ function is called\n",
      "2\n",
      "__next__ function is called\n",
      "2\n",
      "__next__ function is called\n",
      "7\n",
      "__next__ function is called\n",
      "2\n",
      "__next__ function is called\n",
      "7\n",
      "__next__ function is called\n",
      "3\n",
      "__next__ function is called\n",
      "7\n",
      "__next__ function is called\n",
      "8\n",
      "__next__ function is called\n",
      "1\n",
      "__next__ function is called\n",
      "1\n",
      "__next__ function is called\n",
      "10\n",
      "__next__ function is called\n",
      "4\n",
      "__next__ function is called\n",
      "raising StopIteration exception\n"
     ]
    }
   ],
   "source": [
    "di = iterableDemo()\n",
    "for x in di:\n",
    "    print(x)"
   ]
  },
  {
   "cell_type": "markdown",
   "id": "5a8343d4",
   "metadata": {},
   "source": [
    "# every iterator is a iterable"
   ]
  },
  {
   "cell_type": "code",
   "execution_count": 59,
   "id": "41ebb7a6",
   "metadata": {},
   "outputs": [
    {
     "name": "stdout",
     "output_type": "stream",
     "text": [
      "True\n"
     ]
    }
   ],
   "source": [
    "iterator1 = iter('hi')\n",
    "iterator2 = iter(iterator1)\n",
    "print(iterator1 is iterator2)"
   ]
  },
  {
   "cell_type": "markdown",
   "id": "281a40f6",
   "metadata": {},
   "source": [
    "# generator function"
   ]
  },
  {
   "cell_type": "code",
   "execution_count": 4,
   "id": "99ccf917",
   "metadata": {},
   "outputs": [
    {
     "name": "stdout",
     "output_type": "stream",
     "text": [
      "1 2 4 8 16 32 64 128 256 512 "
     ]
    }
   ],
   "source": [
    "def cubes(length):\n",
    "    for n in range(length):\n",
    "        yield 2 ** n\n",
    "\n",
    "# call the generator function like this\n",
    "generator = cubes(10)\n",
    "for cube in generator:\n",
    "    print(cube, end=\" \")\n"
   ]
  },
  {
   "cell_type": "markdown",
   "id": "c8886583",
   "metadata": {},
   "source": [
    "# generator expression"
   ]
  },
  {
   "cell_type": "code",
   "execution_count": 5,
   "id": "881a1cfc",
   "metadata": {},
   "outputs": [
    {
     "name": "stdout",
     "output_type": "stream",
     "text": [
      "1 2 4 8 16 32 64 128 256 512 "
     ]
    }
   ],
   "source": [
    "cubes = (2 ** n for n in range(10))\n",
    "\n",
    "# you can use both the above generators by using a for loop\n",
    "for cube in cubes:\n",
    "    print(cube, end=\" \")\n"
   ]
  },
  {
   "cell_type": "code",
   "execution_count": null,
   "id": "612ca11f",
   "metadata": {},
   "outputs": [],
   "source": []
  }
 ],
 "metadata": {
  "kernelspec": {
   "display_name": "Python 3 (ipykernel)",
   "language": "python",
   "name": "python3"
  },
  "language_info": {
   "codemirror_mode": {
    "name": "ipython",
    "version": 3
   },
   "file_extension": ".py",
   "mimetype": "text/x-python",
   "name": "python",
   "nbconvert_exporter": "python",
   "pygments_lexer": "ipython3",
   "version": "3.10.9"
  }
 },
 "nbformat": 4,
 "nbformat_minor": 5
}
