{
 "cells": [
  {
   "cell_type": "code",
   "execution_count": 23,
   "id": "6a1cc8df",
   "metadata": {},
   "outputs": [
    {
     "name": "stdout",
     "output_type": "stream",
     "text": [
      "base class implementation!\n",
      "This is a derived class implementation\n"
     ]
    }
   ],
   "source": [
    "from abc import ABC, abstractmethod\n",
    "\n",
    "class AbstractClassExample(ABC):\n",
    "    \n",
    "    @abstractmethod\n",
    "    def youarehere(self):\n",
    "        print(\"base class implementation!\")\n",
    "        \n",
    "class AnotherDerivedClass(AbstractClassExample):\n",
    "\n",
    "    def youarehere(self):\n",
    "        super().youarehere()\n",
    "        print(\"This is a derived class implementation\")\n",
    "        \n",
    "x = AnotherDerivedClass()\n",
    "x.youarehere()\n",
    "#y = AbstractClassExample()\n",
    "#y.youarehere()"
   ]
  },
  {
   "cell_type": "code",
   "execution_count": 26,
   "id": "8ccf493e",
   "metadata": {},
   "outputs": [
    {
     "name": "stdout",
     "output_type": "stream",
     "text": [
      "base class implementation!\n",
      "This is a derived class implementation\n"
     ]
    }
   ],
   "source": [
    "from abc import ABCMeta, abstractmethod\n",
    "\n",
    "class AbstractClassExample(metaclass=ABCMeta):\n",
    "    \n",
    "    @abstractmethod\n",
    "    def youarehere(self):\n",
    "        print(\"base class implementation!\")\n",
    "        \n",
    "class AnotherDerivedClass(AbstractClassExample):\n",
    "\n",
    "    def youarehere(self):\n",
    "        super().youarehere()\n",
    "        print(\"This is a derived class implementation\")\n",
    "        \n",
    "x = AnotherDerivedClass()\n",
    "x.youarehere()\n",
    "#y = AbstractClassExample()\n",
    "#y.youarehere()"
   ]
  },
  {
   "cell_type": "code",
   "execution_count": null,
   "id": "a750fecf",
   "metadata": {},
   "outputs": [],
   "source": []
  }
 ],
 "metadata": {
  "kernelspec": {
   "display_name": "Python 3 (ipykernel)",
   "language": "python",
   "name": "python3"
  },
  "language_info": {
   "codemirror_mode": {
    "name": "ipython",
    "version": 3
   },
   "file_extension": ".py",
   "mimetype": "text/x-python",
   "name": "python",
   "nbconvert_exporter": "python",
   "pygments_lexer": "ipython3",
   "version": "3.9.13"
  }
 },
 "nbformat": 4,
 "nbformat_minor": 5
}
