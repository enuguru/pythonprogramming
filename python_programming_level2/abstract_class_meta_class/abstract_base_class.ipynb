{
 "cells": [
  {
   "cell_type": "code",
   "execution_count": 2,
   "id": "47b19bdf",
   "metadata": {},
   "outputs": [
    {
     "name": "stdout",
     "output_type": "stream",
     "text": [
      "base class implementation!\n",
      "This is a derived class implementation\n",
      "base class implementation!\n"
     ]
    }
   ],
   "source": [
    "class BaseClassExample:\n",
    "    \n",
    "    def youarehere(self):\n",
    "        print(\"base class implementation!\")\n",
    "        \n",
    "class AnotherDerivedClass(BaseClassExample):\n",
    "\n",
    "    def youarehere(self):\n",
    "        super().youarehere()\n",
    "        print(\"This is a derived class implementation\")\n",
    "        \n",
    "x = AnotherDerivedClass()\n",
    "x.youarehere()\n",
    "y = BaseClassExample()\n",
    "y.youarehere()"
   ]
  },
  {
   "cell_type": "code",
   "execution_count": 3,
   "id": "187ce5d9",
   "metadata": {},
   "outputs": [
    {
     "name": "stdout",
     "output_type": "stream",
     "text": [
      "base class implementation!\n",
      "This is a derived class implementation\n",
      "base class implementation!\n"
     ]
    }
   ],
   "source": [
    "from abc import ABC, abstractmethod\n",
    "\n",
    "class BaseClassExample:\n",
    "    \n",
    "    @abstractmethod\n",
    "    def youarehere(self):\n",
    "        print(\"base class implementation!\")\n",
    "        \n",
    "class AnotherDerivedClass(BaseClassExample):\n",
    "\n",
    "    def youarehere(self):\n",
    "        super().youarehere()\n",
    "        print(\"This is a derived class implementation\")\n",
    "        \n",
    "x = AnotherDerivedClass()\n",
    "x.youarehere()\n",
    "y = BaseClassExample()\n",
    "y.youarehere()"
   ]
  },
  {
   "cell_type": "code",
   "execution_count": 4,
   "id": "15b663a5",
   "metadata": {},
   "outputs": [
    {
     "name": "stdout",
     "output_type": "stream",
     "text": [
      "base class implementation!\n",
      "This is a derived class implementation\n",
      "base class implementation!\n"
     ]
    }
   ],
   "source": [
    "from abc import ABC, abstractmethod\n",
    "\n",
    "class BaseClassExample(ABC):\n",
    "    \n",
    "    def youarehere(self):\n",
    "        print(\"base class implementation!\")\n",
    "        \n",
    "class AnotherDerivedClass(BaseClassExample):\n",
    "\n",
    "    def youarehere(self):\n",
    "        super().youarehere()\n",
    "        print(\"This is a derived class implementation\")\n",
    "        \n",
    "x = AnotherDerivedClass()\n",
    "x.youarehere()\n",
    "y = BaseClassExample()\n",
    "y.youarehere()"
   ]
  },
  {
   "cell_type": "code",
   "execution_count": null,
   "id": "6a1cc8df",
   "metadata": {},
   "outputs": [],
   "source": [
    "from abc import ABC, abstractmethod\n",
    "\n",
    "class BaseClassExample(ABC):\n",
    "    \n",
    "    @abstractmethod\n",
    "    def youarehere(self):\n",
    "        print(\"base class implementation!\")\n",
    "        \n",
    "class AnotherDerivedClass(AbstractClassExample):\n",
    "\n",
    "    def youarehere(self):\n",
    "        super().youarehere()\n",
    "        print(\"This is a derived class implementation\")\n",
    "        \n",
    "x = AnotherDerivedClass()\n",
    "x.youarehere()\n",
    "y = BaseClassExample()\n",
    "y.youarehere()"
   ]
  },
  {
   "cell_type": "code",
   "execution_count": null,
   "id": "7d4c2024",
   "metadata": {},
   "outputs": [],
   "source": [
    "from abc import ABC, ABCMeta, abstractmethod\n",
    "\n",
    "class AbstractClassExample(metaclass=ABCMeta):\n",
    "\n",
    "    @abstractmethod\n",
    "    def youarehere(self):\n",
    "        print(\"base class implementation!\")\n",
    "        \n",
    "class AnotherDerivedClass(AbstractClassExample):\n",
    "\n",
    "    def youarehere(self):\n",
    "        super().youarehere()\n",
    "        print(\"This is a derived class implementation\")\n",
    "        \n",
    "x = AnotherDerivedClass()\n",
    "x.youarehere()\n",
    "#y = AbstractClassExample()\n",
    "#y.youarehere()"
   ]
  },
  {
   "cell_type": "code",
   "execution_count": null,
   "id": "01861da7",
   "metadata": {},
   "outputs": [],
   "source": [
    "from abc import ABC, abstractmethod\n",
    " \n",
    "class AbstractClassExample(ABC):\n",
    "    \n",
    "    @abstractmethod\n",
    "    def youarehere(self):\n",
    "        print(\"abstract class implementation!\")\n",
    "        \n",
    "class AnotherDerivedClass(AbstractClassExample):\n",
    "\n",
    "    def youarehere(self):\n",
    "        super().youarehere()\n",
    "        print(\"This is a derived class implementation\")\n",
    "        \n",
    "x = AnotherDerivedClass()\n",
    "x.youarehere()"
   ]
  },
  {
   "cell_type": "code",
   "execution_count": 8,
   "id": "a750fecf",
   "metadata": {},
   "outputs": [
    {
     "name": "stdout",
     "output_type": "stream",
     "text": [
      "base class implementation!\n",
      "This is a derived class implementation\n"
     ]
    }
   ],
   "source": [
    "from abc import abstractmethod, ABC\n",
    "\n",
    "class AbstractClassExample(ABC):\n",
    "\n",
    "    @abstractmethod\n",
    "    def youarehere(self):\n",
    "        print(\"base class implementation!\")\n",
    "        \n",
    "class AnotherDerivedClass(AbstractClassExample):\n",
    "\n",
    "    def youarehere(self):\n",
    "        super().youarehere()\n",
    "        print(\"This is a derived class implementation\")\n",
    "        \n",
    "x = AnotherDerivedClass()\n",
    "x.youarehere()\n",
    "#y = AbstractClassExample()\n",
    "#y.youarehere()"
   ]
  },
  {
   "cell_type": "code",
   "execution_count": 13,
   "id": "295d9576",
   "metadata": {},
   "outputs": [
    {
     "name": "stdout",
     "output_type": "stream",
     "text": [
      "base class implementation!\n"
     ]
    }
   ],
   "source": [
    "from abc import ABC\n",
    "\n",
    "class AbstractClassExample(ABC):\n",
    "\n",
    "    def youarehere(self):\n",
    "        print(\"base class implementation!\")\n",
    "        \n",
    "class AnotherDerivedClass(AbstractClassExample):\n",
    "    pass\n",
    "    \n",
    "    #def youarehere(self):     \n",
    "        #super().youarehere()\n",
    "        #print(\"This is a derived class implementation\")\n",
    "        \n",
    "x = AnotherDerivedClass()\n",
    "x.youarehere()\n",
    "#y = AbstractClassExample()\n",
    "#y.youarehere()"
   ]
  },
  {
   "cell_type": "code",
   "execution_count": null,
   "id": "fefa0ffd",
   "metadata": {},
   "outputs": [],
   "source": []
  }
 ],
 "metadata": {
  "kernelspec": {
   "display_name": "Python 3 (ipykernel)",
   "language": "python",
   "name": "python3"
  },
  "language_info": {
   "codemirror_mode": {
    "name": "ipython",
    "version": 3
   },
   "file_extension": ".py",
   "mimetype": "text/x-python",
   "name": "python",
   "nbconvert_exporter": "python",
   "pygments_lexer": "ipython3",
   "version": "3.10.9"
  }
 },
 "nbformat": 4,
 "nbformat_minor": 5
}
