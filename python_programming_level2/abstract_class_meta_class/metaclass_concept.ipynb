{
 "cells": [
  {
   "cell_type": "markdown",
   "id": "6efa5cc8",
   "metadata": {},
   "source": [
    "# metaclass concept"
   ]
  },
  {
   "cell_type": "code",
   "execution_count": 1,
   "id": "a85b4f4f",
   "metadata": {},
   "outputs": [],
   "source": [
    "class MyMeta(type):\n",
    "    pass\n",
    "\n",
    "class MyClass(metaclass=MyMeta):\n",
    "    pass\n",
    "\n",
    "class MySubclass(MyClass):\n",
    "    pass"
   ]
  },
  {
   "cell_type": "code",
   "execution_count": 2,
   "id": "67a7ce59",
   "metadata": {},
   "outputs": [
    {
     "name": "stdout",
     "output_type": "stream",
     "text": [
      "<class 'type'>\n",
      "<class '__main__.MyMeta'>\n",
      "<class '__main__.MyMeta'>\n"
     ]
    }
   ],
   "source": [
    "print(type(MyMeta))\n",
    "print(type(MyClass))\n",
    "print(type(MySubclass))"
   ]
  },
  {
   "cell_type": "code",
   "execution_count": null,
   "id": "f52bbcf4",
   "metadata": {},
   "outputs": [],
   "source": []
  }
 ],
 "metadata": {
  "kernelspec": {
   "display_name": "Python 3 (ipykernel)",
   "language": "python",
   "name": "python3"
  },
  "language_info": {
   "codemirror_mode": {
    "name": "ipython",
    "version": 3
   },
   "file_extension": ".py",
   "mimetype": "text/x-python",
   "name": "python",
   "nbconvert_exporter": "python",
   "pygments_lexer": "ipython3",
   "version": "3.9.13"
  }
 },
 "nbformat": 4,
 "nbformat_minor": 5
}
