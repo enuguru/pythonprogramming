{
 "cells": [
  {
   "cell_type": "code",
   "execution_count": 4,
   "id": "013250e1",
   "metadata": {},
   "outputs": [
    {
     "name": "stdout",
     "output_type": "stream",
     "text": [
      "Destructor called\n",
      "Hello friends\n"
     ]
    }
   ],
   "source": [
    "class Hifriend:\n",
    "\n",
    "    # default constructor\n",
    "    def __init__(self):\n",
    "        self.friend = \"Hello friends\"\n",
    "\n",
    "    # a method for printing data members\n",
    "    def print_friend(self):\n",
    "        print(self.friend)\n",
    "\n",
    "\n",
    "# creating object of the class\n",
    "obj = Hifriend()\n",
    "\n",
    "# calling the instance method using the object obj\n",
    "obj.print_friend()\n"
   ]
  },
  {
   "cell_type": "code",
   "execution_count": 5,
   "id": "b461f7a0",
   "metadata": {},
   "outputs": [
    {
     "name": "stdout",
     "output_type": "stream",
     "text": [
      "First number = 1000\n",
      "Second number = 2000\n",
      "Addition of two numbers = 3000\n"
     ]
    }
   ],
   "source": [
    "class Addition:\n",
    "    first = 0\n",
    "    second = 0\n",
    "    answer = 0\n",
    "    \n",
    "    # parameterized constructor\n",
    "    def __init__(self, f, s):\n",
    "        self.first = f\n",
    "        self.second = s\n",
    "    \n",
    "    def display(self):\n",
    "        print(\"First number = \" + str(self.first))\n",
    "        print(\"Second number = \" + str(self.second))\n",
    "        print(\"Addition of two numbers = \" + str(self.answer))\n",
    "\n",
    "    def calculate(self):\n",
    "        self.answer = self.first + self.second\n",
    "\n",
    "# creating object of the class\n",
    "# this will invoke parameterized constructor\n",
    "obj = Addition(1000, 2000)\n",
    "\n",
    "# perform Addition\n",
    "obj.calculate()\n",
    "\n",
    "# display result\n",
    "obj.display()"
   ]
  },
  {
   "cell_type": "code",
   "execution_count": 8,
   "id": "c210eb74",
   "metadata": {},
   "outputs": [
    {
     "name": "stdout",
     "output_type": "stream",
     "text": [
      "Creating instance\n",
      "<class '__main__.A'>\n",
      "Init is called\n"
     ]
    },
    {
     "data": {
      "text/plain": [
       "<__main__.A at 0x1e4b74cbbb0>"
      ]
     },
     "execution_count": 8,
     "metadata": {},
     "output_type": "execute_result"
    }
   ],
   "source": [
    "# Python program to\n",
    "# demonstrate __new__\n",
    "\n",
    "# don't forget the object specified as base\n",
    "class A:\n",
    "    def __new__(cls):\n",
    "        print(\"Creating instance\")\n",
    "        print(cls)\n",
    "        return super(A,cls).__new__(cls)\n",
    "\n",
    "    def __init__(self):\n",
    "        print(\"Init is called\")\n",
    "\n",
    "A()"
   ]
  },
  {
   "cell_type": "code",
   "execution_count": 7,
   "id": "6e64d89e",
   "metadata": {},
   "outputs": [
    {
     "name": "stdout",
     "output_type": "stream",
     "text": [
      "Employee created.\n",
      "Destructor called, Employee deleted.\n"
     ]
    }
   ],
   "source": [
    "# Python program to illustrate destructor\n",
    "class Employee:\n",
    "\n",
    "    # Initializing\n",
    "    def __init__(self):\n",
    "        print('Employee created.')\n",
    "\n",
    "    # Deleting (Calling destructor)\n",
    "    def __del__(self):\n",
    "        print('Destructor called, Employee deleted.')\n",
    "\n",
    "obj = Employee()\n",
    "del obj\n"
   ]
  },
  {
   "cell_type": "code",
   "execution_count": 3,
   "id": "2d02ea91",
   "metadata": {},
   "outputs": [
    {
     "name": "stdout",
     "output_type": "stream",
     "text": [
      "Calling Create_obj() function...\n",
      "Making Object...\n",
      "Employee created\n",
      "function end...\n",
      "Program End...\n"
     ]
    }
   ],
   "source": [
    "# Python program to illustrate destructor\n",
    "\n",
    "class Employee:\n",
    "\n",
    "    # Initializing\n",
    "    def __init__(self):\n",
    "        print('Employee created')\n",
    "\n",
    "    # Calling destructor\n",
    "    def __del__(self):\n",
    "        print(\"Destructor called\")\n",
    "\n",
    "def Create_obj():\n",
    "    print('Making Object...')\n",
    "    obj = Employee()\n",
    "    print('function end...')\n",
    "    return obj\n",
    "\n",
    "print('Calling Create_obj() function...')\n",
    "obj = Create_obj()\n",
    "print('Program End...')\n"
   ]
  },
  {
   "cell_type": "code",
   "execution_count": 13,
   "id": "040da5d4",
   "metadata": {},
   "outputs": [
    {
     "name": "stdout",
     "output_type": "stream",
     "text": [
      "John\n",
      "<class '__main__.Person'>\n",
      "Creating a new Person object...\n",
      "<__main__.Person object at 0x000001E4B8B7A050>\n",
      "Initializing the person object...\n"
     ]
    }
   ],
   "source": [
    "class Person:\n",
    "    def __new__(cls, name):\n",
    "        print(name)\n",
    "        print(cls)\n",
    "        print(f'Creating a new {cls.__name__} object...')\n",
    "        obj = object.__new__(cls)\n",
    "        print(obj)\n",
    "        return obj\n",
    "\n",
    "    def __init__(self, name):\n",
    "        print(f'Initializing the person object...')\n",
    "        self.name = name\n",
    "\n",
    "person = Person('John')"
   ]
  },
  {
   "cell_type": "code",
   "execution_count": null,
   "id": "3dbbd6bc",
   "metadata": {},
   "outputs": [],
   "source": []
  }
 ],
 "metadata": {
  "kernelspec": {
   "display_name": "Python 3 (ipykernel)",
   "language": "python",
   "name": "python3"
  },
  "language_info": {
   "codemirror_mode": {
    "name": "ipython",
    "version": 3
   },
   "file_extension": ".py",
   "mimetype": "text/x-python",
   "name": "python",
   "nbconvert_exporter": "python",
   "pygments_lexer": "ipython3",
   "version": "3.10.9"
  }
 },
 "nbformat": 4,
 "nbformat_minor": 5
}
