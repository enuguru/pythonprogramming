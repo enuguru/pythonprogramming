{
 "cells": [
  {
   "cell_type": "code",
   "execution_count": 1,
   "id": "68ac421b",
   "metadata": {},
   "outputs": [
    {
     "name": "stdout",
     "output_type": "stream",
     "text": [
      "\n",
      "\n",
      "WiFi is HiFi: BroadbandModem sending data\n",
      "WiFi is HiFi: BroadbandModem receiving data\n",
      "\n",
      "\n",
      "Broadband is fast: WiFiModem sending data\n",
      "Broadband is fast: WiFiModem receiving data\n",
      "\n",
      "\n",
      "Wireless is compact: WirelessModem sending data\n",
      "Wireless is compact: WirelessModem receiving data\n",
      "\n",
      "\n",
      "DialUpModem is old style: DialUpModem sending data\n",
      "DialUpModem is old style: DialUpModem receiving data\n",
      "\n",
      "\n"
     ]
    }
   ],
   "source": [
    "# this program is an example for implmenting polymorphism in python\n",
    "# this progarm creates a list of objects and then calls them to find out \n",
    "# that the appropriate derived class functions are called when called through the base class\n",
    "\n",
    "class Modem:\n",
    "    def __init__(self, name):    # Constructor of the class\n",
    "        self.name = name\n",
    "    def SendData(self):          # Abstract method, defined by convention only\n",
    "        raise NotImplementedError(\"Subclass must implement abstract method\")\n",
    "    def ReceiveData(self):       # Abstract method, defined by convention only\n",
    "        raise NotImplementedError(\"Subclass must implement abstract method\")\n",
    "\n",
    "class BroadbandModem(Modem):\n",
    "    def SendData(self):           \n",
    "        return 'BroadbandModem sending data'\n",
    "    def ReceiveData(self):       \n",
    "        return 'BroadbandModem receiving data'\n",
    "\n",
    "class WiFiModem(Modem):\n",
    "    def SendData(self):              \n",
    "        return 'WiFiModem sending data'\n",
    "    def ReceiveData(self):          \n",
    "        return 'WiFiModem receiving data'\n",
    "\n",
    "class WirelessModem(Modem):\n",
    "    def SendData(self):              \n",
    "        return 'WirelessModem sending data'\n",
    "    def ReceiveData(self):          \n",
    "        return 'WirelessModem receiving data'\n",
    "\n",
    "class DialUpModem(Modem):\n",
    "    def SendData(self):              \n",
    "        return 'DialUpModem sending data'\n",
    "    def ReceiveData(self):          \n",
    "        return 'DialUpModem receiving data'\n",
    "\n",
    "mymodems = [BroadbandModem('WiFi is HiFi'),\n",
    "           WiFiModem('Broadband is fast'),\n",
    "           WirelessModem('Wireless is compact'),\n",
    "           DialUpModem('DialUpModem is old style')]\n",
    "\n",
    "print('\\n')\n",
    "\n",
    "for modem in mymodems:\n",
    "    print(modem.name + ': ' + modem.SendData())\n",
    "    print(modem.name + ': ' + modem.ReceiveData())\n",
    "    print('\\n')\n"
   ]
  },
  {
   "cell_type": "code",
   "execution_count": 2,
   "id": "4b972587",
   "metadata": {},
   "outputs": [
    {
     "name": "stdout",
     "output_type": "stream",
     "text": [
      "New Delhi\n",
      "Hindi,Telugu,Marathi,Kannada,Tamizh and English\n",
      "Washington, D.C.\n",
      "English\n"
     ]
    }
   ],
   "source": [
    "class India():\n",
    "     def capital(self):\n",
    "       print(\"New Delhi\")\n",
    "\n",
    "     def language(self):\n",
    "       print(\"Hindi,Telugu,Marathi,Kannada,Tamizh and English\")\n",
    "\n",
    "class USA():\n",
    "     def capital(self):\n",
    "       print(\"Washington, D.C.\")\n",
    "\n",
    "     def language(self):\n",
    "       print(\"English\")\n",
    "\n",
    "obj_ind = India()\n",
    "obj_usa = USA()\n",
    "for country in (obj_ind, obj_usa):\n",
    "    country.capital()\n",
    "    country.language()"
   ]
  },
  {
   "cell_type": "code",
   "execution_count": null,
   "id": "8a4c1593",
   "metadata": {},
   "outputs": [],
   "source": []
  }
 ],
 "metadata": {
  "kernelspec": {
   "display_name": "Python 3 (ipykernel)",
   "language": "python",
   "name": "python3"
  },
  "language_info": {
   "codemirror_mode": {
    "name": "ipython",
    "version": 3
   },
   "file_extension": ".py",
   "mimetype": "text/x-python",
   "name": "python",
   "nbconvert_exporter": "python",
   "pygments_lexer": "ipython3",
   "version": "3.9.7"
  }
 },
 "nbformat": 4,
 "nbformat_minor": 5
}
