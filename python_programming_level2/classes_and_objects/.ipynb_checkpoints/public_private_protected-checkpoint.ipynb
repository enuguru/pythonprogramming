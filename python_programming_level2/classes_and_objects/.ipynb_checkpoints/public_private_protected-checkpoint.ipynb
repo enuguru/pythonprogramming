{
 "cells": [
  {
   "cell_type": "code",
   "execution_count": 1,
   "id": "b16d98c7",
   "metadata": {},
   "outputs": [
    {
     "name": "stdout",
     "output_type": "stream",
     "text": [
      "Hello my name is Vishnu\n"
     ]
    }
   ],
   "source": [
    "class Person:\n",
    "  def __init__(self, name, age):\n",
    "    self.name = name\n",
    "    self.age = age\n",
    "\n",
    "  def myfunc(self):\n",
    "    print(\"Hello my name is \" + self.name)\n",
    "\n",
    "p1 = Person(\"Vishnu\", 36)\n",
    "p1.myfunc()"
   ]
  },
  {
   "cell_type": "code",
   "execution_count": 4,
   "id": "f285142f",
   "metadata": {},
   "outputs": [
    {
     "name": "stdout",
     "output_type": "stream",
     "text": [
      "Length:  80\n",
      "Breadth:  50\n",
      "Area:  4000\n"
     ]
    }
   ],
   "source": [
    "class Shape:\n",
    "    # constructor\n",
    "    def __init__(self, length, breadth):\n",
    "        self.length = length\n",
    "        self.breadth = breadth\n",
    "          \n",
    "    # public member function\n",
    "    def displaySides(self):\n",
    "  \n",
    "        # accessing protected data members\n",
    "        print(\"Length: \", self.length)\n",
    "        print(\"Breadth: \", self.breadth)\n",
    "        \n",
    "# derived class\n",
    "class Rectangle(Shape):\n",
    "    \n",
    "    # constructor\n",
    "    def __init__(self, length, breadth):\n",
    "  \n",
    "        # Calling the constructor of super class\n",
    "        Shape.__init__(self, length, breadth)\n",
    "          \n",
    "    # public member function\n",
    "    def calculateArea(self):\n",
    "                      \n",
    "        # accessing protected data members of super class\n",
    "        print(\"Area: \", self.length * self.breadth)\n",
    "\n",
    "obj = Rectangle(80, 50)\n",
    "obja= Shape(20,10)\n",
    "#print(obja.length)\n",
    "#print(obja.breadth)\n",
    "\n",
    "# calling derived member\n",
    "# functions of the class\n",
    "obj.displaySides()\n",
    "  \n",
    "# calling public member\n",
    "# functions of the class\n",
    "obj.calculateArea()  "
   ]
  },
  {
   "cell_type": "code",
   "execution_count": null,
   "id": "01b4affa",
   "metadata": {},
   "outputs": [],
   "source": []
  }
 ],
 "metadata": {
  "kernelspec": {
   "display_name": "Python 3 (ipykernel)",
   "language": "python",
   "name": "python3"
  },
  "language_info": {
   "codemirror_mode": {
    "name": "ipython",
    "version": 3
   },
   "file_extension": ".py",
   "mimetype": "text/x-python",
   "name": "python",
   "nbconvert_exporter": "python",
   "pygments_lexer": "ipython3",
   "version": "3.9.7"
  }
 },
 "nbformat": 4,
 "nbformat_minor": 5
}
