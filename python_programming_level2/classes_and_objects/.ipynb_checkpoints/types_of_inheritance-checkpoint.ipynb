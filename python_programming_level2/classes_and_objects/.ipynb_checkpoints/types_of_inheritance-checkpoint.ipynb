{
 "cells": [
  {
   "cell_type": "markdown",
   "id": "de05f620",
   "metadata": {},
   "source": [
    "# Types of Inheritance"
   ]
  },
  {
   "cell_type": "code",
   "execution_count": 2,
   "id": "90dc78be",
   "metadata": {},
   "outputs": [
    {
     "name": "stdout",
     "output_type": "stream",
     "text": [
      "Mark\n",
      "John\n"
     ]
    }
   ],
   "source": [
    "# Parent class created\n",
    "class Parent:\n",
    "    parentname = \"\"\n",
    "    childname = \"\"\n",
    " \n",
    "    def show_parent(self):\n",
    "        print(self.parentname)\n",
    " \n",
    " \n",
    "# Child class created inherits Parent class\n",
    "class Child(Parent):\n",
    "    def show_child(self):\n",
    "        print(self.childname)\n",
    " \n",
    " \n",
    "ch1 = Child()  # Object of Child class\n",
    "ch1.parentname = \"Mark\"   # Access Parent class attributes\n",
    "ch1.childname = \"John\"\n",
    "ch1.show_parent()   # Access Parent class method\n",
    "ch1.show_child()    # Access Child class method"
   ]
  },
  {
   "cell_type": "code",
   "execution_count": 3,
   "id": "4d4ab47f",
   "metadata": {},
   "outputs": [
    {
     "name": "stdout",
     "output_type": "stream",
     "text": [
      "Mark\n",
      "John\n",
      "Samule\n",
      "Riya\n"
     ]
    }
   ],
   "source": [
    "# Parent class created\n",
    "class Parent:\n",
    "    parentname = \"\"\n",
    "    childname = \"\"\n",
    " \n",
    "    def show_parent(self):\n",
    "        print(self.parentname)\n",
    " \n",
    " \n",
    "# Son class inherits Parent class\n",
    "class Son(Parent):\n",
    "    def show_child(self):\n",
    "        print(self.childname)\n",
    " \n",
    " \n",
    "# Daughter class inherits Parent class\n",
    "class Daughter(Parent):\n",
    "    def show_child(self):\n",
    "        print(self.childname)\n",
    " \n",
    " \n",
    "s1 = Son()  # Object of Son class\n",
    "s1.parentname = \"Mark\"\n",
    "s1.childname = \"John\"\n",
    "s1.show_parent()\n",
    "s1.show_child()\n",
    " \n",
    "d1 = Son()  # Object of Daughter class\n",
    "d1.childname = \"Riya\"\n",
    "d1.parentname = \"Samule\"\n",
    "d1.show_parent()\n",
    "d1.show_child()"
   ]
  },
  {
   "cell_type": "code",
   "execution_count": null,
   "id": "b6530b30",
   "metadata": {},
   "outputs": [],
   "source": [
    "# Father class created\n",
    "class Father:\n",
    "    fathername = \"\"\n",
    " \n",
    "    def show_father(self):\n",
    "        print(self.fathername)\n",
    " \n",
    " \n",
    "# Mother class created\n",
    "class Mother:\n",
    "    mothername = \"\"\n",
    " \n",
    "    def show_mother(self):\n",
    "        print(self.mothername)\n",
    " \n",
    " \n",
    "# Son class inherits Father and Mother classes\n",
    "class Son(Father, Mother):\n",
    "    def show_parent(self):\n",
    "        print(\"Father :\", self.fathername)\n",
    "        print(\"Mother :\", self.mothername)\n",
    " \n",
    " \n",
    "s1 = Son()  # Object of Son class\n",
    "s1.fathername = \"Mark\"\n",
    "s1.mothername = \"Sonia\"\n",
    "s1.show_parent()"
   ]
  },
  {
   "cell_type": "code",
   "execution_count": 4,
   "id": "b95fe4c0",
   "metadata": {},
   "outputs": [
    {
     "name": "stdout",
     "output_type": "stream",
     "text": [
      "This is our family:\n",
      "Father : Mark\n",
      "Mother : Sonia\n"
     ]
    }
   ],
   "source": [
    "class Family:\n",
    "    def show_family(self):\n",
    "        print(\"This is our family:\")\n",
    " \n",
    "# Father class inherited from Family\n",
    "class Father(Family):\n",
    "    fathername = \"\"\n",
    " \n",
    "    def show_father(self):\n",
    "        print(self.fathername)\n",
    " \n",
    " \n",
    "# Mother class inherited from Family\n",
    "class Mother(Family):\n",
    "    mothername = \"\"\n",
    " \n",
    "    def show_mother(self):\n",
    "        print(self.mothername)\n",
    " \n",
    " \n",
    "# Son class inherited from Father and Mother classes\n",
    "class Son(Father, Mother):\n",
    "    def show_parent(self):\n",
    "        print(\"Father :\", self.fathername)\n",
    "        print(\"Mother :\", self.mothername)\n",
    " \n",
    " \n",
    "s1 = Son()  # Object of Son class\n",
    "s1.fathername = \"Mark\"\n",
    "s1.mothername = \"Sonia\"\n",
    "s1.show_family()\n",
    "s1.show_parent()"
   ]
  },
  {
   "cell_type": "code",
   "execution_count": null,
   "id": "86ffea3d",
   "metadata": {},
   "outputs": [],
   "source": []
  }
 ],
 "metadata": {
  "kernelspec": {
   "display_name": "Python 3 (ipykernel)",
   "language": "python",
   "name": "python3"
  },
  "language_info": {
   "codemirror_mode": {
    "name": "ipython",
    "version": 3
   },
   "file_extension": ".py",
   "mimetype": "text/x-python",
   "name": "python",
   "nbconvert_exporter": "python",
   "pygments_lexer": "ipython3",
   "version": "3.9.7"
  }
 },
 "nbformat": 4,
 "nbformat_minor": 5
}
