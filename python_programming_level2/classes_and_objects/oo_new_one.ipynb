{
 "cells": [
  {
   "cell_type": "code",
   "execution_count": 2,
   "metadata": {},
   "outputs": [],
   "source": [
    "class MyFirstClass:\n",
    "    pass"
   ]
  },
  {
   "cell_type": "code",
   "execution_count": 4,
   "metadata": {},
   "outputs": [
    {
     "name": "stdout",
     "output_type": "stream",
     "text": [
      "<class 'type'>\n"
     ]
    }
   ],
   "source": [
    "print(type(MyFirstClass))"
   ]
  },
  {
   "cell_type": "code",
   "execution_count": 6,
   "metadata": {},
   "outputs": [
    {
     "name": "stdout",
     "output_type": "stream",
     "text": [
      "<class 'int'>\n"
     ]
    }
   ],
   "source": [
    "x = 20\n",
    "print(type(x))"
   ]
  },
  {
   "cell_type": "code",
   "execution_count": 7,
   "metadata": {},
   "outputs": [
    {
     "name": "stdout",
     "output_type": "stream",
     "text": [
      "<class 'list'>\n"
     ]
    }
   ],
   "source": [
    "newlist = [2,5,7]\n",
    "print(type(newlist))"
   ]
  },
  {
   "cell_type": "code",
   "execution_count": 8,
   "metadata": {},
   "outputs": [
    {
     "name": "stdout",
     "output_type": "stream",
     "text": [
      "Everything in python is an object\n",
      "<class 'function'>\n"
     ]
    }
   ],
   "source": [
    "def newfunc():\n",
    "    print(\"Everything in python is an object\")\n",
    "    \n",
    "newfunc()\n",
    "print(type(newfunc))"
   ]
  },
  {
   "cell_type": "code",
   "execution_count": 9,
   "metadata": {
    "ExecuteTime": {
     "end_time": "2020-08-14T06:32:37.907124Z",
     "start_time": "2020-08-14T06:32:37.893134Z"
    }
   },
   "outputs": [
    {
     "name": "stdout",
     "output_type": "stream",
     "text": [
      "<__main__.MyFirstClass object at 0x0000027D2B547AF0>\n",
      "<__main__.MyFirstClass object at 0x0000027D2B5445E0>\n"
     ]
    }
   ],
   "source": [
    "class MyFirstClass:\n",
    "    pass\n",
    "\n",
    "obj1 = MyFirstClass()\n",
    "obj2 = MyFirstClass()\n",
    "\n",
    "print(obj1)\n",
    "print(obj2)\n",
    "#(type(obj1))"
   ]
  },
  {
   "cell_type": "code",
   "execution_count": 7,
   "metadata": {
    "ExecuteTime": {
     "end_time": "2020-08-14T06:34:10.434368Z",
     "start_time": "2020-08-14T06:34:10.422374Z"
    }
   },
   "outputs": [
    {
     "name": "stdout",
     "output_type": "stream",
     "text": [
      "3 1\n",
      "5 3\n",
      "6 4\n"
     ]
    }
   ],
   "source": [
    "class Point:\n",
    "    pass\n",
    "\n",
    "p1 = Point()\n",
    "p2 = Point()\n",
    "p3 = Point()\n",
    "\n",
    "p1.x = 3\n",
    "p1.y = 1\n",
    "\n",
    "p2.x = 5\n",
    "p2.y = 3\n",
    "\n",
    "p3.x = 6\n",
    "p3.y = 4\n",
    "\n",
    "print(p1.x, p1.y)\n",
    "print(p2.x, p2.y)\n",
    "print(p3.x, p3.y)"
   ]
  },
  {
   "cell_type": "code",
   "execution_count": 14,
   "metadata": {
    "ExecuteTime": {
     "end_time": "2020-08-14T06:36:02.113266Z",
     "start_time": "2020-08-14T06:36:02.099276Z"
    }
   },
   "outputs": [
    {
     "name": "stdout",
     "output_type": "stream",
     "text": [
      "Constructor is called\n",
      "<__main__.BankBalance object at 0x0000027D2B6D9390>\n",
      "<__main__.BankBalance object at 0x0000027D2B6D9390>\n",
      "savings 10000 "
     ]
    }
   ],
   "source": [
    "#dunder method - magic method  dunder methods - magic methods - double underscore\n",
    "class BankBalance:\n",
    "    def __init__(self,thistype='savings', amount=1000000): # dunder - Double UNDERscore\n",
    "        print(\"Constructor is called\")\n",
    "        print(self)\n",
    "        self.acctype = thistype              # magic methods\n",
    "        self.balance = amount                #dunder methods magic methods\n",
    "    \n",
    "    def display_props(self):\n",
    "        print(self.acctype,end=\" \")\n",
    "        print(self.balance,end=\" \")\n",
    "        \n",
    "#print(type(BankBalance))\n",
    "#print(type(BankBalance.display_props))\n",
    "#print(type(BankBalance.__init__))\n",
    "obja = BankBalance(amount = 10000)\n",
    "print(obja)\n",
    "#obja = BankBalance(thistype='current')\n",
    "obja.display_props()\n",
    "#print(obja)\n",
    "#print(type(obja.display_props))\n",
    "\n",
    "#obja.display_props()\n",
    "#objc = BankBalance()\n",
    "#objc.display_props()\n",
    "\n",
    "#objd = BankBalance('current')\n",
    "#objd.display_props()\n",
    "#objb = BankBalance('current',200000)\n",
    "#objb.display_props()\n",
    "#obja.display_props()\n",
    "\n",
    "#print(objb.balance)\n",
    "#print(objb.acctype)\n",
    "#print(obja.balance)\n",
    "#print(obja.acctype)"
   ]
  },
  {
   "cell_type": "code",
   "execution_count": 13,
   "metadata": {
    "ExecuteTime": {
     "end_time": "2020-08-14T06:41:39.334052Z",
     "start_time": "2020-08-14T06:41:39.310063Z"
    }
   },
   "outputs": [
    {
     "name": "stdout",
     "output_type": "stream",
     "text": [
      "Base class\n",
      "Derived Class\n",
      "Base class\n",
      "Homer Simpson Homer Simpson, 1007\n"
     ]
    }
   ],
   "source": [
    "# this program demonstrates how the derived class and \n",
    "# the base class work with each other and the syntax\n",
    "# for inheritance in python, \"is a\" relationship\n",
    "\n",
    "class Person:\n",
    "\n",
    "    def __init__(self, first, last):\n",
    "        print(\"Base class\")\n",
    "        self.firstname = first\n",
    "        self.lastname = last\n",
    "\n",
    "    def Name(self):\n",
    "        return self.firstname + \" \" + self.lastname\n",
    "\n",
    "class Employee(Person):\n",
    "\n",
    "    def __init__(self, first, last, staffnum):\n",
    "        print(\"Derived Class\")\n",
    "        Person.__init__(self, first, last)\n",
    "        self.staffnumber = staffnum\n",
    "\n",
    "    def GetEmployee(self):\n",
    "        print(self.firstname,end=\" \")\n",
    "        print(self.lastname,end=\" \")\n",
    "        return self.Name() + \", \" +  self.staffnumber\n",
    "\n",
    "xobj = Person(\"Nick\", \"Simpson\")\n",
    "xobj.Name()\n",
    "yobj = Employee(\"Homer\", \"Simpson\", \"1007\")\n",
    "#print(yobj.firstname,end=\" \")\n",
    "\n",
    "#print(xobj.Name())\n",
    "print(yobj.GetEmployee())\n",
    "#print(yobj.Name())\n",
    "#print(yobj.GetEmployee())"
   ]
  },
  {
   "cell_type": "code",
   "execution_count": null,
   "metadata": {},
   "outputs": [],
   "source": [
    "dir(yobj)"
   ]
  },
  {
   "cell_type": "code",
   "execution_count": null,
   "metadata": {},
   "outputs": [],
   "source": [
    "class SimpleProgram:\n",
    "    \n",
    "    def __init__(self,p,q):\n",
    "        self.x = p\n",
    "        self.y = q\n",
    "        print(\"This constructor is called\")\n",
    "        \n",
    "    def display_variables(self):\n",
    "        print(self.x)\n",
    "        print(self.y)\n",
    "    \n",
    "object = SimpleProgram(25,\"Vijay\")\n",
    "object.display_variables()"
   ]
  },
  {
   "cell_type": "code",
   "execution_count": null,
   "metadata": {},
   "outputs": [],
   "source": [
    "class Person:\n",
    "\n",
    "    def __init__(self, first, last):\n",
    "        print(\"Base class\")\n",
    "        self.firstname = first\n",
    "        self.lastname = last\n",
    "\n",
    "    def Name(self):\n",
    "        return self.firstname + \" \" + self.lastname\n",
    "\n",
    "class Employee(Person):\n",
    "\n",
    "    def __init__(self, first, last, staffnum):\n",
    "        print(\"Derived Class\")\n",
    "        Person.__init__(self, first, last)\n",
    "        self.staffnumber = staffnum\n",
    "\n",
    "    def GetEmployee(self):\n",
    "        print(self.firstname,end=\" \")\n",
    "        print(self.lastname,end=\" \")\n",
    "        return self.Name() + \", \" +  self.staffnumber\n",
    "\n",
    "#xobj = Person(\"Chandan\", \"Kumar\")\n",
    "#print(xobj.Name())\n",
    "yobj = Employee(\"George\", \"Fernandes\", \"1007\")\n",
    "print(yobj.GetEmployee())"
   ]
  },
  {
   "cell_type": "code",
   "execution_count": null,
   "metadata": {
    "ExecuteTime": {
     "end_time": "2020-08-14T07:00:58.304810Z",
     "start_time": "2020-08-14T07:00:58.290818Z"
    }
   },
   "outputs": [],
   "source": [
    "class Base:\n",
    " \n",
    "    _myvar = 10\n",
    "    # Declaring public method\n",
    "    def fun(self):\n",
    "        print(\"Public method\")\n",
    "  \n",
    "    # Declaring protected method\n",
    "    def _fun(self):\n",
    "        print(\"Private method\")\n",
    "        \n",
    "\n",
    "# Creating a derived class\n",
    "\n",
    "class Derived(Base):\n",
    "    def __init__(self):\n",
    "          \n",
    "        # Calling constructor of\n",
    "        # Base class\n",
    "        Base.__init__(self)\n",
    "          \n",
    "    def call_public(self):\n",
    "          \n",
    "        # Calling public method of base class\n",
    "        print(\"\\nInside derived class\")\n",
    "        self._fun()\n",
    "          \n",
    "    def call_private(self):\n",
    "        print(self._myvar)  \n",
    "        # Calling private method of base class\n",
    "        self._fun()\n",
    "\n",
    "        \n",
    "# Driver code\n",
    "obj1 = Base()\n",
    "  \n",
    "# Calling public method\n",
    "obj1.fun()\n",
    "  \n",
    "obj2 = Derived()\n",
    "obj2.call_public()\n",
    "obj2.call_private()\n",
    "  \n",
    "# Uncommenting obj1.__fun() will\n",
    "# raise an AttributeError\n",
    "  \n",
    "# Uncommenting obj2.call_private()\n",
    "# will also raise an AttributeError\n"
   ]
  },
  {
   "cell_type": "code",
   "execution_count": null,
   "metadata": {},
   "outputs": [],
   "source": [
    "# Parent class 1\n",
    "class TeamMember():#object):                   \n",
    "   def __init__(self, name, uid): \n",
    "      self.name = name \n",
    "      self.uid = uid \n",
    "  \n",
    "# Parent class 2\n",
    "class Worker():#object):                 \n",
    "   def __init__(self, pay, jobtitle): \n",
    "      self.pay = pay \n",
    "      self.jobtitle = jobtitle \n",
    "  \n",
    "# Deriving a child class from the two parent classes\n",
    "class TeamLeader(TeamMember, Worker):         \n",
    "   def __init__(self, name, uid, pay, jobtitle, exp): \n",
    "      self.exp = exp \n",
    "      TeamMember.__init__(self, name, uid) \n",
    "      Worker.__init__(self, pay, jobtitle)\n",
    "      print(\"Name: {}, Pay: {}, Exp: {}\".format(self.name, self.pay, self.exp))\n",
    "\n",
    "TL = TeamLeader('Vinita', 10001, 250000, 'Scrum Master', 5)"
   ]
  },
  {
   "cell_type": "code",
   "execution_count": null,
   "metadata": {},
   "outputs": [],
   "source": [
    "\"\"\"\n",
    " Desc:\n",
    "  Multi level inheritance\n",
    "  Python program to demonstrate overriding\n",
    "  using the super() method\n",
    "\"\"\"\n",
    "class base(object): \n",
    "   def base_func(self): \n",
    "      print('Method of base class')\n",
    "        \n",
    "class child(base): \n",
    "   def base_func(self): \n",
    "      print('Method of child class')\n",
    "      super(child, self).base_func()\n",
    "    \n",
    "class next_child(child): \n",
    "   def base_func(self): \n",
    "      print('Method of next_child class')\n",
    "      super(next_child, self).base_func() \n",
    "\n",
    "obj = next_child() \n",
    "obj.base_func()"
   ]
  },
  {
   "cell_type": "code",
   "execution_count": null,
   "metadata": {},
   "outputs": [],
   "source": [
    "class Company:\n",
    "    # constructor\n",
    "    def __init__(self, name, proj):\n",
    "        self.name = name      # name(name of company) is public\n",
    "        self._proj = proj     # proj(current project) is protected\n",
    "    \n",
    "    # public function to show the details\n",
    "    def show(self):\n",
    "        print(\"The code of the company is = \",self.ccode)\n",
    "\n",
    "# define child class Emp\n",
    "class Emp(Company):\n",
    "    # constructor\n",
    "    def __init__(self, eName, sal, cName, proj):\n",
    "        # calling parent class constructor\n",
    "        Company.__init__(self, cName, proj)\n",
    "        self.name = eName   # public member variable\n",
    "        self.__sal = sal    # private member variable\n",
    "    \n",
    "    # public function to show salary details\n",
    "    def show_sal(self):\n",
    "        print(\"The salary of \",self.name,\" is \",self.__sal,)\n",
    "\n",
    "# creating instance of Company class\n",
    "c = Company(\"Stark Industries\", \"Mark 4\")\n",
    "# creating instance of Employee class\n",
    "e = Emp(\"Steve\", 9999999, c.name, c._proj)\n",
    "\n",
    "print(\"Welcome to \", c.name)\n",
    "print(\"Here \", e.name,\" is working on \",e._proj)\n",
    "\n",
    "# only the instance itself can change the __sal variable\n",
    "# and to show the value we have created a public function show_sal()\n",
    "e.show_sal()"
   ]
  },
  {
   "cell_type": "code",
   "execution_count": null,
   "metadata": {},
   "outputs": [],
   "source": [
    "class _ProductivitySystem:\n",
    "    def __init__(self):\n",
    "        self._roles = {\n",
    "            'manager': ManagerRole,\n",
    "            'secretary': SecretaryRole,\n",
    "            'sales': SalesRole,\n",
    "            'factory': FactoryRole\n",
    "        }\n",
    "\n",
    "    def get_role(self, role_id):\n",
    "        role_type = self._roles.get(role_id)\n",
    "        if not role_type:\\\n",
    "            raise ValueError('invalid role_id')\n",
    "        return role_type()\n",
    "\n",
    "    def track(self, employees, hours):\n",
    "        print('Tracking Employee Productivity')\n",
    "        print('==============================')\n",
    "        for employee in employees:\n",
    "            employee.work(hours)\n",
    "        print('')\n",
    "\n",
    "class ManagerRole:\n",
    "    def work(self, hours):\n",
    "        return f'screams and yells for {hours} hours.'\n",
    "\n",
    "class SecretaryRole:\n",
    "    def work(self, hours):\n",
    "        return f'expends {hours} hours doing office paperwork.'\n",
    "\n",
    "class SalesRole:\n",
    "    def work(self, hours):\n",
    "        return f'expends {hours} hours on the phone.'\n",
    "\n"
   ]
  },
  {
   "cell_type": "code",
   "execution_count": null,
   "metadata": {},
   "outputs": [],
   "source": [
    "# program to illustrate protected\n",
    "# data members in a class\n",
    "\n",
    "# super class\n",
    "class Shape:\n",
    "      \n",
    "    # constructor\n",
    "    def __init__(self, length, breadth):\n",
    "        self.length = length\n",
    "        self.breadth = breadth\n",
    "          \n",
    "    # public member function\n",
    "    def displaySides(self):\n",
    "        # accessing protected data members\n",
    "        print(\"Length: \", self.length)\n",
    "        print(\"Breadth: \", self.breadth)\n",
    "        \n",
    "  \n",
    "# derived class\n",
    "class Rectangle(Shape):\n",
    "  \n",
    "    # constructor\n",
    "    def __init__(self, length, breadth):\n",
    "        # Calling the constructor of\n",
    "        # Super class\n",
    "        Shape.__init__(self, length, breadth)\n",
    "          \n",
    "    # public member function\n",
    "    def calculateArea(self):                \n",
    "        # accessing protected data members of super class\n",
    "        print(\"Area: \", self.length * self.breadth)\n",
    "\n",
    "  \n",
    "# creating objects of the\n",
    "# derived class\n",
    "obj = Rectangle(80, 50)\n",
    "obja= Shape(20,10)\n",
    "print(obja.length)\n",
    "print(obja.breadth)\n",
    "\n",
    "# calling derived member\n",
    "# functions of the class\n",
    "obj.displaySides()\n",
    "  \n",
    "# calling public member\n",
    "# functions of the class\n",
    "obj.calculateArea()  "
   ]
  }
 ],
 "metadata": {
  "kernelspec": {
   "display_name": "Python 3 (ipykernel)",
   "language": "python",
   "name": "python3"
  },
  "language_info": {
   "codemirror_mode": {
    "name": "ipython",
    "version": 3
   },
   "file_extension": ".py",
   "mimetype": "text/x-python",
   "name": "python",
   "nbconvert_exporter": "python",
   "pygments_lexer": "ipython3",
   "version": "3.10.13"
  }
 },
 "nbformat": 4,
 "nbformat_minor": 2
}
