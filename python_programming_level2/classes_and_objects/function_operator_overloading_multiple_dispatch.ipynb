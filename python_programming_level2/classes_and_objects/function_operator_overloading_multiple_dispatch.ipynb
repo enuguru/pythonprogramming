{
 "cells": [
  {
   "cell_type": "markdown",
   "id": "15e3b251",
   "metadata": {},
   "source": [
    "In Backend, Dispatcher creates an object which stores different implementation and on runtime, \n",
    "it selects the appropriate method as the type and number of parameters passed.\n"
   ]
  },
  {
   "cell_type": "code",
   "execution_count": 1,
   "id": "6e34b1f1",
   "metadata": {},
   "outputs": [
    {
     "name": "stdout",
     "output_type": "stream",
     "text": [
      "6\n",
      "12\n",
      "17.204\n"
     ]
    }
   ],
   "source": [
    "from multipledispatch import dispatch\n",
    "\n",
    "# passing one parameter\n",
    "\n",
    "@dispatch(int, int)\n",
    "def product(first, second):\n",
    "    result = first*second\n",
    "    print(result)\n",
    "\n",
    "# passing two parameters\n",
    "\n",
    "\n",
    "@dispatch(int, int, int)\n",
    "def product(first, second, third):\n",
    "    result = first * second * third\n",
    "    print(result)\n",
    "\n",
    "# you can also pass data type of any value as per requirement\n",
    "\n",
    "\n",
    "@dispatch(float, float, float)\n",
    "def product(first, second, third):\n",
    "    result = first * second * third\n",
    "    print(result)\n",
    "\n",
    "\n",
    "# calling product method with 2 arguments\n",
    "product(2, 3) # this will give output of 6\n",
    "\n",
    "# calling product method with 3 arguments but all int\n",
    "product(2, 3, 2) # this will give output of 12\n",
    "\n",
    "# calling product method with 3 arguments but all float\n",
    "product(2.2, 3.4, 2.3) # this will give output of 17.985999999999997\n"
   ]
  },
  {
   "cell_type": "code",
   "execution_count": 4,
   "id": "5efa4fd8",
   "metadata": {},
   "outputs": [
    {
     "name": "stdout",
     "output_type": "stream",
     "text": [
      "(3,5)\n",
      "(1,2)\n",
      "(2,3)\n"
     ]
    }
   ],
   "source": [
    "class Point:\n",
    "    def __init__(self, x=0, y=0):\n",
    "        self.x = x\n",
    "        self.y = y\n",
    "\n",
    "    def __str__(self):\n",
    "        return \"({0},{1})\".format(self.x, self.y)\n",
    "\n",
    "    def __add__(self, other):\n",
    "        x = self.x + other.x\n",
    "        y = self.y + other.y\n",
    "        return Point(x, y)\n",
    "\n",
    "\n",
    "p1 = Point(1, 2)\n",
    "p2 = Point(2, 3)\n",
    "\n",
    "print(p1+p2)\n",
    "print(p1)\n",
    "print(p2)"
   ]
  },
  {
   "cell_type": "code",
   "execution_count": 5,
   "id": "da35a67d",
   "metadata": {},
   "outputs": [
    {
     "name": "stdout",
     "output_type": "stream",
     "text": [
      "True\n",
      "False\n"
     ]
    }
   ],
   "source": [
    "class Person:\n",
    "    def __init__(self, name, age):\n",
    "        self.name = name\n",
    "        self.age = age\n",
    "\n",
    "    # overload < operator\n",
    "    def __lt__(self, other):\n",
    "        return self.age < other.age\n",
    "\n",
    "p1 = Person(\"Alice\", 20)\n",
    "p2 = Person(\"Bob\", 30)\n",
    "\n",
    "print(p1 < p2)  # prints True\n",
    "print(p2 < p1)  # prints False"
   ]
  },
  {
   "cell_type": "code",
   "execution_count": null,
   "id": "37a03c04",
   "metadata": {},
   "outputs": [],
   "source": []
  }
 ],
 "metadata": {
  "kernelspec": {
   "display_name": "Python 3 (ipykernel)",
   "language": "python",
   "name": "python3"
  },
  "language_info": {
   "codemirror_mode": {
    "name": "ipython",
    "version": 3
   },
   "file_extension": ".py",
   "mimetype": "text/x-python",
   "name": "python",
   "nbconvert_exporter": "python",
   "pygments_lexer": "ipython3",
   "version": "3.10.9"
  }
 },
 "nbformat": 4,
 "nbformat_minor": 5
}
