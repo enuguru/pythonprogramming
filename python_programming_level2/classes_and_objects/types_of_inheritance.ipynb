{
 "cells": [
  {
   "cell_type": "markdown",
   "id": "1dc85037",
   "metadata": {},
   "source": [
    "# Types of Inheritance"
   ]
  },
  {
   "cell_type": "code",
   "execution_count": 2,
   "id": "5988ce23",
   "metadata": {},
   "outputs": [
    {
     "name": "stdout",
     "output_type": "stream",
     "text": [
      "Mark\n",
      "John\n"
     ]
    }
   ],
   "source": [
    "# Parent class created\n",
    "class Parent:\n",
    "    parentname = \"\"\n",
    "    childname = \"\"\n",
    " \n",
    "    def show_parent(self):\n",
    "        print(self.parentname)\n",
    " \n",
    " \n",
    "# Child class created inherits Parent class\n",
    "class Child(Parent):\n",
    "    def show_child(self):\n",
    "        print(self.childname)\n",
    " \n",
    " \n",
    "ch1 = Child()  # Object of Child class\n",
    "ch1.parentname = \"Mark\"   # Access Parent class attributes\n",
    "ch1.childname = \"John\"\n",
    "ch1.show_parent()   # Access Parent class method\n",
    "ch1.show_child()    # Access Child class method\n",
    "#chnew = Parent()\n",
    "#chnew.show_child()"
   ]
  },
  {
   "cell_type": "code",
   "execution_count": 3,
   "id": "9ceac296",
   "metadata": {},
   "outputs": [
    {
     "name": "stdout",
     "output_type": "stream",
     "text": [
      "Mark\n",
      "John\n",
      "Samule\n",
      "Riya\n"
     ]
    }
   ],
   "source": [
    "# Parent class created\n",
    "class Parent:\n",
    "    parentname = \"\"\n",
    "    childname = \"\"\n",
    " \n",
    "    def show_parent(self):\n",
    "        print(self.parentname)\n",
    " \n",
    "# Son class inherits Parent class\n",
    "class Son(Parent):\n",
    "    def show_child(self):\n",
    "        print(self.childname)\n",
    " \n",
    "# Daughter class inherits Parent class\n",
    "class Daughter(Parent):\n",
    "    def show_child(self):\n",
    "        print(self.childname)\n",
    " \n",
    " \n",
    "s1 = Son()  # Object of Son class\n",
    "s1.parentname = \"Mark\"\n",
    "s1.childname = \"John\"\n",
    "s1.show_parent()\n",
    "s1.show_child()\n",
    " \n",
    "d1 = Son()  # Object of Daughter class\n",
    "d1.childname = \"Riya\"\n",
    "d1.parentname = \"Samule\"\n",
    "d1.show_parent()\n",
    "d1.show_child()"
   ]
  },
  {
   "cell_type": "code",
   "execution_count": 4,
   "id": "d27f1260",
   "metadata": {},
   "outputs": [
    {
     "name": "stdout",
     "output_type": "stream",
     "text": [
      "DogChild constructor is called\n",
      "dog barking\n",
      "Animal Speaking\n",
      "Eating bread...\n"
     ]
    }
   ],
   "source": [
    "class Animal:  \n",
    "    def __init__(self):\n",
    "        print(\"Animal constructor is called\")\n",
    "    def speak(self):  \n",
    "        print(\"Animal Speaking\")  \n",
    "        \n",
    "#The child class Dog inherits the base class Animal  \n",
    "class Dog(Animal):\n",
    "    def __init__(self):\n",
    "        print(\"Dog constructor is called\")\n",
    "    def bark(self):  \n",
    "        print(\"dog barking\")\n",
    "        \n",
    "#The child class Dogchild inherits another child class Dog  \n",
    "class DogChild(Dog):  \n",
    "    def __init__(self):\n",
    "        print(\"DogChild constructor is called\")\n",
    "    def eat(self):  \n",
    "        print(\"Eating bread...\")  \n",
    "\n",
    "dobj = DogChild()  \n",
    "dobj.bark()  \n",
    "dobj.speak()  \n",
    "dobj.eat()\n",
    "#bobj = Animal()\n",
    "#bobj.bark()"
   ]
  },
  {
   "cell_type": "code",
   "execution_count": 6,
   "id": "2d870e52",
   "metadata": {},
   "outputs": [
    {
     "name": "stdout",
     "output_type": "stream",
     "text": [
      "Father : Mark\n",
      "Mother : Sonia\n",
      "This is mother base class\n",
      "This is father base class\n"
     ]
    }
   ],
   "source": [
    "# Father class created\n",
    "class Father:\n",
    "    fathername = \"\"\n",
    " \n",
    "    def show_father(self):\n",
    "        print(self.fathername)\n",
    "        \n",
    "    def display(self):\n",
    "        print(\"This is father base class\")\n",
    " \n",
    "# Mother class created\n",
    "class Mother:\n",
    "    mothername = \"\"\n",
    " \n",
    "    def show_mother(self):\n",
    "        print(self.mothername)\n",
    "        \n",
    "    def display(self):\n",
    "        print(\"This is mother base class\")\n",
    " \n",
    "# Son class inherits Father and Mother classes\n",
    "class Son(Mother, Father):\n",
    "    def show_parent(self):\n",
    "        x = Father()\n",
    "        print(\"Father :\", self.fathername)\n",
    "        print(\"Mother :\", self.mothername)\n",
    "        self.display()\n",
    "        x.display()\n",
    " \n",
    "s1 = Son()  # Object of Son class\n",
    "s1.fathername = \"Mark\"\n",
    "s1.mothername = \"Sonia\"\n",
    "s1.show_parent()"
   ]
  },
  {
   "cell_type": "code",
   "execution_count": 7,
   "id": "f13e6562",
   "metadata": {},
   "outputs": [
    {
     "data": {
      "text/plain": [
       "['__class__',\n",
       " '__delattr__',\n",
       " '__dict__',\n",
       " '__dir__',\n",
       " '__doc__',\n",
       " '__eq__',\n",
       " '__format__',\n",
       " '__ge__',\n",
       " '__getattribute__',\n",
       " '__gt__',\n",
       " '__hash__',\n",
       " '__init__',\n",
       " '__init_subclass__',\n",
       " '__le__',\n",
       " '__lt__',\n",
       " '__module__',\n",
       " '__ne__',\n",
       " '__new__',\n",
       " '__reduce__',\n",
       " '__reduce_ex__',\n",
       " '__repr__',\n",
       " '__setattr__',\n",
       " '__sizeof__',\n",
       " '__str__',\n",
       " '__subclasshook__',\n",
       " '__weakref__',\n",
       " 'display',\n",
       " 'fathername',\n",
       " 'mothername',\n",
       " 'show_father',\n",
       " 'show_mother',\n",
       " 'show_parent']"
      ]
     },
     "execution_count": 7,
     "metadata": {},
     "output_type": "execute_result"
    }
   ],
   "source": [
    "dir(s1)"
   ]
  },
  {
   "cell_type": "code",
   "execution_count": 8,
   "id": "d075c2ab",
   "metadata": {},
   "outputs": [
    {
     "name": "stdout",
     "output_type": "stream",
     "text": [
      "This is our family:\n",
      "Father : Mark\n",
      "Mother : Sonia\n"
     ]
    }
   ],
   "source": [
    "class Family:\n",
    "    def show_family(self):\n",
    "        print(\"This is our family:\")\n",
    " \n",
    "# Father class inherited from Family\n",
    "class Father(Family):\n",
    "    fathername = \"\"\n",
    " \n",
    "    def show_father(self):\n",
    "        print(self.fathername)\n",
    " \n",
    "# Mother class inherited from Family\n",
    "class Mother(Family):\n",
    "    mothername = \"\"\n",
    " \n",
    "    def show_mother(self):\n",
    "        print(self.mothername)\n",
    " \n",
    "# Son class inherited from Father and Mother classes\n",
    "class Son(Father, Mother):\n",
    "    def show_parent(self):\n",
    "        print(\"Father :\", self.fathername)\n",
    "        print(\"Mother :\", self.mothername)\n",
    " \n",
    "\n",
    "s1 = Son()  # Object of Son class\n",
    "s1.fathername = \"Mark\"\n",
    "s1.mothername = \"Sonia\"\n",
    "s1.show_family()\n",
    "s1.show_parent()"
   ]
  },
  {
   "cell_type": "code",
   "execution_count": null,
   "id": "4ba792b1",
   "metadata": {},
   "outputs": [],
   "source": []
  }
 ],
 "metadata": {
  "kernelspec": {
   "display_name": "Python 3 (ipykernel)",
   "language": "python",
   "name": "python3"
  },
  "language_info": {
   "codemirror_mode": {
    "name": "ipython",
    "version": 3
   },
   "file_extension": ".py",
   "mimetype": "text/x-python",
   "name": "python",
   "nbconvert_exporter": "python",
   "pygments_lexer": "ipython3",
   "version": "3.10.9"
  }
 },
 "nbformat": 4,
 "nbformat_minor": 5
}
