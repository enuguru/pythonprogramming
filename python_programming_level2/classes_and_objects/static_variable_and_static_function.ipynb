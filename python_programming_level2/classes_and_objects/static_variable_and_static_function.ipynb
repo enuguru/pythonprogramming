{
 "cells": [
  {
   "cell_type": "code",
   "execution_count": null,
   "id": "10984ebc",
   "metadata": {},
   "outputs": [],
   "source": [
    "# Python program to show that the variables with a value\n",
    "# assigned in class declaration, are class variables\n",
    "  \n",
    "# Class for a Computer Science Student\n",
    "class CSStudent:\n",
    "    stream = 'cse'                  # Class Variable or static variable\n",
    "    def __init__(self,name,roll):\n",
    "        self.name = name            # Instance Variable\n",
    "        self.roll = roll            # Instance Variable\n",
    "  \n",
    "# Objects of CSStudent class\n",
    "a = CSStudent('Karthik', 1)\n",
    "b = CSStudent('MeghaDharshini', 2)\n",
    "  \n",
    "print(a.stream)  # prints \"cse\"\n",
    "print(b.stream)  # prints \"cse\"\n",
    "print(a.name)    # prints \"Karthik\"\n",
    "print(b.name)    # prints \"MeghaDharshini\"\n",
    "print(a.roll)    # prints \"1\"\n",
    "print(b.roll)    # prints \"2\"\n",
    "  \n",
    "# Class variables can be accessed using class\n",
    "# name also\n",
    "print(CSStudent.stream) # prints \"cse\" "
   ]
  },
  {
   "cell_type": "code",
   "execution_count": 1,
   "id": "96529411",
   "metadata": {},
   "outputs": [
    {
     "name": "stdout",
     "output_type": "stream",
     "text": [
      "Equal\n"
     ]
    }
   ],
   "source": [
    "class datesClass:\n",
    "    def __init__(self, datearg):\n",
    "        self.date = datearg\n",
    "        \n",
    "    def getDate(self):\n",
    "        return self.date\n",
    "\n",
    "    @staticmethod #Syntatic sugar\n",
    "    def slash_to_dash(date):\n",
    "        return date.replace(\"/\", \"-\")\n",
    "\n",
    "dateobj = datesClass(\"15-12-2016\")\n",
    "dateFromDB = \"15/12/2016\"\n",
    "dateWithDash = datesClass.slash_to_dash(dateFromDB)\n",
    "\n",
    "if(dateobj.getDate() == dateWithDash):\n",
    "    print(\"Equal\")\n",
    "else:\n",
    "    print(\"Unequal\")"
   ]
  },
  {
   "cell_type": "code",
   "execution_count": null,
   "id": "331616cd",
   "metadata": {},
   "outputs": [],
   "source": []
  }
 ],
 "metadata": {
  "kernelspec": {
   "display_name": "Python 3 (ipykernel)",
   "language": "python",
   "name": "python3"
  },
  "language_info": {
   "codemirror_mode": {
    "name": "ipython",
    "version": 3
   },
   "file_extension": ".py",
   "mimetype": "text/x-python",
   "name": "python",
   "nbconvert_exporter": "python",
   "pygments_lexer": "ipython3",
   "version": "3.10.9"
  }
 },
 "nbformat": 4,
 "nbformat_minor": 5
}
