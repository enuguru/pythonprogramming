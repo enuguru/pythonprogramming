{
 "cells": [
  {
   "cell_type": "code",
   "execution_count": null,
   "id": "194f7517",
   "metadata": {},
   "outputs": [],
   "source": [
    "class Test:\n",
    "    print(object)\n",
    "    pass\n",
    "\n",
    "t = Test()\n",
    "\n",
    "t.x = 10   # here you're building your object t\n",
    "print(t.x)"
   ]
  },
  {
   "cell_type": "code",
   "execution_count": null,
   "id": "2fb91773",
   "metadata": {},
   "outputs": [],
   "source": [
    "class Test:\n",
    "    def __init__(self):\n",
    "        self.x = 10\n",
    "\n",
    "t = Test()\n",
    "print(t.x)"
   ]
  },
  {
   "cell_type": "code",
   "execution_count": null,
   "id": "45ae0795",
   "metadata": {},
   "outputs": [],
   "source": [
    "class Test:\n",
    "    def __init__(self, x):\n",
    "        self.x = x\n",
    "        print(self)\n",
    "\n",
    "t = Test(10)\n",
    "print(t.x)\n",
    "\n",
    "z = Test(20)\n",
    "print(z.x)"
   ]
  },
  {
   "cell_type": "code",
   "execution_count": null,
   "id": "e9aec173",
   "metadata": {},
   "outputs": [],
   "source": [
    "class MyClass(object):\n",
    "    i = 123\n",
    "    def __init__(self):\n",
    "        self.i = 345\n",
    "     \n",
    "a = MyClass()\n",
    "print(a.i)\n",
    "print(MyClass.i)"
   ]
  },
  {
   "cell_type": "code",
   "execution_count": null,
   "id": "e97c89d6",
   "metadata": {},
   "outputs": [],
   "source": [
    "class Hifriend:\n",
    "\n",
    "    # default constructor\n",
    "    def __init__(self):\n",
    "        self.friend = \"Hello friends\"\n",
    "\n",
    "    # a method for printing data members\n",
    "    def print_friend(self):\n",
    "        print(self.friend)\n",
    "\n",
    "\n",
    "# creating object of the class\n",
    "obj = Hifriend()\n",
    "\n",
    "# calling the instance method using the object obj\n",
    "obj.print_friend()\n"
   ]
  },
  {
   "cell_type": "code",
   "execution_count": null,
   "id": "4f4631f0",
   "metadata": {},
   "outputs": [],
   "source": [
    "class Addition:\n",
    "    first = 0\n",
    "    second = 0\n",
    "    answer = 0\n",
    "    \n",
    "    # parameterized constructor\n",
    "    def __init__(self, f, s):\n",
    "        self.first = f\n",
    "        self.second = s\n",
    "    \n",
    "    def display(self):\n",
    "        print(\"First number = \" + str(self.first))\n",
    "        print(\"Second number = \" + str(self.second))\n",
    "        print(\"Addition of two numbers = \" + str(self.answer))\n",
    "\n",
    "    def calculate(self):\n",
    "        self.answer = self.first + self.second\n",
    "\n",
    "# creating object of the class\n",
    "# this will invoke parameterized constructor\n",
    "obj = Addition(1000, 2000)\n",
    "\n",
    "# perform Addition\n",
    "obj.calculate()\n",
    "\n",
    "# display result\n",
    "obj.display()"
   ]
  },
  {
   "cell_type": "code",
   "execution_count": 6,
   "id": "dd0f9f75",
   "metadata": {},
   "outputs": [
    {
     "name": "stdout",
     "output_type": "stream",
     "text": [
      "<__main__.Employee object at 0x000001A7C25F6920>\n",
      "Employee created.\n",
      "<__main__.Employee object at 0x000001A7C25F7AF0>\n",
      "Destructor called, Employee deleted.\n"
     ]
    }
   ],
   "source": [
    "# Python program to illustrate destructor\n",
    "class Employee:\n",
    "\n",
    "    # Initializing\n",
    "    def __init__(self):\n",
    "        print(self)\n",
    "        print('Employee created.')\n",
    "\n",
    "    # Deleting (Calling destructor)\n",
    "    def __del__(self):\n",
    "        print(self)\n",
    "        print('Destructor called, Employee deleted.')\n",
    "\n",
    "obj = Employee()\n",
    "#del obj\n"
   ]
  },
  {
   "cell_type": "code",
   "execution_count": null,
   "id": "7a86d225",
   "metadata": {},
   "outputs": [],
   "source": [
    "# Python program to illustrate destructor\n",
    "\n",
    "class Employee:\n",
    "\n",
    "    # Initializing\n",
    "    def __init__(self):\n",
    "        self.x = 10\n",
    "        print('Employee created')\n",
    "\n",
    "    # Calling destructor\n",
    "    def __del__(self):\n",
    "        print(\"Destructor called\")\n",
    "\n",
    "def Create_obj():\n",
    "    print('Making Object...')\n",
    "    obj = Employee()\n",
    "    print('function end...')\n",
    "    return obj\n",
    "\n",
    "print('Calling Create_obj() function...')\n",
    "obj = Create_obj()\n",
    "print(obj)\n",
    "print('Program End...')\n",
    "print(obj.x)\n"
   ]
  },
  {
   "cell_type": "code",
   "execution_count": null,
   "id": "f93da8c7",
   "metadata": {},
   "outputs": [],
   "source": []
  }
 ],
 "metadata": {
  "kernelspec": {
   "display_name": "Python 3 (ipykernel)",
   "language": "python",
   "name": "python3"
  },
  "language_info": {
   "codemirror_mode": {
    "name": "ipython",
    "version": 3
   },
   "file_extension": ".py",
   "mimetype": "text/x-python",
   "name": "python",
   "nbconvert_exporter": "python",
   "pygments_lexer": "ipython3",
   "version": "3.10.9"
  }
 },
 "nbformat": 4,
 "nbformat_minor": 5
}
