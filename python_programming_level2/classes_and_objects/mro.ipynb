{
 "cells": [
  {
   "cell_type": "code",
   "execution_count": null,
   "metadata": {},
   "outputs": [],
   "source": [
    "# Python program to show the order in which methods are resolved\n",
    "\n",
    "class A:\n",
    "    def rk(self):\n",
    "        print(\" In class A\")\n",
    "        \n",
    "class newA(A):\n",
    "    def rk(self):\n",
    "        print(\" In class newA\")\n",
    "\n",
    "#class B:\n",
    "#    def rk(self):\n",
    "#        print(\" In class B\")\n",
    "\n",
    "# classes ordering\n",
    "class C(newA):\n",
    "    def __init__(self):\n",
    "        print(\"Constructor C\")\n",
    "\n",
    "robj = C()\n",
    "\n",
    "# it prints the lookup order\n",
    "print(C.__mro__)\n",
    "print(C.mro())"
   ]
  },
  {
   "cell_type": "code",
   "execution_count": 2,
   "metadata": {},
   "outputs": [
    {
     "name": "stdout",
     "output_type": "stream",
     "text": [
      "Constructor C\n",
      "(<class '__main__.C'>, <class '__main__.B'>, <class '__main__.newA'>, <class '__main__.A'>, <class 'object'>)\n"
     ]
    }
   ],
   "source": [
    "# Python program to show the order in which methods are resolved\n",
    "\n",
    "class A:\n",
    "    def rk(self):\n",
    "        print(\" In class A\")\n",
    "        \n",
    "class newA(A):\n",
    "    def rk(self):\n",
    "        print(\" In class newA\")\n",
    "\n",
    "class B:\n",
    "    def rk(self):\n",
    "        print(\" In class B\")\n",
    "        \n",
    "# classes ordering\n",
    "class C(B,newA):\n",
    "    def __init__(self):\n",
    "        print(\"Constructor C\")\n",
    "\n",
    "r = C()\n",
    "\n",
    "# it prints the lookup order\n",
    "print(C.__mro__)\n",
    "#print(C.mro())\n"
   ]
  },
  {
   "cell_type": "code",
   "execution_count": null,
   "metadata": {},
   "outputs": [],
   "source": []
  }
 ],
 "metadata": {
  "kernelspec": {
   "display_name": "Python 3 (ipykernel)",
   "language": "python",
   "name": "python3"
  },
  "language_info": {
   "codemirror_mode": {
    "name": "ipython",
    "version": 3
   },
   "file_extension": ".py",
   "mimetype": "text/x-python",
   "name": "python",
   "nbconvert_exporter": "python",
   "pygments_lexer": "ipython3",
   "version": "3.9.7"
  }
 },
 "nbformat": 4,
 "nbformat_minor": 2
}
