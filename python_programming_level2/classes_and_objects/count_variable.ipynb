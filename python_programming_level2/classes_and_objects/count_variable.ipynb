{
 "cells": [
  {
   "cell_type": "code",
   "execution_count": 29,
   "id": "fd91b247",
   "metadata": {},
   "outputs": [
    {
     "name": "stdout",
     "output_type": "stream",
     "text": [
      "43\n",
      "43\n",
      "43\n",
      "67\n",
      "100\n",
      "43\n"
     ]
    }
   ],
   "source": [
    "class newexample:\n",
    "    newvar = 43 # Access through class\n",
    "\n",
    "print (newexample.newvar) # Gives 43\n",
    "\n",
    "#Access through an instance\n",
    "instanceone = newexample()\n",
    "print(instanceone.newvar) #Again gives 43\n",
    "\n",
    "instancetwo = newexample()\n",
    "print(instancetwo.newvar) #Again gives 43\n",
    "\n",
    "#Change within an instance\n",
    "instanceone.newvar = 67\n",
    "instancetwo.newvar = 100\n",
    "print(instanceone.newvar) # Gives 67\n",
    "print(instancetwo.newvar)\n",
    "print(newexample.newvar) #Gives 43"
   ]
  },
  {
   "cell_type": "code",
   "execution_count": 26,
   "id": "3b36ef57",
   "metadata": {},
   "outputs": [
    {
     "name": "stdout",
     "output_type": "stream",
     "text": [
      "1\n",
      "instance created\n",
      "1\n",
      "\n",
      "1\n",
      "instance created\n",
      "2\n",
      "\n",
      "1\n",
      "instance created\n",
      "3\n",
      "\n",
      "0\n",
      "3\n",
      "\n"
     ]
    }
   ],
   "source": [
    "class newexample:\n",
    "    printercount = 0 # Access through class\n",
    "    \n",
    "    @staticmethod\n",
    "    def check_count():\n",
    "        if newexample.printercount < 3:\n",
    "            return 1\n",
    "        else:\n",
    "            return 0\n",
    "\n",
    "#Access through an instance\n",
    "check = newexample.check_count()\n",
    "print(check)\n",
    "if check:\n",
    "    instance = newexample()\n",
    "    newexample.printercount = newexample.printercount + 1\n",
    "    print(\"instance created\")\n",
    "print(newexample.printercount,end=\"\\n\\n\")\n",
    "\n",
    "check = newexample.check_count()\n",
    "print(check)\n",
    "if check:\n",
    "    instance = newexample()\n",
    "    newexample.printercount = newexample.printercount + 1\n",
    "    print(\"instance created\")\n",
    "print(newexample.printercount,end=\"\\n\\n\")\n",
    "\n",
    "check = newexample.check_count()\n",
    "print(check)\n",
    "if check:\n",
    "    instance = newexample()\n",
    "    newexample.printercount = newexample.printercount + 1\n",
    "    print(\"instance created\")\n",
    "print(newexample.printercount,end=\"\\n\\n\")\n",
    "\n",
    "check = newexample.check_count()\n",
    "print(check)\n",
    "if check:\n",
    "    instance = newexample()\n",
    "    newexample.printercount = newexample.printercount + 1\n",
    "    print(\"instance created\")\n",
    "print(newexample.printercount,end=\"\\n\\n\")\n"
   ]
  },
  {
   "cell_type": "code",
   "execution_count": null,
   "id": "32925467",
   "metadata": {},
   "outputs": [],
   "source": []
  }
 ],
 "metadata": {
  "kernelspec": {
   "display_name": "Python 3 (ipykernel)",
   "language": "python",
   "name": "python3"
  },
  "language_info": {
   "codemirror_mode": {
    "name": "ipython",
    "version": 3
   },
   "file_extension": ".py",
   "mimetype": "text/x-python",
   "name": "python",
   "nbconvert_exporter": "python",
   "pygments_lexer": "ipython3",
   "version": "3.10.9"
  }
 },
 "nbformat": 4,
 "nbformat_minor": 5
}
