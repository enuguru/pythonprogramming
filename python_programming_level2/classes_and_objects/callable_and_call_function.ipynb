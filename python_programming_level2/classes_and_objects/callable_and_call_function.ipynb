{
 "cells": [
  {
   "cell_type": "code",
   "execution_count": 1,
   "id": "43d7eaf3",
   "metadata": {},
   "outputs": [
    {
     "name": "stdout",
     "output_type": "stream",
     "text": [
      "Now constructor is getting called\n",
      "This is the print statement in the __call__ function which is called\n",
      "Now constructor is getting called\n",
      "This is the print statement in the __call__ function which is called\n",
      "This is new function\n"
     ]
    }
   ],
   "source": [
    "class Foo:\n",
    "\n",
    "  def __init__(self):\n",
    "      print(\"Now constructor is getting called\")\n",
    "\n",
    "  def __call__(self):  # dunder method or magic method\n",
    "    print('This is the print statement in the __call__ function which is called')\n",
    "\n",
    "foo_instance = Foo()\n",
    "#print(foo_instance)\n",
    "foo_instance() #this is calling the __call__ method\n",
    "\n",
    "\n",
    "Foo()()\n",
    "\n",
    "\n",
    "def newfunc():\n",
    "    print(\"This is new function\")\n",
    "\n",
    "newfunc()\n"
   ]
  },
  {
   "cell_type": "code",
   "execution_count": null,
   "id": "692a46b8",
   "metadata": {},
   "outputs": [],
   "source": []
  }
 ],
 "metadata": {
  "kernelspec": {
   "display_name": "Python 3 (ipykernel)",
   "language": "python",
   "name": "python3"
  },
  "language_info": {
   "codemirror_mode": {
    "name": "ipython",
    "version": 3
   },
   "file_extension": ".py",
   "mimetype": "text/x-python",
   "name": "python",
   "nbconvert_exporter": "python",
   "pygments_lexer": "ipython3",
   "version": "3.10.9"
  }
 },
 "nbformat": 4,
 "nbformat_minor": 5
}
