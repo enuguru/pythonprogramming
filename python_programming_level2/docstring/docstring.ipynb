{
 "cells": [
  {
   "cell_type": "raw",
   "id": "bb09f890",
   "metadata": {},
   "source": [
    "https://peps.python.org/pep-0257/\n",
    "Python Enhancement Proposals - PEP 257 – Docstring Conventions\n",
    "From Python documentation\n",
    "Reference for the below code given above"
   ]
  },
  {
   "cell_type": "code",
   "execution_count": 1,
   "id": "5fd4c223",
   "metadata": {},
   "outputs": [],
   "source": [
    "def Complex(real=0.0, imag=0.0):\n",
    "    '''Form a complex number\n",
    "\n",
    "    Keyword arguments:\n",
    "    real -- the real part (default 0.0)\n",
    "    imag -- the imaginary part (default 0.0)\n",
    "    '''\n",
    "    if imag == 0.0 and real == 0.0:\n",
    "        return complex_zero"
   ]
  },
  {
   "cell_type": "code",
   "execution_count": 2,
   "id": "36be1811",
   "metadata": {},
   "outputs": [
    {
     "name": "stdout",
     "output_type": "stream",
     "text": [
      "Help on function Complex in module __main__:\n",
      "\n",
      "Complex(real=0.0, imag=0.0)\n",
      "    Form a complex number\n",
      "    \n",
      "    Keyword arguments:\n",
      "    real -- the real part (default 0.0)\n",
      "    imag -- the imaginary part (default 0.0)\n",
      "\n"
     ]
    }
   ],
   "source": [
    "help(Complex)"
   ]
  },
  {
   "cell_type": "code",
   "execution_count": 3,
   "id": "0e3325f0",
   "metadata": {},
   "outputs": [
    {
     "name": "stdout",
     "output_type": "stream",
     "text": [
      "Form a complex number\n",
      "\n",
      "    Keyword arguments:\n",
      "    real -- the real part (default 0.0)\n",
      "    imag -- the imaginary part (default 0.0)\n",
      "    \n"
     ]
    }
   ],
   "source": [
    "print(Complex.__doc__)"
   ]
  },
  {
   "cell_type": "code",
   "execution_count": 4,
   "id": "da1206fc",
   "metadata": {},
   "outputs": [],
   "source": [
    "class Calculator:\n",
    "    \"\"\"This class contains different functions to perform most  \n",
    "    commonly used mathematical operations between two numbers\n",
    "     \n",
    "    oldsum : Integer\n",
    "        Stores the value of the previous operation\"\"\"\n",
    " \n",
    "    def __init__(self):\n",
    "        \"\"\"Initializes the attributes of the class\"\"\"\n",
    "        self.oldsum = 0\n",
    "        \n",
    "    def addtwonumbers(self,num1, num2):\n",
    "        \"\"\"This function takes two integers and returns their sum\"\"\"\n",
    "        print(self.oldsum)\n",
    "        return num1 + num2\n",
    " \n",
    "    def multiplytwonumbers(self, num1, num2):\n",
    "        \"\"\"This function takes two integers and returns their product\"\"\"\n",
    "        return num1 * num2"
   ]
  },
  {
   "cell_type": "code",
   "execution_count": 5,
   "id": "a98d1ceb",
   "metadata": {},
   "outputs": [
    {
     "name": "stdout",
     "output_type": "stream",
     "text": [
      "0\n"
     ]
    },
    {
     "data": {
      "text/plain": [
       "30"
      ]
     },
     "execution_count": 5,
     "metadata": {},
     "output_type": "execute_result"
    }
   ],
   "source": [
    "calcnew = Calculator()\n",
    "calcnew.addtwonumbers(10,20)"
   ]
  },
  {
   "cell_type": "code",
   "execution_count": 6,
   "id": "efa0b7d0",
   "metadata": {},
   "outputs": [
    {
     "name": "stdout",
     "output_type": "stream",
     "text": [
      "Help on class Calculator in module __main__:\n",
      "\n",
      "class Calculator(builtins.object)\n",
      " |  This class contains different functions to perform most  \n",
      " |  commonly used mathematical operations between two numbers\n",
      " |   \n",
      " |  oldsum : Integer\n",
      " |      Stores the value of the previous operation\n",
      " |  \n",
      " |  Methods defined here:\n",
      " |  \n",
      " |  __init__(self)\n",
      " |      Initializes the attributes of the class\n",
      " |  \n",
      " |  addtwonumbers(self, num1, num2)\n",
      " |      This function takes two integers and returns their sum\n",
      " |  \n",
      " |  multiplytwonumbers(self, num1, num2)\n",
      " |      This function takes two integers and returns their product\n",
      " |  \n",
      " |  ----------------------------------------------------------------------\n",
      " |  Data descriptors defined here:\n",
      " |  \n",
      " |  __dict__\n",
      " |      dictionary for instance variables (if defined)\n",
      " |  \n",
      " |  __weakref__\n",
      " |      list of weak references to the object (if defined)\n",
      "\n"
     ]
    }
   ],
   "source": [
    "help(Calculator)"
   ]
  },
  {
   "cell_type": "code",
   "execution_count": 7,
   "id": "281c0697",
   "metadata": {},
   "outputs": [
    {
     "name": "stdout",
     "output_type": "stream",
     "text": [
      "This class contains different functions to perform most  \n",
      "    commonly used mathematical operations between two numbers\n",
      "     \n",
      "    oldsum : Integer\n",
      "        Stores the value of the previous operation\n"
     ]
    }
   ],
   "source": [
    "print(Calculator.__doc__)"
   ]
  },
  {
   "cell_type": "code",
   "execution_count": 8,
   "id": "ede23c7e",
   "metadata": {},
   "outputs": [
    {
     "name": "stdout",
     "output_type": "stream",
     "text": [
      "Help on function __init__ in module __main__:\n",
      "\n",
      "__init__(self)\n",
      "    Initializes the attributes of the class\n",
      "\n"
     ]
    }
   ],
   "source": [
    "help(Calculator.__init__)"
   ]
  },
  {
   "cell_type": "code",
   "execution_count": 9,
   "id": "4925f582",
   "metadata": {},
   "outputs": [
    {
     "name": "stdout",
     "output_type": "stream",
     "text": [
      "Initializes the attributes of the class\n"
     ]
    }
   ],
   "source": [
    "print(Calculator.__init__.__doc__)"
   ]
  },
  {
   "cell_type": "code",
   "execution_count": 10,
   "id": "65246805",
   "metadata": {},
   "outputs": [
    {
     "name": "stdout",
     "output_type": "stream",
     "text": [
      "Help on function addtwonumbers in module __main__:\n",
      "\n",
      "addtwonumbers(self, num1, num2)\n",
      "    This function takes two integers and returns their sum\n",
      "\n"
     ]
    }
   ],
   "source": [
    "help(Calculator.addtwonumbers)"
   ]
  },
  {
   "cell_type": "code",
   "execution_count": 11,
   "id": "6aafb0c0",
   "metadata": {},
   "outputs": [
    {
     "name": "stdout",
     "output_type": "stream",
     "text": [
      "This function takes two integers and returns their sum\n"
     ]
    }
   ],
   "source": [
    "print(Calculator.addtwonumbers.__doc__)"
   ]
  },
  {
   "cell_type": "code",
   "execution_count": 12,
   "id": "f1746e42",
   "metadata": {},
   "outputs": [
    {
     "name": "stdout",
     "output_type": "stream",
     "text": [
      "Help on function multiplytwonumbers in module __main__:\n",
      "\n",
      "multiplytwonumbers(self, num1, num2)\n",
      "    This function takes two integers and returns their product\n",
      "\n"
     ]
    }
   ],
   "source": [
    "help(Calculator.multiplytwonumbers)"
   ]
  },
  {
   "cell_type": "code",
   "execution_count": 13,
   "id": "dc5cdbb1",
   "metadata": {},
   "outputs": [
    {
     "name": "stdout",
     "output_type": "stream",
     "text": [
      "This function takes two integers and returns their product\n"
     ]
    }
   ],
   "source": [
    "print(Calculator.multiplytwonumbers.__doc__)"
   ]
  },
  {
   "cell_type": "code",
   "execution_count": 14,
   "id": "a8a6ef07",
   "metadata": {},
   "outputs": [
    {
     "name": "stdout",
     "output_type": "stream",
     "text": [
      "Help on package packageone:\n",
      "\n",
      "NAME\n",
      "    packageone\n",
      "\n",
      "PACKAGE CONTENTS\n",
      "    init\n",
      "    module_one\n",
      "\n",
      "FILE\n",
      "    (built-in)\n",
      "\n",
      "\n"
     ]
    }
   ],
   "source": [
    "import packageone\n",
    "help(packageone)"
   ]
  },
  {
   "cell_type": "code",
   "execution_count": null,
   "id": "99c900e3",
   "metadata": {},
   "outputs": [],
   "source": []
  }
 ],
 "metadata": {
  "kernelspec": {
   "display_name": "Python 3 (ipykernel)",
   "language": "python",
   "name": "python3"
  },
  "language_info": {
   "codemirror_mode": {
    "name": "ipython",
    "version": 3
   },
   "file_extension": ".py",
   "mimetype": "text/x-python",
   "name": "python",
   "nbconvert_exporter": "python",
   "pygments_lexer": "ipython3",
   "version": "3.10.9"
  }
 },
 "nbformat": 4,
 "nbformat_minor": 5
}
