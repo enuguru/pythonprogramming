{
 "cells": [
  {
   "cell_type": "code",
   "execution_count": null,
   "id": "b055d3de",
   "metadata": {},
   "outputs": [],
   "source": [
    "S = [['him', 'sell'], [90, 28, 43]]\n",
    "S[0][1][1]"
   ]
  },
  {
   "cell_type": "code",
   "execution_count": null,
   "id": "da6530de",
   "metadata": {},
   "outputs": [],
   "source": [
    "[(a,b) for a in range(3)  for b in range(a)  ]"
   ]
  },
  {
   "cell_type": "code",
   "execution_count": null,
   "id": "5d40b6a2",
   "metadata": {},
   "outputs": [],
   "source": [
    "a = 0\n",
    "while a<10:\n",
    "     print(\"Hi How are you doing\")\n",
    "     pass"
   ]
  },
  {
   "cell_type": "code",
   "execution_count": null,
   "id": "3ee4a056",
   "metadata": {},
   "outputs": [],
   "source": [
    "def total(initial = 5, *num, **key):\n",
    "   count = initial\n",
    "   for n in num:\n",
    "      count+=n\n",
    "   for k in key:\n",
    "      count+=key[k]\n",
    "   return count\n",
    "print(total(100,2,3, clouds=50, stars=100))"
   ]
  },
  {
   "cell_type": "code",
   "execution_count": null,
   "id": "d0c77c61",
   "metadata": {},
   "outputs": [],
   "source": [
    "min(\"hello world\")"
   ]
  },
  {
   "cell_type": "code",
   "execution_count": null,
   "id": "99a2443f",
   "metadata": {},
   "outputs": [],
   "source": [
    "class Demo: \n",
    "   def __init__(self,d): \n",
    "      self.d=d \n",
    "   def print(self): \n",
    "      print(d)  \n",
    "a = Demo(\"Hello\") \n",
    "a.print()"
   ]
  },
  {
   "cell_type": "code",
   "execution_count": null,
   "id": "87c9f108",
   "metadata": {},
   "outputs": [],
   "source": [
    "def rev_func(x,length):\n",
    "    if length >= 1:\n",
    "        print(x[length-1],end=\" \")\n",
    "        rev_func(x,length-1)\n",
    "\n",
    "x=[11, 12, 13, 14, 15] \n",
    "rev_func(x,5)"
   ]
  },
  {
   "cell_type": "code",
   "execution_count": null,
   "id": "b640bba4",
   "metadata": {},
   "outputs": [],
   "source": [
    "def rev_func(x,length): \n",
    "   if length >= 1:\n",
    "      print(x[length-1],end=\" \") \n",
    "      rev_func(x,length-1)\n",
    "\n",
    "x=[11, 12, 13, 14, 15] \n",
    "rev_func(x,5)"
   ]
  },
  {
   "cell_type": "code",
   "execution_count": null,
   "id": "157f7619",
   "metadata": {},
   "outputs": [],
   "source": [
    "var = 10\n",
    "print(type(var))\n",
    "var = \"Hello\"\n",
    "print(type(var))"
   ]
  },
  {
   "cell_type": "code",
   "execution_count": null,
   "id": "7c269e17",
   "metadata": {},
   "outputs": [],
   "source": [
    "print(type(1/2))"
   ]
  },
  {
   "cell_type": "code",
   "execution_count": null,
   "id": "64c71dfa",
   "metadata": {},
   "outputs": [],
   "source": []
  }
 ],
 "metadata": {
  "kernelspec": {
   "display_name": "Python 3 (ipykernel)",
   "language": "python",
   "name": "python3"
  },
  "language_info": {
   "codemirror_mode": {
    "name": "ipython",
    "version": 3
   },
   "file_extension": ".py",
   "mimetype": "text/x-python",
   "name": "python",
   "nbconvert_exporter": "python",
   "pygments_lexer": "ipython3",
   "version": "3.9.7"
  }
 },
 "nbformat": 4,
 "nbformat_minor": 5
}
