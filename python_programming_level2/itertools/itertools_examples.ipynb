{
 "cells": [
  {
   "cell_type": "code",
   "execution_count": 3,
   "id": "e8e87f55",
   "metadata": {},
   "outputs": [
    {
     "name": "stdout",
     "output_type": "stream",
     "text": [
      "Which movie did you see of late Which movie did you see of late Which movie did you see of late "
     ]
    }
   ],
   "source": [
    "# Python program to show infinite iterators\n",
    "\n",
    "import itertools\n",
    "\n",
    "l = [\"Which\", \"movie\", \"did\", \"you\", \"see\", \"of\", \"late\"]\n",
    "\n",
    "# defining iterator\n",
    "iterators = itertools.cycle(l)\n",
    "\n",
    "for i in range(21):\n",
    "    print(next(iterators), end = \" \")"
   ]
  },
  {
   "cell_type": "code",
   "execution_count": 4,
   "id": "76fea2c1",
   "metadata": {},
   "outputs": [],
   "source": [
    "import itertools\n",
    "import matplotlib.pyplot as plt\n",
    "import seaborn as sns\n",
    "import numpy as np"
   ]
  },
  {
   "cell_type": "code",
   "execution_count": 5,
   "id": "d08915da",
   "metadata": {},
   "outputs": [
    {
     "name": "stdout",
     "output_type": "stream",
     "text": [
      "[('Alice', 'Bob'), ('Alice', 'Charlie'), ('Alice', 'Dora'), ('Alice', 'Evgenia'), ('Alice', 'Farhat'), ('Bob', 'Charlie'), ('Bob', 'Dora'), ('Bob', 'Evgenia'), ('Bob', 'Farhat'), ('Charlie', 'Dora'), ('Charlie', 'Evgenia'), ('Charlie', 'Farhat'), ('Dora', 'Evgenia'), ('Dora', 'Farhat'), ('Evgenia', 'Farhat')]\n",
      "15\n"
     ]
    }
   ],
   "source": [
    "names = [\"Alice\", \"Bob\", \"Charlie\", \"Dora\", \"Evgenia\", \"Farhat\"]\n",
    "print(list(itertools.combinations(names, 2)))\n",
    "print(len(list(itertools.combinations(names, 2))))"
   ]
  },
  {
   "cell_type": "code",
   "execution_count": 6,
   "id": "e4857500",
   "metadata": {},
   "outputs": [
    {
     "name": "stdout",
     "output_type": "stream",
     "text": [
      "[('Alice', 'Bob'), ('Alice', 'Charlie'), ('Alice', 'Dora'), ('Alice', 'Evgenia'), ('Alice', 'Farhat'), ('Bob', 'Alice'), ('Bob', 'Charlie'), ('Bob', 'Dora'), ('Bob', 'Evgenia'), ('Bob', 'Farhat'), ('Charlie', 'Alice'), ('Charlie', 'Bob'), ('Charlie', 'Dora'), ('Charlie', 'Evgenia'), ('Charlie', 'Farhat'), ('Dora', 'Alice'), ('Dora', 'Bob'), ('Dora', 'Charlie'), ('Dora', 'Evgenia'), ('Dora', 'Farhat'), ('Evgenia', 'Alice'), ('Evgenia', 'Bob'), ('Evgenia', 'Charlie'), ('Evgenia', 'Dora'), ('Evgenia', 'Farhat'), ('Farhat', 'Alice'), ('Farhat', 'Bob'), ('Farhat', 'Charlie'), ('Farhat', 'Dora'), ('Farhat', 'Evgenia')]\n",
      "30\n"
     ]
    }
   ],
   "source": [
    "names = [\"Alice\", \"Bob\", \"Charlie\", \"Dora\", \"Evgenia\", \"Farhat\"]\n",
    "print(list(itertools.permutations(names, 2)))\n",
    "print(len(list(itertools.permutations(names, 2))))"
   ]
  },
  {
   "cell_type": "code",
   "execution_count": 7,
   "id": "f1353bb5",
   "metadata": {},
   "outputs": [
    {
     "name": "stdout",
     "output_type": "stream",
     "text": [
      "52\n"
     ]
    }
   ],
   "source": [
    "values = [\"Ace\", \"2\", \"3\", \"4\", \"5\", \"6\", \"7\", \"8\", \"9\", \"10\", \"Jack\", \"Queen\", \"King\"]\n",
    "suits = [\"Hearts\", \"Diamonds\", \"Clubs\", \"Spades\"]\n",
    "print(len(list(itertools.product(values, suits))))"
   ]
  },
  {
   "cell_type": "code",
   "execution_count": 8,
   "id": "57eb4db5",
   "metadata": {},
   "outputs": [
    {
     "name": "stdout",
     "output_type": "stream",
     "text": [
      "english_train.txt\n",
      "english_test.txt\n",
      "english_validation.txt\n",
      "spanish_train.txt\n",
      "spanish_test.txt\n",
      "spanish_validation.txt\n",
      "arabic_train.txt\n",
      "arabic_test.txt\n",
      "arabic_validation.txt\n",
      "chinese_train.txt\n",
      "chinese_test.txt\n",
      "chinese_validation.txt\n",
      "japanese_train.txt\n",
      "japanese_test.txt\n",
      "japanese_validation.txt\n"
     ]
    }
   ],
   "source": [
    "datasets = [\"english\", \"spanish\", \"arabic\", \"chinese\", \"japanese\"]\n",
    "splits = [\"train\", \"test\", \"validation\"]\n",
    "for dataset, split in itertools.product(datasets, splits):\n",
    "    print(f\"{dataset}_{split}.txt\")"
   ]
  },
  {
   "cell_type": "code",
   "execution_count": 9,
   "id": "febe373c",
   "metadata": {},
   "outputs": [],
   "source": [
    "original_list = np.random.randint(0, 100, (100,))\n",
    "cumulative_list = list(itertools.accumulate(original_list))\n",
    "def query(i, j):\n",
    "    return cumulative_list[j] - cumulative_list[i]"
   ]
  },
  {
   "cell_type": "code",
   "execution_count": 10,
   "id": "35fba53c",
   "metadata": {},
   "outputs": [
    {
     "data": {
      "text/plain": [
       "{'Alice': 'Default',\n",
       " 'Bob': 'Default',\n",
       " 'Charlie': 'Default',\n",
       " 'Dora': 'Default',\n",
       " 'Evgenia': 'Default',\n",
       " 'Farhat': 'Default'}"
      ]
     },
     "execution_count": 10,
     "metadata": {},
     "output_type": "execute_result"
    }
   ],
   "source": [
    "names = [\"Alice\", \"Bob\", \"Charlie\", \"Dora\", \"Evgenia\", \"Farhat\"]\n",
    "names_dict = dict(zip(names, itertools.repeat(\"Default\")))\n",
    "names_dict"
   ]
  },
  {
   "cell_type": "code",
   "execution_count": null,
   "id": "de9abde4",
   "metadata": {},
   "outputs": [],
   "source": [
    "a = [1,2,3]  \n",
    "b= ['a', 'b', 'c']  \n",
    "c = zip(a,b)  \n",
    "for i in c:\n",
    "    print(i)"
   ]
  },
  {
   "cell_type": "code",
   "execution_count": null,
   "id": "7a6a0422",
   "metadata": {},
   "outputs": [],
   "source": [
    "temps = [70, 69, 69, 58, 55, 68, 81, 90, 89, 88, 75, 76, 74]\n",
    "diffs = list(itertools.starmap(np.subtract, zip(temps[1:], temps[:-1])))\n",
    "data = {\"x\": list(range(len(diffs))), \"y\": diffs}\n",
    "sns.barplot(data=data, x=\"x\", y=\"y\")"
   ]
  },
  {
   "cell_type": "code",
   "execution_count": null,
   "id": "67a2b9a7",
   "metadata": {},
   "outputs": [],
   "source": [
    "x = np.linspace(0, 10, 100)\n",
    "y = np.sin(x)              \n",
    "diffs = list(itertools.starmap(lambda x, y: (x-y)/0.1, zip(y[1:], y[:-1]))) # this list is one shorter than the original list\n",
    "sns.lineplot(x=x, y=y)\n",
    "sns.lineplot(x=x[:-1], y=diffs)"
   ]
  },
  {
   "cell_type": "code",
   "execution_count": null,
   "id": "13e9e4b5",
   "metadata": {},
   "outputs": [],
   "source": [
    "from itertools import takewhile\n",
    "\n",
    "# function to check whether number is even\n",
    "def even_nos(x):\n",
    "    return(x % 2 == 0)\n",
    "\n",
    "# iterable (list)\n",
    "newlist =[0, 2, 4, 8, 22, 34, 6, 67]\n",
    "\n",
    "# output list\n",
    "yourlist = list(takewhile(even_nos, newlist))\n",
    "\n",
    "print(yourlist)\n",
    "\n",
    "# iterable (list)\n",
    "newlist =[0, 2, 4, 8, 33, 22, 34, 6, 67]\n",
    "\n",
    "# output list\n",
    "yourlist = list(takewhile(even_nos, newlist))\n",
    "\n",
    "print(yourlist)"
   ]
  },
  {
   "cell_type": "code",
   "execution_count": null,
   "id": "1b7d74e1",
   "metadata": {},
   "outputs": [],
   "source": [
    "import itertools\n",
    "it=itertools.takewhile(bool, [0, 1, 1, 1, 0, 0])\n",
    "for i in it:\n",
    "    print(i,end=\" \")"
   ]
  },
  {
   "cell_type": "code",
   "execution_count": null,
   "id": "6165e4e7",
   "metadata": {},
   "outputs": [],
   "source": [
    "import itertools\n",
    "it=itertools.filterfalse(bool, [0, 1, 0, 1, 0, 0])\n",
    "for i in it:\n",
    "    print(i,end=\" \")"
   ]
  },
  {
   "cell_type": "code",
   "execution_count": null,
   "id": "64edbe62",
   "metadata": {},
   "outputs": [],
   "source": [
    "import itertools\n",
    "it = itertools.dropwhile(bool, [1, 1, 1, 0, 0, 1, 0])\n",
    "for num in it:\n",
    "    print(num, end = \" \")"
   ]
  },
  {
   "cell_type": "code",
   "execution_count": null,
   "id": "acd23f74",
   "metadata": {},
   "outputs": [],
   "source": [
    "from itertools import product\n",
    "\n",
    "def cartesian_product(arr1, arr2):\n",
    "    # return the list of all the computed tuple using the product() method\n",
    "    return list(product(arr1, arr2))\n",
    "\n",
    "arr1 = [1, 2, 3]\n",
    "arr2 = [5, 6, 7]\n",
    "print(cartesian_product(arr1, arr2))"
   ]
  },
  {
   "cell_type": "code",
   "execution_count": null,
   "id": "909819ad",
   "metadata": {},
   "outputs": [],
   "source": [
    "import operator\n",
    "import time\n",
    "\n",
    "# Defining lists\n",
    "L1 = [1, 2, 3]\n",
    "L2 = [2, 3, 4]\n",
    "\n",
    "# Starting time before map function\n",
    "t1 = time.time()\n",
    "\n",
    "# Calculating result\n",
    "a, b, c = map(operator.mul, L1, L2)\n",
    "\n",
    "# Ending time after map function\n",
    "t2 = time.time()\n",
    "\n",
    "# Time taken by map function\n",
    "print(\"Result:\", a, b, c)\n",
    "print(\"Time taken by map function: %.6f\" %(t2 - t1))\n",
    "\n",
    "# Starting time before naive method\n",
    "t1 = time.time()\n",
    "\n",
    "# Calculating result using for loop\n",
    "print(\"Result:\", end = \" \")\n",
    "for i in range(3):\n",
    "    print(L1[i] * L2[i], end = \" \")\n",
    "\n",
    "# Ending time after naive method\n",
    "t2 = time.time()\n",
    "print(\"\\nTime taken by for loop: %.6f\" %(t2 - t1))"
   ]
  },
  {
   "cell_type": "code",
   "execution_count": null,
   "id": "11ddbc31",
   "metadata": {},
   "outputs": [],
   "source": [
    "# Python program to show infinite iterators\n",
    "\n",
    "import itertools\n",
    "\n",
    "for i in itertools.count(5, 5):\n",
    "    if i == 55:\n",
    "        break\n",
    "    else:\n",
    "        print(i, end =\" \")"
   ]
  },
  {
   "cell_type": "code",
   "execution_count": null,
   "id": "b8ce717b",
   "metadata": {},
   "outputs": [],
   "source": [
    "# Python program to show infinite iterators\n",
    "\n",
    "import itertools\n",
    "\n",
    "newlist = [\"This\", \"python\", \"session\", \"is\", \"interesting\"]\n",
    "iterators = itertools.cycle(newlist)\n",
    "\n",
    "for i in range(11):\n",
    "    print(next(iterators), end = \" \")"
   ]
  },
  {
   "cell_type": "code",
   "execution_count": null,
   "id": "7190eb36",
   "metadata": {},
   "outputs": [],
   "source": [
    "# Python code to show the working of repeat()\n",
    "\n",
    "# importing \"itertools\" for iterator operations\n",
    "import itertools\n",
    "\n",
    "# using repeat() to repeatedly print number\n",
    "print(\"Printing the numbers repeatedly : \")\n",
    "print(list(itertools.repeat(25, 9)))"
   ]
  },
  {
   "cell_type": "code",
   "execution_count": 6,
   "id": "a234c0e0",
   "metadata": {
    "scrolled": true
   },
   "outputs": [
    {
     "name": "stdout",
     "output_type": "stream",
     "text": [
      "The cartesian product using repeat:\n",
      "[(1, 1), (1, 2), (2, 1), (2, 2)]\n",
      "\n",
      "The cartesian product of the containers:\n",
      "[('How', '2'), ('is', '2'), ('life', '2')]\n",
      "\n",
      "The cartesian product of the containers:\n",
      "[('P', 3), ('P', 4), ('Q', 3), ('Q', 4)]\n"
     ]
    }
   ],
   "source": [
    "# import the product function from itertools module\n",
    "from itertools import product\n",
    "\n",
    "print(\"The cartesian product using repeat:\")\n",
    "print(list(product([1, 2], repeat = 2)))\n",
    "print()\n",
    "\n",
    "print(\"The cartesian product of the containers:\")\n",
    "print(list(product(['How', 'is', 'life'], '2')))\n",
    "print()\n",
    "\n",
    "print(\"The cartesian product of the containers:\")\n",
    "print(list(product('PQ', [3, 4])))\n"
   ]
  },
  {
   "cell_type": "code",
   "execution_count": null,
   "id": "312d6f6f",
   "metadata": {},
   "outputs": [],
   "source": []
  }
 ],
 "metadata": {
  "kernelspec": {
   "display_name": "Python 3 (ipykernel)",
   "language": "python",
   "name": "python3"
  },
  "language_info": {
   "codemirror_mode": {
    "name": "ipython",
    "version": 3
   },
   "file_extension": ".py",
   "mimetype": "text/x-python",
   "name": "python",
   "nbconvert_exporter": "python",
   "pygments_lexer": "ipython3",
   "version": "3.9.13"
  }
 },
 "nbformat": 4,
 "nbformat_minor": 5
}
