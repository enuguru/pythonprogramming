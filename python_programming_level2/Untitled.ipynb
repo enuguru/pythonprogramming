{
 "cells": [
  {
   "cell_type": "code",
   "execution_count": 1,
   "id": "16fdf733",
   "metadata": {},
   "outputs": [
    {
     "ename": "TypeError",
     "evalue": "'tuple' object does not support item assignment",
     "output_type": "error",
     "traceback": [
      "\u001b[1;31m---------------------------------------------------------------------------\u001b[0m",
      "\u001b[1;31mTypeError\u001b[0m                                 Traceback (most recent call last)",
      "Cell \u001b[1;32mIn[1], line 2\u001b[0m\n\u001b[0;32m      1\u001b[0m newtuple \u001b[38;5;241m=\u001b[39m (\u001b[38;5;241m45\u001b[39m,\u001b[38;5;241m67\u001b[39m,\u001b[38;5;241m89\u001b[39m)\n\u001b[1;32m----> 2\u001b[0m newtuple[\u001b[38;5;241m1\u001b[39m] \u001b[38;5;241m=\u001b[39m \u001b[38;5;241m100\u001b[39m\n",
      "\u001b[1;31mTypeError\u001b[0m: 'tuple' object does not support item assignment"
     ]
    }
   ],
   "source": [
    "newtuple = (45,67,89)\n",
    "newtuple[1] = 100"
   ]
  },
  {
   "cell_type": "code",
   "execution_count": 2,
   "id": "98e99b65",
   "metadata": {},
   "outputs": [
    {
     "name": "stdout",
     "output_type": "stream",
     "text": [
      "([45, 67, 45], [89])\n"
     ]
    }
   ],
   "source": [
    "newtuple = ([45,67],[89])\n",
    "newtuple[0].append(45)\n",
    "print(newtuple)"
   ]
  },
  {
   "cell_type": "code",
   "execution_count": 3,
   "id": "d2fd6672",
   "metadata": {},
   "outputs": [
    {
     "name": "stdout",
     "output_type": "stream",
     "text": [
      "[[45, 67, 45], [89]]\n"
     ]
    }
   ],
   "source": [
    "print(list(newtuple))"
   ]
  },
  {
   "cell_type": "code",
   "execution_count": 5,
   "id": "fcf29bc7",
   "metadata": {},
   "outputs": [
    {
     "ename": "TypeError",
     "evalue": "unhashable type: 'list'",
     "output_type": "error",
     "traceback": [
      "\u001b[1;31m---------------------------------------------------------------------------\u001b[0m",
      "\u001b[1;31mTypeError\u001b[0m                                 Traceback (most recent call last)",
      "Cell \u001b[1;32mIn[5], line 2\u001b[0m\n\u001b[0;32m      1\u001b[0m newset \u001b[38;5;241m=\u001b[39m {\u001b[38;5;241m45\u001b[39m,\u001b[38;5;241m67\u001b[39m,\u001b[38;5;241m89\u001b[39m}\n\u001b[1;32m----> 2\u001b[0m newset \u001b[38;5;241m=\u001b[39m {[\u001b[38;5;241m45\u001b[39m,\u001b[38;5;241m67\u001b[39m],[\u001b[38;5;241m89\u001b[39m]}\n\u001b[0;32m      3\u001b[0m newset\u001b[38;5;241m.\u001b[39madd(\u001b[38;5;241m67\u001b[39m)\n\u001b[0;32m      4\u001b[0m \u001b[38;5;28mprint\u001b[39m(newset)\n",
      "\u001b[1;31mTypeError\u001b[0m: unhashable type: 'list'"
     ]
    }
   ],
   "source": [
    "newset = {45,67,89}\n",
    "newset = {(45,67),(89]}\n",
    "newset.add(67)\n",
    "print(newset)"
   ]
  },
  {
   "cell_type": "code",
   "execution_count": 6,
   "id": "8848612d",
   "metadata": {},
   "outputs": [
    {
     "name": "stdout",
     "output_type": "stream",
     "text": [
      "real set {1, 2, 3}\n",
      "duplicate set {1, 2, 3}\n"
     ]
    }
   ],
   "source": [
    "rset = set()\n",
    "\n",
    "rset.add(1)\n",
    "\n",
    "rset.add(2)\n",
    "\n",
    "rset.add(3)\n",
    "\n",
    "print(\"real set\", rset)\n",
    "\n",
    "rset.add(3)\n",
    "\n",
    "print(\"duplicate set\",rset)"
   ]
  },
  {
   "cell_type": "code",
   "execution_count": null,
   "id": "50fc12d4",
   "metadata": {},
   "outputs": [],
   "source": []
  }
 ],
 "metadata": {
  "kernelspec": {
   "display_name": "Python 3 (ipykernel)",
   "language": "python",
   "name": "python3"
  },
  "language_info": {
   "codemirror_mode": {
    "name": "ipython",
    "version": 3
   },
   "file_extension": ".py",
   "mimetype": "text/x-python",
   "name": "python",
   "nbconvert_exporter": "python",
   "pygments_lexer": "ipython3",
   "version": "3.10.9"
  }
 },
 "nbformat": 4,
 "nbformat_minor": 5
}
