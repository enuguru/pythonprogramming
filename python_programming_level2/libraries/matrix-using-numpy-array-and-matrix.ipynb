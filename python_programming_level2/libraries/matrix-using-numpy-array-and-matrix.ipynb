{
 "cells": [
  {
   "cell_type": "code",
   "execution_count": 1,
   "id": "20537703",
   "metadata": {},
   "outputs": [],
   "source": [
    "import numpy"
   ]
  },
  {
   "cell_type": "code",
   "execution_count": 2,
   "id": "af74c68e",
   "metadata": {},
   "outputs": [
    {
     "name": "stdout",
     "output_type": "stream",
     "text": [
      "The matrix is: \n",
      " [['Itika' '89' '91']\n",
      " ['Aditi' '96' '82']\n",
      " ['Harry' '91' '81']\n",
      " ['Andrew' '87' '91']\n",
      " ['Peter' '72' '79']]\n"
     ]
    }
   ],
   "source": [
    "# Python program to create a matrix using numpy array  \n",
    "  \n",
    "# Importing numpy  \n",
    "import numpy as np  \n",
    "  \n",
    "# Creating the matrix  \n",
    "record = np.array( [['Itika', 89, 91],  \n",
    "                                   ['Aditi', 96, 82],  \n",
    "                                   ['Harry', 91, 81],  \n",
    "                                   ['Andrew', 87, 91],  \n",
    "                                   ['Peter', 72, 79]])  \n",
    "  \n",
    "matrix = np.reshape(record, (5,3))  \n",
    "print(\"The matrix is: \\n\", matrix)  "
   ]
  },
  {
   "cell_type": "code",
   "execution_count": 3,
   "id": "60d3eef6",
   "metadata": {},
   "outputs": [
    {
     "name": "stdout",
     "output_type": "stream",
     "text": [
      "The sum of the matrices is =  [[27, 46, 11], [49, 17, 21], [23, 8, 17]]\n"
     ]
    }
   ],
   "source": [
    "# Python program to add two matrices without using numpy  \n",
    "  \n",
    "# Creating matrices in the form of nested lists  \n",
    "matrix1 = [[23, 43, 12],     \n",
    "           [43, 13, 55],     \n",
    "           [23, 12, 13]]    \n",
    "   \n",
    "matrix2 = [[4, 2, -1],    \n",
    "           [5, 4, -34],     \n",
    "           [0, -4, 3]]    \n",
    "    \n",
    "matrix3  = [[0,1,0],    \n",
    "            [1,0,0],    \n",
    "            [0,0,1]]   \n",
    "  \n",
    "matrix4  = [[0,0,0],    \n",
    "            [0,0,0],    \n",
    "            [0,0,0]]  \n",
    "  \n",
    "matrices_length = len(matrix1)    \n",
    "    \n",
    "#Adding the three matrices using nested loops    \n",
    "for row in range(len(matrix1)):    \n",
    "    for column in range(len(matrix2[0])):    \n",
    "        matrix4[row][column] = matrix1[row][column] + matrix2[row][column] + matrix3[row][column]   \n",
    "#Printing the final matrix    \n",
    "print(\"The sum of the matrices is = \", matrix4)  "
   ]
  },
  {
   "cell_type": "code",
   "execution_count": 4,
   "id": "7c2a2f03",
   "metadata": {},
   "outputs": [
    {
     "name": "stdout",
     "output_type": "stream",
     "text": [
      "[[44 26]\n",
      " [68 42]]\n"
     ]
    }
   ],
   "source": [
    "# Python program to show how to create a matrix using the matrix method.  \n",
    "  \n",
    "# importing numpy  \n",
    "import numpy as np  \n",
    "  \n",
    "# Creating the matrices  \n",
    "matrix1 = np.matrix('3,4;5,6')  \n",
    "matrix2 = np.matrix('4,6;8,2')  \n",
    "  \n",
    "# Usng multiplication operator to multiply two matrices  \n",
    "print(matrix1 @ matrix2)  "
   ]
  },
  {
   "cell_type": "code",
   "execution_count": null,
   "id": "3daa215c",
   "metadata": {},
   "outputs": [],
   "source": []
  }
 ],
 "metadata": {
  "kernelspec": {
   "display_name": "Python 3 (ipykernel)",
   "language": "python",
   "name": "python3"
  },
  "language_info": {
   "codemirror_mode": {
    "name": "ipython",
    "version": 3
   },
   "file_extension": ".py",
   "mimetype": "text/x-python",
   "name": "python",
   "nbconvert_exporter": "python",
   "pygments_lexer": "ipython3",
   "version": "3.10.13"
  }
 },
 "nbformat": 4,
 "nbformat_minor": 5
}
