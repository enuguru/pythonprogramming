{
 "cells": [
  {
   "cell_type": "raw",
   "id": "030e00dc",
   "metadata": {},
   "source": [
    "\"First-Class Functions\" (FCF) are functions which are treated as so called \"First-Class Citizens\" \n",
    "(FCC). FCC's in a programming language are objects (using the term \"objects\" very freely here) which:\n",
    "\n",
    "Can be used as parameters\n",
    "Can be used as a return value\n",
    "Can be assigned to variables\n",
    "Can be stored in data structures such as hash tables, lists, ...\n",
    "Actually, very roughly and simply put, FCF's are variables of the type 'function' \n",
    "(or variables which point to a function). You can do with them everything you can do with a \n",
    "'normal' variable"
   ]
  },
  {
   "cell_type": "raw",
   "id": "032d1863",
   "metadata": {},
   "source": [
    "Properties of first class functions:\n",
    "\n",
    "A function is an instance of the Object type.\n",
    "You can store the function in a variable.\n",
    "You can pass the function as a parameter to another function.\n",
    "You can return the function from a function.\n",
    "You can store them in data structures such as hash tables, lists etc."
   ]
  },
  {
   "cell_type": "code",
   "execution_count": null,
   "id": "b5bd6974",
   "metadata": {},
   "outputs": [],
   "source": [
    "def newfunc():\n",
    "    print(\"This is a new function\")\n",
    "    return 10\n",
    "    \n",
    "print(type(newfunc))\n",
    "newfunc()"
   ]
  },
  {
   "cell_type": "code",
   "execution_count": null,
   "id": "f1bee566",
   "metadata": {},
   "outputs": [],
   "source": [
    "def newfunc():\n",
    "    print(\"This is a new function\")\n",
    "\n",
    "one = newfunc\n",
    "one"
   ]
  },
  {
   "cell_type": "code",
   "execution_count": null,
   "id": "cf0a0e2d",
   "metadata": {},
   "outputs": [],
   "source": [
    "def newfunc():\n",
    "    print(\"This is a new function\")\n",
    "\n",
    "one = newfunc\n",
    "one()"
   ]
  },
  {
   "cell_type": "code",
   "execution_count": null,
   "id": "a9215530",
   "metadata": {},
   "outputs": [],
   "source": [
    "def newfunc():\n",
    "    print(\"This is a new function\")\n",
    "   \n",
    "def anotherfunc(two):\n",
    "    print(\"This is another function\")\n",
    "    two()\n",
    "\n",
    "one = newfunc\n",
    "anotherfunc(one)"
   ]
  },
  {
   "cell_type": "code",
   "execution_count": null,
   "id": "b9223621",
   "metadata": {},
   "outputs": [],
   "source": [
    "def newfunc():\n",
    "    print(\"This is a new function\")\n",
    "    \n",
    "def anotherfunc(two):\n",
    "    def innerfunc():\n",
    "        print(\"This is the inner function\")\n",
    "    return innerfunc\n",
    "\n",
    "one = newfunc\n",
    "anotherfunc(one)"
   ]
  },
  {
   "cell_type": "code",
   "execution_count": null,
   "id": "3762e19c",
   "metadata": {},
   "outputs": [],
   "source": [
    "def newfunc():\n",
    "    print(\"This is a new function\")\n",
    "    \n",
    "def anotherfunc(two):\n",
    "    def innerfunc():\n",
    "        print(\"This is the inner function\")\n",
    "    return innerfunc\n",
    "\n",
    "one = newfunc\n",
    "anotherfunc(one)()"
   ]
  },
  {
   "cell_type": "code",
   "execution_count": null,
   "id": "767ff442",
   "metadata": {},
   "outputs": [],
   "source": [
    "newlist = [5,6,\"Badri\",newfunc]\n",
    "newlist"
   ]
  },
  {
   "cell_type": "code",
   "execution_count": null,
   "id": "e6167cfa",
   "metadata": {},
   "outputs": [],
   "source": [
    "newlist = [5,6,\"Badri\", newfunc()]\n",
    "newlist"
   ]
  },
  {
   "cell_type": "code",
   "execution_count": null,
   "id": "ea77ae0c",
   "metadata": {},
   "outputs": [],
   "source": []
  }
 ],
 "metadata": {
  "kernelspec": {
   "display_name": "Python 3 (ipykernel)",
   "language": "python",
   "name": "python3"
  },
  "language_info": {
   "codemirror_mode": {
    "name": "ipython",
    "version": 3
   },
   "file_extension": ".py",
   "mimetype": "text/x-python",
   "name": "python",
   "nbconvert_exporter": "python",
   "pygments_lexer": "ipython3",
   "version": "3.10.9"
  }
 },
 "nbformat": 4,
 "nbformat_minor": 5
}
