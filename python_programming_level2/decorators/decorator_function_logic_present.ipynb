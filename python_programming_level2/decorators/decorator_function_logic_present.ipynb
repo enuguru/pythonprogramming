{
 "cells": [
  {
   "cell_type": "code",
   "execution_count": 2,
   "id": "15701b36",
   "metadata": {},
   "outputs": [
    {
     "name": "stdout",
     "output_type": "stream",
     "text": [
      "<function my_decorator.<locals>.wrapper at 0x000001C441A89870>\n",
      "Yes!\n",
      "reached here just_some_function!\n",
      "Something is happening after some_function() is called.\n"
     ]
    }
   ],
   "source": [
    "\n",
    "def my_decorator(some_function):\n",
    "\n",
    "    def wrapper():\n",
    "        num = 10\n",
    "        if num == 10:\n",
    "            print(\"Yes!\")\n",
    "        else:\n",
    "            print(\"No!\")\n",
    "        some_function()\n",
    "        print(\"Something is happening after some_function() is called.\")\n",
    "    return wrapper\n",
    "\n",
    "\n",
    "def just_some_function():\n",
    "    print(\"reached here just_some_function!\")\n",
    "\n",
    "\n",
    "some_function_variable = my_decorator(just_some_function)\n",
    "print(some_function_variable)\n",
    "some_function_variable()\n"
   ]
  },
  {
   "cell_type": "code",
   "execution_count": null,
   "id": "e71eeb8f",
   "metadata": {},
   "outputs": [],
   "source": []
  }
 ],
 "metadata": {
  "kernelspec": {
   "display_name": "Python 3 (ipykernel)",
   "language": "python",
   "name": "python3"
  },
  "language_info": {
   "codemirror_mode": {
    "name": "ipython",
    "version": 3
   },
   "file_extension": ".py",
   "mimetype": "text/x-python",
   "name": "python",
   "nbconvert_exporter": "python",
   "pygments_lexer": "ipython3",
   "version": "3.10.9"
  }
 },
 "nbformat": 4,
 "nbformat_minor": 5
}
