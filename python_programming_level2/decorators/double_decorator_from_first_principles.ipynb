{
 "cells": [
  {
   "cell_type": "code",
   "execution_count": 2,
   "id": "372f7d48",
   "metadata": {},
   "outputs": [
    {
     "name": "stdout",
     "output_type": "stream",
     "text": [
      "I am the first decorater\n",
      "I am the second decorater\n",
      "I am function one and I got decorated\n"
     ]
    }
   ],
   "source": [
    "def second_decorator(func):\n",
    "    def inner():\n",
    "        print(\"I am the second decorater\")\n",
    "        func()\n",
    "    return inner\n",
    "\n",
    "def first_decorator(func):\n",
    "    def inner():\n",
    "        print(\"I am the first decorater\")\n",
    "        func()\n",
    "    return inner\n",
    "\n",
    "def function_one():\n",
    "    print(\"I am function one and I got decorated\")\n",
    "\n",
    "#ordinary()\n",
    "\n",
    "# mypretty = make_pretty(ordinary)\n",
    "# mypretty()\n",
    "\n",
    "# let's decorate this ordinary function\n",
    "#pretty = make_more_pretty(make_pretty(ordinary))\n",
    "funcvar = first_decorator(second_decorator(function_one))\n",
    "funcvar()\n"
   ]
  },
  {
   "cell_type": "code",
   "execution_count": null,
   "id": "7ae6cc2f",
   "metadata": {},
   "outputs": [],
   "source": []
  }
 ],
 "metadata": {
  "kernelspec": {
   "display_name": "Python 3 (ipykernel)",
   "language": "python",
   "name": "python3"
  },
  "language_info": {
   "codemirror_mode": {
    "name": "ipython",
    "version": 3
   },
   "file_extension": ".py",
   "mimetype": "text/x-python",
   "name": "python",
   "nbconvert_exporter": "python",
   "pygments_lexer": "ipython3",
   "version": "3.10.9"
  }
 },
 "nbformat": 4,
 "nbformat_minor": 5
}
