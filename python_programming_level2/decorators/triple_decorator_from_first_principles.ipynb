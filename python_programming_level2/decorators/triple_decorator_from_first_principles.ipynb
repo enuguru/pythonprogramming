{
 "cells": [
  {
   "cell_type": "code",
   "execution_count": null,
   "id": "6e2094ba",
   "metadata": {},
   "outputs": [],
   "source": [
    "\n",
    "def make_very_pretty(func):\n",
    "    print(\"I got third decorated\")\n",
    "    return func\n",
    "\n",
    "def make_more_pretty(func):\n",
    "    print(\"I got second decorated\")\n",
    "    return func\n",
    "\n",
    "def make_pretty(func):\n",
    "    print(\"I got first decorated\")\n",
    "    return func\n",
    "\n",
    "\n",
    "def ordinary():\n",
    "    print(\"I am ordinary\")\n",
    "\n",
    "\n",
    "#let's decorate this ordinary function\n",
    "# calling decorator the conventional way\n",
    "pretty = make_very_pretty(make_more_pretty(make_pretty(ordinary)))\n",
    "pretty()\n"
   ]
  },
  {
   "cell_type": "code",
   "execution_count": null,
   "id": "d3db14f0",
   "metadata": {},
   "outputs": [],
   "source": []
  }
 ],
 "metadata": {
  "kernelspec": {
   "display_name": "Python 3 (ipykernel)",
   "language": "python",
   "name": "python3"
  },
  "language_info": {
   "codemirror_mode": {
    "name": "ipython",
    "version": 3
   },
   "file_extension": ".py",
   "mimetype": "text/x-python",
   "name": "python",
   "nbconvert_exporter": "python",
   "pygments_lexer": "ipython3",
   "version": "3.10.9"
  }
 },
 "nbformat": 4,
 "nbformat_minor": 5
}
