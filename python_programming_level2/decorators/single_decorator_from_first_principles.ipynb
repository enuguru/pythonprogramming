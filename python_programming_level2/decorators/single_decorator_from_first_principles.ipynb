{
 "cells": [
  {
   "cell_type": "code",
   "execution_count": 2,
   "id": "de71fd3e",
   "metadata": {},
   "outputs": [
    {
     "name": "stdout",
     "output_type": "stream",
     "text": [
      "I am the decorator function and I am doing decoration job\n",
      "I am function_one and I got decorated\n",
      "after decoration\n",
      "I am returning\n"
     ]
    }
   ],
   "source": [
    "\n",
    "# this is calling the decorator before calling the function\n",
    "# but here we not using the decorator syntax, we are doing it\n",
    "# from first principles\n",
    "\n",
    "def decorator_function(func):\n",
    "    def inner():\n",
    "        print(\"I am the decorator function and I am doing decoration job\")\n",
    "        func()\n",
    "        print(\"after decoration\")\n",
    "        return \"I am returning\"\n",
    "    return inner\n",
    "\n",
    "def function_one():\n",
    "    print(\"I am function_one and I got decorated\")\n",
    "\n",
    "\n",
    "# let's decorate function_one\n",
    "funcvar = decorator_function(function_one) #higher order functions\n",
    "print(funcvar())\n"
   ]
  },
  {
   "cell_type": "code",
   "execution_count": null,
   "id": "ede8f63d",
   "metadata": {},
   "outputs": [],
   "source": []
  }
 ],
 "metadata": {
  "kernelspec": {
   "display_name": "Python 3 (ipykernel)",
   "language": "python",
   "name": "python3"
  },
  "language_info": {
   "codemirror_mode": {
    "name": "ipython",
    "version": 3
   },
   "file_extension": ".py",
   "mimetype": "text/x-python",
   "name": "python",
   "nbconvert_exporter": "python",
   "pygments_lexer": "ipython3",
   "version": "3.10.9"
  }
 },
 "nbformat": 4,
 "nbformat_minor": 5
}
