{
 "cells": [
  {
   "cell_type": "code",
   "execution_count": 1,
   "id": "52640eef",
   "metadata": {},
   "outputs": [
    {
     "name": "stdout",
     "output_type": "stream",
     "text": [
      "I am the first decorator function\n",
      "I am the second decorator function\n",
      "I am function one and I got decorated\n"
     ]
    }
   ],
   "source": [
    "def second_decorator(func):\n",
    "    print(\"I am the second decorator function\")\n",
    "    return func\n",
    "\n",
    "def first_decorator(func):\n",
    "    print(\"I am the first decorator function\")\n",
    "    return func\n",
    "\n",
    "@second_decorator\n",
    "@first_decorator\n",
    "def function_one():\n",
    "    print(\"I am function one and I got decorated\")\n",
    "\n",
    "function_one()"
   ]
  },
  {
   "cell_type": "code",
   "execution_count": null,
   "id": "f5f80059",
   "metadata": {},
   "outputs": [],
   "source": []
  }
 ],
 "metadata": {
  "kernelspec": {
   "display_name": "Python 3 (ipykernel)",
   "language": "python",
   "name": "python3"
  },
  "language_info": {
   "codemirror_mode": {
    "name": "ipython",
    "version": 3
   },
   "file_extension": ".py",
   "mimetype": "text/x-python",
   "name": "python",
   "nbconvert_exporter": "python",
   "pygments_lexer": "ipython3",
   "version": "3.10.9"
  }
 },
 "nbformat": 4,
 "nbformat_minor": 5
}
