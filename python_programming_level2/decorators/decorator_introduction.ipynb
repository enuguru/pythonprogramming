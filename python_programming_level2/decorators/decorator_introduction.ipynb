{
 "cells": [
  {
   "cell_type": "code",
   "execution_count": 2,
   "id": "817b9421",
   "metadata": {},
   "outputs": [
    {
     "name": "stdout",
     "output_type": "stream",
     "text": [
      "1+1\n"
     ]
    }
   ],
   "source": [
    "def a_function():\n",
    "    \"\"\"A pretty useless function\"\"\"\n",
    "    return \"1+1\"\n",
    "\n",
    "value = a_function()\n",
    "print(value)"
   ]
  },
  {
   "cell_type": "code",
   "execution_count": 3,
   "id": "cf3179a6",
   "metadata": {},
   "outputs": [],
   "source": [
    "def another_function(func):\n",
    "    \"\"\"\n",
    "    A function that accepts another function\n",
    "    \"\"\"\n",
    "    def other_func():\n",
    "        val = \"The result of %s is %s\" % (func(),\n",
    "                                          eval(func())\n",
    "                                          )\n",
    "        return val\n",
    "    return other_func"
   ]
  },
  {
   "cell_type": "code",
   "execution_count": 5,
   "id": "341cb35d",
   "metadata": {},
   "outputs": [
    {
     "name": "stdout",
     "output_type": "stream",
     "text": [
      "1+1\n",
      "The result of 1+1 is 2\n"
     ]
    }
   ],
   "source": [
    "def another_function(func):\n",
    "    \"\"\"\n",
    "    A function that accepts another function\n",
    "    \"\"\"\n",
    "\n",
    "    def other_func():\n",
    "        val = \"The result of %s is %s\" % (func(),\n",
    "                                          eval(func())\n",
    "                                          )\n",
    "        return val\n",
    "    return other_func\n",
    "\n",
    "def a_function():\n",
    "    \"\"\"A pretty useless function\"\"\"\n",
    "    return \"1+1\"\n",
    "\n",
    "\n",
    "value = a_function()\n",
    "print(value)\n",
    "decorator = another_function(a_function)\n",
    "print(decorator())"
   ]
  },
  {
   "cell_type": "code",
   "execution_count": 6,
   "id": "589ed8a0",
   "metadata": {},
   "outputs": [
    {
     "name": "stdout",
     "output_type": "stream",
     "text": [
      "The result of 1+1 is 2\n"
     ]
    }
   ],
   "source": [
    "def another_function(func):\n",
    "    \"\"\"\n",
    "    A function that accepts another function\n",
    "    \"\"\"\n",
    "\n",
    "    def other_func():\n",
    "        val = \"The result of %s is %s\" % (func(),\n",
    "                                          eval(func())\n",
    "                                          )\n",
    "        return val\n",
    "    return other_func\n",
    "\n",
    "@another_function\n",
    "def a_function():\n",
    "    \"\"\"A pretty useless function\"\"\"\n",
    "    return \"1+1\"\n",
    "\n",
    "if __name__ == \"__main__\":\n",
    "    value = a_function()\n",
    "    print(value)"
   ]
  },
  {
   "cell_type": "code",
   "execution_count": 4,
   "id": "9c292e9d",
   "metadata": {},
   "outputs": [
    {
     "name": "stdout",
     "output_type": "stream",
     "text": [
      "Learning!\n"
     ]
    }
   ],
   "source": [
    "#Use of the __call__ method in Python\n",
    "class MyDemoDecorator:\n",
    "    def __init__(self, func):\n",
    "        self.func = func\n",
    "    def __call__(self):\n",
    "        #Code before the function call\n",
    "        self.func()\n",
    "        #Code after the function call\n",
    "# adding the decorator as class\n",
    "@MyDemoDecorator\n",
    "def func():\n",
    "    print(\"Learning!\")\n",
    "func()"
   ]
  },
  {
   "cell_type": "code",
   "execution_count": 7,
   "id": "3877a5be",
   "metadata": {},
   "outputs": [
    {
     "name": "stdout",
     "output_type": "stream",
     "text": [
      "<__main__.Cube object at 0x000002B214F4E6A0>\n",
      "1728\n"
     ]
    }
   ],
   "source": [
    "class Cube(object):\n",
    "    def __init__(self, args):\n",
    "        self._args = args\n",
    "    def __call__(self, x, y):\n",
    "        res = self._args(x,y)\n",
    "        return res*res*res\n",
    "@Cube\n",
    "def mul_nums(x, y):\n",
    "    return x * y\n",
    "print(mul_nums)\n",
    "print(mul_nums(4,3))"
   ]
  },
  {
   "cell_type": "code",
   "execution_count": 8,
   "id": "dccd924f",
   "metadata": {},
   "outputs": [
    {
     "name": "stdout",
     "output_type": "stream",
     "text": [
      "inside my_decorator.__init__()\n",
      "now the flow is inside aFunction()\n",
      "inside my_decorator.__call__()\n",
      "Finished decorating aFunction()\n"
     ]
    }
   ],
   "source": [
    "# PythonDecorators/my_decorator.py\n",
    "class my_decorator(object):\n",
    "\n",
    "    def __init__(self, badri):\n",
    "        print(\"inside my_decorator.__init__()\")\n",
    "        badri() # Prove that function definition has completed\n",
    "\n",
    "    def __call__(self):\n",
    "        print(\"inside my_decorator.__call__()\")\n",
    "\n",
    "@my_decorator\n",
    "def aFunction():\n",
    "    print(\"now the flow is inside aFunction()\")\n",
    "\n",
    "aFunction()\n",
    "print(\"Finished decorating aFunction()\")"
   ]
  },
  {
   "cell_type": "code",
   "execution_count": null,
   "id": "b0faf1bd",
   "metadata": {},
   "outputs": [],
   "source": []
  }
 ],
 "metadata": {
  "kernelspec": {
   "display_name": "Python 3 (ipykernel)",
   "language": "python",
   "name": "python3"
  },
  "language_info": {
   "codemirror_mode": {
    "name": "ipython",
    "version": 3
   },
   "file_extension": ".py",
   "mimetype": "text/x-python",
   "name": "python",
   "nbconvert_exporter": "python",
   "pygments_lexer": "ipython3",
   "version": "3.9.13"
  }
 },
 "nbformat": 4,
 "nbformat_minor": 5
}
