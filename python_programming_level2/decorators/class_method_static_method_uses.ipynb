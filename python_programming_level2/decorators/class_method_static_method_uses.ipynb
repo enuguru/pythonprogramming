{
 "cells": [
  {
   "cell_type": "markdown",
   "id": "ff6644d8",
   "metadata": {},
   "source": [
    "# use of @classmethod and @staticmethod"
   ]
  },
  {
   "cell_type": "code",
   "execution_count": 18,
   "id": "9de94fed",
   "metadata": {},
   "outputs": [],
   "source": [
    "class Date(object):\n",
    "    \n",
    "    def __init__(self, day=0, month=0, year=0):\n",
    "        self.day = day\n",
    "        self.month = month\n",
    "        self.year = year\n",
    "\n",
    "    @classmethod\n",
    "    def from_string(cls, date_as_string):\n",
    "        day, month, year = map(int, date_as_string.split('-'))\n",
    "        date1 = cls(day, month, year)\n",
    "        return date1\n",
    "\n",
    "    @staticmethod\n",
    "    def is_date_valid(date_as_string):\n",
    "        day, month, year = map(int, date_as_string.split('-'))\n",
    "        return day <= 31 and month <= 12 and year <= 3999\n",
    "    \n",
    "    def display(self):\n",
    "        return \"{0}-{1}-{2}\".format(self.month, self.day, self.year)\n",
    "\n",
    "date2 = Date.from_string('11-02-2012')\n",
    "is_date = Date.is_date_valid('11-09-2012')"
   ]
  },
  {
   "cell_type": "code",
   "execution_count": 19,
   "id": "3bf4bcf6",
   "metadata": {},
   "outputs": [
    {
     "name": "stdout",
     "output_type": "stream",
     "text": [
      "<__main__.Date object at 0x0000011E753EBF40>\n",
      "True\n",
      "2-11-2012\n",
      "True\n"
     ]
    }
   ],
   "source": [
    "print(date2)\n",
    "print(is_date)\n",
    "\n",
    "# Proof:\n",
    "print(date2.display()) # \"1-1-2013\"\n",
    "\n",
    "print(isinstance(date2, Date)) # True"
   ]
  },
  {
   "cell_type": "code",
   "execution_count": null,
   "id": "47d31711",
   "metadata": {},
   "outputs": [],
   "source": []
  }
 ],
 "metadata": {
  "kernelspec": {
   "display_name": "Python 3 (ipykernel)",
   "language": "python",
   "name": "python3"
  },
  "language_info": {
   "codemirror_mode": {
    "name": "ipython",
    "version": 3
   },
   "file_extension": ".py",
   "mimetype": "text/x-python",
   "name": "python",
   "nbconvert_exporter": "python",
   "pygments_lexer": "ipython3",
   "version": "3.9.13"
  }
 },
 "nbformat": 4,
 "nbformat_minor": 5
}
