{
 "cells": [
  {
   "cell_type": "markdown",
   "id": "285e7faa",
   "metadata": {},
   "source": [
    "# use of @staticmethod"
   ]
  },
  {
   "cell_type": "code",
   "execution_count": 41,
   "id": "16e832bf",
   "metadata": {},
   "outputs": [],
   "source": [
    "class Date:\n",
    "  def __init__(self, month, day, year):\n",
    "    self.month = month\n",
    "    self.day   = day\n",
    "    self.year  = year\n",
    "\n",
    "\n",
    "  def display(self):\n",
    "    return \"{0}-{1}-{2}\".format(self.month, self.day, self.year)\n",
    "\n",
    "\n",
    "  @staticmethod\n",
    "  def millenium(month, day):\n",
    "    return Date(month, day, 2000)\n",
    "\n",
    "new_year = Date(1, 24, 2013)               # Creates a new Date object\n",
    "millenium_new_year = Date.millenium(1, 1) # also creates a Date object. "
   ]
  },
  {
   "cell_type": "code",
   "execution_count": 42,
   "id": "545f314b",
   "metadata": {},
   "outputs": [
    {
     "name": "stdout",
     "output_type": "stream",
     "text": [
      "<__main__.Date object at 0x0000025C88DCBBE0>\n",
      "<__main__.Date object at 0x0000025C88DCBC10>\n",
      "1-24-2013\n",
      "1-1-2000\n",
      "True\n",
      "True\n"
     ]
    }
   ],
   "source": [
    "print(new_year)\n",
    "print(millenium_new_year)\n",
    "\n",
    "# Proof:\n",
    "print(new_year.display()) # \"1-1-2013\"\n",
    "print(millenium_new_year.display()) # \"1-1-2000\"\n",
    "\n",
    "print(isinstance(new_year, Date)) # True)\n",
    "print(isinstance(millenium_new_year, Date)) # True)"
   ]
  },
  {
   "cell_type": "markdown",
   "id": "88579020",
   "metadata": {},
   "source": [
    "Thus both new_year and millenium_new_year are instances of the Date class.\n",
    "\n",
    "But, if you observe closely, the Factory process is hard-coded to create Date objects no matter what. What this means is that even if the Date class is subclassed, the subclasses will still create plain Date objects (without any properties of the subclass)"
   ]
  },
  {
   "cell_type": "code",
   "execution_count": 43,
   "id": "a8483d82",
   "metadata": {},
   "outputs": [
    {
     "name": "stdout",
     "output_type": "stream",
     "text": [
      "<__main__.DateTime object at 0x0000025C88CF5310>\n",
      "<__main__.Date object at 0x0000025C88CF5FD0>\n",
      "True\n",
      "False\n",
      "10-10-1990 - 00:00:00PM\n",
      "10-10-2000\n"
     ]
    }
   ],
   "source": [
    "class DateTime(Date):\n",
    "  def display(self):\n",
    "      return \"{0}-{1}-{2} - 00:00:00PM\".format(self.month, self.day, self.year)\n",
    "\n",
    "\n",
    "datetime1 = DateTime(10, 10, 1990)\n",
    "datetime2 = DateTime.millenium(10, 10)\n",
    "\n",
    "print(datetime1)\n",
    "print(datetime2)\n",
    "\n",
    "print(isinstance(datetime1, DateTime)) # True\n",
    "print(isinstance(datetime2, DateTime)) # False\n",
    "\n",
    "print(datetime1.display()) # returns \"10-10-1990 - 00:00:00PM\"\n",
    "print(datetime2.display())\n",
    "# returns \"10-10-2000\" because it's not a DateTime object but a Date object. \n",
    "# Check the implementation of the millenium method on the Date class for more details."
   ]
  },
  {
   "cell_type": "code",
   "execution_count": 44,
   "id": "f6e8e46d",
   "metadata": {},
   "outputs": [],
   "source": [
    "class Date:\n",
    "  def __init__(self, month, day, year):\n",
    "    self.month = month\n",
    "    self.day   = day\n",
    "    self.year  = year\n",
    "\n",
    "\n",
    "  def display(self):\n",
    "    return \"{0}-{1}-{2}\".format(self.month, self.day, self.year)\n",
    "\n",
    "\n",
    "  @classmethod\n",
    "  def millenium(cls, month, day):\n",
    "    return cls(month, day, 2000)\n",
    "\n",
    "#new_year = Date(1, 1, 2013)               # Creates a new Date object\n",
    "#millenium_new_year = Date.millenium(1, 1) # also creates a Date object. "
   ]
  },
  {
   "cell_type": "code",
   "execution_count": 45,
   "id": "4639c627",
   "metadata": {},
   "outputs": [
    {
     "name": "stdout",
     "output_type": "stream",
     "text": [
      "<__main__.DateTime object at 0x0000025C88CF59A0>\n",
      "<__main__.DateTime object at 0x0000025C88CF5D60>\n",
      "True\n",
      "True\n",
      "10-10-1990 - 00:00:00PM\n",
      "10-10-2000 - 00:00:00PM\n"
     ]
    }
   ],
   "source": [
    "class DateTime(Date):\n",
    "  def display(self):\n",
    "      return \"{0}-{1}-{2} - 00:00:00PM\".format(self.month, self.day, self.year)\n",
    "    \n",
    "datetime1 = DateTime(10, 10, 1990)\n",
    "datetime2 = DateTime.millenium(10, 10)\n",
    "\n",
    "print(datetime1)\n",
    "print(datetime2)\n",
    "\n",
    "print(isinstance(datetime1, DateTime)) # True\n",
    "print(isinstance(datetime2, DateTime)) # True\n",
    "\n",
    "\n",
    "print(datetime1.display()) # \"10-10-1990 - 00:00:00PM\"\n",
    "print(datetime2.display()) # \"10-10-2000 - 00:00:00PM\""
   ]
  },
  {
   "cell_type": "code",
   "execution_count": null,
   "id": "96fa44ba",
   "metadata": {},
   "outputs": [],
   "source": []
  },
  {
   "cell_type": "code",
   "execution_count": null,
   "id": "a5129cbe",
   "metadata": {},
   "outputs": [],
   "source": []
  }
 ],
 "metadata": {
  "kernelspec": {
   "display_name": "Python 3 (ipykernel)",
   "language": "python",
   "name": "python3"
  },
  "language_info": {
   "codemirror_mode": {
    "name": "ipython",
    "version": 3
   },
   "file_extension": ".py",
   "mimetype": "text/x-python",
   "name": "python",
   "nbconvert_exporter": "python",
   "pygments_lexer": "ipython3",
   "version": "3.9.13"
  }
 },
 "nbformat": 4,
 "nbformat_minor": 5
}
