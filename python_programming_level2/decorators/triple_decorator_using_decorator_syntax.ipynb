{
 "cells": [
  {
   "cell_type": "code",
   "execution_count": null,
   "id": "b0d09b4f",
   "metadata": {},
   "outputs": [],
   "source": [
    "\n",
    "def make_very_pretty(func):\n",
    "    print(\"make_very_pretty I got third decorated\")\n",
    "    print(\"Doing something in the third\")\n",
    "    return func\n",
    "\n",
    "def make_more_pretty(func):\n",
    "    print(\"make_more_pretty I got second decorated\")\n",
    "    print(\"Doing something in the second\")\n",
    "    return func\n",
    "\n",
    "def make_pretty(func):\n",
    "    print(\"make_pretty I got first decorated\")\n",
    "    print(\"Doing something in the first\")\n",
    "    return func\n",
    "\n",
    "@make_very_pretty\n",
    "@make_more_pretty\n",
    "@make_pretty\n",
    "def ordinary():\n",
    "    print(\"I am the actual function I am ordinary\")\n",
    "\n",
    "ordinary()\n"
   ]
  },
  {
   "cell_type": "code",
   "execution_count": null,
   "id": "f5e037a0",
   "metadata": {},
   "outputs": [],
   "source": []
  }
 ],
 "metadata": {
  "kernelspec": {
   "display_name": "Python 3 (ipykernel)",
   "language": "python",
   "name": "python3"
  },
  "language_info": {
   "codemirror_mode": {
    "name": "ipython",
    "version": 3
   },
   "file_extension": ".py",
   "mimetype": "text/x-python",
   "name": "python",
   "nbconvert_exporter": "python",
   "pygments_lexer": "ipython3",
   "version": "3.10.9"
  }
 },
 "nbformat": 4,
 "nbformat_minor": 5
}
