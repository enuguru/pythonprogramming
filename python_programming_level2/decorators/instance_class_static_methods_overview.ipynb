{
 "cells": [
  {
   "cell_type": "markdown",
   "id": "172b2741",
   "metadata": {},
   "source": [
    "# instance method, class method and static method"
   ]
  },
  {
   "cell_type": "code",
   "execution_count": 3,
   "id": "8d4342b0",
   "metadata": {},
   "outputs": [],
   "source": [
    "class NewClass:\n",
    "    def newmethod(self):\n",
    "        return 'instance method called', self\n",
    "\n",
    "    @classmethod\n",
    "    def newclassmethod(cls):\n",
    "        return 'class method called', cls\n",
    "\n",
    "    @staticmethod\n",
    "    def newstaticmethod():\n",
    "        return 'static method called'"
   ]
  },
  {
   "cell_type": "code",
   "execution_count": 4,
   "id": "054c01a3",
   "metadata": {},
   "outputs": [
    {
     "name": "stdout",
     "output_type": "stream",
     "text": [
      "('class method called', <class '__main__.NewClass'>)\n",
      "static method called\n",
      "('instance method called', <__main__.NewClass object at 0x000001DF3DC88CD0>)\n"
     ]
    }
   ],
   "source": [
    "obj = NewClass()\n",
    "print(obj.newclassmethod())\n",
    "print(obj.newstaticmethod())\n",
    "print(obj.newmethod())"
   ]
  },
  {
   "cell_type": "code",
   "execution_count": 6,
   "id": "7953f693",
   "metadata": {},
   "outputs": [
    {
     "name": "stdout",
     "output_type": "stream",
     "text": [
      "('class method called', <class '__main__.NewClass'>)\n",
      "static method called\n"
     ]
    },
    {
     "ename": "TypeError",
     "evalue": "NewClass.newmethod() missing 1 required positional argument: 'self'",
     "output_type": "error",
     "traceback": [
      "\u001b[1;31m---------------------------------------------------------------------------\u001b[0m",
      "\u001b[1;31mTypeError\u001b[0m                                 Traceback (most recent call last)",
      "Cell \u001b[1;32mIn[6], line 4\u001b[0m\n\u001b[0;32m      2\u001b[0m \u001b[38;5;28mprint\u001b[39m(NewClass\u001b[38;5;241m.\u001b[39mnewclassmethod())\n\u001b[0;32m      3\u001b[0m \u001b[38;5;28mprint\u001b[39m(NewClass\u001b[38;5;241m.\u001b[39mnewstaticmethod())\n\u001b[1;32m----> 4\u001b[0m \u001b[38;5;28mprint\u001b[39m(\u001b[43mNewClass\u001b[49m\u001b[38;5;241;43m.\u001b[39;49m\u001b[43mnewmethod\u001b[49m\u001b[43m(\u001b[49m\u001b[43m)\u001b[49m)\n",
      "\u001b[1;31mTypeError\u001b[0m: NewClass.newmethod() missing 1 required positional argument: 'self'"
     ]
    }
   ],
   "source": [
    "obj = NewClass()\n",
    "print(NewClass.newclassmethod())\n",
    "print(NewClass.newstaticmethod())\n",
    "print(NewClass.newmethod())"
   ]
  },
  {
   "cell_type": "markdown",
   "id": "23b3c3ed",
   "metadata": {},
   "source": [
    "# pizzaoutlet class example"
   ]
  },
  {
   "cell_type": "code",
   "execution_count": 32,
   "id": "3211a471",
   "metadata": {},
   "outputs": [
    {
     "name": "stdout",
     "output_type": "stream",
     "text": [
      "PizzaOutlet(['cheese', 'tomatoes', 'Onion'])\n"
     ]
    }
   ],
   "source": [
    "class PizzaOutlet:\n",
    "    def __init__(self, toppings):\n",
    "        self.toppings = toppings\n",
    "\n",
    "    def __repr__(self):\n",
    "        return f'PizzaOutlet({self.toppings!r})'\n",
    " \n",
    "print(PizzaOutlet(['cheese', 'tomatoes', 'Onion']))"
   ]
  },
  {
   "cell_type": "code",
   "execution_count": 33,
   "id": "a86abe03",
   "metadata": {},
   "outputs": [
    {
     "data": {
      "text/plain": [
       "PizzaOutlet(['Jalapeno', 'tomatoes'])"
      ]
     },
     "execution_count": 33,
     "metadata": {},
     "output_type": "execute_result"
    }
   ],
   "source": [
    "PizzaOutlet(['Jalapeno', 'tomatoes'])"
   ]
  },
  {
   "cell_type": "code",
   "execution_count": 34,
   "id": "5732ecd6",
   "metadata": {},
   "outputs": [
    {
     "data": {
      "text/plain": [
       "PizzaOutlet(['Onion', 'tomatoes', 'Jalapeno', 'mushrooms'])"
      ]
     },
     "execution_count": 34,
     "metadata": {},
     "output_type": "execute_result"
    }
   ],
   "source": [
    "PizzaOutlet(['Onion', 'tomatoes', 'Jalapeno', 'mushrooms'])\n"
   ]
  },
  {
   "cell_type": "code",
   "execution_count": 35,
   "id": "6abd8d56",
   "metadata": {},
   "outputs": [
    {
     "data": {
      "text/plain": [
       "PizzaOutlet(['Jalapeno', 'Jalapeno', 'Jalapeno', 'Jalapeno'])"
      ]
     },
     "execution_count": 35,
     "metadata": {},
     "output_type": "execute_result"
    }
   ],
   "source": [
    "PizzaOutlet(['Jalapeno'] * 4)"
   ]
  },
  {
   "cell_type": "markdown",
   "id": "40d0e794",
   "metadata": {},
   "source": [
    "# PizzaOutlet class method usage"
   ]
  },
  {
   "cell_type": "code",
   "execution_count": 36,
   "id": "f35094e0",
   "metadata": {},
   "outputs": [],
   "source": [
    "class PizzaOutlet:\n",
    "    def __init__(self, toppings):\n",
    "        self.toppings = toppings\n",
    "\n",
    "    def __repr__(self):\n",
    "        return f'PizzaOutlet({self.toppings!r})'\n",
    "\n",
    "    @classmethod\n",
    "    def VeggieDelight(cls):\n",
    "        return cls(['Jalapeno', 'tomatoes', 'Black Olives', 'Green Pepper', 'Onions'])\n",
    "\n",
    "    @classmethod\n",
    "    def MushroomPizza(cls):\n",
    "        return cls(['Mushrooms', 'tomatoes', 'ham', 'Green Pepper','Cucumber'])"
   ]
  },
  {
   "cell_type": "code",
   "execution_count": 37,
   "id": "ebd71d55",
   "metadata": {},
   "outputs": [
    {
     "data": {
      "text/plain": [
       "PizzaOutlet(['Jalapeno', 'tomatoes', 'Black Olives', 'Green Pepper', 'Onions'])"
      ]
     },
     "execution_count": 37,
     "metadata": {},
     "output_type": "execute_result"
    }
   ],
   "source": [
    "PizzaOutlet.VeggieDelight()"
   ]
  },
  {
   "cell_type": "code",
   "execution_count": 38,
   "id": "8e500758",
   "metadata": {},
   "outputs": [
    {
     "data": {
      "text/plain": [
       "PizzaOutlet(['Mushrooms', 'tomatoes', 'ham', 'Green Pepper', 'Cucumber'])"
      ]
     },
     "execution_count": 38,
     "metadata": {},
     "output_type": "execute_result"
    }
   ],
   "source": [
    "PizzaOutlet.MushroomPizza()"
   ]
  },
  {
   "cell_type": "markdown",
   "id": "d6e3cf1b",
   "metadata": {},
   "source": [
    "# an example that shows overriding of classmethods in  subclasses"
   ]
  },
  {
   "cell_type": "code",
   "execution_count": 39,
   "id": "acdece68",
   "metadata": {},
   "outputs": [
    {
     "name": "stdout",
     "output_type": "stream",
     "text": [
      "/keys/foo\n"
     ]
    }
   ],
   "source": [
    "class NewBase:\n",
    "    @classmethod\n",
    "    def key_fn(cls, id):\n",
    "        raise NotImplementedError('')\n",
    "\n",
    "    @classmethod\n",
    "    def load_all(cls):\n",
    "        return cls.key_fn('foo')\n",
    "\n",
    "class NewDerived(NewBase):\n",
    "    @classmethod\n",
    "    def key_fn(cls, id):\n",
    "        return f'/keys/{id}'\n",
    "\n",
    "print(NewDerived.load_all())"
   ]
  },
  {
   "cell_type": "markdown",
   "id": "01d26431",
   "metadata": {},
   "source": [
    "# factory class with a class method"
   ]
  },
  {
   "cell_type": "code",
   "execution_count": 40,
   "id": "2839a980",
   "metadata": {},
   "outputs": [],
   "source": [
    "from abc import ABC, abstractmethod\n",
    "\n",
    "class WaterTank(ABC):\n",
    "    @abstractmethod\n",
    "    def get_capacity(self):\n",
    "        pass\n",
    "\n",
    "class WaterTankFactory(WaterTank):\n",
    "    def __init__(self, capacity):\n",
    "        self.__capacity = capacity\n",
    "    def get_capacity(self):\n",
    "        return self.__capacity\n",
    "    @classmethod\n",
    "    def set_capacity(cls, capacityRequired):\n",
    "        return cls(capacityRequired)"
   ]
  },
  {
   "cell_type": "code",
   "execution_count": 41,
   "id": "974761da",
   "metadata": {},
   "outputs": [
    {
     "name": "stdout",
     "output_type": "stream",
     "text": [
      "Capacity of tankOne is 500 Litre\n",
      "Capacity of tankTwo is 100 Litre\n"
     ]
    }
   ],
   "source": [
    "tankOne = WaterTankFactory.set_capacity(500)\n",
    "print(f'Capacity of tankOne is {tankOne.get_capacity()} Litre')\n",
    "\n",
    "tankTwo = WaterTankFactory.set_capacity(100)\n",
    "print(f'Capacity of tankTwo is {tankTwo.get_capacity()} Litre')"
   ]
  },
  {
   "cell_type": "code",
   "execution_count": null,
   "id": "1e654b52",
   "metadata": {},
   "outputs": [],
   "source": []
  }
 ],
 "metadata": {
  "kernelspec": {
   "display_name": "Python 3 (ipykernel)",
   "language": "python",
   "name": "python3"
  },
  "language_info": {
   "codemirror_mode": {
    "name": "ipython",
    "version": 3
   },
   "file_extension": ".py",
   "mimetype": "text/x-python",
   "name": "python",
   "nbconvert_exporter": "python",
   "pygments_lexer": "ipython3",
   "version": "3.10.9"
  }
 },
 "nbformat": 4,
 "nbformat_minor": 5
}
