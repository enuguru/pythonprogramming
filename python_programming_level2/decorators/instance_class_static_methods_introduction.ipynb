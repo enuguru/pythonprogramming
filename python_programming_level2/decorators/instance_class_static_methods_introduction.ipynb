{
 "cells": [
  {
   "cell_type": "markdown",
   "id": "172b2741",
   "metadata": {},
   "source": [
    "# instance method, class method and static method"
   ]
  },
  {
   "cell_type": "code",
   "execution_count": null,
   "id": "8d4342b0",
   "metadata": {},
   "outputs": [],
   "source": [
    "class NewClass:\n",
    "    def newmethod(self):\n",
    "        return 'instance method is called', self\n",
    "\n",
    "    @classmethod\n",
    "    def newclassmethod(cls):\n",
    "        return 'class method is called', cls\n",
    "\n",
    "    @staticmethod\n",
    "    def newstaticmethod():\n",
    "        return 'static method is called'"
   ]
  },
  {
   "cell_type": "markdown",
   "id": "afb304cc",
   "metadata": {},
   "source": [
    "# calling all three methds using the instance of class"
   ]
  },
  {
   "cell_type": "code",
   "execution_count": null,
   "id": "054c01a3",
   "metadata": {},
   "outputs": [],
   "source": [
    "obj = NewClass()\n",
    "print(obj.newclassmethod())\n",
    "print(obj.newstaticmethod())\n",
    "print(obj.newmethod())"
   ]
  },
  {
   "cell_type": "markdown",
   "id": "157e3449",
   "metadata": {},
   "source": [
    "# calling the three methods using the class name"
   ]
  },
  {
   "cell_type": "code",
   "execution_count": null,
   "id": "7953f693",
   "metadata": {},
   "outputs": [],
   "source": [
    "obj = NewClass()\n",
    "print(MyClass.newclassmethod())\n",
    "print(MyClass.newstaticmethod())\n",
    "print(MyClass.newmethod())"
   ]
  },
  {
   "cell_type": "markdown",
   "id": "27704e00",
   "metadata": {},
   "source": [
    "# accessing class and instance variables using classmethod"
   ]
  },
  {
   "cell_type": "code",
   "execution_count": null,
   "id": "73ee213f",
   "metadata": {},
   "outputs": [],
   "source": [
    "class software_engineer:\n",
    "    name = 'Balachandra' # class attribute\n",
    "    \n",
    "    def __init__(self):\n",
    "        self.age = 30  # instance attribute\n",
    "\n",
    "    @classmethod\n",
    "    def youarehere(cls):\n",
    "        print('name=',cls.name,'age=',self.age)"
   ]
  },
  {
   "cell_type": "code",
   "execution_count": null,
   "id": "91f20259",
   "metadata": {},
   "outputs": [],
   "source": [
    "software_engineer.youarehere()"
   ]
  },
  {
   "cell_type": "markdown",
   "id": "d2968efc",
   "metadata": {},
   "source": [
    "# accessing class and instance variables using staticmethod"
   ]
  },
  {
   "cell_type": "code",
   "execution_count": null,
   "id": "c286ce0d",
   "metadata": {},
   "outputs": [],
   "source": [
    "class software_engineer:\n",
    "    name = 'Balachandra' # class attribute\n",
    "    \n",
    "    def __init__(self):\n",
    "        self.age = 20  # instance attribute\n",
    "\n",
    "    @staticmethod\n",
    "    def whoami():\n",
    "        print('software_engineer Class',name,self.age)"
   ]
  },
  {
   "cell_type": "code",
   "execution_count": null,
   "id": "2312c655",
   "metadata": {},
   "outputs": [],
   "source": [
    "software_engineer.whoami()\n",
    "software_engineer().whoami()\n",
    "std = software_engineer()\n",
    "std.whoami()"
   ]
  },
  {
   "cell_type": "markdown",
   "id": "a6db9665",
   "metadata": {},
   "source": [
    "# accessing class and instance variables using instance method"
   ]
  },
  {
   "cell_type": "code",
   "execution_count": null,
   "id": "ad98614f",
   "metadata": {},
   "outputs": [],
   "source": [
    "class software_engineer:\n",
    "    name = 'Balachandra' # class attribute\n",
    "    \n",
    "    def __init__(self):\n",
    "        self.age = 30  # instance attribute\n",
    "        \n",
    "    def display(self):\n",
    "        print(self.age)\n",
    "        print(name)"
   ]
  },
  {
   "cell_type": "code",
   "execution_count": null,
   "id": "ff57c643",
   "metadata": {},
   "outputs": [],
   "source": [
    "obj = software_engineer()\n",
    "obj.display()"
   ]
  },
  {
   "cell_type": "code",
   "execution_count": null,
   "id": "53123517",
   "metadata": {},
   "outputs": [],
   "source": []
  }
 ],
 "metadata": {
  "kernelspec": {
   "display_name": "Python 3 (ipykernel)",
   "language": "python",
   "name": "python3"
  },
  "language_info": {
   "codemirror_mode": {
    "name": "ipython",
    "version": 3
   },
   "file_extension": ".py",
   "mimetype": "text/x-python",
   "name": "python",
   "nbconvert_exporter": "python",
   "pygments_lexer": "ipython3",
   "version": "3.9.13"
  }
 },
 "nbformat": 4,
 "nbformat_minor": 5
}
