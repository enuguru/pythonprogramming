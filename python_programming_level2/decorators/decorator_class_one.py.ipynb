{
 "cells": [
  {
   "cell_type": "code",
   "execution_count": 5,
   "id": "a68e8a0f",
   "metadata": {},
   "outputs": [
    {
     "name": "stdout",
     "output_type": "stream",
     "text": [
      "<class 'object'>\n",
      "I am the decorator_class.__init__(), and an instance of decorator class created\n",
      "<__main__.decorator_class object at 0x000001F7149B3520>\n",
      "I am the decorator_class.__call__(), and I am doing decoration job\n",
      "I am function one and I got decorated\n"
     ]
    },
    {
     "ename": "AttributeError",
     "evalue": "'decorator_class' object has no attribute 'args'",
     "output_type": "error",
     "traceback": [
      "\u001b[1;31m---------------------------------------------------------------------------\u001b[0m",
      "\u001b[1;31mAttributeError\u001b[0m                            Traceback (most recent call last)",
      "Cell \u001b[1;32mIn[5], line 18\u001b[0m\n\u001b[0;32m     14\u001b[0m \u001b[38;5;129m@decorator_class\u001b[39m\n\u001b[0;32m     15\u001b[0m \u001b[38;5;28;01mdef\u001b[39;00m \u001b[38;5;21mfunction_one\u001b[39m():\n\u001b[0;32m     16\u001b[0m     \u001b[38;5;28mprint\u001b[39m(\u001b[38;5;124m\"\u001b[39m\u001b[38;5;124mI am function one and I got decorated\u001b[39m\u001b[38;5;124m\"\u001b[39m)\n\u001b[1;32m---> 18\u001b[0m \u001b[43mfunction_one\u001b[49m\u001b[43m(\u001b[49m\u001b[43m)\u001b[49m\n\u001b[0;32m     19\u001b[0m \u001b[38;5;28mprint\u001b[39m(function_one)\n",
      "Cell \u001b[1;32mIn[5], line 12\u001b[0m, in \u001b[0;36mdecorator_class.__call__\u001b[1;34m(self)\u001b[0m\n\u001b[0;32m     10\u001b[0m \u001b[38;5;28mprint\u001b[39m(\u001b[38;5;124m\"\u001b[39m\u001b[38;5;124mI am the decorator_class.__call__(), and I am doing decoration job\u001b[39m\u001b[38;5;124m\"\u001b[39m)\n\u001b[0;32m     11\u001b[0m \u001b[38;5;28mself\u001b[39m\u001b[38;5;241m.\u001b[39m_args()\n\u001b[1;32m---> 12\u001b[0m \u001b[38;5;28mprint\u001b[39m(\u001b[38;5;28;43mself\u001b[39;49m\u001b[38;5;241;43m.\u001b[39;49m\u001b[43margs\u001b[49m())\n",
      "\u001b[1;31mAttributeError\u001b[0m: 'decorator_class' object has no attribute 'args'"
     ]
    }
   ],
   "source": [
    "\n",
    "class decorator_class(object):\n",
    "\n",
    "    def __init__(self, badri):\n",
    "        print(object)\n",
    "        print(\"I am the decorator_class.__init__(), and an instance of decorator class created\")\n",
    "        self._args = badri\n",
    "\n",
    "    def __call__(self):\n",
    "        print(self)\n",
    "        print(\"I am the decorator_class.__call__(), and I am doing decoration job\")\n",
    "        self._args()\n",
    "        print(self.args())\n",
    "\n",
    "@decorator_class\n",
    "def function_one():\n",
    "    print(\"I am function one and I got decorated\")\n",
    "\n",
    "function_one()\n",
    "print(function_one)\n"
   ]
  },
  {
   "cell_type": "code",
   "execution_count": null,
   "id": "a0fb3b0d",
   "metadata": {},
   "outputs": [],
   "source": []
  }
 ],
 "metadata": {
  "kernelspec": {
   "display_name": "Python 3 (ipykernel)",
   "language": "python",
   "name": "python3"
  },
  "language_info": {
   "codemirror_mode": {
    "name": "ipython",
    "version": 3
   },
   "file_extension": ".py",
   "mimetype": "text/x-python",
   "name": "python",
   "nbconvert_exporter": "python",
   "pygments_lexer": "ipython3",
   "version": "3.10.9"
  }
 },
 "nbformat": 4,
 "nbformat_minor": 5
}
