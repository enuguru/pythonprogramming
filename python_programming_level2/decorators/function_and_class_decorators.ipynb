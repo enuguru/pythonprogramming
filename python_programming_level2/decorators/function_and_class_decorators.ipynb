{
 "cells": [
  {
   "cell_type": "markdown",
   "id": "91fa42b1",
   "metadata": {},
   "source": [
    "# function decorator without the @decorator syntax"
   ]
  },
  {
   "cell_type": "code",
   "execution_count": 10,
   "id": "d89aa4d6",
   "metadata": {},
   "outputs": [
    {
     "name": "stdout",
     "output_type": "stream",
     "text": [
      "I am the decorator function and I am doing decoration job\n",
      "I am function_one and I got decorated\n"
     ]
    }
   ],
   "source": [
    "# this is calling the decorator before calling the actual function\n",
    "# we not using the decorator syntax, we are doing it from first principles\n",
    "\n",
    "def decorator_function(func):\n",
    "    def inner():\n",
    "        print(\"I am the decorator function and I am doing decoration job\")\n",
    "        func()\n",
    "    return inner\n",
    "\n",
    "def function_one():\n",
    "    print(\"I am function_one and I got decorated\")\n",
    "\n",
    "\n",
    "# let's decorate function_one\n",
    "funcvar = decorator_function(function_one)\n",
    "funcvar()\n"
   ]
  },
  {
   "cell_type": "markdown",
   "id": "019c26df",
   "metadata": {},
   "source": [
    "# function decorator using the @decorator syntax"
   ]
  },
  {
   "cell_type": "code",
   "execution_count": 11,
   "id": "4d9a0bc2",
   "metadata": {},
   "outputs": [
    {
     "name": "stdout",
     "output_type": "stream",
     "text": [
      "I am the decorator_function, and I am doing decoration job\n",
      "I am function_one, I got decorated\n"
     ]
    }
   ],
   "source": [
    "# here we are using the decorator syntax and doing\n",
    "# the same thing done in the previous program\n",
    "# does'nt this look cleaner ?\n",
    "\n",
    "def decorator_function(func):\n",
    "\n",
    "    def inner():\n",
    "        print(\"I am the decorator_function, and I am doing decoration job\")\n",
    "        func()\n",
    "\n",
    "    return inner\n",
    "\n",
    "\n",
    "@decorator_function\n",
    "def function_one():\n",
    "    print(\"I am function_one, I got decorated\")\n",
    "\n",
    "function_one()\n",
    "\n",
    "#syntactic sugar"
   ]
  },
  {
   "cell_type": "markdown",
   "id": "daf25bfa",
   "metadata": {},
   "source": [
    "# class decorator using the @decorator syntax"
   ]
  },
  {
   "cell_type": "code",
   "execution_count": 12,
   "id": "9308fa96",
   "metadata": {},
   "outputs": [
    {
     "name": "stdout",
     "output_type": "stream",
     "text": [
      "I am the decorator_class.__init__(), and an instance of decorator class created\n",
      "I am the decorator_class.__call__(), and I am doing decoration job\n",
      "I am function one and I got decorated\n"
     ]
    }
   ],
   "source": [
    "class decorator_class(object):\n",
    "\n",
    "    def __init__(self, badri):\n",
    "        print(\"I am the decorator_class.__init__(), and an instance of decorator class created\")\n",
    "        self._args = badri\n",
    "\n",
    "    def __call__(self):\n",
    "        print(\"I am the decorator_class.__call__(), and I am doing decoration job\")\n",
    "        self._args()\n",
    "\n",
    "@decorator_class\n",
    "def function_one():\n",
    "    print(\"I am function one and I got decorated\")\n",
    "\n",
    "function_one()"
   ]
  },
  {
   "cell_type": "code",
   "execution_count": null,
   "id": "a8e92bc4",
   "metadata": {},
   "outputs": [],
   "source": []
  }
 ],
 "metadata": {
  "kernelspec": {
   "display_name": "Python 3 (ipykernel)",
   "language": "python",
   "name": "python3"
  },
  "language_info": {
   "codemirror_mode": {
    "name": "ipython",
    "version": 3
   },
   "file_extension": ".py",
   "mimetype": "text/x-python",
   "name": "python",
   "nbconvert_exporter": "python",
   "pygments_lexer": "ipython3",
   "version": "3.9.13"
  }
 },
 "nbformat": 4,
 "nbformat_minor": 5
}
