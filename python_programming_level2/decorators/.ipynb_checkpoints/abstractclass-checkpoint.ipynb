{
 "cells": [
  {
   "cell_type": "code",
   "execution_count": 34,
   "id": "47b19bdf",
   "metadata": {},
   "outputs": [
    {
     "name": "stdout",
     "output_type": "stream",
     "text": [
      "abstract class implementation!\n",
      "This is a derived class implementation\n",
      "base class implementation!\n"
     ]
    }
   ],
   "source": [
    "class BaseClassExample:\n",
    "    \n",
    "    def youarehere(self):\n",
    "        print(\"base class implementation!\")\n",
    "        \n",
    "class AnotherDerivedClass(AbstractClassExample):\n",
    "\n",
    "    def youarehere(self):\n",
    "        super().youarehere()\n",
    "        print(\"This is a derived class implementation\")\n",
    "        \n",
    "x = AnotherDerivedClass()\n",
    "x.youarehere()\n",
    "y = BaseClassExample()\n",
    "y.youarehere()"
   ]
  },
  {
   "cell_type": "code",
   "execution_count": 35,
   "id": "187ce5d9",
   "metadata": {},
   "outputs": [
    {
     "name": "stdout",
     "output_type": "stream",
     "text": [
      "abstract class implementation!\n",
      "This is a derived class implementation\n",
      "base class implementation!\n"
     ]
    }
   ],
   "source": [
    "from abc import ABC, abstractmethod\n",
    "\n",
    "class BaseClassExample:\n",
    "    \n",
    "    @abstractmethod\n",
    "    def youarehere(self):\n",
    "        print(\"base class implementation!\")\n",
    "        \n",
    "class AnotherDerivedClass(AbstractClassExample):\n",
    "\n",
    "    def youarehere(self):\n",
    "        super().youarehere()\n",
    "        print(\"This is a derived class implementation\")\n",
    "        \n",
    "x = AnotherDerivedClass()\n",
    "x.youarehere()\n",
    "y = BaseClassExample()\n",
    "y.youarehere()"
   ]
  },
  {
   "cell_type": "code",
   "execution_count": 36,
   "id": "15b663a5",
   "metadata": {},
   "outputs": [
    {
     "name": "stdout",
     "output_type": "stream",
     "text": [
      "abstract class implementation!\n",
      "This is a derived class implementation\n",
      "base class implementation!\n"
     ]
    }
   ],
   "source": [
    "from abc import ABC, abstractmethod\n",
    "\n",
    "class BaseClassExample(ABC):\n",
    "    \n",
    "    def youarehere(self):\n",
    "        print(\"base class implementation!\")\n",
    "        \n",
    "class AnotherDerivedClass(AbstractClassExample):\n",
    "\n",
    "    def youarehere(self):\n",
    "        super().youarehere()\n",
    "        print(\"This is a derived class implementation\")\n",
    "        \n",
    "x = AnotherDerivedClass()\n",
    "x.youarehere()\n",
    "y = BaseClassExample()\n",
    "y.youarehere()"
   ]
  },
  {
   "cell_type": "code",
   "execution_count": 37,
   "id": "6a1cc8df",
   "metadata": {},
   "outputs": [
    {
     "name": "stdout",
     "output_type": "stream",
     "text": [
      "abstract class implementation!\n",
      "This is a derived class implementation\n"
     ]
    },
    {
     "ename": "TypeError",
     "evalue": "Can't instantiate abstract class BaseClassExample with abstract method youarehere",
     "output_type": "error",
     "traceback": [
      "\u001b[1;31m---------------------------------------------------------------------------\u001b[0m",
      "\u001b[1;31mTypeError\u001b[0m                                 Traceback (most recent call last)",
      "\u001b[1;32m~\\AppData\\Local\\Temp\\ipykernel_9416\\935123521.py\u001b[0m in \u001b[0;36m<module>\u001b[1;34m\u001b[0m\n\u001b[0;32m     15\u001b[0m \u001b[0mx\u001b[0m \u001b[1;33m=\u001b[0m \u001b[0mAnotherDerivedClass\u001b[0m\u001b[1;33m(\u001b[0m\u001b[1;33m)\u001b[0m\u001b[1;33m\u001b[0m\u001b[1;33m\u001b[0m\u001b[0m\n\u001b[0;32m     16\u001b[0m \u001b[0mx\u001b[0m\u001b[1;33m.\u001b[0m\u001b[0myouarehere\u001b[0m\u001b[1;33m(\u001b[0m\u001b[1;33m)\u001b[0m\u001b[1;33m\u001b[0m\u001b[1;33m\u001b[0m\u001b[0m\n\u001b[1;32m---> 17\u001b[1;33m \u001b[0my\u001b[0m \u001b[1;33m=\u001b[0m \u001b[0mBaseClassExample\u001b[0m\u001b[1;33m(\u001b[0m\u001b[1;33m)\u001b[0m\u001b[1;33m\u001b[0m\u001b[1;33m\u001b[0m\u001b[0m\n\u001b[0m\u001b[0;32m     18\u001b[0m \u001b[0my\u001b[0m\u001b[1;33m.\u001b[0m\u001b[0myouarehere\u001b[0m\u001b[1;33m(\u001b[0m\u001b[1;33m)\u001b[0m\u001b[1;33m\u001b[0m\u001b[1;33m\u001b[0m\u001b[0m\n",
      "\u001b[1;31mTypeError\u001b[0m: Can't instantiate abstract class BaseClassExample with abstract method youarehere"
     ]
    }
   ],
   "source": [
    "from abc import ABC, abstractmethod\n",
    "\n",
    "class BaseClassExample(ABC):\n",
    "    \n",
    "    @abstractmethod\n",
    "    def youarehere(self):\n",
    "        print(\"base class implementation!\")\n",
    "        \n",
    "class AnotherDerivedClass(AbstractClassExample):\n",
    "\n",
    "    def youarehere(self):\n",
    "        super().youarehere()\n",
    "        print(\"This is a derived class implementation\")\n",
    "        \n",
    "x = AnotherDerivedClass()\n",
    "x.youarehere()\n",
    "y = BaseClassExample()\n",
    "y.youarehere()"
   ]
  },
  {
   "cell_type": "code",
   "execution_count": 3,
   "id": "7d4c2024",
   "metadata": {},
   "outputs": [
    {
     "name": "stdout",
     "output_type": "stream",
     "text": [
      "base class implementation!\n",
      "This is a derived class implementation\n"
     ]
    }
   ],
   "source": [
    "from abc import ABC, ABCMeta, abstractmethod\n",
    "\n",
    "class AbstractClassExample(metaclass=ABCMeta):\n",
    "\n",
    "    @abstractmethod\n",
    "    def youarehere(self):\n",
    "        print(\"base class implementation!\")\n",
    "        \n",
    "class AnotherDerivedClass(AbstractClassExample):\n",
    "\n",
    "    def youarehere(self):\n",
    "        super().youarehere()\n",
    "        print(\"This is a derived class implementation\")\n",
    "        \n",
    "x = AnotherDerivedClass()\n",
    "x.youarehere()\n",
    "#y = AbstractClassExample()\n",
    "#y.youarehere()"
   ]
  },
  {
   "cell_type": "code",
   "execution_count": 39,
   "id": "01861da7",
   "metadata": {},
   "outputs": [
    {
     "name": "stdout",
     "output_type": "stream",
     "text": [
      "abstract class implementation!\n",
      "This is a derived class implementation\n"
     ]
    }
   ],
   "source": [
    "from abc import ABC, abstractmethod\n",
    " \n",
    "class AbstractClassExample(ABC):\n",
    "    \n",
    "    @abstractmethod\n",
    "    def youarehere(self):\n",
    "        print(\"abstract class implementation!\")\n",
    "        \n",
    "class AnotherDerivedClass(AbstractClassExample):\n",
    "\n",
    "    def youarehere(self):\n",
    "        super().youarehere()\n",
    "        print(\"This is a derived class implementation\")\n",
    "        \n",
    "x = AnotherDerivedClass()\n",
    "x.youarehere()"
   ]
  },
  {
   "cell_type": "code",
   "execution_count": null,
   "id": "a750fecf",
   "metadata": {},
   "outputs": [],
   "source": []
  }
 ],
 "metadata": {
  "kernelspec": {
   "display_name": "Python 3 (ipykernel)",
   "language": "python",
   "name": "python3"
  },
  "language_info": {
   "codemirror_mode": {
    "name": "ipython",
    "version": 3
   },
   "file_extension": ".py",
   "mimetype": "text/x-python",
   "name": "python",
   "nbconvert_exporter": "python",
   "pygments_lexer": "ipython3",
   "version": "3.9.13"
  }
 },
 "nbformat": 4,
 "nbformat_minor": 5
}
