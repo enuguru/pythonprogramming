{
 "cells": [
  {
   "cell_type": "code",
   "execution_count": 1,
   "id": "a68e8a0f",
   "metadata": {},
   "outputs": [
    {
     "name": "stdout",
     "output_type": "stream",
     "text": [
      "I am the decorator_class.__init__(), and an instance of decorator class created\n",
      "I am the decorator_class.__call__(), and I am doing decoration job\n",
      "I am function one and I got decorated\n"
     ]
    }
   ],
   "source": [
    "\n",
    "class decorator_class(object):\n",
    "\n",
    "    def __init__(self, badri):\n",
    "        print(\"I am the decorator_class.__init__(), and an instance of decorator class created\")\n",
    "        self._args = badri\n",
    "\n",
    "    def __call__(self):\n",
    "        print(\"I am the decorator_class.__call__(), and I am doing decoration job\")\n",
    "        self._args()\n",
    "\n",
    "@decorator_class\n",
    "def function_one():\n",
    "    print(\"I am function one and I got decorated\")\n",
    "\n",
    "function_one()\n"
   ]
  },
  {
   "cell_type": "code",
   "execution_count": null,
   "id": "a0fb3b0d",
   "metadata": {},
   "outputs": [],
   "source": []
  }
 ],
 "metadata": {
  "kernelspec": {
   "display_name": "Python 3 (ipykernel)",
   "language": "python",
   "name": "python3"
  },
  "language_info": {
   "codemirror_mode": {
    "name": "ipython",
    "version": 3
   },
   "file_extension": ".py",
   "mimetype": "text/x-python",
   "name": "python",
   "nbconvert_exporter": "python",
   "pygments_lexer": "ipython3",
   "version": "3.10.9"
  }
 },
 "nbformat": 4,
 "nbformat_minor": 5
}
