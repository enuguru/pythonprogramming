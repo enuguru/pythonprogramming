{
 "cells": [
  {
   "cell_type": "markdown",
   "id": "172b2741",
   "metadata": {},
   "source": [
    "# instance method, class method and static method"
   ]
  },
  {
   "cell_type": "code",
   "execution_count": 63,
   "id": "8d4342b0",
   "metadata": {},
   "outputs": [],
   "source": [
    "class NewClass:\n",
    "    def newmethod(self):\n",
    "        return 'instance method called', self\n",
    "\n",
    "    @classmethod\n",
    "    def newclassmethod(cls):\n",
    "        return 'class method called', cls\n",
    "\n",
    "    @staticmethod\n",
    "    def newstaticmethod():\n",
    "        return 'static method called'"
   ]
  },
  {
   "cell_type": "code",
   "execution_count": 64,
   "id": "054c01a3",
   "metadata": {},
   "outputs": [
    {
     "name": "stdout",
     "output_type": "stream",
     "text": [
      "('class method called', <class '__main__.NewClass'>)\n",
      "static method called\n",
      "('instance method called', <__main__.NewClass object at 0x0000014457A0DB80>)\n"
     ]
    }
   ],
   "source": [
    "obj = NewClass()\n",
    "print(obj.newclassmethod())\n",
    "print(obj.newstaticmethod())\n",
    "print(obj.newmethod())"
   ]
  },
  {
   "cell_type": "code",
   "execution_count": 65,
   "id": "7953f693",
   "metadata": {},
   "outputs": [
    {
     "name": "stdout",
     "output_type": "stream",
     "text": [
      "('class method called', <class '__main__.MyClass'>)\n",
      "static method called\n"
     ]
    },
    {
     "ename": "TypeError",
     "evalue": "newmethod() missing 1 required positional argument: 'self'",
     "output_type": "error",
     "traceback": [
      "\u001b[1;31m---------------------------------------------------------------------------\u001b[0m",
      "\u001b[1;31mTypeError\u001b[0m                                 Traceback (most recent call last)",
      "\u001b[1;32m~\\AppData\\Local\\Temp\\ipykernel_7296\\3118329433.py\u001b[0m in \u001b[0;36m<module>\u001b[1;34m\u001b[0m\n\u001b[0;32m      2\u001b[0m \u001b[0mprint\u001b[0m\u001b[1;33m(\u001b[0m\u001b[0mMyClass\u001b[0m\u001b[1;33m.\u001b[0m\u001b[0mnewclassmethod\u001b[0m\u001b[1;33m(\u001b[0m\u001b[1;33m)\u001b[0m\u001b[1;33m)\u001b[0m\u001b[1;33m\u001b[0m\u001b[1;33m\u001b[0m\u001b[0m\n\u001b[0;32m      3\u001b[0m \u001b[0mprint\u001b[0m\u001b[1;33m(\u001b[0m\u001b[0mMyClass\u001b[0m\u001b[1;33m.\u001b[0m\u001b[0mnewstaticmethod\u001b[0m\u001b[1;33m(\u001b[0m\u001b[1;33m)\u001b[0m\u001b[1;33m)\u001b[0m\u001b[1;33m\u001b[0m\u001b[1;33m\u001b[0m\u001b[0m\n\u001b[1;32m----> 4\u001b[1;33m \u001b[0mprint\u001b[0m\u001b[1;33m(\u001b[0m\u001b[0mMyClass\u001b[0m\u001b[1;33m.\u001b[0m\u001b[0mnewmethod\u001b[0m\u001b[1;33m(\u001b[0m\u001b[1;33m)\u001b[0m\u001b[1;33m)\u001b[0m\u001b[1;33m\u001b[0m\u001b[1;33m\u001b[0m\u001b[0m\n\u001b[0m",
      "\u001b[1;31mTypeError\u001b[0m: newmethod() missing 1 required positional argument: 'self'"
     ]
    }
   ],
   "source": [
    "obj = NewClass()\n",
    "print(MyClass.newclassmethod())\n",
    "print(MyClass.newstaticmethod())\n",
    "print(MyClass.newmethod())"
   ]
  },
  {
   "cell_type": "markdown",
   "id": "23b3c3ed",
   "metadata": {},
   "source": [
    "# pizza class example"
   ]
  },
  {
   "cell_type": "code",
   "execution_count": 44,
   "id": "3211a471",
   "metadata": {},
   "outputs": [
    {
     "name": "stdout",
     "output_type": "stream",
     "text": [
      "Pizza(['cheese', 'tomatoes'])\n"
     ]
    }
   ],
   "source": [
    "class Pizza:\n",
    "    def __init__(self, ingredients):\n",
    "        self.ingredients = ingredients\n",
    "\n",
    "    def __repr__(self):\n",
    "        return f'Pizza({self.ingredients!r})'\n",
    " \n",
    "print(Pizza(['cheese', 'tomatoes']))"
   ]
  },
  {
   "cell_type": "code",
   "execution_count": 45,
   "id": "a86abe03",
   "metadata": {},
   "outputs": [
    {
     "data": {
      "text/plain": [
       "Pizza(['mozzarella', 'tomatoes'])"
      ]
     },
     "execution_count": 45,
     "metadata": {},
     "output_type": "execute_result"
    }
   ],
   "source": [
    "Pizza(['mozzarella', 'tomatoes'])"
   ]
  },
  {
   "cell_type": "code",
   "execution_count": 46,
   "id": "5732ecd6",
   "metadata": {},
   "outputs": [
    {
     "data": {
      "text/plain": [
       "Pizza(['mozzarella', 'tomatoes', 'ham', 'mushrooms'])"
      ]
     },
     "execution_count": 46,
     "metadata": {},
     "output_type": "execute_result"
    }
   ],
   "source": [
    "Pizza(['mozzarella', 'tomatoes', 'ham', 'mushrooms'])\n"
   ]
  },
  {
   "cell_type": "code",
   "execution_count": 47,
   "id": "6abd8d56",
   "metadata": {},
   "outputs": [
    {
     "data": {
      "text/plain": [
       "Pizza(['mozzarella', 'mozzarella', 'mozzarella', 'mozzarella'])"
      ]
     },
     "execution_count": 47,
     "metadata": {},
     "output_type": "execute_result"
    }
   ],
   "source": [
    "Pizza(['mozzarella'] * 4)"
   ]
  },
  {
   "cell_type": "markdown",
   "id": "40d0e794",
   "metadata": {},
   "source": [
    "# class method usage"
   ]
  },
  {
   "cell_type": "code",
   "execution_count": 9,
   "id": "f35094e0",
   "metadata": {},
   "outputs": [],
   "source": [
    "class Pizza:\n",
    "    def __init__(self, ingredients):\n",
    "        self.ingredients = ingredients\n",
    "\n",
    "    def __repr__(self):\n",
    "        return f'Pizza({self.ingredients!r})'\n",
    "\n",
    "    @classmethod\n",
    "    def margherita(cls):\n",
    "        return cls(['mozzarella', 'tomatoes'])\n",
    "\n",
    "    @classmethod\n",
    "    def prosciutto(cls):\n",
    "        return cls(['mozzarella', 'tomatoes', 'ham'])"
   ]
  },
  {
   "cell_type": "code",
   "execution_count": 10,
   "id": "ebd71d55",
   "metadata": {},
   "outputs": [
    {
     "data": {
      "text/plain": [
       "Pizza(['mozzarella', 'tomatoes', 'ham'])"
      ]
     },
     "execution_count": 10,
     "metadata": {},
     "output_type": "execute_result"
    }
   ],
   "source": [
    "Pizza.margherita()"
   ]
  },
  {
   "cell_type": "code",
   "execution_count": 11,
   "id": "8e500758",
   "metadata": {},
   "outputs": [
    {
     "data": {
      "text/plain": [
       "Pizza(['mozzarella', 'tomatoes', 'ham'])"
      ]
     },
     "execution_count": 11,
     "metadata": {},
     "output_type": "execute_result"
    }
   ],
   "source": [
    "Pizza.prosciutto()"
   ]
  },
  {
   "cell_type": "markdown",
   "id": "dc948063",
   "metadata": {},
   "source": [
    "# static method usage"
   ]
  },
  {
   "cell_type": "code",
   "execution_count": 12,
   "id": "9744dde0",
   "metadata": {},
   "outputs": [],
   "source": [
    "import math\n",
    "\n",
    "class Pizza:\n",
    "    def __init__(self, radius, ingredients):\n",
    "        self.radius = radius\n",
    "        self.ingredients = ingredients\n",
    "\n",
    "    def __repr__(self):\n",
    "        return (f'Pizza({self.radius!r}, '\n",
    "                f'{self.ingredients!r})')\n",
    "\n",
    "    def area(self):\n",
    "        return self.circle_area(self.radius)\n",
    "\n",
    "    @staticmethod\n",
    "    def circle_area(r):\n",
    "        return r ** 2 * math.pi"
   ]
  },
  {
   "cell_type": "code",
   "execution_count": 16,
   "id": "31716575",
   "metadata": {},
   "outputs": [
    {
     "data": {
      "text/plain": [
       "Pizza(4, ['mozzarella', 'tomatoes'])"
      ]
     },
     "execution_count": 16,
     "metadata": {},
     "output_type": "execute_result"
    }
   ],
   "source": [
    "p = Pizza(4, ['mozzarella', 'tomatoes'])\n",
    "p"
   ]
  },
  {
   "cell_type": "code",
   "execution_count": 17,
   "id": "97c47b8f",
   "metadata": {},
   "outputs": [
    {
     "data": {
      "text/plain": [
       "50.26548245743669"
      ]
     },
     "execution_count": 17,
     "metadata": {},
     "output_type": "execute_result"
    }
   ],
   "source": [
    "Pizza(4, ['mozzarella', 'tomatoes'])\n",
    "p.area()"
   ]
  },
  {
   "cell_type": "code",
   "execution_count": 18,
   "id": "8d08c318",
   "metadata": {},
   "outputs": [
    {
     "data": {
      "text/plain": [
       "50.26548245743669"
      ]
     },
     "execution_count": 18,
     "metadata": {},
     "output_type": "execute_result"
    }
   ],
   "source": [
    "Pizza.circle_area(4)"
   ]
  },
  {
   "cell_type": "code",
   "execution_count": 35,
   "id": "f865fb0f",
   "metadata": {},
   "outputs": [
    {
     "ename": "NameError",
     "evalue": "name 'circle_area' is not defined",
     "output_type": "error",
     "traceback": [
      "\u001b[1;31m---------------------------------------------------------------------------\u001b[0m",
      "\u001b[1;31mNameError\u001b[0m                                 Traceback (most recent call last)",
      "\u001b[1;32m~\\AppData\\Local\\Temp\\ipykernel_7296\\2037557012.py\u001b[0m in \u001b[0;36m<module>\u001b[1;34m\u001b[0m\n\u001b[1;32m----> 1\u001b[1;33m \u001b[0mcircle_area\u001b[0m\u001b[1;33m(\u001b[0m\u001b[1;36m5\u001b[0m\u001b[1;33m)\u001b[0m\u001b[1;33m\u001b[0m\u001b[1;33m\u001b[0m\u001b[0m\n\u001b[0m",
      "\u001b[1;31mNameError\u001b[0m: name 'circle_area' is not defined"
     ]
    }
   ],
   "source": [
    "circle_area(5)"
   ]
  },
  {
   "cell_type": "code",
   "execution_count": 48,
   "id": "acdece68",
   "metadata": {},
   "outputs": [
    {
     "name": "stdout",
     "output_type": "stream",
     "text": [
      "['/keys/0', '/keys/1', '/keys/2', '/keys/3', '/keys/4']\n"
     ]
    }
   ],
   "source": [
    "def fetch(callback):\n",
    "    for i in range(5):  # fake DB fetch\n",
    "        yield callback(i)\n",
    "\n",
    "class A:\n",
    "    @classmethod\n",
    "    def key_fn(cls, id):\n",
    "        raise NotImplementedError('')\n",
    "\n",
    "    @classmethod\n",
    "    def load_all(cls):\n",
    "        yield from fetch(cls.key_fn)\n",
    "\n",
    "class B(A):\n",
    "    @classmethod\n",
    "    def key_fn(cls, id):\n",
    "        return f'/keys/{id}'\n",
    "\n",
    "print(list(B.load_all()))  # prints ['/keys/0', '/keys/1', '/keys/2', '/keys/3', '/keys/4']"
   ]
  },
  {
   "cell_type": "code",
   "execution_count": 49,
   "id": "2839a980",
   "metadata": {},
   "outputs": [],
   "source": [
    "from abc import ABC, abstractmethod\n",
    "\n",
    "class WaterTank(ABC):\n",
    "    @abstractmethod\n",
    "    def get_capacity(self):\n",
    "        pass\n",
    "\n",
    "class WaterTankFactory(WaterTank):\n",
    "    def __init__(self, capacity):\n",
    "        self.__capacity = capacity\n",
    "    def get_capacity(self):\n",
    "        return self.__capacity\n",
    "    @classmethod\n",
    "    def set_capacity(cls, capacityRequired):\n",
    "        return cls(capacityRequired)"
   ]
  },
  {
   "cell_type": "code",
   "execution_count": 50,
   "id": "974761da",
   "metadata": {},
   "outputs": [
    {
     "name": "stdout",
     "output_type": "stream",
     "text": [
      "Capacity of tankOne is 500 Litre\n",
      "Capacity of tankTwo is 100 Litre\n"
     ]
    }
   ],
   "source": [
    "tankOne = WaterTankFactory.set_capacity(500)\n",
    "print(f'Capacity of tankOne is {tankOne.get_capacity()} Litre')\n",
    "\n",
    "tankTwo = WaterTankFactory.set_capacity(100)\n",
    "print(f'Capacity of tankTwo is {tankTwo.get_capacity()} Litre')"
   ]
  },
  {
   "cell_type": "code",
   "execution_count": 58,
   "id": "c286ce0d",
   "metadata": {},
   "outputs": [],
   "source": [
    "class software_engineer:\n",
    "    name = 'Balachandra' # class attribute\n",
    "    \n",
    "    def __init__(self):\n",
    "        self.age = 20  # instance attribute\n",
    "\n",
    "    @staticmethod\n",
    "    def whoami():\n",
    "        print('software_engineer Class')"
   ]
  },
  {
   "cell_type": "code",
   "execution_count": 59,
   "id": "2312c655",
   "metadata": {},
   "outputs": [
    {
     "name": "stdout",
     "output_type": "stream",
     "text": [
      "software_engineer Class\n",
      "software_engineer Class\n",
      "software_engineer Class\n"
     ]
    }
   ],
   "source": [
    "software_engineer.whoami()\n",
    "software_engineer().whoami()\n",
    "std = software_engineer()\n",
    "std.whoami()"
   ]
  },
  {
   "cell_type": "code",
   "execution_count": 61,
   "id": "d3167859",
   "metadata": {},
   "outputs": [],
   "source": [
    "class software_engineer:\n",
    "    name = 'Balachandra' # class attribute\n",
    "    \n",
    "    def __init__(self):\n",
    "        self.age = 30  # instance attribute\n",
    "\n",
    "    @staticmethod\n",
    "    def whoami():\n",
    "        print('name=',name,'age=',self.age)"
   ]
  },
  {
   "cell_type": "code",
   "execution_count": 62,
   "id": "b2260e23",
   "metadata": {},
   "outputs": [
    {
     "ename": "NameError",
     "evalue": "name 'name' is not defined",
     "output_type": "error",
     "traceback": [
      "\u001b[1;31m---------------------------------------------------------------------------\u001b[0m",
      "\u001b[1;31mNameError\u001b[0m                                 Traceback (most recent call last)",
      "\u001b[1;32m~\\AppData\\Local\\Temp\\ipykernel_7296\\845478030.py\u001b[0m in \u001b[0;36m<module>\u001b[1;34m\u001b[0m\n\u001b[1;32m----> 1\u001b[1;33m \u001b[0msoftware_engineer\u001b[0m\u001b[1;33m.\u001b[0m\u001b[0mwhoami\u001b[0m\u001b[1;33m(\u001b[0m\u001b[1;33m)\u001b[0m\u001b[1;33m\u001b[0m\u001b[1;33m\u001b[0m\u001b[0m\n\u001b[0m",
      "\u001b[1;32m~\\AppData\\Local\\Temp\\ipykernel_7296\\2986556336.py\u001b[0m in \u001b[0;36mwhoami\u001b[1;34m()\u001b[0m\n\u001b[0;32m      7\u001b[0m     \u001b[1;33m@\u001b[0m\u001b[0mstaticmethod\u001b[0m\u001b[1;33m\u001b[0m\u001b[1;33m\u001b[0m\u001b[0m\n\u001b[0;32m      8\u001b[0m     \u001b[1;32mdef\u001b[0m \u001b[0mwhoami\u001b[0m\u001b[1;33m(\u001b[0m\u001b[1;33m)\u001b[0m\u001b[1;33m:\u001b[0m\u001b[1;33m\u001b[0m\u001b[1;33m\u001b[0m\u001b[0m\n\u001b[1;32m----> 9\u001b[1;33m         \u001b[0mprint\u001b[0m\u001b[1;33m(\u001b[0m\u001b[1;34m'name='\u001b[0m\u001b[1;33m,\u001b[0m\u001b[0mname\u001b[0m\u001b[1;33m,\u001b[0m\u001b[1;34m'age='\u001b[0m\u001b[1;33m,\u001b[0m\u001b[0mself\u001b[0m\u001b[1;33m.\u001b[0m\u001b[0mage\u001b[0m\u001b[1;33m)\u001b[0m\u001b[1;33m\u001b[0m\u001b[1;33m\u001b[0m\u001b[0m\n\u001b[0m",
      "\u001b[1;31mNameError\u001b[0m: name 'name' is not defined"
     ]
    }
   ],
   "source": [
    "software_engineer.whoami()"
   ]
  },
  {
   "cell_type": "code",
   "execution_count": null,
   "id": "8040ff13",
   "metadata": {},
   "outputs": [],
   "source": []
  }
 ],
 "metadata": {
  "kernelspec": {
   "display_name": "Python 3 (ipykernel)",
   "language": "python",
   "name": "python3"
  },
  "language_info": {
   "codemirror_mode": {
    "name": "ipython",
    "version": 3
   },
   "file_extension": ".py",
   "mimetype": "text/x-python",
   "name": "python",
   "nbconvert_exporter": "python",
   "pygments_lexer": "ipython3",
   "version": "3.9.13"
  }
 },
 "nbformat": 4,
 "nbformat_minor": 5
}
