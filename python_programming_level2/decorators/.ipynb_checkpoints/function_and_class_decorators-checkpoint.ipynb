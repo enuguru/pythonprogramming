{
 "cells": [
  {
   "cell_type": "markdown",
   "id": "9e88ef88",
   "metadata": {},
   "source": [
    "# function decorator without the @decorator syntax"
   ]
  },
  {
   "cell_type": "code",
   "execution_count": null,
   "id": "1169440c",
   "metadata": {},
   "outputs": [],
   "source": [
    "# this is calling the decorator before calling the function\n",
    "# but here we not using the decorator syntax, we are doing it\n",
    "# from first principles\n",
    "\n",
    "def decorator_function(func):\n",
    "    def inner():\n",
    "        print(\"I am the decorator function and I am doing decoration job\")\n",
    "        func()\n",
    "    return inner\n",
    "\n",
    "def function_one():\n",
    "    print(\"I am function_one and I got decorated\")\n",
    "\n",
    "\n",
    "# let's decorate function_one\n",
    "funcvar = decorator_function(function_one)\n",
    "funcvar()\n"
   ]
  },
  {
   "cell_type": "markdown",
   "id": "0a091f48",
   "metadata": {},
   "source": [
    "# function decorator using the @decorator syntax"
   ]
  },
  {
   "cell_type": "code",
   "execution_count": null,
   "id": "b2e34608",
   "metadata": {},
   "outputs": [],
   "source": [
    "# here we are using the decorator syntax and doing\n",
    "# the same thing done in the previous program\n",
    "# does'nt this look cleaner ?\n",
    "\n",
    "def decorator_function(func):\n",
    "\n",
    "    def inner():\n",
    "        print(\"I am the decorator_function, and I am doing decoration job\")\n",
    "        func()\n",
    "\n",
    "    return inner\n",
    "\n",
    "\n",
    "@decorator_function\n",
    "def function_one():\n",
    "    print(\"I am function_one, I got decorated\")\n",
    "\n",
    "function_one()\n",
    "\n",
    "#syntactic sugar"
   ]
  },
  {
   "cell_type": "markdown",
   "id": "4df3a47a",
   "metadata": {},
   "source": [
    "# class decorator using the @decorator syntax"
   ]
  },
  {
   "cell_type": "code",
   "execution_count": null,
   "id": "16daf952",
   "metadata": {},
   "outputs": [],
   "source": [
    "\n",
    "class decorator_class(object):\n",
    "\n",
    "    def __init__(self, badri):\n",
    "        print(\"I am the decorator_class.__init__(), and an instance of decorator class created\")\n",
    "        self._args = badri\n",
    "\n",
    "    def __call__(self):\n",
    "        print(\"I am the decorator_class.__call__(), and I am doing decoration job\")\n",
    "        self._args()\n",
    "\n",
    "@decorator_class\n",
    "def function_one():\n",
    "    print(\"I am function one and I got decorated\")\n",
    "\n",
    "function_one()"
   ]
  },
  {
   "cell_type": "code",
   "execution_count": null,
   "id": "63f0f211",
   "metadata": {},
   "outputs": [],
   "source": []
  }
 ],
 "metadata": {
  "kernelspec": {
   "display_name": "Python 3 (ipykernel)",
   "language": "python",
   "name": "python3"
  },
  "language_info": {
   "codemirror_mode": {
    "name": "ipython",
    "version": 3
   },
   "file_extension": ".py",
   "mimetype": "text/x-python",
   "name": "python",
   "nbconvert_exporter": "python",
   "pygments_lexer": "ipython3",
   "version": "3.9.7"
  }
 },
 "nbformat": 4,
 "nbformat_minor": 5
}
