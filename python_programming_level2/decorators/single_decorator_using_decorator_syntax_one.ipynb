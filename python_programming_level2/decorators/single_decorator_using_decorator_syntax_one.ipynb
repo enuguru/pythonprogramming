{
 "cells": [
  {
   "cell_type": "code",
   "execution_count": 1,
   "id": "7f8096af",
   "metadata": {},
   "outputs": [
    {
     "name": "stdout",
     "output_type": "stream",
     "text": [
      "I am the decorator_function, I am doing the decoration job\n",
      "I am function_one, I got decorated\n"
     ]
    }
   ],
   "source": [
    "# here we are using the decorator syntax and doing\n",
    "# the same thing done in the previous program\n",
    "# does'nt this look cleaner ?\n",
    "\n",
    "def decorator_function(func):\n",
    "\n",
    "    print(\"I am the decorator_function, I am doing the decoration job\")\n",
    "    return func\n",
    "\n",
    "\n",
    "@decorator_function\n",
    "def function_one():\n",
    "    print(\"I am function_one, I got decorated\")\n",
    "\n",
    "function_one()\n",
    "\n",
    "#syntactic sugar"
   ]
  },
  {
   "cell_type": "code",
   "execution_count": null,
   "id": "978a9f8c",
   "metadata": {},
   "outputs": [],
   "source": []
  }
 ],
 "metadata": {
  "kernelspec": {
   "display_name": "Python 3 (ipykernel)",
   "language": "python",
   "name": "python3"
  },
  "language_info": {
   "codemirror_mode": {
    "name": "ipython",
    "version": 3
   },
   "file_extension": ".py",
   "mimetype": "text/x-python",
   "name": "python",
   "nbconvert_exporter": "python",
   "pygments_lexer": "ipython3",
   "version": "3.10.9"
  }
 },
 "nbformat": 4,
 "nbformat_minor": 5
}
