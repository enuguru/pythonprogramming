{
 "cells": [
  {
   "cell_type": "code",
   "execution_count": null,
   "metadata": {
    "ExecuteTime": {
     "end_time": "2020-09-11T10:25:49.425661Z",
     "start_time": "2020-09-11T10:25:49.416665Z"
    }
   },
   "outputs": [],
   "source": [
    "import csv\n",
    "# (a) Reading as lists\n",
    "print('Reading as lists:')"
   ]
  },
  {
   "cell_type": "code",
   "execution_count": null,
   "metadata": {
    "ExecuteTime": {
     "end_time": "2020-09-11T10:28:23.100339Z",
     "start_time": "2020-09-11T10:28:23.083357Z"
    }
   },
   "outputs": [],
   "source": [
    "with open('stocks.csv') as f:\n",
    "    f_csv = csv.reader(f)\n",
    "    headers = next(f_csv)\n",
    "    print(\"    \",headers)\n",
    "    for row in f_csv:\n",
    "        print('    ', row)"
   ]
  },
  {
   "cell_type": "code",
   "execution_count": null,
   "metadata": {
    "ExecuteTime": {
     "end_time": "2020-09-11T10:28:46.666114Z",
     "start_time": "2020-09-11T10:28:46.647126Z"
    }
   },
   "outputs": [],
   "source": [
    "with open('stocks.csv') as text_file, open('stockswrite.csv', 'w') as myfile:  \n",
    "    for line in text_file:\n",
    "        myfile.write(line)"
   ]
  },
  {
   "cell_type": "code",
   "execution_count": null,
   "metadata": {
    "ExecuteTime": {
     "end_time": "2020-09-11T10:29:06.538595Z",
     "start_time": "2020-09-11T10:29:06.499618Z"
    }
   },
   "outputs": [],
   "source": [
    "with open('stocks.csv') as f:\n",
    "    mylist = [tuple(i.split(',')) for i in f]\n",
    "mylist"
   ]
  },
  {
   "cell_type": "code",
   "execution_count": null,
   "metadata": {},
   "outputs": [],
   "source": []
  },
  {
   "cell_type": "code",
   "execution_count": null,
   "metadata": {
    "ExecuteTime": {
     "end_time": "2020-09-11T10:29:13.723321Z",
     "start_time": "2020-09-11T10:29:13.705331Z"
    }
   },
   "outputs": [],
   "source": [
    "from collections import namedtuple\n",
    "print(\"Reading as named tuples\")\n",
    "\n",
    "with open('stocks.csv') as f:\n",
    "    f_csv = csv.reader(f)\n",
    "    Row = namedtuple('Row', next(f_csv))\n",
    "    for r in f_csv:\n",
    "        row = Row(*r)\n",
    "        print('    ', row)"
   ]
  },
  {
   "cell_type": "code",
   "execution_count": null,
   "metadata": {
    "ExecuteTime": {
     "end_time": "2020-09-11T10:30:20.113394Z",
     "start_time": "2020-09-11T10:30:20.091408Z"
    }
   },
   "outputs": [],
   "source": [
    "with open('stocks.csv') as text_file, open('stockswrite.csv', 'w') as myfile:\n",
    "    #for line in text_file:\n",
    "        #print(line)\n",
    "        mylist = [tuple(i.split(',')) for i in text_file]\n",
    "        myfile.write(''.join('{} {} {} {} {} {}'.format(x[0],x[1],x[2],x[3],x[4],x[5]) for x in mylist))"
   ]
  },
  {
   "cell_type": "code",
   "execution_count": null,
   "metadata": {
    "ExecuteTime": {
     "end_time": "2020-09-11T10:30:22.686703Z",
     "start_time": "2020-09-11T10:30:22.670712Z"
    }
   },
   "outputs": [],
   "source": [
    "# (c) Reading as dictionaries\n",
    "print('Reading as dictionaries')"
   ]
  },
  {
   "cell_type": "code",
   "execution_count": null,
   "metadata": {
    "ExecuteTime": {
     "end_time": "2020-09-11T10:30:23.628539Z",
     "start_time": "2020-09-11T10:30:23.607552Z"
    }
   },
   "outputs": [],
   "source": [
    "with open('stocks.csv') as f:\n",
    "    f_csv = csv.DictReader(f)\n",
    "    for row in f_csv:\n",
    "        print('    ', row)"
   ]
  },
  {
   "cell_type": "code",
   "execution_count": null,
   "metadata": {
    "ExecuteTime": {
     "end_time": "2020-09-02T09:08:57.283804Z",
     "start_time": "2020-09-02T09:08:57.273788Z"
    }
   },
   "outputs": [],
   "source": [
    "# (d) Reading into tuples with type conversion\n",
    "print('Reading into tuples with type conversion')"
   ]
  },
  {
   "cell_type": "code",
   "execution_count": null,
   "metadata": {
    "ExecuteTime": {
     "end_time": "2020-09-02T10:20:30.793354Z",
     "start_time": "2020-09-02T10:20:30.768368Z"
    }
   },
   "outputs": [],
   "source": [
    "col_types = [str, float, str, str, float, int]\n",
    "with open('stocks.csv') as f:\n",
    "    f_csv = csv.reader(f)\n",
    "    headers = next(f_csv)\n",
    "    for row in f_csv:\n",
    "        row = tuple(convert(value) for convert, value in zip(col_types, row))\n",
    "        print(row)"
   ]
  },
  {
   "cell_type": "code",
   "execution_count": null,
   "metadata": {
    "ExecuteTime": {
     "end_time": "2020-09-02T09:09:00.953002Z",
     "start_time": "2020-09-02T09:09:00.938989Z"
    }
   },
   "outputs": [],
   "source": [
    "# (e) Converting selected dict fields\n",
    "print('Reading as dicts with type conversion')"
   ]
  },
  {
   "cell_type": "code",
   "execution_count": null,
   "metadata": {},
   "outputs": [],
   "source": []
  }
 ],
 "metadata": {
  "kernelspec": {
   "display_name": "Python 3 (ipykernel)",
   "language": "python",
   "name": "python3"
  },
  "language_info": {
   "codemirror_mode": {
    "name": "ipython",
    "version": 3
   },
   "file_extension": ".py",
   "mimetype": "text/x-python",
   "name": "python",
   "nbconvert_exporter": "python",
   "pygments_lexer": "ipython3",
   "version": "3.9.13"
  }
 },
 "nbformat": 4,
 "nbformat_minor": 2
}
