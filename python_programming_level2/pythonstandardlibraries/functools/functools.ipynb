{
 "cells": [
  {
   "cell_type": "markdown",
   "id": "7b9ec6c4",
   "metadata": {},
   "source": [
    "# functools partial function"
   ]
  },
  {
   "cell_type": "code",
   "execution_count": 1,
   "id": "f7666630",
   "metadata": {},
   "outputs": [
    {
     "name": "stdout",
     "output_type": "stream",
     "text": [
      "8\n",
      "16\n",
      "81\n",
      "25\n",
      "Function used in partial function pow2 : <function power at 0x0000022148FC14C0>\n",
      "Default keywords for pow2 : {'b': 2}\n",
      "Default arguments for power_of_5 : (5,)\n"
     ]
    }
   ],
   "source": [
    "from functools import partial\n",
    "\n",
    "def power(a, b):\n",
    "    return a**b\n",
    "\n",
    "# partial functions\n",
    "pow2 = partial(power, b=2)\n",
    "pow4 = partial(power, b=4)\n",
    "power_of_5 = partial(power, 5)\n",
    "\n",
    "print(power(2, 3))\n",
    "print(pow2(4))\n",
    "print(pow4(3))\n",
    "print(power_of_5(2))\n",
    "\n",
    "print('Function used in partial function pow2 :', pow2.func)\n",
    "print('Default keywords for pow2 :', pow2.keywords)\n",
    "print('Default arguments for power_of_5 :', power_of_5.args)"
   ]
  },
  {
   "cell_type": "markdown",
   "id": "4840da3c",
   "metadata": {},
   "source": [
    "# functools partialmethod"
   ]
  },
  {
   "cell_type": "code",
   "execution_count": 7,
   "id": "eb0893cd",
   "metadata": {},
   "outputs": [
    {
     "name": "stdout",
     "output_type": "stream",
     "text": [
      "black\n",
      "blue\n"
     ]
    }
   ],
   "source": [
    "from functools import partialmethod\n",
    "\n",
    "class Demo:\n",
    "    def __init__(self):\n",
    "        self.color = 'black'\n",
    "\n",
    "    def _color(self, type):\n",
    "        self.color = type\n",
    "\n",
    "    set_red = partialmethod(_color, type='red')\n",
    "    set_blue = partialmethod(_color, type='blue')\n",
    "    set_green = partialmethod(_color, type='green')\n",
    "\n",
    "\n",
    "obj = Demo()\n",
    "print(obj.color)\n",
    "obj.set_blue()\n",
    "print(obj.color)\n"
   ]
  },
  {
   "cell_type": "markdown",
   "id": "b0c5735e",
   "metadata": {},
   "source": [
    "# excel column id decode using functools.reduce"
   ]
  },
  {
   "cell_type": "code",
   "execution_count": 4,
   "id": "458756d0",
   "metadata": {},
   "outputs": [
    {
     "name": "stdout",
     "output_type": "stream",
     "text": [
      "enter a valid excel column id rt\n",
      "488\n"
     ]
    }
   ],
   "source": [
    "# this program converts an excel column id to an integer\n",
    "import functools\n",
    "\n",
    "col = input(\"enter a valid excel column id \").upper()\n",
    "# 0 goes to ret, col goes to c variable\n",
    "# it is reverse in reduce function\n",
    "\n",
    "print(functools.reduce(lambda ret,c:ret*26+ord(c)-ord('A')+1,col,0))"
   ]
  },
  {
   "cell_type": "markdown",
   "id": "c4cd8c92",
   "metadata": {},
   "source": [
    "# string to integer using functools.reduce"
   ]
  },
  {
   "cell_type": "code",
   "execution_count": 5,
   "id": "5791a885",
   "metadata": {},
   "outputs": [
    {
     "name": "stdout",
     "output_type": "stream",
     "text": [
      "52\n"
     ]
    }
   ],
   "source": [
    "import string\n",
    "import functools\n",
    "s=\"314\"; t=\"AZ\"\n",
    "print(functools.reduce(lambda result,c:result*26+ord(c)-ord('A')+1,t,0))"
   ]
  },
  {
   "cell_type": "markdown",
   "id": "aac841aa",
   "metadata": {},
   "source": [
    "# roman to decimal conversion using functools.reduce"
   ]
  },
  {
   "cell_type": "code",
   "execution_count": 6,
   "id": "057e112a",
   "metadata": {},
   "outputs": [
    {
     "name": "stdout",
     "output_type": "stream",
     "text": [
      "ICCL\n",
      "249\n"
     ]
    }
   ],
   "source": [
    "import functools\n",
    "def roman_to_decimal(s):\n",
    "    T={'I':1,'V':5,'X':10,'L':50,'C':100,'D':500,'M':1000}\n",
    "    return functools.reduce(lambda val,i:val+(-T[s[i]] if T[s[i]]<T[s[i+1]] else T[s[i]]),reversed(range(len(s)-1)),T[s[-1]])\n",
    "\n",
    "s='ICCL'\n",
    "print(roman_to_decimal(input()))"
   ]
  },
  {
   "cell_type": "code",
   "execution_count": 8,
   "id": "c6c4c165",
   "metadata": {},
   "outputs": [
    {
     "name": "stdout",
     "output_type": "stream",
     "text": [
      "[0, 1, 4, 9, 16, 25, 36, 49, 64, 81]\n"
     ]
    }
   ],
   "source": [
    "def squared(num):\n",
    "    return pow(num, 2) \n",
    "print(list(map(squared, range(0, 10))))"
   ]
  },
  {
   "cell_type": "code",
   "execution_count": 9,
   "id": "b7825854",
   "metadata": {},
   "outputs": [
    {
     "name": "stdout",
     "output_type": "stream",
     "text": [
      "[0, 1, 4, 9, 16, 25, 36, 49, 64, 81]\n"
     ]
    }
   ],
   "source": [
    "print(list(map(partial(pow, exp=2), range(0, 10))))"
   ]
  },
  {
   "cell_type": "code",
   "execution_count": 10,
   "id": "0771e4a9",
   "metadata": {},
   "outputs": [
    {
     "name": "stdout",
     "output_type": "stream",
     "text": [
      "False\n",
      "True\n"
     ]
    }
   ],
   "source": [
    "from functools import partialmethod\n",
    " \n",
    "class Character:\n",
    "    def __init__(self):\n",
    "        self.has_magic = False\n",
    "    @property\n",
    "    def magic(self):\n",
    "        return self.has_magic\n",
    " \n",
    "    def set_magic(self, magic):\n",
    "        self.has_magic = bool(magic)\n",
    " \n",
    "    set_has_magic = partialmethod(set_magic, True)\n",
    " \n",
    "# Instantiating\n",
    "witcher = Character()\n",
    "# Check for Magical Powers\n",
    "print(witcher.magic)  # False\n",
    "# Providing Magical Powers to our Witcher\n",
    "witcher.set_has_magic()\n",
    "print(witcher.magic)  # True"
   ]
  },
  {
   "cell_type": "code",
   "execution_count": null,
   "id": "4e2b31b8",
   "metadata": {},
   "outputs": [],
   "source": []
  }
 ],
 "metadata": {
  "kernelspec": {
   "display_name": "Python 3 (ipykernel)",
   "language": "python",
   "name": "python3"
  },
  "language_info": {
   "codemirror_mode": {
    "name": "ipython",
    "version": 3
   },
   "file_extension": ".py",
   "mimetype": "text/x-python",
   "name": "python",
   "nbconvert_exporter": "python",
   "pygments_lexer": "ipython3",
   "version": "3.9.13"
  }
 },
 "nbformat": 4,
 "nbformat_minor": 5
}
