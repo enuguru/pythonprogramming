{
  "nbformat": 4,
  "nbformat_minor": 0,
  "metadata": {
    "colab": {
      "provenance": []
    },
    "kernelspec": {
      "name": "python3",
      "display_name": "Python 3"
    },
    "language_info": {
      "name": "python"
    }
  },
  "cells": [
    {
      "cell_type": "code",
      "execution_count": null,
      "metadata": {
        "colab": {
          "base_uri": "https://localhost:8080/"
        },
        "id": "yPLB-ZXlE1OQ",
        "outputId": "4f9e8c23-9e2b-46c6-f4b1-9a3add83ee65"
      },
      "outputs": [
        {
          "output_type": "stream",
          "name": "stdout",
          "text": [
            "{'__module__': '__main__', 'class_variable': 10, 'method1': <function MyClass.method1 at 0x7e4662e19ea0>, 'method2': <function MyClass.method2 at 0x7e4662010ca0>, '__dict__': <attribute '__dict__' of 'MyClass' objects>, '__weakref__': <attribute '__weakref__' of 'MyClass' objects>, '__doc__': None}\n",
            "Method 1 called\n",
            "Method 2 called\n"
          ]
        }
      ],
      "source": [
        "class MyClass:\n",
        "    class_variable = 10\n",
        "\n",
        "    def method1(self):\n",
        "        return \"Method 1 called\"\n",
        "\n",
        "    def method2(self):\n",
        "        return \"Method 2 called\"\n",
        "\n",
        "# Create an instance of the class\n",
        "obj = MyClass()\n",
        "\n",
        "# Access the class's __dict__ attribute\n",
        "class_dict = MyClass.__dict__\n",
        "\n",
        "# Print the class dictionary\n",
        "print(class_dict)\n",
        "\n",
        "# Lookup and call method1 using the class dictionary\n",
        "method1 = class_dict['method1']\n",
        "print(method1(obj))  # Output: Method 1 called\n",
        "\n",
        "# Lookup and call method2 using the class dictionary\n",
        "method2 = class_dict['method2']\n",
        "print(method2(obj))  # Output: Method 2 called\n"
      ]
    },
    {
      "cell_type": "code",
      "source": [
        "type(MyClass.__dict__)"
      ],
      "metadata": {
        "colab": {
          "base_uri": "https://localhost:8080/"
        },
        "id": "FEp6ztggWFMh",
        "outputId": "9eb0da7e-5aed-4529-d6f4-00b7898cd20b"
      },
      "execution_count": null,
      "outputs": [
        {
          "output_type": "execute_result",
          "data": {
            "text/plain": [
              "mappingproxy"
            ]
          },
          "metadata": {},
          "execution_count": 3
        }
      ]
    },
    {
      "cell_type": "code",
      "source": [
        "class C: pass\n",
        "type(C.__dict__)\n",
        "#<class 'mappingproxy'>"
      ],
      "metadata": {
        "colab": {
          "base_uri": "https://localhost:8080/"
        },
        "id": "tWYSgnYxV2sx",
        "outputId": "f54f5e8d-4347-4536-dbec-85802aba6f51"
      },
      "execution_count": null,
      "outputs": [
        {
          "output_type": "execute_result",
          "data": {
            "text/plain": [
              "mappingproxy"
            ]
          },
          "metadata": {},
          "execution_count": 2
        }
      ]
    },
    {
      "cell_type": "code",
      "source": [
        "class MyClass:\n",
        "    class_var = \"I am a class variable\"\n",
        "\n",
        "    def __init__(self, value):\n",
        "        self.instance_var = value\n",
        "\n",
        "    def method1(self):\n",
        "        return \"Method 1 called\"\n",
        "\n",
        "    def method2(self):\n",
        "        return \"Method 2 called\"\n",
        "\n",
        "# Accessing the class's __dict__\n",
        "print(\"Class __dict__:\")\n",
        "print(MyClass.__dict__)\n",
        "print()\n",
        "\n",
        "# Creating an instance of MyClass\n",
        "obj = MyClass(\"I am an instance variable\")\n",
        "\n",
        "# Accessing the instance's __dict__\n",
        "print(\"Instance __dict__:\")\n",
        "print(obj.__dict__)\n",
        "print()\n",
        "\n",
        "# Using __dict__ to dynamically access class attributes and methods\n",
        "class_dict = MyClass.__dict__\n",
        "\n",
        "# Accessing class variable\n",
        "class_var = class_dict['class_var']\n",
        "print(\"Class variable from __dict__:\", class_var)\n",
        "\n",
        "# Accessing and calling methods dynamically\n",
        "method1 = class_dict['method1']\n",
        "method2 = class_dict['method2']\n",
        "print(\"Calling method1 from __dict__:\", method1(obj))\n",
        "print(\"Calling method2 from __dict__:\", method2(obj))\n"
      ],
      "metadata": {
        "colab": {
          "base_uri": "https://localhost:8080/"
        },
        "id": "_eXRzdhdCsnA",
        "outputId": "20ad997f-6580-497f-934d-0a857df12522"
      },
      "execution_count": null,
      "outputs": [
        {
          "output_type": "stream",
          "name": "stdout",
          "text": [
            "Class __dict__:\n",
            "{'__module__': '__main__', 'class_var': 'I am a class variable', '__init__': <function MyClass.__init__ at 0x78e07438c940>, 'method1': <function MyClass.method1 at 0x78e07438c550>, 'method2': <function MyClass.method2 at 0x78e07438c1f0>, '__dict__': <attribute '__dict__' of 'MyClass' objects>, '__weakref__': <attribute '__weakref__' of 'MyClass' objects>, '__doc__': None}\n",
            "\n",
            "Instance __dict__:\n",
            "{'instance_var': 'I am an instance variable'}\n",
            "\n",
            "Class variable from __dict__: I am a class variable\n",
            "Calling method1 from __dict__: Method 1 called\n",
            "Calling method2 from __dict__: Method 2 called\n"
          ]
        }
      ]
    },
    {
      "cell_type": "code",
      "source": [
        "class MyClass:\n",
        "    class_var = \"I am a class variable\"\n",
        "\n",
        "    def __init__(self, value):\n",
        "        self.instance_var = value\n",
        "\n",
        "    def method1(self):\n",
        "        return \"Method 1 called\"\n",
        "\n",
        "    @staticmethod\n",
        "    def static_method():\n",
        "        return \"I am a static method\"\n",
        "\n",
        "    @classmethod\n",
        "    def class_method(cls):\n",
        "        return \"I am a class method\"\n",
        "\n",
        "    @property\n",
        "    def some_property(self):\n",
        "        return \"This is a property\"\n",
        "\n",
        "# Accessing the class's __dict__\n",
        "class_dict = MyClass.__dict__\n",
        "\n",
        "# Print the class dictionary\n",
        "for key, value in class_dict.items():\n",
        "    print(f\"{key}: {value}\")\n"
      ],
      "metadata": {
        "id": "TPMaWxF0Jcbp",
        "outputId": "a052c0f7-1713-4ce1-b2af-99df3b6ea17e",
        "colab": {
          "base_uri": "https://localhost:8080/"
        }
      },
      "execution_count": null,
      "outputs": [
        {
          "output_type": "stream",
          "name": "stdout",
          "text": [
            "__module__: __main__\n",
            "class_var: I am a class variable\n",
            "__init__: <function MyClass.__init__ at 0x78e07509c700>\n",
            "method1: <function MyClass.method1 at 0x78e07438c310>\n",
            "static_method: <staticmethod(<function MyClass.static_method at 0x78e07438d7e0>)>\n",
            "class_method: <classmethod(<function MyClass.class_method at 0x78e07438d750>)>\n",
            "some_property: <property object at 0x78e074399800>\n",
            "__dict__: <attribute '__dict__' of 'MyClass' objects>\n",
            "__weakref__: <attribute '__weakref__' of 'MyClass' objects>\n",
            "__doc__: None\n"
          ]
        }
      ]
    }
  ]
}