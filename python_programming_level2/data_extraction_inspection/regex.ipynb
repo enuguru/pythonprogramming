{
 "cells": [
  {
   "cell_type": "markdown",
   "metadata": {},
   "source": [
    "# split, match, findall, "
   ]
  },
  {
   "cell_type": "markdown",
   "metadata": {},
   "source": [
    "# split the given string"
   ]
  },
  {
   "cell_type": "raw",
   "metadata": {},
   "source": [
    "You are given a string consisting only of digits 0-9, commas ,, and dots\n",
    "\n",
    "sample input 100,000,000.000"
   ]
  },
  {
   "cell_type": "code",
   "execution_count": 1,
   "metadata": {},
   "outputs": [
    {
     "name": "stdout",
     "output_type": "stream",
     "text": [
      "200,300,400\n",
      "200 300 400\n"
     ]
    }
   ],
   "source": [
    "import re\n",
    "guru = r\"\\D+\"\n",
    "print(\" \".join(re.split(guru,input())))"
   ]
  },
  {
   "cell_type": "markdown",
   "metadata": {},
   "source": [
    "# find a floating point number"
   ]
  },
  {
   "cell_type": "raw",
   "metadata": {},
   "source": [
    "Number can start with +, - or . symbol\n",
    "Number must contain at least 1 decimal value\n",
    "Number must have exactly one . symbol\n",
    "Number must not give any exceptions when converted using float(N)\n",
    "4\n",
    "4.0O0\n",
    "-1.00\n",
    "+4.54\n",
    "SomeRandomStuff"
   ]
  },
  {
   "cell_type": "code",
   "execution_count": 2,
   "metadata": {},
   "outputs": [
    {
     "name": "stdout",
     "output_type": "stream",
     "text": [
      "4\n",
      "45\n",
      "False\n",
      "67\n",
      "False\n",
      "34.\n",
      "False\n",
      "45.90\n",
      "True\n"
     ]
    }
   ],
   "source": [
    "import re\n",
    "regex = r'^[-+]?[0-9]*\\.[0-9]+$'\n",
    "for _ in range(int(input())):\n",
    "    print(bool(re.match(regex, input())))"
   ]
  },
  {
   "cell_type": "markdown",
   "metadata": {},
   "source": [
    "# find if the given number is a valid credit card number"
   ]
  },
  {
   "cell_type": "code",
   "execution_count": 3,
   "metadata": {},
   "outputs": [],
   "source": [
    "#the total numbers are 16\n",
    "#there can be - after 4 numbers\n",
    "#the number should start with 4,5,6\n",
    "#there should not be ' ','_'\n",
    "#no same character should repeat 4 times\n",
    "# 4578-3456-1245-0099"
   ]
  },
  {
   "cell_type": "code",
   "execution_count": 17,
   "metadata": {
    "scrolled": false
   },
   "outputs": [
    {
     "name": "stdout",
     "output_type": "stream",
     "text": [
      "4567678245557800\n",
      "The credit card is valid\n"
     ]
    }
   ],
   "source": [
    "import re\n",
    "s = input()\n",
    "if re.match(r\"^[456]([\\d]{15}|[\\d]{3}(-[\\d]{4}){3})$\",s) and not re.search(r\"([\\d])\\1\\1\\1\",s.replace(\"-\",\"\")):\n",
    "    #if re.match(r\"^[456]([\\d]{15}|[\\d]{3}(-[\\d]{4}){3})$\",s) and not re.search(r\"([\\d])\\1\\1\\1\",s.replace(\"-\",\"\")):\n",
    "    print(\"The credit card is valid\")\n",
    "else:\n",
    "    print(\"The credit card is not valid\")"
   ]
  },
  {
   "cell_type": "code",
   "execution_count": 21,
   "metadata": {},
   "outputs": [
    {
     "name": "stdout",
     "output_type": "stream",
     "text": [
      "45676782455578005\n",
      "The credit card is not valid\n"
     ]
    }
   ],
   "source": [
    "import re\n",
    "s = input()\n",
    "if re.match(r\"^(?!.*(\\d)(-?\\1){3})[456]\\d{3}(?:-?\\d{4}){3}$\",s):\n",
    "    #if re.match(r\"^[456]([\\d]{15}|[\\d]{3}(-[\\d]{4}){3})$\",s) and not re.search(r\"([\\d])\\1\\1\\1\",s.replace(\"-\",\"\")):\n",
    "    print(\"The credit card is valid\")\n",
    "else:\n",
    "    print(\"The credit card is not valid\")"
   ]
  },
  {
   "cell_type": "markdown",
   "metadata": {},
   "source": [
    "# find if the given number is a valid mobile number"
   ]
  },
  {
   "cell_type": "raw",
   "metadata": {},
   "source": [
    "A valid mobile number is a ten digit number starting with a 7, 8 or 9\n",
    "\n",
    "2\n",
    "9587456281\n",
    "1252478965"
   ]
  },
  {
   "cell_type": "code",
   "execution_count": 8,
   "metadata": {},
   "outputs": [
    {
     "name": "stdout",
     "output_type": "stream",
     "text": [
      "2\n",
      "9876534234\n",
      "YES\n",
      "5678456344\n",
      "NO\n"
     ]
    }
   ],
   "source": [
    "import re\n",
    "\n",
    "val = int(input())\n",
    "for _ in range(val):\n",
    "    if re.match(r'[789]\\d{9}$',input()):   \n",
    "        print('YES')\n",
    "    else:  \n",
    "        print('NO')"
   ]
  },
  {
   "cell_type": "markdown",
   "metadata": {},
   "source": [
    "# find if the given email address is a valid email address"
   ]
  },
  {
   "cell_type": "raw",
   "metadata": {},
   "source": [
    "A valid email address meets the following criteria:\n",
    "\n",
    "It's composed of a username, domain name, and extension assembled in this format: username@domain.extension\n",
    "The username starts with an English alphabetical character, and any subsequent characters consist of one or more of the following: alphanumeric characters, -,., and _.\n",
    "The domain and extension contain only English alphabetical characters.\n",
    "The extension is , , or  characters in length.\n",
    "DEXTER <dexter@hotmail.com>\n"
   ]
  },
  {
   "cell_type": "code",
   "execution_count": 10,
   "metadata": {},
   "outputs": [
    {
     "name": "stdout",
     "output_type": "stream",
     "text": [
      "1\n",
      "karthik <badrikarthik@gmail.com>\n",
      "karthik <badrikarthik@gmail.com>\n"
     ]
    }
   ],
   "source": [
    "import re\n",
    "n = int(input())\n",
    "for _ in range(n):\n",
    "    x, y = input().split(' ')\n",
    "    m = re.match(r'<[A-Za-z](\\w|-|\\.|_)+@[A-Za-z]+\\.[A-Za-z]{1,3}>', y)\n",
    "    #m = re.match(r'<[A-Za-z][\\w-\\._]+@[A-Za-z]+\\.[A-Za-z]{1,3}>', y)\n",
    "    if m:\n",
    "        print(x,y)"
   ]
  },
  {
   "cell_type": "markdown",
   "metadata": {},
   "source": [
    "# find if the vowels"
   ]
  },
  {
   "cell_type": "raw",
   "metadata": {},
   "source": [
    "You are given a string . It consists of alphanumeric characters, spaces and symbols(+,-).\n",
    "Your task is to find all the substrings of  that contains  or more vowels.\n",
    "Also, these substrings must lie in between  consonants and should contain vowels only.\n",
    "rabcdeefgyYhFjkIoomnpOeorteeeeet\n",
    "ee\n",
    "Ioo\n",
    "Oeo\n",
    "eeeee"
   ]
  },
  {
   "cell_type": "code",
   "execution_count": 11,
   "metadata": {},
   "outputs": [
    {
     "name": "stdout",
     "output_type": "stream",
     "text": [
      "Theweatherissopleasanttoday\n",
      "ea\n",
      "ea\n"
     ]
    }
   ],
   "source": [
    "# Enter your code here. Read input from STDIN. Print output to STDOUT\n",
    "\n",
    "import re\n",
    "\n",
    "VOWELS = 'aeiou'\n",
    "CONSONANTS = 'bcdfghjklmnpqrstvwxyz'\n",
    "REGEX = '(?<=[' + CONSONANTS + '])([' + VOWELS + ']{2,})[' + CONSONANTS + ']'\n",
    "\n",
    "match = re.findall(REGEX, input(), re.IGNORECASE)\n",
    "if match:\n",
    "    print(*match, sep='\\n')\n",
    "else:\n",
    "    print('-1')"
   ]
  },
  {
   "cell_type": "markdown",
   "metadata": {},
   "source": [
    "# find if the given postal code is valid"
   ]
  },
  {
   "cell_type": "raw",
   "metadata": {},
   "source": [
    "A valid postal code  have to fullfil both below requirements:\n",
    "\n",
    "P must be a number in the range from 100000 to 999999 inclusive.\n",
    "P must not contain more than one alternating repetitive digit pair."
   ]
  },
  {
   "cell_type": "code",
   "execution_count": 25,
   "metadata": {},
   "outputs": [
    {
     "name": "stdout",
     "output_type": "stream",
     "text": [
      "232456\n",
      "True\n"
     ]
    }
   ],
   "source": [
    "import re\n",
    "P = input()\n",
    "regex_integer_in_range = r\"^[1-9][\\d]{5}$\"\n",
    "regex_alternating_repetitive_digit_pair = r\"(\\d)(?=\\d\\1)\"\n",
    "print (bool(re.match(regex_integer_in_range, P)) and len(re.findall(regex_alternating_repetitive_digit_pair, P)) < 2)"
   ]
  },
  {
   "cell_type": "code",
   "execution_count": null,
   "metadata": {},
   "outputs": [],
   "source": [
    "(\\d)(?=\\d\\1)"
   ]
  }
 ],
 "metadata": {
  "kernelspec": {
   "display_name": "Python 3 (ipykernel)",
   "language": "python",
   "name": "python3"
  },
  "language_info": {
   "codemirror_mode": {
    "name": "ipython",
    "version": 3
   },
   "file_extension": ".py",
   "mimetype": "text/x-python",
   "name": "python",
   "nbconvert_exporter": "python",
   "pygments_lexer": "ipython3",
   "version": "3.9.7"
  }
 },
 "nbformat": 4,
 "nbformat_minor": 4
}
