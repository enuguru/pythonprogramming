{
 "cells": [
  {
   "cell_type": "code",
   "execution_count": null,
   "metadata": {
    "ExecuteTime": {
     "end_time": "2021-02-17T09:14:32.465802Z",
     "start_time": "2021-02-17T09:14:32.458807Z"
    }
   },
   "outputs": [],
   "source": [
    "import pandas as pd"
   ]
  },
  {
   "cell_type": "code",
   "execution_count": null,
   "metadata": {
    "ExecuteTime": {
     "end_time": "2021-02-17T09:14:37.373219Z",
     "start_time": "2021-02-17T09:14:37.215307Z"
    }
   },
   "outputs": [],
   "source": [
    "# load python using pandas\n",
    "filename = 'daily_retail_price_Onion-upto_apr_2015.csv'\n",
    "defined_names = ['Date', 'Centre_Name', 'Commodity_Name', 'Price']\n",
    "onion = pd.read_csv(filename, names=defined_names)"
   ]
  },
  {
   "cell_type": "code",
   "execution_count": null,
   "metadata": {
    "ExecuteTime": {
     "end_time": "2021-02-17T09:14:43.223779Z",
     "start_time": "2021-02-17T09:14:43.213786Z"
    }
   },
   "outputs": [],
   "source": [
    "onion.shape"
   ]
  },
  {
   "cell_type": "code",
   "execution_count": null,
   "metadata": {
    "ExecuteTime": {
     "end_time": "2021-02-17T09:19:51.464049Z",
     "start_time": "2021-02-17T09:19:51.436068Z"
    }
   },
   "outputs": [],
   "source": [
    "onion"
   ]
  },
  {
   "cell_type": "code",
   "execution_count": null,
   "metadata": {
    "ExecuteTime": {
     "end_time": "2021-02-17T01:47:49.679851Z",
     "start_time": "2021-02-17T01:47:49.661861Z"
    }
   },
   "outputs": [],
   "source": [
    "# load python using pandas\n",
    "filename = 'pima-indians-diabetes.data.csv'\n",
    "defined_names = ['preg', 'plas', 'pres', 'skin', 'test', 'mass', 'pedi', 'age', 'class']\n",
    "pima = pd.read_csv(filename, names=defined_names)"
   ]
  },
  {
   "cell_type": "code",
   "execution_count": null,
   "metadata": {
    "ExecuteTime": {
     "end_time": "2021-02-17T01:47:50.484358Z",
     "start_time": "2021-02-17T01:47:50.469369Z"
    }
   },
   "outputs": [],
   "source": [
    "pima.shape"
   ]
  },
  {
   "cell_type": "code",
   "execution_count": null,
   "metadata": {},
   "outputs": [],
   "source": [
    "pima.iloc[0,2]"
   ]
  },
  {
   "cell_type": "code",
   "execution_count": null,
   "metadata": {
    "ExecuteTime": {
     "end_time": "2021-02-17T01:47:51.541313Z",
     "start_time": "2021-02-17T01:47:51.512332Z"
    }
   },
   "outputs": [],
   "source": [
    "pima"
   ]
  },
  {
   "cell_type": "code",
   "execution_count": null,
   "metadata": {},
   "outputs": [],
   "source": [
    "pima.describe()"
   ]
  },
  {
   "cell_type": "code",
   "execution_count": null,
   "metadata": {},
   "outputs": [],
   "source": [
    "pima.info()"
   ]
  },
  {
   "cell_type": "code",
   "execution_count": null,
   "metadata": {},
   "outputs": [],
   "source": [
    "pima.head()"
   ]
  },
  {
   "cell_type": "code",
   "execution_count": null,
   "metadata": {},
   "outputs": [],
   "source": [
    "pima.tail()"
   ]
  },
  {
   "cell_type": "code",
   "execution_count": null,
   "metadata": {},
   "outputs": [],
   "source": []
  },
  {
   "cell_type": "code",
   "execution_count": null,
   "metadata": {},
   "outputs": [],
   "source": []
  }
 ],
 "metadata": {
  "kernelspec": {
   "display_name": "Python 3 (ipykernel)",
   "language": "python",
   "name": "python3"
  },
  "language_info": {
   "codemirror_mode": {
    "name": "ipython",
    "version": 3
   },
   "file_extension": ".py",
   "mimetype": "text/x-python",
   "name": "python",
   "nbconvert_exporter": "python",
   "pygments_lexer": "ipython3",
   "version": "3.9.13"
  }
 },
 "nbformat": 4,
 "nbformat_minor": 2
}
