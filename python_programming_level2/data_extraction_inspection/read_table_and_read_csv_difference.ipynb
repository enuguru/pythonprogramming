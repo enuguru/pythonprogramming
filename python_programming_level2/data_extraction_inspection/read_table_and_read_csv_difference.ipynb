{
 "cells": [
  {
   "cell_type": "code",
   "execution_count": 1,
   "metadata": {
    "ExecuteTime": {
     "end_time": "2020-10-12T05:50:05.320860Z",
     "start_time": "2020-10-12T05:50:03.457930Z"
    }
   },
   "outputs": [],
   "source": [
    "# Load CSV Using Python Standard Library\n",
    "import csv\n",
    "import numpy\n",
    "import pandas as pd\n",
    "from pandas import read_csv\n",
    "from numpy import loadtxt"
   ]
  },
  {
   "cell_type": "code",
   "execution_count": 2,
   "metadata": {
    "ExecuteTime": {
     "end_time": "2020-10-12T05:50:07.824414Z",
     "start_time": "2020-10-12T05:50:07.803426Z"
    }
   },
   "outputs": [],
   "source": [
    "# load python using pandas\n",
    "import pandas as pd\n",
    "filename = 'stocks.tsv'\n",
    "defined_names = ['Price', 'Date', 'Time', 'Change', 'Volume']\n",
    "data = pd.read_table(filename,names=defined_names)"
   ]
  },
  {
   "cell_type": "code",
   "execution_count": 3,
   "metadata": {
    "ExecuteTime": {
     "end_time": "2020-10-12T05:50:10.154386Z",
     "start_time": "2020-10-12T05:50:10.112414Z"
    }
   },
   "outputs": [
    {
     "data": {
      "text/html": [
       "<div>\n",
       "<style scoped>\n",
       "    .dataframe tbody tr th:only-of-type {\n",
       "        vertical-align: middle;\n",
       "    }\n",
       "\n",
       "    .dataframe tbody tr th {\n",
       "        vertical-align: top;\n",
       "    }\n",
       "\n",
       "    .dataframe thead th {\n",
       "        text-align: right;\n",
       "    }\n",
       "</style>\n",
       "<table border=\"1\" class=\"dataframe\">\n",
       "  <thead>\n",
       "    <tr style=\"text-align: right;\">\n",
       "      <th></th>\n",
       "      <th>Price</th>\n",
       "      <th>Date</th>\n",
       "      <th>Time</th>\n",
       "      <th>Change</th>\n",
       "      <th>Volume</th>\n",
       "    </tr>\n",
       "  </thead>\n",
       "  <tbody>\n",
       "    <tr>\n",
       "      <td>Symbol</td>\n",
       "      <td>Price</td>\n",
       "      <td>Date</td>\n",
       "      <td>Time</td>\n",
       "      <td>Change</td>\n",
       "      <td>Volume</td>\n",
       "    </tr>\n",
       "    <tr>\n",
       "      <td>AA</td>\n",
       "      <td>39.48</td>\n",
       "      <td>6/11/2007</td>\n",
       "      <td>9:36am</td>\n",
       "      <td>-0.18</td>\n",
       "      <td>181800</td>\n",
       "    </tr>\n",
       "    <tr>\n",
       "      <td>AIG</td>\n",
       "      <td>71.38</td>\n",
       "      <td>6/11/2007</td>\n",
       "      <td>9:36am</td>\n",
       "      <td>-0.15</td>\n",
       "      <td>195500</td>\n",
       "    </tr>\n",
       "    <tr>\n",
       "      <td>AXP</td>\n",
       "      <td>62.58</td>\n",
       "      <td>6/11/2007</td>\n",
       "      <td>9:36am</td>\n",
       "      <td>-0.46</td>\n",
       "      <td>935000</td>\n",
       "    </tr>\n",
       "    <tr>\n",
       "      <td>BA</td>\n",
       "      <td>98.31</td>\n",
       "      <td>6/11/2007</td>\n",
       "      <td>9:36am</td>\n",
       "      <td>+0.12</td>\n",
       "      <td>104800</td>\n",
       "    </tr>\n",
       "    <tr>\n",
       "      <td>C</td>\n",
       "      <td>53.08</td>\n",
       "      <td>6/11/2007</td>\n",
       "      <td>9:36am</td>\n",
       "      <td>-0.25</td>\n",
       "      <td>360900</td>\n",
       "    </tr>\n",
       "    <tr>\n",
       "      <td>CAT</td>\n",
       "      <td>78.29</td>\n",
       "      <td>6/11/2007</td>\n",
       "      <td>9:36am</td>\n",
       "      <td>-0.23</td>\n",
       "      <td>225400</td>\n",
       "    </tr>\n",
       "  </tbody>\n",
       "</table>\n",
       "</div>"
      ],
      "text/plain": [
       "        Price       Date    Time  Change  Volume\n",
       "Symbol  Price       Date    Time  Change  Volume\n",
       "AA      39.48  6/11/2007  9:36am   -0.18  181800\n",
       "AIG     71.38  6/11/2007  9:36am   -0.15  195500\n",
       "AXP     62.58  6/11/2007  9:36am   -0.46  935000\n",
       "BA      98.31  6/11/2007  9:36am   +0.12  104800\n",
       "C       53.08  6/11/2007  9:36am   -0.25  360900\n",
       "CAT     78.29  6/11/2007  9:36am   -0.23  225400"
      ]
     },
     "execution_count": 3,
     "metadata": {},
     "output_type": "execute_result"
    }
   ],
   "source": [
    "data"
   ]
  },
  {
   "cell_type": "code",
   "execution_count": 4,
   "metadata": {
    "ExecuteTime": {
     "end_time": "2020-10-12T05:50:17.782916Z",
     "start_time": "2020-10-12T05:50:17.766924Z"
    }
   },
   "outputs": [],
   "source": [
    "data = pd.read_csv(filename,delimiter='\\t',names=defined_names)"
   ]
  },
  {
   "cell_type": "code",
   "execution_count": 5,
   "metadata": {
    "ExecuteTime": {
     "end_time": "2020-10-12T05:50:19.061377Z",
     "start_time": "2020-10-12T05:50:19.027395Z"
    }
   },
   "outputs": [
    {
     "data": {
      "text/html": [
       "<div>\n",
       "<style scoped>\n",
       "    .dataframe tbody tr th:only-of-type {\n",
       "        vertical-align: middle;\n",
       "    }\n",
       "\n",
       "    .dataframe tbody tr th {\n",
       "        vertical-align: top;\n",
       "    }\n",
       "\n",
       "    .dataframe thead th {\n",
       "        text-align: right;\n",
       "    }\n",
       "</style>\n",
       "<table border=\"1\" class=\"dataframe\">\n",
       "  <thead>\n",
       "    <tr style=\"text-align: right;\">\n",
       "      <th></th>\n",
       "      <th>Price</th>\n",
       "      <th>Date</th>\n",
       "      <th>Time</th>\n",
       "      <th>Change</th>\n",
       "      <th>Volume</th>\n",
       "    </tr>\n",
       "  </thead>\n",
       "  <tbody>\n",
       "    <tr>\n",
       "      <td>Symbol</td>\n",
       "      <td>Price</td>\n",
       "      <td>Date</td>\n",
       "      <td>Time</td>\n",
       "      <td>Change</td>\n",
       "      <td>Volume</td>\n",
       "    </tr>\n",
       "    <tr>\n",
       "      <td>AA</td>\n",
       "      <td>39.48</td>\n",
       "      <td>6/11/2007</td>\n",
       "      <td>9:36am</td>\n",
       "      <td>-0.18</td>\n",
       "      <td>181800</td>\n",
       "    </tr>\n",
       "    <tr>\n",
       "      <td>AIG</td>\n",
       "      <td>71.38</td>\n",
       "      <td>6/11/2007</td>\n",
       "      <td>9:36am</td>\n",
       "      <td>-0.15</td>\n",
       "      <td>195500</td>\n",
       "    </tr>\n",
       "    <tr>\n",
       "      <td>AXP</td>\n",
       "      <td>62.58</td>\n",
       "      <td>6/11/2007</td>\n",
       "      <td>9:36am</td>\n",
       "      <td>-0.46</td>\n",
       "      <td>935000</td>\n",
       "    </tr>\n",
       "    <tr>\n",
       "      <td>BA</td>\n",
       "      <td>98.31</td>\n",
       "      <td>6/11/2007</td>\n",
       "      <td>9:36am</td>\n",
       "      <td>+0.12</td>\n",
       "      <td>104800</td>\n",
       "    </tr>\n",
       "    <tr>\n",
       "      <td>C</td>\n",
       "      <td>53.08</td>\n",
       "      <td>6/11/2007</td>\n",
       "      <td>9:36am</td>\n",
       "      <td>-0.25</td>\n",
       "      <td>360900</td>\n",
       "    </tr>\n",
       "    <tr>\n",
       "      <td>CAT</td>\n",
       "      <td>78.29</td>\n",
       "      <td>6/11/2007</td>\n",
       "      <td>9:36am</td>\n",
       "      <td>-0.23</td>\n",
       "      <td>225400</td>\n",
       "    </tr>\n",
       "  </tbody>\n",
       "</table>\n",
       "</div>"
      ],
      "text/plain": [
       "        Price       Date    Time  Change  Volume\n",
       "Symbol  Price       Date    Time  Change  Volume\n",
       "AA      39.48  6/11/2007  9:36am   -0.18  181800\n",
       "AIG     71.38  6/11/2007  9:36am   -0.15  195500\n",
       "AXP     62.58  6/11/2007  9:36am   -0.46  935000\n",
       "BA      98.31  6/11/2007  9:36am   +0.12  104800\n",
       "C       53.08  6/11/2007  9:36am   -0.25  360900\n",
       "CAT     78.29  6/11/2007  9:36am   -0.23  225400"
      ]
     },
     "execution_count": 5,
     "metadata": {},
     "output_type": "execute_result"
    }
   ],
   "source": [
    "data"
   ]
  },
  {
   "cell_type": "code",
   "execution_count": null,
   "metadata": {},
   "outputs": [],
   "source": []
  }
 ],
 "metadata": {
  "kernelspec": {
   "display_name": "Python 3",
   "language": "python",
   "name": "python3"
  },
  "language_info": {
   "codemirror_mode": {
    "name": "ipython",
    "version": 3
   },
   "file_extension": ".py",
   "mimetype": "text/x-python",
   "name": "python",
   "nbconvert_exporter": "python",
   "pygments_lexer": "ipython3",
   "version": "3.7.4"
  }
 },
 "nbformat": 4,
 "nbformat_minor": 2
}
