{
 "cells": [
  {
   "cell_type": "code",
   "execution_count": 1,
   "metadata": {},
   "outputs": [
    {
     "name": "stdout",
     "output_type": "stream",
     "text": [
      "Give a string hi\n",
      "hi\n"
     ]
    }
   ],
   "source": [
    "mystring = input(\"Give a string \")\n",
    "print(mystring)"
   ]
  },
  {
   "cell_type": "code",
   "execution_count": 2,
   "metadata": {},
   "outputs": [
    {
     "name": "stdout",
     "output_type": "stream",
     "text": [
      "Give a string \n",
      "hi\n",
      "hi\n"
     ]
    }
   ],
   "source": [
    "mystring = input(\"Give a string \\n\")\n",
    "print(mystring)"
   ]
  },
  {
   "cell_type": "code",
   "execution_count": 3,
   "metadata": {},
   "outputs": [
    {
     "name": "stdout",
     "output_type": "stream",
     "text": [
      "3\n",
      "Badri 100\n",
      "Karthik 100\n",
      "guru 79\n",
      "[['Badri', '100'], ['Karthik', '100'], ['guru', '79']]\n",
      "{'Badri': '100', 'Karthik': '100', 'guru': '79'}\n"
     ]
    }
   ],
   "source": [
    "n = int(input())\n",
    "name_numbers = [input().split() for _ in range(n)]\n",
    "print(name_numbers)\n",
    "phone_book = {k: v for k,v in name_numbers}\n",
    "print(phone_book)"
   ]
  },
  {
   "cell_type": "code",
   "execution_count": 4,
   "metadata": {},
   "outputs": [
    {
     "name": "stdout",
     "output_type": "stream",
     "text": [
      "3\n",
      "Badri 100\n",
      "Karthik 79\n",
      "Ravi 77\n",
      "[['Badri', '100'], ['Karthik', '79'], ['Ravi', '77']]\n",
      "{'Badri': '100', 'Karthik': '79', 'Ravi': '77'}\n"
     ]
    }
   ],
   "source": [
    "n = int(input())\n",
    "name_numbers = [input().split() for _ in range(n)]\n",
    "print(name_numbers)\n",
    "phone_book = {k: v for k,v in name_numbers}\n",
    "print(phone_book)"
   ]
  },
  {
   "cell_type": "markdown",
   "metadata": {},
   "source": [
    "#input_below\n",
    "\n",
    "#12\n",
    "#insert 0 5\n",
    "#insert 1 10\n",
    "#insert 0 6\n",
    "#print\n",
    "#remove 6\n",
    "#append 9\n",
    "#append 1\n",
    "#sort\n",
    "#print\n",
    "#pop\n",
    "#reverse\n",
    "#print\n",
    "\n",
    "#output\n",
    "\n",
    "#[6, 5, 10]\n",
    "#[1, 5, 9, 10]\n",
    "#[9, 5, 1]"
   ]
  },
  {
   "cell_type": "code",
   "execution_count": 7,
   "metadata": {},
   "outputs": [
    {
     "name": "stdout",
     "output_type": "stream",
     "text": [
      "2\n",
      "insert 0 99\n",
      "print\n",
      "[99]\n"
     ]
    }
   ],
   "source": [
    "if __name__ == '__main__':\n",
    "    N = int(input())\n",
    "mylist=[]\n",
    "for _ in range(N):\n",
    "    args=input().split(\" \") #even if you do not give \" \" in split it will use \" \" by default\n",
    "    #print(args)\n",
    "    #print(type(args))\n",
    "    if args[0]==\"insert\":\n",
    "        mylist.insert(int(args[1]),int(args[2]))\n",
    "    elif args[0]==\"remove\":\n",
    "        mylist.remove(int(args[1]))\n",
    "    elif args[0]==\"reverse\":\n",
    "        mylist.reverse()\n",
    "    elif args[0]==\"sort\":\n",
    "        mylist.sort()\n",
    "    elif args[0]=='append':\n",
    "        mylist.append(int(args[1]))\n",
    "    elif args[0]==\"print\":\n",
    "        print(mylist)\n",
    "    elif args[0]==\"pop\":\n",
    "        mylist.pop()"
   ]
  },
  {
   "cell_type": "code",
   "execution_count": 9,
   "metadata": {},
   "outputs": [
    {
     "name": "stdout",
     "output_type": "stream",
     "text": [
      "2 2\n",
      "1 2\n",
      "3 4\n",
      "[ 1.5  3.5]\n",
      "[ 1.  1.]\n",
      "1.11803398875\n"
     ]
    }
   ],
   "source": [
    "\n",
    "#2 2\n",
    "#1 2\n",
    "#3 4\n",
    "\n",
    "import numpy as np\n",
    "\n",
    "n,m = map(int, input().split())\n",
    "b = []\n",
    "for i in range(n):\n",
    "    a = list(map(int, input().split()))\n",
    "    b.append(a)\n",
    "\n",
    "b = np.array(b)\n",
    "\n",
    "np.set_printoptions(legacy='1.13')\n",
    "print(np.mean(b, axis = 1))\n",
    "print(np.var(b, axis = 0))\n",
    "print(np.std(b))"
   ]
  },
  {
   "cell_type": "code",
   "execution_count": 10,
   "metadata": {},
   "outputs": [
    {
     "name": "stdout",
     "output_type": "stream",
     "text": [
      "23 56 79 78 43\n",
      "['23', '56', '79', '78', '43']\n"
     ]
    }
   ],
   "source": [
    "mystring = list(map(str,input().split()))\n",
    "print(mystring)"
   ]
  },
  {
   "cell_type": "code",
   "execution_count": 11,
   "metadata": {},
   "outputs": [
    {
     "name": "stdout",
     "output_type": "stream",
     "text": [
      "23 56 79 78 43\n",
      "{'79', '56', '23', '43', '78'}\n"
     ]
    }
   ],
   "source": [
    "mystring = set(map(str,input().split()))\n",
    "print(mystring)"
   ]
  },
  {
   "cell_type": "code",
   "execution_count": null,
   "metadata": {},
   "outputs": [],
   "source": []
  }
 ],
 "metadata": {
  "kernelspec": {
   "display_name": "Python 3",
   "language": "python",
   "name": "python3"
  },
  "language_info": {
   "codemirror_mode": {
    "name": "ipython",
    "version": 3
   },
   "file_extension": ".py",
   "mimetype": "text/x-python",
   "name": "python",
   "nbconvert_exporter": "python",
   "pygments_lexer": "ipython3",
   "version": "3.8.5"
  }
 },
 "nbformat": 4,
 "nbformat_minor": 2
}
