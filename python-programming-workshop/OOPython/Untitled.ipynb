{
 "cells": [
  {
   "cell_type": "code",
   "execution_count": 1,
   "metadata": {},
   "outputs": [
    {
     "name": "stdout",
     "output_type": "stream",
     "text": [
      "\n",
      "\n",
      "WiFi is HiFi: WiFiModem sending data\n",
      "WiFi is HiFi: WiFiModem receiving data\n",
      "\n",
      "\n",
      "Broadband is fast: BroadbandModem sending data\n",
      "Broadband is fast: BroadbandModem receiving data\n",
      "\n",
      "\n",
      "Wireless is compact: WirelessModem sending data\n",
      "Wireless is compact: WirelessModem receiving data\n",
      "\n",
      "\n",
      "DialUpModem is old style: DialUpModem sending data\n",
      "DialUpModem is old style: DialUpModem receiving data\n",
      "\n",
      "\n"
     ]
    }
   ],
   "source": [
    "\n",
    "# this program is an example for implmenting polymorphism\n",
    "# in python\n",
    "# this progarm creates a list of objects and then calls them\n",
    "# to find out that the appropriate derived class functions are\n",
    "# called when called through the base class\n",
    "\n",
    "class Modem:\n",
    "    def __init__(self, name):    # Constructor of the class\n",
    "        self.name = name\n",
    "    def SendData(self):          # Abstract method, defined by convention only\n",
    "        raise NotImplementedError(\"Subclass must implement abstract method\")\n",
    "    def ReceiveData(self):       # Abstract method, defined by convention only\n",
    "        raise NotImplementedError(\"Subclass must implement abstract method\")\n",
    "\n",
    "class BroadbandModem(Modem):\n",
    "    def SendData(self):           \n",
    "        return 'BroadbandModem sending data'\n",
    "    def ReceiveData(self):       \n",
    "        return 'BroadbandModem receiving data'\n",
    "\n",
    "class WiFiModem(Modem):\n",
    "    def SendData(self):              \n",
    "        return 'WiFiModem sending data'\n",
    "    def ReceiveData(self):          \n",
    "        return 'WiFiModem receiving data'\n",
    "\n",
    "class WirelessModem(Modem):\n",
    "    def SendData(self):              \n",
    "        return 'WirelessModem sending data'\n",
    "    def ReceiveData(self):          \n",
    "        return 'WirelessModem receiving data'\n",
    "\n",
    "class DialUpModem(Modem):\n",
    "    def SendData(self):              \n",
    "        return 'DialUpModem sending data'\n",
    "    def ReceiveData(self):          \n",
    "        return 'DialUpModem receiving data'\n",
    "\n",
    "mymodems = [WiFiModem('WiFi is HiFi'),\n",
    "           BroadbandModem('Broadband is fast'),\n",
    "           WirelessModem('Wireless is compact'),\n",
    "           DialUpModem('DialUpModem is old style')]\n",
    "\n",
    "print('\\n')\n",
    "\n",
    "for modem in mymodems:\n",
    "    print(modem.name + ': ' + modem.SendData())\n",
    "    print(modem.name + ': ' + modem.ReceiveData())\n",
    "    print('\\n')"
   ]
  },
  {
   "cell_type": "code",
   "execution_count": null,
   "metadata": {},
   "outputs": [],
   "source": []
  }
 ],
 "metadata": {
  "kernelspec": {
   "display_name": "Python 3",
   "language": "python",
   "name": "python3"
  },
  "language_info": {
   "codemirror_mode": {
    "name": "ipython",
    "version": 3
   },
   "file_extension": ".py",
   "mimetype": "text/x-python",
   "name": "python",
   "nbconvert_exporter": "python",
   "pygments_lexer": "ipython3",
   "version": "3.8.5"
  }
 },
 "nbformat": 4,
 "nbformat_minor": 4
}
