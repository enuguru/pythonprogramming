{
 "cells": [
  {
   "cell_type": "code",
   "execution_count": 12,
   "metadata": {},
   "outputs": [],
   "source": [
    "#the total numbers are 16\n",
    "#there can be - after 4 numbers\n",
    "#the number should start with 4,5,6\n",
    "#there should not be ' ','_'\n",
    "#no same character should repeat 4 times"
   ]
  },
  {
   "cell_type": "code",
   "execution_count": 13,
   "metadata": {},
   "outputs": [
    {
     "name": "stdout",
     "output_type": "stream",
     "text": [
      "456-2345-7890-0023\n",
      "The credit card is not valid\n"
     ]
    }
   ],
   "source": [
    "import re\n",
    "s = input()\n",
    "if re.match(r\"^[456]([\\d]{15}|[\\d]{3}(-[\\d]{4}){3})$\",s) and not re.search(r\"([\\d])\\1\\1\\1\",s.replace(\"-\",\"\")):\n",
    "    if re.match(r\"^[456]([\\d]{15}|[\\d]{3}(-[\\d]{4}){3})$\",s) and not re.search(r\"([\\d])\\1\\1\\1\",s.replace(\"-\",\"\")):\n",
    "        print(\"The credit card is valid\")\n",
    "else:\n",
    "    print(\"The credit card is not valid\")"
   ]
  },
  {
   "cell_type": "raw",
   "metadata": {},
   "source": [
    "A valid mobile number is a ten digit number starting with a  or .\n",
    "\n",
    "2\n",
    "9587456281\n",
    "1252478965"
   ]
  },
  {
   "cell_type": "code",
   "execution_count": 11,
   "metadata": {},
   "outputs": [
    {
     "name": "stdout",
     "output_type": "stream",
     "text": [
      "2\n",
      "9587456281\n",
      "YES\n",
      "5672343345\n",
      "NO\n"
     ]
    }
   ],
   "source": [
    "import re\n",
    "\n",
    "val = int(input())\n",
    "for _ in range(val):\n",
    "    if re.match(r'[789]\\d{9}$',input()):   \n",
    "        print('YES')\n",
    "    else:  \n",
    "        print('NO')"
   ]
  },
  {
   "cell_type": "code",
   "execution_count": null,
   "metadata": {},
   "outputs": [],
   "source": []
  }
 ],
 "metadata": {
  "kernelspec": {
   "display_name": "Python 3",
   "language": "python",
   "name": "python3"
  },
  "language_info": {
   "codemirror_mode": {
    "name": "ipython",
    "version": 3
   },
   "file_extension": ".py",
   "mimetype": "text/x-python",
   "name": "python",
   "nbconvert_exporter": "python",
   "pygments_lexer": "ipython3",
   "version": "3.8.5"
  }
 },
 "nbformat": 4,
 "nbformat_minor": 4
}
