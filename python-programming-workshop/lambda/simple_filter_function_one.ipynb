{
 "cells": [
  {
   "cell_type": "code",
   "execution_count": 1,
   "metadata": {
    "ExecuteTime": {
     "end_time": "2020-08-14T06:01:10.518843Z",
     "start_time": "2020-08-14T06:01:10.503851Z"
    }
   },
   "outputs": [
    {
     "name": "stdout",
     "output_type": "stream",
     "text": [
      "The filtered letters are:\n",
      "e\n",
      "e\n",
      "a\n",
      "u\n"
     ]
    }
   ],
   "source": [
    "\n",
    "    # function that filters vowels\n",
    "    def yourfun(x):\n",
    "        letters = ['a', 'e', 'i', 'o', 'u']\n",
    "        if x in letters:\n",
    "            return True\n",
    "        else:\n",
    "            return False\n",
    "      \n",
    "      \n",
    "    # sequence\n",
    "    sequence = ['g', 'e', 'e', 'j', 'k', 's', 'p', 'r','a','u']\n",
    "      \n",
    "    # using filter function\n",
    "    filtered = filter(yourfun, sequence)\n",
    "      \n",
    "    print('The filtered letters are:')\n",
    "    for s in filtered:\n",
    "        print(s) \n"
   ]
  },
  {
   "cell_type": "code",
   "execution_count": null,
   "metadata": {},
   "outputs": [],
   "source": []
  }
 ],
 "metadata": {
  "kernelspec": {
   "display_name": "Python 3",
   "language": "python",
   "name": "python3"
  },
  "language_info": {
   "codemirror_mode": {
    "name": "ipython",
    "version": 3
   },
   "file_extension": ".py",
   "mimetype": "text/x-python",
   "name": "python",
   "nbconvert_exporter": "python",
   "pygments_lexer": "ipython3",
   "version": "3.7.4"
  }
 },
 "nbformat": 4,
 "nbformat_minor": 2
}
