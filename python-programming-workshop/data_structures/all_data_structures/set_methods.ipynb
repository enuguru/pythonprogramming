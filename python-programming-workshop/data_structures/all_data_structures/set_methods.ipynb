{
 "cells": [
  {
   "cell_type": "code",
   "execution_count": 32,
   "metadata": {},
   "outputs": [],
   "source": [
    "a = set()"
   ]
  },
  {
   "cell_type": "code",
   "execution_count": 33,
   "metadata": {},
   "outputs": [],
   "source": [
    "a.add(34)\n",
    "a.add(30)\n",
    "a.add(29)\n",
    "a.add(17)\n",
    "a.add(41)"
   ]
  },
  {
   "cell_type": "code",
   "execution_count": 34,
   "metadata": {},
   "outputs": [
    {
     "data": {
      "text/plain": [
       "{17, 29, 30, 34, 41}"
      ]
     },
     "execution_count": 34,
     "metadata": {},
     "output_type": "execute_result"
    }
   ],
   "source": [
    "a"
   ]
  },
  {
   "cell_type": "code",
   "execution_count": 35,
   "metadata": {},
   "outputs": [],
   "source": [
    "b = set()"
   ]
  },
  {
   "cell_type": "code",
   "execution_count": 36,
   "metadata": {},
   "outputs": [],
   "source": [
    "b.add(41)\n",
    "b.add(91)\n",
    "b.add(17)\n",
    "b.add(63)\n",
    "b.add(55)"
   ]
  },
  {
   "cell_type": "code",
   "execution_count": 37,
   "metadata": {},
   "outputs": [
    {
     "data": {
      "text/plain": [
       "{17, 41, 55, 63, 91}"
      ]
     },
     "execution_count": 37,
     "metadata": {},
     "output_type": "execute_result"
    }
   ],
   "source": [
    "b"
   ]
  },
  {
   "cell_type": "code",
   "execution_count": 38,
   "metadata": {},
   "outputs": [
    {
     "ename": "AttributeError",
     "evalue": "'dict' object has no attribute 'add'",
     "output_type": "error",
     "traceback": [
      "\u001b[0;31m---------------------------------------------------------------------------\u001b[0m",
      "\u001b[0;31mAttributeError\u001b[0m                            Traceback (most recent call last)",
      "\u001b[0;32m<ipython-input-38-89acab66f58d>\u001b[0m in \u001b[0;36m<module>\u001b[0;34m\u001b[0m\n\u001b[1;32m      1\u001b[0m \u001b[0mnewset\u001b[0m \u001b[0;34m=\u001b[0m \u001b[0;34m{\u001b[0m\u001b[0;34m}\u001b[0m\u001b[0;34m\u001b[0m\u001b[0;34m\u001b[0m\u001b[0m\n\u001b[0;32m----> 2\u001b[0;31m \u001b[0mnewset\u001b[0m\u001b[0;34m.\u001b[0m\u001b[0madd\u001b[0m\u001b[0;34m(\u001b[0m\u001b[0;34m\"John\"\u001b[0m\u001b[0;34m)\u001b[0m\u001b[0;34m\u001b[0m\u001b[0;34m\u001b[0m\u001b[0m\n\u001b[0m\u001b[1;32m      3\u001b[0m \u001b[0mnewset\u001b[0m\u001b[0;34m.\u001b[0m\u001b[0madd\u001b[0m\u001b[0;34m(\u001b[0m\u001b[0;34m\"Ravi\"\u001b[0m\u001b[0;34m)\u001b[0m\u001b[0;34m\u001b[0m\u001b[0;34m\u001b[0m\u001b[0m\n\u001b[1;32m      4\u001b[0m \u001b[0mnewset\u001b[0m\u001b[0;34m.\u001b[0m\u001b[0madd\u001b[0m\u001b[0;34m(\u001b[0m\u001b[0;34m\"Vidya\"\u001b[0m\u001b[0;34m)\u001b[0m\u001b[0;34m\u001b[0m\u001b[0;34m\u001b[0m\u001b[0m\n\u001b[1;32m      5\u001b[0m \u001b[0mprint\u001b[0m\u001b[0;34m(\u001b[0m\u001b[0mnewset\u001b[0m\u001b[0;34m)\u001b[0m\u001b[0;34m\u001b[0m\u001b[0;34m\u001b[0m\u001b[0m\n",
      "\u001b[0;31mAttributeError\u001b[0m: 'dict' object has no attribute 'add'"
     ]
    }
   ],
   "source": [
    "newset = {}\n",
    "newset.add(\"John\")\n",
    "newset.add(\"Ravi\")\n",
    "newset.add(\"Vidya\")\n",
    "print(newset)"
   ]
  },
  {
   "cell_type": "code",
   "execution_count": 39,
   "metadata": {},
   "outputs": [
    {
     "name": "stdout",
     "output_type": "stream",
     "text": [
      "{'Ravi', 'Vidya', 'Ramu'}\n"
     ]
    }
   ],
   "source": [
    "newset = {\"Ramu\"}\n",
    "newset.add(\"Ravi\")\n",
    "newset.add(\"Vidya\")\n",
    "print(newset)"
   ]
  },
  {
   "cell_type": "code",
   "execution_count": 40,
   "metadata": {},
   "outputs": [
    {
     "name": "stdout",
     "output_type": "stream",
     "text": [
      "{34, 29, 30}\n"
     ]
    }
   ],
   "source": [
    "c = a.difference(b)\n",
    "print(c)"
   ]
  },
  {
   "cell_type": "code",
   "execution_count": 41,
   "metadata": {},
   "outputs": [
    {
     "name": "stdout",
     "output_type": "stream",
     "text": [
      "{41, 17}\n"
     ]
    }
   ],
   "source": [
    "print(a.intersection(b))"
   ]
  },
  {
   "cell_type": "code",
   "execution_count": 42,
   "metadata": {},
   "outputs": [
    {
     "name": "stdout",
     "output_type": "stream",
     "text": [
      "{34, 41, 17, 55, 91, 29, 30, 63}\n"
     ]
    }
   ],
   "source": [
    "print(a.union(b))"
   ]
  },
  {
   "cell_type": "code",
   "execution_count": 43,
   "metadata": {},
   "outputs": [
    {
     "name": "stdout",
     "output_type": "stream",
     "text": [
      "{17, 34, 41, 29, 30}\n"
     ]
    }
   ],
   "source": [
    "p = a.copy()\n",
    "print(p)"
   ]
  },
  {
   "cell_type": "code",
   "execution_count": 44,
   "metadata": {},
   "outputs": [
    {
     "name": "stdout",
     "output_type": "stream",
     "text": [
      "False\n"
     ]
    }
   ],
   "source": [
    "val = a.isdisjoint(b)\n",
    "print(val)"
   ]
  },
  {
   "cell_type": "code",
   "execution_count": 126,
   "metadata": {},
   "outputs": [],
   "source": [
    "a = { 34, 41, 17, 29, 30}\n",
    "b = { 55, 91, 63, 41, 17}"
   ]
  },
  {
   "cell_type": "code",
   "execution_count": 130,
   "metadata": {},
   "outputs": [
    {
     "name": "stdout",
     "output_type": "stream",
     "text": [
      "{34, 41, 17, 29, 30}\n",
      "{34, 55, 91, 29, 30, 63}\n"
     ]
    }
   ],
   "source": [
    "print(a)\n",
    "print(b)"
   ]
  },
  {
   "cell_type": "code",
   "execution_count": 131,
   "metadata": {},
   "outputs": [
    {
     "name": "stdout",
     "output_type": "stream",
     "text": [
      "{17, 55, 41, 91, 63}\n",
      "{34, 41, 17, 29, 30}\n",
      "{34, 55, 91, 29, 30, 63}\n"
     ]
    }
   ],
   "source": [
    "print(b.symmetric_difference(a))\n",
    "print(a)\n",
    "print(b)"
   ]
  },
  {
   "cell_type": "code",
   "execution_count": 132,
   "metadata": {},
   "outputs": [
    {
     "name": "stdout",
     "output_type": "stream",
     "text": [
      "{34, 41, 17, 29, 30}\n",
      "{34, 55, 91, 29, 30, 63}\n",
      "{34, 41, 17, 29, 30}\n",
      "{41, 17, 55, 91, 63}\n"
     ]
    }
   ],
   "source": [
    "print(a)\n",
    "print(b)\n",
    "b.symmetric_difference_update(a)\n",
    "print(a)\n",
    "print(b)"
   ]
  },
  {
   "cell_type": "code",
   "execution_count": 133,
   "metadata": {},
   "outputs": [
    {
     "name": "stdout",
     "output_type": "stream",
     "text": [
      "{34, 41, 17, 29, 30}\n",
      "{41, 17, 55, 91, 63}\n"
     ]
    }
   ],
   "source": [
    "a = { 34, 41, 17, 29, 30}\n",
    "b = { 55, 91, 63, 41, 17}\n",
    "print(a)\n",
    "print(b)"
   ]
  },
  {
   "cell_type": "code",
   "execution_count": 134,
   "metadata": {},
   "outputs": [
    {
     "name": "stdout",
     "output_type": "stream",
     "text": [
      "{34, 29, 30}\n"
     ]
    }
   ],
   "source": [
    "c = a.difference(b)\n",
    "print(c)"
   ]
  },
  {
   "cell_type": "code",
   "execution_count": 120,
   "metadata": {},
   "outputs": [
    {
     "name": "stdout",
     "output_type": "stream",
     "text": [
      "{91, 63, 55}\n"
     ]
    }
   ],
   "source": [
    "print(b.difference(a))"
   ]
  },
  {
   "cell_type": "code",
   "execution_count": 121,
   "metadata": {},
   "outputs": [
    {
     "name": "stdout",
     "output_type": "stream",
     "text": [
      "{34, 41, 17, 29, 30}\n",
      "{41, 17, 55, 91, 63}\n"
     ]
    }
   ],
   "source": [
    "print(a)\n",
    "print(b)"
   ]
  },
  {
   "cell_type": "code",
   "execution_count": 122,
   "metadata": {},
   "outputs": [
    {
     "name": "stdout",
     "output_type": "stream",
     "text": [
      "{34, 41, 17, 29, 30}\n",
      "{55, 91, 63}\n"
     ]
    }
   ],
   "source": [
    "b.difference_update(a)\n",
    "print(a)\n",
    "print(b)"
   ]
  },
  {
   "cell_type": "code",
   "execution_count": 123,
   "metadata": {},
   "outputs": [
    {
     "name": "stdout",
     "output_type": "stream",
     "text": [
      "{34, 41, 17, 29, 30}\n",
      "{41, 17, 55, 91, 63}\n"
     ]
    }
   ],
   "source": [
    "a = { 34, 41, 17, 29, 30}\n",
    "b = { 55, 91, 63, 41, 17}\n",
    "print(a)\n",
    "print(b)"
   ]
  },
  {
   "cell_type": "code",
   "execution_count": 124,
   "metadata": {},
   "outputs": [
    {
     "name": "stdout",
     "output_type": "stream",
     "text": [
      "{34, 29, 30}\n",
      "{41, 17, 55, 91, 63}\n"
     ]
    }
   ],
   "source": [
    "a.difference_update(b)\n",
    "print(a)\n",
    "print(b)"
   ]
  },
  {
   "cell_type": "code",
   "execution_count": null,
   "metadata": {},
   "outputs": [],
   "source": []
  },
  {
   "cell_type": "code",
   "execution_count": 11,
   "metadata": {},
   "outputs": [
    {
     "name": "stdout",
     "output_type": "stream",
     "text": [
      "{'pear', 'banana', 'apple', 'orange'}\n",
      "{'d', 'r', 'c', 'b', 'a'}\n",
      "{'d', 'b', 'r'}\n",
      "{'d', 'r', 'm', 'z', 'c', 'b', 'l', 'a'}\n",
      "{'c', 'a'}\n",
      "{'m', 'd', 'r', 'b', 'z', 'l'}\n"
     ]
    }
   ],
   "source": [
    "basket = {'apple', 'orange', 'apple', 'pear', 'orange', 'banana'}\n",
    "print(basket) # show that duplicates have been removed\n",
    "\n",
    "# Demonstrate set operations on unique letters from two words\n",
    "a = set('abracadabra')\n",
    "b = set('alacazam')\n",
    "print(a)# unique letters in a\n",
    "\n",
    "print(a - b)# letters in a but not in b\n",
    "\n",
    "print(a | b)#letters in either a or b\n",
    "\n",
    "print(a & b)#letters in both a and b\n",
    "\n",
    "print(a ^ b)#letters in a or b but not both"
   ]
  },
  {
   "cell_type": "code",
   "execution_count": 12,
   "metadata": {},
   "outputs": [
    {
     "name": "stdout",
     "output_type": "stream",
     "text": [
      "This gives the elements of A {1, 2, 3, 4, 5}\n",
      "This gives the elements of B {4, 5, 6, 7, 8}\n",
      "This give the union of A B that is A | B {1, 2, 3, 4, 5, 6, 7, 8}\n",
      "This gives the union of A B that is A.union(B) {1, 2, 3, 4, 5, 6, 7, 8}\n",
      "This gives the union of B A that is B union(A) {1, 2, 3, 4, 5, 6, 7, 8}\n",
      "This is A intersection B {4, 5}\n",
      "This gives the intersection of A with B A.intersection(B) {4, 5}\n",
      "This gives the intersection of B with A B.intersection(A) {4, 5}\n",
      "This gives elements in A and not in B A-B {1, 2, 3}\n",
      "This gives elements in B and not in A B-A {8, 6, 7}\n",
      "This gives elements in A and not in B A.difference(B) {1, 2, 3}\n",
      "This gives elements in B and not in A B.difference(A) {8, 6, 7}\n"
     ]
    }
   ],
   "source": [
    "A = {1, 2, 3, 4, 5}\n",
    "B = {4, 5, 6, 7, 8}\n",
    "\n",
    "# print(A[0]) you cannot index in to the set\n",
    "\n",
    "print(\"This gives the elements of A\",A)\n",
    "print(\"This gives the elements of B\",B)\n",
    "\n",
    "print(\"This give the union of A B that is A | B\", A | B)\n",
    "\n",
    "print(\"This gives the union of A B that is A.union(B)\",A.union(B))\n",
    "print(\"This gives the union of B A that is B union(A)\",B.union(A))\n",
    "\n",
    "print(\"This is A intersection B\", A & B)\n",
    "\n",
    "print(\"This gives the intersection of A with B A.intersection(B)\",A.intersection(B))\n",
    "print(\"This gives the intersection of B with A B.intersection(A)\",B.intersection(A))\n",
    "\n",
    "print(\"This gives elements in A and not in B A-B\",A-B)\n",
    "print(\"This gives elements in B and not in A B-A\",B-A)\n",
    "\n",
    "print(\"This gives elements in A and not in B A.difference(B)\",A.difference(B)) \n",
    "print(\"This gives elements in B and not in A B.difference(A)\",B.difference(A))"
   ]
  },
  {
   "cell_type": "code",
   "execution_count": 134,
   "metadata": {},
   "outputs": [
    {
     "name": "stdout",
     "output_type": "stream",
     "text": [
      "{3}\n"
     ]
    }
   ],
   "source": [
    "x = {1, 2, 3}\n",
    "y = {3, 4, 5}\n",
    "z = {6, 7, 3}\n",
    "x.intersection_update(y, z)\n",
    "print(x)"
   ]
  },
  {
   "cell_type": "code",
   "execution_count": 135,
   "metadata": {},
   "outputs": [
    {
     "name": "stdout",
     "output_type": "stream",
     "text": [
      "True\n"
     ]
    }
   ],
   "source": [
    "p = {3, 4, 7}\n",
    "q = {5, 7, 9, 3, 4}\n",
    "print(p.issubset(q))"
   ]
  },
  {
   "cell_type": "code",
   "execution_count": 136,
   "metadata": {},
   "outputs": [
    {
     "name": "stdout",
     "output_type": "stream",
     "text": [
      "True\n"
     ]
    }
   ],
   "source": [
    "p = {3, 4, 7}\n",
    "q = {5, 7, 9, 3, 4}\n",
    "print(q.issuperset(p))"
   ]
  },
  {
   "cell_type": "code",
   "execution_count": 137,
   "metadata": {},
   "outputs": [
    {
     "name": "stdout",
     "output_type": "stream",
     "text": [
      "{'Adobe', 'Oracle', 'blueberry'}\n",
      "{'facebook', 'microsoft', 'blueberry'}\n"
     ]
    }
   ],
   "source": [
    "x = {\"blueberry\", \"Adobe\", \"Oracle\"}\n",
    "y = {\"facebook\", \"microsoft\", \"blueberry\"}\n",
    "print(x)\n",
    "print(y)"
   ]
  },
  {
   "cell_type": "code",
   "execution_count": 138,
   "metadata": {},
   "outputs": [
    {
     "name": "stdout",
     "output_type": "stream",
     "text": [
      "{'Adobe', 'Oracle'}\n"
     ]
    }
   ],
   "source": [
    "z = x.difference(y) \n",
    "print(z)"
   ]
  },
  {
   "cell_type": "code",
   "execution_count": 139,
   "metadata": {},
   "outputs": [
    {
     "name": "stdout",
     "output_type": "stream",
     "text": [
      "{'Adobe', 'Oracle'}\n"
     ]
    }
   ],
   "source": [
    "z = x.difference_update(y)\n",
    "print(x)"
   ]
  },
  {
   "cell_type": "code",
   "execution_count": null,
   "metadata": {},
   "outputs": [],
   "source": []
  }
 ],
 "metadata": {
  "kernelspec": {
   "display_name": "Python 3",
   "language": "python",
   "name": "python3"
  },
  "language_info": {
   "codemirror_mode": {
    "name": "ipython",
    "version": 3
   },
   "file_extension": ".py",
   "mimetype": "text/x-python",
   "name": "python",
   "nbconvert_exporter": "python",
   "pygments_lexer": "ipython3",
   "version": "3.6.8"
  }
 },
 "nbformat": 4,
 "nbformat_minor": 2
}
