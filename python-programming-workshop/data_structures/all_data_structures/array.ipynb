{
 "cells": [
  {
   "cell_type": "code",
   "execution_count": 1,
   "metadata": {},
   "outputs": [
    {
     "name": "stdout",
     "output_type": "stream",
     "text": [
      "1597122058.843623\n",
      "1597122062.6679208\n",
      "1597122066.276513\n"
     ]
    }
   ],
   "source": [
    "import time\n",
    "from array import array\n",
    "\n",
    "# Create an int array, and a list.\n",
    "list = list(range(0, 50))\n",
    "arr = array(\"i\", list)\n",
    "\n",
    "print(time.time())\n",
    "\n",
    "# Version 1: loop over array.\n",
    "for i in range(0, 1000000):\n",
    "    sum = 0\n",
    "    for value in arr:\n",
    "       sum=sum+ value\n",
    "\n",
    "print(time.time())\n",
    "\n",
    "# Version 2: loop over list.\n",
    "for i in range(0, 1000000):\n",
    "    sum = 0\n",
    "    for value in list:\n",
    "        sum=sum+ value\n",
    "\n",
    "print(time.time())\n"
   ]
  },
  {
   "cell_type": "code",
   "execution_count": 2,
   "metadata": {},
   "outputs": [
    {
     "name": "stdout",
     "output_type": "stream",
     "text": [
      "10\n",
      "20\n",
      "30\n"
     ]
    }
   ],
   "source": [
    "from array import array\n",
    "\n",
    "# Create an int array of three elements.\n",
    "a = array(\"i\", [10, 20, 30])\n",
    "\n",
    "# Display elements in array.\n",
    "for value in a:\n",
    "    print(value)"
   ]
  },
  {
   "cell_type": "code",
   "execution_count": 3,
   "metadata": {},
   "outputs": [
    {
     "name": "stdout",
     "output_type": "stream",
     "text": [
      "1\n",
      "array('i', [100, 900, 300])\n"
     ]
    }
   ],
   "source": [
    "# New int array.\n",
    "a = array(\"i\")\n",
    "\n",
    "# Append three integers.\n",
    "a.append(100)\n",
    "a.append(200)\n",
    "a.append(300)\n",
    "\n",
    "# Insert an integer at index 1.\n",
    "a.insert(1, 900)\n",
    "\n",
    "# Remove this element.\n",
    "a.remove(200)\n",
    "\n",
    "# Count elements with this value.\n",
    "i = a.count(900)\n",
    "\n",
    "print(i);\n",
    "\n",
    "# Print.\n",
    "print(a)\n"
   ]
  },
  {
   "cell_type": "code",
   "execution_count": null,
   "metadata": {},
   "outputs": [],
   "source": [
    "# convert an array to a list\n",
    "\n",
    "\n",
    "from array import array\n",
    "\n",
    "# Create a Unicode char array.\n",
    "a = array(\"u\", \"python\")\n",
    "\n",
    "# Display letters in array.\n",
    "for letter in a:\n",
    "    print(letter)\n",
    "\n",
    "# Convert array to a list.\n",
    "# ... Then join it.\n",
    "s = \"\".join(a.tolist())\n",
    "print(s)\n"
   ]
  },
  {
   "cell_type": "code",
   "execution_count": null,
   "metadata": {},
   "outputs": [],
   "source": []
  }
 ],
 "metadata": {
  "kernelspec": {
   "display_name": "Python 3",
   "language": "python",
   "name": "python3"
  },
  "language_info": {
   "codemirror_mode": {
    "name": "ipython",
    "version": 3
   },
   "file_extension": ".py",
   "mimetype": "text/x-python",
   "name": "python",
   "nbconvert_exporter": "python",
   "pygments_lexer": "ipython3",
   "version": "3.6.8"
  }
 },
 "nbformat": 4,
 "nbformat_minor": 2
}
