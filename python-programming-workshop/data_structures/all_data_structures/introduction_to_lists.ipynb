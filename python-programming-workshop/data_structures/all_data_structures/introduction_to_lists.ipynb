{
 "cells": [
  {
   "cell_type": "markdown",
   "metadata": {},
   "source": [
    "# list of integers"
   ]
  },
  {
   "cell_type": "code",
   "execution_count": null,
   "metadata": {
    "ExecuteTime": {
     "end_time": "2020-08-13T05:45:50.647505Z",
     "start_time": "2020-08-13T05:45:50.641509Z"
    }
   },
   "outputs": [],
   "source": [
    "intlist = [ 10, 19, 17, 45, 67, 79, 93, 53, 47 ]"
   ]
  },
  {
   "cell_type": "code",
   "execution_count": null,
   "metadata": {
    "ExecuteTime": {
     "end_time": "2020-08-13T05:45:51.440063Z",
     "start_time": "2020-08-13T05:45:51.433054Z"
    }
   },
   "outputs": [],
   "source": [
    "print(intlist)"
   ]
  },
  {
   "cell_type": "markdown",
   "metadata": {},
   "source": [
    "# list of strings"
   ]
  },
  {
   "cell_type": "code",
   "execution_count": null,
   "metadata": {
    "ExecuteTime": {
     "end_time": "2020-08-13T05:46:36.367882Z",
     "start_time": "2020-08-13T05:46:36.362884Z"
    }
   },
   "outputs": [],
   "source": [
    "strlist = [\"Cougar\", \"Jaguar\", \"Panther\", \"Leopard\", \"Cheetah\", \"Puma\"]"
   ]
  },
  {
   "cell_type": "code",
   "execution_count": null,
   "metadata": {
    "ExecuteTime": {
     "end_time": "2020-08-13T05:46:37.168559Z",
     "start_time": "2020-08-13T05:46:37.163562Z"
    }
   },
   "outputs": [],
   "source": [
    "print(strlist)"
   ]
  },
  {
   "cell_type": "markdown",
   "metadata": {},
   "source": [
    "# list of floats"
   ]
  },
  {
   "cell_type": "code",
   "execution_count": null,
   "metadata": {
    "ExecuteTime": {
     "end_time": "2020-08-13T05:47:05.143449Z",
     "start_time": "2020-08-13T05:47:05.136454Z"
    }
   },
   "outputs": [],
   "source": [
    "floatlist = [23.56, 32.5, 17.9, 3.53, 4.53, 9.79]"
   ]
  },
  {
   "cell_type": "code",
   "execution_count": null,
   "metadata": {
    "ExecuteTime": {
     "end_time": "2020-08-13T05:47:06.043938Z",
     "start_time": "2020-08-13T05:47:06.037943Z"
    }
   },
   "outputs": [],
   "source": [
    "print(floatlist)"
   ]
  },
  {
   "cell_type": "markdown",
   "metadata": {},
   "source": [
    "# list of lists"
   ]
  },
  {
   "cell_type": "code",
   "execution_count": null,
   "metadata": {
    "ExecuteTime": {
     "end_time": "2020-08-13T05:47:21.265879Z",
     "start_time": "2020-08-13T05:47:21.258874Z"
    }
   },
   "outputs": [],
   "source": [
    "list_of_lists = [ [23, 32, 17 ], [36, 39, 77], [23.5, 45.78] ]"
   ]
  },
  {
   "cell_type": "code",
   "execution_count": null,
   "metadata": {
    "ExecuteTime": {
     "end_time": "2020-08-13T05:47:23.594693Z",
     "start_time": "2020-08-13T05:47:23.588692Z"
    }
   },
   "outputs": [],
   "source": [
    "print(list_of_lists)"
   ]
  },
  {
   "cell_type": "code",
   "execution_count": null,
   "metadata": {
    "ExecuteTime": {
     "end_time": "2020-08-13T05:47:28.004965Z",
     "start_time": "2020-08-13T05:47:27.998968Z"
    }
   },
   "outputs": [],
   "source": [
    "print(intlist[1])"
   ]
  },
  {
   "cell_type": "code",
   "execution_count": null,
   "metadata": {
    "ExecuteTime": {
     "end_time": "2020-08-13T05:47:33.695890Z",
     "start_time": "2020-08-13T05:47:33.688892Z"
    }
   },
   "outputs": [],
   "source": [
    "print(intlist)"
   ]
  },
  {
   "cell_type": "code",
   "execution_count": null,
   "metadata": {
    "ExecuteTime": {
     "end_time": "2020-08-13T05:47:34.673623Z",
     "start_time": "2020-08-13T05:47:34.667628Z"
    }
   },
   "outputs": [],
   "source": [
    "print(intlist)"
   ]
  },
  {
   "cell_type": "code",
   "execution_count": null,
   "metadata": {
    "ExecuteTime": {
     "end_time": "2020-08-13T05:47:46.947338Z",
     "start_time": "2020-08-13T05:47:46.941340Z"
    }
   },
   "outputs": [],
   "source": [
    "intlist[2] = 56\n",
    "print(intlist)"
   ]
  },
  {
   "cell_type": "code",
   "execution_count": null,
   "metadata": {
    "ExecuteTime": {
     "end_time": "2020-08-13T05:48:04.389374Z",
     "start_time": "2020-08-13T05:48:04.383380Z"
    }
   },
   "outputs": [],
   "source": [
    "intlist[4] = 56\n",
    "print(intlist)"
   ]
  },
  {
   "cell_type": "code",
   "execution_count": null,
   "metadata": {},
   "outputs": [],
   "source": []
  }
 ],
 "metadata": {
  "kernelspec": {
   "display_name": "Python 3",
   "language": "python",
   "name": "python3"
  },
  "language_info": {
   "codemirror_mode": {
    "name": "ipython",
    "version": 3
   },
   "file_extension": ".py",
   "mimetype": "text/x-python",
   "name": "python",
   "nbconvert_exporter": "python",
   "pygments_lexer": "ipython3",
   "version": "3.7.4"
  }
 },
 "nbformat": 4,
 "nbformat_minor": 2
}
