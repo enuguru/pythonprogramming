{
 "cells": [
  {
   "cell_type": "code",
   "execution_count": 5,
   "metadata": {
    "ExecuteTime": {
     "end_time": "2020-08-13T06:28:38.073656Z",
     "start_time": "2020-08-13T06:28:38.065661Z"
    }
   },
   "outputs": [
    {
     "name": "stdout",
     "output_type": "stream",
     "text": [
      "{'Karthik': 93, 'Sekar': 87, 'Akhilesh': 77, 'Priya': 90, 'Pavani': 81}\n"
     ]
    }
   ],
   "source": [
    "dictionaryone = {\"Karthik\":93,\"Sekar\":87,\"Akhilesh\":77,\"Priya\":90,\"Pavani\":81}\n",
    "print(dictionaryone)"
   ]
  },
  {
   "cell_type": "code",
   "execution_count": 16,
   "metadata": {
    "ExecuteTime": {
     "end_time": "2020-08-13T06:32:27.759668Z",
     "start_time": "2020-08-13T06:32:27.751673Z"
    }
   },
   "outputs": [
    {
     "name": "stdout",
     "output_type": "stream",
     "text": [
      "Karthik Sekar Akhilesh Priya Pavani "
     ]
    }
   ],
   "source": [
    "for x in dictionaryone:\n",
    "    print(x,end=\" \")"
   ]
  },
  {
   "cell_type": "code",
   "execution_count": 12,
   "metadata": {
    "ExecuteTime": {
     "end_time": "2020-08-13T06:30:10.549929Z",
     "start_time": "2020-08-13T06:30:10.541933Z"
    }
   },
   "outputs": [
    {
     "name": "stdout",
     "output_type": "stream",
     "text": [
      "Karthik Sekar Akhilesh Priya Pavani "
     ]
    }
   ],
   "source": [
    "for key in dictionaryone.keys():\n",
    "    print(key,end=\" \")"
   ]
  },
  {
   "cell_type": "code",
   "execution_count": 13,
   "metadata": {
    "ExecuteTime": {
     "end_time": "2020-08-13T06:30:19.934328Z",
     "start_time": "2020-08-13T06:30:19.927330Z"
    }
   },
   "outputs": [
    {
     "name": "stdout",
     "output_type": "stream",
     "text": [
      "93 87 77 90 81 "
     ]
    }
   ],
   "source": [
    "for value in dictionaryone.values():\n",
    "    print(value,end=\" \")"
   ]
  },
  {
   "cell_type": "code",
   "execution_count": 15,
   "metadata": {
    "ExecuteTime": {
     "end_time": "2020-08-13T06:32:09.708436Z",
     "start_time": "2020-08-13T06:32:09.700442Z"
    }
   },
   "outputs": [
    {
     "name": "stdout",
     "output_type": "stream",
     "text": [
      "Karthik 93\n",
      "Sekar 87\n",
      "Akhilesh 77\n",
      "Priya 90\n",
      "Pavani 81\n"
     ]
    }
   ],
   "source": [
    "for key, value in dictionaryone.items():\n",
    "    print(key, value)"
   ]
  },
  {
   "cell_type": "code",
   "execution_count": 17,
   "metadata": {
    "ExecuteTime": {
     "end_time": "2020-08-13T06:33:02.174343Z",
     "start_time": "2020-08-13T06:33:02.167347Z"
    }
   },
   "outputs": [
    {
     "name": "stdout",
     "output_type": "stream",
     "text": [
      "{'Karthik': 93, 'Sekar': 87, 'Akhilesh': 77, 'Priya': 90, 'Pavani': 81}\n"
     ]
    }
   ],
   "source": [
    "modified = dictionaryone.copy()\n",
    "print(modified)"
   ]
  },
  {
   "cell_type": "code",
   "execution_count": 18,
   "metadata": {
    "ExecuteTime": {
     "end_time": "2020-08-13T06:33:04.430276Z",
     "start_time": "2020-08-13T06:33:04.421283Z"
    }
   },
   "outputs": [
    {
     "name": "stdout",
     "output_type": "stream",
     "text": [
      "5\n"
     ]
    }
   ],
   "source": [
    "print(len(dictionaryone))"
   ]
  },
  {
   "cell_type": "code",
   "execution_count": 33,
   "metadata": {},
   "outputs": [
    {
     "name": "stdout",
     "output_type": "stream",
     "text": [
      "93\n"
     ]
    }
   ],
   "source": [
    "print(dictionaryone[\"Karthik\"])"
   ]
  },
  {
   "cell_type": "code",
   "execution_count": 34,
   "metadata": {},
   "outputs": [
    {
     "name": "stdout",
     "output_type": "stream",
     "text": [
      "95\n"
     ]
    }
   ],
   "source": [
    "dictionaryone[\"Karthik\"] = 95\n",
    "print(dictionaryone[\"Karthik\"])"
   ]
  },
  {
   "cell_type": "code",
   "execution_count": 36,
   "metadata": {},
   "outputs": [],
   "source": [
    "dictionarytwo = {\"Karthik\":97,\"Prema\":87,\"Aarthi\":81}\n",
    "dictionaryone.update(dictionarytwo)"
   ]
  },
  {
   "cell_type": "code",
   "execution_count": 37,
   "metadata": {},
   "outputs": [
    {
     "name": "stdout",
     "output_type": "stream",
     "text": [
      "{'Karthik': 97, 'Sekar': 87, 'Akhilesh': 77, 'Priya': 90, 'Pavani': 81, 'Prema': 87, 'Aarthi': 81}\n"
     ]
    }
   ],
   "source": [
    "print(dictionaryone)"
   ]
  },
  {
   "cell_type": "code",
   "execution_count": 38,
   "metadata": {},
   "outputs": [
    {
     "name": "stdout",
     "output_type": "stream",
     "text": [
      "{'Karthik': 97, 'Prema': 87, 'Aarthi': 81}\n"
     ]
    }
   ],
   "source": [
    "print(dictionarytwo)"
   ]
  },
  {
   "cell_type": "code",
   "execution_count": 39,
   "metadata": {},
   "outputs": [
    {
     "name": "stdout",
     "output_type": "stream",
     "text": [
      "{'Karthik': 97, 'Sekar': 87, 'Akhilesh': 77, 'Priya': 90, 'Pavani': 81, 'Prema': 87, 'Aarthi': 81, 'Neeraja': 73}\n"
     ]
    }
   ],
   "source": [
    "dictionaryone[\"Neeraja\"] = 73\n",
    "print(dictionaryone)"
   ]
  },
  {
   "cell_type": "code",
   "execution_count": 40,
   "metadata": {},
   "outputs": [
    {
     "name": "stdout",
     "output_type": "stream",
     "text": [
      "{'Karthik': 97, 'Sekar': 87, 'Akhilesh': 77, 'Priya': 90, 'Pavani': 81, 'Prema': 87, 'Aarthi': 81, 'Neeraja': 73}\n"
     ]
    }
   ],
   "source": [
    "print(dictionaryone)"
   ]
  },
  {
   "cell_type": "code",
   "execution_count": 42,
   "metadata": {},
   "outputs": [
    {
     "name": "stdout",
     "output_type": "stream",
     "text": [
      "{'Karthik': 97, 'Prema': 87, 'Aarthi': 81}\n"
     ]
    }
   ],
   "source": [
    "print(dictionarytwo)"
   ]
  },
  {
   "cell_type": "code",
   "execution_count": 43,
   "metadata": {},
   "outputs": [
    {
     "name": "stdout",
     "output_type": "stream",
     "text": [
      "['Aarthi', 'Akhilesh', 'Karthik', 'Neeraja', 'Pavani', 'Prema', 'Priya', 'Sekar']\n"
     ]
    }
   ],
   "source": [
    "print(sorted(dictionaryone.keys()))"
   ]
  },
  {
   "cell_type": "code",
   "execution_count": 44,
   "metadata": {},
   "outputs": [
    {
     "name": "stdout",
     "output_type": "stream",
     "text": [
      "[73, 77, 81, 81, 87, 87, 90, 97]\n"
     ]
    }
   ],
   "source": [
    "print(sorted(dictionaryone.values()))"
   ]
  },
  {
   "cell_type": "code",
   "execution_count": 47,
   "metadata": {},
   "outputs": [
    {
     "name": "stdout",
     "output_type": "stream",
     "text": [
      "{'Lemonade': ['1', '45', '87'], 'Coke': [23, 9, 23], 'Water': [98, 127]}\n"
     ]
    }
   ],
   "source": [
    "mydict = {'Lemonade': [\"1\", \"45\", \"87\"], 'Coke': [23, 9, 23], 'Water': [98,127]}\n",
    "print(mydict)"
   ]
  },
  {
   "cell_type": "code",
   "execution_count": 49,
   "metadata": {},
   "outputs": [
    {
     "name": "stdout",
     "output_type": "stream",
     "text": [
      "{'Rishi': ['1', '45', '87'], 'Coke': (23, 9, 23), 'Water': [98, 127]}\n"
     ]
    }
   ],
   "source": [
    "mydict = {'Rishi': [\"1\", \"45\", \"87\"], 'Coke': (23, 9, 23), 'Water': [98,127]}\n",
    "print(mydict)"
   ]
  },
  {
   "cell_type": "code",
   "execution_count": 52,
   "metadata": {},
   "outputs": [
    {
     "name": "stdout",
     "output_type": "stream",
     "text": [
      "{'Lemonade': ['1', '45', '87'], 'Coke': (23, 9, 23), 'Water': [98, 127]}\n"
     ]
    }
   ],
   "source": [
    "mydict = {'Lemonade': [\"1\", \"45\", \"87\"], 'Coke': (23, 9, 23), 'Water': [98,127]}\n",
    "print(mydict)"
   ]
  },
  {
   "cell_type": "code",
   "execution_count": 21,
   "metadata": {
    "ExecuteTime": {
     "end_time": "2020-08-13T06:37:29.296971Z",
     "start_time": "2020-08-13T06:37:29.270988Z"
    }
   },
   "outputs": [
    {
     "ename": "TypeError",
     "evalue": "unhashable type: 'list'",
     "output_type": "error",
     "traceback": [
      "\u001b[1;31m---------------------------------------------------------------------------\u001b[0m",
      "\u001b[1;31mTypeError\u001b[0m                                 Traceback (most recent call last)",
      "\u001b[1;32m<ipython-input-21-52d193a6a9a8>\u001b[0m in \u001b[0;36m<module>\u001b[1;34m\u001b[0m\n\u001b[1;32m----> 1\u001b[1;33m \u001b[0mmydict\u001b[0m \u001b[1;33m=\u001b[0m \u001b[1;33m{\u001b[0m\u001b[1;33m[\u001b[0m\u001b[1;36m34\u001b[0m\u001b[1;33m,\u001b[0m\u001b[1;36m56\u001b[0m\u001b[1;33m]\u001b[0m\u001b[1;33m:\u001b[0m \u001b[1;33m[\u001b[0m\u001b[1;34m\"1\"\u001b[0m\u001b[1;33m,\u001b[0m \u001b[1;34m\"45\"\u001b[0m\u001b[1;33m,\u001b[0m \u001b[1;34m\"87\"\u001b[0m\u001b[1;33m]\u001b[0m\u001b[1;33m,\u001b[0m \u001b[1;34m'Coke'\u001b[0m\u001b[1;33m:\u001b[0m \u001b[1;33m(\u001b[0m\u001b[1;36m23\u001b[0m\u001b[1;33m,\u001b[0m \u001b[1;36m9\u001b[0m\u001b[1;33m,\u001b[0m \u001b[1;36m23\u001b[0m\u001b[1;33m)\u001b[0m\u001b[1;33m,\u001b[0m \u001b[1;34m'Water'\u001b[0m\u001b[1;33m:\u001b[0m \u001b[1;33m[\u001b[0m\u001b[1;36m98\u001b[0m\u001b[1;33m,\u001b[0m\u001b[1;36m127\u001b[0m\u001b[1;33m]\u001b[0m\u001b[1;33m}\u001b[0m\u001b[1;33m\u001b[0m\u001b[1;33m\u001b[0m\u001b[0m\n\u001b[0m\u001b[0;32m      2\u001b[0m \u001b[0mprint\u001b[0m\u001b[1;33m(\u001b[0m\u001b[0mmydict\u001b[0m\u001b[1;33m)\u001b[0m\u001b[1;33m\u001b[0m\u001b[1;33m\u001b[0m\u001b[0m\n",
      "\u001b[1;31mTypeError\u001b[0m: unhashable type: 'list'"
     ]
    }
   ],
   "source": [
    "mydict = {[34,56]: [\"1\", \"45\", \"87\"], 'Coke': (23, 9, 23), 'Water': [98,127]}\n",
    "print(mydict)"
   ]
  },
  {
   "cell_type": "code",
   "execution_count": 23,
   "metadata": {
    "ExecuteTime": {
     "end_time": "2020-08-13T06:38:06.594226Z",
     "start_time": "2020-08-13T06:38:06.574237Z"
    }
   },
   "outputs": [
    {
     "ename": "TypeError",
     "evalue": "unhashable type: 'list'",
     "output_type": "error",
     "traceback": [
      "\u001b[1;31m---------------------------------------------------------------------------\u001b[0m",
      "\u001b[1;31mTypeError\u001b[0m                                 Traceback (most recent call last)",
      "\u001b[1;32m<ipython-input-23-5b901b82cb09>\u001b[0m in \u001b[0;36m<module>\u001b[1;34m\u001b[0m\n\u001b[1;32m----> 1\u001b[1;33m \u001b[0mmydict\u001b[0m \u001b[1;33m=\u001b[0m \u001b[1;33m{\u001b[0m \u001b[1;33m[\u001b[0m\u001b[1;36m34\u001b[0m\u001b[1;33m,\u001b[0m \u001b[1;36m56\u001b[0m\u001b[1;33m]\u001b[0m\u001b[1;33m:\u001b[0m \u001b[1;33m[\u001b[0m\u001b[1;34m\"1\"\u001b[0m\u001b[1;33m,\u001b[0m \u001b[1;34m\"45\"\u001b[0m\u001b[1;33m,\u001b[0m \u001b[1;34m\"87\"\u001b[0m\u001b[1;33m]\u001b[0m\u001b[1;33m,\u001b[0m \u001b[1;34m'Coke'\u001b[0m\u001b[1;33m:\u001b[0m \u001b[1;33m(\u001b[0m\u001b[1;36m23\u001b[0m\u001b[1;33m,\u001b[0m \u001b[1;36m9\u001b[0m\u001b[1;33m,\u001b[0m \u001b[1;36m23\u001b[0m\u001b[1;33m)\u001b[0m\u001b[1;33m,\u001b[0m \u001b[1;34m'Water'\u001b[0m\u001b[1;33m:\u001b[0m \u001b[1;33m[\u001b[0m\u001b[1;36m98\u001b[0m\u001b[1;33m,\u001b[0m\u001b[1;36m127\u001b[0m\u001b[1;33m]\u001b[0m\u001b[1;33m}\u001b[0m\u001b[1;33m\u001b[0m\u001b[1;33m\u001b[0m\u001b[0m\n\u001b[0m\u001b[0;32m      2\u001b[0m \u001b[0mprint\u001b[0m\u001b[1;33m(\u001b[0m\u001b[0mmydict\u001b[0m\u001b[1;33m)\u001b[0m\u001b[1;33m\u001b[0m\u001b[1;33m\u001b[0m\u001b[0m\n",
      "\u001b[1;31mTypeError\u001b[0m: unhashable type: 'list'"
     ]
    }
   ],
   "source": [
    "mydict = { [34, 56]: [\"1\", \"45\", \"87\"], 'Coke': (23, 9, 23), 'Water': [98,127]}\n",
    "print(mydict)"
   ]
  },
  {
   "cell_type": "code",
   "execution_count": 14,
   "metadata": {},
   "outputs": [
    {
     "name": "stdout",
     "output_type": "stream",
     "text": [
      "{(34, 56): ['1', '45', '87'], 'Coke': (23, 9, 23), 'Water': [98, 127], 'Green': 45}\n"
     ]
    }
   ],
   "source": [
    "mydict[\"Green\"] = 45\n",
    "print(mydict)"
   ]
  },
  {
   "cell_type": "code",
   "execution_count": 15,
   "metadata": {},
   "outputs": [
    {
     "name": "stdout",
     "output_type": "stream",
     "text": [
      "{(34, 56): ['1', '45', '87'], 'Coke': (23, 9, 23), 'Water': [98, 127], 'Green': 45}\n"
     ]
    }
   ],
   "source": [
    "print(mydict)"
   ]
  },
  {
   "cell_type": "code",
   "execution_count": 16,
   "metadata": {},
   "outputs": [
    {
     "name": "stdout",
     "output_type": "stream",
     "text": [
      "{(34, 56): ['1', '45', '87'], 'Water': [98, 127], 'Green': 45}\n"
     ]
    }
   ],
   "source": [
    "del mydict['Coke']\n",
    "print(mydict)"
   ]
  },
  {
   "cell_type": "code",
   "execution_count": 17,
   "metadata": {},
   "outputs": [
    {
     "name": "stdout",
     "output_type": "stream",
     "text": [
      "{(34, 56): ['1', '45', '87'], 'Water': [98, 127], 'Green': 45, 'Coke': (23, 9, 23)}\n"
     ]
    }
   ],
   "source": [
    "mydict[\"Coke\"] = (23, 9, 23)\n",
    "print(mydict)"
   ]
  },
  {
   "cell_type": "code",
   "execution_count": 20,
   "metadata": {},
   "outputs": [
    {
     "data": {
      "text/plain": [
       "('Coke', (23, 9, 23))"
      ]
     },
     "execution_count": 20,
     "metadata": {},
     "output_type": "execute_result"
    }
   ],
   "source": [
    "mydict.popitem()"
   ]
  },
  {
   "cell_type": "code",
   "execution_count": 21,
   "metadata": {},
   "outputs": [
    {
     "data": {
      "text/plain": [
       "{(34, 56): ['1', '45', '87'], 'Water': [98, 127], 'Green': 45}"
      ]
     },
     "execution_count": 21,
     "metadata": {},
     "output_type": "execute_result"
    }
   ],
   "source": [
    "mydict"
   ]
  },
  {
   "cell_type": "code",
   "execution_count": 26,
   "metadata": {},
   "outputs": [
    {
     "name": "stdout",
     "output_type": "stream",
     "text": [
      "(23, 9, 23)\n"
     ]
    }
   ],
   "source": [
    "print(mydict.pop(\"Coke\",(23,9,23)))"
   ]
  },
  {
   "cell_type": "code",
   "execution_count": 27,
   "metadata": {},
   "outputs": [
    {
     "data": {
      "text/plain": [
       "91"
      ]
     },
     "execution_count": 27,
     "metadata": {},
     "output_type": "execute_result"
    }
   ],
   "source": [
    "mydict.setdefault(\"Sudhanshu\",91)"
   ]
  },
  {
   "cell_type": "code",
   "execution_count": 28,
   "metadata": {},
   "outputs": [
    {
     "data": {
      "text/plain": [
       "{(34, 56): ['1', '45', '87'], 'Water': [98, 127], 'Green': 45, 'Sudhanshu': 91}"
      ]
     },
     "execution_count": 28,
     "metadata": {},
     "output_type": "execute_result"
    }
   ],
   "source": [
    "mydict"
   ]
  },
  {
   "cell_type": "code",
   "execution_count": 29,
   "metadata": {},
   "outputs": [
    {
     "name": "stdout",
     "output_type": "stream",
     "text": [
      "{'Water': None, 'Green': None, 'Sudhanshu': None}\n"
     ]
    }
   ],
   "source": [
    "x = ('Water', 'Green', 'Sudhanshu')\n",
    "thisdict = dict.fromkeys(x)\n",
    "print(thisdict)"
   ]
  },
  {
   "cell_type": "code",
   "execution_count": 30,
   "metadata": {},
   "outputs": [
    {
     "data": {
      "text/plain": [
       "{}"
      ]
     },
     "execution_count": 30,
     "metadata": {},
     "output_type": "execute_result"
    }
   ],
   "source": [
    "mydict.clear()\n",
    "mydict"
   ]
  },
  {
   "cell_type": "markdown",
   "metadata": {},
   "source": [
    "# key should be a string or a tuple"
   ]
  },
  {
   "cell_type": "code",
   "execution_count": 27,
   "metadata": {
    "ExecuteTime": {
     "end_time": "2020-08-13T06:42:55.428410Z",
     "start_time": "2020-08-13T06:42:55.421409Z"
    }
   },
   "outputs": [
    {
     "name": "stdout",
     "output_type": "stream",
     "text": [
      "{12.45: 34, 45: 56}\n"
     ]
    }
   ],
   "source": [
    "classdict = {12.45:34, 45:56}\n",
    "print(classdict)"
   ]
  },
  {
   "cell_type": "code",
   "execution_count": 28,
   "metadata": {
    "ExecuteTime": {
     "end_time": "2020-08-13T06:43:26.192027Z",
     "start_time": "2020-08-13T06:43:26.186029Z"
    }
   },
   "outputs": [
    {
     "name": "stdout",
     "output_type": "stream",
     "text": [
      "{12.45: 100, 45: 56}\n"
     ]
    }
   ],
   "source": [
    "classdict[12.45] = 100\n",
    "print(classdict)"
   ]
  },
  {
   "cell_type": "code",
   "execution_count": null,
   "metadata": {},
   "outputs": [],
   "source": []
  }
 ],
 "metadata": {
  "kernelspec": {
   "display_name": "Python 3",
   "language": "python",
   "name": "python3"
  },
  "language_info": {
   "codemirror_mode": {
    "name": "ipython",
    "version": 3
   },
   "file_extension": ".py",
   "mimetype": "text/x-python",
   "name": "python",
   "nbconvert_exporter": "python",
   "pygments_lexer": "ipython3",
   "version": "3.7.4"
  }
 },
 "nbformat": 4,
 "nbformat_minor": 2
}
