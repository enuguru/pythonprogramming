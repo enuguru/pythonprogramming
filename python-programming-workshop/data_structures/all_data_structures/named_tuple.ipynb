{
 "cells": [
  {
   "cell_type": "code",
   "execution_count": 156,
   "metadata": {},
   "outputs": [],
   "source": [
    "import collections\n",
    "from math import sqrt"
   ]
  },
  {
   "cell_type": "code",
   "execution_count": 157,
   "metadata": {},
   "outputs": [
    {
     "name": "stdout",
     "output_type": "stream",
     "text": [
      "Point(x=1.0, y=5.0) Point(x=2.5, y=1.5)\n",
      "3.8078865529319543\n"
     ]
    }
   ],
   "source": [
    "Point = namedtuple('Point', 'x y')\n",
    "pt1 = Point(1.0, 5.0)\n",
    "pt2 = Point(2.5, 1.5)\n",
    "print(pt1,pt2)\n",
    "\n",
    "line_length = sqrt((pt1.x-pt2.x)**2 + (pt1.y-pt2.y)**2)\n",
    "print(line_length)"
   ]
  },
  {
   "cell_type": "code",
   "execution_count": 158,
   "metadata": {},
   "outputs": [
    {
     "name": "stdout",
     "output_type": "stream",
     "text": [
      "Employee(id=1, title='engineer', salary=100000)\n",
      "Title is engineer\n"
     ]
    }
   ],
   "source": [
    "# Specify the Employee namedtuple.\n",
    "collections.namedtuple(\"Employee\", [\"id\", \"title\", \"salary\"])\n",
    "\n",
    "# Create Employee instance.\n",
    "e = Employee(1, \"engineer\", 100000)\n",
    "\n",
    "# Display Employee.\n",
    "print(e)\n",
    "print(\"Title is\", e.title)"
   ]
  },
  {
   "cell_type": "code",
   "execution_count": 163,
   "metadata": {},
   "outputs": [
    {
     "name": "stdout",
     "output_type": "stream",
     "text": [
      "1597121191.076402\n",
      "1597121195.6433449\n",
      "1597121197.03229\n"
     ]
    }
   ],
   "source": [
    "#Python program that benchmarks namedtuple, tuple\n",
    "import time\n",
    "\n",
    "# The namedtuple instance.\n",
    "Animal = collections.namedtuple(\"Animal\", [\"size\", \"color\"])\n",
    "\n",
    "print(time.time())\n",
    "\n",
    "# Version 1: create namedtuple.\n",
    "i = 0\n",
    "while i < 10000000:\n",
    "    a = Animal(100, \"blue\")\n",
    "    if a[0] != 100:\n",
    "       raise Exception()\n",
    "    i += 1\n",
    "\n",
    "print(time.time())\n",
    "\n",
    "# Version 2: create tuple.\n",
    "i = 0\n",
    "while i < 10000000:\n",
    "    a = (100, \"blue\")\n",
    "    if a[0] != 100:\n",
    "       raise Exception()\n",
    "    i += 1\n",
    "\n",
    "print(time.time())\n"
   ]
  },
  {
   "cell_type": "code",
   "execution_count": null,
   "metadata": {},
   "outputs": [],
   "source": []
  }
 ],
 "metadata": {
  "kernelspec": {
   "display_name": "Python 3",
   "language": "python",
   "name": "python3"
  },
  "language_info": {
   "codemirror_mode": {
    "name": "ipython",
    "version": 3
   },
   "file_extension": ".py",
   "mimetype": "text/x-python",
   "name": "python",
   "nbconvert_exporter": "python",
   "pygments_lexer": "ipython3",
   "version": "3.6.8"
  }
 },
 "nbformat": 4,
 "nbformat_minor": 2
}
