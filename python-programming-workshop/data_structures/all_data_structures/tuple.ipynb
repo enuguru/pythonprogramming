{
 "cells": [
  {
   "cell_type": "code",
   "execution_count": 1,
   "metadata": {
    "ExecuteTime": {
     "end_time": "2020-08-13T06:45:38.639882Z",
     "start_time": "2020-08-13T06:45:38.628889Z"
    }
   },
   "outputs": [
    {
     "name": "stdout",
     "output_type": "stream",
     "text": [
      "(34, 56, 78, 39, 77, 84, 53)\n"
     ]
    }
   ],
   "source": [
    "tupleone = (34,56,78,39,77,84,53)\n",
    "print(tupleone)"
   ]
  },
  {
   "cell_type": "code",
   "execution_count": 2,
   "metadata": {},
   "outputs": [
    {
     "name": "stdout",
     "output_type": "stream",
     "text": [
      "39\n"
     ]
    }
   ],
   "source": [
    "print(tupleone[3])"
   ]
  },
  {
   "cell_type": "code",
   "execution_count": 9,
   "metadata": {},
   "outputs": [
    {
     "name": "stdout",
     "output_type": "stream",
     "text": [
      "1\n"
     ]
    }
   ],
   "source": [
    "print(tupleone.count(56))"
   ]
  },
  {
   "cell_type": "code",
   "execution_count": 2,
   "metadata": {
    "ExecuteTime": {
     "end_time": "2020-08-13T06:46:57.856747Z",
     "start_time": "2020-08-13T06:46:57.847752Z"
    }
   },
   "outputs": [
    {
     "name": "stdout",
     "output_type": "stream",
     "text": [
      "(34, 56, 78, 39, 77, 84, 53)\n"
     ]
    }
   ],
   "source": [
    "print(tupleone)"
   ]
  },
  {
   "cell_type": "code",
   "execution_count": 4,
   "metadata": {
    "ExecuteTime": {
     "end_time": "2020-08-13T06:51:06.212641Z",
     "start_time": "2020-08-13T06:51:06.203647Z"
    }
   },
   "outputs": [
    {
     "name": "stdout",
     "output_type": "stream",
     "text": [
      "[34, 56, 78, 84]\n"
     ]
    }
   ],
   "source": [
    "mylist = []\n",
    "for num in range(len(tupleone)):\n",
    "    if tupleone[num] % 2 == 0:\n",
    "        mylist.append(tupleone[num])\n",
    "print(mylist)"
   ]
  },
  {
   "cell_type": "code",
   "execution_count": 5,
   "metadata": {
    "ExecuteTime": {
     "end_time": "2020-08-13T06:58:13.335284Z",
     "start_time": "2020-08-13T06:58:13.328291Z"
    }
   },
   "outputs": [
    {
     "name": "stdout",
     "output_type": "stream",
     "text": [
      "['l', 'o', 't', 'u', 's']\n"
     ]
    }
   ],
   "source": [
    "str1 = \"lotus\"\n",
    "mylist = list(str1)\n",
    "print(mylist)"
   ]
  },
  {
   "cell_type": "code",
   "execution_count": 7,
   "metadata": {
    "ExecuteTime": {
     "end_time": "2020-08-13T06:59:04.947043Z",
     "start_time": "2020-08-13T06:59:04.940047Z"
    }
   },
   "outputs": [
    {
     "name": "stdout",
     "output_type": "stream",
     "text": [
      "potus\n"
     ]
    }
   ],
   "source": [
    "mylist[0] = 'p'\n",
    "print(''.join(mylist))"
   ]
  },
  {
   "cell_type": "code",
   "execution_count": 8,
   "metadata": {
    "ExecuteTime": {
     "end_time": "2020-08-13T06:59:51.220377Z",
     "start_time": "2020-08-13T06:59:51.211382Z"
    }
   },
   "outputs": [
    {
     "name": "stdout",
     "output_type": "stream",
     "text": [
      "potus\n"
     ]
    }
   ],
   "source": [
    "print('p'+str1[1:])"
   ]
  },
  {
   "cell_type": "code",
   "execution_count": null,
   "metadata": {},
   "outputs": [],
   "source": []
  },
  {
   "cell_type": "code",
   "execution_count": 11,
   "metadata": {
    "ExecuteTime": {
     "end_time": "2020-08-13T07:05:15.780409Z",
     "start_time": "2020-08-13T07:05:08.980913Z"
    }
   },
   "outputs": [
    {
     "name": "stdout",
     "output_type": "stream",
     "text": [
      "4\n",
      "7\n",
      "9\n",
      "0\n",
      "2\n",
      "[4, 7, 9, 0, 2]\n"
     ]
    }
   ],
   "source": [
    "mylist = []\n",
    "for num in range(5):\n",
    "    val = int(input())\n",
    "    mylist.append(val)\n",
    "print(mylist)"
   ]
  },
  {
   "cell_type": "code",
   "execution_count": null,
   "metadata": {},
   "outputs": [],
   "source": [
    "2 56 78 34 56"
   ]
  },
  {
   "cell_type": "code",
   "execution_count": 26,
   "metadata": {
    "ExecuteTime": {
     "end_time": "2020-08-13T07:21:37.020340Z",
     "start_time": "2020-08-13T07:21:25.840368Z"
    }
   },
   "outputs": [
    {
     "name": "stdout",
     "output_type": "stream",
     "text": [
      "2 3 5 78 9\n"
     ]
    }
   ],
   "source": [
    "mylist = map(int,input().split())"
   ]
  },
  {
   "cell_type": "code",
   "execution_count": 27,
   "metadata": {
    "ExecuteTime": {
     "end_time": "2020-08-13T07:21:38.584448Z",
     "start_time": "2020-08-13T07:21:38.576450Z"
    }
   },
   "outputs": [
    {
     "data": {
      "text/plain": [
       "[2, 3, 5, 78, 9]"
      ]
     },
     "execution_count": 27,
     "metadata": {},
     "output_type": "execute_result"
    }
   ],
   "source": [
    "list(mylist)"
   ]
  },
  {
   "cell_type": "code",
   "execution_count": 24,
   "metadata": {
    "ExecuteTime": {
     "end_time": "2020-08-13T07:19:41.634438Z",
     "start_time": "2020-08-13T07:19:23.618333Z"
    }
   },
   "outputs": [
    {
     "name": "stdout",
     "output_type": "stream",
     "text": [
      "67.8 45.6 9.0\n"
     ]
    }
   ],
   "source": [
    "mylist = map(float,input().split())"
   ]
  },
  {
   "cell_type": "code",
   "execution_count": 25,
   "metadata": {
    "ExecuteTime": {
     "end_time": "2020-08-13T07:19:43.347698Z",
     "start_time": "2020-08-13T07:19:43.338698Z"
    }
   },
   "outputs": [
    {
     "data": {
      "text/plain": [
       "[67.8, 45.6, 9.0]"
      ]
     },
     "execution_count": 25,
     "metadata": {},
     "output_type": "execute_result"
    }
   ],
   "source": [
    "list(mylist)"
   ]
  },
  {
   "cell_type": "code",
   "execution_count": null,
   "metadata": {},
   "outputs": [],
   "source": []
  }
 ],
 "metadata": {
  "kernelspec": {
   "display_name": "Python 3",
   "language": "python",
   "name": "python3"
  },
  "language_info": {
   "codemirror_mode": {
    "name": "ipython",
    "version": 3
   },
   "file_extension": ".py",
   "mimetype": "text/x-python",
   "name": "python",
   "nbconvert_exporter": "python",
   "pygments_lexer": "ipython3",
   "version": "3.7.4"
  }
 },
 "nbformat": 4,
 "nbformat_minor": 2
}
