{
 "cells": [
  {
   "cell_type": "code",
   "execution_count": 2,
   "metadata": {
    "ExecuteTime": {
     "end_time": "2020-08-13T05:58:26.024900Z",
     "start_time": "2020-08-13T05:58:26.016906Z"
    }
   },
   "outputs": [
    {
     "name": "stdout",
     "output_type": "stream",
     "text": [
      "[13, 45, 67, 79, 34, 56, 27]\n"
     ]
    }
   ],
   "source": [
    "intlist = [ 13, 45, 67, 79, 34, 56, 27, ]\n",
    "print(intlist)"
   ]
  },
  {
   "cell_type": "code",
   "execution_count": 3,
   "metadata": {
    "ExecuteTime": {
     "end_time": "2020-08-13T05:59:59.790052Z",
     "start_time": "2020-08-13T05:59:59.782054Z"
    }
   },
   "outputs": [
    {
     "name": "stdout",
     "output_type": "stream",
     "text": [
      "56\n"
     ]
    }
   ],
   "source": [
    "print(intlist[5])"
   ]
  },
  {
   "cell_type": "code",
   "execution_count": 4,
   "metadata": {
    "ExecuteTime": {
     "end_time": "2020-08-13T06:00:14.054753Z",
     "start_time": "2020-08-13T06:00:14.047757Z"
    }
   },
   "outputs": [
    {
     "name": "stdout",
     "output_type": "stream",
     "text": [
      "77\n"
     ]
    }
   ],
   "source": [
    "intlist[4] = 77\n",
    "print(intlist[4])"
   ]
  },
  {
   "cell_type": "code",
   "execution_count": 5,
   "metadata": {
    "ExecuteTime": {
     "end_time": "2020-08-13T06:00:15.841816Z",
     "start_time": "2020-08-13T06:00:15.834815Z"
    }
   },
   "outputs": [
    {
     "name": "stdout",
     "output_type": "stream",
     "text": [
      "[13, 45, 67, 79, 77, 56, 27]\n"
     ]
    }
   ],
   "source": [
    "print(intlist)"
   ]
  },
  {
   "cell_type": "code",
   "execution_count": 6,
   "metadata": {
    "ExecuteTime": {
     "end_time": "2020-08-13T06:00:51.410179Z",
     "start_time": "2020-08-13T06:00:51.403184Z"
    }
   },
   "outputs": [
    {
     "name": "stdout",
     "output_type": "stream",
     "text": [
      "[13, 45, 67, 79, 77, 56, 27, 21, 99]\n"
     ]
    }
   ],
   "source": [
    "intlist.append(21)\n",
    "intlist.append(99)\n",
    "print(intlist)"
   ]
  },
  {
   "cell_type": "code",
   "execution_count": 7,
   "metadata": {
    "ExecuteTime": {
     "end_time": "2020-08-13T06:01:12.907876Z",
     "start_time": "2020-08-13T06:01:12.901880Z"
    }
   },
   "outputs": [
    {
     "name": "stdout",
     "output_type": "stream",
     "text": [
      "[13, 45, 67, 79, 77, 56, 27, 21]\n"
     ]
    }
   ],
   "source": [
    "intlist.pop()\n",
    "print(intlist)"
   ]
  },
  {
   "cell_type": "code",
   "execution_count": 8,
   "metadata": {
    "ExecuteTime": {
     "end_time": "2020-08-13T06:01:24.007903Z",
     "start_time": "2020-08-13T06:01:24.000909Z"
    }
   },
   "outputs": [
    {
     "name": "stdout",
     "output_type": "stream",
     "text": [
      "[13, 45, 67, 79, 77, 56, 27]\n"
     ]
    }
   ],
   "source": [
    "intlist.pop()\n",
    "print(intlist)"
   ]
  },
  {
   "cell_type": "code",
   "execution_count": 9,
   "metadata": {
    "ExecuteTime": {
     "end_time": "2020-08-13T06:01:40.964154Z",
     "start_time": "2020-08-13T06:01:40.958157Z"
    }
   },
   "outputs": [
    {
     "name": "stdout",
     "output_type": "stream",
     "text": [
      "[13, 45, 79, 77, 56, 27]\n"
     ]
    }
   ],
   "source": [
    "intlist.remove(67)\n",
    "print(intlist)"
   ]
  },
  {
   "cell_type": "code",
   "execution_count": 10,
   "metadata": {
    "ExecuteTime": {
     "end_time": "2020-08-13T06:02:22.458725Z",
     "start_time": "2020-08-13T06:02:22.451729Z"
    }
   },
   "outputs": [],
   "source": [
    "intlistone = [ 45, 67, 89, 23, 45 ]\n",
    "newlist = intlist + intlistone"
   ]
  },
  {
   "cell_type": "code",
   "execution_count": 12,
   "metadata": {
    "ExecuteTime": {
     "end_time": "2020-08-13T06:05:03.238817Z",
     "start_time": "2020-08-13T06:05:03.231822Z"
    }
   },
   "outputs": [
    {
     "name": "stdout",
     "output_type": "stream",
     "text": [
      "[13, 45, 79, 77, 56, 27, 45, 67, 89, 23, 45]\n"
     ]
    }
   ],
   "source": [
    "print(newlist)"
   ]
  },
  {
   "cell_type": "code",
   "execution_count": 16,
   "metadata": {
    "ExecuteTime": {
     "end_time": "2020-08-13T06:06:37.625305Z",
     "start_time": "2020-08-13T06:06:37.619305Z"
    }
   },
   "outputs": [
    {
     "name": "stdout",
     "output_type": "stream",
     "text": [
      "[13, 23, 27, 45, 45, 45, 56, 67, 77, 79, 89]\n"
     ]
    }
   ],
   "source": [
    "newlist.sort()\n",
    "print(newlist)"
   ]
  },
  {
   "cell_type": "code",
   "execution_count": 17,
   "metadata": {
    "ExecuteTime": {
     "end_time": "2020-08-13T06:06:45.105362Z",
     "start_time": "2020-08-13T06:06:45.098367Z"
    }
   },
   "outputs": [
    {
     "name": "stdout",
     "output_type": "stream",
     "text": [
      "[13, 23, 27, 45, 45, 45, 56, 67, 77, 79, 89]\n"
     ]
    }
   ],
   "source": [
    "print(newlist)"
   ]
  },
  {
   "cell_type": "code",
   "execution_count": 18,
   "metadata": {
    "ExecuteTime": {
     "end_time": "2020-08-13T06:07:34.132950Z",
     "start_time": "2020-08-13T06:07:34.125954Z"
    }
   },
   "outputs": [
    {
     "name": "stdout",
     "output_type": "stream",
     "text": [
      "[13, 23, 27, 11, 45, 45, 45, 56, 67, 77, 79, 89]\n"
     ]
    }
   ],
   "source": [
    "newlist.insert(3,11)\n",
    "print(newlist)"
   ]
  },
  {
   "cell_type": "code",
   "execution_count": 19,
   "metadata": {
    "ExecuteTime": {
     "end_time": "2020-08-13T06:07:42.946886Z",
     "start_time": "2020-08-13T06:07:42.940891Z"
    }
   },
   "outputs": [
    {
     "name": "stdout",
     "output_type": "stream",
     "text": [
      "[89, 79, 77, 67, 56, 45, 45, 45, 11, 27, 23, 13]\n"
     ]
    }
   ],
   "source": [
    "newlist.reverse()\n",
    "print(newlist)"
   ]
  },
  {
   "cell_type": "code",
   "execution_count": 20,
   "metadata": {
    "ExecuteTime": {
     "end_time": "2020-08-13T06:07:47.500634Z",
     "start_time": "2020-08-13T06:07:47.492640Z"
    }
   },
   "outputs": [
    {
     "name": "stdout",
     "output_type": "stream",
     "text": [
      "8\n"
     ]
    }
   ],
   "source": [
    "print(newlist.index(11))"
   ]
  },
  {
   "cell_type": "code",
   "execution_count": 21,
   "metadata": {
    "ExecuteTime": {
     "end_time": "2020-08-13T06:09:00.667687Z",
     "start_time": "2020-08-13T06:09:00.659687Z"
    }
   },
   "outputs": [
    {
     "name": "stdout",
     "output_type": "stream",
     "text": [
      "[89, 79, 77, 67, 56, 45, 45, 45, 11, 27, 23, 13, 34, 12, 64]\n"
     ]
    }
   ],
   "source": [
    "x = [34, 12, 64]\n",
    "newlist.extend(x)\n",
    "print(newlist)"
   ]
  },
  {
   "cell_type": "code",
   "execution_count": 22,
   "metadata": {
    "ExecuteTime": {
     "end_time": "2020-08-13T06:09:10.335835Z",
     "start_time": "2020-08-13T06:09:10.328837Z"
    }
   },
   "outputs": [
    {
     "name": "stdout",
     "output_type": "stream",
     "text": [
      "[89, 79, 77, 67, 56, 45, 45, 45, 11, 27, 23, 13, 34, 12, 64]\n"
     ]
    }
   ],
   "source": [
    "y = newlist.copy()\n",
    "print(y)"
   ]
  },
  {
   "cell_type": "code",
   "execution_count": 23,
   "metadata": {
    "ExecuteTime": {
     "end_time": "2020-08-13T06:09:28.306166Z",
     "start_time": "2020-08-13T06:09:28.299174Z"
    }
   },
   "outputs": [
    {
     "name": "stdout",
     "output_type": "stream",
     "text": [
      "3\n"
     ]
    }
   ],
   "source": [
    "print(newlist.count(45))"
   ]
  },
  {
   "cell_type": "code",
   "execution_count": 24,
   "metadata": {
    "ExecuteTime": {
     "end_time": "2020-08-13T06:09:34.481108Z",
     "start_time": "2020-08-13T06:09:34.474109Z"
    }
   },
   "outputs": [
    {
     "name": "stdout",
     "output_type": "stream",
     "text": [
      "15\n"
     ]
    }
   ],
   "source": [
    "print(len(newlist))"
   ]
  },
  {
   "cell_type": "code",
   "execution_count": 25,
   "metadata": {
    "ExecuteTime": {
     "end_time": "2020-08-13T06:09:54.722421Z",
     "start_time": "2020-08-13T06:09:54.716424Z"
    }
   },
   "outputs": [
    {
     "name": "stdout",
     "output_type": "stream",
     "text": [
      "[]\n"
     ]
    }
   ],
   "source": [
    "newlist.clear()\n",
    "print(newlist)"
   ]
  },
  {
   "cell_type": "code",
   "execution_count": null,
   "metadata": {},
   "outputs": [],
   "source": [
    "\n",
    "count = int(input())\n",
    "mylist = []\n",
    "\n",
    "input_string = input()\n",
    "mylist = input_string.split()\n",
    "max,next = 0,0\n",
    "\n",
    "for num in mylist:\n",
    "    num = int(num)\n",
    "    if num > max:\n",
    "        print(next)\n",
    "        print(max)\n",
    "        next = max\n",
    "        max = num\n",
    "print(next)"
   ]
  },
  {
   "cell_type": "code",
   "execution_count": 1,
   "metadata": {},
   "outputs": [
    {
     "name": "stdout",
     "output_type": "stream",
     "text": [
      "3\n",
      "guru\n",
      "67.79\n",
      "badri\n",
      "91.4\n",
      "karthik\n",
      "67.67\n"
     ]
    }
   ],
   "source": [
    "if __name__ == '__main__':\n",
    "    globallist = []\n",
    "    for _ in range(int(input())):\n",
    "        locallist = []\n",
    "        name = input()\n",
    "        locallist.append(name)\n",
    "        score = float(input())\n",
    "        locallist.append(score)\n",
    "        globallist.append(locallist)"
   ]
  },
  {
   "cell_type": "code",
   "execution_count": 2,
   "metadata": {},
   "outputs": [
    {
     "name": "stdout",
     "output_type": "stream",
     "text": [
      "[['guru', 67.79], ['badri', 91.4], ['karthik', 67.67]]\n"
     ]
    }
   ],
   "source": [
    "print(globallist)"
   ]
  },
  {
   "cell_type": "code",
   "execution_count": null,
   "metadata": {},
   "outputs": [],
   "source": [
    "input_string = input()\n",
    "mylist = input_string.split()\n",
    "max,next = -sys.maxsize, 0"
   ]
  }
 ],
 "metadata": {
  "kernelspec": {
   "display_name": "Python 3",
   "language": "python",
   "name": "python3"
  },
  "language_info": {
   "codemirror_mode": {
    "name": "ipython",
    "version": 3
   },
   "file_extension": ".py",
   "mimetype": "text/x-python",
   "name": "python",
   "nbconvert_exporter": "python",
   "pygments_lexer": "ipython3",
   "version": "3.7.4"
  }
 },
 "nbformat": 4,
 "nbformat_minor": 2
}
