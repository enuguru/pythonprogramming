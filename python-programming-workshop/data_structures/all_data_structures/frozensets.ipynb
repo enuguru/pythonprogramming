{
 "cells": [
  {
   "cell_type": "markdown",
   "metadata": {},
   "source": [
    "# tuples are immutable lists, frozensets are immutable sets.\n",
    "\n",
    "tuples are indeed an ordered collection of objects, but they can contain \n",
    "duplicates and unhashable objects, and have slice functionality\n",
    "\n",
    "frozensets aren't indexed, but you have the functionality of sets - O(1) element \n",
    "lookups, and functionality such as unions and intersections. They also can't \n",
    "contain duplicates, like their mutable counterparts"
   ]
  },
  {
   "cell_type": "code",
   "execution_count": 166,
   "metadata": {},
   "outputs": [
    {
     "name": "stdout",
     "output_type": "stream",
     "text": [
      "This is a frozen set frozenset({1, 2, 3, 4})\n",
      "This is a frozen set frozenset({3, 4, 5, 6})\n"
     ]
    }
   ],
   "source": [
    "# initialize A and B\n",
    "A = frozenset([1, 2, 3, 4])\n",
    "B = frozenset([3, 4, 5, 6])\n",
    "\n",
    "print(\"This is a frozen set\",A)\n",
    "print(\"This is a frozen set\",B)\n"
   ]
  },
  {
   "cell_type": "code",
   "execution_count": 167,
   "metadata": {},
   "outputs": [
    {
     "name": "stdout",
     "output_type": "stream",
     "text": [
      "{'Strasbourg', 'Frankfurt', 'Freiburg', 'Basel'}\n"
     ]
    }
   ],
   "source": [
    "cities = set([\"Frankfurt\", \"Basel\",\"Freiburg\"])\n",
    "cities.add(\"Strasbourg\")\n",
    "print(cities)\n"
   ]
  },
  {
   "cell_type": "code",
   "execution_count": null,
   "metadata": {},
   "outputs": [],
   "source": []
  }
 ],
 "metadata": {
  "kernelspec": {
   "display_name": "Python 3",
   "language": "python",
   "name": "python3"
  },
  "language_info": {
   "codemirror_mode": {
    "name": "ipython",
    "version": 3
   },
   "file_extension": ".py",
   "mimetype": "text/x-python",
   "name": "python",
   "nbconvert_exporter": "python",
   "pygments_lexer": "ipython3",
   "version": "3.6.8"
  }
 },
 "nbformat": 4,
 "nbformat_minor": 2
}
