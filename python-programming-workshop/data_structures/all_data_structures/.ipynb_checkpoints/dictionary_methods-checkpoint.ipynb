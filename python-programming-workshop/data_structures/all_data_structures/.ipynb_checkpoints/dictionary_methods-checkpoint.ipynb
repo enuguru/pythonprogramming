{
 "cells": [
  {
   "cell_type": "code",
   "execution_count": 25,
   "metadata": {},
   "outputs": [
    {
     "name": "stdout",
     "output_type": "stream",
     "text": [
      "{'Karthik': 95, 'Sekar': 87, 'Akhilesh': 77, 'Priya': 90, 'Pavani': 81}\n"
     ]
    }
   ],
   "source": [
    "dictionaryone = {\"Karthik\":93,\"Sekar\":87,\"Akhilesh\":77,\"Priya\":90,\"Pavani\":81}\n",
    "print(newdictionary)"
   ]
  },
  {
   "cell_type": "code",
   "execution_count": 27,
   "metadata": {},
   "outputs": [
    {
     "name": "stdout",
     "output_type": "stream",
     "text": [
      "Karthik Sekar Akhilesh Priya Pavani "
     ]
    }
   ],
   "source": [
    "for x in dictionaryone:\n",
    "    print(x,end=\" \")"
   ]
  },
  {
   "cell_type": "code",
   "execution_count": 28,
   "metadata": {},
   "outputs": [
    {
     "name": "stdout",
     "output_type": "stream",
     "text": [
      "Karthik Sekar Akhilesh Priya Pavani "
     ]
    }
   ],
   "source": [
    "for key in dictionaryone.keys():\n",
    "    print(key,end=\" \")"
   ]
  },
  {
   "cell_type": "code",
   "execution_count": 29,
   "metadata": {},
   "outputs": [
    {
     "name": "stdout",
     "output_type": "stream",
     "text": [
      "93 87 77 90 81 "
     ]
    }
   ],
   "source": [
    "for value in dictionaryone.values():\n",
    "    print(value,end=\" \")"
   ]
  },
  {
   "cell_type": "code",
   "execution_count": 30,
   "metadata": {},
   "outputs": [
    {
     "name": "stdout",
     "output_type": "stream",
     "text": [
      "Karthik 93\n",
      "Sekar 87\n",
      "Akhilesh 77\n",
      "Priya 90\n",
      "Pavani 81\n"
     ]
    }
   ],
   "source": [
    "for key, value in dictionaryone.items():\n",
    "    print(key, value)"
   ]
  },
  {
   "cell_type": "code",
   "execution_count": 31,
   "metadata": {},
   "outputs": [
    {
     "name": "stdout",
     "output_type": "stream",
     "text": [
      "{'Karthik': 93, 'Sekar': 87, 'Akhilesh': 77, 'Priya': 90, 'Pavani': 81}\n"
     ]
    }
   ],
   "source": [
    "modified = dictionaryone.copy()\n",
    "print(modified)"
   ]
  },
  {
   "cell_type": "code",
   "execution_count": 32,
   "metadata": {},
   "outputs": [
    {
     "name": "stdout",
     "output_type": "stream",
     "text": [
      "5\n"
     ]
    }
   ],
   "source": [
    "print(len(dictionaryone))"
   ]
  },
  {
   "cell_type": "code",
   "execution_count": 33,
   "metadata": {},
   "outputs": [
    {
     "name": "stdout",
     "output_type": "stream",
     "text": [
      "93\n"
     ]
    }
   ],
   "source": [
    "print(dictionaryone[\"Karthik\"])"
   ]
  },
  {
   "cell_type": "code",
   "execution_count": 34,
   "metadata": {},
   "outputs": [
    {
     "name": "stdout",
     "output_type": "stream",
     "text": [
      "95\n"
     ]
    }
   ],
   "source": [
    "dictionaryone[\"Karthik\"] = 95\n",
    "print(dictionaryone[\"Karthik\"])"
   ]
  },
  {
   "cell_type": "code",
   "execution_count": 36,
   "metadata": {},
   "outputs": [],
   "source": [
    "dictionarytwo = {\"Karthik\":97,\"Prema\":87,\"Aarthi\":81}\n",
    "dictionaryone.update(dictionarytwo)"
   ]
  },
  {
   "cell_type": "code",
   "execution_count": 37,
   "metadata": {},
   "outputs": [
    {
     "name": "stdout",
     "output_type": "stream",
     "text": [
      "{'Karthik': 97, 'Sekar': 87, 'Akhilesh': 77, 'Priya': 90, 'Pavani': 81, 'Prema': 87, 'Aarthi': 81}\n"
     ]
    }
   ],
   "source": [
    "print(dictionaryone)"
   ]
  },
  {
   "cell_type": "code",
   "execution_count": 38,
   "metadata": {},
   "outputs": [
    {
     "name": "stdout",
     "output_type": "stream",
     "text": [
      "{'Karthik': 97, 'Prema': 87, 'Aarthi': 81}\n"
     ]
    }
   ],
   "source": [
    "print(dictionarytwo)"
   ]
  },
  {
   "cell_type": "code",
   "execution_count": 39,
   "metadata": {},
   "outputs": [
    {
     "name": "stdout",
     "output_type": "stream",
     "text": [
      "{'Karthik': 97, 'Sekar': 87, 'Akhilesh': 77, 'Priya': 90, 'Pavani': 81, 'Prema': 87, 'Aarthi': 81, 'Neeraja': 73}\n"
     ]
    }
   ],
   "source": [
    "dictionaryone[\"Neeraja\"] = 73\n",
    "print(dictionaryone)"
   ]
  },
  {
   "cell_type": "code",
   "execution_count": 40,
   "metadata": {},
   "outputs": [
    {
     "name": "stdout",
     "output_type": "stream",
     "text": [
      "{'Karthik': 97, 'Sekar': 87, 'Akhilesh': 77, 'Priya': 90, 'Pavani': 81, 'Prema': 87, 'Aarthi': 81, 'Neeraja': 73}\n"
     ]
    }
   ],
   "source": [
    "print(dictionaryone)"
   ]
  },
  {
   "cell_type": "code",
   "execution_count": 42,
   "metadata": {},
   "outputs": [
    {
     "name": "stdout",
     "output_type": "stream",
     "text": [
      "{'Karthik': 97, 'Prema': 87, 'Aarthi': 81}\n"
     ]
    }
   ],
   "source": [
    "print(dictionarytwo)"
   ]
  },
  {
   "cell_type": "code",
   "execution_count": 43,
   "metadata": {},
   "outputs": [
    {
     "name": "stdout",
     "output_type": "stream",
     "text": [
      "['Aarthi', 'Akhilesh', 'Karthik', 'Neeraja', 'Pavani', 'Prema', 'Priya', 'Sekar']\n"
     ]
    }
   ],
   "source": [
    "print(sorted(dictionaryone.keys()))"
   ]
  },
  {
   "cell_type": "code",
   "execution_count": 44,
   "metadata": {},
   "outputs": [
    {
     "name": "stdout",
     "output_type": "stream",
     "text": [
      "[73, 77, 81, 81, 87, 87, 90, 97]\n"
     ]
    }
   ],
   "source": [
    "print(sorted(dictionaryone.values()))"
   ]
  },
  {
   "cell_type": "code",
   "execution_count": 47,
   "metadata": {},
   "outputs": [
    {
     "name": "stdout",
     "output_type": "stream",
     "text": [
      "{'Lemonade': ['1', '45', '87'], 'Coke': [23, 9, 23], 'Water': [98, 127]}\n"
     ]
    }
   ],
   "source": [
    "mydict = {'Lemonade': [\"1\", \"45\", \"87\"], 'Coke': [23, 9, 23], 'Water': [98,127]}\n",
    "print(mydict)"
   ]
  },
  {
   "cell_type": "code",
   "execution_count": 49,
   "metadata": {},
   "outputs": [
    {
     "name": "stdout",
     "output_type": "stream",
     "text": [
      "{'Rishi': ['1', '45', '87'], 'Coke': (23, 9, 23), 'Water': [98, 127]}\n"
     ]
    }
   ],
   "source": [
    "mydict = {'Rishi': [\"1\", \"45\", \"87\"], 'Coke': (23, 9, 23), 'Water': [98,127]}\n",
    "print(mydict)"
   ]
  },
  {
   "cell_type": "code",
   "execution_count": 52,
   "metadata": {},
   "outputs": [
    {
     "name": "stdout",
     "output_type": "stream",
     "text": [
      "{'Lemonade': ['1', '45', '87'], 'Coke': (23, 9, 23), 'Water': [98, 127]}\n"
     ]
    }
   ],
   "source": [
    "mydict = {'Lemonade': [\"1\", \"45\", \"87\"], 'Coke': (23, 9, 23), 'Water': [98,127]}\n",
    "print(mydict)"
   ]
  },
  {
   "cell_type": "code",
   "execution_count": 56,
   "metadata": {},
   "outputs": [
    {
     "ename": "TypeError",
     "evalue": "unhashable type: 'list'",
     "output_type": "error",
     "traceback": [
      "\u001b[0;31m---------------------------------------------------------------------------\u001b[0m",
      "\u001b[0;31mTypeError\u001b[0m                                 Traceback (most recent call last)",
      "\u001b[0;32m<ipython-input-56-52d193a6a9a8>\u001b[0m in \u001b[0;36m<module>\u001b[0;34m\u001b[0m\n\u001b[0;32m----> 1\u001b[0;31m \u001b[0mmydict\u001b[0m \u001b[0;34m=\u001b[0m \u001b[0;34m{\u001b[0m\u001b[0;34m[\u001b[0m\u001b[0;36m34\u001b[0m\u001b[0;34m,\u001b[0m\u001b[0;36m56\u001b[0m\u001b[0;34m]\u001b[0m\u001b[0;34m:\u001b[0m \u001b[0;34m[\u001b[0m\u001b[0;34m\"1\"\u001b[0m\u001b[0;34m,\u001b[0m \u001b[0;34m\"45\"\u001b[0m\u001b[0;34m,\u001b[0m \u001b[0;34m\"87\"\u001b[0m\u001b[0;34m]\u001b[0m\u001b[0;34m,\u001b[0m \u001b[0;34m'Coke'\u001b[0m\u001b[0;34m:\u001b[0m \u001b[0;34m(\u001b[0m\u001b[0;36m23\u001b[0m\u001b[0;34m,\u001b[0m \u001b[0;36m9\u001b[0m\u001b[0;34m,\u001b[0m \u001b[0;36m23\u001b[0m\u001b[0;34m)\u001b[0m\u001b[0;34m,\u001b[0m \u001b[0;34m'Water'\u001b[0m\u001b[0;34m:\u001b[0m \u001b[0;34m[\u001b[0m\u001b[0;36m98\u001b[0m\u001b[0;34m,\u001b[0m\u001b[0;36m127\u001b[0m\u001b[0;34m]\u001b[0m\u001b[0;34m}\u001b[0m\u001b[0;34m\u001b[0m\u001b[0;34m\u001b[0m\u001b[0m\n\u001b[0m\u001b[1;32m      2\u001b[0m \u001b[0mprint\u001b[0m\u001b[0;34m(\u001b[0m\u001b[0mmydict\u001b[0m\u001b[0;34m)\u001b[0m\u001b[0;34m\u001b[0m\u001b[0;34m\u001b[0m\u001b[0m\n",
      "\u001b[0;31mTypeError\u001b[0m: unhashable type: 'list'"
     ]
    }
   ],
   "source": [
    "mydict = {[34,56]: [\"1\", \"45\", \"87\"], 'Coke': (23, 9, 23), 'Water': [98,127]}\n",
    "print(mydict)"
   ]
  },
  {
   "cell_type": "code",
   "execution_count": 13,
   "metadata": {},
   "outputs": [
    {
     "name": "stdout",
     "output_type": "stream",
     "text": [
      "{(34, 56): ['1', '45', '87'], 'Coke': (23, 9, 23), 'Water': [98, 127]}\n"
     ]
    }
   ],
   "source": [
    "mydict = {(34,56): [\"1\", \"45\", \"87\"], 'Coke': (23, 9, 23), 'Water': [98,127]}\n",
    "print(mydict)"
   ]
  },
  {
   "cell_type": "code",
   "execution_count": 14,
   "metadata": {},
   "outputs": [
    {
     "name": "stdout",
     "output_type": "stream",
     "text": [
      "{(34, 56): ['1', '45', '87'], 'Coke': (23, 9, 23), 'Water': [98, 127], 'Green': 45}\n"
     ]
    }
   ],
   "source": [
    "mydict[\"Green\"] = 45\n",
    "print(mydict)"
   ]
  },
  {
   "cell_type": "code",
   "execution_count": 15,
   "metadata": {},
   "outputs": [
    {
     "name": "stdout",
     "output_type": "stream",
     "text": [
      "{(34, 56): ['1', '45', '87'], 'Coke': (23, 9, 23), 'Water': [98, 127], 'Green': 45}\n"
     ]
    }
   ],
   "source": [
    "print(mydict)"
   ]
  },
  {
   "cell_type": "code",
   "execution_count": 16,
   "metadata": {},
   "outputs": [
    {
     "name": "stdout",
     "output_type": "stream",
     "text": [
      "{(34, 56): ['1', '45', '87'], 'Water': [98, 127], 'Green': 45}\n"
     ]
    }
   ],
   "source": [
    "del mydict['Coke']\n",
    "print(mydict)"
   ]
  },
  {
   "cell_type": "code",
   "execution_count": 17,
   "metadata": {},
   "outputs": [
    {
     "name": "stdout",
     "output_type": "stream",
     "text": [
      "{(34, 56): ['1', '45', '87'], 'Water': [98, 127], 'Green': 45, 'Coke': (23, 9, 23)}\n"
     ]
    }
   ],
   "source": [
    "mydict[\"Coke\"] = (23, 9, 23)\n",
    "print(mydict)"
   ]
  },
  {
   "cell_type": "code",
   "execution_count": 20,
   "metadata": {},
   "outputs": [
    {
     "data": {
      "text/plain": [
       "('Coke', (23, 9, 23))"
      ]
     },
     "execution_count": 20,
     "metadata": {},
     "output_type": "execute_result"
    }
   ],
   "source": [
    "mydict.popitem()"
   ]
  },
  {
   "cell_type": "code",
   "execution_count": 21,
   "metadata": {},
   "outputs": [
    {
     "data": {
      "text/plain": [
       "{(34, 56): ['1', '45', '87'], 'Water': [98, 127], 'Green': 45}"
      ]
     },
     "execution_count": 21,
     "metadata": {},
     "output_type": "execute_result"
    }
   ],
   "source": [
    "mydict"
   ]
  },
  {
   "cell_type": "code",
   "execution_count": 26,
   "metadata": {},
   "outputs": [
    {
     "name": "stdout",
     "output_type": "stream",
     "text": [
      "(23, 9, 23)\n"
     ]
    }
   ],
   "source": [
    "print(mydict.pop(\"Coke\",(23,9,23)))"
   ]
  },
  {
   "cell_type": "code",
   "execution_count": 27,
   "metadata": {},
   "outputs": [
    {
     "data": {
      "text/plain": [
       "91"
      ]
     },
     "execution_count": 27,
     "metadata": {},
     "output_type": "execute_result"
    }
   ],
   "source": [
    "mydict.setdefault(\"Sudhanshu\",91)"
   ]
  },
  {
   "cell_type": "code",
   "execution_count": 28,
   "metadata": {},
   "outputs": [
    {
     "data": {
      "text/plain": [
       "{(34, 56): ['1', '45', '87'], 'Water': [98, 127], 'Green': 45, 'Sudhanshu': 91}"
      ]
     },
     "execution_count": 28,
     "metadata": {},
     "output_type": "execute_result"
    }
   ],
   "source": [
    "mydict"
   ]
  },
  {
   "cell_type": "code",
   "execution_count": 29,
   "metadata": {},
   "outputs": [
    {
     "name": "stdout",
     "output_type": "stream",
     "text": [
      "{'Water': None, 'Green': None, 'Sudhanshu': None}\n"
     ]
    }
   ],
   "source": [
    "x = ('Water', 'Green', 'Sudhanshu')\n",
    "thisdict = dict.fromkeys(x)\n",
    "print(thisdict)"
   ]
  },
  {
   "cell_type": "code",
   "execution_count": 30,
   "metadata": {},
   "outputs": [
    {
     "data": {
      "text/plain": [
       "{}"
      ]
     },
     "execution_count": 30,
     "metadata": {},
     "output_type": "execute_result"
    }
   ],
   "source": [
    "mydict.clear()\n",
    "mydict"
   ]
  },
  {
   "cell_type": "code",
   "execution_count": null,
   "metadata": {},
   "outputs": [],
   "source": []
  }
 ],
 "metadata": {
  "kernelspec": {
   "display_name": "Python 3",
   "language": "python",
   "name": "python3"
  },
  "language_info": {
   "codemirror_mode": {
    "name": "ipython",
    "version": 3
   },
   "file_extension": ".py",
   "mimetype": "text/x-python",
   "name": "python",
   "nbconvert_exporter": "python",
   "pygments_lexer": "ipython3",
   "version": "3.7.4"
  }
 },
 "nbformat": 4,
 "nbformat_minor": 2
}
