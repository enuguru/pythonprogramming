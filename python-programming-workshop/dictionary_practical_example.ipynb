{
 "cells": [
  {
   "cell_type": "code",
   "execution_count": 16,
   "metadata": {},
   "outputs": [
    {
     "name": "stdout",
     "output_type": "stream",
     "text": [
      "<zip object at 0x00000218BD7825C0>\n",
      "min price: (10.75, 'FB')\n",
      "max price: (612.78, 'AAPL')\n",
      "[(10.75, 'FB'), (37.2, 'HPQ'), (45.23, 'ACME'), (205.55, 'IBM'), (612.78, 'AAPL')]\n",
      "[('AAPL', 612.78), ('ACME', 45.23), ('FB', 10.75), ('HPQ', 37.2), ('IBM', 205.55)]\n"
     ]
    }
   ],
   "source": [
    "# example.py\n",
    "#\n",
    "# Example of calculating with dictionaries\n",
    "# Example for sorting and printing with \n",
    "# dictionaries and finding minimum and maximum\n",
    "\n",
    "prices = {\n",
    "   'ACME': 45.23,\n",
    "   'AAPL': 612.78,\n",
    "   'IBM': 205.55,\n",
    "   'HPQ': 37.20,\n",
    "   'FB': 10.75\n",
    "}\n",
    "\n",
    "# Find min and max price\n",
    "print(zip(prices.values(), prices.keys()))\n",
    "#print(list(zip(prices.values(), prices.keys())))\n",
    "min_price = min(zip(prices.values(), prices.keys()))\n",
    "max_price = max(zip(prices.values(), prices.keys()))\n",
    "\n",
    "print('min price:', min_price)\n",
    "print('max price:', max_price)\n",
    "\n",
    "# you cannot directly sort a dictionary, you have to do it indiretly\n",
    "prices_sorted = sorted(zip(prices.values(), prices.keys()))\n",
    "print(prices_sorted)\n",
    "prices_sorted = sorted(zip(prices.keys(), prices.values()))\n",
    "print(prices_sorted)\n",
    "#for price, name in prices_sorted:\n",
    "#    print('    ', name, price)"
   ]
  },
  {
   "cell_type": "code",
   "execution_count": 2,
   "metadata": {},
   "outputs": [
    {
     "data": {
      "text/plain": [
       "{0: 0, 1: 1, 2: 4, 3: 9, 4: 16}"
      ]
     },
     "execution_count": 2,
     "metadata": {},
     "output_type": "execute_result"
    }
   ],
   "source": [
    "{x: x**2 for x in range(5)}\n",
    "{0: 0, 1: 1, 2: 4, 3: 9, 4: 16}"
   ]
  },
  {
   "cell_type": "code",
   "execution_count": 11,
   "metadata": {
    "scrolled": true
   },
   "outputs": [
    {
     "name": "stdout",
     "output_type": "stream",
     "text": [
      "['Dilip', 'Kumar', 'is', 'considered', 'among', 'the', 'greatest', 'actors', 'in', 'the', 'Indian', 'film', 'industry']\n",
      "{'Dilip': 5, 'Kumar': 5, 'is': 2, 'considered': 10, 'among': 5, 'the': 3, 'greatest': 8, 'actors': 6, 'in': 2, 'Indian': 6, 'film': 4, 'industry': 8}\n",
      "{'This': 4, 'data': 4, 'science': 7, 'is': 2, 'awesome': 7}\n"
     ]
    }
   ],
   "source": [
    "yourstring = \"Dilip Kumar is considered among the greatest actors in the Indian film industry\"\n",
    "yourlist = yourstring.strip().split()\n",
    "print(yourlist)\n",
    "print({word: len(word) for word in yourlist})\n",
    "print({word: len(word) for word in ['This','data','science','is','awesome']})\n",
    "#{'awesome': 7, 'data': 4, 'is': 2, 'science': 7}"
   ]
  },
  {
   "cell_type": "markdown",
   "metadata": {},
   "source": [
    "# 3rd days's assignment problem, sort the stock prices using **kwargs"
   ]
  },
  {
   "cell_type": "code",
   "execution_count": 29,
   "metadata": {},
   "outputs": [
    {
     "name": "stdout",
     "output_type": "stream",
     "text": [
      "<class 'dict'>\n",
      "ACME = 45.23\n",
      "AAPL = 612.78\n",
      "IBM = 205.55\n",
      "HPQ = 37.2\n",
      "FB = 10.75\n",
      "[(10.75, 'FB'), (37.2, 'HPQ'), (45.23, 'ACME'), (205.55, 'IBM'), (612.78, 'AAPL')]\n"
     ]
    }
   ],
   "source": [
    "# A Python program to demonstrate sorting of stock prices using **kwargs\n",
    "def fun(**kwargs): \n",
    "    # kwargs is a dict \n",
    "    print(type(kwargs)) \n",
    "    # Printing dictionary items \n",
    "    for key in kwargs: \n",
    "        print(\"%s = %s\" % (key, kwargs[key]))\n",
    "    prices_sorted = sorted(zip(kwargs.values(), kwargs.keys()))\n",
    "    print(prices_sorted)\n",
    "  \n",
    "fun(ACME=45.23,AAPL=612.78, IBM = 205.55, HPQ = 37.20, FB = 10.75) "
   ]
  },
  {
   "cell_type": "code",
   "execution_count": null,
   "metadata": {},
   "outputs": [],
   "source": []
  }
 ],
 "metadata": {
  "kernelspec": {
   "display_name": "Python 3",
   "language": "python",
   "name": "python3"
  },
  "language_info": {
   "codemirror_mode": {
    "name": "ipython",
    "version": 3
   },
   "file_extension": ".py",
   "mimetype": "text/x-python",
   "name": "python",
   "nbconvert_exporter": "python",
   "pygments_lexer": "ipython3",
   "version": "3.8.5"
  }
 },
 "nbformat": 4,
 "nbformat_minor": 4
}
