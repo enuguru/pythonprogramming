{
 "cells": [
  {
   "cell_type": "code",
   "execution_count": 1,
   "metadata": {
    "ExecuteTime": {
     "end_time": "2020-08-14T04:59:28.004282Z",
     "start_time": "2020-08-14T04:59:27.995286Z"
    }
   },
   "outputs": [
    {
     "name": "stdout",
     "output_type": "stream",
     "text": [
      "1 4 9 16 25 36 49 64 81 100 121 144 169 196 225 256 289 324 361 400 "
     ]
    }
   ],
   "source": [
    "for num in range(1,21):\n",
    "    print(num*num,end=\" \")"
   ]
  },
  {
   "cell_type": "markdown",
   "metadata": {},
   "source": [
    "# List comprehension is used to create a list"
   ]
  },
  {
   "cell_type": "code",
   "execution_count": 2,
   "metadata": {
    "ExecuteTime": {
     "end_time": "2020-08-14T05:04:07.914095Z",
     "start_time": "2020-08-14T05:04:07.906095Z"
    }
   },
   "outputs": [
    {
     "name": "stdout",
     "output_type": "stream",
     "text": [
      "[1, 8, 27, 64, 125, 216, 343, 512, 729, 1000, 1331, 1728, 2197, 2744, 3375, 4096, 4913, 5832, 6859, 8000]\n"
     ]
    }
   ],
   "source": [
    "print([num*num*num for num in range(1,21)])"
   ]
  },
  {
   "cell_type": "code",
   "execution_count": 3,
   "metadata": {
    "ExecuteTime": {
     "end_time": "2020-08-14T05:10:53.245923Z",
     "start_time": "2020-08-14T05:10:53.238924Z"
    }
   },
   "outputs": [
    {
     "name": "stdout",
     "output_type": "stream",
     "text": [
      "[3, 6, 9, 12, 15, 18, 21, 24, 27, 30, 33, 36, 39, 42, 45, 48]\n"
     ]
    }
   ],
   "source": [
    "print([num for num in range(1,50) if num % 3 == 0])"
   ]
  },
  {
   "cell_type": "code",
   "execution_count": 4,
   "metadata": {
    "ExecuteTime": {
     "end_time": "2020-08-14T05:12:41.835376Z",
     "start_time": "2020-08-14T05:12:41.828379Z"
    }
   },
   "outputs": [
    {
     "name": "stdout",
     "output_type": "stream",
     "text": [
      "[3, 6, 9, 12, 15, 18, 21, 24, 27, 30, 33, 36, 39, 42, 45, 48, 51, 54, 57, 60, 63, 66, 69, 72, 75, 78, 81, 84, 87, 90, 93, 96, 99, 102, 105, 108, 111, 114, 117, 120, 123, 126, 129, 132, 135, 138, 141, 144, 147]\n"
     ]
    }
   ],
   "source": [
    "print([3 * num for num in range(1,50)])"
   ]
  },
  {
   "cell_type": "code",
   "execution_count": 5,
   "metadata": {
    "ExecuteTime": {
     "end_time": "2020-08-14T05:35:48.752706Z",
     "start_time": "2020-08-14T05:35:48.743711Z"
    }
   },
   "outputs": [
    {
     "name": "stdout",
     "output_type": "stream",
     "text": [
      "[1, 4, 9, 16, 25, 36, 49, 64, 81, 100, 121, 144, 169, 196, 225, 256, 289, 324, 361, 400]\n"
     ]
    }
   ],
   "source": [
    "print(list(map((lambda x: x ** 2),range(1,21))))"
   ]
  },
  {
   "cell_type": "code",
   "execution_count": 9,
   "metadata": {
    "ExecuteTime": {
     "end_time": "2020-08-14T05:15:48.642949Z",
     "start_time": "2020-08-14T05:15:48.635956Z"
    }
   },
   "outputs": [],
   "source": [
    "result = [(x,y) for x in range(5) if x % 2 == 0 for y in range(5) if y % 2 == 1]"
   ]
  },
  {
   "cell_type": "code",
   "execution_count": 10,
   "metadata": {
    "ExecuteTime": {
     "end_time": "2020-08-14T05:15:58.779806Z",
     "start_time": "2020-08-14T05:15:58.773812Z"
    }
   },
   "outputs": [
    {
     "name": "stdout",
     "output_type": "stream",
     "text": [
      "[(0, 1), (0, 3), (2, 1), (2, 3), (4, 1), (4, 3)]\n"
     ]
    }
   ],
   "source": [
    "print(result)"
   ]
  },
  {
   "cell_type": "code",
   "execution_count": 12,
   "metadata": {
    "ExecuteTime": {
     "end_time": "2020-08-14T05:25:38.618007Z",
     "start_time": "2020-08-14T05:25:38.610010Z"
    }
   },
   "outputs": [
    {
     "name": "stdout",
     "output_type": "stream",
     "text": [
      "[(1, 4), (2, 3), (3, 2), (4, 1)]\n"
     ]
    }
   ],
   "source": [
    "print([(x,y) for x in range(1,7) for y in range(1,7) if (x + y) == 5])"
   ]
  },
  {
   "cell_type": "code",
   "execution_count": 15,
   "metadata": {
    "ExecuteTime": {
     "end_time": "2020-08-14T05:39:25.919251Z",
     "start_time": "2020-08-14T05:39:25.911255Z"
    }
   },
   "outputs": [
    {
     "name": "stdout",
     "output_type": "stream",
     "text": [
      "[3, 6, 9, 12, 15, 18, 21, 24, 27, 30, 33, 36, 39, 42, 45, 48]\n"
     ]
    }
   ],
   "source": [
    "print(list(filter((lambda x: x % 3 == 0), range(1,50))))"
   ]
  },
  {
   "cell_type": "code",
   "execution_count": 17,
   "metadata": {
    "ExecuteTime": {
     "end_time": "2020-08-14T05:46:04.814155Z",
     "start_time": "2020-08-14T05:46:04.805161Z"
    }
   },
   "outputs": [
    {
     "name": "stdout",
     "output_type": "stream",
     "text": [
      "['this is line1\\n', 'this is line2\\n', 'this is line3\\n', 'this is line4\\n', 'this is line5\\n']\n"
     ]
    }
   ],
   "source": [
    "fh = open(\"test.txt\", \"r\")\n",
    "result = [i for i in fh if \"line\" in i]\n",
    "print(result)"
   ]
  },
  {
   "cell_type": "code",
   "execution_count": 19,
   "metadata": {
    "ExecuteTime": {
     "end_time": "2020-08-14T05:47:07.621310Z",
     "start_time": "2020-08-14T05:47:07.615317Z"
    }
   },
   "outputs": [
    {
     "name": "stdout",
     "output_type": "stream",
     "text": [
      "this is line1\n",
      " this is line2\n",
      " this is line3\n",
      " this is line4\n",
      " this is line5\n",
      " "
     ]
    }
   ],
   "source": [
    "for val in result:\n",
    "    print(val,end=\" \")"
   ]
  },
  {
   "cell_type": "code",
   "execution_count": 22,
   "metadata": {
    "ExecuteTime": {
     "end_time": "2020-08-14T05:54:17.180949Z",
     "start_time": "2020-08-14T05:54:17.170954Z"
    }
   },
   "outputs": [
    {
     "name": "stdout",
     "output_type": "stream",
     "text": [
      "[0, 4, 16, 36, 64, 100]\n"
     ]
    }
   ],
   "source": [
    "print(list(map((lambda x: x ** 2), filter((lambda x: x % 2== 0),range(11)))))"
   ]
  },
  {
   "cell_type": "code",
   "execution_count": 23,
   "metadata": {
    "ExecuteTime": {
     "end_time": "2020-08-14T06:00:02.405161Z",
     "start_time": "2020-08-14T06:00:02.392169Z"
    }
   },
   "outputs": [
    {
     "name": "stdout",
     "output_type": "stream",
     "text": [
      "The filtered letters are:\n",
      "e\n",
      "e\n",
      "a\n",
      "u\n"
     ]
    }
   ],
   "source": [
    "    # function that filters vowels\n",
    "    def yourfun(x):\n",
    "        letters = ['a', 'e', 'i', 'o', 'u']\n",
    "        if x in letters:\n",
    "            return True\n",
    "        else:\n",
    "            return False\n",
    "      \n",
    "      \n",
    "    # sequence\n",
    "    sequence = ['g', 'e', 'e', 'j', 'k', 's', 'p', 'r','a','u']\n",
    "      \n",
    "    # using filter function\n",
    "    filtered = filter(yourfun, sequence)\n",
    "      \n",
    "    print('The filtered letters are:')\n",
    "    for s in filtered:\n",
    "        print(s)"
   ]
  },
  {
   "cell_type": "code",
   "execution_count": 26,
   "metadata": {
    "ExecuteTime": {
     "end_time": "2020-08-14T06:21:05.197846Z",
     "start_time": "2020-08-14T06:21:05.186849Z"
    }
   },
   "outputs": [
    {
     "name": "stdout",
     "output_type": "stream",
     "text": [
      "[2, 3, 5, 7, 11, 13, 17, 19, 23, 29, 31, 37, 41, 43, 47, 53, 59, 61, 67, 71, 73, 79, 83, 89, 97, 101, 103, 107, 109, 113, 127, 131, 137, 139, 149, 151, 157, 163, 167, 173, 179, 181, 191, 193, 197, 199]\n"
     ]
    }
   ],
   "source": [
    "print(list(filter(lambda x:all(x % y != 0 for y in range(2, x)), range(2, 201))))"
   ]
  },
  {
   "cell_type": "code",
   "execution_count": null,
   "metadata": {},
   "outputs": [],
   "source": []
  }
 ],
 "metadata": {
  "kernelspec": {
   "display_name": "Python 3",
   "language": "python",
   "name": "python3"
  },
  "language_info": {
   "codemirror_mode": {
    "name": "ipython",
    "version": 3
   },
   "file_extension": ".py",
   "mimetype": "text/x-python",
   "name": "python",
   "nbconvert_exporter": "python",
   "pygments_lexer": "ipython3",
   "version": "3.8.5"
  }
 },
 "nbformat": 4,
 "nbformat_minor": 2
}
