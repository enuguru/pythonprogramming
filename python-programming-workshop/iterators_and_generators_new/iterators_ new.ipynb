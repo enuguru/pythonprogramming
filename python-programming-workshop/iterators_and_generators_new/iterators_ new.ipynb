{
 "cells": [
  {
   "cell_type": "code",
   "execution_count": 1,
   "metadata": {
    "ExecuteTime": {
     "end_time": "2020-09-07T02:27:35.090095Z",
     "start_time": "2020-09-07T02:27:35.058112Z"
    }
   },
   "outputs": [
    {
     "name": "stdout",
     "output_type": "stream",
     "text": [
      "1 2 3 \n",
      "1 2 3 \n",
      "one two \n",
      "Guru 45 22 23 \n",
      "1 2 3 \n",
      "hello badri\n",
      "how are you\n",
      "how is karthik\n",
      "please treat him with respect\n",
      "please take him to court to play\n"
     ]
    }
   ],
   "source": [
    "for element in [1, 2, 3]:  #[1,2,4,16,32,64,128]\n",
    "    print(element,end=\" \")\n",
    "print()\n",
    "for element in (1, 2, 3):\n",
    "    print(element, end = \" \")\n",
    "print()\n",
    "for key in {'one':1, 'two':2}:\n",
    "    print(key, end = \" \")\n",
    "print()\n",
    "for item in {23,45,\"Guru\",22}:\n",
    "    print(item, end=\" \")\n",
    "print()\n",
    "for char in \"123\":\n",
    "    print(char,end=\" \")\n",
    "print()\n",
    "for line in open(\"myfile.txt\"):\n",
    "    print(line, end='')"
   ]
  },
  {
   "cell_type": "markdown",
   "metadata": {},
   "source": [
    "what is the difference between an iterable, iterator and iteration ?\n",
    "\n",
    "Iterable is an object, which one can iterate over. It generates an Iterator when passed to iter() method. Iterator is an object, which is used to iterate over an iterable object using __next__() method. Iterators have __next__() method, which returns the next item of the object. This whole process of iterating over is called as an iteration\n",
    "\n",
    "Note that every iterator is also an iterable, but not every iterable is an iterator. For example, a list is iterable but a list is not an iterator. An iterator can be created from an iterable by using the function iter(). To make this possible, the class of an object needs either a method __iter__, which returns an iterator, or a __getitem__ method with sequential indexes starting with 0."
   ]
  },
  {
   "cell_type": "code",
   "execution_count": 2,
   "metadata": {
    "ExecuteTime": {
     "end_time": "2020-09-07T02:28:20.416020Z",
     "start_time": "2020-09-07T02:28:20.395012Z"
    }
   },
   "outputs": [
    {
     "name": "stdout",
     "output_type": "stream",
     "text": [
      "Berlin\n",
      "Vienna\n",
      "Zurich\n",
      "\n",
      "\n",
      "Python\n",
      "Perl\n",
      "Ruby\n",
      "\n",
      "\n",
      "I t e r a t i o n   i s   e a s y "
     ]
    }
   ],
   "source": [
    "for city in [\"Berlin\", \"Vienna\", \"Zurich\"]: \n",
    "    print(city) \n",
    "  \n",
    "print(\"\\n\") \n",
    "      \n",
    "for city in (\"Python\", \"Perl\", \"Ruby\"): \n",
    "    print(city) \n",
    "  \n",
    "print(\"\\n\") \n",
    "      \n",
    "for char in \"Iteration is easy\": \n",
    "    print(char, end = \" \") "
   ]
  },
  {
   "cell_type": "code",
   "execution_count": 4,
   "metadata": {
    "ExecuteTime": {
     "end_time": "2020-09-07T02:28:31.786328Z",
     "start_time": "2020-09-07T02:28:31.757324Z"
    }
   },
   "outputs": [
    {
     "name": "stdout",
     "output_type": "stream",
     "text": [
      "<list_iterator object at 0x000001DDC4B53160>\n",
      "41\n",
      "772\n",
      "333\n"
     ]
    }
   ],
   "source": [
    "\n",
    "#create a simple iterator\n",
    "\n",
    "items = [41, 772, 333]\n",
    "# Get the iterator\n",
    "it = iter(items) # Invokes items.__iter__()\n",
    "print(it)\n",
    "# Run the iterator\n",
    "print(next(it)) # Invokes it.__next__()\n",
    "print(next(it))\n",
    "print(next(it))\n",
    "#print(next(it))\n",
    "\n",
    "#for i in items:\n",
    "#    print(i)\n"
   ]
  },
  {
   "cell_type": "code",
   "execution_count": 5,
   "metadata": {},
   "outputs": [
    {
     "name": "stdout",
     "output_type": "stream",
     "text": [
      "Berlin\n",
      "Vienna\n",
      "Zurich\n"
     ]
    }
   ],
   "source": [
    "# list of cities \n",
    "cities = [\"Berlin\", \"Vienna\", \"Zurich\"] \n",
    "  \n",
    "# initialize the object \n",
    "iterator_obj = iter(cities) \n",
    "  \n",
    "print(next(iterator_obj)) \n",
    "print(next(iterator_obj)) \n",
    "print(next(iterator_obj)) "
   ]
  },
  {
   "cell_type": "code",
   "execution_count": 6,
   "metadata": {
    "ExecuteTime": {
     "end_time": "2020-09-07T02:37:37.636677Z",
     "start_time": "2020-09-07T02:37:37.619686Z"
    }
   },
   "outputs": [
    {
     "name": "stdout",
     "output_type": "stream",
     "text": [
      "7\n",
      "1\n",
      "2\n",
      "4\n",
      "8\n",
      "16\n",
      "32\n",
      "64\n",
      "128\n"
     ]
    }
   ],
   "source": [
    "class PowTwo:\n",
    "    \"\"\"Class to implement an iterator\n",
    "    of powers of two\"\"\"\n",
    "\n",
    "    def __init__(self, max=0):\n",
    "        self.max = max\n",
    "        print(self.max)\n",
    "\n",
    "    def __iter__(self):\n",
    "        self.n = 0\n",
    "        return self\n",
    "\n",
    "    def __next__(self):\n",
    "        if self.n <= self.max:\n",
    "            result = 2 ** self.n\n",
    "            self.n += 1\n",
    "            return result\n",
    "        else:\n",
    "            raise StopIteration\n",
    "\n",
    "\n",
    "# create an object\n",
    "numbers = PowTwo(7)\n",
    "\n",
    "# create an iterable from the object\n",
    "i = iter(numbers)\n",
    "\n",
    "# Using next to get to the next iterator element\n",
    "print(next(i))\n",
    "print(next(i))\n",
    "print(next(i))\n",
    "print(next(i))\n",
    "print(next(i))\n",
    "print(next(i))\n",
    "print(next(i))\n",
    "print(next(i))\n",
    "#print(next(i))"
   ]
  },
  {
   "cell_type": "markdown",
   "metadata": {},
   "source": [
    "6\n",
    "insert 0 5\n",
    "insert 1 10\n",
    "insert 1 31\n",
    "print\n",
    "pop\n",
    "print"
   ]
  },
  {
   "cell_type": "markdown",
   "metadata": {},
   "source": [
    "6\n",
    "insert 0 5\n",
    "insert 1 10\n",
    "insert 1 31\n",
    "print\n",
    "pop\n",
    "print"
   ]
  },
  {
   "cell_type": "code",
   "execution_count": 7,
   "metadata": {
    "ExecuteTime": {
     "end_time": "2020-09-07T02:25:28.129103Z",
     "start_time": "2020-09-07T02:25:19.262621Z"
    }
   },
   "outputs": [
    {
     "name": "stdout",
     "output_type": "stream",
     "text": [
      "2\n",
      "7\n",
      "9\n"
     ]
    }
   ],
   "source": [
    "num = int(input())\n",
    "newlist = []\n",
    "\n",
    "for _ in range(num):\n",
    "    args = input().split()\n",
    "    if args[0] == \"insert\":\n",
    "        newlist.insert(int(args[1]),int(args[2]))\n",
    "    elif args[0] == \"print\":\n",
    "        print(newlist)\n",
    "    elif args[0] == \"pop\":\n",
    "        newlist.pop()"
   ]
  },
  {
   "cell_type": "code",
   "execution_count": 8,
   "metadata": {
    "ExecuteTime": {
     "end_time": "2020-08-17T05:50:13.249338Z",
     "start_time": "2020-08-17T05:50:09.953067Z"
    }
   },
   "outputs": [
    {
     "name": "stdout",
     "output_type": "stream",
     "text": [
      "clean\n",
      "clsan\n"
     ]
    }
   ],
   "source": [
    "st = input()\n",
    "print(st[:2] + 's' + st[3:])"
   ]
  },
  {
   "cell_type": "code",
   "execution_count": 20,
   "metadata": {
    "ExecuteTime": {
     "end_time": "2020-08-17T05:53:12.380030Z",
     "start_time": "2020-08-17T05:53:06.641983Z"
    }
   },
   "outputs": [
    {
     "name": "stdout",
     "output_type": "stream",
     "text": [
      "ravi kumar\n",
      "2 s\n",
      "rasi kumar\n"
     ]
    }
   ],
   "source": [
    "mystring = input()\n",
    "index, ch = input().split()\n",
    "print(mystring[:int(index)] + ch + mystring[int(index) + 1:])"
   ]
  },
  {
   "cell_type": "code",
   "execution_count": 21,
   "metadata": {
    "ExecuteTime": {
     "end_time": "2020-08-17T06:01:30.484120Z",
     "start_time": "2020-08-17T06:01:25.191177Z"
    }
   },
   "outputs": [
    {
     "name": "stdout",
     "output_type": "stream",
     "text": [
      "ravi kumar\n",
      "2 s\n",
      "rasi kumar\n"
     ]
    }
   ],
   "source": [
    "mystring = input()\n",
    "index, ch = input().split()\n",
    "newlist = list(mystring)\n",
    "newlist[int(index)] = ch\n",
    "lstr = ''.join(newlist)\n",
    "print(lstr)"
   ]
  },
  {
   "cell_type": "code",
   "execution_count": 22,
   "metadata": {
    "ExecuteTime": {
     "end_time": "2020-08-17T06:12:17.789425Z",
     "start_time": "2020-08-17T06:12:17.780432Z"
    }
   },
   "outputs": [
    {
     "ename": "SyntaxError",
     "evalue": "invalid syntax (<ipython-input-22-fe343db6cda0>, line 1)",
     "output_type": "error",
     "traceback": [
      "\u001b[1;36m  File \u001b[1;32m\"<ipython-input-22-fe343db6cda0>\"\u001b[1;36m, line \u001b[1;32m1\u001b[0m\n\u001b[1;33m    we have 3 dice with us\u001b[0m\n\u001b[1;37m          ^\u001b[0m\n\u001b[1;31mSyntaxError\u001b[0m\u001b[1;31m:\u001b[0m invalid syntax\n"
     ]
    }
   ],
   "source": [
    "we have 3 dice with us \n",
    "rolling the dice\n",
    "find the points where the sum of the dice is 11\n",
    "use list comprehension to output in 1 statement"
   ]
  },
  {
   "cell_type": "code",
   "execution_count": 23,
   "metadata": {
    "ExecuteTime": {
     "end_time": "2020-08-17T06:14:51.106864Z",
     "start_time": "2020-08-17T06:14:51.097876Z"
    }
   },
   "outputs": [
    {
     "name": "stdout",
     "output_type": "stream",
     "text": [
      "[[0, 5, 6], [0, 6, 5], [1, 4, 6], [1, 5, 5], [1, 6, 4], [2, 3, 6], [2, 4, 5], [2, 5, 4], [2, 6, 3], [3, 2, 6], [3, 3, 5], [3, 4, 4], [3, 5, 3], [3, 6, 2], [4, 1, 6], [4, 2, 5], [4, 3, 4], [4, 4, 3], [4, 5, 2], [4, 6, 1], [5, 0, 6], [5, 1, 5], [5, 2, 4], [5, 3, 3], [5, 4, 2], [5, 5, 1], [5, 6, 0], [6, 0, 5], [6, 1, 4], [6, 2, 3], [6, 3, 2], [6, 4, 1], [6, 5, 0]]\n"
     ]
    }
   ],
   "source": [
    "print([[x,y,z] for x in range(7) for y in range(7) for z in range(7) if (x+y+z == 11)])"
   ]
  },
  {
   "cell_type": "code",
   "execution_count": 24,
   "metadata": {
    "ExecuteTime": {
     "end_time": "2020-08-17T06:22:29.628985Z",
     "start_time": "2020-08-17T06:22:29.620987Z"
    }
   },
   "outputs": [
    {
     "ename": "SyntaxError",
     "evalue": "invalid syntax (<ipython-input-24-1ec9b9b5ef96>, line 1)",
     "output_type": "error",
     "traceback": [
      "\u001b[1;36m  File \u001b[1;32m\"<ipython-input-24-1ec9b9b5ef96>\"\u001b[1;36m, line \u001b[1;32m1\u001b[0m\n\u001b[1;33m    swap the case of alphabets of a string\u001b[0m\n\u001b[1;37m           ^\u001b[0m\n\u001b[1;31mSyntaxError\u001b[0m\u001b[1;31m:\u001b[0m invalid syntax\n"
     ]
    }
   ],
   "source": [
    "swap the case of alphabets of a string\n",
    "Hello friends How are You Doing\n",
    "hELLO FRIENDS hOW ARE yOU dOING\n",
    "isupper or islower\n",
    "toupper to tolower"
   ]
  },
  {
   "cell_type": "code",
   "execution_count": 27,
   "metadata": {
    "ExecuteTime": {
     "end_time": "2020-08-17T06:36:22.235131Z",
     "start_time": "2020-08-17T06:36:19.103786Z"
    }
   },
   "outputs": [
    {
     "name": "stdout",
     "output_type": "stream",
     "text": [
      "Hello How\n",
      "hELLO hOW\n"
     ]
    }
   ],
   "source": [
    "line = input()\n",
    "newlist = []\n",
    "for i in range(len(line)):\n",
    "    if line[i].isupper():\n",
    "        newlist.append(line[i].lower())\n",
    "    else:\n",
    "        newlist.append(line[i].upper())\n",
    "print(''.join(newlist))"
   ]
  },
  {
   "cell_type": "code",
   "execution_count": 29,
   "metadata": {
    "ExecuteTime": {
     "end_time": "2020-08-17T06:39:08.426238Z",
     "start_time": "2020-08-17T06:39:03.342965Z"
    }
   },
   "outputs": [
    {
     "name": "stdout",
     "output_type": "stream",
     "text": [
      "Hello How Are You\n",
      "hELLO hOW aRE yOU\n"
     ]
    }
   ],
   "source": [
    "print(''.join([i.lower() if i.isupper() else i.upper() for i in input()]))"
   ]
  },
  {
   "cell_type": "code",
   "execution_count": 30,
   "metadata": {
    "ExecuteTime": {
     "end_time": "2020-08-17T06:43:08.996308Z",
     "start_time": "2020-08-17T06:43:08.989311Z"
    }
   },
   "outputs": [
    {
     "ename": "SyntaxError",
     "evalue": "invalid syntax (<ipython-input-30-cd24c8f9cfde>, line 2)",
     "output_type": "error",
     "traceback": [
      "\u001b[1;36m  File \u001b[1;32m\"<ipython-input-30-cd24c8f9cfde>\"\u001b[1;36m, line \u001b[1;32m2\u001b[0m\n\u001b[1;33m    34 56\u001b[0m\n\u001b[1;37m        ^\u001b[0m\n\u001b[1;31mSyntaxError\u001b[0m\u001b[1;31m:\u001b[0m invalid syntax\n"
     ]
    }
   ],
   "source": [
    "2\n",
    "34 56\n"
   ]
  },
  {
   "cell_type": "code",
   "execution_count": 38,
   "metadata": {
    "ExecuteTime": {
     "end_time": "2020-08-17T06:55:22.606413Z",
     "start_time": "2020-08-17T06:55:16.750967Z"
    }
   },
   "outputs": [
    {
     "name": "stdout",
     "output_type": "stream",
     "text": [
      "2\n",
      "66 99\n",
      "3713013432690536756\n"
     ]
    }
   ],
   "source": [
    "num = int(input())\n",
    "values = map(int,input().split())\n",
    "newtuple = tuple(values)\n",
    "print(hash(newtuple))"
   ]
  },
  {
   "cell_type": "code",
   "execution_count": 33,
   "metadata": {
    "ExecuteTime": {
     "end_time": "2020-08-17T06:47:49.652970Z",
     "start_time": "2020-08-17T06:47:45.908045Z"
    }
   },
   "outputs": [
    {
     "name": "stdout",
     "output_type": "stream",
     "text": [
      "2\n",
      "35 67\n",
      "<map object at 0x000002513984C988>\n",
      "-9223371877612237672\n"
     ]
    }
   ],
   "source": [
    "num = int(input())\n",
    "values = map(int,input().split())\n",
    "print(values)\n",
    "print(hash(values))"
   ]
  },
  {
   "cell_type": "code",
   "execution_count": 39,
   "metadata": {
    "ExecuteTime": {
     "end_time": "2020-08-17T06:57:11.045056Z",
     "start_time": "2020-08-17T06:57:11.027072Z"
    }
   },
   "outputs": [
    {
     "ename": "NameError",
     "evalue": "name 'Hihello20' is not defined",
     "output_type": "error",
     "traceback": [
      "\u001b[1;31m---------------------------------------------------------------------------\u001b[0m",
      "\u001b[1;31mNameError\u001b[0m                                 Traceback (most recent call last)",
      "\u001b[1;32m<ipython-input-39-1ebd8c7bc669>\u001b[0m in \u001b[0;36m<module>\u001b[1;34m\u001b[0m\n\u001b[1;32m----> 1\u001b[1;33m \u001b[0mHihello20\u001b[0m\u001b[1;33m\u001b[0m\u001b[1;33m\u001b[0m\u001b[0m\n\u001b[0m\u001b[0;32m      2\u001b[0m \u001b[1;32mTrue\u001b[0m\u001b[1;33m\u001b[0m\u001b[1;33m\u001b[0m\u001b[0m\n\u001b[0;32m      3\u001b[0m \u001b[1;32mTrue\u001b[0m\u001b[1;33m\u001b[0m\u001b[1;33m\u001b[0m\u001b[0m\n\u001b[0;32m      4\u001b[0m \u001b[1;32mTrue\u001b[0m\u001b[1;33m\u001b[0m\u001b[1;33m\u001b[0m\u001b[0m\n\u001b[0;32m      5\u001b[0m \u001b[1;32mTrue\u001b[0m\u001b[1;33m\u001b[0m\u001b[1;33m\u001b[0m\u001b[0m\n",
      "\u001b[1;31mNameError\u001b[0m: name 'Hihello20' is not defined"
     ]
    }
   ],
   "source": [
    "Hihello20\n",
    "True\n",
    "True\n",
    "True\n",
    "True\n",
    "True\n"
   ]
  },
  {
   "cell_type": "code",
   "execution_count": 40,
   "metadata": {
    "ExecuteTime": {
     "end_time": "2020-08-17T06:58:16.940909Z",
     "start_time": "2020-08-17T06:58:16.922923Z"
    }
   },
   "outputs": [
    {
     "ename": "NameError",
     "evalue": "name 'isalnum' is not defined",
     "output_type": "error",
     "traceback": [
      "\u001b[1;31m---------------------------------------------------------------------------\u001b[0m",
      "\u001b[1;31mNameError\u001b[0m                                 Traceback (most recent call last)",
      "\u001b[1;32m<ipython-input-40-ce5c7022e81e>\u001b[0m in \u001b[0;36m<module>\u001b[1;34m\u001b[0m\n\u001b[1;32m----> 1\u001b[1;33m \u001b[0misalnum\u001b[0m\u001b[1;33m(\u001b[0m\u001b[1;33m)\u001b[0m\u001b[1;33m\u001b[0m\u001b[1;33m\u001b[0m\u001b[0m\n\u001b[0m\u001b[0;32m      2\u001b[0m \u001b[0misalpha\u001b[0m\u001b[1;33m(\u001b[0m\u001b[1;33m)\u001b[0m\u001b[1;33m\u001b[0m\u001b[1;33m\u001b[0m\u001b[0m\n\u001b[0;32m      3\u001b[0m \u001b[0misdigit\u001b[0m\u001b[1;33m(\u001b[0m\u001b[1;33m)\u001b[0m\u001b[1;33m\u001b[0m\u001b[1;33m\u001b[0m\u001b[0m\n\u001b[0;32m      4\u001b[0m \u001b[0misupper\u001b[0m\u001b[1;33m(\u001b[0m\u001b[1;33m)\u001b[0m\u001b[1;33m\u001b[0m\u001b[1;33m\u001b[0m\u001b[0m\n\u001b[0;32m      5\u001b[0m \u001b[0mislower\u001b[0m\u001b[1;33m(\u001b[0m\u001b[1;33m)\u001b[0m\u001b[1;33m\u001b[0m\u001b[1;33m\u001b[0m\u001b[0m\n",
      "\u001b[1;31mNameError\u001b[0m: name 'isalnum' is not defined"
     ]
    }
   ],
   "source": [
    "isalnum()\n",
    "isalpha()\n",
    "isdigit()\n",
    "isupper()\n",
    "islower()\n"
   ]
  },
  {
   "cell_type": "code",
   "execution_count": 48,
   "metadata": {
    "ExecuteTime": {
     "end_time": "2020-08-17T07:04:13.645657Z",
     "start_time": "2020-08-17T07:04:09.932838Z"
    }
   },
   "outputs": [
    {
     "name": "stdout",
     "output_type": "stream",
     "text": [
      "HiHello20\n",
      "True\n",
      "True\n",
      "False\n",
      "True\n",
      "True\n"
     ]
    }
   ],
   "source": [
    "st = input()\n",
    "print(any(map(str.isalnum,st)))\n",
    "print(any(map(str.isalpha,st)))\n",
    "print(all(map(str.isdigit,st)))\n",
    "print(any(map(str.isupper,st)))\n",
    "print(any(map(str.islower,st)))"
   ]
  },
  {
   "cell_type": "code",
   "execution_count": 8,
   "metadata": {},
   "outputs": [
    {
     "ename": "SyntaxError",
     "evalue": "invalid syntax (<ipython-input-8-c7dd7c92763b>, line 1)",
     "output_type": "error",
     "traceback": [
      "\u001b[1;36m  File \u001b[1;32m\"<ipython-input-8-c7dd7c92763b>\"\u001b[1;36m, line \u001b[1;32m1\u001b[0m\n\u001b[1;33m    3 9\u001b[0m\n\u001b[1;37m      ^\u001b[0m\n\u001b[1;31mSyntaxError\u001b[0m\u001b[1;31m:\u001b[0m invalid syntax\n"
     ]
    }
   ],
   "source": [
    "3 9\n",
    "4 5 7\n",
    "34 67\n",
    "89 99\n",
    "f(x) = (x * x * x) % d"
   ]
  },
  {
   "cell_type": "code",
   "execution_count": null,
   "metadata": {},
   "outputs": [],
   "source": []
  }
 ],
 "metadata": {
  "kernelspec": {
   "display_name": "Python 3",
   "language": "python",
   "name": "python3"
  },
  "language_info": {
   "codemirror_mode": {
    "name": "ipython",
    "version": 3
   },
   "file_extension": ".py",
   "mimetype": "text/x-python",
   "name": "python",
   "nbconvert_exporter": "python",
   "pygments_lexer": "ipython3",
   "version": "3.8.5"
  }
 },
 "nbformat": 4,
 "nbformat_minor": 2
}
