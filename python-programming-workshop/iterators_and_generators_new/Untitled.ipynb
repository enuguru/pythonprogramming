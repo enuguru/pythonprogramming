{
 "cells": [
  {
   "cell_type": "code",
   "execution_count": 2,
   "metadata": {},
   "outputs": [
    {
     "name": "stdout",
     "output_type": "stream",
     "text": [
      "<generator object fib at 0x000001A983F81CF0>\n",
      "0 1 1 2 3 5 8 13 21 34 55 "
     ]
    }
   ],
   "source": [
    "def fib():\n",
    "    prev, curr = 0, 1\n",
    "    while curr<100:\n",
    "        yield prev\n",
    "        prev, curr = curr, prev + curr\n",
    "\n",
    "f = fib()\n",
    "print(f)\n",
    "for i in f:\n",
    "    print(i, end = \" \")\n",
    "#list(islice(f, 0, 10))"
   ]
  },
  {
   "cell_type": "code",
   "execution_count": 3,
   "metadata": {},
   "outputs": [
    {
     "name": "stdout",
     "output_type": "stream",
     "text": [
      "<generator object countdown at 0x000001A983F81C10>\n",
      "Starting to count from 9\n",
      "9\n",
      "Press Enter to continue...3\n",
      "8\n",
      "Press Enter to continue...\n",
      "7\n",
      "Press Enter to continue...\n",
      "6\n",
      "Press Enter to continue...\n",
      "5\n",
      "Press Enter to continue...\n",
      "4\n",
      "Press Enter to continue...\n",
      "3\n",
      "Press Enter to continue...\n",
      "2\n",
      "Press Enter to continue...\n",
      "1\n",
      "Press Enter to continue...\n",
      "Done!\n"
     ]
    },
    {
     "ename": "StopIteration",
     "evalue": "",
     "output_type": "error",
     "traceback": [
      "\u001b[1;31m---------------------------------------------------------------------------\u001b[0m",
      "\u001b[1;31mStopIteration\u001b[0m                             Traceback (most recent call last)",
      "\u001b[1;32m<ipython-input-3-0f02818fa48a>\u001b[0m in \u001b[0;36m<module>\u001b[1;34m\u001b[0m\n\u001b[0;32m     29\u001b[0m \u001b[0mprint\u001b[0m\u001b[1;33m(\u001b[0m\u001b[0mnext\u001b[0m\u001b[1;33m(\u001b[0m\u001b[0mc\u001b[0m\u001b[1;33m)\u001b[0m\u001b[1;33m)\u001b[0m\u001b[1;33m\u001b[0m\u001b[1;33m\u001b[0m\u001b[0m\n\u001b[0;32m     30\u001b[0m \u001b[0minput\u001b[0m\u001b[1;33m(\u001b[0m\u001b[1;34m\"Press Enter to continue...\"\u001b[0m\u001b[1;33m)\u001b[0m\u001b[1;33m\u001b[0m\u001b[1;33m\u001b[0m\u001b[0m\n\u001b[1;32m---> 31\u001b[1;33m \u001b[0mprint\u001b[0m\u001b[1;33m(\u001b[0m\u001b[0mnext\u001b[0m\u001b[1;33m(\u001b[0m\u001b[0mc\u001b[0m\u001b[1;33m)\u001b[0m\u001b[1;33m)\u001b[0m\u001b[1;33m\u001b[0m\u001b[1;33m\u001b[0m\u001b[0m\n\u001b[0m\u001b[0;32m     32\u001b[0m \u001b[0minput\u001b[0m\u001b[1;33m(\u001b[0m\u001b[1;34m\"Press Enter to continue...\"\u001b[0m\u001b[1;33m)\u001b[0m\u001b[1;33m\u001b[0m\u001b[1;33m\u001b[0m\u001b[0m\n\u001b[0;32m     33\u001b[0m \u001b[0mprint\u001b[0m\u001b[1;33m(\u001b[0m\u001b[0mnext\u001b[0m\u001b[1;33m(\u001b[0m\u001b[0mc\u001b[0m\u001b[1;33m)\u001b[0m\u001b[1;33m)\u001b[0m\u001b[1;33m\u001b[0m\u001b[1;33m\u001b[0m\u001b[0m\n",
      "\u001b[1;31mStopIteration\u001b[0m: "
     ]
    }
   ],
   "source": [
    "def countdown(n):\n",
    "    print('Starting to count from', n)\n",
    "    while n > 0:\n",
    "        yield n\n",
    "        n -= 1\n",
    "    print('Done!')\n",
    "\n",
    "\n",
    "# Create the generator, notice no output appears\n",
    "c = countdown(9)\n",
    "print(c)\n",
    "print(next(c))\n",
    "input(\"Press Enter to continue...\")\n",
    "\n",
    "print(next(c))\n",
    "input(\"Press Enter to continue...\")\n",
    "print(next(c))\n",
    "input(\"Press Enter to continue...\")\n",
    "print(next(c))\n",
    "input(\"Press Enter to continue...\")\n",
    "print(next(c))\n",
    "input(\"Press Enter to continue...\")\n",
    "print(next(c))\n",
    "input(\"Press Enter to continue...\")\n",
    "print(next(c))\n",
    "input(\"Press Enter to continue...\")\n",
    "print(next(c))\n",
    "input(\"Press Enter to continue...\")\n",
    "print(next(c))\n",
    "input(\"Press Enter to continue...\")\n",
    "print(next(c))\n",
    "input(\"Press Enter to continue...\")\n",
    "print(next(c))\n",
    "input(\"Press Enter to continue...\")\n"
   ]
  },
  {
   "cell_type": "code",
   "execution_count": 4,
   "metadata": {},
   "outputs": [
    {
     "name": "stdout",
     "output_type": "stream",
     "text": [
      "7\n",
      "Press Enter to continue...\n",
      "1\n",
      "Press Enter to continue...\n",
      "2\n",
      "Press Enter to continue...\n",
      "4\n",
      "Press Enter to continue...\n",
      "8\n",
      "Press Enter to continue...\n",
      "16\n",
      "Press Enter to continue...\n",
      "32\n",
      "Press Enter to continue...\n",
      "64\n",
      "Press Enter to continue...\n",
      "128\n",
      "Press Enter to continue...\n"
     ]
    },
    {
     "ename": "StopIteration",
     "evalue": "",
     "output_type": "error",
     "traceback": [
      "\u001b[1;31m---------------------------------------------------------------------------\u001b[0m",
      "\u001b[1;31mStopIteration\u001b[0m                             Traceback (most recent call last)",
      "\u001b[1;32m<ipython-input-4-32cbddc89eab>\u001b[0m in \u001b[0;36m<module>\u001b[1;34m\u001b[0m\n\u001b[0;32m     46\u001b[0m \u001b[0mprint\u001b[0m\u001b[1;33m(\u001b[0m\u001b[0mnext\u001b[0m\u001b[1;33m(\u001b[0m\u001b[0mi\u001b[0m\u001b[1;33m)\u001b[0m\u001b[1;33m)\u001b[0m\u001b[1;33m\u001b[0m\u001b[1;33m\u001b[0m\u001b[0m\n\u001b[0;32m     47\u001b[0m \u001b[0minput\u001b[0m\u001b[1;33m(\u001b[0m\u001b[1;34m\"Press Enter to continue...\"\u001b[0m\u001b[1;33m)\u001b[0m\u001b[1;33m\u001b[0m\u001b[1;33m\u001b[0m\u001b[0m\n\u001b[1;32m---> 48\u001b[1;33m \u001b[0mprint\u001b[0m\u001b[1;33m(\u001b[0m\u001b[0mnext\u001b[0m\u001b[1;33m(\u001b[0m\u001b[0mi\u001b[0m\u001b[1;33m)\u001b[0m\u001b[1;33m)\u001b[0m\u001b[1;33m\u001b[0m\u001b[1;33m\u001b[0m\u001b[0m\n\u001b[0m\u001b[0;32m     49\u001b[0m \u001b[0minput\u001b[0m\u001b[1;33m(\u001b[0m\u001b[1;34m\"Press Enter to continue...\"\u001b[0m\u001b[1;33m)\u001b[0m\u001b[1;33m\u001b[0m\u001b[1;33m\u001b[0m\u001b[0m\n",
      "\u001b[1;32m<ipython-input-4-32cbddc89eab>\u001b[0m in \u001b[0;36m__next__\u001b[1;34m(self)\u001b[0m\n\u001b[0;32m     17\u001b[0m             \u001b[1;32mreturn\u001b[0m \u001b[0mresult\u001b[0m\u001b[1;33m\u001b[0m\u001b[1;33m\u001b[0m\u001b[0m\n\u001b[0;32m     18\u001b[0m         \u001b[1;32melse\u001b[0m\u001b[1;33m:\u001b[0m\u001b[1;33m\u001b[0m\u001b[1;33m\u001b[0m\u001b[0m\n\u001b[1;32m---> 19\u001b[1;33m             \u001b[1;32mraise\u001b[0m \u001b[0mStopIteration\u001b[0m\u001b[1;33m\u001b[0m\u001b[1;33m\u001b[0m\u001b[0m\n\u001b[0m\u001b[0;32m     20\u001b[0m \u001b[1;33m\u001b[0m\u001b[0m\n\u001b[0;32m     21\u001b[0m \u001b[1;33m\u001b[0m\u001b[0m\n",
      "\u001b[1;31mStopIteration\u001b[0m: "
     ]
    }
   ],
   "source": [
    "class PowTwo:\n",
    "    \"\"\"Class to implement an iterator\n",
    "    of powers of two\"\"\"\n",
    "\n",
    "    def __init__(self, max=0):\n",
    "        self.max = max\n",
    "        print(self.max)\n",
    "\n",
    "    def __iter__(self):\n",
    "        self.n = 0\n",
    "        return self\n",
    "\n",
    "    def __next__(self):\n",
    "        if self.n <= self.max:\n",
    "            result = 2 ** self.n\n",
    "            self.n += 1\n",
    "            return result\n",
    "        else:\n",
    "            raise StopIteration\n",
    "\n",
    "\n",
    "# create an object\n",
    "numbers = PowTwo(7)\n",
    "\n",
    "# create an iterable from the object\n",
    "i = iter(numbers)\n",
    "\n",
    "# Using next to get to the next iterator element\n",
    "input(\"Press Enter to continue...\")\n",
    "\n",
    "print(next(i))\n",
    "\n",
    "input(\"Press Enter to continue...\")\n",
    "print(next(i))\n",
    "input(\"Press Enter to continue...\")\n",
    "print(next(i))\n",
    "input(\"Press Enter to continue...\")\n",
    "print(next(i))\n",
    "input(\"Press Enter to continue...\")\n",
    "print(next(i))\n",
    "input(\"Press Enter to continue...\")\n",
    "print(next(i))\n",
    "input(\"Press Enter to continue...\")\n",
    "print(next(i))\n",
    "input(\"Press Enter to continue...\")\n",
    "print(next(i))\n",
    "input(\"Press Enter to continue...\")\n",
    "print(next(i))\n",
    "input(\"Press Enter to continue...\")"
   ]
  },
  {
   "cell_type": "code",
   "execution_count": 5,
   "metadata": {},
   "outputs": [
    {
     "name": "stdout",
     "output_type": "stream",
     "text": [
      "\n",
      "0 1 1 2 3 5 8 13 21 34 55 89 144 233 377 610 987 1597 2584 4181 \n",
      "\n",
      "\n"
     ]
    }
   ],
   "source": [
    "class generate_fibonacci:\n",
    "\n",
    "    def __init__(self):\n",
    "        self.a, self.b = 0, 1\n",
    "\n",
    "    def __next__(self):\n",
    "        return_value = self.a\n",
    "        self.a, self.b = self.b, self.a+self.b\n",
    "        return return_value\n",
    "\n",
    "    def __iter__(self):\n",
    "        return self\n",
    "    \n",
    "f = generate_fibonacci()\n",
    "print()\n",
    "\n",
    "for i in range(20):\n",
    "    print(next(f),end= \" \")\n",
    "print(\"\\n\\n\")\n"
   ]
  },
  {
   "cell_type": "code",
   "execution_count": null,
   "metadata": {},
   "outputs": [],
   "source": []
  }
 ],
 "metadata": {
  "kernelspec": {
   "display_name": "Python 3",
   "language": "python",
   "name": "python3"
  },
  "language_info": {
   "codemirror_mode": {
    "name": "ipython",
    "version": 3
   },
   "file_extension": ".py",
   "mimetype": "text/x-python",
   "name": "python",
   "nbconvert_exporter": "python",
   "pygments_lexer": "ipython3",
   "version": "3.8.5"
  }
 },
 "nbformat": 4,
 "nbformat_minor": 4
}
