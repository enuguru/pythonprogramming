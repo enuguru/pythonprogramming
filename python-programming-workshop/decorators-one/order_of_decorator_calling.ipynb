{
 "cells": [
  {
   "cell_type": "code",
   "execution_count": 2,
   "id": "af10dcc4",
   "metadata": {},
   "outputs": [
    {
     "name": "stdout",
     "output_type": "stream",
     "text": [
      "Jacob is playing Counter-Strike\n",
      "My name is Reshma\n",
      "I Study Computer Science and Engineering\n",
      "This is Python3\n"
     ]
    }
   ],
   "source": [
    "def firstfunction(parameter):\n",
    "      print('My name is Reshma')\n",
    "      return parameter\n",
    "\n",
    "def secondfunction(parameter):\n",
    "      print('I Study Computer Science and Engineering')\n",
    "      return parameter\n",
    "\n",
    "def thirdfunction(parameter):\n",
    "      print('Jacob is playing Counter-Strike')\n",
    "      return parameter\n",
    "\n",
    "@secondfunction\n",
    "@firstfunction\n",
    "@thirdfunction\n",
    "def func1():\n",
    "     print('This is Python3')\n",
    "     return\n",
    "\n",
    "func1()\n"
   ]
  },
  {
   "cell_type": "code",
   "execution_count": null,
   "id": "ba9c9b53",
   "metadata": {},
   "outputs": [],
   "source": []
  }
 ],
 "metadata": {
  "kernelspec": {
   "display_name": "Python 3 (ipykernel)",
   "language": "python",
   "name": "python3"
  },
  "language_info": {
   "codemirror_mode": {
    "name": "ipython",
    "version": 3
   },
   "file_extension": ".py",
   "mimetype": "text/x-python",
   "name": "python",
   "nbconvert_exporter": "python",
   "pygments_lexer": "ipython3",
   "version": "3.10.9"
  }
 },
 "nbformat": 4,
 "nbformat_minor": 5
}
