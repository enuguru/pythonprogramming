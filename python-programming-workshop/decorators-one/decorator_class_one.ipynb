{
 "cells": [
  {
   "cell_type": "code",
   "execution_count": 4,
   "id": "efb429bd",
   "metadata": {},
   "outputs": [
    {
     "name": "stdout",
     "output_type": "stream",
     "text": [
      "<function mul_nums at 0x000001E707AF1AB0>\n",
      "<__main__.Cube object at 0x000001E705C71CF0>\n",
      "12\n",
      "1728\n"
     ]
    }
   ],
   "source": [
    "class Cube(object):\n",
    "    def __init__(self, args):\n",
    "        self._args = args\n",
    "        print(self._args)\n",
    "    def __call__(self, x, y):\n",
    "        res = self._args(x,y)\n",
    "        print(res)\n",
    "        return res*res*res\n",
    "\n",
    "@Cube\n",
    "def mul_nums(x, y):\n",
    "    return x * y\n",
    "\n",
    "print(mul_nums)\n",
    "print(mul_nums(4,3))"
   ]
  },
  {
   "cell_type": "code",
   "execution_count": null,
   "id": "f59ea4be",
   "metadata": {},
   "outputs": [],
   "source": []
  }
 ],
 "metadata": {
  "kernelspec": {
   "display_name": "Python 3 (ipykernel)",
   "language": "python",
   "name": "python3"
  },
  "language_info": {
   "codemirror_mode": {
    "name": "ipython",
    "version": 3
   },
   "file_extension": ".py",
   "mimetype": "text/x-python",
   "name": "python",
   "nbconvert_exporter": "python",
   "pygments_lexer": "ipython3",
   "version": "3.10.9"
  }
 },
 "nbformat": 4,
 "nbformat_minor": 5
}
