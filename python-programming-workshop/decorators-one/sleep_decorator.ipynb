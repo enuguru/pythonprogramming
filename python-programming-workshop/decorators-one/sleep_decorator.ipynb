{
 "cells": [
  {
   "cell_type": "code",
   "execution_count": 10,
   "id": "ec846177",
   "metadata": {},
   "outputs": [
    {
     "name": "stdout",
     "output_type": "stream",
     "text": [
      "333\n"
     ]
    }
   ],
   "source": [
    "from time import sleep\n",
    "\n",
    "def sleep_decorator(function):\n",
    "\n",
    "    def wrapper():\n",
    "        sleep(5)\n",
    "        function()\n",
    "        \n",
    "    return wrapper\n",
    "\n",
    "\n",
    "@sleep_decorator\n",
    "def print_number():\n",
    "    print(333)\n",
    "    \n",
    "print_number()"
   ]
  },
  {
   "cell_type": "code",
   "execution_count": null,
   "id": "9b3b1b62",
   "metadata": {},
   "outputs": [],
   "source": []
  }
 ],
 "metadata": {
  "kernelspec": {
   "display_name": "Python 3 (ipykernel)",
   "language": "python",
   "name": "python3"
  },
  "language_info": {
   "codemirror_mode": {
    "name": "ipython",
    "version": 3
   },
   "file_extension": ".py",
   "mimetype": "text/x-python",
   "name": "python",
   "nbconvert_exporter": "python",
   "pygments_lexer": "ipython3",
   "version": "3.10.9"
  }
 },
 "nbformat": 4,
 "nbformat_minor": 5
}
