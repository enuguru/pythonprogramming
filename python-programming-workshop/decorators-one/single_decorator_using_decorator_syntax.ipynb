{
 "cells": [
  {
   "cell_type": "code",
   "execution_count": 1,
   "id": "b175606a",
   "metadata": {},
   "outputs": [
    {
     "name": "stdout",
     "output_type": "stream",
     "text": [
      "I am the decorator_function, and I am doing decoration job\n",
      "I am function_one, I got decorated\n",
      "This line is printed after the function_one() call\n",
      "Coming bcck to original call\n"
     ]
    }
   ],
   "source": [
    "# here we are using the decorator syntax and doing\n",
    "# the same thing done in the previous program\n",
    "# does'nt this look cleaner ?\n",
    "\n",
    "def new_name_function(func):\n",
    "\n",
    "    def inner():\n",
    "        print(\"I am the decorator_function, and I am doing decoration job\")\n",
    "        func()\n",
    "        print(\"This line is printed after the function_one() call\")\n",
    "        return \"Coming bcck to original call\"\n",
    "\n",
    "    return inner\n",
    "\n",
    "\n",
    "@new_name_function\n",
    "def function_one():\n",
    "    print(\"I am function_one, I got decorated\")\n",
    "\n",
    "print(function_one())\n",
    "\n",
    "#syntactic sugar"
   ]
  },
  {
   "cell_type": "code",
   "execution_count": null,
   "id": "67a8b7cc",
   "metadata": {},
   "outputs": [],
   "source": []
  }
 ],
 "metadata": {
  "kernelspec": {
   "display_name": "Python 3 (ipykernel)",
   "language": "python",
   "name": "python3"
  },
  "language_info": {
   "codemirror_mode": {
    "name": "ipython",
    "version": 3
   },
   "file_extension": ".py",
   "mimetype": "text/x-python",
   "name": "python",
   "nbconvert_exporter": "python",
   "pygments_lexer": "ipython3",
   "version": "3.10.9"
  }
 },
 "nbformat": 4,
 "nbformat_minor": 5
}
