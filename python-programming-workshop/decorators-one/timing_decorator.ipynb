{
 "cells": [
  {
   "cell_type": "code",
   "execution_count": 1,
   "id": "416943e0",
   "metadata": {},
   "outputs": [
    {
     "name": "stdout",
     "output_type": "stream",
     "text": [
      "\n",
      "Sum of all the numbers: 49999995000000\n",
      "Hello\n",
      "Time it took to run the function: 1.2195665836334229\n",
      "\n"
     ]
    }
   ],
   "source": [
    "\n",
    "import time\n",
    "\n",
    "def timing_decorator(that_function):\n",
    "\n",
    "#prints the time a function takes to run\n",
    "\n",
    "    def wrapper():\n",
    "        t1 = time.time()\n",
    "        that_function()\n",
    "        t2 = time.time()\n",
    "        print(\"Hello\")\n",
    "        return \"Time it took to run the function: \" + str((t2 - t1)) + \"\\n\"\n",
    "\n",
    "    return wrapper\n",
    "\n",
    "@timing_decorator\n",
    "def new_function():\n",
    "    new_list = []\n",
    "    for num in (range(0, 10000000)):\n",
    "        new_list.append(num)\n",
    "    print(\"\\nSum of all the numbers: \" + str((sum(new_list))))\n",
    "\n",
    "print(new_function())\n",
    "#new_function()\n"
   ]
  },
  {
   "cell_type": "code",
   "execution_count": null,
   "id": "42af8483",
   "metadata": {},
   "outputs": [],
   "source": []
  }
 ],
 "metadata": {
  "kernelspec": {
   "display_name": "Python 3 (ipykernel)",
   "language": "python",
   "name": "python3"
  },
  "language_info": {
   "codemirror_mode": {
    "name": "ipython",
    "version": 3
   },
   "file_extension": ".py",
   "mimetype": "text/x-python",
   "name": "python",
   "nbconvert_exporter": "python",
   "pygments_lexer": "ipython3",
   "version": "3.10.9"
  }
 },
 "nbformat": 4,
 "nbformat_minor": 5
}
