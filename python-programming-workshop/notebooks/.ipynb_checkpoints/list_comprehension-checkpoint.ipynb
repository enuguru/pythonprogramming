{
 "cells": [
  {
   "cell_type": "markdown",
   "metadata": {},
   "source": [
    "squares of numbers in a given range"
   ]
  },
  {
   "cell_type": "code",
   "execution_count": 2,
   "metadata": {},
   "outputs": [
    {
     "name": "stdout",
     "output_type": "stream",
     "text": [
      "10\n",
      "[1, 4, 9, 16, 25, 36, 49, 64, 81, 100]\n"
     ]
    }
   ],
   "source": [
    "num = int(input())\n",
    "arraylist = [val*val for val in range(1,num+1)]\n",
    "print(arraylist)"
   ]
  },
  {
   "cell_type": "code",
   "execution_count": 4,
   "metadata": {},
   "outputs": [
    {
     "name": "stdout",
     "output_type": "stream",
     "text": [
      "10\n",
      "[1, 4, 9, 16, 25, 36, 49, 64, 81, 100]\n"
     ]
    }
   ],
   "source": [
    "print([val**2 for val in range(1,int(input())+1)])"
   ]
  },
  {
   "cell_type": "markdown",
   "metadata": {},
   "source": [
    "cubes of numbers in a given range"
   ]
  },
  {
   "cell_type": "code",
   "execution_count": 5,
   "metadata": {},
   "outputs": [
    {
     "name": "stdout",
     "output_type": "stream",
     "text": [
      "10\n",
      "[1, 8, 27, 64, 125, 216, 343, 512, 729, 1000]\n"
     ]
    }
   ],
   "source": [
    "num = int(input())\n",
    "arraylist = [val*val*val for val in range(1,num+1)]\n",
    "print(arraylist)"
   ]
  },
  {
   "cell_type": "code",
   "execution_count": 6,
   "metadata": {},
   "outputs": [
    {
     "name": "stdout",
     "output_type": "stream",
     "text": [
      "10\n",
      "[1, 8, 27, 64, 125, 216, 343, 512, 729, 1000]\n"
     ]
    }
   ],
   "source": [
    "print([val**3 for val in range(1,int(input())+1)])"
   ]
  },
  {
   "cell_type": "markdown",
   "metadata": {},
   "source": [
    "factors of number in the given range"
   ]
  },
  {
   "cell_type": "code",
   "execution_count": 8,
   "metadata": {},
   "outputs": [
    {
     "name": "stdout",
     "output_type": "stream",
     "text": [
      "5\n",
      "100\n",
      "[5, 10, 15, 20, 25, 30, 35, 40, 45, 50, 55, 60, 65, 70, 75, 80, 85, 90, 95, 100]\n"
     ]
    }
   ],
   "source": [
    "num = int(input())\n",
    "print([val for val in range(1,int(input())+1) if val % num == 0])"
   ]
  },
  {
   "cell_type": "markdown",
   "metadata": {},
   "source": [
    "count the number of vowels"
   ]
  },
  {
   "cell_type": "code",
   "execution_count": 9,
   "metadata": {},
   "outputs": [
    {
     "name": "stdout",
     "output_type": "stream",
     "text": [
      "{'a': 2, 'e': 5, 'i': 3, 'o': 5, 'u': 3}\n"
     ]
    }
   ],
   "source": [
    "# Using dictionary and list comprehension\n",
    "\n",
    "ip_str = 'Hello, have you tried our tutorial section yet?'\n",
    "\n",
    "# make it suitable for caseless comparisions\n",
    "ip_str = ip_str.casefold()\n",
    "\n",
    "# count the vowels\n",
    "count = {x:sum([1 for char in ip_str if char == x]) for x in 'aeiou'}\n",
    "\n",
    "print(count)"
   ]
  },
  {
   "cell_type": "code",
   "execution_count": 24,
   "metadata": {},
   "outputs": [
    {
     "name": "stdout",
     "output_type": "stream",
     "text": [
      "18\n"
     ]
    }
   ],
   "source": [
    "# Using dictionary and list comprehension\n",
    "\n",
    "ip_str = 'Hello, have you tried our tutorial section yet?'\n",
    "\n",
    "# make it suitable for caseless comparisions\n",
    "ip_str = ip_str.casefold()\n",
    "mysum = 0\n",
    "# count the vowels\n",
    "count = sum(list(sum([1 for char in ip_str if char == x]) for x in 'aeiou'))\n",
    "\n",
    "print(count)"
   ]
  },
  {
   "cell_type": "code",
   "execution_count": 25,
   "metadata": {},
   "outputs": [
    {
     "name": "stdout",
     "output_type": "stream",
     "text": [
      "18\n"
     ]
    }
   ],
   "source": [
    "# Using dictionary and list comprehension\n",
    "\n",
    "ip_str = 'Hello, have you tried our tutorial section yet?'\n",
    "\n",
    "# make it suitable for caseless comparisions\n",
    "ip_str = ip_str.casefold()\n",
    "mysum = 0\n",
    "# count the vowels\n",
    "count = sum([1 if char in \"aeiou\" else 0 for char in ip_str])\n",
    "\n",
    "print(count)"
   ]
  },
  {
   "cell_type": "markdown",
   "metadata": {},
   "source": [
    "prime number listing in one line using filter and list comprehension"
   ]
  },
  {
   "cell_type": "code",
   "execution_count": null,
   "metadata": {},
   "outputs": [],
   "source": [
    "print(list(filter(lambda x:all(x % y != 0 for y in range(2, x)), range(2, 101))))"
   ]
  },
  {
   "cell_type": "code",
   "execution_count": 2,
   "metadata": {},
   "outputs": [
    {
     "name": "stdout",
     "output_type": "stream",
     "text": [
      "[2, 3, 5, 7, 11, 13, 17, 19, 23, 29, 31, 37, 41, 43, 47, 53, 59, 61, 67, 71, 73, 79, 83, 89, 97]\n"
     ]
    }
   ],
   "source": [
    "l = range(2, 101)\n",
    "print(sorted(set(l).difference(a for i in l for a in l if a!=i and a%i == 0)))"
   ]
  },
  {
   "cell_type": "code",
   "execution_count": null,
   "metadata": {},
   "outputs": [],
   "source": []
  }
 ],
 "metadata": {
  "kernelspec": {
   "display_name": "Python 3",
   "language": "python",
   "name": "python3"
  },
  "language_info": {
   "codemirror_mode": {
    "name": "ipython",
    "version": 3
   },
   "file_extension": ".py",
   "mimetype": "text/x-python",
   "name": "python",
   "nbconvert_exporter": "python",
   "pygments_lexer": "ipython3",
   "version": "3.6.8"
  }
 },
 "nbformat": 4,
 "nbformat_minor": 2
}
