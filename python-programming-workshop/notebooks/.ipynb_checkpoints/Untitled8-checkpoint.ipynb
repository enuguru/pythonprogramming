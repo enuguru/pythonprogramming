{
 "cells": [
  {
   "cell_type": "code",
   "execution_count": null,
   "metadata": {},
   "outputs": [],
   "source": [
    "# 5 7\n",
    "# 6 9"
   ]
  },
  {
   "cell_type": "code",
   "execution_count": 3,
   "metadata": {},
   "outputs": [
    {
     "name": "stdout",
     "output_type": "stream",
     "text": [
      "6 7\n",
      "45 6\n",
      "(6, 45) (6, 6) (7, 45) (7, 6) "
     ]
    }
   ],
   "source": [
    "# Enter your code here. Read input from STDIN. Print output to STDOUT\n",
    "from itertools import product\n",
    "\n",
    "listone = map(int,input().split())\n",
    "listtwo = map(int,input().split())\n",
    "newlist = []\n",
    "newlist.append(listone)\n",
    "newlist.append(listtwo)\n",
    "\n",
    "for combination in product(*newlist):\n",
    "    print(combination,end=\" \")"
   ]
  },
  {
   "cell_type": "code",
   "execution_count": 8,
   "metadata": {},
   "outputs": [
    {
     "name": "stdout",
     "output_type": "stream",
     "text": [
      "simple 2\n",
      "ei\n",
      "el\n",
      "em\n",
      "ep\n",
      "es\n",
      "il\n",
      "im\n",
      "ip\n",
      "is\n",
      "lm\n",
      "lp\n",
      "ls\n",
      "mp\n",
      "ms\n",
      "ps\n"
     ]
    }
   ],
   "source": [
    "# Enter your code here. Read input from STDIN. Print output to STDOUT\n",
    "from itertools import permutations\n",
    "from itertools import combinations\n",
    "str, val = input().split()\n",
    "\n",
    "for i in combinations(sorted(str),int(val)):\n",
    "    print(''.join(i))"
   ]
  },
  {
   "cell_type": "code",
   "execution_count": null,
   "metadata": {},
   "outputs": [],
   "source": []
  }
 ],
 "metadata": {
  "kernelspec": {
   "display_name": "Python 3",
   "language": "python",
   "name": "python3"
  },
  "language_info": {
   "codemirror_mode": {
    "name": "ipython",
    "version": 3
   },
   "file_extension": ".py",
   "mimetype": "text/x-python",
   "name": "python",
   "nbconvert_exporter": "python",
   "pygments_lexer": "ipython3",
   "version": "3.6.8"
  }
 },
 "nbformat": 4,
 "nbformat_minor": 2
}
