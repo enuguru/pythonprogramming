{
 "cells": [
  {
   "cell_type": "code",
   "execution_count": 51,
   "metadata": {
    "ExecuteTime": {
     "end_time": "2020-09-10T16:57:05.585173Z",
     "start_time": "2020-09-10T16:57:05.567183Z"
    }
   },
   "outputs": [],
   "source": [
    "# format of the print function below\n",
    "# print(*objects, sep=' ', end='\\n', file=sys.stdout, flush=False)"
   ]
  },
  {
   "cell_type": "code",
   "execution_count": 52,
   "metadata": {
    "ExecuteTime": {
     "end_time": "2020-09-10T16:57:06.198309Z",
     "start_time": "2020-09-10T16:57:06.187317Z"
    }
   },
   "outputs": [
    {
     "name": "stdout",
     "output_type": "stream",
     "text": [
      "This sentence is output to the screen\n"
     ]
    }
   ],
   "source": [
    "print('This sentence is output to the screen')"
   ]
  },
  {
   "cell_type": "code",
   "execution_count": 53,
   "metadata": {
    "ExecuteTime": {
     "end_time": "2020-09-10T16:57:06.921549Z",
     "start_time": "2020-09-10T16:57:06.906557Z"
    }
   },
   "outputs": [
    {
     "name": "stdout",
     "output_type": "stream",
     "text": [
      "The value of a is 5\n"
     ]
    }
   ],
   "source": [
    "a = 5\n",
    "print('The value of a is', a)"
   ]
  },
  {
   "cell_type": "code",
   "execution_count": 54,
   "metadata": {
    "ExecuteTime": {
     "end_time": "2020-09-10T16:57:07.560182Z",
     "start_time": "2020-09-10T16:57:07.510212Z"
    }
   },
   "outputs": [
    {
     "name": "stdout",
     "output_type": "stream",
     "text": [
      "1 2 3 4 1* 2* 3* 4 1#2#3#4 "
     ]
    }
   ],
   "source": [
    "print(1, 2, 3, 4, end = \" \")\n",
    "print(1, 2, 3, 4, sep='* ', end = \" \")\n",
    "print(1, 2, 3, 4, sep='#', end=\" \")"
   ]
  },
  {
   "cell_type": "markdown",
   "metadata": {},
   "source": [
    "Sometimes we would like to format our output to make it look attractive. This can be done by using the str.format() method. This method is visible to any string object"
   ]
  },
  {
   "cell_type": "markdown",
   "metadata": {},
   "source": [
    "Here, the curly braces {} are used as placeholders. We can specify the order in which they are printed by using numbers (tuple index)"
   ]
  },
  {
   "cell_type": "code",
   "execution_count": 55,
   "metadata": {
    "ExecuteTime": {
     "end_time": "2020-09-10T16:57:09.767528Z",
     "start_time": "2020-09-10T16:57:09.756535Z"
    }
   },
   "outputs": [
    {
     "name": "stdout",
     "output_type": "stream",
     "text": [
      "The value of x is 5 and y is 10\n"
     ]
    }
   ],
   "source": [
    "x = 5; y = 10\n",
    "print('The value of x is {} and y is {}'.format(x,y))"
   ]
  },
  {
   "cell_type": "code",
   "execution_count": 56,
   "metadata": {
    "ExecuteTime": {
     "end_time": "2020-09-10T16:57:10.544254Z",
     "start_time": "2020-09-10T16:57:10.537257Z"
    }
   },
   "outputs": [
    {
     "name": "stdout",
     "output_type": "stream",
     "text": [
      "Value of x is  10 and value of y is 20\n"
     ]
    }
   ],
   "source": [
    "x = 10; y = 20\n",
    "print(\"Value of x is \", x, \"and value of y is\", y)"
   ]
  },
  {
   "cell_type": "code",
   "execution_count": 60,
   "metadata": {
    "ExecuteTime": {
     "end_time": "2020-09-10T16:58:46.813444Z",
     "start_time": "2020-09-10T16:58:45.139762Z"
    }
   },
   "outputs": [
    {
     "name": "stdout",
     "output_type": "stream",
     "text": [
      "12\n",
      "12 *1 = 12\n",
      "12 *2 = 24\n",
      "12 *3 = 36\n",
      "12 *4 = 48\n",
      "12 *5 = 60\n",
      "12 *6 = 72\n",
      "12 *7 = 84\n",
      "12 *8 = 96\n",
      "12 *9 = 108\n",
      "12 *10 = 120\n"
     ]
    },
    {
     "data": {
      "text/plain": [
       "[None, None, None, None, None, None, None, None, None, None]"
      ]
     },
     "execution_count": 60,
     "metadata": {},
     "output_type": "execute_result"
    }
   ],
   "source": [
    "num = int(input())\n",
    "[print(num, \"*{0} = {1}\".format(i,num*i)) for i in range(1,11)]"
   ]
  },
  {
   "cell_type": "code",
   "execution_count": null,
   "metadata": {},
   "outputs": [],
   "source": [
    "num = 12\n",
    "\n",
    "# Iterate 10 times from i = 1 to 10\n",
    "for i in range(1, 11):\n",
    "   print(num, 'x', i, '=', num*i)"
   ]
  },
  {
   "cell_type": "code",
   "execution_count": 25,
   "metadata": {
    "ExecuteTime": {
     "end_time": "2020-09-10T16:37:49.555734Z",
     "start_time": "2020-09-10T16:37:49.549737Z"
    }
   },
   "outputs": [
    {
     "name": "stdout",
     "output_type": "stream",
     "text": [
      "I love bread and butter\n",
      "I love butter and bread\n"
     ]
    }
   ],
   "source": [
    "print('I love {0} and {1}'.format('bread','butter'))\n",
    "print('I love {1} and {0}'.format('bread','butter'))"
   ]
  },
  {
   "cell_type": "code",
   "execution_count": 26,
   "metadata": {
    "ExecuteTime": {
     "end_time": "2020-09-10T16:37:50.619865Z",
     "start_time": "2020-09-10T16:37:50.610852Z"
    }
   },
   "outputs": [
    {
     "name": "stdout",
     "output_type": "stream",
     "text": [
      "Hello John, Goodevening\n"
     ]
    }
   ],
   "source": [
    "print('Hello {name}, {greeting}'.format(greeting = 'Goodevening', name = 'John'))"
   ]
  },
  {
   "cell_type": "code",
   "execution_count": 28,
   "metadata": {
    "ExecuteTime": {
     "end_time": "2020-09-10T16:38:13.936816Z",
     "start_time": "2020-09-10T16:38:12.027702Z"
    }
   },
   "outputs": [
    {
     "name": "stdout",
     "output_type": "stream",
     "text": [
      "enter a number  9\n"
     ]
    },
    {
     "data": {
      "text/plain": [
       "'9'"
      ]
     },
     "execution_count": 28,
     "metadata": {},
     "output_type": "execute_result"
    }
   ],
   "source": [
    "num = input(\"enter a number  \")\n",
    "num"
   ]
  },
  {
   "cell_type": "code",
   "execution_count": 29,
   "metadata": {
    "ExecuteTime": {
     "end_time": "2020-09-10T16:38:19.650481Z",
     "start_time": "2020-09-10T16:38:19.639489Z"
    }
   },
   "outputs": [
    {
     "name": "stdout",
     "output_type": "stream",
     "text": [
      "6 bananas cost $1.74000\n"
     ]
    }
   ],
   "source": [
    "print('%d %s cost $%.5f' % (6, 'bananas', 1.74))"
   ]
  },
  {
   "cell_type": "code",
   "execution_count": 30,
   "metadata": {
    "ExecuteTime": {
     "end_time": "2020-09-10T16:38:20.557629Z",
     "start_time": "2020-09-10T16:38:20.544654Z"
    }
   },
   "outputs": [
    {
     "name": "stdout",
     "output_type": "stream",
     "text": [
      "Hello, my name is Graham.\n"
     ]
    }
   ],
   "source": [
    "print('Hello, my name is %s.' % 'Graham')"
   ]
  },
  {
   "cell_type": "code",
   "execution_count": 31,
   "metadata": {
    "ExecuteTime": {
     "end_time": "2020-09-10T16:38:21.246028Z",
     "start_time": "2020-09-10T16:38:21.231040Z"
    }
   },
   "outputs": [
    {
     "name": "stdout",
     "output_type": "stream",
     "text": [
      "fc, FC\n"
     ]
    }
   ],
   "source": [
    "print('%x, %X' % (252, 252))"
   ]
  },
  {
   "cell_type": "code",
   "execution_count": 32,
   "metadata": {
    "ExecuteTime": {
     "end_time": "2020-09-10T16:38:21.857409Z",
     "start_time": "2020-09-10T16:38:21.838417Z"
    }
   },
   "outputs": [
    {
     "name": "stdout",
     "output_type": "stream",
     "text": [
      "374, 252\n"
     ]
    }
   ],
   "source": [
    "print('%o, %d' % (252, 252))"
   ]
  },
  {
   "cell_type": "code",
   "execution_count": 33,
   "metadata": {
    "ExecuteTime": {
     "end_time": "2020-09-10T16:38:22.456228Z",
     "start_time": "2020-09-10T16:38:22.437262Z"
    }
   },
   "outputs": [
    {
     "name": "stdout",
     "output_type": "stream",
     "text": [
      "3.141590, 3.140000\n"
     ]
    }
   ],
   "source": [
    "print('%f, %F' % (3.14159, 3.14)) # convert to string representation of a floating point number"
   ]
  },
  {
   "cell_type": "code",
   "execution_count": 34,
   "metadata": {
    "ExecuteTime": {
     "end_time": "2020-09-10T16:38:23.119780Z",
     "start_time": "2020-09-10T16:38:23.109808Z"
    }
   },
   "outputs": [
    {
     "name": "stdout",
     "output_type": "stream",
     "text": [
      "1.000000e+03, 5.000000E+01\n"
     ]
    }
   ],
   "source": [
    "print('%e, %E' % (1000.0, 50)) # produce a string representing exponential (scientific) notation"
   ]
  },
  {
   "cell_type": "code",
   "execution_count": 35,
   "metadata": {
    "ExecuteTime": {
     "end_time": "2020-09-10T16:38:23.664440Z",
     "start_time": "2020-09-10T16:38:23.651446Z"
    }
   },
   "outputs": [
    {
     "name": "stdout",
     "output_type": "stream",
     "text": [
      "100101\n"
     ]
    }
   ],
   "source": [
    "print(\"{0:b}\".format(37)) # how to produce a binary representation of a number"
   ]
  },
  {
   "cell_type": "code",
   "execution_count": 36,
   "metadata": {
    "ExecuteTime": {
     "end_time": "2020-09-10T16:38:24.230155Z",
     "start_time": "2020-09-10T16:38:24.209171Z"
    }
   },
   "outputs": [
    {
     "name": "stdout",
     "output_type": "stream",
     "text": [
      "0b100101\n"
     ]
    }
   ],
   "source": [
    "print(bin(37)) # how to product a binary reprsentation of a number"
   ]
  },
  {
   "cell_type": "code",
   "execution_count": 37,
   "metadata": {
    "ExecuteTime": {
     "end_time": "2020-09-10T16:38:24.810092Z",
     "start_time": "2020-09-10T16:38:24.793103Z"
    }
   },
   "outputs": [
    {
     "name": "stdout",
     "output_type": "stream",
     "text": [
      "34.5567\n",
      "67.99\n"
     ]
    }
   ],
   "source": [
    "i = 34.5567\n",
    "print(i)\n",
    "s = 67.99\n",
    "print(s)"
   ]
  },
  {
   "cell_type": "code",
   "execution_count": 38,
   "metadata": {
    "ExecuteTime": {
     "end_time": "2020-09-10T16:38:25.405765Z",
     "start_time": "2020-09-10T16:38:25.391897Z"
    }
   },
   "outputs": [
    {
     "name": "stdout",
     "output_type": "stream",
     "text": [
      "34.55670 67.99000\n"
     ]
    }
   ],
   "source": [
    "print('%1.5f %.5f' % (i, s))"
   ]
  },
  {
   "cell_type": "code",
   "execution_count": 40,
   "metadata": {
    "ExecuteTime": {
     "end_time": "2020-09-10T16:38:35.171759Z",
     "start_time": "2020-09-10T16:38:29.667994Z"
    }
   },
   "outputs": [
    {
     "name": "stdout",
     "output_type": "stream",
     "text": [
      "5\n",
      "6\n",
      "0.8333333333333334\n",
      "0\n"
     ]
    }
   ],
   "source": [
    "x = int(input())\n",
    "y = int(input())\n",
    "print(x/y)\n",
    "print(x//y)"
   ]
  },
  {
   "cell_type": "code",
   "execution_count": 41,
   "metadata": {
    "ExecuteTime": {
     "end_time": "2020-09-10T16:38:43.401446Z",
     "start_time": "2020-09-10T16:38:37.167452Z"
    }
   },
   "outputs": [
    {
     "name": "stdout",
     "output_type": "stream",
     "text": [
      "5.6\n",
      "7.9\n",
      "0.7088607594936708\n",
      "0.0\n"
     ]
    }
   ],
   "source": [
    "x = float(input())\n",
    "y = float(input())\n",
    "print(x/y)\n",
    "print(x//y)"
   ]
  },
  {
   "cell_type": "code",
   "execution_count": 42,
   "metadata": {
    "ExecuteTime": {
     "end_time": "2020-09-10T16:39:32.034108Z",
     "start_time": "2020-09-10T16:38:48.586815Z"
    }
   },
   "outputs": [
    {
     "name": "stdout",
     "output_type": "stream",
     "text": [
      "Hello KarthikHello Karthik\n",
      "How old are youI am 15 years old\n",
      "Hello Karthik and I am 15 years old\n"
     ]
    }
   ],
   "source": [
    "mystrone = input(\"Hello Karthik\")\n",
    "mystrtwo = input(\"How old are you\")\n",
    "print('{0} and {1}'.format(mystrone, mystrtwo))"
   ]
  },
  {
   "cell_type": "code",
   "execution_count": 43,
   "metadata": {
    "ExecuteTime": {
     "end_time": "2020-09-10T16:39:37.833627Z",
     "start_time": "2020-09-10T16:39:37.819614Z"
    }
   },
   "outputs": [
    {
     "name": "stdout",
     "output_type": "stream",
     "text": [
      "Hello Karthik and 56.779  I am 15 years old\n"
     ]
    }
   ],
   "source": [
    "fl = 56.779\n",
    "print('{0} and {1}  {2}'.format(mystrone, fl, mystrtwo))"
   ]
  },
  {
   "cell_type": "code",
   "execution_count": 44,
   "metadata": {
    "ExecuteTime": {
     "end_time": "2020-09-10T16:39:38.602592Z",
     "start_time": "2020-09-10T16:39:38.593578Z"
    }
   },
   "outputs": [
    {
     "name": "stdout",
     "output_type": "stream",
     "text": [
      "56.779000, Hello Karthik and I am 15 years old\n"
     ]
    }
   ],
   "source": [
    "print('%f, %s and %s' % (fl, mystrone, mystrtwo)) # convert to string representation of a floating point number"
   ]
  },
  {
   "cell_type": "code",
   "execution_count": 45,
   "metadata": {
    "ExecuteTime": {
     "end_time": "2020-09-10T16:39:39.482363Z",
     "start_time": "2020-09-10T16:39:39.463373Z"
    }
   },
   "outputs": [
    {
     "name": "stdout",
     "output_type": "stream",
     "text": [
      "Hello I am 15 years old, Hello Karthik\n"
     ]
    }
   ],
   "source": [
    "print('Hello {name}, {greeting}'.format(greeting = mystrone, name = mystrtwo))"
   ]
  },
  {
   "cell_type": "code",
   "execution_count": 46,
   "metadata": {
    "ExecuteTime": {
     "end_time": "2020-09-10T16:39:40.050501Z",
     "start_time": "2020-09-10T16:39:40.039509Z"
    }
   },
   "outputs": [
    {
     "name": "stdout",
     "output_type": "stream",
     "text": [
      "I love bread and butter\n",
      "I love butter and bread\n",
      "I love butter and bread\n"
     ]
    }
   ],
   "source": [
    "print('I love {0} and {1}'.format('bread','butter'))\n",
    "print('I love {1} and {0}'.format('bread','butter'))\n",
    "print('I love {0} and {1}'.format('butter','bread'))"
   ]
  },
  {
   "cell_type": "code",
   "execution_count": 47,
   "metadata": {
    "ExecuteTime": {
     "end_time": "2020-09-10T16:39:40.543194Z",
     "start_time": "2020-09-10T16:39:40.530198Z"
    }
   },
   "outputs": [
    {
     "name": "stdout",
     "output_type": "stream",
     "text": [
      "I love Hello Karthik and I am 15 years old\n",
      "I love I am 15 years old and Hello Karthik\n",
      "I love I am 15 years old and Hello Karthik\n"
     ]
    }
   ],
   "source": [
    "print('I love {0} and {1}'.format(mystrone,mystrtwo))\n",
    "print('I love {0} and {1}'.format(mystrtwo,mystrone))\n",
    "print('I love {1} and {0}'.format(mystrone,mystrtwo))"
   ]
  },
  {
   "cell_type": "code",
   "execution_count": 48,
   "metadata": {
    "ExecuteTime": {
     "end_time": "2020-09-10T16:39:41.276880Z",
     "start_time": "2020-09-10T16:39:41.261886Z"
    }
   },
   "outputs": [
    {
     "name": "stdout",
     "output_type": "stream",
     "text": [
      "The value of a and new is 56.89 Kumar\n"
     ]
    }
   ],
   "source": [
    "fp = 56.89; new = \"Kumar\"\n",
    "print('The value of a and new is', fp,new)"
   ]
  },
  {
   "cell_type": "code",
   "execution_count": 49,
   "metadata": {
    "ExecuteTime": {
     "end_time": "2020-09-10T16:39:42.698535Z",
     "start_time": "2020-09-10T16:39:42.686524Z"
    }
   },
   "outputs": [
    {
     "name": "stdout",
     "output_type": "stream",
     "text": [
      "The value of a and new is 56.89 Kumar\n"
     ]
    }
   ],
   "source": [
    "fp = 56.89; new = \"Kumar\"\n",
    "print(\"The value of a and new is\", fp,new)"
   ]
  },
  {
   "cell_type": "code",
   "execution_count": null,
   "metadata": {},
   "outputs": [],
   "source": []
  }
 ],
 "metadata": {
  "kernelspec": {
   "display_name": "Python 3",
   "language": "python",
   "name": "python3"
  },
  "language_info": {
   "codemirror_mode": {
    "name": "ipython",
    "version": 3
   },
   "file_extension": ".py",
   "mimetype": "text/x-python",
   "name": "python",
   "nbconvert_exporter": "python",
   "pygments_lexer": "ipython3",
   "version": "3.7.4"
  }
 },
 "nbformat": 4,
 "nbformat_minor": 2
}
