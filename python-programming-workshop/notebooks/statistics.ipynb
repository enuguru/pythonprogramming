{
 "cells": [
  {
   "cell_type": "markdown",
   "metadata": {},
   "source": [
    "# mean median and mode"
   ]
  },
  {
   "cell_type": "code",
   "execution_count": 6,
   "metadata": {},
   "outputs": [
    {
     "name": "stdout",
     "output_type": "stream",
     "text": [
      "4\n",
      "11 11 7 6\n",
      "8.75\n",
      "9.0\n",
      "11\n"
     ]
    }
   ],
   "source": [
    "val = int(input())\n",
    "arraylist = sorted(list(map(int,input().split())))\n",
    "\n",
    "print(sum(arraylist) / len(arraylist))\n",
    "\n",
    "if val%2 == 0:\n",
    "    median = (arraylist[(val//2)-1] + arraylist[(val//2)])/2\n",
    "else:\n",
    "    median = arraylist[((val+1)//2)-1]\n",
    "print(median)\n",
    "\n",
    "mode = max(sorted(arraylist), key=arraylist.count)\n",
    "print(mode)"
   ]
  },
  {
   "cell_type": "markdown",
   "metadata": {},
   "source": [
    "# weighted mean"
   ]
  },
  {
   "cell_type": "code",
   "execution_count": null,
   "metadata": {},
   "outputs": [],
   "source": [
    "val = int(input())\n",
    "arraylist = list(map(int,input().split()))\n",
    "weightlist = list(map(int,input().split()))\n",
    "mysum = 0\n",
    "for i in range(val): \n",
    "    mysum = mysum + (arraylist[i] * weightlist[i])\n",
    "print(round(mysum/sum(weightlist),1))"
   ]
  },
  {
   "cell_type": "markdown",
   "metadata": {},
   "source": [
    "# print all the three quarties - method 1"
   ]
  },
  {
   "cell_type": "code",
   "execution_count": null,
   "metadata": {},
   "outputs": [],
   "source": [
    "# Enter your code here. Read input from STDIN. Print output to STDOUT\n",
    "\n",
    "def median(nums):\n",
    "    if len(nums)%2 == 0:\n",
    "        return int(sum(nums[len(nums)//2-1:len(nums)//2+1])/2)\n",
    "    else:\n",
    "        return nums[len(nums)//2]\n",
    "\n",
    "def quartiles(N,nums):\n",
    "    Q1 = median(nums[:len(nums)//2])\n",
    "    Q2 = median(nums)\n",
    "    if N%2 == 0:\n",
    "        Q3 = median(nums[len(nums)//2:])\n",
    "    else:\n",
    "        Q3 = median(nums[len(nums)//2+1:])\n",
    "    return Q1,Q2,Q3\n",
    "\n",
    "N = int(input())\n",
    "nums = sorted([int(num) for num in input().split()])\n",
    "Q1,Q2,Q3 = quartiles(N,nums)\n",
    "print(Q1)\n",
    "print(Q2)\n",
    "print(Q3)"
   ]
  },
  {
   "cell_type": "markdown",
   "metadata": {},
   "source": [
    "# print all the three quarties - method 1 - finding inter quartile range"
   ]
  },
  {
   "cell_type": "code",
   "execution_count": null,
   "metadata": {},
   "outputs": [],
   "source": [
    "import statistics as st\n",
    "\n",
    "n = int(input())\n",
    "data = list(map(int, input().split()))\n",
    "freq = list(map(int, input().split()))\n",
    "\n",
    "s = []\n",
    "for i in range(n):\n",
    "    s += [data[i]] * freq[i]\n",
    "N = sum(freq)\n",
    "s.sort()\n",
    "\n",
    "if n%2 != 0:\n",
    "    q1 = st.median(s[:N//2])\n",
    "    q3 = st.median(s[N//2+1:])\n",
    "else:\n",
    "    q1 = st.median(s[:N//2])\n",
    "    q3 = st.median(s[N//2:])\n",
    "\n",
    "ir = round(float(q3-q1), 1)\n",
    "print(ir)"
   ]
  },
  {
   "cell_type": "markdown",
   "metadata": {},
   "source": [
    "# find the standard deviation"
   ]
  },
  {
   "cell_type": "code",
   "execution_count": null,
   "metadata": {},
   "outputs": [],
   "source": [
    "import math\n",
    "\n",
    "val = int(input())\n",
    "numbers = list(map(int,input().split()))\n",
    "squares = 0; stad = 0\n",
    "mean = sum(numbers) / val\n",
    "for num in numbers:\n",
    "    squares = squares + ((num-mean) * (num-mean))\n",
    "stad = math.sqrt(squares/val)\n",
    "print(stad)"
   ]
  },
  {
   "cell_type": "markdown",
   "metadata": {},
   "source": [
    "# find the pearson's correlation coefficient"
   ]
  },
  {
   "cell_type": "code",
   "execution_count": null,
   "metadata": {},
   "outputs": [],
   "source": [
    "# Enter your code here. Read input from STDIN. Print output to STDOUT\n",
    "\n",
    "N = int(input())\n",
    "X = list(map(float,input().strip().split()))\n",
    "Y = list(map(float,input().strip().split()))\n",
    "\n",
    "mu_x = sum(X) / N\n",
    "mu_y = sum(Y) / N\n",
    "\n",
    "stdv_x = (sum([(i - mu_x)**2 for i in X]) / N)**0.5\n",
    "stdv_y = (sum([(i - mu_y)**2 for i in Y]) / N)**0.5\n",
    "\n",
    "\n",
    "covariance = sum([(X[i] - mu_x) * (Y[i] -mu_y) for i in range(N)])\n",
    "\n",
    "correlation_coefficient = covariance / (N * stdv_x * stdv_y)\n",
    "\n",
    "print(round(correlation_coefficient,3))\n"
   ]
  },
  {
   "cell_type": "markdown",
   "metadata": {},
   "source": [
    "# find the rank correlation coefficient"
   ]
  },
  {
   "cell_type": "code",
   "execution_count": null,
   "metadata": {},
   "outputs": [],
   "source": [
    "def get_rank(X, n):\n",
    "    x_rank = dict((x, i+1) for i, x in enumerate(sorted(set(X))))\n",
    "    return [x_rank[x] for x in X]\n",
    "    \n",
    "n = int(input())\n",
    "X = list(map(float, input().split()))\n",
    "Y = list(map(float, input().split()))\n",
    "\n",
    "rx = get_rank(X, n)\n",
    "ry = get_rank(Y, n)\n",
    "\n",
    "d = [(rx[i] -ry[i])**2 for i in range(n)]\n",
    "rxy = 1 - (6 * sum(d)) / (n * (n*n - 1))\n",
    "\n",
    "print('%.3f' % rxy)"
   ]
  },
  {
   "cell_type": "code",
   "execution_count": null,
   "metadata": {},
   "outputs": [],
   "source": []
  }
 ],
 "metadata": {
  "kernelspec": {
   "display_name": "Python 3",
   "language": "python",
   "name": "python3"
  },
  "language_info": {
   "codemirror_mode": {
    "name": "ipython",
    "version": 3
   },
   "file_extension": ".py",
   "mimetype": "text/x-python",
   "name": "python",
   "nbconvert_exporter": "python",
   "pygments_lexer": "ipython3",
   "version": "3.6.8"
  }
 },
 "nbformat": 4,
 "nbformat_minor": 2
}
