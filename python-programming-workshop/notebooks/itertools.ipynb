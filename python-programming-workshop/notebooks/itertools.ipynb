{
 "cells": [
  {
   "cell_type": "code",
   "execution_count": null,
   "metadata": {},
   "outputs": [],
   "source": [
    "# 5 7\n",
    "# 6 9"
   ]
  },
  {
   "cell_type": "code",
   "execution_count": 4,
   "metadata": {},
   "outputs": [
    {
     "name": "stdout",
     "output_type": "stream",
     "text": [
      "a b\n",
      "5 7\n",
      "('a', '5') ('a', '7') ('b', '5') ('b', '7') "
     ]
    }
   ],
   "source": [
    "# Enter your code here. Read input from STDIN. Print output to STDOUT\n",
    "from itertools import product\n",
    "\n",
    "listone = map(str,input().split())\n",
    "listtwo = map(str,input().split())\n",
    "newlist = []\n",
    "newlist.append(listone)\n",
    "newlist.append(listtwo)\n",
    "\n",
    "for combination in product(*newlist):\n",
    "    print(combination,end=\" \")"
   ]
  },
  {
   "cell_type": "code",
   "execution_count": 9,
   "metadata": {},
   "outputs": [
    {
     "name": "stdout",
     "output_type": "stream",
     "text": [
      "car 3\n",
      "acr\n",
      "\n",
      "acr\n",
      "arc\n",
      "car\n",
      "cra\n",
      "rac\n",
      "rca\n"
     ]
    }
   ],
   "source": [
    "# Enter your code here. Read input from STDIN. Print output to STDOUT\n",
    "from itertools import permutations\n",
    "from itertools import combinations\n",
    "str, val = input().split()\n",
    "\n",
    "for i in combinations(sorted(str),int(val)):\n",
    "    print(''.join(i))\n",
    "print()\n",
    "for i in permutations(sorted(str),int(val)):\n",
    "    print(''.join(i))"
   ]
  },
  {
   "cell_type": "code",
   "execution_count": null,
   "metadata": {},
   "outputs": [],
   "source": []
  }
 ],
 "metadata": {
  "kernelspec": {
   "display_name": "Python 3",
   "language": "python",
   "name": "python3"
  },
  "language_info": {
   "codemirror_mode": {
    "name": "ipython",
    "version": 3
   },
   "file_extension": ".py",
   "mimetype": "text/x-python",
   "name": "python",
   "nbconvert_exporter": "python",
   "pygments_lexer": "ipython3",
   "version": "3.6.8"
  }
 },
 "nbformat": 4,
 "nbformat_minor": 2
}
