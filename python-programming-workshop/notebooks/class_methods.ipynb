{
 "cells": [
  {
   "cell_type": "code",
   "execution_count": 1,
   "metadata": {
    "ExecuteTime": {
     "end_time": "2020-09-10T16:40:58.757645Z",
     "start_time": "2020-09-10T16:40:58.738658Z"
    }
   },
   "outputs": [
    {
     "name": "stdout",
     "output_type": "stream",
     "text": [
      "Hello, friends!!\n",
      "0.17647058823529413\n"
     ]
    }
   ],
   "source": [
    "s = 'Hello, friends!!'\n",
    "print(str(s))\n",
    "print(str(3.0/17.0))"
   ]
  },
  {
   "cell_type": "code",
   "execution_count": 2,
   "metadata": {
    "ExecuteTime": {
     "end_time": "2020-09-10T16:40:59.679882Z",
     "start_time": "2020-09-10T16:40:59.659894Z"
    }
   },
   "outputs": [
    {
     "name": "stdout",
     "output_type": "stream",
     "text": [
      "'Hello, friends!!'\n",
      "0.17647058823529413\n"
     ]
    }
   ],
   "source": [
    "s = 'Hello, friends!!'\n",
    "print(repr(s))\n",
    "print(repr(3.0/17.0))"
   ]
  },
  {
   "cell_type": "code",
   "execution_count": 3,
   "metadata": {
    "ExecuteTime": {
     "end_time": "2020-09-10T16:41:00.424848Z",
     "start_time": "2020-09-10T16:41:00.409834Z"
    }
   },
   "outputs": [
    {
     "name": "stdout",
     "output_type": "stream",
     "text": [
      "2020-09-10 22:11:00.411834\n",
      "datetime.datetime(2020, 9, 10, 22, 11, 0, 411834)\n"
     ]
    }
   ],
   "source": [
    "import datetime \n",
    "today = datetime.datetime.now() \n",
    "  \n",
    "# Prints readable format for date-time object \n",
    "print(str(today))\n",
    "  \n",
    "# prints the official format of date-time object \n",
    "print(repr(today))"
   ]
  },
  {
   "cell_type": "code",
   "execution_count": 4,
   "metadata": {
    "ExecuteTime": {
     "end_time": "2020-09-10T16:41:02.321887Z",
     "start_time": "2020-09-10T16:41:02.298904Z"
    }
   },
   "outputs": [
    {
     "name": "stdout",
     "output_type": "stream",
     "text": [
      "10 + i20\n",
      "Rational(10, 20)\n"
     ]
    }
   ],
   "source": [
    "# Python program to demonstrate writing of __repr__ and \n",
    "# __str__ for user defined classes \n",
    "  \n",
    "# A user defined class to represent Complex numbers \n",
    "class Complex: \n",
    "  \n",
    "    # Constructor \n",
    "    def __init__(self, real, imag): \n",
    "       self.real = real \n",
    "       self.imag = imag \n",
    "  \n",
    "    # For call to repr(). Prints object's information \n",
    "    def __repr__(self): \n",
    "       return 'Rational(%s, %s)' % (self.real, self.imag)     \n",
    "  \n",
    "    # For call to str(). Prints readable form \n",
    "    def __str__(self): \n",
    "       return '%s + i%s' % (self.real, self.imag)     \n",
    "  \n",
    "  \n",
    "# Driver program to test above \n",
    "t = Complex(10, 20) \n",
    "  \n",
    "print(str(t))  # Same as \"print t\" \n",
    "print(repr(t))"
   ]
  },
  {
   "cell_type": "code",
   "execution_count": null,
   "metadata": {},
   "outputs": [],
   "source": []
  }
 ],
 "metadata": {
  "kernelspec": {
   "display_name": "Python 3",
   "language": "python",
   "name": "python3"
  },
  "language_info": {
   "codemirror_mode": {
    "name": "ipython",
    "version": 3
   },
   "file_extension": ".py",
   "mimetype": "text/x-python",
   "name": "python",
   "nbconvert_exporter": "python",
   "pygments_lexer": "ipython3",
   "version": "3.7.4"
  }
 },
 "nbformat": 4,
 "nbformat_minor": 2
}
