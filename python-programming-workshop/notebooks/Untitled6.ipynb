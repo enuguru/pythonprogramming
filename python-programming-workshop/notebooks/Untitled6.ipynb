{
 "cells": [
  {
   "cell_type": "code",
   "execution_count": 1,
   "metadata": {},
   "outputs": [
    {
     "name": "stdout",
     "output_type": "stream",
     "text": [
      "3 4 5 7\n",
      "['3', '4', '5', '7']\n"
     ]
    }
   ],
   "source": [
    "mystring = list(map(str,input().split()))\n",
    "print(mystring)"
   ]
  },
  {
   "cell_type": "code",
   "execution_count": 2,
   "metadata": {},
   "outputs": [
    {
     "name": "stdout",
     "output_type": "stream",
     "text": [
      "3 4 5 8\n",
      "[3, 4, 5, 8]\n"
     ]
    }
   ],
   "source": [
    "mystring = list(map(int,input().split()))\n",
    "print(mystring)"
   ]
  },
  {
   "cell_type": "code",
   "execution_count": 3,
   "metadata": {},
   "outputs": [
    {
     "name": "stdout",
     "output_type": "stream",
     "text": [
      "4 5 5 6\n",
      "{'4', '5', '6'}\n"
     ]
    }
   ],
   "source": [
    "mystring = set(map(str,input().split()))\n",
    "print(mystring)"
   ]
  },
  {
   "cell_type": "code",
   "execution_count": 4,
   "metadata": {},
   "outputs": [
    {
     "name": "stdout",
     "output_type": "stream",
     "text": [
      "4 5 6 5\n",
      "{4, 5, 6}\n"
     ]
    }
   ],
   "source": [
    "mystring = set(map(int,input().split()))\n",
    "print(mystring)"
   ]
  },
  {
   "cell_type": "code",
   "execution_count": 5,
   "metadata": {},
   "outputs": [
    {
     "name": "stdout",
     "output_type": "stream",
     "text": [
      "[21, 31, 41, 11]\n"
     ]
    }
   ],
   "source": [
    "newlist = []\n",
    "newlist.append(21)\n",
    "newlist.append(31)\n",
    "newlist.append(41)\n",
    "newlist.append(11)\n",
    "print(newlist)"
   ]
  },
  {
   "cell_type": "code",
   "execution_count": 6,
   "metadata": {},
   "outputs": [
    {
     "name": "stdout",
     "output_type": "stream",
     "text": [
      "{41, 51, 21, 31}\n"
     ]
    }
   ],
   "source": [
    "newset = set()\n",
    "newset.add(21)\n",
    "newset.add(31)\n",
    "newset.add(41)\n",
    "newset.add(51)\n",
    "print(newset)"
   ]
  },
  {
   "cell_type": "code",
   "execution_count": 7,
   "metadata": {},
   "outputs": [
    {
     "name": "stdout",
     "output_type": "stream",
     "text": [
      "Keys:\n",
      "dict_keys(['home', 'sitemap', 'about'])\n",
      "3\n",
      "Values:\n",
      "dict_values([125, 27, 43])\n",
      "3\n"
     ]
    }
   ],
   "source": [
    "hits = {\"home\": 125, \"sitemap\": 27, \"about\": 43}\n",
    "\n",
    "keys = hits.keys()\n",
    "values = hits.values()\n",
    "\n",
    "print(\"Keys:\")\n",
    "print(keys)\n",
    "print(len(keys))\n",
    "\n",
    "print(\"Values:\")\n",
    "print(values)\n",
    "print(len(values))"
   ]
  },
  {
   "cell_type": "code",
   "execution_count": 8,
   "metadata": {},
   "outputs": [
    {
     "name": "stdout",
     "output_type": "stream",
     "text": [
      "Point(x=1.0, y=5.0) Point(x=2.5, y=1.5)\n",
      "3.8078865529319543\n"
     ]
    }
   ],
   "source": [
    "from collections import namedtuple\n",
    "Point = namedtuple('Point', 'x y')\n",
    "pt1 = Point(1.0, 5.0)\n",
    "pt2 = Point(2.5, 1.5)\n",
    "print(pt1,pt2)\n",
    "\n",
    "from math import sqrt\n",
    "line_length = sqrt((pt1.x-pt2.x)**2 + (pt1.y-pt2.y)**2)\n",
    "print(line_length)"
   ]
  },
  {
   "cell_type": "code",
   "execution_count": 16,
   "metadata": {},
   "outputs": [
    {
     "name": "stdout",
     "output_type": "stream",
     "text": [
      "()\n",
      "0\n",
      "two\n",
      "one\n",
      "3\n",
      "('one', 'two')\n",
      "2\n",
      "{'one': 1, 'two': 2}\n",
      "[25, 31, 45, 20]\n"
     ]
    }
   ],
   "source": [
    "# Zero-element tuple.\n",
    "a = ()\n",
    "# One-element tuple.\n",
    "b = (\"one\")\n",
    "# Two-element tuple.\n",
    "c = (\"one\", \"two\")\n",
    "print(a)\n",
    "print(len(a))\n",
    "print(c[1])\n",
    "print(b)\n",
    "print(len(b))\n",
    "\n",
    "print(c)\n",
    "print(len(c))\n",
    "\n",
    "d = {}\n",
    "d[\"one\"] = 1\n",
    "d[\"two\"] = 2\n",
    "print(d)\n",
    "\n",
    "l = []\n",
    "l.append(25)\n",
    "l.append(31)\n",
    "l.append(45)\n",
    "l.append(20)\n",
    "print(l)"
   ]
  },
  {
   "cell_type": "code",
   "execution_count": null,
   "metadata": {},
   "outputs": [],
   "source": []
  }
 ],
 "metadata": {
  "kernelspec": {
   "display_name": "Python 3",
   "language": "python",
   "name": "python3"
  },
  "language_info": {
   "codemirror_mode": {
    "name": "ipython",
    "version": 3
   },
   "file_extension": ".py",
   "mimetype": "text/x-python",
   "name": "python",
   "nbconvert_exporter": "python",
   "pygments_lexer": "ipython3",
   "version": "3.6.8"
  }
 },
 "nbformat": 4,
 "nbformat_minor": 2
}
