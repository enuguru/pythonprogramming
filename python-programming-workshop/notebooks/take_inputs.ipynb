{
 "cells": [
  {
   "cell_type": "code",
   "execution_count": 2,
   "metadata": {},
   "outputs": [
    {
     "name": "stdout",
     "output_type": "stream",
     "text": [
      "Give a string hi hello\n",
      "hi hello\n"
     ]
    }
   ],
   "source": [
    "mystring = input(\"Give a string \")\n",
    "print(mystring)"
   ]
  },
  {
   "cell_type": "code",
   "execution_count": 3,
   "metadata": {},
   "outputs": [
    {
     "name": "stdout",
     "output_type": "stream",
     "text": [
      "Give a string \n",
      "hi hello\n",
      "hi hello\n"
     ]
    }
   ],
   "source": [
    "mystring = input(\"Give a string \\n\")\n",
    "print(mystring)"
   ]
  },
  {
   "cell_type": "code",
   "execution_count": 4,
   "metadata": {},
   "outputs": [
    {
     "name": "stdout",
     "output_type": "stream",
     "text": [
      "3\n",
      "Rishav 99\n",
      "Shankar 97\n",
      "Priya 99\n",
      "[['Rishav', '99'], ['Shankar', '97'], ['Priya', '99']]\n",
      "{'Rishav': '99', 'Shankar': '97', 'Priya': '99'}\n"
     ]
    }
   ],
   "source": [
    "n = int(input())\n",
    "name_numbers = [input().split() for _ in range(n)]\n",
    "print(name_numbers)\n",
    "phone_book = {k: v for k,v in name_numbers}\n",
    "print(phone_book)"
   ]
  },
  {
   "cell_type": "code",
   "execution_count": 5,
   "metadata": {},
   "outputs": [
    {
     "name": "stdout",
     "output_type": "stream",
     "text": [
      "jhjh\n"
     ]
    },
    {
     "ename": "ValueError",
     "evalue": "invalid literal for int() with base 10: 'jhjh'",
     "output_type": "error",
     "traceback": [
      "\u001b[0;31m---------------------------------------------------------------------------\u001b[0m",
      "\u001b[0;31mValueError\u001b[0m                                Traceback (most recent call last)",
      "\u001b[0;32m<ipython-input-5-2c229a32e4a8>\u001b[0m in \u001b[0;36m<module>\u001b[0;34m\u001b[0m\n\u001b[0;32m----> 1\u001b[0;31m \u001b[0mn\u001b[0m \u001b[0;34m=\u001b[0m \u001b[0mint\u001b[0m\u001b[0;34m(\u001b[0m\u001b[0minput\u001b[0m\u001b[0;34m(\u001b[0m\u001b[0;34m)\u001b[0m\u001b[0;34m)\u001b[0m\u001b[0;34m\u001b[0m\u001b[0;34m\u001b[0m\u001b[0m\n\u001b[0m\u001b[1;32m      2\u001b[0m \u001b[0mname_numbers\u001b[0m \u001b[0;34m=\u001b[0m \u001b[0;34m[\u001b[0m\u001b[0minput\u001b[0m\u001b[0;34m(\u001b[0m\u001b[0;34m)\u001b[0m\u001b[0;34m.\u001b[0m\u001b[0msplit\u001b[0m\u001b[0;34m(\u001b[0m\u001b[0;34m)\u001b[0m \u001b[0;32mfor\u001b[0m \u001b[0m_\u001b[0m \u001b[0;32min\u001b[0m \u001b[0mrange\u001b[0m\u001b[0;34m(\u001b[0m\u001b[0mn\u001b[0m\u001b[0;34m)\u001b[0m\u001b[0;34m]\u001b[0m\u001b[0;34m\u001b[0m\u001b[0;34m\u001b[0m\u001b[0m\n\u001b[1;32m      3\u001b[0m \u001b[0mprint\u001b[0m\u001b[0;34m(\u001b[0m\u001b[0mname_numbers\u001b[0m\u001b[0;34m)\u001b[0m\u001b[0;34m\u001b[0m\u001b[0;34m\u001b[0m\u001b[0m\n\u001b[1;32m      4\u001b[0m \u001b[0mphone_book\u001b[0m \u001b[0;34m=\u001b[0m \u001b[0;34m{\u001b[0m\u001b[0mk\u001b[0m\u001b[0;34m:\u001b[0m \u001b[0mv\u001b[0m \u001b[0;32mfor\u001b[0m \u001b[0mk\u001b[0m\u001b[0;34m,\u001b[0m\u001b[0mv\u001b[0m \u001b[0;32min\u001b[0m \u001b[0mname_numbers\u001b[0m\u001b[0;34m}\u001b[0m\u001b[0;34m\u001b[0m\u001b[0;34m\u001b[0m\u001b[0m\n\u001b[1;32m      5\u001b[0m \u001b[0mprint\u001b[0m\u001b[0;34m(\u001b[0m\u001b[0mphone_book\u001b[0m\u001b[0;34m)\u001b[0m\u001b[0;34m\u001b[0m\u001b[0;34m\u001b[0m\u001b[0m\n",
      "\u001b[0;31mValueError\u001b[0m: invalid literal for int() with base 10: 'jhjh'"
     ]
    }
   ],
   "source": [
    "n = int(input())\n",
    "name_numbers = [input().split() for _ in range(n)]\n",
    "print(name_numbers)\n",
    "phone_book = {k: v for k,v in name_numbers}\n",
    "print(phone_book)"
   ]
  },
  {
   "cell_type": "markdown",
   "metadata": {},
   "source": [
    "#input_below\n",
    "\n",
    "#12\n",
    "#insert 0 5\n",
    "#insert 1 10\n",
    "#insert 0 6\n",
    "#print\n",
    "#remove 6\n",
    "#append 9\n",
    "#append 1\n",
    "#sort\n",
    "#print\n",
    "#pop\n",
    "#reverse\n",
    "#print\n",
    "\n",
    "#output\n",
    "\n",
    "#[6, 5, 10]\n",
    "#[1, 5, 9, 10]\n",
    "#[9, 5, 1]"
   ]
  },
  {
   "cell_type": "code",
   "execution_count": 7,
   "metadata": {},
   "outputs": [
    {
     "name": "stdout",
     "output_type": "stream",
     "text": [
      "1\n",
      "print\n",
      "[]\n"
     ]
    }
   ],
   "source": [
    "N = int(input())\n",
    "mylist=[]\n",
    "for _ in range(N):\n",
    "    args=input().split(\" \") #even if you do not give \" \" in split it will use \" \" by default\n",
    "    #print(args)\n",
    "    #print(type(args))\n",
    "    if args[0]==\"insert\":\n",
    "        mylist.insert(int(args[1]),int(args[2]))\n",
    "    elif args[0]==\"remove\":\n",
    "        mylist.remove(int(args[1]))\n",
    "    elif args[0]==\"reverse\":\n",
    "        mylist.reverse()\n",
    "    elif args[0]==\"sort\":\n",
    "        mylist.sort()\n",
    "    elif args[0]=='append':\n",
    "        mylist.append(int(args[1]))\n",
    "    elif args[0]==\"print\":\n",
    "        print(mylist)\n",
    "    elif args[0]==\"pop\":\n",
    "        mylist.pop()"
   ]
  },
  {
   "cell_type": "code",
   "execution_count": 8,
   "metadata": {},
   "outputs": [
    {
     "name": "stdout",
     "output_type": "stream",
     "text": [
      "2 2\n",
      "1 5\n",
      "7 9\n",
      "[ 3.  8.]\n",
      "[ 9.  4.]\n",
      "2.95803989155\n"
     ]
    }
   ],
   "source": [
    "#2 2\n",
    "#1 2\n",
    "#3 4\n",
    "\n",
    "import numpy as np\n",
    "\n",
    "n,m = map(int, input().split())\n",
    "b = []\n",
    "for i in range(n):\n",
    "    a = list(map(int, input().split()))\n",
    "    b.append(a)\n",
    "\n",
    "b = np.array(b)\n",
    "\n",
    "np.set_printoptions(legacy='1.13')\n",
    "print(np.mean(b, axis = 1))\n",
    "print(np.var(b, axis = 0))\n",
    "print(np.std(b))"
   ]
  },
  {
   "cell_type": "code",
   "execution_count": null,
   "metadata": {},
   "outputs": [],
   "source": [
    "mystring = list(map(str,input().split()))\n",
    "print(mystring)"
   ]
  },
  {
   "cell_type": "code",
   "execution_count": null,
   "metadata": {},
   "outputs": [],
   "source": [
    "mystring = set(map(str,input().split()))\n",
    "print(mystring)"
   ]
  },
  {
   "cell_type": "markdown",
   "metadata": {},
   "source": [
    "how to take input for a two dimensional array and find the sand timer sum for two = 3"
   ]
  },
  {
   "cell_type": "code",
   "execution_count": 9,
   "metadata": {},
   "outputs": [
    {
     "name": "stdout",
     "output_type": "stream",
     "text": [
      "1 1 1 0 0 0\n",
      "0 1 0 0 0 0\n",
      "1 1 1 0 0 0\n",
      "0 0 2 4 4 0\n",
      "0 0 0 2 0 0\n",
      "0 0 1 2 4 0\n",
      "19\n"
     ]
    }
   ],
   "source": [
    "import math\n",
    "import os\n",
    "import random\n",
    "import re\n",
    "import sys\n",
    "\n",
    "\n",
    "arr = []\n",
    "res = []\n",
    "\n",
    "for _ in range(6):\n",
    "    arr.append(list(map(int, input().rstrip().split())))\n",
    "\n",
    "for x in range(0, 4):\n",
    "    for y in range(0, 4):\n",
    "        s = sum(arr[x][y:y+3]) + arr[x+1][y+1] + sum(arr[x+2][y:y+3])\n",
    "        res.append(s)\n",
    "\n",
    "print(max(res))\n"
   ]
  },
  {
   "cell_type": "markdown",
   "metadata": {},
   "source": [
    "how to take input from two lines through a list\n",
    "problem: find the mean and weighted mean of the following numbers"
   ]
  },
  {
   "cell_type": "code",
   "execution_count": 2,
   "metadata": {},
   "outputs": [
    {
     "name": "stdout",
     "output_type": "stream",
     "text": [
      "5\n",
      "10 40 30 50 20\n",
      "1 2 3 4 5\n",
      "32.0\n"
     ]
    }
   ],
   "source": [
    "# Enter your code here. Read input from STDIN. Print output to STDOUT\n",
    "\n",
    "val = int(input())\n",
    "arraylist = list(map(int,input().split()))\n",
    "weightlist = list(map(int,input().split()))\n",
    "mysum = 0\n",
    "for i in range(val): \n",
    "    mysum = mysum + (arraylist[i] * weightlist[i])\n",
    "print(round(mysum/sum(weightlist),1))\n"
   ]
  },
  {
   "cell_type": "code",
   "execution_count": null,
   "metadata": {},
   "outputs": [],
   "source": []
  }
 ],
 "metadata": {
  "kernelspec": {
   "display_name": "Python 3",
   "language": "python",
   "name": "python3"
  },
  "language_info": {
   "codemirror_mode": {
    "name": "ipython",
    "version": 3
   },
   "file_extension": ".py",
   "mimetype": "text/x-python",
   "name": "python",
   "nbconvert_exporter": "python",
   "pygments_lexer": "ipython3",
   "version": "3.6.8"
  }
 },
 "nbformat": 4,
 "nbformat_minor": 2
}
