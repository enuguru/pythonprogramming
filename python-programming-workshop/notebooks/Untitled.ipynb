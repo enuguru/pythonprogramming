{
 "cells": [
  {
   "cell_type": "code",
   "execution_count": null,
   "metadata": {},
   "outputs": [],
   "source": [
    "numbers = [ 56, 45, 23, -3, 57 ]\n",
    "m1, m2 = float('inf'), float('inf')\n",
    "for x in numbers:\n",
    "    if x <= m1:\n",
    "        m1, m2 = x, m1\n",
    "    elif x < m2:\n",
    "        m2 = x\n",
    "print(m2)"
   ]
  },
  {
   "cell_type": "code",
   "execution_count": null,
   "metadata": {},
   "outputs": [],
   "source": [
    "import sys\n",
    "globallist = []\n",
    "num = int(input())\n",
    "for _ in range(num):\n",
    "    locallist = []\n",
    "    name = input()\n",
    "    locallist.append(name)\n",
    "    score = float(input())\n",
    "    locallist.append(score)\n",
    "    globallist.append(locallist)\n",
    "\n",
    "#m1, m2 = float('inf'), float('inf')\n",
    "m1,m2 = sys.maxsize, sys.maxsize\n",
    "for x in range(0,num):\n",
    "    if globallist[x][1] <= m1:\n",
    "        m1, m2 = globallist[x][1], m1\n",
    "    elif globallist[x][1] <= m2:\n",
    "        m2 = globallist[x][1]\n",
    "\n",
    "mylist = []\n",
    "for p in range(num):\n",
    "    if globallist[p][1] == m2:\n",
    "        mylist.append(globallist[p][0])\n",
    "\n",
    "mylist = sorted(mylist)\n",
    "for s in range(len(mylist)):\n",
    "    print(mylist[s])"
   ]
  },
  {
   "cell_type": "code",
   "execution_count": null,
   "metadata": {},
   "outputs": [],
   "source": [
    "#from __future__ import print_function\n",
    "score_list = {}\n",
    "for _ in range(int(input())):\n",
    "    name = input()\n",
    "    score = float(input())\n",
    "    if score in score_list:\n",
    "        score_list[score].append(name)\n",
    "    else:\n",
    "        score_list[score] = [name]\n",
    "print(score_list)\n",
    "new_list = []\n",
    "for i in score_list:\n",
    "    new_list.append([i, score_list[i]])\n",
    "new_list.sort()\n",
    "print(new_list)\n",
    "result = new_list[1][1]\n",
    "print(result)\n",
    "result.sort()\n",
    "print (*result, sep = \"\\n\")"
   ]
  },
  {
   "cell_type": "markdown",
   "metadata": {},
   "source": [
    "## 5\n",
    "Harsh\n",
    "20\n",
    "Beria\n",
    "20\n",
    "Varun\n",
    "19\n",
    "Kakunami\n",
    "19\n",
    "Vikas\n",
    "21"
   ]
  },
  {
   "cell_type": "code",
   "execution_count": 12,
   "metadata": {},
   "outputs": [
    {
     "name": "stdout",
     "output_type": "stream",
     "text": [
      "2\n",
      "Karthik 90 98 97\n",
      "Badri 95 94 93\n",
      "Badri\n",
      "2\n",
      "{'Karthik': [90.0, 98.0, 97.0], 'Badri': [95.0, 94.0, 93.0]}\n",
      "94.00\n"
     ]
    }
   ],
   "source": [
    "count = int(input())\n",
    "student_marks = {}\n",
    "for val in range(0,count):\n",
    "    name, *line = input().split()\n",
    "    scores = list(map(float, line))\n",
    "    student_marks[name] = scores\n",
    "query_name = input()\n",
    "print(\"{:.2f}\".format(sum(student_marks[query_name]) / 3))"
   ]
  },
  {
   "cell_type": "code",
   "execution_count": null,
   "metadata": {},
   "outputs": [],
   "source": []
  }
 ],
 "metadata": {
  "kernelspec": {
   "display_name": "Python 3",
   "language": "python",
   "name": "python3"
  },
  "language_info": {
   "codemirror_mode": {
    "name": "ipython",
    "version": 3
   },
   "file_extension": ".py",
   "mimetype": "text/x-python",
   "name": "python",
   "nbconvert_exporter": "python",
   "pygments_lexer": "ipython3",
   "version": "3.8.5"
  }
 },
 "nbformat": 4,
 "nbformat_minor": 2
}
