{
 "cells": [
  {
   "cell_type": "code",
   "execution_count": 1,
   "metadata": {},
   "outputs": [],
   "source": [
    "#5\n",
    "#ID         MARKS      NAME       CLASS     \n",
    "#1          97         Sripriya   7         \n",
    "#2          50         Sonam      4         \n",
    "#3          91         Adrian     9         \n",
    "#4          72         Himanshu   5         \n",
    "#5          80         Selvan     6"
   ]
  },
  {
   "cell_type": "code",
   "execution_count": 3,
   "metadata": {},
   "outputs": [
    {
     "name": "stdout",
     "output_type": "stream",
     "text": [
      "3\n",
      "ID MARKS NAME CLASS\n",
      "1 97 Sripriya 7\n",
      "2 99 Sonam 4\n",
      "3 98 Adrian 9\n",
      "98.0\n"
     ]
    }
   ],
   "source": [
    "# Enter your code here. Read input from STDIN. Print output to STDOUT\n",
    "\n",
    "from collections import namedtuple\n",
    "N = int(input())\n",
    "student = namedtuple('student',input().split())\n",
    "print(sum(float(student(*input().split()).MARKS) for _ in range(N))/N)"
   ]
  },
  {
   "cell_type": "code",
   "execution_count": 4,
   "metadata": {},
   "outputs": [],
   "source": [
    "#6\n",
    "#append 1\n",
    "#append 2\n",
    "#append 3\n",
    "#appendleft 4\n",
    "#pop\n",
    "#popleft"
   ]
  },
  {
   "cell_type": "code",
   "execution_count": 5,
   "metadata": {},
   "outputs": [
    {
     "name": "stdout",
     "output_type": "stream",
     "text": [
      "3\n",
      "append 2\n",
      "append 4\n",
      "pop\n",
      "2 "
     ]
    }
   ],
   "source": [
    "# Enter your code here. Read input from STDIN. Print output to STDOUT\n",
    "from collections import deque\n",
    "n=int(input())\n",
    "d=deque()\n",
    "for i in range(n):\n",
    "    args=input().split()\n",
    "    if args[0]=='append':\n",
    "        d.append(args[1])\n",
    "    elif args[0]=='appendleft':\n",
    "        d.appendleft(args[1])\n",
    "    elif args[0]=='pop':\n",
    "        d.pop()\n",
    "    elif args[0]=='popleft':\n",
    "        d.popleft()\n",
    "\n",
    "for i in d:\n",
    "    print(i,end=' ')"
   ]
  },
  {
   "cell_type": "markdown",
   "metadata": {},
   "source": [
    "Usually, a Python dictionary throws a KeyError if you try to get an item with a key that is not currently in the dictionary. The defaultdict in contrast will simply create any items that you try to access - provided they do not exist yet"
   ]
  },
  {
   "cell_type": "code",
   "execution_count": 11,
   "metadata": {},
   "outputs": [
    {
     "ename": "SyntaxError",
     "evalue": "invalid syntax (<ipython-input-11-ec8d9879192a>, line 2)",
     "output_type": "error",
     "traceback": [
      "\u001b[0;36m  File \u001b[0;32m\"<ipython-input-11-ec8d9879192a>\"\u001b[0;36m, line \u001b[0;32m2\u001b[0m\n\u001b[0;31m    somedict = {`}\u001b[0m\n\u001b[0m                ^\u001b[0m\n\u001b[0;31mSyntaxError\u001b[0m\u001b[0;31m:\u001b[0m invalid syntax\n"
     ]
    }
   ],
   "source": [
    "from collections import defaultdict\n",
    "somedict = {`}\n",
    "print(somedict[3]) # KeyError"
   ]
  },
  {
   "cell_type": "code",
   "execution_count": 12,
   "metadata": {},
   "outputs": [
    {
     "name": "stdout",
     "output_type": "stream",
     "text": [
      "0\n"
     ]
    }
   ],
   "source": [
    "someddict = defaultdict(int)\n",
    "print(someddict[3]) # print int(), thus 0"
   ]
  },
  {
   "cell_type": "code",
   "execution_count": null,
   "metadata": {},
   "outputs": [],
   "source": [
    "# 4\n",
    "# create\n",
    "# ate\n",
    "# ate\n",
    "# simulate"
   ]
  },
  {
   "cell_type": "code",
   "execution_count": null,
   "metadata": {},
   "outputs": [],
   "source": [
    "from collections import defaultdict \n",
    "\n",
    "num = int(input())\n",
    "newdict = defaultdict(int)\n",
    "newset = set()\n",
    "for i in range(num):\n",
    "    word = input()\n",
    "    newset.add(word)\n",
    "    newdict[word] = newdict[word] + 1\n",
    "print(len(newset))\n",
    "for val in newdict.values():\n",
    "    print(val,end=\" \")"
   ]
  },
  {
   "cell_type": "code",
   "execution_count": null,
   "metadata": {},
   "outputs": [],
   "source": [
    "#2\n",
    "#6\n",
    "#4 3 2 1 3 4\n",
    "#3\n",
    "#1 3 2"
   ]
  },
  {
   "cell_type": "code",
   "execution_count": null,
   "metadata": {},
   "outputs": [],
   "source": [
    "for t in range(int(input())):\n",
    "    input()\n",
    "    lst = [int(i) for i in input().split()]\n",
    "    min_list = lst.index(min(lst))\n",
    "    left = lst[:min_list]\n",
    "\n",
    "    right = lst[min_list+1:]\n",
    "    \n",
    "    if left == sorted(left,reverse=True) and right == sorted(right):\n",
    "        print(\"Yes\")\n",
    "    else:\n",
    "        print(\"No\")"
   ]
  },
  {
   "cell_type": "code",
   "execution_count": null,
   "metadata": {},
   "outputs": [],
   "source": []
  }
 ],
 "metadata": {
  "kernelspec": {
   "display_name": "Python 3",
   "language": "python",
   "name": "python3"
  },
  "language_info": {
   "codemirror_mode": {
    "name": "ipython",
    "version": 3
   },
   "file_extension": ".py",
   "mimetype": "text/x-python",
   "name": "python",
   "nbconvert_exporter": "python",
   "pygments_lexer": "ipython3",
   "version": "3.6.8"
  }
 },
 "nbformat": 4,
 "nbformat_minor": 2
}
