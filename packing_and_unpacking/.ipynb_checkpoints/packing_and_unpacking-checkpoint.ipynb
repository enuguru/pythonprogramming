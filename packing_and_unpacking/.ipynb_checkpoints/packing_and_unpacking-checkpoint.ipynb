{
 "cells": [
  {
   "cell_type": "code",
   "execution_count": 2,
   "metadata": {},
   "outputs": [
    {
     "name": "stdout",
     "output_type": "stream",
     "text": [
      "45 34\n"
     ]
    }
   ],
   "source": [
    "a, b = 45, 34\n",
    "print(a, b)"
   ]
  },
  {
   "cell_type": "code",
   "execution_count": 6,
   "metadata": {},
   "outputs": [
    {
     "name": "stdout",
     "output_type": "stream",
     "text": [
      "45 55\n"
     ]
    }
   ],
   "source": [
    "x, y = 45, 55\n",
    "x, y = (45,55)\n",
    "(x, y) = 45, 55\n",
    "(x, y) = (45, 55)\n",
    "print(x, y)"
   ]
  },
  {
   "cell_type": "code",
   "execution_count": 7,
   "metadata": {},
   "outputs": [
    {
     "data": {
      "text/plain": [
       "45"
      ]
     },
     "execution_count": 7,
     "metadata": {},
     "output_type": "execute_result"
    }
   ],
   "source": [
    "x"
   ]
  },
  {
   "cell_type": "code",
   "execution_count": 8,
   "metadata": {},
   "outputs": [
    {
     "data": {
      "text/plain": [
       "55"
      ]
     },
     "execution_count": 8,
     "metadata": {},
     "output_type": "execute_result"
    }
   ],
   "source": [
    "y"
   ]
  },
  {
   "cell_type": "code",
   "execution_count": 10,
   "metadata": {},
   "outputs": [
    {
     "name": "stdout",
     "output_type": "stream",
     "text": [
      "(25, 35, 45)\n"
     ]
    }
   ],
   "source": [
    "(point) = 25, 35, 45\n",
    "x, y, z = point\n",
    "print(point)"
   ]
  },
  {
   "cell_type": "code",
   "execution_count": 37,
   "metadata": {},
   "outputs": [
    {
     "name": "stdout",
     "output_type": "stream",
     "text": [
      "20 [30, 40, 50]\n",
      "[20, 30, 40] 50\n",
      "20 [30, 40, 50] 60\n"
     ]
    }
   ],
   "source": [
    "head, *rest = [20, 30, 40, 50]\n",
    "print(head, rest)  # 20 [30, 40, 50]\n",
    "*rest, tail = [20, 30, 40, 50]\n",
    "print(rest, tail)  # [20, 30, 40] 50\n",
    "head, *middle, tail = [20, 30, 40, 50, 60]\n",
    "print(head, middle, tail)  # 20 [30] 40"
   ]
  },
  {
   "cell_type": "code",
   "execution_count": 11,
   "metadata": {},
   "outputs": [
    {
     "name": "stdout",
     "output_type": "stream",
     "text": [
      "45 25 35\n"
     ]
    }
   ],
   "source": [
    "x, y, z = z, x, y\n",
    "print(x, y, z)"
   ]
  },
  {
   "cell_type": "code",
   "execution_count": 15,
   "metadata": {},
   "outputs": [
    {
     "name": "stdout",
     "output_type": "stream",
     "text": [
      "{'name': 'Muthu', 'Company': 'Treebow Tecnology Inc'}\n"
     ]
    }
   ],
   "source": [
    "name_dictionary = {'name': \"Muthu\", 'Company': \"Treebow Tecnology Inc\"}\n",
    "print(name_dictionary)"
   ]
  },
  {
   "cell_type": "code",
   "execution_count": 17,
   "metadata": {},
   "outputs": [
    {
     "name": "stdout",
     "output_type": "stream",
     "text": [
      "Key name has value Muthu\n",
      "Key Company has value Treebow Tecnology Inc\n"
     ]
    }
   ],
   "source": [
    "for item in name_dictionary.items():\n",
    "    print(f\"Key {item[0]} has value {item[1]}\")"
   ]
  },
  {
   "cell_type": "code",
   "execution_count": null,
   "metadata": {},
   "outputs": [],
   "source": []
  },
  {
   "cell_type": "code",
   "execution_count": 28,
   "metadata": {},
   "outputs": [
    {
     "name": "stdout",
     "output_type": "stream",
     "text": [
      "A tuple (1, 2)\n",
      "A tuple (3, 4)\n",
      "A tuple (5, 6)\n"
     ]
    }
   ],
   "source": [
    "x = [(1,2), (3,4), (5,6)]\n",
    "for item in x:\n",
    "    print(\"A tuple\", item)"
   ]
  },
  {
   "cell_type": "code",
   "execution_count": 31,
   "metadata": {},
   "outputs": [
    {
     "name": "stdout",
     "output_type": "stream",
     "text": [
      "First 1 then 2\n",
      "First 3 then 4\n",
      "First 5 then 6\n"
     ]
    }
   ],
   "source": [
    "for a, b in x:\n",
    "    print(\"First\", a, \"then\", b)"
   ]
  },
  {
   "cell_type": "code",
   "execution_count": null,
   "metadata": {},
   "outputs": [],
   "source": [
    "# enumerate basically gives you an index to work with in a for loop\n",
    "for i,a in enumerate([4, 5, 6, 7]):\n",
    "    print i, \": \", a"
   ]
  },
  {
   "cell_type": "code",
   "execution_count": null,
   "metadata": {},
   "outputs": [],
   "source": []
  },
  {
   "cell_type": "code",
   "execution_count": 33,
   "metadata": {},
   "outputs": [
    {
     "name": "stdout",
     "output_type": "stream",
     "text": [
      "10 20\n"
     ]
    }
   ],
   "source": [
    "# Unpacking on RHS of assignments\n",
    "\n",
    "def dothis(a, b):\n",
    "  print(a, b)\n",
    "\n",
    "mylist = [10, 20]\n",
    "dothis(*mylist)"
   ]
  },
  {
   "cell_type": "code",
   "execution_count": 34,
   "metadata": {},
   "outputs": [
    {
     "name": "stdout",
     "output_type": "stream",
     "text": [
      "(1, 2, 3) {'a': 4, 'b': 5}\n"
     ]
    }
   ],
   "source": [
    "# Unpacking on LHS of assignments\n",
    "# The special syntax *args in function definitions in python is used to pass a \n",
    "# variable number of arguments to a function. It is used to pass a non-keyworded, variable-length argument list\n",
    "\n",
    "\n",
    "def dothis(*args, **kwargs):\n",
    "    print(args, kwargs)\n",
    "    \n",
    "dothis(1, 2, 3, a=4, b=5)"
   ]
  },
  {
   "cell_type": "code",
   "execution_count": 1,
   "metadata": {},
   "outputs": [
    {
     "name": "stdout",
     "output_type": "stream",
     "text": [
      "Hello\n",
      "Welcome\n",
      "to\n",
      "GeeksforGeeks\n"
     ]
    }
   ],
   "source": [
    "# Python program to illustrate   \n",
    "# *args for variable number of arguments \n",
    "def myFun(*argv):  \n",
    "    for arg in argv:  \n",
    "        print (arg) \n",
    "    \n",
    "myFun('Hello', 'Welcome', 'to', 'Python session')  "
   ]
  },
  {
   "cell_type": "code",
   "execution_count": 18,
   "metadata": {},
   "outputs": [
    {
     "name": "stdout",
     "output_type": "stream",
     "text": [
      "1 2 3 4\n"
     ]
    }
   ],
   "source": [
    "# A sample function that takes 4 arguments \n",
    "# and prints the, \n",
    "def fun(a, b, c, d): \n",
    "    print(a, b, c, d) \n",
    "  \n",
    "# Driver Code \n",
    "my_list = [1, 2, 3, 4] \n",
    "  \n",
    "# Unpacking list into four arguments \n",
    "fun(*my_list) "
   ]
  },
  {
   "cell_type": "code",
   "execution_count": 20,
   "metadata": {},
   "outputs": [
    {
     "name": "stdout",
     "output_type": "stream",
     "text": [
      "range(3, 6)\n",
      "range(3, 6)\n"
     ]
    }
   ],
   "source": [
    "print(range(3, 6))  # normal call with separate arguments \n",
    "\n",
    "args = [3, 6] \n",
    "\n",
    "print(range(*args))  # call with arguments unpacked from a list \n"
   ]
  },
  {
   "cell_type": "code",
   "execution_count": 21,
   "metadata": {},
   "outputs": [
    {
     "name": "stdout",
     "output_type": "stream",
     "text": [
      "15\n",
      "30\n"
     ]
    }
   ],
   "source": [
    "# A Python program to demonstrate use \n",
    "# of packing \n",
    "  \n",
    "# This function uses packing to sum \n",
    "# unknown number of arguments \n",
    "def mySum(*args): \n",
    "    sum = 0\n",
    "    for i in range(0, len(args)): \n",
    "        sum = sum + args[i] \n",
    "    return sum \n",
    "  \n",
    "# Driver code \n",
    "print(mySum(1, 2, 3, 4, 5)) \n",
    "print(mySum(10, 20)) "
   ]
  },
  {
   "cell_type": "code",
   "execution_count": 22,
   "metadata": {},
   "outputs": [
    {
     "name": "stdout",
     "output_type": "stream",
     "text": [
      "Geeksforgeeks awesome world!\n"
     ]
    }
   ],
   "source": [
    "# A Python program to demonstrate both packing and \n",
    "# unpacking. \n",
    "  \n",
    "# A sample python function that takes three arguments \n",
    "# and prints them \n",
    "def fun1(a, b, c): \n",
    "    print(a, b, c) \n",
    "  \n",
    "# Another sample function. \n",
    "# This is an example of PACKING. All arguments passed \n",
    "# to fun2 are packed into tuple *args. \n",
    "def fun2(*args): \n",
    "  \n",
    "    # Convert args tuple to a list so we can modify it \n",
    "    args = list(args) \n",
    "  \n",
    "    # Modifying args \n",
    "    args[0] = 'Geeksforgeeks'\n",
    "    args[1] = 'awesome'\n",
    "  \n",
    "    # UNPACKING args and calling fun1() \n",
    "    fun1(*args) \n",
    "  \n",
    "# Driver code \n",
    "fun2('Hello', 'beautiful', 'world!') "
   ]
  },
  {
   "cell_type": "code",
   "execution_count": 23,
   "metadata": {},
   "outputs": [
    {
     "name": "stdout",
     "output_type": "stream",
     "text": [
      "2 4 10\n"
     ]
    }
   ],
   "source": [
    "# A sample program to demonstrate unpacking of \n",
    "# dictionary items using ** \n",
    "def fun(a, b, c): \n",
    "    print(a, b, c) \n",
    "  \n",
    "# A call with unpacking of dictionary \n",
    "d = {'a':2, 'b':4, 'c':10} \n",
    "fun(**d) "
   ]
  },
  {
   "cell_type": "code",
   "execution_count": 24,
   "metadata": {},
   "outputs": [
    {
     "name": "stdout",
     "output_type": "stream",
     "text": [
      "<class 'dict'>\n",
      "name = geeks\n",
      "ID = 101\n",
      "language = Python\n"
     ]
    }
   ],
   "source": [
    "# A Python program to demonstrate packing of \n",
    "# dictionary items using ** \n",
    "def fun(**kwargs): \n",
    "  \n",
    "    # kwargs is a dict \n",
    "    print(type(kwargs)) \n",
    "  \n",
    "    # Printing dictionary items \n",
    "    for key in kwargs: \n",
    "        print(\"%s = %s\" % (key, kwargs[key])) \n",
    "  \n",
    "# Driver code \n",
    "fun(name=\"geeks\", ID=\"101\", language=\"Python\") \n"
   ]
  },
  {
   "cell_type": "code",
   "execution_count": null,
   "metadata": {},
   "outputs": [],
   "source": []
  }
 ],
 "metadata": {
  "kernelspec": {
   "display_name": "Python 3",
   "language": "python",
   "name": "python3"
  },
  "language_info": {
   "codemirror_mode": {
    "name": "ipython",
    "version": 3
   },
   "file_extension": ".py",
   "mimetype": "text/x-python",
   "name": "python",
   "nbconvert_exporter": "python",
   "pygments_lexer": "ipython3",
   "version": "3.7.4"
  }
 },
 "nbformat": 4,
 "nbformat_minor": 2
}
